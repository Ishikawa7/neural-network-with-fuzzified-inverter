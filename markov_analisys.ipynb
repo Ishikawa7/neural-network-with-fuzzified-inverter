{
 "cells": [
  {
   "cell_type": "code",
   "execution_count": 165,
   "metadata": {},
   "outputs": [],
   "source": [
    "import numpy as np\n",
    "import pandas as pd\n",
    "\n",
    "import matplotlib.pyplot as plt\n",
    "import seaborn as sns\n",
    "import plotly\n",
    "import plotly.express as px\n",
    "import plotly.graph_objects as go\n",
    "sns.set()\n",
    "\n",
    "import sigma_equation as se"
   ]
  },
  {
   "cell_type": "code",
   "execution_count": 166,
   "metadata": {},
   "outputs": [],
   "source": [
    "subjects = [\"soggetto_1\",\"soggetto_2\",\"soggetto_3\",\"soggetto_6\",\"soggetto_7\",\"soggetto_8\"]"
   ]
  },
  {
   "cell_type": "code",
   "execution_count": 167,
   "metadata": {},
   "outputs": [],
   "source": [
    "df_o_dict = {}\n",
    "for subject in subjects:\n",
    "    df_o_dict[subject] = pd.read_csv(\"Datasets/{}_weights_o.csv\".format(subject))\n",
    "    df_o_dict[subject].columns = [\"TrRi\",\"RiTr\",\"Plu\",\"Ttra\",\"Ttrb\",\"Tr\",\"MeTr\",\"MoTr\",\"RiRi\",\"MoFo\",\"Mmof\",\"MoRi\",\"MeRi\",\"Ri\",\"Comp\"]\n",
    "    df_o_dict[subject].index = df_o_dict[subject].columns"
   ]
  },
  {
   "cell_type": "code",
   "execution_count": 168,
   "metadata": {},
   "outputs": [
    {
     "data": {
      "application/vnd.plotly.v1+json": {
       "config": {
        "plotlyServerURL": "https://plot.ly"
       },
       "data": [
        {
         "coloraxis": "coloraxis",
         "hovertemplate": "x: %{x}<br>y: %{y}<br>color: %{z}<extra></extra>",
         "name": "0",
         "texttemplate": "%{z:.2}",
         "type": "heatmap",
         "x": [
          "TrRi",
          "RiTr",
          "Plu",
          "Ttra",
          "Ttrb",
          "Tr",
          "MeTr",
          "MoTr",
          "RiRi",
          "MoFo",
          "Mmof",
          "MoRi",
          "MeRi",
          "Ri",
          "Comp"
         ],
         "xaxis": "x",
         "y": [
          "TrRi",
          "RiTr",
          "Plu",
          "Ttra",
          "Ttrb",
          "Tr",
          "MeTr",
          "MoTr",
          "RiRi",
          "MoFo",
          "Mmof",
          "MoRi",
          "MeRi",
          "Ri",
          "Comp"
         ],
         "yaxis": "y",
         "z": [
          [
           -0.77099067,
           -0.75194544,
           -0.0031957452,
           -0.47596684,
           -0.28800264,
           -0.31989574,
           -0.23784594,
           -0.6679092,
           -0.3112356,
           -0.31390885,
           -0.47660935,
           -0.37937626,
           -0.13296053,
           -0.5631914,
           -0.26720637
          ],
          [
           -0.24786153,
           -0.21379124,
           -0.26330683,
           -0.4527903,
           -0.036305074,
           -0.2650569,
           -0.0403106,
           -0.21613808,
           0.19500633,
           -0.28526914,
           0.14292628,
           -0.066996776,
           -0.32981998,
           -0.39861375,
           0.31115097
          ],
          [
           0.29635653,
           0.14363717,
           -0.27459618,
           0.40125653,
           -0.51365423,
           -0.032018952,
           -0.60652953,
           0.4660107,
           0.23426223,
           0.09581321,
           0.06405198,
           -0.191375,
           0.1299137,
           0.2656135,
           -0.41713753
          ],
          [
           0.18305951,
           0.48358506,
           0.5013026,
           0.105587,
           -0.2697597,
           0.24331734,
           0.46555048,
           0.11881862,
           0.741436,
           0.15804435,
           0.5055774,
           0.64968115,
           -0.35433593,
           -0.02762006,
           -0.9247762
          ],
          [
           0.18462712,
           0.09457647,
           0.25524414,
           0.079634,
           0.4332923,
           0.10807813,
           0.71855617,
           0.20703161,
           0.21847136,
           0.14541925,
           0.25115153,
           0.29443455,
           -0.09557085,
           -0.1291017,
           0.46138984
          ],
          [
           -0.101070374,
           0.33974558,
           0.10413005,
           0.17569065,
           0.17829144,
           0.19216545,
           -0.14872648,
           0.29897103,
           0.25772786,
           0.36977762,
           0.32070976,
           0.04628461,
           -0.35847995,
           -0.2932065,
           0.078602195
          ],
          [
           0.28383553,
           -0.17264487,
           0.08433197,
           -0.112212904,
           -0.095082134,
           -0.11842903,
           0.37710613,
           -0.21288241,
           0.2598656,
           -0.5111818,
           0.034456715,
           0.27169132,
           -0.36280292,
           0.33074316,
           0.40545067
          ],
          [
           -0.35084584,
           -0.11804,
           0.09556225,
           0.11543027,
           -0.20103642,
           0.017603507,
           0.27899256,
           -0.18115382,
           -0.20140819,
           0.20103529,
           -0.035057515,
           -0.13748021,
           -0.2588619,
           -0.12949327,
           -0.14570223
          ],
          [
           -0.124972,
           -0.4442972,
           -0.2650064,
           -0.02889924,
           0.31595156,
           -0.31029284,
           -0.49108234,
           -0.3959863,
           -0.17046197,
           -0.28108555,
           -0.18553127,
           -0.44867778,
           0.25783038,
           -0.24429409,
           -0.22608212
          ],
          [
           0.23544988,
           0.20907383,
           0.32344252,
           0.5544243,
           0.071988955,
           0.37477413,
           0.07938151,
           0.2430828,
           0.017235877,
           0.4275401,
           0.0075226496,
           0.060270507,
           0.07543571,
           0.55825186,
           -0.19065915
          ],
          [
           0.13742514,
           0.09288936,
           0.31836274,
           0.21952276,
           0.54740655,
           0.24281904,
           -0.21605156,
           0.13317223,
           0.19709656,
           0.25271556,
           0.17992996,
           0.17044704,
           0.54934186,
           0.1704002,
           0.048966974
          ],
          [
           -0.5319655,
           -0.012310727,
           -0.26856896,
           0.33038875,
           -0.07766018,
           -0.33964962,
           0.5826193,
           -0.16103691,
           0.15246426,
           -0.123318456,
           -0.36975396,
           -0.3897474,
           0.018499892,
           -0.17200547,
           0.15796213
          ],
          [
           0.2642979,
           0.23375629,
           -0.447416,
           0.09309651,
           0.21650295,
           -0.12630284,
           0.14565657,
           -0.14054841,
           -0.46482104,
           -0.09266722,
           -0.2027252,
           -0.3758678,
           -0.36310747,
           -0.00096902973,
           0.118294895
          ],
          [
           0.16643852,
           0.05077204,
           0.24369873,
           0.4640911,
           -0.6645738,
           -0.043443657,
           -0.66360813,
           0.32421646,
           0.19269057,
           0.1538878,
           0.1657757,
           0.38504708,
           -0.43219563,
           0.09904417,
           -0.517191
          ],
          [
           -0.109049834,
           -0.08375879,
           -0.0263581,
           0.06924623,
           0.21701603,
           0.013585477,
           0.80235237,
           -0.15780586,
           -0.13479215,
           0.13585095,
           -0.0634731,
           -0.22717534,
           0.014156392,
           -0.10406953,
           -0.2257681
          ]
         ]
        }
       ],
       "layout": {
        "coloraxis": {
         "cmax": 5,
         "cmid": 0,
         "cmin": -5,
         "colorscale": [
          [
           0,
           "rgb(5,48,97)"
          ],
          [
           0.1,
           "rgb(33,102,172)"
          ],
          [
           0.2,
           "rgb(67,147,195)"
          ],
          [
           0.3,
           "rgb(146,197,222)"
          ],
          [
           0.4,
           "rgb(209,229,240)"
          ],
          [
           0.5,
           "rgb(247,247,247)"
          ],
          [
           0.6,
           "rgb(253,219,199)"
          ],
          [
           0.7,
           "rgb(244,165,130)"
          ],
          [
           0.8,
           "rgb(214,96,77)"
          ],
          [
           0.9,
           "rgb(178,24,43)"
          ],
          [
           1,
           "rgb(103,0,31)"
          ]
         ]
        },
        "template": {
         "data": {
          "bar": [
           {
            "error_x": {
             "color": "#2a3f5f"
            },
            "error_y": {
             "color": "#2a3f5f"
            },
            "marker": {
             "line": {
              "color": "#E5ECF6",
              "width": 0.5
             },
             "pattern": {
              "fillmode": "overlay",
              "size": 10,
              "solidity": 0.2
             }
            },
            "type": "bar"
           }
          ],
          "barpolar": [
           {
            "marker": {
             "line": {
              "color": "#E5ECF6",
              "width": 0.5
             },
             "pattern": {
              "fillmode": "overlay",
              "size": 10,
              "solidity": 0.2
             }
            },
            "type": "barpolar"
           }
          ],
          "carpet": [
           {
            "aaxis": {
             "endlinecolor": "#2a3f5f",
             "gridcolor": "white",
             "linecolor": "white",
             "minorgridcolor": "white",
             "startlinecolor": "#2a3f5f"
            },
            "baxis": {
             "endlinecolor": "#2a3f5f",
             "gridcolor": "white",
             "linecolor": "white",
             "minorgridcolor": "white",
             "startlinecolor": "#2a3f5f"
            },
            "type": "carpet"
           }
          ],
          "choropleth": [
           {
            "colorbar": {
             "outlinewidth": 0,
             "ticks": ""
            },
            "type": "choropleth"
           }
          ],
          "contour": [
           {
            "colorbar": {
             "outlinewidth": 0,
             "ticks": ""
            },
            "colorscale": [
             [
              0,
              "#0d0887"
             ],
             [
              0.1111111111111111,
              "#46039f"
             ],
             [
              0.2222222222222222,
              "#7201a8"
             ],
             [
              0.3333333333333333,
              "#9c179e"
             ],
             [
              0.4444444444444444,
              "#bd3786"
             ],
             [
              0.5555555555555556,
              "#d8576b"
             ],
             [
              0.6666666666666666,
              "#ed7953"
             ],
             [
              0.7777777777777778,
              "#fb9f3a"
             ],
             [
              0.8888888888888888,
              "#fdca26"
             ],
             [
              1,
              "#f0f921"
             ]
            ],
            "type": "contour"
           }
          ],
          "contourcarpet": [
           {
            "colorbar": {
             "outlinewidth": 0,
             "ticks": ""
            },
            "type": "contourcarpet"
           }
          ],
          "heatmap": [
           {
            "colorbar": {
             "outlinewidth": 0,
             "ticks": ""
            },
            "colorscale": [
             [
              0,
              "#0d0887"
             ],
             [
              0.1111111111111111,
              "#46039f"
             ],
             [
              0.2222222222222222,
              "#7201a8"
             ],
             [
              0.3333333333333333,
              "#9c179e"
             ],
             [
              0.4444444444444444,
              "#bd3786"
             ],
             [
              0.5555555555555556,
              "#d8576b"
             ],
             [
              0.6666666666666666,
              "#ed7953"
             ],
             [
              0.7777777777777778,
              "#fb9f3a"
             ],
             [
              0.8888888888888888,
              "#fdca26"
             ],
             [
              1,
              "#f0f921"
             ]
            ],
            "type": "heatmap"
           }
          ],
          "heatmapgl": [
           {
            "colorbar": {
             "outlinewidth": 0,
             "ticks": ""
            },
            "colorscale": [
             [
              0,
              "#0d0887"
             ],
             [
              0.1111111111111111,
              "#46039f"
             ],
             [
              0.2222222222222222,
              "#7201a8"
             ],
             [
              0.3333333333333333,
              "#9c179e"
             ],
             [
              0.4444444444444444,
              "#bd3786"
             ],
             [
              0.5555555555555556,
              "#d8576b"
             ],
             [
              0.6666666666666666,
              "#ed7953"
             ],
             [
              0.7777777777777778,
              "#fb9f3a"
             ],
             [
              0.8888888888888888,
              "#fdca26"
             ],
             [
              1,
              "#f0f921"
             ]
            ],
            "type": "heatmapgl"
           }
          ],
          "histogram": [
           {
            "marker": {
             "pattern": {
              "fillmode": "overlay",
              "size": 10,
              "solidity": 0.2
             }
            },
            "type": "histogram"
           }
          ],
          "histogram2d": [
           {
            "colorbar": {
             "outlinewidth": 0,
             "ticks": ""
            },
            "colorscale": [
             [
              0,
              "#0d0887"
             ],
             [
              0.1111111111111111,
              "#46039f"
             ],
             [
              0.2222222222222222,
              "#7201a8"
             ],
             [
              0.3333333333333333,
              "#9c179e"
             ],
             [
              0.4444444444444444,
              "#bd3786"
             ],
             [
              0.5555555555555556,
              "#d8576b"
             ],
             [
              0.6666666666666666,
              "#ed7953"
             ],
             [
              0.7777777777777778,
              "#fb9f3a"
             ],
             [
              0.8888888888888888,
              "#fdca26"
             ],
             [
              1,
              "#f0f921"
             ]
            ],
            "type": "histogram2d"
           }
          ],
          "histogram2dcontour": [
           {
            "colorbar": {
             "outlinewidth": 0,
             "ticks": ""
            },
            "colorscale": [
             [
              0,
              "#0d0887"
             ],
             [
              0.1111111111111111,
              "#46039f"
             ],
             [
              0.2222222222222222,
              "#7201a8"
             ],
             [
              0.3333333333333333,
              "#9c179e"
             ],
             [
              0.4444444444444444,
              "#bd3786"
             ],
             [
              0.5555555555555556,
              "#d8576b"
             ],
             [
              0.6666666666666666,
              "#ed7953"
             ],
             [
              0.7777777777777778,
              "#fb9f3a"
             ],
             [
              0.8888888888888888,
              "#fdca26"
             ],
             [
              1,
              "#f0f921"
             ]
            ],
            "type": "histogram2dcontour"
           }
          ],
          "mesh3d": [
           {
            "colorbar": {
             "outlinewidth": 0,
             "ticks": ""
            },
            "type": "mesh3d"
           }
          ],
          "parcoords": [
           {
            "line": {
             "colorbar": {
              "outlinewidth": 0,
              "ticks": ""
             }
            },
            "type": "parcoords"
           }
          ],
          "pie": [
           {
            "automargin": true,
            "type": "pie"
           }
          ],
          "scatter": [
           {
            "fillpattern": {
             "fillmode": "overlay",
             "size": 10,
             "solidity": 0.2
            },
            "type": "scatter"
           }
          ],
          "scatter3d": [
           {
            "line": {
             "colorbar": {
              "outlinewidth": 0,
              "ticks": ""
             }
            },
            "marker": {
             "colorbar": {
              "outlinewidth": 0,
              "ticks": ""
             }
            },
            "type": "scatter3d"
           }
          ],
          "scattercarpet": [
           {
            "marker": {
             "colorbar": {
              "outlinewidth": 0,
              "ticks": ""
             }
            },
            "type": "scattercarpet"
           }
          ],
          "scattergeo": [
           {
            "marker": {
             "colorbar": {
              "outlinewidth": 0,
              "ticks": ""
             }
            },
            "type": "scattergeo"
           }
          ],
          "scattergl": [
           {
            "marker": {
             "colorbar": {
              "outlinewidth": 0,
              "ticks": ""
             }
            },
            "type": "scattergl"
           }
          ],
          "scattermapbox": [
           {
            "marker": {
             "colorbar": {
              "outlinewidth": 0,
              "ticks": ""
             }
            },
            "type": "scattermapbox"
           }
          ],
          "scatterpolar": [
           {
            "marker": {
             "colorbar": {
              "outlinewidth": 0,
              "ticks": ""
             }
            },
            "type": "scatterpolar"
           }
          ],
          "scatterpolargl": [
           {
            "marker": {
             "colorbar": {
              "outlinewidth": 0,
              "ticks": ""
             }
            },
            "type": "scatterpolargl"
           }
          ],
          "scatterternary": [
           {
            "marker": {
             "colorbar": {
              "outlinewidth": 0,
              "ticks": ""
             }
            },
            "type": "scatterternary"
           }
          ],
          "surface": [
           {
            "colorbar": {
             "outlinewidth": 0,
             "ticks": ""
            },
            "colorscale": [
             [
              0,
              "#0d0887"
             ],
             [
              0.1111111111111111,
              "#46039f"
             ],
             [
              0.2222222222222222,
              "#7201a8"
             ],
             [
              0.3333333333333333,
              "#9c179e"
             ],
             [
              0.4444444444444444,
              "#bd3786"
             ],
             [
              0.5555555555555556,
              "#d8576b"
             ],
             [
              0.6666666666666666,
              "#ed7953"
             ],
             [
              0.7777777777777778,
              "#fb9f3a"
             ],
             [
              0.8888888888888888,
              "#fdca26"
             ],
             [
              1,
              "#f0f921"
             ]
            ],
            "type": "surface"
           }
          ],
          "table": [
           {
            "cells": {
             "fill": {
              "color": "#EBF0F8"
             },
             "line": {
              "color": "white"
             }
            },
            "header": {
             "fill": {
              "color": "#C8D4E3"
             },
             "line": {
              "color": "white"
             }
            },
            "type": "table"
           }
          ]
         },
         "layout": {
          "annotationdefaults": {
           "arrowcolor": "#2a3f5f",
           "arrowhead": 0,
           "arrowwidth": 1
          },
          "autotypenumbers": "strict",
          "coloraxis": {
           "colorbar": {
            "outlinewidth": 0,
            "ticks": ""
           }
          },
          "colorscale": {
           "diverging": [
            [
             0,
             "#8e0152"
            ],
            [
             0.1,
             "#c51b7d"
            ],
            [
             0.2,
             "#de77ae"
            ],
            [
             0.3,
             "#f1b6da"
            ],
            [
             0.4,
             "#fde0ef"
            ],
            [
             0.5,
             "#f7f7f7"
            ],
            [
             0.6,
             "#e6f5d0"
            ],
            [
             0.7,
             "#b8e186"
            ],
            [
             0.8,
             "#7fbc41"
            ],
            [
             0.9,
             "#4d9221"
            ],
            [
             1,
             "#276419"
            ]
           ],
           "sequential": [
            [
             0,
             "#0d0887"
            ],
            [
             0.1111111111111111,
             "#46039f"
            ],
            [
             0.2222222222222222,
             "#7201a8"
            ],
            [
             0.3333333333333333,
             "#9c179e"
            ],
            [
             0.4444444444444444,
             "#bd3786"
            ],
            [
             0.5555555555555556,
             "#d8576b"
            ],
            [
             0.6666666666666666,
             "#ed7953"
            ],
            [
             0.7777777777777778,
             "#fb9f3a"
            ],
            [
             0.8888888888888888,
             "#fdca26"
            ],
            [
             1,
             "#f0f921"
            ]
           ],
           "sequentialminus": [
            [
             0,
             "#0d0887"
            ],
            [
             0.1111111111111111,
             "#46039f"
            ],
            [
             0.2222222222222222,
             "#7201a8"
            ],
            [
             0.3333333333333333,
             "#9c179e"
            ],
            [
             0.4444444444444444,
             "#bd3786"
            ],
            [
             0.5555555555555556,
             "#d8576b"
            ],
            [
             0.6666666666666666,
             "#ed7953"
            ],
            [
             0.7777777777777778,
             "#fb9f3a"
            ],
            [
             0.8888888888888888,
             "#fdca26"
            ],
            [
             1,
             "#f0f921"
            ]
           ]
          },
          "colorway": [
           "#636efa",
           "#EF553B",
           "#00cc96",
           "#ab63fa",
           "#FFA15A",
           "#19d3f3",
           "#FF6692",
           "#B6E880",
           "#FF97FF",
           "#FECB52"
          ],
          "font": {
           "color": "#2a3f5f"
          },
          "geo": {
           "bgcolor": "white",
           "lakecolor": "white",
           "landcolor": "#E5ECF6",
           "showlakes": true,
           "showland": true,
           "subunitcolor": "white"
          },
          "hoverlabel": {
           "align": "left"
          },
          "hovermode": "closest",
          "mapbox": {
           "style": "light"
          },
          "paper_bgcolor": "white",
          "plot_bgcolor": "#E5ECF6",
          "polar": {
           "angularaxis": {
            "gridcolor": "white",
            "linecolor": "white",
            "ticks": ""
           },
           "bgcolor": "#E5ECF6",
           "radialaxis": {
            "gridcolor": "white",
            "linecolor": "white",
            "ticks": ""
           }
          },
          "scene": {
           "xaxis": {
            "backgroundcolor": "#E5ECF6",
            "gridcolor": "white",
            "gridwidth": 2,
            "linecolor": "white",
            "showbackground": true,
            "ticks": "",
            "zerolinecolor": "white"
           },
           "yaxis": {
            "backgroundcolor": "#E5ECF6",
            "gridcolor": "white",
            "gridwidth": 2,
            "linecolor": "white",
            "showbackground": true,
            "ticks": "",
            "zerolinecolor": "white"
           },
           "zaxis": {
            "backgroundcolor": "#E5ECF6",
            "gridcolor": "white",
            "gridwidth": 2,
            "linecolor": "white",
            "showbackground": true,
            "ticks": "",
            "zerolinecolor": "white"
           }
          },
          "shapedefaults": {
           "line": {
            "color": "#2a3f5f"
           }
          },
          "ternary": {
           "aaxis": {
            "gridcolor": "white",
            "linecolor": "white",
            "ticks": ""
           },
           "baxis": {
            "gridcolor": "white",
            "linecolor": "white",
            "ticks": ""
           },
           "bgcolor": "#E5ECF6",
           "caxis": {
            "gridcolor": "white",
            "linecolor": "white",
            "ticks": ""
           }
          },
          "title": {
           "x": 0.05
          },
          "xaxis": {
           "automargin": true,
           "gridcolor": "white",
           "linecolor": "white",
           "ticks": "",
           "title": {
            "standoff": 15
           },
           "zerolinecolor": "white",
           "zerolinewidth": 2
          },
          "yaxis": {
           "automargin": true,
           "gridcolor": "white",
           "linecolor": "white",
           "ticks": "",
           "title": {
            "standoff": 15
           },
           "zerolinecolor": "white",
           "zerolinewidth": 2
          }
         }
        },
        "title": {
         "text": "Original data for soggetto_1"
        },
        "xaxis": {
         "anchor": "y",
         "domain": [
          0,
          1
         ]
        },
        "yaxis": {
         "anchor": "x",
         "autorange": "reversed",
         "domain": [
          0,
          1
         ]
        }
       }
      }
     },
     "metadata": {},
     "output_type": "display_data"
    },
    {
     "data": {
      "application/vnd.plotly.v1+json": {
       "config": {
        "plotlyServerURL": "https://plot.ly"
       },
       "data": [
        {
         "coloraxis": "coloraxis",
         "hovertemplate": "x: %{x}<br>y: %{y}<br>color: %{z}<extra></extra>",
         "name": "0",
         "texttemplate": "%{z:.2}",
         "type": "heatmap",
         "x": [
          "TrRi",
          "RiTr",
          "Plu",
          "Ttra",
          "Ttrb",
          "Tr",
          "MeTr",
          "MoTr",
          "RiRi",
          "MoFo",
          "Mmof",
          "MoRi",
          "MeRi",
          "Ri",
          "Comp"
         ],
         "xaxis": "x",
         "y": [
          "TrRi",
          "RiTr",
          "Plu",
          "Ttra",
          "Ttrb",
          "Tr",
          "MeTr",
          "MoTr",
          "RiRi",
          "MoFo",
          "Mmof",
          "MoRi",
          "MeRi",
          "Ri",
          "Comp"
         ],
         "yaxis": "y",
         "z": [
          [
           -0.51694024,
           0.50797683,
           0.10355507,
           -0.4965662,
           0.2888676,
           0.17217515,
           0.29959837,
           0.030638596,
           0.2878305,
           0.04008743,
           -0.5060791,
           -0.48168033,
           -0.15963753,
           1.3493161,
           0.30409142
          ],
          [
           0.01115018,
           -0.21774231,
           0.6141994,
           -0.23428632,
           0.48010936,
           0.6782289,
           0.17929131,
           0.11222149,
           0.673761,
           -0.025120655,
           0.24482617,
           -0.10939855,
           0.34962592,
           -0.49151942,
           -0.18062782
          ],
          [
           0.10835549,
           0.40521356,
           1.0560955,
           -0.0253984,
           0.6842799,
           0.078330785,
           -0.5799159,
           0.70175606,
           0.43880916,
           0.877945,
           -0.12132122,
           0.035373542,
           -0.23244213,
           0.12956087,
           -0.7852849
          ],
          [
           -0.19904332,
           0.032058842,
           -0.09407489,
           -0.011486693,
           -0.18202887,
           -0.3704896,
           0.19269991,
           -0.25728026,
           -0.34952188,
           0.2333472,
           -0.35945,
           0.15738562,
           0.28612265,
           0.7752367,
           0.16390847
          ],
          [
           0.20168379,
           -0.2022779,
           -0.09317102,
           -0.64841425,
           -1.128989,
           -0.056024678,
           -0.6908481,
           -0.07197501,
           -0.07961759,
           0.21749257,
           -0.56135714,
           0.1351008,
           -0.26283783,
           -0.43921444,
           0.113752015
          ],
          [
           -0.5340448,
           -0.6646371,
           -0.6062362,
           -0.71849513,
           -0.7529674,
           -0.6723882,
           -0.62689614,
           -0.6096365,
           -0.622447,
           -0.5913995,
           -0.61368346,
           -0.40641853,
           -0.51740974,
           -0.6397803,
           -0.26538712
          ],
          [
           0.0891998,
           -0.18150452,
           0.3218402,
           0.4895178,
           0.04234438,
           -0.66896427,
           0.18420225,
           -0.009047085,
           0.48319745,
           -0.14995034,
           0.40150195,
           0.2532359,
           -0.6841633,
           0.6337097,
           0.012069685
          ],
          [
           -0.06066207,
           -0.13731788,
           -0.040371742,
           0.46392846,
           -0.37680894,
           0.24775903,
           -0.065850556,
           -0.67942613,
           -0.25303882,
           -0.75538975,
           0.13872449,
           0.47016707,
           0.05922691,
           0.5084537,
           0.1959846
          ],
          [
           -0.47222576,
           0.24134573,
           0.43331358,
           -0.41472152,
           0.5363665,
           0.43016478,
           0.66671276,
           -0.010237296,
           -0.13715957,
           0.6107816,
           0.31760788,
           -0.2696133,
           -0.3046195,
           -0.896872,
           -0.17946517
          ],
          [
           0.059998278,
           0.22237407,
           0.040344916,
           0.09831382,
           0.10902701,
           0.52359605,
           0.3626165,
           0.32822442,
           -0.071661524,
           0.18431377,
           0.587947,
           0.30730188,
           0.60361224,
           -0.21457428,
           -0.19327882
          ],
          [
           0.42551112,
           -0.22718382,
           -0.2752905,
           0.0600479,
           0.06879635,
           -0.67155814,
           -0.86436945,
           -0.084843144,
           0.06180531,
           -0.25955907,
           0.009494316,
           0.08936491,
           0.6978262,
           -0.42428696,
           0.3013983
          ],
          [
           -0.08763812,
           -0.016282864,
           -0.27105823,
           0.3963725,
           -0.69097775,
           -0.09327608,
           -0.18242048,
           -0.5178578,
           -0.083539926,
           -0.532267,
           -0.20233096,
           -0.32672253,
           0.008171207,
           -0.07985104,
           -0.04865548
          ],
          [
           -0.09537215,
           -0.13782154,
           0.06434993,
           -0.64178646,
           -0.018448547,
           0.081211954,
           -0.2643623,
           0.023614079,
           -0.35747814,
           0.02348492,
           -0.5611516,
           -1.0090046,
           -0.64225143,
           0.54100454,
           -0.34055158
          ],
          [
           0.41385138,
           -0.73584646,
           -0.20454882,
           -0.15140015,
           0.7032903,
           0.46306744,
           -0.081575386,
           0.53655815,
           0.13932751,
           0.63004935,
           0.021388413,
           -0.2666182,
           -0.46484765,
           0.5712707,
           0.10630391
          ],
          [
           0.15266359,
           -0.004757146,
           -0.12708804,
           -0.1553916,
           -0.12261798,
           0.10546214,
           0.695106,
           -0.28439018,
           -0.56943005,
           -0.3292908,
           -0.48922446,
           -0.8601296,
           0.71609205,
           -0.38330334,
           -0.11375039
          ]
         ]
        }
       ],
       "layout": {
        "coloraxis": {
         "cmax": 5,
         "cmid": 0,
         "cmin": -5,
         "colorscale": [
          [
           0,
           "rgb(5,48,97)"
          ],
          [
           0.1,
           "rgb(33,102,172)"
          ],
          [
           0.2,
           "rgb(67,147,195)"
          ],
          [
           0.3,
           "rgb(146,197,222)"
          ],
          [
           0.4,
           "rgb(209,229,240)"
          ],
          [
           0.5,
           "rgb(247,247,247)"
          ],
          [
           0.6,
           "rgb(253,219,199)"
          ],
          [
           0.7,
           "rgb(244,165,130)"
          ],
          [
           0.8,
           "rgb(214,96,77)"
          ],
          [
           0.9,
           "rgb(178,24,43)"
          ],
          [
           1,
           "rgb(103,0,31)"
          ]
         ]
        },
        "template": {
         "data": {
          "bar": [
           {
            "error_x": {
             "color": "#2a3f5f"
            },
            "error_y": {
             "color": "#2a3f5f"
            },
            "marker": {
             "line": {
              "color": "#E5ECF6",
              "width": 0.5
             },
             "pattern": {
              "fillmode": "overlay",
              "size": 10,
              "solidity": 0.2
             }
            },
            "type": "bar"
           }
          ],
          "barpolar": [
           {
            "marker": {
             "line": {
              "color": "#E5ECF6",
              "width": 0.5
             },
             "pattern": {
              "fillmode": "overlay",
              "size": 10,
              "solidity": 0.2
             }
            },
            "type": "barpolar"
           }
          ],
          "carpet": [
           {
            "aaxis": {
             "endlinecolor": "#2a3f5f",
             "gridcolor": "white",
             "linecolor": "white",
             "minorgridcolor": "white",
             "startlinecolor": "#2a3f5f"
            },
            "baxis": {
             "endlinecolor": "#2a3f5f",
             "gridcolor": "white",
             "linecolor": "white",
             "minorgridcolor": "white",
             "startlinecolor": "#2a3f5f"
            },
            "type": "carpet"
           }
          ],
          "choropleth": [
           {
            "colorbar": {
             "outlinewidth": 0,
             "ticks": ""
            },
            "type": "choropleth"
           }
          ],
          "contour": [
           {
            "colorbar": {
             "outlinewidth": 0,
             "ticks": ""
            },
            "colorscale": [
             [
              0,
              "#0d0887"
             ],
             [
              0.1111111111111111,
              "#46039f"
             ],
             [
              0.2222222222222222,
              "#7201a8"
             ],
             [
              0.3333333333333333,
              "#9c179e"
             ],
             [
              0.4444444444444444,
              "#bd3786"
             ],
             [
              0.5555555555555556,
              "#d8576b"
             ],
             [
              0.6666666666666666,
              "#ed7953"
             ],
             [
              0.7777777777777778,
              "#fb9f3a"
             ],
             [
              0.8888888888888888,
              "#fdca26"
             ],
             [
              1,
              "#f0f921"
             ]
            ],
            "type": "contour"
           }
          ],
          "contourcarpet": [
           {
            "colorbar": {
             "outlinewidth": 0,
             "ticks": ""
            },
            "type": "contourcarpet"
           }
          ],
          "heatmap": [
           {
            "colorbar": {
             "outlinewidth": 0,
             "ticks": ""
            },
            "colorscale": [
             [
              0,
              "#0d0887"
             ],
             [
              0.1111111111111111,
              "#46039f"
             ],
             [
              0.2222222222222222,
              "#7201a8"
             ],
             [
              0.3333333333333333,
              "#9c179e"
             ],
             [
              0.4444444444444444,
              "#bd3786"
             ],
             [
              0.5555555555555556,
              "#d8576b"
             ],
             [
              0.6666666666666666,
              "#ed7953"
             ],
             [
              0.7777777777777778,
              "#fb9f3a"
             ],
             [
              0.8888888888888888,
              "#fdca26"
             ],
             [
              1,
              "#f0f921"
             ]
            ],
            "type": "heatmap"
           }
          ],
          "heatmapgl": [
           {
            "colorbar": {
             "outlinewidth": 0,
             "ticks": ""
            },
            "colorscale": [
             [
              0,
              "#0d0887"
             ],
             [
              0.1111111111111111,
              "#46039f"
             ],
             [
              0.2222222222222222,
              "#7201a8"
             ],
             [
              0.3333333333333333,
              "#9c179e"
             ],
             [
              0.4444444444444444,
              "#bd3786"
             ],
             [
              0.5555555555555556,
              "#d8576b"
             ],
             [
              0.6666666666666666,
              "#ed7953"
             ],
             [
              0.7777777777777778,
              "#fb9f3a"
             ],
             [
              0.8888888888888888,
              "#fdca26"
             ],
             [
              1,
              "#f0f921"
             ]
            ],
            "type": "heatmapgl"
           }
          ],
          "histogram": [
           {
            "marker": {
             "pattern": {
              "fillmode": "overlay",
              "size": 10,
              "solidity": 0.2
             }
            },
            "type": "histogram"
           }
          ],
          "histogram2d": [
           {
            "colorbar": {
             "outlinewidth": 0,
             "ticks": ""
            },
            "colorscale": [
             [
              0,
              "#0d0887"
             ],
             [
              0.1111111111111111,
              "#46039f"
             ],
             [
              0.2222222222222222,
              "#7201a8"
             ],
             [
              0.3333333333333333,
              "#9c179e"
             ],
             [
              0.4444444444444444,
              "#bd3786"
             ],
             [
              0.5555555555555556,
              "#d8576b"
             ],
             [
              0.6666666666666666,
              "#ed7953"
             ],
             [
              0.7777777777777778,
              "#fb9f3a"
             ],
             [
              0.8888888888888888,
              "#fdca26"
             ],
             [
              1,
              "#f0f921"
             ]
            ],
            "type": "histogram2d"
           }
          ],
          "histogram2dcontour": [
           {
            "colorbar": {
             "outlinewidth": 0,
             "ticks": ""
            },
            "colorscale": [
             [
              0,
              "#0d0887"
             ],
             [
              0.1111111111111111,
              "#46039f"
             ],
             [
              0.2222222222222222,
              "#7201a8"
             ],
             [
              0.3333333333333333,
              "#9c179e"
             ],
             [
              0.4444444444444444,
              "#bd3786"
             ],
             [
              0.5555555555555556,
              "#d8576b"
             ],
             [
              0.6666666666666666,
              "#ed7953"
             ],
             [
              0.7777777777777778,
              "#fb9f3a"
             ],
             [
              0.8888888888888888,
              "#fdca26"
             ],
             [
              1,
              "#f0f921"
             ]
            ],
            "type": "histogram2dcontour"
           }
          ],
          "mesh3d": [
           {
            "colorbar": {
             "outlinewidth": 0,
             "ticks": ""
            },
            "type": "mesh3d"
           }
          ],
          "parcoords": [
           {
            "line": {
             "colorbar": {
              "outlinewidth": 0,
              "ticks": ""
             }
            },
            "type": "parcoords"
           }
          ],
          "pie": [
           {
            "automargin": true,
            "type": "pie"
           }
          ],
          "scatter": [
           {
            "fillpattern": {
             "fillmode": "overlay",
             "size": 10,
             "solidity": 0.2
            },
            "type": "scatter"
           }
          ],
          "scatter3d": [
           {
            "line": {
             "colorbar": {
              "outlinewidth": 0,
              "ticks": ""
             }
            },
            "marker": {
             "colorbar": {
              "outlinewidth": 0,
              "ticks": ""
             }
            },
            "type": "scatter3d"
           }
          ],
          "scattercarpet": [
           {
            "marker": {
             "colorbar": {
              "outlinewidth": 0,
              "ticks": ""
             }
            },
            "type": "scattercarpet"
           }
          ],
          "scattergeo": [
           {
            "marker": {
             "colorbar": {
              "outlinewidth": 0,
              "ticks": ""
             }
            },
            "type": "scattergeo"
           }
          ],
          "scattergl": [
           {
            "marker": {
             "colorbar": {
              "outlinewidth": 0,
              "ticks": ""
             }
            },
            "type": "scattergl"
           }
          ],
          "scattermapbox": [
           {
            "marker": {
             "colorbar": {
              "outlinewidth": 0,
              "ticks": ""
             }
            },
            "type": "scattermapbox"
           }
          ],
          "scatterpolar": [
           {
            "marker": {
             "colorbar": {
              "outlinewidth": 0,
              "ticks": ""
             }
            },
            "type": "scatterpolar"
           }
          ],
          "scatterpolargl": [
           {
            "marker": {
             "colorbar": {
              "outlinewidth": 0,
              "ticks": ""
             }
            },
            "type": "scatterpolargl"
           }
          ],
          "scatterternary": [
           {
            "marker": {
             "colorbar": {
              "outlinewidth": 0,
              "ticks": ""
             }
            },
            "type": "scatterternary"
           }
          ],
          "surface": [
           {
            "colorbar": {
             "outlinewidth": 0,
             "ticks": ""
            },
            "colorscale": [
             [
              0,
              "#0d0887"
             ],
             [
              0.1111111111111111,
              "#46039f"
             ],
             [
              0.2222222222222222,
              "#7201a8"
             ],
             [
              0.3333333333333333,
              "#9c179e"
             ],
             [
              0.4444444444444444,
              "#bd3786"
             ],
             [
              0.5555555555555556,
              "#d8576b"
             ],
             [
              0.6666666666666666,
              "#ed7953"
             ],
             [
              0.7777777777777778,
              "#fb9f3a"
             ],
             [
              0.8888888888888888,
              "#fdca26"
             ],
             [
              1,
              "#f0f921"
             ]
            ],
            "type": "surface"
           }
          ],
          "table": [
           {
            "cells": {
             "fill": {
              "color": "#EBF0F8"
             },
             "line": {
              "color": "white"
             }
            },
            "header": {
             "fill": {
              "color": "#C8D4E3"
             },
             "line": {
              "color": "white"
             }
            },
            "type": "table"
           }
          ]
         },
         "layout": {
          "annotationdefaults": {
           "arrowcolor": "#2a3f5f",
           "arrowhead": 0,
           "arrowwidth": 1
          },
          "autotypenumbers": "strict",
          "coloraxis": {
           "colorbar": {
            "outlinewidth": 0,
            "ticks": ""
           }
          },
          "colorscale": {
           "diverging": [
            [
             0,
             "#8e0152"
            ],
            [
             0.1,
             "#c51b7d"
            ],
            [
             0.2,
             "#de77ae"
            ],
            [
             0.3,
             "#f1b6da"
            ],
            [
             0.4,
             "#fde0ef"
            ],
            [
             0.5,
             "#f7f7f7"
            ],
            [
             0.6,
             "#e6f5d0"
            ],
            [
             0.7,
             "#b8e186"
            ],
            [
             0.8,
             "#7fbc41"
            ],
            [
             0.9,
             "#4d9221"
            ],
            [
             1,
             "#276419"
            ]
           ],
           "sequential": [
            [
             0,
             "#0d0887"
            ],
            [
             0.1111111111111111,
             "#46039f"
            ],
            [
             0.2222222222222222,
             "#7201a8"
            ],
            [
             0.3333333333333333,
             "#9c179e"
            ],
            [
             0.4444444444444444,
             "#bd3786"
            ],
            [
             0.5555555555555556,
             "#d8576b"
            ],
            [
             0.6666666666666666,
             "#ed7953"
            ],
            [
             0.7777777777777778,
             "#fb9f3a"
            ],
            [
             0.8888888888888888,
             "#fdca26"
            ],
            [
             1,
             "#f0f921"
            ]
           ],
           "sequentialminus": [
            [
             0,
             "#0d0887"
            ],
            [
             0.1111111111111111,
             "#46039f"
            ],
            [
             0.2222222222222222,
             "#7201a8"
            ],
            [
             0.3333333333333333,
             "#9c179e"
            ],
            [
             0.4444444444444444,
             "#bd3786"
            ],
            [
             0.5555555555555556,
             "#d8576b"
            ],
            [
             0.6666666666666666,
             "#ed7953"
            ],
            [
             0.7777777777777778,
             "#fb9f3a"
            ],
            [
             0.8888888888888888,
             "#fdca26"
            ],
            [
             1,
             "#f0f921"
            ]
           ]
          },
          "colorway": [
           "#636efa",
           "#EF553B",
           "#00cc96",
           "#ab63fa",
           "#FFA15A",
           "#19d3f3",
           "#FF6692",
           "#B6E880",
           "#FF97FF",
           "#FECB52"
          ],
          "font": {
           "color": "#2a3f5f"
          },
          "geo": {
           "bgcolor": "white",
           "lakecolor": "white",
           "landcolor": "#E5ECF6",
           "showlakes": true,
           "showland": true,
           "subunitcolor": "white"
          },
          "hoverlabel": {
           "align": "left"
          },
          "hovermode": "closest",
          "mapbox": {
           "style": "light"
          },
          "paper_bgcolor": "white",
          "plot_bgcolor": "#E5ECF6",
          "polar": {
           "angularaxis": {
            "gridcolor": "white",
            "linecolor": "white",
            "ticks": ""
           },
           "bgcolor": "#E5ECF6",
           "radialaxis": {
            "gridcolor": "white",
            "linecolor": "white",
            "ticks": ""
           }
          },
          "scene": {
           "xaxis": {
            "backgroundcolor": "#E5ECF6",
            "gridcolor": "white",
            "gridwidth": 2,
            "linecolor": "white",
            "showbackground": true,
            "ticks": "",
            "zerolinecolor": "white"
           },
           "yaxis": {
            "backgroundcolor": "#E5ECF6",
            "gridcolor": "white",
            "gridwidth": 2,
            "linecolor": "white",
            "showbackground": true,
            "ticks": "",
            "zerolinecolor": "white"
           },
           "zaxis": {
            "backgroundcolor": "#E5ECF6",
            "gridcolor": "white",
            "gridwidth": 2,
            "linecolor": "white",
            "showbackground": true,
            "ticks": "",
            "zerolinecolor": "white"
           }
          },
          "shapedefaults": {
           "line": {
            "color": "#2a3f5f"
           }
          },
          "ternary": {
           "aaxis": {
            "gridcolor": "white",
            "linecolor": "white",
            "ticks": ""
           },
           "baxis": {
            "gridcolor": "white",
            "linecolor": "white",
            "ticks": ""
           },
           "bgcolor": "#E5ECF6",
           "caxis": {
            "gridcolor": "white",
            "linecolor": "white",
            "ticks": ""
           }
          },
          "title": {
           "x": 0.05
          },
          "xaxis": {
           "automargin": true,
           "gridcolor": "white",
           "linecolor": "white",
           "ticks": "",
           "title": {
            "standoff": 15
           },
           "zerolinecolor": "white",
           "zerolinewidth": 2
          },
          "yaxis": {
           "automargin": true,
           "gridcolor": "white",
           "linecolor": "white",
           "ticks": "",
           "title": {
            "standoff": 15
           },
           "zerolinecolor": "white",
           "zerolinewidth": 2
          }
         }
        },
        "title": {
         "text": "Original data for soggetto_2"
        },
        "xaxis": {
         "anchor": "y",
         "domain": [
          0,
          1
         ]
        },
        "yaxis": {
         "anchor": "x",
         "autorange": "reversed",
         "domain": [
          0,
          1
         ]
        }
       }
      }
     },
     "metadata": {},
     "output_type": "display_data"
    },
    {
     "data": {
      "application/vnd.plotly.v1+json": {
       "config": {
        "plotlyServerURL": "https://plot.ly"
       },
       "data": [
        {
         "coloraxis": "coloraxis",
         "hovertemplate": "x: %{x}<br>y: %{y}<br>color: %{z}<extra></extra>",
         "name": "0",
         "texttemplate": "%{z:.2}",
         "type": "heatmap",
         "x": [
          "TrRi",
          "RiTr",
          "Plu",
          "Ttra",
          "Ttrb",
          "Tr",
          "MeTr",
          "MoTr",
          "RiRi",
          "MoFo",
          "Mmof",
          "MoRi",
          "MeRi",
          "Ri",
          "Comp"
         ],
         "xaxis": "x",
         "y": [
          "TrRi",
          "RiTr",
          "Plu",
          "Ttra",
          "Ttrb",
          "Tr",
          "MeTr",
          "MoTr",
          "RiRi",
          "MoFo",
          "Mmof",
          "MoRi",
          "MeRi",
          "Ri",
          "Comp"
         ],
         "yaxis": "y",
         "z": [
          [
           -0.9073302,
           -0.44046345,
           1.5828099,
           -1.6833826,
           -3.0574965,
           1.1768161,
           1.254443,
           -1.2008747,
           -1.7783055,
           -0.3428489,
           0.21005523,
           0.26305383,
           0.51090217,
           -0.8937416,
           0.5332672
          ],
          [
           0.12613513,
           -0.5441279,
           -0.4242775,
           1.2553436,
           1.3125551,
           -1.2188464,
           -1.4822121,
           -0.7673625,
           0.6864185,
           -0.6387296,
           -0.36143768,
           -0.29362923,
           -0.016745437,
           0.20578489,
           -0.4150849
          ],
          [
           -0.08390961,
           1.3977318,
           -0.0070836423,
           -0.8124032,
           0.13555628,
           1.3101069,
           -1.4256747,
           -0.05477738,
           0.66954166,
           -1.1532776,
           -0.4748213,
           -1.3082002,
           1.6787261,
           -0.1866494,
           0.3403697
          ],
          [
           -0.18643641,
           1.7198656,
           -0.11391839,
           -0.78952485,
           0.80449146,
           -0.79882497,
           0.022366574,
           1.0110673,
           -0.42636588,
           -0.39582276,
           0.37472445,
           -0.6993756,
           0.43873507,
           -0.23924293,
           0.26890668
          ],
          [
           0.16653828,
           -0.57435703,
           -2.3486254,
           1.6759195,
           2.8852556,
           -1.8340592,
           -1.3563148,
           1.1874363,
           1.9251633,
           -0.21731995,
           0.4910802,
           -0.5429491,
           -0.5710433,
           1.1297138,
           -0.46012956
          ],
          [
           -0.11511102,
           -0.5308777,
           -1.2489138,
           -0.20850417,
           -0.22674476,
           -0.17913526,
           -1.5686628,
           0.23279811,
           0.6823469,
           -0.73119456,
           -0.25395375,
           -1.0088999,
           0.7783128,
           0.26358032,
           0.010051764
          ],
          [
           0.3552462,
           -1.3616319,
           -0.24009785,
           0.52222234,
           -0.6786015,
           0.2102163,
           -1.1370257,
           -1.240147,
           0.18814696,
           0.09161497,
           -1.4727448,
           -0.1971557,
           -0.18020001,
           -0.50410837,
           -0.51624733
          ],
          [
           0.15464237,
           -0.08105758,
           0.24540618,
           -0.5466983,
           -0.49499646,
           0.55121756,
           0.39144892,
           0.6340466,
           -0.10336602,
           0.28332976,
           0.23285632,
           0.07768222,
           1.804172,
           0.36144492,
           0.2933701
          ],
          [
           0.42277205,
           -0.014645824,
           0.06328773,
           0.8728461,
           1.0473411,
           0.6976739,
           0.50752294,
           0.53787553,
           0.70335585,
           0.80564064,
           0.64515555,
           0.7484502,
           0.0015958087,
           0.8594194,
           0.3344002
          ],
          [
           -0.15730844,
           1.8118354,
           -0.4542671,
           -0.8155913,
           0.08543573,
           -0.2968639,
           -0.108565666,
           1.1018397,
           -1.1077453,
           0.22628501,
           0.1590082,
           -0.15367498,
           -0.39386812,
           0.11308456,
           0.25968438
          ],
          [
           -0.36304933,
           0.070241146,
           0.5149725,
           -0.5962363,
           -0.7908509,
           -0.9696764,
           -0.66573006,
           -0.821297,
           -0.29165646,
           -1.7264836,
           -0.22684501,
           -1.4132546,
           1.4791927,
           -1.3517302,
           0.07025364
          ],
          [
           -0.30463544,
           -1.8125137,
           -1.0298544,
           0.9347732,
           0.34900367,
           0.79474306,
           0.03741401,
           -0.3352477,
           0.27907303,
           0.9354029,
           0.19650151,
           1.0757629,
           -1.357919,
           1.0229928,
           -0.12546173
          ],
          [
           0.2220162,
           -0.6033082,
           -0.4808645,
           0.39368182,
           0.112467356,
           -0.13944237,
           0.33712807,
           0.33436662,
           0.85012144,
           -0.3843937,
           0.4553291,
           -0.28279945,
           -0.21487772,
           -0.06819612,
           -0.20092702
          ],
          [
           -0.75797516,
           -0.11625157,
           -0.70511186,
           -0.1791895,
           1.1870973,
           -0.33655518,
           0.14648925,
           0.33935902,
           0.18536682,
           -0.30090493,
           0.72517693,
           -0.08492529,
           -0.1798429,
           0.18304206,
           0.15154412
          ],
          [
           0.19263329,
           -0.7512387,
           -1.333233,
           1.0717413,
           1.1414436,
           1.2741792,
           -1.8619295,
           -0.17826131,
           1.8423973,
           -0.70238864,
           -0.018600108,
           -0.60824746,
           1.5155443,
           0.8276908,
           -0.055989344
          ]
         ]
        }
       ],
       "layout": {
        "coloraxis": {
         "cmax": 5,
         "cmid": 0,
         "cmin": -5,
         "colorscale": [
          [
           0,
           "rgb(5,48,97)"
          ],
          [
           0.1,
           "rgb(33,102,172)"
          ],
          [
           0.2,
           "rgb(67,147,195)"
          ],
          [
           0.3,
           "rgb(146,197,222)"
          ],
          [
           0.4,
           "rgb(209,229,240)"
          ],
          [
           0.5,
           "rgb(247,247,247)"
          ],
          [
           0.6,
           "rgb(253,219,199)"
          ],
          [
           0.7,
           "rgb(244,165,130)"
          ],
          [
           0.8,
           "rgb(214,96,77)"
          ],
          [
           0.9,
           "rgb(178,24,43)"
          ],
          [
           1,
           "rgb(103,0,31)"
          ]
         ]
        },
        "template": {
         "data": {
          "bar": [
           {
            "error_x": {
             "color": "#2a3f5f"
            },
            "error_y": {
             "color": "#2a3f5f"
            },
            "marker": {
             "line": {
              "color": "#E5ECF6",
              "width": 0.5
             },
             "pattern": {
              "fillmode": "overlay",
              "size": 10,
              "solidity": 0.2
             }
            },
            "type": "bar"
           }
          ],
          "barpolar": [
           {
            "marker": {
             "line": {
              "color": "#E5ECF6",
              "width": 0.5
             },
             "pattern": {
              "fillmode": "overlay",
              "size": 10,
              "solidity": 0.2
             }
            },
            "type": "barpolar"
           }
          ],
          "carpet": [
           {
            "aaxis": {
             "endlinecolor": "#2a3f5f",
             "gridcolor": "white",
             "linecolor": "white",
             "minorgridcolor": "white",
             "startlinecolor": "#2a3f5f"
            },
            "baxis": {
             "endlinecolor": "#2a3f5f",
             "gridcolor": "white",
             "linecolor": "white",
             "minorgridcolor": "white",
             "startlinecolor": "#2a3f5f"
            },
            "type": "carpet"
           }
          ],
          "choropleth": [
           {
            "colorbar": {
             "outlinewidth": 0,
             "ticks": ""
            },
            "type": "choropleth"
           }
          ],
          "contour": [
           {
            "colorbar": {
             "outlinewidth": 0,
             "ticks": ""
            },
            "colorscale": [
             [
              0,
              "#0d0887"
             ],
             [
              0.1111111111111111,
              "#46039f"
             ],
             [
              0.2222222222222222,
              "#7201a8"
             ],
             [
              0.3333333333333333,
              "#9c179e"
             ],
             [
              0.4444444444444444,
              "#bd3786"
             ],
             [
              0.5555555555555556,
              "#d8576b"
             ],
             [
              0.6666666666666666,
              "#ed7953"
             ],
             [
              0.7777777777777778,
              "#fb9f3a"
             ],
             [
              0.8888888888888888,
              "#fdca26"
             ],
             [
              1,
              "#f0f921"
             ]
            ],
            "type": "contour"
           }
          ],
          "contourcarpet": [
           {
            "colorbar": {
             "outlinewidth": 0,
             "ticks": ""
            },
            "type": "contourcarpet"
           }
          ],
          "heatmap": [
           {
            "colorbar": {
             "outlinewidth": 0,
             "ticks": ""
            },
            "colorscale": [
             [
              0,
              "#0d0887"
             ],
             [
              0.1111111111111111,
              "#46039f"
             ],
             [
              0.2222222222222222,
              "#7201a8"
             ],
             [
              0.3333333333333333,
              "#9c179e"
             ],
             [
              0.4444444444444444,
              "#bd3786"
             ],
             [
              0.5555555555555556,
              "#d8576b"
             ],
             [
              0.6666666666666666,
              "#ed7953"
             ],
             [
              0.7777777777777778,
              "#fb9f3a"
             ],
             [
              0.8888888888888888,
              "#fdca26"
             ],
             [
              1,
              "#f0f921"
             ]
            ],
            "type": "heatmap"
           }
          ],
          "heatmapgl": [
           {
            "colorbar": {
             "outlinewidth": 0,
             "ticks": ""
            },
            "colorscale": [
             [
              0,
              "#0d0887"
             ],
             [
              0.1111111111111111,
              "#46039f"
             ],
             [
              0.2222222222222222,
              "#7201a8"
             ],
             [
              0.3333333333333333,
              "#9c179e"
             ],
             [
              0.4444444444444444,
              "#bd3786"
             ],
             [
              0.5555555555555556,
              "#d8576b"
             ],
             [
              0.6666666666666666,
              "#ed7953"
             ],
             [
              0.7777777777777778,
              "#fb9f3a"
             ],
             [
              0.8888888888888888,
              "#fdca26"
             ],
             [
              1,
              "#f0f921"
             ]
            ],
            "type": "heatmapgl"
           }
          ],
          "histogram": [
           {
            "marker": {
             "pattern": {
              "fillmode": "overlay",
              "size": 10,
              "solidity": 0.2
             }
            },
            "type": "histogram"
           }
          ],
          "histogram2d": [
           {
            "colorbar": {
             "outlinewidth": 0,
             "ticks": ""
            },
            "colorscale": [
             [
              0,
              "#0d0887"
             ],
             [
              0.1111111111111111,
              "#46039f"
             ],
             [
              0.2222222222222222,
              "#7201a8"
             ],
             [
              0.3333333333333333,
              "#9c179e"
             ],
             [
              0.4444444444444444,
              "#bd3786"
             ],
             [
              0.5555555555555556,
              "#d8576b"
             ],
             [
              0.6666666666666666,
              "#ed7953"
             ],
             [
              0.7777777777777778,
              "#fb9f3a"
             ],
             [
              0.8888888888888888,
              "#fdca26"
             ],
             [
              1,
              "#f0f921"
             ]
            ],
            "type": "histogram2d"
           }
          ],
          "histogram2dcontour": [
           {
            "colorbar": {
             "outlinewidth": 0,
             "ticks": ""
            },
            "colorscale": [
             [
              0,
              "#0d0887"
             ],
             [
              0.1111111111111111,
              "#46039f"
             ],
             [
              0.2222222222222222,
              "#7201a8"
             ],
             [
              0.3333333333333333,
              "#9c179e"
             ],
             [
              0.4444444444444444,
              "#bd3786"
             ],
             [
              0.5555555555555556,
              "#d8576b"
             ],
             [
              0.6666666666666666,
              "#ed7953"
             ],
             [
              0.7777777777777778,
              "#fb9f3a"
             ],
             [
              0.8888888888888888,
              "#fdca26"
             ],
             [
              1,
              "#f0f921"
             ]
            ],
            "type": "histogram2dcontour"
           }
          ],
          "mesh3d": [
           {
            "colorbar": {
             "outlinewidth": 0,
             "ticks": ""
            },
            "type": "mesh3d"
           }
          ],
          "parcoords": [
           {
            "line": {
             "colorbar": {
              "outlinewidth": 0,
              "ticks": ""
             }
            },
            "type": "parcoords"
           }
          ],
          "pie": [
           {
            "automargin": true,
            "type": "pie"
           }
          ],
          "scatter": [
           {
            "fillpattern": {
             "fillmode": "overlay",
             "size": 10,
             "solidity": 0.2
            },
            "type": "scatter"
           }
          ],
          "scatter3d": [
           {
            "line": {
             "colorbar": {
              "outlinewidth": 0,
              "ticks": ""
             }
            },
            "marker": {
             "colorbar": {
              "outlinewidth": 0,
              "ticks": ""
             }
            },
            "type": "scatter3d"
           }
          ],
          "scattercarpet": [
           {
            "marker": {
             "colorbar": {
              "outlinewidth": 0,
              "ticks": ""
             }
            },
            "type": "scattercarpet"
           }
          ],
          "scattergeo": [
           {
            "marker": {
             "colorbar": {
              "outlinewidth": 0,
              "ticks": ""
             }
            },
            "type": "scattergeo"
           }
          ],
          "scattergl": [
           {
            "marker": {
             "colorbar": {
              "outlinewidth": 0,
              "ticks": ""
             }
            },
            "type": "scattergl"
           }
          ],
          "scattermapbox": [
           {
            "marker": {
             "colorbar": {
              "outlinewidth": 0,
              "ticks": ""
             }
            },
            "type": "scattermapbox"
           }
          ],
          "scatterpolar": [
           {
            "marker": {
             "colorbar": {
              "outlinewidth": 0,
              "ticks": ""
             }
            },
            "type": "scatterpolar"
           }
          ],
          "scatterpolargl": [
           {
            "marker": {
             "colorbar": {
              "outlinewidth": 0,
              "ticks": ""
             }
            },
            "type": "scatterpolargl"
           }
          ],
          "scatterternary": [
           {
            "marker": {
             "colorbar": {
              "outlinewidth": 0,
              "ticks": ""
             }
            },
            "type": "scatterternary"
           }
          ],
          "surface": [
           {
            "colorbar": {
             "outlinewidth": 0,
             "ticks": ""
            },
            "colorscale": [
             [
              0,
              "#0d0887"
             ],
             [
              0.1111111111111111,
              "#46039f"
             ],
             [
              0.2222222222222222,
              "#7201a8"
             ],
             [
              0.3333333333333333,
              "#9c179e"
             ],
             [
              0.4444444444444444,
              "#bd3786"
             ],
             [
              0.5555555555555556,
              "#d8576b"
             ],
             [
              0.6666666666666666,
              "#ed7953"
             ],
             [
              0.7777777777777778,
              "#fb9f3a"
             ],
             [
              0.8888888888888888,
              "#fdca26"
             ],
             [
              1,
              "#f0f921"
             ]
            ],
            "type": "surface"
           }
          ],
          "table": [
           {
            "cells": {
             "fill": {
              "color": "#EBF0F8"
             },
             "line": {
              "color": "white"
             }
            },
            "header": {
             "fill": {
              "color": "#C8D4E3"
             },
             "line": {
              "color": "white"
             }
            },
            "type": "table"
           }
          ]
         },
         "layout": {
          "annotationdefaults": {
           "arrowcolor": "#2a3f5f",
           "arrowhead": 0,
           "arrowwidth": 1
          },
          "autotypenumbers": "strict",
          "coloraxis": {
           "colorbar": {
            "outlinewidth": 0,
            "ticks": ""
           }
          },
          "colorscale": {
           "diverging": [
            [
             0,
             "#8e0152"
            ],
            [
             0.1,
             "#c51b7d"
            ],
            [
             0.2,
             "#de77ae"
            ],
            [
             0.3,
             "#f1b6da"
            ],
            [
             0.4,
             "#fde0ef"
            ],
            [
             0.5,
             "#f7f7f7"
            ],
            [
             0.6,
             "#e6f5d0"
            ],
            [
             0.7,
             "#b8e186"
            ],
            [
             0.8,
             "#7fbc41"
            ],
            [
             0.9,
             "#4d9221"
            ],
            [
             1,
             "#276419"
            ]
           ],
           "sequential": [
            [
             0,
             "#0d0887"
            ],
            [
             0.1111111111111111,
             "#46039f"
            ],
            [
             0.2222222222222222,
             "#7201a8"
            ],
            [
             0.3333333333333333,
             "#9c179e"
            ],
            [
             0.4444444444444444,
             "#bd3786"
            ],
            [
             0.5555555555555556,
             "#d8576b"
            ],
            [
             0.6666666666666666,
             "#ed7953"
            ],
            [
             0.7777777777777778,
             "#fb9f3a"
            ],
            [
             0.8888888888888888,
             "#fdca26"
            ],
            [
             1,
             "#f0f921"
            ]
           ],
           "sequentialminus": [
            [
             0,
             "#0d0887"
            ],
            [
             0.1111111111111111,
             "#46039f"
            ],
            [
             0.2222222222222222,
             "#7201a8"
            ],
            [
             0.3333333333333333,
             "#9c179e"
            ],
            [
             0.4444444444444444,
             "#bd3786"
            ],
            [
             0.5555555555555556,
             "#d8576b"
            ],
            [
             0.6666666666666666,
             "#ed7953"
            ],
            [
             0.7777777777777778,
             "#fb9f3a"
            ],
            [
             0.8888888888888888,
             "#fdca26"
            ],
            [
             1,
             "#f0f921"
            ]
           ]
          },
          "colorway": [
           "#636efa",
           "#EF553B",
           "#00cc96",
           "#ab63fa",
           "#FFA15A",
           "#19d3f3",
           "#FF6692",
           "#B6E880",
           "#FF97FF",
           "#FECB52"
          ],
          "font": {
           "color": "#2a3f5f"
          },
          "geo": {
           "bgcolor": "white",
           "lakecolor": "white",
           "landcolor": "#E5ECF6",
           "showlakes": true,
           "showland": true,
           "subunitcolor": "white"
          },
          "hoverlabel": {
           "align": "left"
          },
          "hovermode": "closest",
          "mapbox": {
           "style": "light"
          },
          "paper_bgcolor": "white",
          "plot_bgcolor": "#E5ECF6",
          "polar": {
           "angularaxis": {
            "gridcolor": "white",
            "linecolor": "white",
            "ticks": ""
           },
           "bgcolor": "#E5ECF6",
           "radialaxis": {
            "gridcolor": "white",
            "linecolor": "white",
            "ticks": ""
           }
          },
          "scene": {
           "xaxis": {
            "backgroundcolor": "#E5ECF6",
            "gridcolor": "white",
            "gridwidth": 2,
            "linecolor": "white",
            "showbackground": true,
            "ticks": "",
            "zerolinecolor": "white"
           },
           "yaxis": {
            "backgroundcolor": "#E5ECF6",
            "gridcolor": "white",
            "gridwidth": 2,
            "linecolor": "white",
            "showbackground": true,
            "ticks": "",
            "zerolinecolor": "white"
           },
           "zaxis": {
            "backgroundcolor": "#E5ECF6",
            "gridcolor": "white",
            "gridwidth": 2,
            "linecolor": "white",
            "showbackground": true,
            "ticks": "",
            "zerolinecolor": "white"
           }
          },
          "shapedefaults": {
           "line": {
            "color": "#2a3f5f"
           }
          },
          "ternary": {
           "aaxis": {
            "gridcolor": "white",
            "linecolor": "white",
            "ticks": ""
           },
           "baxis": {
            "gridcolor": "white",
            "linecolor": "white",
            "ticks": ""
           },
           "bgcolor": "#E5ECF6",
           "caxis": {
            "gridcolor": "white",
            "linecolor": "white",
            "ticks": ""
           }
          },
          "title": {
           "x": 0.05
          },
          "xaxis": {
           "automargin": true,
           "gridcolor": "white",
           "linecolor": "white",
           "ticks": "",
           "title": {
            "standoff": 15
           },
           "zerolinecolor": "white",
           "zerolinewidth": 2
          },
          "yaxis": {
           "automargin": true,
           "gridcolor": "white",
           "linecolor": "white",
           "ticks": "",
           "title": {
            "standoff": 15
           },
           "zerolinecolor": "white",
           "zerolinewidth": 2
          }
         }
        },
        "title": {
         "text": "Original data for soggetto_3"
        },
        "xaxis": {
         "anchor": "y",
         "domain": [
          0,
          1
         ]
        },
        "yaxis": {
         "anchor": "x",
         "autorange": "reversed",
         "domain": [
          0,
          1
         ]
        }
       }
      }
     },
     "metadata": {},
     "output_type": "display_data"
    },
    {
     "data": {
      "application/vnd.plotly.v1+json": {
       "config": {
        "plotlyServerURL": "https://plot.ly"
       },
       "data": [
        {
         "coloraxis": "coloraxis",
         "hovertemplate": "x: %{x}<br>y: %{y}<br>color: %{z}<extra></extra>",
         "name": "0",
         "texttemplate": "%{z:.2}",
         "type": "heatmap",
         "x": [
          "TrRi",
          "RiTr",
          "Plu",
          "Ttra",
          "Ttrb",
          "Tr",
          "MeTr",
          "MoTr",
          "RiRi",
          "MoFo",
          "Mmof",
          "MoRi",
          "MeRi",
          "Ri",
          "Comp"
         ],
         "xaxis": "x",
         "y": [
          "TrRi",
          "RiTr",
          "Plu",
          "Ttra",
          "Ttrb",
          "Tr",
          "MeTr",
          "MoTr",
          "RiRi",
          "MoFo",
          "Mmof",
          "MoRi",
          "MeRi",
          "Ri",
          "Comp"
         ],
         "yaxis": "y",
         "z": [
          [
           -0.8149135,
           0.8529999,
           0.22106825,
           0.8038488,
           0.5765486,
           -0.6772963,
           0.1885562,
           1.0943878,
           -0.07135575,
           0.24831308,
           -0.9991857,
           -0.5447283,
           -0.058256246,
           -0.41237196,
           -0.01080161
          ],
          [
           -0.54802686,
           -1.3686095,
           -1.1623293,
           1.690868,
           0.4439409,
           0.77147,
           -0.86304575,
           -0.17275032,
           1.5594678,
           0.060966488,
           -0.5346639,
           -0.34219047,
           1.3731532,
           0.5071142,
           -0.23560344
          ],
          [
           0.28627944,
           -1.4924728,
           -1.4794468,
           -0.08162476,
           0.54439104,
           -0.30474854,
           -0.03914604,
           0.37989587,
           0.9501049,
           -1.0197418,
           -0.085298404,
           0.73682976,
           -0.16142265,
           0.56735986,
           -0.26734844
          ],
          [
           -0.05476474,
           -1.0721776,
           -0.06821938,
           -0.6466186,
           0.26721075,
           1.6721288,
           -1.3531761,
           -2.3878143,
           0.021566914,
           -1.69366,
           -1.0818479,
           -1.5169805,
           1.180504,
           1.6783816,
           -0.18117677
          ],
          [
           0.41111597,
           -0.48953083,
           -0.043494884,
           0.13994904,
           -1.7988365,
           -0.68672717,
           -0.12058125,
           0.12744829,
           -0.28158227,
           -0.36851522,
           0.7372857,
           -0.68096936,
           -0.0727255,
           -0.7835914,
           0.19284219
          ],
          [
           0.98236597,
           0.26563832,
           0.0070550432,
           0.7089205,
           2.601161,
           -0.6051782,
           1.2808198,
           0.7674526,
           0.24461249,
           0.44342896,
           0.6286972,
           1.6304168,
           -1.0744255,
           1.392001,
           -0.23892559
          ],
          [
           0.3586595,
           -0.6325093,
           -0.45114666,
           1.7640665,
           1.0978214,
           -0.9767412,
           0.17200671,
           0.8693295,
           0.36467245,
           1.6030176,
           1.4273036,
           1.8173538,
           -0.7314354,
           -0.5171557,
           -0.2508159
          ],
          [
           0.41079432,
           1.6011492,
           1.5561432,
           -2.5679927,
           -1.7371974,
           0.112705536,
           0.0389698,
           -0.38700098,
           -2.349197,
           -0.6063741,
           -1.2943468,
           -1.5198184,
           -0.6376435,
           0.5975967,
           0.45502496
          ],
          [
           0.34197545,
           -0.09855891,
           0.2544681,
           0.62765276,
           1.2860059,
           -1.6970162,
           0.17543486,
           -0.3737114,
           -0.5301944,
           -0.018590078,
           -0.46724397,
           -0.49676228,
           -0.76704705,
           0.2656388,
           -0.13922125
          ],
          [
           -0.61526287,
           -0.75236756,
           -0.8542786,
           1.2151451,
           1.9137058,
           -0.3377178,
           0.47787118,
           -0.13839468,
           0.8990211,
           -0.41739947,
           -0.6156636,
           0.22390172,
           -0.13144834,
           0.7387925,
           -0.35569254
          ],
          [
           0.5476035,
           -0.7829202,
           0.30067736,
           1.0672559,
           -0.05036397,
           0.9608353,
           -1.727882,
           -1.3711249,
           0.24166994,
           -0.004792876,
           -1.0746773,
           -1.626046,
           1.2240049,
           1.7420682,
           -0.035578545
          ],
          [
           -1.4676435,
           0.29032475,
           -0.9086623,
           -0.7216514,
           -0.47844067,
           0.011652836,
           1.1245059,
           0.6357477,
           0.27633733,
           -0.33993226,
           0.51883316,
           0.76941067,
           -0.33221975,
           -2.009091,
           -0.048485596
          ],
          [
           -0.77975833,
           -0.2859341,
           -0.34057993,
           -0.128651,
           -0.6504519,
           1.650568,
           -1.0117356,
           0.16633819,
           0.35432097,
           -1.0766221,
           -0.100254625,
           -0.3648932,
           0.8995876,
           -0.43741134,
           -0.122346036
          ],
          [
           -0.28608826,
           0.45210662,
           -0.5170613,
           -1.4130325,
           -0.99857223,
           0.2255368,
           1.2575676,
           1.4212188,
           0.25871342,
           -0.04065346,
           1.409061,
           1.7759004,
           -0.5313339,
           -1.4708003,
           0.1394199
          ],
          [
           1.5357451,
           0.72540337,
           -0.5804604,
           -0.28947544,
           0.38097405,
           -0.72178566,
           1.314993,
           0.74245036,
           -0.17103606,
           -0.360935,
           0.7872232,
           -0.36319065,
           -0.73520565,
           0.47069383,
           -0.08803098
          ]
         ]
        }
       ],
       "layout": {
        "coloraxis": {
         "cmax": 5,
         "cmid": 0,
         "cmin": -5,
         "colorscale": [
          [
           0,
           "rgb(5,48,97)"
          ],
          [
           0.1,
           "rgb(33,102,172)"
          ],
          [
           0.2,
           "rgb(67,147,195)"
          ],
          [
           0.3,
           "rgb(146,197,222)"
          ],
          [
           0.4,
           "rgb(209,229,240)"
          ],
          [
           0.5,
           "rgb(247,247,247)"
          ],
          [
           0.6,
           "rgb(253,219,199)"
          ],
          [
           0.7,
           "rgb(244,165,130)"
          ],
          [
           0.8,
           "rgb(214,96,77)"
          ],
          [
           0.9,
           "rgb(178,24,43)"
          ],
          [
           1,
           "rgb(103,0,31)"
          ]
         ]
        },
        "template": {
         "data": {
          "bar": [
           {
            "error_x": {
             "color": "#2a3f5f"
            },
            "error_y": {
             "color": "#2a3f5f"
            },
            "marker": {
             "line": {
              "color": "#E5ECF6",
              "width": 0.5
             },
             "pattern": {
              "fillmode": "overlay",
              "size": 10,
              "solidity": 0.2
             }
            },
            "type": "bar"
           }
          ],
          "barpolar": [
           {
            "marker": {
             "line": {
              "color": "#E5ECF6",
              "width": 0.5
             },
             "pattern": {
              "fillmode": "overlay",
              "size": 10,
              "solidity": 0.2
             }
            },
            "type": "barpolar"
           }
          ],
          "carpet": [
           {
            "aaxis": {
             "endlinecolor": "#2a3f5f",
             "gridcolor": "white",
             "linecolor": "white",
             "minorgridcolor": "white",
             "startlinecolor": "#2a3f5f"
            },
            "baxis": {
             "endlinecolor": "#2a3f5f",
             "gridcolor": "white",
             "linecolor": "white",
             "minorgridcolor": "white",
             "startlinecolor": "#2a3f5f"
            },
            "type": "carpet"
           }
          ],
          "choropleth": [
           {
            "colorbar": {
             "outlinewidth": 0,
             "ticks": ""
            },
            "type": "choropleth"
           }
          ],
          "contour": [
           {
            "colorbar": {
             "outlinewidth": 0,
             "ticks": ""
            },
            "colorscale": [
             [
              0,
              "#0d0887"
             ],
             [
              0.1111111111111111,
              "#46039f"
             ],
             [
              0.2222222222222222,
              "#7201a8"
             ],
             [
              0.3333333333333333,
              "#9c179e"
             ],
             [
              0.4444444444444444,
              "#bd3786"
             ],
             [
              0.5555555555555556,
              "#d8576b"
             ],
             [
              0.6666666666666666,
              "#ed7953"
             ],
             [
              0.7777777777777778,
              "#fb9f3a"
             ],
             [
              0.8888888888888888,
              "#fdca26"
             ],
             [
              1,
              "#f0f921"
             ]
            ],
            "type": "contour"
           }
          ],
          "contourcarpet": [
           {
            "colorbar": {
             "outlinewidth": 0,
             "ticks": ""
            },
            "type": "contourcarpet"
           }
          ],
          "heatmap": [
           {
            "colorbar": {
             "outlinewidth": 0,
             "ticks": ""
            },
            "colorscale": [
             [
              0,
              "#0d0887"
             ],
             [
              0.1111111111111111,
              "#46039f"
             ],
             [
              0.2222222222222222,
              "#7201a8"
             ],
             [
              0.3333333333333333,
              "#9c179e"
             ],
             [
              0.4444444444444444,
              "#bd3786"
             ],
             [
              0.5555555555555556,
              "#d8576b"
             ],
             [
              0.6666666666666666,
              "#ed7953"
             ],
             [
              0.7777777777777778,
              "#fb9f3a"
             ],
             [
              0.8888888888888888,
              "#fdca26"
             ],
             [
              1,
              "#f0f921"
             ]
            ],
            "type": "heatmap"
           }
          ],
          "heatmapgl": [
           {
            "colorbar": {
             "outlinewidth": 0,
             "ticks": ""
            },
            "colorscale": [
             [
              0,
              "#0d0887"
             ],
             [
              0.1111111111111111,
              "#46039f"
             ],
             [
              0.2222222222222222,
              "#7201a8"
             ],
             [
              0.3333333333333333,
              "#9c179e"
             ],
             [
              0.4444444444444444,
              "#bd3786"
             ],
             [
              0.5555555555555556,
              "#d8576b"
             ],
             [
              0.6666666666666666,
              "#ed7953"
             ],
             [
              0.7777777777777778,
              "#fb9f3a"
             ],
             [
              0.8888888888888888,
              "#fdca26"
             ],
             [
              1,
              "#f0f921"
             ]
            ],
            "type": "heatmapgl"
           }
          ],
          "histogram": [
           {
            "marker": {
             "pattern": {
              "fillmode": "overlay",
              "size": 10,
              "solidity": 0.2
             }
            },
            "type": "histogram"
           }
          ],
          "histogram2d": [
           {
            "colorbar": {
             "outlinewidth": 0,
             "ticks": ""
            },
            "colorscale": [
             [
              0,
              "#0d0887"
             ],
             [
              0.1111111111111111,
              "#46039f"
             ],
             [
              0.2222222222222222,
              "#7201a8"
             ],
             [
              0.3333333333333333,
              "#9c179e"
             ],
             [
              0.4444444444444444,
              "#bd3786"
             ],
             [
              0.5555555555555556,
              "#d8576b"
             ],
             [
              0.6666666666666666,
              "#ed7953"
             ],
             [
              0.7777777777777778,
              "#fb9f3a"
             ],
             [
              0.8888888888888888,
              "#fdca26"
             ],
             [
              1,
              "#f0f921"
             ]
            ],
            "type": "histogram2d"
           }
          ],
          "histogram2dcontour": [
           {
            "colorbar": {
             "outlinewidth": 0,
             "ticks": ""
            },
            "colorscale": [
             [
              0,
              "#0d0887"
             ],
             [
              0.1111111111111111,
              "#46039f"
             ],
             [
              0.2222222222222222,
              "#7201a8"
             ],
             [
              0.3333333333333333,
              "#9c179e"
             ],
             [
              0.4444444444444444,
              "#bd3786"
             ],
             [
              0.5555555555555556,
              "#d8576b"
             ],
             [
              0.6666666666666666,
              "#ed7953"
             ],
             [
              0.7777777777777778,
              "#fb9f3a"
             ],
             [
              0.8888888888888888,
              "#fdca26"
             ],
             [
              1,
              "#f0f921"
             ]
            ],
            "type": "histogram2dcontour"
           }
          ],
          "mesh3d": [
           {
            "colorbar": {
             "outlinewidth": 0,
             "ticks": ""
            },
            "type": "mesh3d"
           }
          ],
          "parcoords": [
           {
            "line": {
             "colorbar": {
              "outlinewidth": 0,
              "ticks": ""
             }
            },
            "type": "parcoords"
           }
          ],
          "pie": [
           {
            "automargin": true,
            "type": "pie"
           }
          ],
          "scatter": [
           {
            "fillpattern": {
             "fillmode": "overlay",
             "size": 10,
             "solidity": 0.2
            },
            "type": "scatter"
           }
          ],
          "scatter3d": [
           {
            "line": {
             "colorbar": {
              "outlinewidth": 0,
              "ticks": ""
             }
            },
            "marker": {
             "colorbar": {
              "outlinewidth": 0,
              "ticks": ""
             }
            },
            "type": "scatter3d"
           }
          ],
          "scattercarpet": [
           {
            "marker": {
             "colorbar": {
              "outlinewidth": 0,
              "ticks": ""
             }
            },
            "type": "scattercarpet"
           }
          ],
          "scattergeo": [
           {
            "marker": {
             "colorbar": {
              "outlinewidth": 0,
              "ticks": ""
             }
            },
            "type": "scattergeo"
           }
          ],
          "scattergl": [
           {
            "marker": {
             "colorbar": {
              "outlinewidth": 0,
              "ticks": ""
             }
            },
            "type": "scattergl"
           }
          ],
          "scattermapbox": [
           {
            "marker": {
             "colorbar": {
              "outlinewidth": 0,
              "ticks": ""
             }
            },
            "type": "scattermapbox"
           }
          ],
          "scatterpolar": [
           {
            "marker": {
             "colorbar": {
              "outlinewidth": 0,
              "ticks": ""
             }
            },
            "type": "scatterpolar"
           }
          ],
          "scatterpolargl": [
           {
            "marker": {
             "colorbar": {
              "outlinewidth": 0,
              "ticks": ""
             }
            },
            "type": "scatterpolargl"
           }
          ],
          "scatterternary": [
           {
            "marker": {
             "colorbar": {
              "outlinewidth": 0,
              "ticks": ""
             }
            },
            "type": "scatterternary"
           }
          ],
          "surface": [
           {
            "colorbar": {
             "outlinewidth": 0,
             "ticks": ""
            },
            "colorscale": [
             [
              0,
              "#0d0887"
             ],
             [
              0.1111111111111111,
              "#46039f"
             ],
             [
              0.2222222222222222,
              "#7201a8"
             ],
             [
              0.3333333333333333,
              "#9c179e"
             ],
             [
              0.4444444444444444,
              "#bd3786"
             ],
             [
              0.5555555555555556,
              "#d8576b"
             ],
             [
              0.6666666666666666,
              "#ed7953"
             ],
             [
              0.7777777777777778,
              "#fb9f3a"
             ],
             [
              0.8888888888888888,
              "#fdca26"
             ],
             [
              1,
              "#f0f921"
             ]
            ],
            "type": "surface"
           }
          ],
          "table": [
           {
            "cells": {
             "fill": {
              "color": "#EBF0F8"
             },
             "line": {
              "color": "white"
             }
            },
            "header": {
             "fill": {
              "color": "#C8D4E3"
             },
             "line": {
              "color": "white"
             }
            },
            "type": "table"
           }
          ]
         },
         "layout": {
          "annotationdefaults": {
           "arrowcolor": "#2a3f5f",
           "arrowhead": 0,
           "arrowwidth": 1
          },
          "autotypenumbers": "strict",
          "coloraxis": {
           "colorbar": {
            "outlinewidth": 0,
            "ticks": ""
           }
          },
          "colorscale": {
           "diverging": [
            [
             0,
             "#8e0152"
            ],
            [
             0.1,
             "#c51b7d"
            ],
            [
             0.2,
             "#de77ae"
            ],
            [
             0.3,
             "#f1b6da"
            ],
            [
             0.4,
             "#fde0ef"
            ],
            [
             0.5,
             "#f7f7f7"
            ],
            [
             0.6,
             "#e6f5d0"
            ],
            [
             0.7,
             "#b8e186"
            ],
            [
             0.8,
             "#7fbc41"
            ],
            [
             0.9,
             "#4d9221"
            ],
            [
             1,
             "#276419"
            ]
           ],
           "sequential": [
            [
             0,
             "#0d0887"
            ],
            [
             0.1111111111111111,
             "#46039f"
            ],
            [
             0.2222222222222222,
             "#7201a8"
            ],
            [
             0.3333333333333333,
             "#9c179e"
            ],
            [
             0.4444444444444444,
             "#bd3786"
            ],
            [
             0.5555555555555556,
             "#d8576b"
            ],
            [
             0.6666666666666666,
             "#ed7953"
            ],
            [
             0.7777777777777778,
             "#fb9f3a"
            ],
            [
             0.8888888888888888,
             "#fdca26"
            ],
            [
             1,
             "#f0f921"
            ]
           ],
           "sequentialminus": [
            [
             0,
             "#0d0887"
            ],
            [
             0.1111111111111111,
             "#46039f"
            ],
            [
             0.2222222222222222,
             "#7201a8"
            ],
            [
             0.3333333333333333,
             "#9c179e"
            ],
            [
             0.4444444444444444,
             "#bd3786"
            ],
            [
             0.5555555555555556,
             "#d8576b"
            ],
            [
             0.6666666666666666,
             "#ed7953"
            ],
            [
             0.7777777777777778,
             "#fb9f3a"
            ],
            [
             0.8888888888888888,
             "#fdca26"
            ],
            [
             1,
             "#f0f921"
            ]
           ]
          },
          "colorway": [
           "#636efa",
           "#EF553B",
           "#00cc96",
           "#ab63fa",
           "#FFA15A",
           "#19d3f3",
           "#FF6692",
           "#B6E880",
           "#FF97FF",
           "#FECB52"
          ],
          "font": {
           "color": "#2a3f5f"
          },
          "geo": {
           "bgcolor": "white",
           "lakecolor": "white",
           "landcolor": "#E5ECF6",
           "showlakes": true,
           "showland": true,
           "subunitcolor": "white"
          },
          "hoverlabel": {
           "align": "left"
          },
          "hovermode": "closest",
          "mapbox": {
           "style": "light"
          },
          "paper_bgcolor": "white",
          "plot_bgcolor": "#E5ECF6",
          "polar": {
           "angularaxis": {
            "gridcolor": "white",
            "linecolor": "white",
            "ticks": ""
           },
           "bgcolor": "#E5ECF6",
           "radialaxis": {
            "gridcolor": "white",
            "linecolor": "white",
            "ticks": ""
           }
          },
          "scene": {
           "xaxis": {
            "backgroundcolor": "#E5ECF6",
            "gridcolor": "white",
            "gridwidth": 2,
            "linecolor": "white",
            "showbackground": true,
            "ticks": "",
            "zerolinecolor": "white"
           },
           "yaxis": {
            "backgroundcolor": "#E5ECF6",
            "gridcolor": "white",
            "gridwidth": 2,
            "linecolor": "white",
            "showbackground": true,
            "ticks": "",
            "zerolinecolor": "white"
           },
           "zaxis": {
            "backgroundcolor": "#E5ECF6",
            "gridcolor": "white",
            "gridwidth": 2,
            "linecolor": "white",
            "showbackground": true,
            "ticks": "",
            "zerolinecolor": "white"
           }
          },
          "shapedefaults": {
           "line": {
            "color": "#2a3f5f"
           }
          },
          "ternary": {
           "aaxis": {
            "gridcolor": "white",
            "linecolor": "white",
            "ticks": ""
           },
           "baxis": {
            "gridcolor": "white",
            "linecolor": "white",
            "ticks": ""
           },
           "bgcolor": "#E5ECF6",
           "caxis": {
            "gridcolor": "white",
            "linecolor": "white",
            "ticks": ""
           }
          },
          "title": {
           "x": 0.05
          },
          "xaxis": {
           "automargin": true,
           "gridcolor": "white",
           "linecolor": "white",
           "ticks": "",
           "title": {
            "standoff": 15
           },
           "zerolinecolor": "white",
           "zerolinewidth": 2
          },
          "yaxis": {
           "automargin": true,
           "gridcolor": "white",
           "linecolor": "white",
           "ticks": "",
           "title": {
            "standoff": 15
           },
           "zerolinecolor": "white",
           "zerolinewidth": 2
          }
         }
        },
        "title": {
         "text": "Original data for soggetto_6"
        },
        "xaxis": {
         "anchor": "y",
         "domain": [
          0,
          1
         ]
        },
        "yaxis": {
         "anchor": "x",
         "autorange": "reversed",
         "domain": [
          0,
          1
         ]
        }
       }
      }
     },
     "metadata": {},
     "output_type": "display_data"
    },
    {
     "data": {
      "application/vnd.plotly.v1+json": {
       "config": {
        "plotlyServerURL": "https://plot.ly"
       },
       "data": [
        {
         "coloraxis": "coloraxis",
         "hovertemplate": "x: %{x}<br>y: %{y}<br>color: %{z}<extra></extra>",
         "name": "0",
         "texttemplate": "%{z:.2}",
         "type": "heatmap",
         "x": [
          "TrRi",
          "RiTr",
          "Plu",
          "Ttra",
          "Ttrb",
          "Tr",
          "MeTr",
          "MoTr",
          "RiRi",
          "MoFo",
          "Mmof",
          "MoRi",
          "MeRi",
          "Ri",
          "Comp"
         ],
         "xaxis": "x",
         "y": [
          "TrRi",
          "RiTr",
          "Plu",
          "Ttra",
          "Ttrb",
          "Tr",
          "MeTr",
          "MoTr",
          "RiRi",
          "MoFo",
          "Mmof",
          "MoRi",
          "MeRi",
          "Ri",
          "Comp"
         ],
         "yaxis": "y",
         "z": [
          [
           -1.0491652,
           -0.24292885,
           0.7059571,
           -0.38748115,
           0.69794,
           -0.123295076,
           -0.38487542,
           -0.22444153,
           -0.7448725,
           -0.11168767,
           0.5867204,
           -0.32819566,
           -1.2252792,
           -0.24545974,
           -0.3655318
          ],
          [
           0.2096872,
           0.18499097,
           0.44201273,
           0.19697517,
           0.054837808,
           -0.23946829,
           0.6144453,
           0.2980396,
           0.5167332,
           -0.1532034,
           0.25753498,
           0.6962337,
           0.48027253,
           0.9381461,
           0.4862363
          ],
          [
           -0.84472257,
           -0.70668656,
           0.5398769,
           0.7751094,
           -0.17692383,
           -1.0269043,
           -1.1826031,
           0.50256526,
           -2.833512,
           -1.4030228,
           0.11157812,
           -2.6760373,
           -0.9913965,
           1.0118628,
           -0.8757647
          ],
          [
           0.7751447,
           0.45428926,
           0.07767234,
           -0.7682772,
           -0.5719727,
           2.1414998,
           1.0413024,
           -0.896986,
           -0.7701291,
           0.17238522,
           -0.4024219,
           -0.6124752,
           0.8631303,
           -0.047715373,
           0.30582818
          ],
          [
           -1.5659275,
           -1.1976354,
           -0.37726575,
           -1.7972994,
           -0.2857529,
           0.2313115,
           -1.3876187,
           -1.6974522,
           0.5821344,
           -0.32182175,
           -0.33449084,
           0.05688759,
           -1.3474716,
           -0.5041117,
           -0.32015333
          ],
          [
           0.4346614,
           0.47414953,
           -0.6643286,
           -0.24475442,
           -0.808698,
           0.4708955,
           0.6193925,
           -0.26396537,
           1.0104065,
           1.0013607,
           -0.8729293,
           0.44067383,
           0.5724455,
           -0.9258389,
           0.3060575
          ],
          [
           0.3876683,
           0.10753659,
           2.1169455,
           -0.034137838,
           -1.8105829,
           -1.6751692,
           0.8133108,
           0.2757795,
           -0.26721102,
           2.1935215,
           -1.6241341,
           -0.81612164,
           0.2498066,
           1.9003116,
           0.56278825
          ],
          [
           -0.7188457,
           -1.2670465,
           0.872952,
           -0.21479188,
           0.8312756,
           0.30556574,
           -0.4162738,
           -0.03229793,
           -0.4543772,
           1.4380603,
           0.87470937,
           -0.025734281,
           -1.0160543,
           1.0073813,
           0.27114898
          ],
          [
           -0.9076458,
           -0.6039681,
           -2.7713952,
           -0.55037135,
           1.8509371,
           2.0860348,
           -1.1176687,
           -0.7591997,
           3.7525995,
           -0.7247963,
           2.2152061,
           3.1339579,
           -0.85159296,
           -2.828727,
           -0.5999938
          ],
          [
           1.427375,
           1.7655587,
           0.9838093,
           2.0376382,
           0.2730646,
           -0.4275559,
           1.4731128,
           1.8692892,
           -1.1267215,
           0.39528856,
           0.25460494,
           -0.8782794,
           1.3356773,
           0.21894461,
           -0.02028813
          ],
          [
           -0.51691806,
           -0.23969302,
           -0.35004705,
           0.88212883,
           0.6121489,
           -1.2284036,
           -0.7104365,
           0.84075797,
           2.5308666,
           0.39436412,
           0.3340608,
           1.4322102,
           -0.60860616,
           -0.4630087,
           0.057973575
          ],
          [
           0.47128624,
           0.7023658,
           -0.3780041,
           -0.1276443,
           -1.0998276,
           -1.0109875,
           0.3367908,
           -0.09945995,
           0.6818826,
           1.4010371,
           -1.0614258,
           0.21997732,
           0.7450335,
           -0.36332613,
           0.02203814
          ],
          [
           0.13230631,
           0.12789717,
           0.6944189,
           0.46607444,
           -0.86259305,
           -1.3317009,
           0.3550078,
           0.42726743,
           -2.0498228,
           -0.17049056,
           -1.5588728,
           -1.6220509,
           0.26629707,
           0.95645905,
           0.52338773
          ],
          [
           -0.110833414,
           0.13846384,
           0.36555836,
           0.687625,
           -0.07864616,
           -0.062025715,
           -0.27562374,
           0.4244151,
           -2.1534677,
           0.13611937,
           -0.048598718,
           -2.2287853,
           -0.06928749,
           0.34185085,
           -0.45487094
          ],
          [
           1.1491691,
           1.290745,
           0.08912366,
           0.0149476165,
           0.14340675,
           -0.08991217,
           1.0170139,
           -0.0055598216,
           0.5950453,
           0.41781458,
           0.15227325,
           0.5298682,
           1.609206,
           0.32870176,
           0.053574022
          ]
         ]
        }
       ],
       "layout": {
        "coloraxis": {
         "cmax": 5,
         "cmid": 0,
         "cmin": -5,
         "colorscale": [
          [
           0,
           "rgb(5,48,97)"
          ],
          [
           0.1,
           "rgb(33,102,172)"
          ],
          [
           0.2,
           "rgb(67,147,195)"
          ],
          [
           0.3,
           "rgb(146,197,222)"
          ],
          [
           0.4,
           "rgb(209,229,240)"
          ],
          [
           0.5,
           "rgb(247,247,247)"
          ],
          [
           0.6,
           "rgb(253,219,199)"
          ],
          [
           0.7,
           "rgb(244,165,130)"
          ],
          [
           0.8,
           "rgb(214,96,77)"
          ],
          [
           0.9,
           "rgb(178,24,43)"
          ],
          [
           1,
           "rgb(103,0,31)"
          ]
         ]
        },
        "template": {
         "data": {
          "bar": [
           {
            "error_x": {
             "color": "#2a3f5f"
            },
            "error_y": {
             "color": "#2a3f5f"
            },
            "marker": {
             "line": {
              "color": "#E5ECF6",
              "width": 0.5
             },
             "pattern": {
              "fillmode": "overlay",
              "size": 10,
              "solidity": 0.2
             }
            },
            "type": "bar"
           }
          ],
          "barpolar": [
           {
            "marker": {
             "line": {
              "color": "#E5ECF6",
              "width": 0.5
             },
             "pattern": {
              "fillmode": "overlay",
              "size": 10,
              "solidity": 0.2
             }
            },
            "type": "barpolar"
           }
          ],
          "carpet": [
           {
            "aaxis": {
             "endlinecolor": "#2a3f5f",
             "gridcolor": "white",
             "linecolor": "white",
             "minorgridcolor": "white",
             "startlinecolor": "#2a3f5f"
            },
            "baxis": {
             "endlinecolor": "#2a3f5f",
             "gridcolor": "white",
             "linecolor": "white",
             "minorgridcolor": "white",
             "startlinecolor": "#2a3f5f"
            },
            "type": "carpet"
           }
          ],
          "choropleth": [
           {
            "colorbar": {
             "outlinewidth": 0,
             "ticks": ""
            },
            "type": "choropleth"
           }
          ],
          "contour": [
           {
            "colorbar": {
             "outlinewidth": 0,
             "ticks": ""
            },
            "colorscale": [
             [
              0,
              "#0d0887"
             ],
             [
              0.1111111111111111,
              "#46039f"
             ],
             [
              0.2222222222222222,
              "#7201a8"
             ],
             [
              0.3333333333333333,
              "#9c179e"
             ],
             [
              0.4444444444444444,
              "#bd3786"
             ],
             [
              0.5555555555555556,
              "#d8576b"
             ],
             [
              0.6666666666666666,
              "#ed7953"
             ],
             [
              0.7777777777777778,
              "#fb9f3a"
             ],
             [
              0.8888888888888888,
              "#fdca26"
             ],
             [
              1,
              "#f0f921"
             ]
            ],
            "type": "contour"
           }
          ],
          "contourcarpet": [
           {
            "colorbar": {
             "outlinewidth": 0,
             "ticks": ""
            },
            "type": "contourcarpet"
           }
          ],
          "heatmap": [
           {
            "colorbar": {
             "outlinewidth": 0,
             "ticks": ""
            },
            "colorscale": [
             [
              0,
              "#0d0887"
             ],
             [
              0.1111111111111111,
              "#46039f"
             ],
             [
              0.2222222222222222,
              "#7201a8"
             ],
             [
              0.3333333333333333,
              "#9c179e"
             ],
             [
              0.4444444444444444,
              "#bd3786"
             ],
             [
              0.5555555555555556,
              "#d8576b"
             ],
             [
              0.6666666666666666,
              "#ed7953"
             ],
             [
              0.7777777777777778,
              "#fb9f3a"
             ],
             [
              0.8888888888888888,
              "#fdca26"
             ],
             [
              1,
              "#f0f921"
             ]
            ],
            "type": "heatmap"
           }
          ],
          "heatmapgl": [
           {
            "colorbar": {
             "outlinewidth": 0,
             "ticks": ""
            },
            "colorscale": [
             [
              0,
              "#0d0887"
             ],
             [
              0.1111111111111111,
              "#46039f"
             ],
             [
              0.2222222222222222,
              "#7201a8"
             ],
             [
              0.3333333333333333,
              "#9c179e"
             ],
             [
              0.4444444444444444,
              "#bd3786"
             ],
             [
              0.5555555555555556,
              "#d8576b"
             ],
             [
              0.6666666666666666,
              "#ed7953"
             ],
             [
              0.7777777777777778,
              "#fb9f3a"
             ],
             [
              0.8888888888888888,
              "#fdca26"
             ],
             [
              1,
              "#f0f921"
             ]
            ],
            "type": "heatmapgl"
           }
          ],
          "histogram": [
           {
            "marker": {
             "pattern": {
              "fillmode": "overlay",
              "size": 10,
              "solidity": 0.2
             }
            },
            "type": "histogram"
           }
          ],
          "histogram2d": [
           {
            "colorbar": {
             "outlinewidth": 0,
             "ticks": ""
            },
            "colorscale": [
             [
              0,
              "#0d0887"
             ],
             [
              0.1111111111111111,
              "#46039f"
             ],
             [
              0.2222222222222222,
              "#7201a8"
             ],
             [
              0.3333333333333333,
              "#9c179e"
             ],
             [
              0.4444444444444444,
              "#bd3786"
             ],
             [
              0.5555555555555556,
              "#d8576b"
             ],
             [
              0.6666666666666666,
              "#ed7953"
             ],
             [
              0.7777777777777778,
              "#fb9f3a"
             ],
             [
              0.8888888888888888,
              "#fdca26"
             ],
             [
              1,
              "#f0f921"
             ]
            ],
            "type": "histogram2d"
           }
          ],
          "histogram2dcontour": [
           {
            "colorbar": {
             "outlinewidth": 0,
             "ticks": ""
            },
            "colorscale": [
             [
              0,
              "#0d0887"
             ],
             [
              0.1111111111111111,
              "#46039f"
             ],
             [
              0.2222222222222222,
              "#7201a8"
             ],
             [
              0.3333333333333333,
              "#9c179e"
             ],
             [
              0.4444444444444444,
              "#bd3786"
             ],
             [
              0.5555555555555556,
              "#d8576b"
             ],
             [
              0.6666666666666666,
              "#ed7953"
             ],
             [
              0.7777777777777778,
              "#fb9f3a"
             ],
             [
              0.8888888888888888,
              "#fdca26"
             ],
             [
              1,
              "#f0f921"
             ]
            ],
            "type": "histogram2dcontour"
           }
          ],
          "mesh3d": [
           {
            "colorbar": {
             "outlinewidth": 0,
             "ticks": ""
            },
            "type": "mesh3d"
           }
          ],
          "parcoords": [
           {
            "line": {
             "colorbar": {
              "outlinewidth": 0,
              "ticks": ""
             }
            },
            "type": "parcoords"
           }
          ],
          "pie": [
           {
            "automargin": true,
            "type": "pie"
           }
          ],
          "scatter": [
           {
            "fillpattern": {
             "fillmode": "overlay",
             "size": 10,
             "solidity": 0.2
            },
            "type": "scatter"
           }
          ],
          "scatter3d": [
           {
            "line": {
             "colorbar": {
              "outlinewidth": 0,
              "ticks": ""
             }
            },
            "marker": {
             "colorbar": {
              "outlinewidth": 0,
              "ticks": ""
             }
            },
            "type": "scatter3d"
           }
          ],
          "scattercarpet": [
           {
            "marker": {
             "colorbar": {
              "outlinewidth": 0,
              "ticks": ""
             }
            },
            "type": "scattercarpet"
           }
          ],
          "scattergeo": [
           {
            "marker": {
             "colorbar": {
              "outlinewidth": 0,
              "ticks": ""
             }
            },
            "type": "scattergeo"
           }
          ],
          "scattergl": [
           {
            "marker": {
             "colorbar": {
              "outlinewidth": 0,
              "ticks": ""
             }
            },
            "type": "scattergl"
           }
          ],
          "scattermapbox": [
           {
            "marker": {
             "colorbar": {
              "outlinewidth": 0,
              "ticks": ""
             }
            },
            "type": "scattermapbox"
           }
          ],
          "scatterpolar": [
           {
            "marker": {
             "colorbar": {
              "outlinewidth": 0,
              "ticks": ""
             }
            },
            "type": "scatterpolar"
           }
          ],
          "scatterpolargl": [
           {
            "marker": {
             "colorbar": {
              "outlinewidth": 0,
              "ticks": ""
             }
            },
            "type": "scatterpolargl"
           }
          ],
          "scatterternary": [
           {
            "marker": {
             "colorbar": {
              "outlinewidth": 0,
              "ticks": ""
             }
            },
            "type": "scatterternary"
           }
          ],
          "surface": [
           {
            "colorbar": {
             "outlinewidth": 0,
             "ticks": ""
            },
            "colorscale": [
             [
              0,
              "#0d0887"
             ],
             [
              0.1111111111111111,
              "#46039f"
             ],
             [
              0.2222222222222222,
              "#7201a8"
             ],
             [
              0.3333333333333333,
              "#9c179e"
             ],
             [
              0.4444444444444444,
              "#bd3786"
             ],
             [
              0.5555555555555556,
              "#d8576b"
             ],
             [
              0.6666666666666666,
              "#ed7953"
             ],
             [
              0.7777777777777778,
              "#fb9f3a"
             ],
             [
              0.8888888888888888,
              "#fdca26"
             ],
             [
              1,
              "#f0f921"
             ]
            ],
            "type": "surface"
           }
          ],
          "table": [
           {
            "cells": {
             "fill": {
              "color": "#EBF0F8"
             },
             "line": {
              "color": "white"
             }
            },
            "header": {
             "fill": {
              "color": "#C8D4E3"
             },
             "line": {
              "color": "white"
             }
            },
            "type": "table"
           }
          ]
         },
         "layout": {
          "annotationdefaults": {
           "arrowcolor": "#2a3f5f",
           "arrowhead": 0,
           "arrowwidth": 1
          },
          "autotypenumbers": "strict",
          "coloraxis": {
           "colorbar": {
            "outlinewidth": 0,
            "ticks": ""
           }
          },
          "colorscale": {
           "diverging": [
            [
             0,
             "#8e0152"
            ],
            [
             0.1,
             "#c51b7d"
            ],
            [
             0.2,
             "#de77ae"
            ],
            [
             0.3,
             "#f1b6da"
            ],
            [
             0.4,
             "#fde0ef"
            ],
            [
             0.5,
             "#f7f7f7"
            ],
            [
             0.6,
             "#e6f5d0"
            ],
            [
             0.7,
             "#b8e186"
            ],
            [
             0.8,
             "#7fbc41"
            ],
            [
             0.9,
             "#4d9221"
            ],
            [
             1,
             "#276419"
            ]
           ],
           "sequential": [
            [
             0,
             "#0d0887"
            ],
            [
             0.1111111111111111,
             "#46039f"
            ],
            [
             0.2222222222222222,
             "#7201a8"
            ],
            [
             0.3333333333333333,
             "#9c179e"
            ],
            [
             0.4444444444444444,
             "#bd3786"
            ],
            [
             0.5555555555555556,
             "#d8576b"
            ],
            [
             0.6666666666666666,
             "#ed7953"
            ],
            [
             0.7777777777777778,
             "#fb9f3a"
            ],
            [
             0.8888888888888888,
             "#fdca26"
            ],
            [
             1,
             "#f0f921"
            ]
           ],
           "sequentialminus": [
            [
             0,
             "#0d0887"
            ],
            [
             0.1111111111111111,
             "#46039f"
            ],
            [
             0.2222222222222222,
             "#7201a8"
            ],
            [
             0.3333333333333333,
             "#9c179e"
            ],
            [
             0.4444444444444444,
             "#bd3786"
            ],
            [
             0.5555555555555556,
             "#d8576b"
            ],
            [
             0.6666666666666666,
             "#ed7953"
            ],
            [
             0.7777777777777778,
             "#fb9f3a"
            ],
            [
             0.8888888888888888,
             "#fdca26"
            ],
            [
             1,
             "#f0f921"
            ]
           ]
          },
          "colorway": [
           "#636efa",
           "#EF553B",
           "#00cc96",
           "#ab63fa",
           "#FFA15A",
           "#19d3f3",
           "#FF6692",
           "#B6E880",
           "#FF97FF",
           "#FECB52"
          ],
          "font": {
           "color": "#2a3f5f"
          },
          "geo": {
           "bgcolor": "white",
           "lakecolor": "white",
           "landcolor": "#E5ECF6",
           "showlakes": true,
           "showland": true,
           "subunitcolor": "white"
          },
          "hoverlabel": {
           "align": "left"
          },
          "hovermode": "closest",
          "mapbox": {
           "style": "light"
          },
          "paper_bgcolor": "white",
          "plot_bgcolor": "#E5ECF6",
          "polar": {
           "angularaxis": {
            "gridcolor": "white",
            "linecolor": "white",
            "ticks": ""
           },
           "bgcolor": "#E5ECF6",
           "radialaxis": {
            "gridcolor": "white",
            "linecolor": "white",
            "ticks": ""
           }
          },
          "scene": {
           "xaxis": {
            "backgroundcolor": "#E5ECF6",
            "gridcolor": "white",
            "gridwidth": 2,
            "linecolor": "white",
            "showbackground": true,
            "ticks": "",
            "zerolinecolor": "white"
           },
           "yaxis": {
            "backgroundcolor": "#E5ECF6",
            "gridcolor": "white",
            "gridwidth": 2,
            "linecolor": "white",
            "showbackground": true,
            "ticks": "",
            "zerolinecolor": "white"
           },
           "zaxis": {
            "backgroundcolor": "#E5ECF6",
            "gridcolor": "white",
            "gridwidth": 2,
            "linecolor": "white",
            "showbackground": true,
            "ticks": "",
            "zerolinecolor": "white"
           }
          },
          "shapedefaults": {
           "line": {
            "color": "#2a3f5f"
           }
          },
          "ternary": {
           "aaxis": {
            "gridcolor": "white",
            "linecolor": "white",
            "ticks": ""
           },
           "baxis": {
            "gridcolor": "white",
            "linecolor": "white",
            "ticks": ""
           },
           "bgcolor": "#E5ECF6",
           "caxis": {
            "gridcolor": "white",
            "linecolor": "white",
            "ticks": ""
           }
          },
          "title": {
           "x": 0.05
          },
          "xaxis": {
           "automargin": true,
           "gridcolor": "white",
           "linecolor": "white",
           "ticks": "",
           "title": {
            "standoff": 15
           },
           "zerolinecolor": "white",
           "zerolinewidth": 2
          },
          "yaxis": {
           "automargin": true,
           "gridcolor": "white",
           "linecolor": "white",
           "ticks": "",
           "title": {
            "standoff": 15
           },
           "zerolinecolor": "white",
           "zerolinewidth": 2
          }
         }
        },
        "title": {
         "text": "Original data for soggetto_7"
        },
        "xaxis": {
         "anchor": "y",
         "domain": [
          0,
          1
         ]
        },
        "yaxis": {
         "anchor": "x",
         "autorange": "reversed",
         "domain": [
          0,
          1
         ]
        }
       }
      }
     },
     "metadata": {},
     "output_type": "display_data"
    },
    {
     "data": {
      "application/vnd.plotly.v1+json": {
       "config": {
        "plotlyServerURL": "https://plot.ly"
       },
       "data": [
        {
         "coloraxis": "coloraxis",
         "hovertemplate": "x: %{x}<br>y: %{y}<br>color: %{z}<extra></extra>",
         "name": "0",
         "texttemplate": "%{z:.2}",
         "type": "heatmap",
         "x": [
          "TrRi",
          "RiTr",
          "Plu",
          "Ttra",
          "Ttrb",
          "Tr",
          "MeTr",
          "MoTr",
          "RiRi",
          "MoFo",
          "Mmof",
          "MoRi",
          "MeRi",
          "Ri",
          "Comp"
         ],
         "xaxis": "x",
         "y": [
          "TrRi",
          "RiTr",
          "Plu",
          "Ttra",
          "Ttrb",
          "Tr",
          "MeTr",
          "MoTr",
          "RiRi",
          "MoFo",
          "Mmof",
          "MoRi",
          "MeRi",
          "Ri",
          "Comp"
         ],
         "yaxis": "y",
         "z": [
          [
           -0.77725464,
           -2.9921095,
           -2.3339868,
           0.019619761,
           -1.1660905,
           2.1843786,
           -0.3562219,
           -1.6684425,
           4.292722,
           -2.5511265,
           0.42820898,
           0.23590857,
           2.6589928,
           -1.6709657,
           -0.7102975
          ],
          [
           1.694356,
           0.67380387,
           -1.1767901,
           0.18055058,
           0.9155356,
           1.9214281,
           -0.6495765,
           -1.9866455,
           1.1243826,
           -1.5660121,
           -0.5703179,
           0.229777,
           0.55085933,
           -1.0211068,
           -0.40246627
          ],
          [
           0.6979249,
           0.48586136,
           0.6757685,
           0.5650695,
           1.0637437,
           -2.7744734,
           1.3371117,
           1.7527468,
           -2.4339209,
           0.95271957,
           0.99894154,
           0.8375703,
           -1.0817448,
           0.97479707,
           0.4186451
          ],
          [
           0.26182178,
           -1.9838833,
           1.0695288,
           1.5114735,
           -0.32074404,
           -0.38686466,
           0.009916551,
           -0.26705062,
           0.93770003,
           0.67519283,
           -0.6296586,
           -0.49395987,
           -0.11932093,
           1.2024984,
           -0.13598895
          ],
          [
           1.6147958,
           1.1150882,
           -0.1635785,
           1.3397919,
           -0.49930543,
           -0.014200433,
           0.15243667,
           -0.8752229,
           1.0612597,
           0.030396119,
           -0.6438398,
           -1.135984,
           0.60171616,
           0.053630084,
           -0.08342502
          ],
          [
           -2.3769088,
           -1.6946212,
           0.7622394,
           -1.7642686,
           -1.8782196,
           -0.31026343,
           1.0336276,
           -0.2786207,
           0.9230926,
           -0.43881994,
           1.7554104,
           1.591676,
           0.53006893,
           1.1526716,
           -0.32003537
          ],
          [
           -2.9929624,
           0.9597547,
           0.28232154,
           -4.110459,
           -2.331095,
           2.2849457,
           0.7860457,
           0.1322676,
           1.040278,
           -0.22456154,
           3.0874872,
           2.8639445,
           0.8616867,
           0.7255247,
           0.09020163
          ],
          [
           1.8448287,
           0.7567351,
           1.3317275,
           0.39747322,
           1.3336915,
           -1.1151825,
           0.15160498,
           -0.66323113,
           -0.5265804,
           -0.07020405,
           -0.9636048,
           -1.0149467,
           -0.73619795,
           1.2375588,
           -0.36864242
          ],
          [
           1.4479882,
           -1.0014769,
           -0.89355403,
           1.2599514,
           2.4234707,
           -0.5859871,
           -0.19824727,
           -0.35848346,
           0.057987418,
           -1.7342123,
           -0.9118488,
           -0.5216104,
           0.043787483,
           -1.1006466,
           -0.46960405
          ],
          [
           0.6649926,
           0.14887747,
           -0.47217247,
           0.38500822,
           -0.27962476,
           1.6619982,
           -0.12834299,
           -0.8901256,
           1.0642438,
           -0.47165236,
           -0.5740351,
           -0.6755845,
           0.2957332,
           -0.40225807,
           0.36884397
          ],
          [
           2.0282974,
           -0.8631842,
           -0.45848864,
           2.3214104,
           1.1296595,
           -0.21452141,
           -0.46192825,
           -0.20474252,
           0.92725736,
           0.22557035,
           -1.2083261,
           -0.9511033,
           0.41548648,
           -0.2763666,
           -0.09547288
          ],
          [
           0.18617849,
           1.6428894,
           1.7933413,
           0.23820916,
           -0.41883728,
           -3.7916958,
           1.7060937,
           1.5670456,
           -3.4363713,
           2.0797794,
           0.62790203,
           0.18742141,
           -1.6340941,
           1.9594468,
           0.67079496
          ],
          [
           -1.1254876,
           -0.45022708,
           0.17142302,
           -0.81496054,
           -2.3296902,
           -0.80592835,
           -0.7084707,
           -0.45108706,
           0.08015412,
           0.97068244,
           -0.0769977,
           -0.19562188,
           0.00014875762,
           0.526568,
           -0.35757002
          ],
          [
           -2.3416336,
           0.3663374,
           0.98628485,
           -3.0485194,
           -1.0770531,
           -0.59790015,
           0.7950897,
           0.4709691,
           -1.0574456,
           -0.9623174,
           1.4728104,
           0.6785291,
           -0.57063097,
           0.6693059,
           0.15661244
          ],
          [
           1.5646518,
           0.8945762,
           0.23117255,
           1.5731071,
           0.27196532,
           -0.7968202,
           -0.18717949,
           0.09180814,
           -0.9723857,
           1.5149003,
           0.069333114,
           0.8013165,
           -0.43262944,
           0.37645862,
           0.20819083
          ]
         ]
        }
       ],
       "layout": {
        "coloraxis": {
         "cmax": 5,
         "cmid": 0,
         "cmin": -5,
         "colorscale": [
          [
           0,
           "rgb(5,48,97)"
          ],
          [
           0.1,
           "rgb(33,102,172)"
          ],
          [
           0.2,
           "rgb(67,147,195)"
          ],
          [
           0.3,
           "rgb(146,197,222)"
          ],
          [
           0.4,
           "rgb(209,229,240)"
          ],
          [
           0.5,
           "rgb(247,247,247)"
          ],
          [
           0.6,
           "rgb(253,219,199)"
          ],
          [
           0.7,
           "rgb(244,165,130)"
          ],
          [
           0.8,
           "rgb(214,96,77)"
          ],
          [
           0.9,
           "rgb(178,24,43)"
          ],
          [
           1,
           "rgb(103,0,31)"
          ]
         ]
        },
        "template": {
         "data": {
          "bar": [
           {
            "error_x": {
             "color": "#2a3f5f"
            },
            "error_y": {
             "color": "#2a3f5f"
            },
            "marker": {
             "line": {
              "color": "#E5ECF6",
              "width": 0.5
             },
             "pattern": {
              "fillmode": "overlay",
              "size": 10,
              "solidity": 0.2
             }
            },
            "type": "bar"
           }
          ],
          "barpolar": [
           {
            "marker": {
             "line": {
              "color": "#E5ECF6",
              "width": 0.5
             },
             "pattern": {
              "fillmode": "overlay",
              "size": 10,
              "solidity": 0.2
             }
            },
            "type": "barpolar"
           }
          ],
          "carpet": [
           {
            "aaxis": {
             "endlinecolor": "#2a3f5f",
             "gridcolor": "white",
             "linecolor": "white",
             "minorgridcolor": "white",
             "startlinecolor": "#2a3f5f"
            },
            "baxis": {
             "endlinecolor": "#2a3f5f",
             "gridcolor": "white",
             "linecolor": "white",
             "minorgridcolor": "white",
             "startlinecolor": "#2a3f5f"
            },
            "type": "carpet"
           }
          ],
          "choropleth": [
           {
            "colorbar": {
             "outlinewidth": 0,
             "ticks": ""
            },
            "type": "choropleth"
           }
          ],
          "contour": [
           {
            "colorbar": {
             "outlinewidth": 0,
             "ticks": ""
            },
            "colorscale": [
             [
              0,
              "#0d0887"
             ],
             [
              0.1111111111111111,
              "#46039f"
             ],
             [
              0.2222222222222222,
              "#7201a8"
             ],
             [
              0.3333333333333333,
              "#9c179e"
             ],
             [
              0.4444444444444444,
              "#bd3786"
             ],
             [
              0.5555555555555556,
              "#d8576b"
             ],
             [
              0.6666666666666666,
              "#ed7953"
             ],
             [
              0.7777777777777778,
              "#fb9f3a"
             ],
             [
              0.8888888888888888,
              "#fdca26"
             ],
             [
              1,
              "#f0f921"
             ]
            ],
            "type": "contour"
           }
          ],
          "contourcarpet": [
           {
            "colorbar": {
             "outlinewidth": 0,
             "ticks": ""
            },
            "type": "contourcarpet"
           }
          ],
          "heatmap": [
           {
            "colorbar": {
             "outlinewidth": 0,
             "ticks": ""
            },
            "colorscale": [
             [
              0,
              "#0d0887"
             ],
             [
              0.1111111111111111,
              "#46039f"
             ],
             [
              0.2222222222222222,
              "#7201a8"
             ],
             [
              0.3333333333333333,
              "#9c179e"
             ],
             [
              0.4444444444444444,
              "#bd3786"
             ],
             [
              0.5555555555555556,
              "#d8576b"
             ],
             [
              0.6666666666666666,
              "#ed7953"
             ],
             [
              0.7777777777777778,
              "#fb9f3a"
             ],
             [
              0.8888888888888888,
              "#fdca26"
             ],
             [
              1,
              "#f0f921"
             ]
            ],
            "type": "heatmap"
           }
          ],
          "heatmapgl": [
           {
            "colorbar": {
             "outlinewidth": 0,
             "ticks": ""
            },
            "colorscale": [
             [
              0,
              "#0d0887"
             ],
             [
              0.1111111111111111,
              "#46039f"
             ],
             [
              0.2222222222222222,
              "#7201a8"
             ],
             [
              0.3333333333333333,
              "#9c179e"
             ],
             [
              0.4444444444444444,
              "#bd3786"
             ],
             [
              0.5555555555555556,
              "#d8576b"
             ],
             [
              0.6666666666666666,
              "#ed7953"
             ],
             [
              0.7777777777777778,
              "#fb9f3a"
             ],
             [
              0.8888888888888888,
              "#fdca26"
             ],
             [
              1,
              "#f0f921"
             ]
            ],
            "type": "heatmapgl"
           }
          ],
          "histogram": [
           {
            "marker": {
             "pattern": {
              "fillmode": "overlay",
              "size": 10,
              "solidity": 0.2
             }
            },
            "type": "histogram"
           }
          ],
          "histogram2d": [
           {
            "colorbar": {
             "outlinewidth": 0,
             "ticks": ""
            },
            "colorscale": [
             [
              0,
              "#0d0887"
             ],
             [
              0.1111111111111111,
              "#46039f"
             ],
             [
              0.2222222222222222,
              "#7201a8"
             ],
             [
              0.3333333333333333,
              "#9c179e"
             ],
             [
              0.4444444444444444,
              "#bd3786"
             ],
             [
              0.5555555555555556,
              "#d8576b"
             ],
             [
              0.6666666666666666,
              "#ed7953"
             ],
             [
              0.7777777777777778,
              "#fb9f3a"
             ],
             [
              0.8888888888888888,
              "#fdca26"
             ],
             [
              1,
              "#f0f921"
             ]
            ],
            "type": "histogram2d"
           }
          ],
          "histogram2dcontour": [
           {
            "colorbar": {
             "outlinewidth": 0,
             "ticks": ""
            },
            "colorscale": [
             [
              0,
              "#0d0887"
             ],
             [
              0.1111111111111111,
              "#46039f"
             ],
             [
              0.2222222222222222,
              "#7201a8"
             ],
             [
              0.3333333333333333,
              "#9c179e"
             ],
             [
              0.4444444444444444,
              "#bd3786"
             ],
             [
              0.5555555555555556,
              "#d8576b"
             ],
             [
              0.6666666666666666,
              "#ed7953"
             ],
             [
              0.7777777777777778,
              "#fb9f3a"
             ],
             [
              0.8888888888888888,
              "#fdca26"
             ],
             [
              1,
              "#f0f921"
             ]
            ],
            "type": "histogram2dcontour"
           }
          ],
          "mesh3d": [
           {
            "colorbar": {
             "outlinewidth": 0,
             "ticks": ""
            },
            "type": "mesh3d"
           }
          ],
          "parcoords": [
           {
            "line": {
             "colorbar": {
              "outlinewidth": 0,
              "ticks": ""
             }
            },
            "type": "parcoords"
           }
          ],
          "pie": [
           {
            "automargin": true,
            "type": "pie"
           }
          ],
          "scatter": [
           {
            "fillpattern": {
             "fillmode": "overlay",
             "size": 10,
             "solidity": 0.2
            },
            "type": "scatter"
           }
          ],
          "scatter3d": [
           {
            "line": {
             "colorbar": {
              "outlinewidth": 0,
              "ticks": ""
             }
            },
            "marker": {
             "colorbar": {
              "outlinewidth": 0,
              "ticks": ""
             }
            },
            "type": "scatter3d"
           }
          ],
          "scattercarpet": [
           {
            "marker": {
             "colorbar": {
              "outlinewidth": 0,
              "ticks": ""
             }
            },
            "type": "scattercarpet"
           }
          ],
          "scattergeo": [
           {
            "marker": {
             "colorbar": {
              "outlinewidth": 0,
              "ticks": ""
             }
            },
            "type": "scattergeo"
           }
          ],
          "scattergl": [
           {
            "marker": {
             "colorbar": {
              "outlinewidth": 0,
              "ticks": ""
             }
            },
            "type": "scattergl"
           }
          ],
          "scattermapbox": [
           {
            "marker": {
             "colorbar": {
              "outlinewidth": 0,
              "ticks": ""
             }
            },
            "type": "scattermapbox"
           }
          ],
          "scatterpolar": [
           {
            "marker": {
             "colorbar": {
              "outlinewidth": 0,
              "ticks": ""
             }
            },
            "type": "scatterpolar"
           }
          ],
          "scatterpolargl": [
           {
            "marker": {
             "colorbar": {
              "outlinewidth": 0,
              "ticks": ""
             }
            },
            "type": "scatterpolargl"
           }
          ],
          "scatterternary": [
           {
            "marker": {
             "colorbar": {
              "outlinewidth": 0,
              "ticks": ""
             }
            },
            "type": "scatterternary"
           }
          ],
          "surface": [
           {
            "colorbar": {
             "outlinewidth": 0,
             "ticks": ""
            },
            "colorscale": [
             [
              0,
              "#0d0887"
             ],
             [
              0.1111111111111111,
              "#46039f"
             ],
             [
              0.2222222222222222,
              "#7201a8"
             ],
             [
              0.3333333333333333,
              "#9c179e"
             ],
             [
              0.4444444444444444,
              "#bd3786"
             ],
             [
              0.5555555555555556,
              "#d8576b"
             ],
             [
              0.6666666666666666,
              "#ed7953"
             ],
             [
              0.7777777777777778,
              "#fb9f3a"
             ],
             [
              0.8888888888888888,
              "#fdca26"
             ],
             [
              1,
              "#f0f921"
             ]
            ],
            "type": "surface"
           }
          ],
          "table": [
           {
            "cells": {
             "fill": {
              "color": "#EBF0F8"
             },
             "line": {
              "color": "white"
             }
            },
            "header": {
             "fill": {
              "color": "#C8D4E3"
             },
             "line": {
              "color": "white"
             }
            },
            "type": "table"
           }
          ]
         },
         "layout": {
          "annotationdefaults": {
           "arrowcolor": "#2a3f5f",
           "arrowhead": 0,
           "arrowwidth": 1
          },
          "autotypenumbers": "strict",
          "coloraxis": {
           "colorbar": {
            "outlinewidth": 0,
            "ticks": ""
           }
          },
          "colorscale": {
           "diverging": [
            [
             0,
             "#8e0152"
            ],
            [
             0.1,
             "#c51b7d"
            ],
            [
             0.2,
             "#de77ae"
            ],
            [
             0.3,
             "#f1b6da"
            ],
            [
             0.4,
             "#fde0ef"
            ],
            [
             0.5,
             "#f7f7f7"
            ],
            [
             0.6,
             "#e6f5d0"
            ],
            [
             0.7,
             "#b8e186"
            ],
            [
             0.8,
             "#7fbc41"
            ],
            [
             0.9,
             "#4d9221"
            ],
            [
             1,
             "#276419"
            ]
           ],
           "sequential": [
            [
             0,
             "#0d0887"
            ],
            [
             0.1111111111111111,
             "#46039f"
            ],
            [
             0.2222222222222222,
             "#7201a8"
            ],
            [
             0.3333333333333333,
             "#9c179e"
            ],
            [
             0.4444444444444444,
             "#bd3786"
            ],
            [
             0.5555555555555556,
             "#d8576b"
            ],
            [
             0.6666666666666666,
             "#ed7953"
            ],
            [
             0.7777777777777778,
             "#fb9f3a"
            ],
            [
             0.8888888888888888,
             "#fdca26"
            ],
            [
             1,
             "#f0f921"
            ]
           ],
           "sequentialminus": [
            [
             0,
             "#0d0887"
            ],
            [
             0.1111111111111111,
             "#46039f"
            ],
            [
             0.2222222222222222,
             "#7201a8"
            ],
            [
             0.3333333333333333,
             "#9c179e"
            ],
            [
             0.4444444444444444,
             "#bd3786"
            ],
            [
             0.5555555555555556,
             "#d8576b"
            ],
            [
             0.6666666666666666,
             "#ed7953"
            ],
            [
             0.7777777777777778,
             "#fb9f3a"
            ],
            [
             0.8888888888888888,
             "#fdca26"
            ],
            [
             1,
             "#f0f921"
            ]
           ]
          },
          "colorway": [
           "#636efa",
           "#EF553B",
           "#00cc96",
           "#ab63fa",
           "#FFA15A",
           "#19d3f3",
           "#FF6692",
           "#B6E880",
           "#FF97FF",
           "#FECB52"
          ],
          "font": {
           "color": "#2a3f5f"
          },
          "geo": {
           "bgcolor": "white",
           "lakecolor": "white",
           "landcolor": "#E5ECF6",
           "showlakes": true,
           "showland": true,
           "subunitcolor": "white"
          },
          "hoverlabel": {
           "align": "left"
          },
          "hovermode": "closest",
          "mapbox": {
           "style": "light"
          },
          "paper_bgcolor": "white",
          "plot_bgcolor": "#E5ECF6",
          "polar": {
           "angularaxis": {
            "gridcolor": "white",
            "linecolor": "white",
            "ticks": ""
           },
           "bgcolor": "#E5ECF6",
           "radialaxis": {
            "gridcolor": "white",
            "linecolor": "white",
            "ticks": ""
           }
          },
          "scene": {
           "xaxis": {
            "backgroundcolor": "#E5ECF6",
            "gridcolor": "white",
            "gridwidth": 2,
            "linecolor": "white",
            "showbackground": true,
            "ticks": "",
            "zerolinecolor": "white"
           },
           "yaxis": {
            "backgroundcolor": "#E5ECF6",
            "gridcolor": "white",
            "gridwidth": 2,
            "linecolor": "white",
            "showbackground": true,
            "ticks": "",
            "zerolinecolor": "white"
           },
           "zaxis": {
            "backgroundcolor": "#E5ECF6",
            "gridcolor": "white",
            "gridwidth": 2,
            "linecolor": "white",
            "showbackground": true,
            "ticks": "",
            "zerolinecolor": "white"
           }
          },
          "shapedefaults": {
           "line": {
            "color": "#2a3f5f"
           }
          },
          "ternary": {
           "aaxis": {
            "gridcolor": "white",
            "linecolor": "white",
            "ticks": ""
           },
           "baxis": {
            "gridcolor": "white",
            "linecolor": "white",
            "ticks": ""
           },
           "bgcolor": "#E5ECF6",
           "caxis": {
            "gridcolor": "white",
            "linecolor": "white",
            "ticks": ""
           }
          },
          "title": {
           "x": 0.05
          },
          "xaxis": {
           "automargin": true,
           "gridcolor": "white",
           "linecolor": "white",
           "ticks": "",
           "title": {
            "standoff": 15
           },
           "zerolinecolor": "white",
           "zerolinewidth": 2
          },
          "yaxis": {
           "automargin": true,
           "gridcolor": "white",
           "linecolor": "white",
           "ticks": "",
           "title": {
            "standoff": 15
           },
           "zerolinecolor": "white",
           "zerolinewidth": 2
          }
         }
        },
        "title": {
         "text": "Original data for soggetto_8"
        },
        "xaxis": {
         "anchor": "y",
         "domain": [
          0,
          1
         ]
        },
        "yaxis": {
         "anchor": "x",
         "autorange": "reversed",
         "domain": [
          0,
          1
         ]
        }
       }
      }
     },
     "metadata": {},
     "output_type": "display_data"
    }
   ],
   "source": [
    "# plot heatmaps with plotly express\n",
    "for subject in subjects:\n",
    "    fig = px.imshow(df_o_dict[subject],\n",
    "            color_continuous_midpoint=0,\n",
    "            color_continuous_scale = 'RdBu_r',\n",
    "            zmin=-5, zmax=5,\n",
    "            text_auto=\".2\",\n",
    "            aspect=\"Auto\",\n",
    "            title=\"Original data for {}\".format(subject))\n",
    "    fig.show()"
   ]
  },
  {
   "cell_type": "code",
   "execution_count": 169,
   "metadata": {},
   "outputs": [
    {
     "data": {
      "text/html": [
       "<div>\n",
       "<style scoped>\n",
       "    .dataframe tbody tr th:only-of-type {\n",
       "        vertical-align: middle;\n",
       "    }\n",
       "\n",
       "    .dataframe tbody tr th {\n",
       "        vertical-align: top;\n",
       "    }\n",
       "\n",
       "    .dataframe thead th {\n",
       "        text-align: right;\n",
       "    }\n",
       "</style>\n",
       "<table border=\"1\" class=\"dataframe\">\n",
       "  <thead>\n",
       "    <tr style=\"text-align: right;\">\n",
       "      <th></th>\n",
       "      <th>TrRi</th>\n",
       "      <th>RiTr</th>\n",
       "      <th>Plu</th>\n",
       "      <th>Ttra</th>\n",
       "      <th>Ttrb</th>\n",
       "      <th>Tr</th>\n",
       "      <th>MeTr</th>\n",
       "      <th>MoTr</th>\n",
       "      <th>RiRi</th>\n",
       "      <th>MoFo</th>\n",
       "      <th>Mmof</th>\n",
       "      <th>MoRi</th>\n",
       "      <th>MeRi</th>\n",
       "      <th>Ri</th>\n",
       "      <th>Comp</th>\n",
       "    </tr>\n",
       "  </thead>\n",
       "  <tbody>\n",
       "    <tr>\n",
       "      <th>soggetto_1</th>\n",
       "      <td>0.220196</td>\n",
       "      <td>0.223144</td>\n",
       "      <td>0.333889</td>\n",
       "      <td>0.437770</td>\n",
       "      <td>0.213160</td>\n",
       "      <td>0.228997</td>\n",
       "      <td>0.284814</td>\n",
       "      <td>0.177968</td>\n",
       "      <td>0.236333</td>\n",
       "      <td>0.214411</td>\n",
       "      <td>0.185073</td>\n",
       "      <td>0.297189</td>\n",
       "      <td>0.253959</td>\n",
       "      <td>0.377430</td>\n",
       "      <td>0.252651</td>\n",
       "    </tr>\n",
       "    <tr>\n",
       "      <th>soggetto_2</th>\n",
       "      <td>0.492646</td>\n",
       "      <td>0.363330</td>\n",
       "      <td>0.517538</td>\n",
       "      <td>0.312095</td>\n",
       "      <td>0.385892</td>\n",
       "      <td>0.122184</td>\n",
       "      <td>0.389117</td>\n",
       "      <td>0.385330</td>\n",
       "      <td>0.465440</td>\n",
       "      <td>0.258724</td>\n",
       "      <td>0.403519</td>\n",
       "      <td>0.264124</td>\n",
       "      <td>0.383842</td>\n",
       "      <td>0.433798</td>\n",
       "      <td>0.425059</td>\n",
       "    </tr>\n",
       "    <tr>\n",
       "      <th>soggetto_3</th>\n",
       "      <td>1.290731</td>\n",
       "      <td>0.798684</td>\n",
       "      <td>0.966400</td>\n",
       "      <td>0.715229</td>\n",
       "      <td>1.453136</td>\n",
       "      <td>0.661781</td>\n",
       "      <td>0.650314</td>\n",
       "      <td>0.544598</td>\n",
       "      <td>0.330313</td>\n",
       "      <td>0.710032</td>\n",
       "      <td>0.812042</td>\n",
       "      <td>0.894647</td>\n",
       "      <td>0.405209</td>\n",
       "      <td>0.501343</td>\n",
       "      <td>1.096286</td>\n",
       "    </tr>\n",
       "    <tr>\n",
       "      <th>soggetto_6</th>\n",
       "      <td>0.634487</td>\n",
       "      <td>0.959705</td>\n",
       "      <td>0.746840</td>\n",
       "      <td>1.216884</td>\n",
       "      <td>0.605079</td>\n",
       "      <td>0.922659</td>\n",
       "      <td>0.977046</td>\n",
       "      <td>1.284632</td>\n",
       "      <td>0.683250</td>\n",
       "      <td>0.809403</td>\n",
       "      <td>1.079089</td>\n",
       "      <td>0.853820</td>\n",
       "      <td>0.713823</td>\n",
       "      <td>1.024133</td>\n",
       "      <td>0.730252</td>\n",
       "    </tr>\n",
       "    <tr>\n",
       "      <th>soggetto_7</th>\n",
       "      <td>0.562738</td>\n",
       "      <td>0.313070</td>\n",
       "      <td>1.146880</td>\n",
       "      <td>0.845131</td>\n",
       "      <td>0.751379</td>\n",
       "      <td>0.673072</td>\n",
       "      <td>1.289125</td>\n",
       "      <td>0.797708</td>\n",
       "      <td>2.019221</td>\n",
       "      <td>1.006056</td>\n",
       "      <td>0.965304</td>\n",
       "      <td>0.732277</td>\n",
       "      <td>0.971913</td>\n",
       "      <td>0.849081</td>\n",
       "      <td>0.537363</td>\n",
       "    </tr>\n",
       "    <tr>\n",
       "      <th>soggetto_8</th>\n",
       "      <td>2.040547</td>\n",
       "      <td>1.172403</td>\n",
       "      <td>1.327796</td>\n",
       "      <td>0.890147</td>\n",
       "      <td>0.822927</td>\n",
       "      <td>1.342752</td>\n",
       "      <td>2.026490</td>\n",
       "      <td>0.988268</td>\n",
       "      <td>1.101534</td>\n",
       "      <td>0.706036</td>\n",
       "      <td>1.042398</td>\n",
       "      <td>1.864858</td>\n",
       "      <td>0.768913</td>\n",
       "      <td>1.271345</td>\n",
       "      <td>0.800889</td>\n",
       "    </tr>\n",
       "  </tbody>\n",
       "</table>\n",
       "</div>"
      ],
      "text/plain": [
       "                TrRi      RiTr       Plu      Ttra      Ttrb        Tr  \\\n",
       "soggetto_1  0.220196  0.223144  0.333889  0.437770  0.213160  0.228997   \n",
       "soggetto_2  0.492646  0.363330  0.517538  0.312095  0.385892  0.122184   \n",
       "soggetto_3  1.290731  0.798684  0.966400  0.715229  1.453136  0.661781   \n",
       "soggetto_6  0.634487  0.959705  0.746840  1.216884  0.605079  0.922659   \n",
       "soggetto_7  0.562738  0.313070  1.146880  0.845131  0.751379  0.673072   \n",
       "soggetto_8  2.040547  1.172403  1.327796  0.890147  0.822927  1.342752   \n",
       "\n",
       "                MeTr      MoTr      RiRi      MoFo      Mmof      MoRi  \\\n",
       "soggetto_1  0.284814  0.177968  0.236333  0.214411  0.185073  0.297189   \n",
       "soggetto_2  0.389117  0.385330  0.465440  0.258724  0.403519  0.264124   \n",
       "soggetto_3  0.650314  0.544598  0.330313  0.710032  0.812042  0.894647   \n",
       "soggetto_6  0.977046  1.284632  0.683250  0.809403  1.079089  0.853820   \n",
       "soggetto_7  1.289125  0.797708  2.019221  1.006056  0.965304  0.732277   \n",
       "soggetto_8  2.026490  0.988268  1.101534  0.706036  1.042398  1.864858   \n",
       "\n",
       "                MeRi        Ri      Comp  \n",
       "soggetto_1  0.253959  0.377430  0.252651  \n",
       "soggetto_2  0.383842  0.433798  0.425059  \n",
       "soggetto_3  0.405209  0.501343  1.096286  \n",
       "soggetto_6  0.713823  1.024133  0.730252  \n",
       "soggetto_7  0.971913  0.849081  0.537363  \n",
       "soggetto_8  0.768913  1.271345  0.800889  "
      ]
     },
     "execution_count": 169,
     "metadata": {},
     "output_type": "execute_result"
    }
   ],
   "source": [
    "# calculate standard deviations (on axis 1) for each subject\n",
    "stds = []\n",
    "for subject in subjects:\n",
    "    stds.append(df_o_dict[subject].std(axis=1))\n",
    "stds = pd.DataFrame(stds)\n",
    "stds.index = subjects\n",
    "stds.columns = df_o_dict[subject].columns\n",
    "stds"
   ]
  },
  {
   "cell_type": "code",
   "execution_count": 170,
   "metadata": {},
   "outputs": [
    {
     "data": {
      "application/vnd.plotly.v1+json": {
       "config": {
        "plotlyServerURL": "https://plot.ly"
       },
       "data": [
        {
         "alignmentgroup": "True",
         "hovertemplate": "variable=TrRi<br>index=%{x}<br>value=%{y}<extra></extra>",
         "legendgroup": "TrRi",
         "marker": {
          "color": "#636efa",
          "pattern": {
           "shape": ""
          }
         },
         "name": "TrRi",
         "offsetgroup": "TrRi",
         "orientation": "v",
         "showlegend": true,
         "textposition": "auto",
         "type": "bar",
         "x": [
          "soggetto_1",
          "soggetto_2",
          "soggetto_3",
          "soggetto_6",
          "soggetto_7",
          "soggetto_8"
         ],
         "xaxis": "x",
         "y": [
          0.22019618450126321,
          0.49264574972075575,
          1.2907308056358502,
          0.6344868171773403,
          0.5627383091710496,
          2.0405466883713332
         ],
         "yaxis": "y"
        },
        {
         "alignmentgroup": "True",
         "hovertemplate": "variable=RiTr<br>index=%{x}<br>value=%{y}<extra></extra>",
         "legendgroup": "RiTr",
         "marker": {
          "color": "#EF553B",
          "pattern": {
           "shape": ""
          }
         },
         "name": "RiTr",
         "offsetgroup": "RiTr",
         "orientation": "v",
         "showlegend": true,
         "textposition": "auto",
         "type": "bar",
         "x": [
          "soggetto_1",
          "soggetto_2",
          "soggetto_3",
          "soggetto_6",
          "soggetto_7",
          "soggetto_8"
         ],
         "xaxis": "x",
         "y": [
          0.22314419024312226,
          0.3633295993450577,
          0.7986835044545472,
          0.9597045856776997,
          0.3130695856254209,
          1.1724032800753588
         ],
         "yaxis": "y"
        },
        {
         "alignmentgroup": "True",
         "hovertemplate": "variable=Plu<br>index=%{x}<br>value=%{y}<extra></extra>",
         "legendgroup": "Plu",
         "marker": {
          "color": "#00cc96",
          "pattern": {
           "shape": ""
          }
         },
         "name": "Plu",
         "offsetgroup": "Plu",
         "orientation": "v",
         "showlegend": true,
         "textposition": "auto",
         "type": "bar",
         "x": [
          "soggetto_1",
          "soggetto_2",
          "soggetto_3",
          "soggetto_6",
          "soggetto_7",
          "soggetto_8"
         ],
         "xaxis": "x",
         "y": [
          0.33388871590825214,
          0.5175375148879625,
          0.966399626489703,
          0.7468402981294268,
          1.1468797183327115,
          1.32779555272223
         ],
         "yaxis": "y"
        },
        {
         "alignmentgroup": "True",
         "hovertemplate": "variable=Ttra<br>index=%{x}<br>value=%{y}<extra></extra>",
         "legendgroup": "Ttra",
         "marker": {
          "color": "#ab63fa",
          "pattern": {
           "shape": ""
          }
         },
         "name": "Ttra",
         "offsetgroup": "Ttra",
         "orientation": "v",
         "showlegend": true,
         "textposition": "auto",
         "type": "bar",
         "x": [
          "soggetto_1",
          "soggetto_2",
          "soggetto_3",
          "soggetto_6",
          "soggetto_7",
          "soggetto_8"
         ],
         "xaxis": "x",
         "y": [
          0.4377701096793749,
          0.3120950439453284,
          0.7152286193388625,
          1.2168837091400826,
          0.8451314356284141,
          0.8901470566762008
         ],
         "yaxis": "y"
        },
        {
         "alignmentgroup": "True",
         "hovertemplate": "variable=Ttrb<br>index=%{x}<br>value=%{y}<extra></extra>",
         "legendgroup": "Ttrb",
         "marker": {
          "color": "#FFA15A",
          "pattern": {
           "shape": ""
          }
         },
         "name": "Ttrb",
         "offsetgroup": "Ttrb",
         "orientation": "v",
         "showlegend": true,
         "textposition": "auto",
         "type": "bar",
         "x": [
          "soggetto_1",
          "soggetto_2",
          "soggetto_3",
          "soggetto_6",
          "soggetto_7",
          "soggetto_8"
         ],
         "xaxis": "x",
         "y": [
          0.21316026409149771,
          0.3858923560491965,
          1.453136048922997,
          0.6050792774684742,
          0.7513785284620447,
          0.8229268312938867
         ],
         "yaxis": "y"
        },
        {
         "alignmentgroup": "True",
         "hovertemplate": "variable=Tr<br>index=%{x}<br>value=%{y}<extra></extra>",
         "legendgroup": "Tr",
         "marker": {
          "color": "#19d3f3",
          "pattern": {
           "shape": ""
          }
         },
         "name": "Tr",
         "offsetgroup": "Tr",
         "orientation": "v",
         "showlegend": true,
         "textposition": "auto",
         "type": "bar",
         "x": [
          "soggetto_1",
          "soggetto_2",
          "soggetto_3",
          "soggetto_6",
          "soggetto_7",
          "soggetto_8"
         ],
         "xaxis": "x",
         "y": [
          0.22899743690668994,
          0.12218362109525722,
          0.6617806837801448,
          0.9226586971020946,
          0.673071975152656,
          1.3427519499934806
         ],
         "yaxis": "y"
        },
        {
         "alignmentgroup": "True",
         "hovertemplate": "variable=MeTr<br>index=%{x}<br>value=%{y}<extra></extra>",
         "legendgroup": "MeTr",
         "marker": {
          "color": "#FF6692",
          "pattern": {
           "shape": ""
          }
         },
         "name": "MeTr",
         "offsetgroup": "MeTr",
         "orientation": "v",
         "showlegend": true,
         "textposition": "auto",
         "type": "bar",
         "x": [
          "soggetto_1",
          "soggetto_2",
          "soggetto_3",
          "soggetto_6",
          "soggetto_7",
          "soggetto_8"
         ],
         "xaxis": "x",
         "y": [
          0.2848144036550265,
          0.3891169499308316,
          0.6503135399326502,
          0.977046290750385,
          1.2891249086022787,
          2.0264903885383307
         ],
         "yaxis": "y"
        },
        {
         "alignmentgroup": "True",
         "hovertemplate": "variable=MoTr<br>index=%{x}<br>value=%{y}<extra></extra>",
         "legendgroup": "MoTr",
         "marker": {
          "color": "#B6E880",
          "pattern": {
           "shape": ""
          }
         },
         "name": "MoTr",
         "offsetgroup": "MoTr",
         "orientation": "v",
         "showlegend": true,
         "textposition": "auto",
         "type": "bar",
         "x": [
          "soggetto_1",
          "soggetto_2",
          "soggetto_3",
          "soggetto_6",
          "soggetto_7",
          "soggetto_8"
         ],
         "xaxis": "x",
         "y": [
          0.17796774278514388,
          0.38532986398743535,
          0.5445981014793487,
          1.2846320935054363,
          0.7977082331083305,
          0.9882684579893483
         ],
         "yaxis": "y"
        },
        {
         "alignmentgroup": "True",
         "hovertemplate": "variable=RiRi<br>index=%{x}<br>value=%{y}<extra></extra>",
         "legendgroup": "RiRi",
         "marker": {
          "color": "#FF97FF",
          "pattern": {
           "shape": ""
          }
         },
         "name": "RiRi",
         "offsetgroup": "RiRi",
         "orientation": "v",
         "showlegend": true,
         "textposition": "auto",
         "type": "bar",
         "x": [
          "soggetto_1",
          "soggetto_2",
          "soggetto_3",
          "soggetto_6",
          "soggetto_7",
          "soggetto_8"
         ],
         "xaxis": "x",
         "y": [
          0.23633319847510742,
          0.46544036554116197,
          0.33031320491236,
          0.6832504567865497,
          2.019220546224162,
          1.101533523758161
         ],
         "yaxis": "y"
        },
        {
         "alignmentgroup": "True",
         "hovertemplate": "variable=MoFo<br>index=%{x}<br>value=%{y}<extra></extra>",
         "legendgroup": "MoFo",
         "marker": {
          "color": "#FECB52",
          "pattern": {
           "shape": ""
          }
         },
         "name": "MoFo",
         "offsetgroup": "MoFo",
         "orientation": "v",
         "showlegend": true,
         "textposition": "auto",
         "type": "bar",
         "x": [
          "soggetto_1",
          "soggetto_2",
          "soggetto_3",
          "soggetto_6",
          "soggetto_7",
          "soggetto_8"
         ],
         "xaxis": "x",
         "y": [
          0.21441067617642764,
          0.25872397663653096,
          0.7100317820644894,
          0.809402564376865,
          1.0060562196434124,
          0.7060358738308987
         ],
         "yaxis": "y"
        },
        {
         "alignmentgroup": "True",
         "hovertemplate": "variable=Mmof<br>index=%{x}<br>value=%{y}<extra></extra>",
         "legendgroup": "Mmof",
         "marker": {
          "color": "#636efa",
          "pattern": {
           "shape": ""
          }
         },
         "name": "Mmof",
         "offsetgroup": "Mmof",
         "orientation": "v",
         "showlegend": true,
         "textposition": "auto",
         "type": "bar",
         "x": [
          "soggetto_1",
          "soggetto_2",
          "soggetto_3",
          "soggetto_6",
          "soggetto_7",
          "soggetto_8"
         ],
         "xaxis": "x",
         "y": [
          0.18507286724104965,
          0.4035190619196796,
          0.8120416717987068,
          1.079089123180771,
          0.9653044600593639,
          1.0423979684759552
         ],
         "yaxis": "y"
        },
        {
         "alignmentgroup": "True",
         "hovertemplate": "variable=MoRi<br>index=%{x}<br>value=%{y}<extra></extra>",
         "legendgroup": "MoRi",
         "marker": {
          "color": "#EF553B",
          "pattern": {
           "shape": ""
          }
         },
         "name": "MoRi",
         "offsetgroup": "MoRi",
         "orientation": "v",
         "showlegend": true,
         "textposition": "auto",
         "type": "bar",
         "x": [
          "soggetto_1",
          "soggetto_2",
          "soggetto_3",
          "soggetto_6",
          "soggetto_7",
          "soggetto_8"
         ],
         "xaxis": "x",
         "y": [
          0.29718868180438285,
          0.26412426234547376,
          0.8946473943649619,
          0.85382025871737,
          0.7322765027914645,
          1.8648581064967353
         ],
         "yaxis": "y"
        },
        {
         "alignmentgroup": "True",
         "hovertemplate": "variable=MeRi<br>index=%{x}<br>value=%{y}<extra></extra>",
         "legendgroup": "MeRi",
         "marker": {
          "color": "#00cc96",
          "pattern": {
           "shape": ""
          }
         },
         "name": "MeRi",
         "offsetgroup": "MeRi",
         "orientation": "v",
         "showlegend": true,
         "textposition": "auto",
         "type": "bar",
         "x": [
          "soggetto_1",
          "soggetto_2",
          "soggetto_3",
          "soggetto_6",
          "soggetto_7",
          "soggetto_8"
         ],
         "xaxis": "x",
         "y": [
          0.25395886499178305,
          0.38384209973577166,
          0.40520930305462893,
          0.7138226397854849,
          0.9719127548961058,
          0.7689133791281747
         ],
         "yaxis": "y"
        },
        {
         "alignmentgroup": "True",
         "hovertemplate": "variable=Ri<br>index=%{x}<br>value=%{y}<extra></extra>",
         "legendgroup": "Ri",
         "marker": {
          "color": "#ab63fa",
          "pattern": {
           "shape": ""
          }
         },
         "name": "Ri",
         "offsetgroup": "Ri",
         "orientation": "v",
         "showlegend": true,
         "textposition": "auto",
         "type": "bar",
         "x": [
          "soggetto_1",
          "soggetto_2",
          "soggetto_3",
          "soggetto_6",
          "soggetto_7",
          "soggetto_8"
         ],
         "xaxis": "x",
         "y": [
          0.37743038435985443,
          0.4337983105714847,
          0.5013427122927052,
          1.0241329387450682,
          0.849080579111744,
          1.2713449954126153
         ],
         "yaxis": "y"
        },
        {
         "alignmentgroup": "True",
         "hovertemplate": "variable=Comp<br>index=%{x}<br>value=%{y}<extra></extra>",
         "legendgroup": "Comp",
         "marker": {
          "color": "#FFA15A",
          "pattern": {
           "shape": ""
          }
         },
         "name": "Comp",
         "offsetgroup": "Comp",
         "orientation": "v",
         "showlegend": true,
         "textposition": "auto",
         "type": "bar",
         "x": [
          "soggetto_1",
          "soggetto_2",
          "soggetto_3",
          "soggetto_6",
          "soggetto_7",
          "soggetto_8"
         ],
         "xaxis": "x",
         "y": [
          0.25265086037089923,
          0.42505944662891193,
          1.0962857259471668,
          0.7302522827940862,
          0.5373628427391227,
          0.8008890088341819
         ],
         "yaxis": "y"
        }
       ],
       "layout": {
        "barmode": "group",
        "legend": {
         "title": {
          "text": "variable"
         },
         "tracegroupgap": 0
        },
        "template": {
         "data": {
          "bar": [
           {
            "error_x": {
             "color": "#2a3f5f"
            },
            "error_y": {
             "color": "#2a3f5f"
            },
            "marker": {
             "line": {
              "color": "#E5ECF6",
              "width": 0.5
             },
             "pattern": {
              "fillmode": "overlay",
              "size": 10,
              "solidity": 0.2
             }
            },
            "type": "bar"
           }
          ],
          "barpolar": [
           {
            "marker": {
             "line": {
              "color": "#E5ECF6",
              "width": 0.5
             },
             "pattern": {
              "fillmode": "overlay",
              "size": 10,
              "solidity": 0.2
             }
            },
            "type": "barpolar"
           }
          ],
          "carpet": [
           {
            "aaxis": {
             "endlinecolor": "#2a3f5f",
             "gridcolor": "white",
             "linecolor": "white",
             "minorgridcolor": "white",
             "startlinecolor": "#2a3f5f"
            },
            "baxis": {
             "endlinecolor": "#2a3f5f",
             "gridcolor": "white",
             "linecolor": "white",
             "minorgridcolor": "white",
             "startlinecolor": "#2a3f5f"
            },
            "type": "carpet"
           }
          ],
          "choropleth": [
           {
            "colorbar": {
             "outlinewidth": 0,
             "ticks": ""
            },
            "type": "choropleth"
           }
          ],
          "contour": [
           {
            "colorbar": {
             "outlinewidth": 0,
             "ticks": ""
            },
            "colorscale": [
             [
              0,
              "#0d0887"
             ],
             [
              0.1111111111111111,
              "#46039f"
             ],
             [
              0.2222222222222222,
              "#7201a8"
             ],
             [
              0.3333333333333333,
              "#9c179e"
             ],
             [
              0.4444444444444444,
              "#bd3786"
             ],
             [
              0.5555555555555556,
              "#d8576b"
             ],
             [
              0.6666666666666666,
              "#ed7953"
             ],
             [
              0.7777777777777778,
              "#fb9f3a"
             ],
             [
              0.8888888888888888,
              "#fdca26"
             ],
             [
              1,
              "#f0f921"
             ]
            ],
            "type": "contour"
           }
          ],
          "contourcarpet": [
           {
            "colorbar": {
             "outlinewidth": 0,
             "ticks": ""
            },
            "type": "contourcarpet"
           }
          ],
          "heatmap": [
           {
            "colorbar": {
             "outlinewidth": 0,
             "ticks": ""
            },
            "colorscale": [
             [
              0,
              "#0d0887"
             ],
             [
              0.1111111111111111,
              "#46039f"
             ],
             [
              0.2222222222222222,
              "#7201a8"
             ],
             [
              0.3333333333333333,
              "#9c179e"
             ],
             [
              0.4444444444444444,
              "#bd3786"
             ],
             [
              0.5555555555555556,
              "#d8576b"
             ],
             [
              0.6666666666666666,
              "#ed7953"
             ],
             [
              0.7777777777777778,
              "#fb9f3a"
             ],
             [
              0.8888888888888888,
              "#fdca26"
             ],
             [
              1,
              "#f0f921"
             ]
            ],
            "type": "heatmap"
           }
          ],
          "heatmapgl": [
           {
            "colorbar": {
             "outlinewidth": 0,
             "ticks": ""
            },
            "colorscale": [
             [
              0,
              "#0d0887"
             ],
             [
              0.1111111111111111,
              "#46039f"
             ],
             [
              0.2222222222222222,
              "#7201a8"
             ],
             [
              0.3333333333333333,
              "#9c179e"
             ],
             [
              0.4444444444444444,
              "#bd3786"
             ],
             [
              0.5555555555555556,
              "#d8576b"
             ],
             [
              0.6666666666666666,
              "#ed7953"
             ],
             [
              0.7777777777777778,
              "#fb9f3a"
             ],
             [
              0.8888888888888888,
              "#fdca26"
             ],
             [
              1,
              "#f0f921"
             ]
            ],
            "type": "heatmapgl"
           }
          ],
          "histogram": [
           {
            "marker": {
             "pattern": {
              "fillmode": "overlay",
              "size": 10,
              "solidity": 0.2
             }
            },
            "type": "histogram"
           }
          ],
          "histogram2d": [
           {
            "colorbar": {
             "outlinewidth": 0,
             "ticks": ""
            },
            "colorscale": [
             [
              0,
              "#0d0887"
             ],
             [
              0.1111111111111111,
              "#46039f"
             ],
             [
              0.2222222222222222,
              "#7201a8"
             ],
             [
              0.3333333333333333,
              "#9c179e"
             ],
             [
              0.4444444444444444,
              "#bd3786"
             ],
             [
              0.5555555555555556,
              "#d8576b"
             ],
             [
              0.6666666666666666,
              "#ed7953"
             ],
             [
              0.7777777777777778,
              "#fb9f3a"
             ],
             [
              0.8888888888888888,
              "#fdca26"
             ],
             [
              1,
              "#f0f921"
             ]
            ],
            "type": "histogram2d"
           }
          ],
          "histogram2dcontour": [
           {
            "colorbar": {
             "outlinewidth": 0,
             "ticks": ""
            },
            "colorscale": [
             [
              0,
              "#0d0887"
             ],
             [
              0.1111111111111111,
              "#46039f"
             ],
             [
              0.2222222222222222,
              "#7201a8"
             ],
             [
              0.3333333333333333,
              "#9c179e"
             ],
             [
              0.4444444444444444,
              "#bd3786"
             ],
             [
              0.5555555555555556,
              "#d8576b"
             ],
             [
              0.6666666666666666,
              "#ed7953"
             ],
             [
              0.7777777777777778,
              "#fb9f3a"
             ],
             [
              0.8888888888888888,
              "#fdca26"
             ],
             [
              1,
              "#f0f921"
             ]
            ],
            "type": "histogram2dcontour"
           }
          ],
          "mesh3d": [
           {
            "colorbar": {
             "outlinewidth": 0,
             "ticks": ""
            },
            "type": "mesh3d"
           }
          ],
          "parcoords": [
           {
            "line": {
             "colorbar": {
              "outlinewidth": 0,
              "ticks": ""
             }
            },
            "type": "parcoords"
           }
          ],
          "pie": [
           {
            "automargin": true,
            "type": "pie"
           }
          ],
          "scatter": [
           {
            "fillpattern": {
             "fillmode": "overlay",
             "size": 10,
             "solidity": 0.2
            },
            "type": "scatter"
           }
          ],
          "scatter3d": [
           {
            "line": {
             "colorbar": {
              "outlinewidth": 0,
              "ticks": ""
             }
            },
            "marker": {
             "colorbar": {
              "outlinewidth": 0,
              "ticks": ""
             }
            },
            "type": "scatter3d"
           }
          ],
          "scattercarpet": [
           {
            "marker": {
             "colorbar": {
              "outlinewidth": 0,
              "ticks": ""
             }
            },
            "type": "scattercarpet"
           }
          ],
          "scattergeo": [
           {
            "marker": {
             "colorbar": {
              "outlinewidth": 0,
              "ticks": ""
             }
            },
            "type": "scattergeo"
           }
          ],
          "scattergl": [
           {
            "marker": {
             "colorbar": {
              "outlinewidth": 0,
              "ticks": ""
             }
            },
            "type": "scattergl"
           }
          ],
          "scattermapbox": [
           {
            "marker": {
             "colorbar": {
              "outlinewidth": 0,
              "ticks": ""
             }
            },
            "type": "scattermapbox"
           }
          ],
          "scatterpolar": [
           {
            "marker": {
             "colorbar": {
              "outlinewidth": 0,
              "ticks": ""
             }
            },
            "type": "scatterpolar"
           }
          ],
          "scatterpolargl": [
           {
            "marker": {
             "colorbar": {
              "outlinewidth": 0,
              "ticks": ""
             }
            },
            "type": "scatterpolargl"
           }
          ],
          "scatterternary": [
           {
            "marker": {
             "colorbar": {
              "outlinewidth": 0,
              "ticks": ""
             }
            },
            "type": "scatterternary"
           }
          ],
          "surface": [
           {
            "colorbar": {
             "outlinewidth": 0,
             "ticks": ""
            },
            "colorscale": [
             [
              0,
              "#0d0887"
             ],
             [
              0.1111111111111111,
              "#46039f"
             ],
             [
              0.2222222222222222,
              "#7201a8"
             ],
             [
              0.3333333333333333,
              "#9c179e"
             ],
             [
              0.4444444444444444,
              "#bd3786"
             ],
             [
              0.5555555555555556,
              "#d8576b"
             ],
             [
              0.6666666666666666,
              "#ed7953"
             ],
             [
              0.7777777777777778,
              "#fb9f3a"
             ],
             [
              0.8888888888888888,
              "#fdca26"
             ],
             [
              1,
              "#f0f921"
             ]
            ],
            "type": "surface"
           }
          ],
          "table": [
           {
            "cells": {
             "fill": {
              "color": "#EBF0F8"
             },
             "line": {
              "color": "white"
             }
            },
            "header": {
             "fill": {
              "color": "#C8D4E3"
             },
             "line": {
              "color": "white"
             }
            },
            "type": "table"
           }
          ]
         },
         "layout": {
          "annotationdefaults": {
           "arrowcolor": "#2a3f5f",
           "arrowhead": 0,
           "arrowwidth": 1
          },
          "autotypenumbers": "strict",
          "coloraxis": {
           "colorbar": {
            "outlinewidth": 0,
            "ticks": ""
           }
          },
          "colorscale": {
           "diverging": [
            [
             0,
             "#8e0152"
            ],
            [
             0.1,
             "#c51b7d"
            ],
            [
             0.2,
             "#de77ae"
            ],
            [
             0.3,
             "#f1b6da"
            ],
            [
             0.4,
             "#fde0ef"
            ],
            [
             0.5,
             "#f7f7f7"
            ],
            [
             0.6,
             "#e6f5d0"
            ],
            [
             0.7,
             "#b8e186"
            ],
            [
             0.8,
             "#7fbc41"
            ],
            [
             0.9,
             "#4d9221"
            ],
            [
             1,
             "#276419"
            ]
           ],
           "sequential": [
            [
             0,
             "#0d0887"
            ],
            [
             0.1111111111111111,
             "#46039f"
            ],
            [
             0.2222222222222222,
             "#7201a8"
            ],
            [
             0.3333333333333333,
             "#9c179e"
            ],
            [
             0.4444444444444444,
             "#bd3786"
            ],
            [
             0.5555555555555556,
             "#d8576b"
            ],
            [
             0.6666666666666666,
             "#ed7953"
            ],
            [
             0.7777777777777778,
             "#fb9f3a"
            ],
            [
             0.8888888888888888,
             "#fdca26"
            ],
            [
             1,
             "#f0f921"
            ]
           ],
           "sequentialminus": [
            [
             0,
             "#0d0887"
            ],
            [
             0.1111111111111111,
             "#46039f"
            ],
            [
             0.2222222222222222,
             "#7201a8"
            ],
            [
             0.3333333333333333,
             "#9c179e"
            ],
            [
             0.4444444444444444,
             "#bd3786"
            ],
            [
             0.5555555555555556,
             "#d8576b"
            ],
            [
             0.6666666666666666,
             "#ed7953"
            ],
            [
             0.7777777777777778,
             "#fb9f3a"
            ],
            [
             0.8888888888888888,
             "#fdca26"
            ],
            [
             1,
             "#f0f921"
            ]
           ]
          },
          "colorway": [
           "#636efa",
           "#EF553B",
           "#00cc96",
           "#ab63fa",
           "#FFA15A",
           "#19d3f3",
           "#FF6692",
           "#B6E880",
           "#FF97FF",
           "#FECB52"
          ],
          "font": {
           "color": "#2a3f5f"
          },
          "geo": {
           "bgcolor": "white",
           "lakecolor": "white",
           "landcolor": "#E5ECF6",
           "showlakes": true,
           "showland": true,
           "subunitcolor": "white"
          },
          "hoverlabel": {
           "align": "left"
          },
          "hovermode": "closest",
          "mapbox": {
           "style": "light"
          },
          "paper_bgcolor": "white",
          "plot_bgcolor": "#E5ECF6",
          "polar": {
           "angularaxis": {
            "gridcolor": "white",
            "linecolor": "white",
            "ticks": ""
           },
           "bgcolor": "#E5ECF6",
           "radialaxis": {
            "gridcolor": "white",
            "linecolor": "white",
            "ticks": ""
           }
          },
          "scene": {
           "xaxis": {
            "backgroundcolor": "#E5ECF6",
            "gridcolor": "white",
            "gridwidth": 2,
            "linecolor": "white",
            "showbackground": true,
            "ticks": "",
            "zerolinecolor": "white"
           },
           "yaxis": {
            "backgroundcolor": "#E5ECF6",
            "gridcolor": "white",
            "gridwidth": 2,
            "linecolor": "white",
            "showbackground": true,
            "ticks": "",
            "zerolinecolor": "white"
           },
           "zaxis": {
            "backgroundcolor": "#E5ECF6",
            "gridcolor": "white",
            "gridwidth": 2,
            "linecolor": "white",
            "showbackground": true,
            "ticks": "",
            "zerolinecolor": "white"
           }
          },
          "shapedefaults": {
           "line": {
            "color": "#2a3f5f"
           }
          },
          "ternary": {
           "aaxis": {
            "gridcolor": "white",
            "linecolor": "white",
            "ticks": ""
           },
           "baxis": {
            "gridcolor": "white",
            "linecolor": "white",
            "ticks": ""
           },
           "bgcolor": "#E5ECF6",
           "caxis": {
            "gridcolor": "white",
            "linecolor": "white",
            "ticks": ""
           }
          },
          "title": {
           "x": 0.05
          },
          "xaxis": {
           "automargin": true,
           "gridcolor": "white",
           "linecolor": "white",
           "ticks": "",
           "title": {
            "standoff": 15
           },
           "zerolinecolor": "white",
           "zerolinewidth": 2
          },
          "yaxis": {
           "automargin": true,
           "gridcolor": "white",
           "linecolor": "white",
           "ticks": "",
           "title": {
            "standoff": 15
           },
           "zerolinecolor": "white",
           "zerolinewidth": 2
          }
         }
        },
        "title": {
         "text": "Standard deviations for each subject"
        },
        "xaxis": {
         "anchor": "y",
         "domain": [
          0,
          1
         ],
         "title": {
          "text": "index"
         }
        },
        "yaxis": {
         "anchor": "x",
         "domain": [
          0,
          1
         ],
         "title": {
          "text": "value"
         }
        }
       }
      }
     },
     "metadata": {},
     "output_type": "display_data"
    }
   ],
   "source": [
    "# plot stds with barplot with plotly express\n",
    "fig = px.bar(stds, barmode=\"group\", title=\"Standard deviations for each subject\")\n",
    "# use different colors for each subject\n",
    "colors = [\"#1f77b4\", \"#ff7f0e\", \"#2ca02c\", \"#d62728\", \"#9467bd\", \"#8c564b\"]\n",
    "# ...\n",
    "fig.show()"
   ]
  },
  {
   "cell_type": "code",
   "execution_count": 171,
   "metadata": {},
   "outputs": [],
   "source": [
    "# for each subject's dataframe create two numpy arrays, one with positive values and one for negatives\n",
    "df_ecc_dict = {}\n",
    "df_ini_dict = {}\n",
    "for subject in subjects:\n",
    "    df_ecc_dict[subject] = df_o_dict[subject].where(df_o_dict[subject] > 0)\n",
    "    df_ini_dict[subject] = df_o_dict[subject].where(df_o_dict[subject] < 0)\n",
    "    # put the other values to zeros\n",
    "    df_ecc_dict[subject] = df_ecc_dict[subject].fillna(0)\n",
    "    df_ini_dict[subject] = df_ini_dict[subject].fillna(0)\n",
    "    # transform the negative values of df_n_dict[subject] in positives\n",
    "    df_ini_dict[subject] = df_ini_dict[subject] * (-1)\n",
    "    df_ini_dict[subject].replace(-0.0, 0.0)\n",
    "    # trasform each dataframe in a stochastic matrix by column (the sum of each column must be equal to 1)\n",
    "    df_ecc_dict[subject] = df_ecc_dict[subject].div(df_ecc_dict[subject].sum(axis=0), axis=1)\n",
    "    df_ini_dict[subject] = df_ini_dict[subject].div(df_ini_dict[subject].sum(axis=0), axis=1)"
   ]
  },
  {
   "cell_type": "code",
   "execution_count": 172,
   "metadata": {},
   "outputs": [
    {
     "data": {
      "text/html": [
       "<div>\n",
       "<style scoped>\n",
       "    .dataframe tbody tr th:only-of-type {\n",
       "        vertical-align: middle;\n",
       "    }\n",
       "\n",
       "    .dataframe tbody tr th {\n",
       "        vertical-align: top;\n",
       "    }\n",
       "\n",
       "    .dataframe thead th {\n",
       "        text-align: right;\n",
       "    }\n",
       "</style>\n",
       "<table border=\"1\" class=\"dataframe\">\n",
       "  <thead>\n",
       "    <tr style=\"text-align: right;\">\n",
       "      <th></th>\n",
       "      <th>TrRi</th>\n",
       "      <th>RiTr</th>\n",
       "      <th>Plu</th>\n",
       "      <th>Ttra</th>\n",
       "      <th>Ttrb</th>\n",
       "      <th>Tr</th>\n",
       "      <th>MeTr</th>\n",
       "      <th>MoTr</th>\n",
       "      <th>RiRi</th>\n",
       "      <th>MoFo</th>\n",
       "      <th>Mmof</th>\n",
       "      <th>MoRi</th>\n",
       "      <th>MeRi</th>\n",
       "      <th>Ri</th>\n",
       "      <th>Comp</th>\n",
       "    </tr>\n",
       "  </thead>\n",
       "  <tbody>\n",
       "    <tr>\n",
       "      <th>TrRi</th>\n",
       "      <td>0.000000</td>\n",
       "      <td>0.000000</td>\n",
       "      <td>0.000000</td>\n",
       "      <td>0.002004</td>\n",
       "      <td>0.000000</td>\n",
       "      <td>0.271259</td>\n",
       "      <td>0.000000</td>\n",
       "      <td>0.000000</td>\n",
       "      <td>0.372986</td>\n",
       "      <td>0.000000</td>\n",
       "      <td>0.050735</td>\n",
       "      <td>0.031767</td>\n",
       "      <td>0.446254</td>\n",
       "      <td>0.000000</td>\n",
       "      <td>0.000000</td>\n",
       "    </tr>\n",
       "    <tr>\n",
       "      <th>RiTr</th>\n",
       "      <td>0.141128</td>\n",
       "      <td>0.095657</td>\n",
       "      <td>0.000000</td>\n",
       "      <td>0.018439</td>\n",
       "      <td>0.128261</td>\n",
       "      <td>0.238605</td>\n",
       "      <td>0.000000</td>\n",
       "      <td>0.000000</td>\n",
       "      <td>0.097695</td>\n",
       "      <td>0.000000</td>\n",
       "      <td>0.000000</td>\n",
       "      <td>0.030942</td>\n",
       "      <td>0.092450</td>\n",
       "      <td>0.000000</td>\n",
       "      <td>0.000000</td>\n",
       "    </tr>\n",
       "    <tr>\n",
       "      <th>Plu</th>\n",
       "      <td>0.058132</td>\n",
       "      <td>0.068976</td>\n",
       "      <td>0.092523</td>\n",
       "      <td>0.057709</td>\n",
       "      <td>0.149024</td>\n",
       "      <td>0.000000</td>\n",
       "      <td>0.223900</td>\n",
       "      <td>0.436567</td>\n",
       "      <td>0.000000</td>\n",
       "      <td>0.147726</td>\n",
       "      <td>0.118357</td>\n",
       "      <td>0.112787</td>\n",
       "      <td>0.000000</td>\n",
       "      <td>0.109793</td>\n",
       "      <td>0.218809</td>\n",
       "    </tr>\n",
       "    <tr>\n",
       "      <th>Ttra</th>\n",
       "      <td>0.021808</td>\n",
       "      <td>0.000000</td>\n",
       "      <td>0.146434</td>\n",
       "      <td>0.154363</td>\n",
       "      <td>0.000000</td>\n",
       "      <td>0.000000</td>\n",
       "      <td>0.001661</td>\n",
       "      <td>0.000000</td>\n",
       "      <td>0.081475</td>\n",
       "      <td>0.104693</td>\n",
       "      <td>0.000000</td>\n",
       "      <td>0.000000</td>\n",
       "      <td>0.000000</td>\n",
       "      <td>0.135440</td>\n",
       "      <td>0.000000</td>\n",
       "    </tr>\n",
       "    <tr>\n",
       "      <th>Ttrb</th>\n",
       "      <td>0.134501</td>\n",
       "      <td>0.158305</td>\n",
       "      <td>0.000000</td>\n",
       "      <td>0.136830</td>\n",
       "      <td>0.000000</td>\n",
       "      <td>0.000000</td>\n",
       "      <td>0.025526</td>\n",
       "      <td>0.000000</td>\n",
       "      <td>0.092211</td>\n",
       "      <td>0.004713</td>\n",
       "      <td>0.000000</td>\n",
       "      <td>0.000000</td>\n",
       "      <td>0.100985</td>\n",
       "      <td>0.006040</td>\n",
       "      <td>0.000000</td>\n",
       "    </tr>\n",
       "    <tr>\n",
       "      <th>Tr</th>\n",
       "      <td>0.000000</td>\n",
       "      <td>0.000000</td>\n",
       "      <td>0.104362</td>\n",
       "      <td>0.000000</td>\n",
       "      <td>0.000000</td>\n",
       "      <td>0.000000</td>\n",
       "      <td>0.173081</td>\n",
       "      <td>0.000000</td>\n",
       "      <td>0.080206</td>\n",
       "      <td>0.000000</td>\n",
       "      <td>0.207985</td>\n",
       "      <td>0.214334</td>\n",
       "      <td>0.088960</td>\n",
       "      <td>0.129828</td>\n",
       "      <td>0.000000</td>\n",
       "    </tr>\n",
       "    <tr>\n",
       "      <th>MeTr</th>\n",
       "      <td>0.000000</td>\n",
       "      <td>0.136253</td>\n",
       "      <td>0.038654</td>\n",
       "      <td>0.000000</td>\n",
       "      <td>0.000000</td>\n",
       "      <td>0.283747</td>\n",
       "      <td>0.131623</td>\n",
       "      <td>0.032945</td>\n",
       "      <td>0.090388</td>\n",
       "      <td>0.000000</td>\n",
       "      <td>0.365812</td>\n",
       "      <td>0.385657</td>\n",
       "      <td>0.144615</td>\n",
       "      <td>0.081717</td>\n",
       "      <td>0.047145</td>\n",
       "    </tr>\n",
       "    <tr>\n",
       "      <th>MoTr</th>\n",
       "      <td>0.153661</td>\n",
       "      <td>0.107431</td>\n",
       "      <td>0.182333</td>\n",
       "      <td>0.040593</td>\n",
       "      <td>0.186842</td>\n",
       "      <td>0.000000</td>\n",
       "      <td>0.025386</td>\n",
       "      <td>0.000000</td>\n",
       "      <td>0.000000</td>\n",
       "      <td>0.000000</td>\n",
       "      <td>0.000000</td>\n",
       "      <td>0.000000</td>\n",
       "      <td>0.000000</td>\n",
       "      <td>0.139389</td>\n",
       "      <td>0.000000</td>\n",
       "    </tr>\n",
       "    <tr>\n",
       "      <th>RiRi</th>\n",
       "      <td>0.120607</td>\n",
       "      <td>0.000000</td>\n",
       "      <td>0.000000</td>\n",
       "      <td>0.128676</td>\n",
       "      <td>0.339514</td>\n",
       "      <td>0.000000</td>\n",
       "      <td>0.000000</td>\n",
       "      <td>0.000000</td>\n",
       "      <td>0.005038</td>\n",
       "      <td>0.000000</td>\n",
       "      <td>0.000000</td>\n",
       "      <td>0.000000</td>\n",
       "      <td>0.007349</td>\n",
       "      <td>0.000000</td>\n",
       "      <td>0.000000</td>\n",
       "    </tr>\n",
       "    <tr>\n",
       "      <th>MoFo</th>\n",
       "      <td>0.055389</td>\n",
       "      <td>0.021136</td>\n",
       "      <td>0.000000</td>\n",
       "      <td>0.039320</td>\n",
       "      <td>0.000000</td>\n",
       "      <td>0.206389</td>\n",
       "      <td>0.000000</td>\n",
       "      <td>0.000000</td>\n",
       "      <td>0.092470</td>\n",
       "      <td>0.000000</td>\n",
       "      <td>0.000000</td>\n",
       "      <td>0.000000</td>\n",
       "      <td>0.049632</td>\n",
       "      <td>0.000000</td>\n",
       "      <td>0.192780</td>\n",
       "    </tr>\n",
       "    <tr>\n",
       "      <th>Mmof</th>\n",
       "      <td>0.168943</td>\n",
       "      <td>0.000000</td>\n",
       "      <td>0.000000</td>\n",
       "      <td>0.237080</td>\n",
       "      <td>0.158258</td>\n",
       "      <td>0.000000</td>\n",
       "      <td>0.000000</td>\n",
       "      <td>0.000000</td>\n",
       "      <td>0.080567</td>\n",
       "      <td>0.034976</td>\n",
       "      <td>0.000000</td>\n",
       "      <td>0.000000</td>\n",
       "      <td>0.069730</td>\n",
       "      <td>0.000000</td>\n",
       "      <td>0.000000</td>\n",
       "    </tr>\n",
       "    <tr>\n",
       "      <th>MoRi</th>\n",
       "      <td>0.015507</td>\n",
       "      <td>0.233235</td>\n",
       "      <td>0.245535</td>\n",
       "      <td>0.024328</td>\n",
       "      <td>0.000000</td>\n",
       "      <td>0.000000</td>\n",
       "      <td>0.285686</td>\n",
       "      <td>0.390314</td>\n",
       "      <td>0.000000</td>\n",
       "      <td>0.322484</td>\n",
       "      <td>0.074395</td>\n",
       "      <td>0.025238</td>\n",
       "      <td>0.000000</td>\n",
       "      <td>0.220697</td>\n",
       "      <td>0.350598</td>\n",
       "    </tr>\n",
       "    <tr>\n",
       "      <th>MeRi</th>\n",
       "      <td>0.000000</td>\n",
       "      <td>0.000000</td>\n",
       "      <td>0.023470</td>\n",
       "      <td>0.000000</td>\n",
       "      <td>0.000000</td>\n",
       "      <td>0.000000</td>\n",
       "      <td>0.000000</td>\n",
       "      <td>0.000000</td>\n",
       "      <td>0.006964</td>\n",
       "      <td>0.150511</td>\n",
       "      <td>0.000000</td>\n",
       "      <td>0.000000</td>\n",
       "      <td>0.000025</td>\n",
       "      <td>0.059308</td>\n",
       "      <td>0.000000</td>\n",
       "    </tr>\n",
       "    <tr>\n",
       "      <th>Ri</th>\n",
       "      <td>0.000000</td>\n",
       "      <td>0.052008</td>\n",
       "      <td>0.135037</td>\n",
       "      <td>0.000000</td>\n",
       "      <td>0.000000</td>\n",
       "      <td>0.000000</td>\n",
       "      <td>0.133138</td>\n",
       "      <td>0.117307</td>\n",
       "      <td>0.000000</td>\n",
       "      <td>0.000000</td>\n",
       "      <td>0.174502</td>\n",
       "      <td>0.091370</td>\n",
       "      <td>0.000000</td>\n",
       "      <td>0.075385</td>\n",
       "      <td>0.081855</td>\n",
       "    </tr>\n",
       "    <tr>\n",
       "      <th>Comp</th>\n",
       "      <td>0.130324</td>\n",
       "      <td>0.127000</td>\n",
       "      <td>0.031651</td>\n",
       "      <td>0.160658</td>\n",
       "      <td>0.038101</td>\n",
       "      <td>0.000000</td>\n",
       "      <td>0.000000</td>\n",
       "      <td>0.022867</td>\n",
       "      <td>0.000000</td>\n",
       "      <td>0.234896</td>\n",
       "      <td>0.008215</td>\n",
       "      <td>0.107905</td>\n",
       "      <td>0.000000</td>\n",
       "      <td>0.042401</td>\n",
       "      <td>0.108813</td>\n",
       "    </tr>\n",
       "  </tbody>\n",
       "</table>\n",
       "</div>"
      ],
      "text/plain": [
       "          TrRi      RiTr       Plu      Ttra      Ttrb        Tr      MeTr  \\\n",
       "TrRi  0.000000  0.000000  0.000000  0.002004  0.000000  0.271259  0.000000   \n",
       "RiTr  0.141128  0.095657  0.000000  0.018439  0.128261  0.238605  0.000000   \n",
       "Plu   0.058132  0.068976  0.092523  0.057709  0.149024  0.000000  0.223900   \n",
       "Ttra  0.021808  0.000000  0.146434  0.154363  0.000000  0.000000  0.001661   \n",
       "Ttrb  0.134501  0.158305  0.000000  0.136830  0.000000  0.000000  0.025526   \n",
       "Tr    0.000000  0.000000  0.104362  0.000000  0.000000  0.000000  0.173081   \n",
       "MeTr  0.000000  0.136253  0.038654  0.000000  0.000000  0.283747  0.131623   \n",
       "MoTr  0.153661  0.107431  0.182333  0.040593  0.186842  0.000000  0.025386   \n",
       "RiRi  0.120607  0.000000  0.000000  0.128676  0.339514  0.000000  0.000000   \n",
       "MoFo  0.055389  0.021136  0.000000  0.039320  0.000000  0.206389  0.000000   \n",
       "Mmof  0.168943  0.000000  0.000000  0.237080  0.158258  0.000000  0.000000   \n",
       "MoRi  0.015507  0.233235  0.245535  0.024328  0.000000  0.000000  0.285686   \n",
       "MeRi  0.000000  0.000000  0.023470  0.000000  0.000000  0.000000  0.000000   \n",
       "Ri    0.000000  0.052008  0.135037  0.000000  0.000000  0.000000  0.133138   \n",
       "Comp  0.130324  0.127000  0.031651  0.160658  0.038101  0.000000  0.000000   \n",
       "\n",
       "          MoTr      RiRi      MoFo      Mmof      MoRi      MeRi        Ri  \\\n",
       "TrRi  0.000000  0.372986  0.000000  0.050735  0.031767  0.446254  0.000000   \n",
       "RiTr  0.000000  0.097695  0.000000  0.000000  0.030942  0.092450  0.000000   \n",
       "Plu   0.436567  0.000000  0.147726  0.118357  0.112787  0.000000  0.109793   \n",
       "Ttra  0.000000  0.081475  0.104693  0.000000  0.000000  0.000000  0.135440   \n",
       "Ttrb  0.000000  0.092211  0.004713  0.000000  0.000000  0.100985  0.006040   \n",
       "Tr    0.000000  0.080206  0.000000  0.207985  0.214334  0.088960  0.129828   \n",
       "MeTr  0.032945  0.090388  0.000000  0.365812  0.385657  0.144615  0.081717   \n",
       "MoTr  0.000000  0.000000  0.000000  0.000000  0.000000  0.000000  0.139389   \n",
       "RiRi  0.000000  0.005038  0.000000  0.000000  0.000000  0.007349  0.000000   \n",
       "MoFo  0.000000  0.092470  0.000000  0.000000  0.000000  0.049632  0.000000   \n",
       "Mmof  0.000000  0.080567  0.034976  0.000000  0.000000  0.069730  0.000000   \n",
       "MoRi  0.390314  0.000000  0.322484  0.074395  0.025238  0.000000  0.220697   \n",
       "MeRi  0.000000  0.006964  0.150511  0.000000  0.000000  0.000025  0.059308   \n",
       "Ri    0.117307  0.000000  0.000000  0.174502  0.091370  0.000000  0.075385   \n",
       "Comp  0.022867  0.000000  0.234896  0.008215  0.107905  0.000000  0.042401   \n",
       "\n",
       "          Comp  \n",
       "TrRi  0.000000  \n",
       "RiTr  0.000000  \n",
       "Plu   0.218809  \n",
       "Ttra  0.000000  \n",
       "Ttrb  0.000000  \n",
       "Tr    0.000000  \n",
       "MeTr  0.047145  \n",
       "MoTr  0.000000  \n",
       "RiRi  0.000000  \n",
       "MoFo  0.192780  \n",
       "Mmof  0.000000  \n",
       "MoRi  0.350598  \n",
       "MeRi  0.000000  \n",
       "Ri    0.081855  \n",
       "Comp  0.108813  "
      ]
     },
     "execution_count": 172,
     "metadata": {},
     "output_type": "execute_result"
    }
   ],
   "source": [
    "df_ecc_dict[\"soggetto_8\"]"
   ]
  },
  {
   "cell_type": "code",
   "execution_count": 173,
   "metadata": {},
   "outputs": [
    {
     "data": {
      "text/html": [
       "<div>\n",
       "<style scoped>\n",
       "    .dataframe tbody tr th:only-of-type {\n",
       "        vertical-align: middle;\n",
       "    }\n",
       "\n",
       "    .dataframe tbody tr th {\n",
       "        vertical-align: top;\n",
       "    }\n",
       "\n",
       "    .dataframe thead th {\n",
       "        text-align: right;\n",
       "    }\n",
       "</style>\n",
       "<table border=\"1\" class=\"dataframe\">\n",
       "  <thead>\n",
       "    <tr style=\"text-align: right;\">\n",
       "      <th></th>\n",
       "      <th>TrRi</th>\n",
       "      <th>RiTr</th>\n",
       "      <th>Plu</th>\n",
       "      <th>Ttra</th>\n",
       "      <th>Ttrb</th>\n",
       "      <th>Tr</th>\n",
       "      <th>MeTr</th>\n",
       "      <th>MoTr</th>\n",
       "      <th>RiRi</th>\n",
       "      <th>MoFo</th>\n",
       "      <th>Mmof</th>\n",
       "      <th>MoRi</th>\n",
       "      <th>MeRi</th>\n",
       "      <th>Ri</th>\n",
       "      <th>Comp</th>\n",
       "    </tr>\n",
       "  </thead>\n",
       "  <tbody>\n",
       "    <tr>\n",
       "      <th>TrRi</th>\n",
       "      <td>0.080844</td>\n",
       "      <td>0.332993</td>\n",
       "      <td>0.424472</td>\n",
       "      <td>-0.000000</td>\n",
       "      <td>0.113205</td>\n",
       "      <td>-0.000000</td>\n",
       "      <td>0.132426</td>\n",
       "      <td>0.218278</td>\n",
       "      <td>-0.000000</td>\n",
       "      <td>0.318139</td>\n",
       "      <td>-0.000000</td>\n",
       "      <td>-0.000000</td>\n",
       "      <td>-0.000000</td>\n",
       "      <td>0.373705</td>\n",
       "      <td>0.241310</td>\n",
       "    </tr>\n",
       "    <tr>\n",
       "      <th>RiTr</th>\n",
       "      <td>-0.000000</td>\n",
       "      <td>-0.000000</td>\n",
       "      <td>0.214017</td>\n",
       "      <td>-0.000000</td>\n",
       "      <td>-0.000000</td>\n",
       "      <td>-0.000000</td>\n",
       "      <td>0.241481</td>\n",
       "      <td>0.259908</td>\n",
       "      <td>-0.000000</td>\n",
       "      <td>0.195290</td>\n",
       "      <td>0.102233</td>\n",
       "      <td>-0.000000</td>\n",
       "      <td>-0.000000</td>\n",
       "      <td>0.228367</td>\n",
       "      <td>0.136730</td>\n",
       "    </tr>\n",
       "    <tr>\n",
       "      <th>Plu</th>\n",
       "      <td>-0.000000</td>\n",
       "      <td>-0.000000</td>\n",
       "      <td>-0.000000</td>\n",
       "      <td>-0.000000</td>\n",
       "      <td>-0.000000</td>\n",
       "      <td>0.243506</td>\n",
       "      <td>-0.000000</td>\n",
       "      <td>-0.000000</td>\n",
       "      <td>0.288834</td>\n",
       "      <td>-0.000000</td>\n",
       "      <td>-0.000000</td>\n",
       "      <td>-0.000000</td>\n",
       "      <td>0.236467</td>\n",
       "      <td>-0.000000</td>\n",
       "      <td>-0.000000</td>\n",
       "    </tr>\n",
       "    <tr>\n",
       "      <th>Ttra</th>\n",
       "      <td>-0.000000</td>\n",
       "      <td>0.220787</td>\n",
       "      <td>-0.000000</td>\n",
       "      <td>-0.000000</td>\n",
       "      <td>0.031138</td>\n",
       "      <td>0.033954</td>\n",
       "      <td>-0.000000</td>\n",
       "      <td>0.034938</td>\n",
       "      <td>-0.000000</td>\n",
       "      <td>-0.000000</td>\n",
       "      <td>0.112870</td>\n",
       "      <td>0.099014</td>\n",
       "      <td>0.026083</td>\n",
       "      <td>-0.000000</td>\n",
       "      <td>0.046200</td>\n",
       "    </tr>\n",
       "    <tr>\n",
       "      <th>Ttrb</th>\n",
       "      <td>-0.000000</td>\n",
       "      <td>-0.000000</td>\n",
       "      <td>0.029749</td>\n",
       "      <td>-0.000000</td>\n",
       "      <td>0.048473</td>\n",
       "      <td>0.001246</td>\n",
       "      <td>-0.000000</td>\n",
       "      <td>0.114503</td>\n",
       "      <td>-0.000000</td>\n",
       "      <td>-0.000000</td>\n",
       "      <td>0.115412</td>\n",
       "      <td>0.227706</td>\n",
       "      <td>-0.000000</td>\n",
       "      <td>-0.000000</td>\n",
       "      <td>0.028342</td>\n",
       "    </tr>\n",
       "    <tr>\n",
       "      <th>Tr</th>\n",
       "      <td>0.247228</td>\n",
       "      <td>0.188595</td>\n",
       "      <td>-0.000000</td>\n",
       "      <td>0.181170</td>\n",
       "      <td>0.182340</td>\n",
       "      <td>0.027231</td>\n",
       "      <td>-0.000000</td>\n",
       "      <td>0.036451</td>\n",
       "      <td>-0.000000</td>\n",
       "      <td>0.054723</td>\n",
       "      <td>-0.000000</td>\n",
       "      <td>-0.000000</td>\n",
       "      <td>-0.000000</td>\n",
       "      <td>-0.000000</td>\n",
       "      <td>0.108726</td>\n",
       "    </tr>\n",
       "    <tr>\n",
       "      <th>MeTr</th>\n",
       "      <td>0.311305</td>\n",
       "      <td>-0.000000</td>\n",
       "      <td>-0.000000</td>\n",
       "      <td>0.422096</td>\n",
       "      <td>0.226305</td>\n",
       "      <td>-0.000000</td>\n",
       "      <td>-0.000000</td>\n",
       "      <td>-0.000000</td>\n",
       "      <td>-0.000000</td>\n",
       "      <td>0.028004</td>\n",
       "      <td>-0.000000</td>\n",
       "      <td>-0.000000</td>\n",
       "      <td>-0.000000</td>\n",
       "      <td>-0.000000</td>\n",
       "      <td>-0.000000</td>\n",
       "    </tr>\n",
       "    <tr>\n",
       "      <th>MoTr</th>\n",
       "      <td>-0.000000</td>\n",
       "      <td>-0.000000</td>\n",
       "      <td>-0.000000</td>\n",
       "      <td>-0.000000</td>\n",
       "      <td>-0.000000</td>\n",
       "      <td>0.097876</td>\n",
       "      <td>-0.000000</td>\n",
       "      <td>0.086769</td>\n",
       "      <td>0.062489</td>\n",
       "      <td>0.008755</td>\n",
       "      <td>0.172731</td>\n",
       "      <td>0.203445</td>\n",
       "      <td>0.160931</td>\n",
       "      <td>-0.000000</td>\n",
       "      <td>0.125239</td>\n",
       "    </tr>\n",
       "    <tr>\n",
       "      <th>RiRi</th>\n",
       "      <td>-0.000000</td>\n",
       "      <td>0.111455</td>\n",
       "      <td>0.162507</td>\n",
       "      <td>-0.000000</td>\n",
       "      <td>-0.000000</td>\n",
       "      <td>0.051430</td>\n",
       "      <td>0.073699</td>\n",
       "      <td>0.046900</td>\n",
       "      <td>-0.000000</td>\n",
       "      <td>0.216265</td>\n",
       "      <td>0.163454</td>\n",
       "      <td>0.104556</td>\n",
       "      <td>-0.000000</td>\n",
       "      <td>0.246156</td>\n",
       "      <td>0.159539</td>\n",
       "    </tr>\n",
       "    <tr>\n",
       "      <th>MoFo</th>\n",
       "      <td>-0.000000</td>\n",
       "      <td>-0.000000</td>\n",
       "      <td>0.085872</td>\n",
       "      <td>-0.000000</td>\n",
       "      <td>0.027146</td>\n",
       "      <td>-0.000000</td>\n",
       "      <td>0.047712</td>\n",
       "      <td>0.116453</td>\n",
       "      <td>-0.000000</td>\n",
       "      <td>0.058818</td>\n",
       "      <td>0.102899</td>\n",
       "      <td>0.135420</td>\n",
       "      <td>-0.000000</td>\n",
       "      <td>0.089964</td>\n",
       "      <td>-0.000000</td>\n",
       "    </tr>\n",
       "    <tr>\n",
       "      <th>Mmof</th>\n",
       "      <td>-0.000000</td>\n",
       "      <td>0.096064</td>\n",
       "      <td>0.083383</td>\n",
       "      <td>-0.000000</td>\n",
       "      <td>-0.000000</td>\n",
       "      <td>0.018828</td>\n",
       "      <td>0.171723</td>\n",
       "      <td>0.026786</td>\n",
       "      <td>-0.000000</td>\n",
       "      <td>-0.000000</td>\n",
       "      <td>0.216599</td>\n",
       "      <td>0.190647</td>\n",
       "      <td>-0.000000</td>\n",
       "      <td>0.061808</td>\n",
       "      <td>0.032435</td>\n",
       "    </tr>\n",
       "    <tr>\n",
       "      <th>MoRi</th>\n",
       "      <td>-0.000000</td>\n",
       "      <td>-0.000000</td>\n",
       "      <td>-0.000000</td>\n",
       "      <td>-0.000000</td>\n",
       "      <td>0.040661</td>\n",
       "      <td>0.332785</td>\n",
       "      <td>-0.000000</td>\n",
       "      <td>-0.000000</td>\n",
       "      <td>0.407795</td>\n",
       "      <td>-0.000000</td>\n",
       "      <td>-0.000000</td>\n",
       "      <td>-0.000000</td>\n",
       "      <td>0.357209</td>\n",
       "      <td>-0.000000</td>\n",
       "      <td>-0.000000</td>\n",
       "    </tr>\n",
       "    <tr>\n",
       "      <th>MeRi</th>\n",
       "      <td>0.117065</td>\n",
       "      <td>0.050106</td>\n",
       "      <td>-0.000000</td>\n",
       "      <td>0.083687</td>\n",
       "      <td>0.226169</td>\n",
       "      <td>0.070734</td>\n",
       "      <td>0.263375</td>\n",
       "      <td>0.059015</td>\n",
       "      <td>-0.000000</td>\n",
       "      <td>-0.000000</td>\n",
       "      <td>0.013802</td>\n",
       "      <td>0.039212</td>\n",
       "      <td>-0.000000</td>\n",
       "      <td>-0.000000</td>\n",
       "      <td>0.121478</td>\n",
       "    </tr>\n",
       "    <tr>\n",
       "      <th>Ri</th>\n",
       "      <td>0.243559</td>\n",
       "      <td>-0.000000</td>\n",
       "      <td>-0.000000</td>\n",
       "      <td>0.313047</td>\n",
       "      <td>0.104562</td>\n",
       "      <td>0.052476</td>\n",
       "      <td>-0.000000</td>\n",
       "      <td>-0.000000</td>\n",
       "      <td>0.125487</td>\n",
       "      <td>0.120006</td>\n",
       "      <td>-0.000000</td>\n",
       "      <td>-0.000000</td>\n",
       "      <td>0.124738</td>\n",
       "      <td>-0.000000</td>\n",
       "      <td>-0.000000</td>\n",
       "    </tr>\n",
       "    <tr>\n",
       "      <th>Comp</th>\n",
       "      <td>-0.000000</td>\n",
       "      <td>-0.000000</td>\n",
       "      <td>-0.000000</td>\n",
       "      <td>-0.000000</td>\n",
       "      <td>-0.000000</td>\n",
       "      <td>0.069934</td>\n",
       "      <td>0.069584</td>\n",
       "      <td>-0.000000</td>\n",
       "      <td>0.115393</td>\n",
       "      <td>-0.000000</td>\n",
       "      <td>-0.000000</td>\n",
       "      <td>-0.000000</td>\n",
       "      <td>0.094572</td>\n",
       "      <td>-0.000000</td>\n",
       "      <td>-0.000000</td>\n",
       "    </tr>\n",
       "  </tbody>\n",
       "</table>\n",
       "</div>"
      ],
      "text/plain": [
       "          TrRi      RiTr       Plu      Ttra      Ttrb        Tr      MeTr  \\\n",
       "TrRi  0.080844  0.332993  0.424472 -0.000000  0.113205 -0.000000  0.132426   \n",
       "RiTr -0.000000 -0.000000  0.214017 -0.000000 -0.000000 -0.000000  0.241481   \n",
       "Plu  -0.000000 -0.000000 -0.000000 -0.000000 -0.000000  0.243506 -0.000000   \n",
       "Ttra -0.000000  0.220787 -0.000000 -0.000000  0.031138  0.033954 -0.000000   \n",
       "Ttrb -0.000000 -0.000000  0.029749 -0.000000  0.048473  0.001246 -0.000000   \n",
       "Tr    0.247228  0.188595 -0.000000  0.181170  0.182340  0.027231 -0.000000   \n",
       "MeTr  0.311305 -0.000000 -0.000000  0.422096  0.226305 -0.000000 -0.000000   \n",
       "MoTr -0.000000 -0.000000 -0.000000 -0.000000 -0.000000  0.097876 -0.000000   \n",
       "RiRi -0.000000  0.111455  0.162507 -0.000000 -0.000000  0.051430  0.073699   \n",
       "MoFo -0.000000 -0.000000  0.085872 -0.000000  0.027146 -0.000000  0.047712   \n",
       "Mmof -0.000000  0.096064  0.083383 -0.000000 -0.000000  0.018828  0.171723   \n",
       "MoRi -0.000000 -0.000000 -0.000000 -0.000000  0.040661  0.332785 -0.000000   \n",
       "MeRi  0.117065  0.050106 -0.000000  0.083687  0.226169  0.070734  0.263375   \n",
       "Ri    0.243559 -0.000000 -0.000000  0.313047  0.104562  0.052476 -0.000000   \n",
       "Comp -0.000000 -0.000000 -0.000000 -0.000000 -0.000000  0.069934  0.069584   \n",
       "\n",
       "          MoTr      RiRi      MoFo      Mmof      MoRi      MeRi        Ri  \\\n",
       "TrRi  0.218278 -0.000000  0.318139 -0.000000 -0.000000 -0.000000  0.373705   \n",
       "RiTr  0.259908 -0.000000  0.195290  0.102233 -0.000000 -0.000000  0.228367   \n",
       "Plu  -0.000000  0.288834 -0.000000 -0.000000 -0.000000  0.236467 -0.000000   \n",
       "Ttra  0.034938 -0.000000 -0.000000  0.112870  0.099014  0.026083 -0.000000   \n",
       "Ttrb  0.114503 -0.000000 -0.000000  0.115412  0.227706 -0.000000 -0.000000   \n",
       "Tr    0.036451 -0.000000  0.054723 -0.000000 -0.000000 -0.000000 -0.000000   \n",
       "MeTr -0.000000 -0.000000  0.028004 -0.000000 -0.000000 -0.000000 -0.000000   \n",
       "MoTr  0.086769  0.062489  0.008755  0.172731  0.203445  0.160931 -0.000000   \n",
       "RiRi  0.046900 -0.000000  0.216265  0.163454  0.104556 -0.000000  0.246156   \n",
       "MoFo  0.116453 -0.000000  0.058818  0.102899  0.135420 -0.000000  0.089964   \n",
       "Mmof  0.026786 -0.000000 -0.000000  0.216599  0.190647 -0.000000  0.061808   \n",
       "MoRi -0.000000  0.407795 -0.000000 -0.000000 -0.000000  0.357209 -0.000000   \n",
       "MeRi  0.059015 -0.000000 -0.000000  0.013802  0.039212 -0.000000 -0.000000   \n",
       "Ri   -0.000000  0.125487  0.120006 -0.000000 -0.000000  0.124738 -0.000000   \n",
       "Comp -0.000000  0.115393 -0.000000 -0.000000 -0.000000  0.094572 -0.000000   \n",
       "\n",
       "          Comp  \n",
       "TrRi  0.241310  \n",
       "RiTr  0.136730  \n",
       "Plu  -0.000000  \n",
       "Ttra  0.046200  \n",
       "Ttrb  0.028342  \n",
       "Tr    0.108726  \n",
       "MeTr -0.000000  \n",
       "MoTr  0.125239  \n",
       "RiRi  0.159539  \n",
       "MoFo -0.000000  \n",
       "Mmof  0.032435  \n",
       "MoRi -0.000000  \n",
       "MeRi  0.121478  \n",
       "Ri   -0.000000  \n",
       "Comp -0.000000  "
      ]
     },
     "execution_count": 173,
     "metadata": {},
     "output_type": "execute_result"
    }
   ],
   "source": [
    "df_ini_dict[\"soggetto_8\"]"
   ]
  },
  {
   "cell_type": "code",
   "execution_count": 174,
   "metadata": {},
   "outputs": [],
   "source": [
    "# create dicts with numpy instead dataframes\n",
    "np_ecc_dict = {}\n",
    "np_ini_dict = {}\n",
    "for subject in subjects:\n",
    "    np_ecc_dict[subject] = df_ecc_dict[subject].to_numpy()\n",
    "    np_ini_dict[subject] = df_ini_dict[subject].to_numpy()"
   ]
  },
  {
   "cell_type": "code",
   "execution_count": 175,
   "metadata": {},
   "outputs": [
    {
     "data": {
      "text/plain": [
       "array([[0.00000000e+00, 0.00000000e+00, 0.00000000e+00, 2.00372067e-03,\n",
       "        0.00000000e+00, 2.71258693e-01, 0.00000000e+00, 0.00000000e+00,\n",
       "        3.72985754e-01, 0.00000000e+00, 5.07350981e-02, 3.17673061e-02,\n",
       "        4.46253553e-01, 0.00000000e+00, 0.00000000e+00],\n",
       "       [1.41127702e-01, 9.56574629e-02, 0.00000000e+00, 1.84392118e-02,\n",
       "        1.28261011e-01, 2.38605192e-01, 0.00000000e+00, 0.00000000e+00,\n",
       "        9.76952834e-02, 0.00000000e+00, 0.00000000e+00, 3.09416326e-02,\n",
       "        9.24496423e-02, 0.00000000e+00, 0.00000000e+00],\n",
       "       [5.81321383e-02, 6.89759544e-02, 9.25227703e-02, 5.77092369e-02,\n",
       "        1.49024071e-01, 0.00000000e+00, 2.23899554e-01, 4.36567336e-01,\n",
       "        0.00000000e+00, 1.47725844e-01, 1.18356689e-01, 1.12786713e-01,\n",
       "        0.00000000e+00, 1.09793486e-01, 2.18809137e-01],\n",
       "       [2.18078764e-02, 0.00000000e+00, 1.46434419e-01, 1.54363281e-01,\n",
       "        0.00000000e+00, 0.00000000e+00, 1.66052794e-03, 0.00000000e+00,\n",
       "        8.14748202e-02, 1.04693379e-01, 0.00000000e+00, 0.00000000e+00,\n",
       "        0.00000000e+00, 1.35439975e-01, 0.00000000e+00],\n",
       "       [1.34500908e-01, 1.58304980e-01, 0.00000000e+00, 1.36829838e-01,\n",
       "        0.00000000e+00, 0.00000000e+00, 2.55255431e-02, 0.00000000e+00,\n",
       "        9.22106649e-02, 4.71313120e-03, 0.00000000e+00, 0.00000000e+00,\n",
       "        1.00984844e-01, 6.04047145e-03, 0.00000000e+00],\n",
       "       [0.00000000e+00, 0.00000000e+00, 1.04361924e-01, 0.00000000e+00,\n",
       "        0.00000000e+00, 0.00000000e+00, 1.73081096e-01, 0.00000000e+00,\n",
       "        8.02056107e-02, 0.00000000e+00, 2.07984706e-01, 2.14334133e-01,\n",
       "        8.89604302e-02, 1.29827876e-01, 0.00000000e+00],\n",
       "       [0.00000000e+00, 1.36252853e-01, 3.86540228e-02, 0.00000000e+00,\n",
       "        0.00000000e+00, 2.83747233e-01, 1.31623470e-01, 3.29446979e-02,\n",
       "        9.03876083e-02, 0.00000000e+00, 3.65811959e-01, 3.85657043e-01,\n",
       "        1.44615191e-01, 8.17174039e-02, 4.71448032e-02],\n",
       "       [1.53660999e-01, 1.07430905e-01, 1.82333325e-01, 4.05930177e-02,\n",
       "        1.86842128e-01, 0.00000000e+00, 2.53862765e-02, 0.00000000e+00,\n",
       "        0.00000000e+00, 0.00000000e+00, 0.00000000e+00, 0.00000000e+00,\n",
       "        0.00000000e+00, 1.39388903e-01, 0.00000000e+00],\n",
       "       [1.20607031e-01, 0.00000000e+00, 0.00000000e+00, 1.28675913e-01,\n",
       "        3.39513615e-01, 0.00000000e+00, 0.00000000e+00, 0.00000000e+00,\n",
       "        5.03840706e-03, 0.00000000e+00, 0.00000000e+00, 0.00000000e+00,\n",
       "        7.34876750e-03, 0.00000000e+00, 0.00000000e+00],\n",
       "       [5.53891140e-02, 2.11355881e-02, 0.00000000e+00, 3.93199962e-02,\n",
       "        0.00000000e+00, 2.06388883e-01, 0.00000000e+00, 0.00000000e+00,\n",
       "        9.24699471e-02, 0.00000000e+00, 0.00000000e+00, 0.00000000e+00,\n",
       "        4.96323237e-02, 0.00000000e+00, 1.92780068e-01],\n",
       "       [1.68942626e-01, 0.00000000e+00, 0.00000000e+00, 2.37080258e-01,\n",
       "        1.58258476e-01, 0.00000000e+00, 0.00000000e+00, 0.00000000e+00,\n",
       "        8.05674781e-02, 3.49762630e-02, 0.00000000e+00, 0.00000000e+00,\n",
       "        6.97302821e-02, 0.00000000e+00, 0.00000000e+00],\n",
       "       [1.55073329e-02, 2.33234980e-01, 2.45535128e-01, 2.43277488e-02,\n",
       "        0.00000000e+00, 0.00000000e+00, 2.85685645e-01, 3.90313606e-01,\n",
       "        0.00000000e+00, 3.22484366e-01, 7.43951495e-02, 2.52380543e-02,\n",
       "        0.00000000e+00, 2.20696698e-01, 3.50597837e-01],\n",
       "       [0.00000000e+00, 0.00000000e+00, 2.34703640e-02, 0.00000000e+00,\n",
       "        0.00000000e+00, 0.00000000e+00, 0.00000000e+00, 0.00000000e+00,\n",
       "        6.96442605e-03, 1.50511113e-01, 0.00000000e+00, 0.00000000e+00,\n",
       "        2.49657000e-05, 5.93084839e-02, 0.00000000e+00],\n",
       "       [0.00000000e+00, 5.20075764e-02, 1.35037082e-01, 0.00000000e+00,\n",
       "        0.00000000e+00, 0.00000000e+00, 1.33137889e-01, 1.17307146e-01,\n",
       "        0.00000000e+00, 0.00000000e+00, 1.74501665e-01, 9.13703204e-02,\n",
       "        0.00000000e+00, 7.53853598e-02, 8.18550913e-02],\n",
       "       [1.30324273e-01, 1.26999700e-01, 3.16509644e-02, 1.60657778e-01,\n",
       "        3.81006995e-02, 0.00000000e+00, 0.00000000e+00, 2.28672134e-02,\n",
       "        0.00000000e+00, 2.34895904e-01, 8.21473277e-03, 1.07904798e-01,\n",
       "        0.00000000e+00, 4.24013422e-02, 1.08813064e-01]])"
      ]
     },
     "execution_count": 175,
     "metadata": {},
     "output_type": "execute_result"
    }
   ],
   "source": [
    "np_ecc_dict[\"soggetto_8\"]"
   ]
  },
  {
   "cell_type": "code",
   "execution_count": 176,
   "metadata": {},
   "outputs": [
    {
     "data": {
      "text/plain": [
       "array([[ 0.34469149,  0.41849418,  0.00206384,  0.44488317,  0.13419976,\n",
       "         0.20570888,  0.09893122,  0.3130637 ,  0.24263741,  0.19528605,\n",
       "         0.35750606,  0.17114488,  0.049462  ,  0.27305392,  0.091681  ],\n",
       "       [ 0.11081296,  0.11898522,  0.17004562,  0.42322021,  0.01691697,\n",
       "         0.17044478,  0.01676706,  0.10130866, -0.        ,  0.17746898,\n",
       "        -0.        ,  0.0302237 ,  0.12269472,  0.1932612 , -0.        ],\n",
       "       [-0.        , -0.        ,  0.17733637, -0.        ,  0.23934598,\n",
       "         0.02058978,  0.25228392, -0.        , -0.        , -0.        ,\n",
       "        -0.        ,  0.08633342, -0.        , -0.        ,  0.14312379],\n",
       "       [-0.        , -0.        , -0.        , -0.        ,  0.12569915,\n",
       "        -0.        , -0.        , -0.        , -0.        , -0.        ,\n",
       "        -0.        , -0.        ,  0.13181477,  0.01339112,  0.31729936],\n",
       "       [-0.        , -0.        , -0.        , -0.        , -0.        ,\n",
       "        -0.        , -0.        , -0.        , -0.        , -0.        ,\n",
       "        -0.        , -0.        ,  0.03555284,  0.0625928 , -0.        ],\n",
       "       [ 0.04518615, -0.        , -0.        , -0.        , -0.        ,\n",
       "        -0.        ,  0.06186228, -0.        , -0.        , -0.        ,\n",
       "        -0.        , -0.        ,  0.13335637,  0.14215626, -0.        ],\n",
       "       [-0.        ,  0.09608526, -0.        ,  0.10488469,  0.04430515,\n",
       "         0.07615576, -0.        ,  0.09978266, -0.        ,  0.31801166,\n",
       "        -0.        , -0.        ,  0.13496454, -0.        , -0.        ],\n",
       "       [ 0.15685478,  0.065695  , -0.        , -0.        ,  0.09367636,\n",
       "        -0.        , -0.        ,  0.08491077,  0.15701662, -0.        ,\n",
       "         0.02629674,  0.06202031,  0.09629795,  0.06278264,  0.0499918 ],\n",
       "       [ 0.05587199,  0.24727299,  0.17114321,  0.02701194, -0.        ,\n",
       "         0.19953374,  0.20426405,  0.18560747,  0.13289113,  0.17486632,\n",
       "         0.13916755,  0.2024083 , -0.        ,  0.1184419 ,  0.07757089],\n",
       "       [-0.        , -0.        , -0.        , -0.        , -0.        ,\n",
       "        -0.        , -0.        , -0.        , -0.        , -0.        ,\n",
       "        -0.        , -0.        , -0.        , -0.        ,  0.06541694],\n",
       "       [-0.        , -0.        , -0.        , -0.        , -0.        ,\n",
       "        -0.        ,  0.08986592, -0.        , -0.        , -0.        ,\n",
       "        -0.        , -0.        , -0.        , -0.        , -0.        ],\n",
       "       [ 0.23782905,  0.00685152,  0.17344394, -0.        ,  0.03618709,\n",
       "         0.21841161, -0.        ,  0.07548153, -0.        ,  0.07671773,\n",
       "         0.27735352,  0.17582352, -0.        ,  0.08339397, -0.        ],\n",
       "       [-0.        , -0.        ,  0.28894476, -0.        , -0.        ,\n",
       "         0.08121901, -0.        ,  0.06587813,  0.36237169,  0.05764927,\n",
       "         0.15206476,  0.16956213,  0.13507783,  0.00046982, -0.        ],\n",
       "       [-0.        , -0.        , -0.        , -0.        ,  0.30966954,\n",
       "         0.02793643,  0.27602557, -0.        , -0.        , -0.        ,\n",
       "        -0.        , -0.        ,  0.16077898, -0.        ,  0.17745307],\n",
       "       [ 0.04875357,  0.04661584,  0.01702227, -0.        , -0.        ,\n",
       "        -0.        , -0.        ,  0.07396707,  0.10508315, -0.        ,\n",
       "         0.04761136,  0.10248373, -0.        ,  0.05045637,  0.07746315]])"
      ]
     },
     "execution_count": 176,
     "metadata": {},
     "output_type": "execute_result"
    }
   ],
   "source": [
    "np_ini_dict[\"soggetto_1\"]"
   ]
  },
  {
   "cell_type": "code",
   "execution_count": 177,
   "metadata": {},
   "outputs": [
    {
     "name": "stderr",
     "output_type": "stream",
     "text": [
      "/tmp/ipykernel_14253/2287471045.py:7: RuntimeWarning:\n",
      "\n",
      "overflow encountered in matmul\n",
      "\n",
      "/tmp/ipykernel_14253/2287471045.py:7: RuntimeWarning:\n",
      "\n",
      "overflow encountered in matmul\n",
      "\n",
      "/tmp/ipykernel_14253/2287471045.py:7: RuntimeWarning:\n",
      "\n",
      "overflow encountered in matmul\n",
      "\n",
      "/tmp/ipykernel_14253/2287471045.py:7: RuntimeWarning:\n",
      "\n",
      "overflow encountered in matmul\n",
      "\n"
     ]
    }
   ],
   "source": [
    "df_evolve_dict = {}\n",
    "for subject in subjects:\n",
    "    df_evolve_dict[subject] = pd.DataFrame(columns=df_o_dict[subject].columns)\n",
    "for subject in subjects:\n",
    "    for i in range(0,100):\n",
    "        np_ecc_dict[subject] = np.matmul(np_ecc_dict[subject], np_ecc_dict[subject])\n",
    "        np_ini_dict[subject] = np.matmul(np_ini_dict[subject], np_ini_dict[subject])\n",
    "        print(\"SOGGETTO : \" + subject)\n",
    "        print(\"Eccitatorio\")\n",
    "        print(np.sum(np_ecc_dict[subject], axis=0))\n",
    "        print(\"Inibitorio\")\n",
    "        print(np.sum(np_ini_dict[subject], axis=0))\n",
    "        np_activations = np.sum(np_ecc_dict[subject], axis=0) - np.sum(np_ini_dict[subject], axis=0)\n",
    "        np_activations = np_activations.reshape(15,1)\n",
    "        #print(np_activations)\n",
    "        df_evolve_dict[subject] = pd.concat(\n",
    "            [\n",
    "                df_evolve_dict[subject],\n",
    "                pd.DataFrame(np_activations.T, columns = df_evolve_dict[subject].columns)\n",
    "            ]\n",
    "            , axis = 0)\n",
    "    "
   ]
  },
  {
   "cell_type": "code",
   "execution_count": 178,
   "metadata": {},
   "outputs": [],
   "source": [
    "# for each subject's dataframe adjust the index to start from 0\n",
    "for subject in subjects:\n",
    "    df_evolve_dict[subject].index = range(0,df_evolve_dict[subject].shape[0])"
   ]
  },
  {
   "cell_type": "code",
   "execution_count": 179,
   "metadata": {},
   "outputs": [
    {
     "data": {
      "text/html": [
       "<div>\n",
       "<style scoped>\n",
       "    .dataframe tbody tr th:only-of-type {\n",
       "        vertical-align: middle;\n",
       "    }\n",
       "\n",
       "    .dataframe tbody tr th {\n",
       "        vertical-align: top;\n",
       "    }\n",
       "\n",
       "    .dataframe thead th {\n",
       "        text-align: right;\n",
       "    }\n",
       "</style>\n",
       "<table border=\"1\" class=\"dataframe\">\n",
       "  <thead>\n",
       "    <tr style=\"text-align: right;\">\n",
       "      <th></th>\n",
       "      <th>TrRi</th>\n",
       "      <th>RiTr</th>\n",
       "      <th>Plu</th>\n",
       "      <th>Ttra</th>\n",
       "      <th>Ttrb</th>\n",
       "      <th>Tr</th>\n",
       "      <th>MeTr</th>\n",
       "      <th>MoTr</th>\n",
       "      <th>RiRi</th>\n",
       "      <th>MoFo</th>\n",
       "      <th>Mmof</th>\n",
       "      <th>MoRi</th>\n",
       "      <th>MeRi</th>\n",
       "      <th>Ri</th>\n",
       "      <th>Comp</th>\n",
       "    </tr>\n",
       "  </thead>\n",
       "  <tbody>\n",
       "    <tr>\n",
       "      <th>0</th>\n",
       "      <td>0.000000e+00</td>\n",
       "      <td>-2.220446e-16</td>\n",
       "      <td>0.000000e+00</td>\n",
       "      <td>0.000000e+00</td>\n",
       "      <td>1.110223e-16</td>\n",
       "      <td>-4.440892e-16</td>\n",
       "      <td>-1.110223e-16</td>\n",
       "      <td>1.110223e-16</td>\n",
       "      <td>0.000000e+00</td>\n",
       "      <td>0.000000e+00</td>\n",
       "      <td>-4.440892e-16</td>\n",
       "      <td>-4.440892e-16</td>\n",
       "      <td>1.110223e-16</td>\n",
       "      <td>2.220446e-16</td>\n",
       "      <td>-1.110223e-16</td>\n",
       "    </tr>\n",
       "    <tr>\n",
       "      <th>1</th>\n",
       "      <td>1.110223e-16</td>\n",
       "      <td>-2.220446e-16</td>\n",
       "      <td>2.220446e-16</td>\n",
       "      <td>-1.110223e-16</td>\n",
       "      <td>1.110223e-16</td>\n",
       "      <td>-2.220446e-16</td>\n",
       "      <td>-2.220446e-16</td>\n",
       "      <td>1.110223e-16</td>\n",
       "      <td>0.000000e+00</td>\n",
       "      <td>0.000000e+00</td>\n",
       "      <td>-4.440892e-16</td>\n",
       "      <td>-2.220446e-16</td>\n",
       "      <td>3.330669e-16</td>\n",
       "      <td>-1.110223e-16</td>\n",
       "      <td>-3.330669e-16</td>\n",
       "    </tr>\n",
       "    <tr>\n",
       "      <th>2</th>\n",
       "      <td>-3.330669e-16</td>\n",
       "      <td>-2.220446e-16</td>\n",
       "      <td>-2.220446e-16</td>\n",
       "      <td>-1.110223e-16</td>\n",
       "      <td>4.440892e-16</td>\n",
       "      <td>-2.220446e-16</td>\n",
       "      <td>-4.440892e-16</td>\n",
       "      <td>0.000000e+00</td>\n",
       "      <td>0.000000e+00</td>\n",
       "      <td>0.000000e+00</td>\n",
       "      <td>-2.220446e-16</td>\n",
       "      <td>-3.330669e-16</td>\n",
       "      <td>0.000000e+00</td>\n",
       "      <td>1.110223e-16</td>\n",
       "      <td>-2.220446e-16</td>\n",
       "    </tr>\n",
       "    <tr>\n",
       "      <th>3</th>\n",
       "      <td>-2.220446e-16</td>\n",
       "      <td>-7.771561e-16</td>\n",
       "      <td>-4.440892e-16</td>\n",
       "      <td>-3.330669e-16</td>\n",
       "      <td>0.000000e+00</td>\n",
       "      <td>-4.440892e-16</td>\n",
       "      <td>-2.220446e-16</td>\n",
       "      <td>0.000000e+00</td>\n",
       "      <td>-3.330669e-16</td>\n",
       "      <td>-2.220446e-16</td>\n",
       "      <td>-4.440892e-16</td>\n",
       "      <td>-7.771561e-16</td>\n",
       "      <td>-4.440892e-16</td>\n",
       "      <td>-3.330669e-16</td>\n",
       "      <td>0.000000e+00</td>\n",
       "    </tr>\n",
       "    <tr>\n",
       "      <th>4</th>\n",
       "      <td>-5.551115e-16</td>\n",
       "      <td>-9.992007e-16</td>\n",
       "      <td>-4.440892e-16</td>\n",
       "      <td>-7.771561e-16</td>\n",
       "      <td>-4.440892e-16</td>\n",
       "      <td>-9.992007e-16</td>\n",
       "      <td>-7.771561e-16</td>\n",
       "      <td>-5.551115e-16</td>\n",
       "      <td>-5.551115e-16</td>\n",
       "      <td>-7.771561e-16</td>\n",
       "      <td>-8.881784e-16</td>\n",
       "      <td>-7.771561e-16</td>\n",
       "      <td>-5.551115e-16</td>\n",
       "      <td>-6.661338e-16</td>\n",
       "      <td>-4.440892e-16</td>\n",
       "    </tr>\n",
       "    <tr>\n",
       "      <th>...</th>\n",
       "      <td>...</td>\n",
       "      <td>...</td>\n",
       "      <td>...</td>\n",
       "      <td>...</td>\n",
       "      <td>...</td>\n",
       "      <td>...</td>\n",
       "      <td>...</td>\n",
       "      <td>...</td>\n",
       "      <td>...</td>\n",
       "      <td>...</td>\n",
       "      <td>...</td>\n",
       "      <td>...</td>\n",
       "      <td>...</td>\n",
       "      <td>...</td>\n",
       "      <td>...</td>\n",
       "    </tr>\n",
       "    <tr>\n",
       "      <th>95</th>\n",
       "      <td>-inf</td>\n",
       "      <td>-inf</td>\n",
       "      <td>-inf</td>\n",
       "      <td>-inf</td>\n",
       "      <td>-inf</td>\n",
       "      <td>-inf</td>\n",
       "      <td>-inf</td>\n",
       "      <td>-inf</td>\n",
       "      <td>-inf</td>\n",
       "      <td>-inf</td>\n",
       "      <td>-inf</td>\n",
       "      <td>-inf</td>\n",
       "      <td>-inf</td>\n",
       "      <td>-inf</td>\n",
       "      <td>-inf</td>\n",
       "    </tr>\n",
       "    <tr>\n",
       "      <th>96</th>\n",
       "      <td>-inf</td>\n",
       "      <td>-inf</td>\n",
       "      <td>-inf</td>\n",
       "      <td>-inf</td>\n",
       "      <td>-inf</td>\n",
       "      <td>-inf</td>\n",
       "      <td>-inf</td>\n",
       "      <td>-inf</td>\n",
       "      <td>-inf</td>\n",
       "      <td>-inf</td>\n",
       "      <td>-inf</td>\n",
       "      <td>-inf</td>\n",
       "      <td>-inf</td>\n",
       "      <td>-inf</td>\n",
       "      <td>-inf</td>\n",
       "    </tr>\n",
       "    <tr>\n",
       "      <th>97</th>\n",
       "      <td>-inf</td>\n",
       "      <td>-inf</td>\n",
       "      <td>-inf</td>\n",
       "      <td>-inf</td>\n",
       "      <td>-inf</td>\n",
       "      <td>-inf</td>\n",
       "      <td>-inf</td>\n",
       "      <td>-inf</td>\n",
       "      <td>-inf</td>\n",
       "      <td>-inf</td>\n",
       "      <td>-inf</td>\n",
       "      <td>-inf</td>\n",
       "      <td>-inf</td>\n",
       "      <td>-inf</td>\n",
       "      <td>-inf</td>\n",
       "    </tr>\n",
       "    <tr>\n",
       "      <th>98</th>\n",
       "      <td>-inf</td>\n",
       "      <td>-inf</td>\n",
       "      <td>-inf</td>\n",
       "      <td>-inf</td>\n",
       "      <td>-inf</td>\n",
       "      <td>-inf</td>\n",
       "      <td>-inf</td>\n",
       "      <td>-inf</td>\n",
       "      <td>-inf</td>\n",
       "      <td>-inf</td>\n",
       "      <td>-inf</td>\n",
       "      <td>-inf</td>\n",
       "      <td>-inf</td>\n",
       "      <td>-inf</td>\n",
       "      <td>-inf</td>\n",
       "    </tr>\n",
       "    <tr>\n",
       "      <th>99</th>\n",
       "      <td>-inf</td>\n",
       "      <td>-inf</td>\n",
       "      <td>-inf</td>\n",
       "      <td>-inf</td>\n",
       "      <td>-inf</td>\n",
       "      <td>-inf</td>\n",
       "      <td>-inf</td>\n",
       "      <td>-inf</td>\n",
       "      <td>-inf</td>\n",
       "      <td>-inf</td>\n",
       "      <td>-inf</td>\n",
       "      <td>-inf</td>\n",
       "      <td>-inf</td>\n",
       "      <td>-inf</td>\n",
       "      <td>-inf</td>\n",
       "    </tr>\n",
       "  </tbody>\n",
       "</table>\n",
       "<p>100 rows × 15 columns</p>\n",
       "</div>"
      ],
      "text/plain": [
       "            TrRi          RiTr           Plu          Ttra          Ttrb  \\\n",
       "0   0.000000e+00 -2.220446e-16  0.000000e+00  0.000000e+00  1.110223e-16   \n",
       "1   1.110223e-16 -2.220446e-16  2.220446e-16 -1.110223e-16  1.110223e-16   \n",
       "2  -3.330669e-16 -2.220446e-16 -2.220446e-16 -1.110223e-16  4.440892e-16   \n",
       "3  -2.220446e-16 -7.771561e-16 -4.440892e-16 -3.330669e-16  0.000000e+00   \n",
       "4  -5.551115e-16 -9.992007e-16 -4.440892e-16 -7.771561e-16 -4.440892e-16   \n",
       "..           ...           ...           ...           ...           ...   \n",
       "95          -inf          -inf          -inf          -inf          -inf   \n",
       "96          -inf          -inf          -inf          -inf          -inf   \n",
       "97          -inf          -inf          -inf          -inf          -inf   \n",
       "98          -inf          -inf          -inf          -inf          -inf   \n",
       "99          -inf          -inf          -inf          -inf          -inf   \n",
       "\n",
       "              Tr          MeTr          MoTr          RiRi          MoFo  \\\n",
       "0  -4.440892e-16 -1.110223e-16  1.110223e-16  0.000000e+00  0.000000e+00   \n",
       "1  -2.220446e-16 -2.220446e-16  1.110223e-16  0.000000e+00  0.000000e+00   \n",
       "2  -2.220446e-16 -4.440892e-16  0.000000e+00  0.000000e+00  0.000000e+00   \n",
       "3  -4.440892e-16 -2.220446e-16  0.000000e+00 -3.330669e-16 -2.220446e-16   \n",
       "4  -9.992007e-16 -7.771561e-16 -5.551115e-16 -5.551115e-16 -7.771561e-16   \n",
       "..           ...           ...           ...           ...           ...   \n",
       "95          -inf          -inf          -inf          -inf          -inf   \n",
       "96          -inf          -inf          -inf          -inf          -inf   \n",
       "97          -inf          -inf          -inf          -inf          -inf   \n",
       "98          -inf          -inf          -inf          -inf          -inf   \n",
       "99          -inf          -inf          -inf          -inf          -inf   \n",
       "\n",
       "            Mmof          MoRi          MeRi            Ri          Comp  \n",
       "0  -4.440892e-16 -4.440892e-16  1.110223e-16  2.220446e-16 -1.110223e-16  \n",
       "1  -4.440892e-16 -2.220446e-16  3.330669e-16 -1.110223e-16 -3.330669e-16  \n",
       "2  -2.220446e-16 -3.330669e-16  0.000000e+00  1.110223e-16 -2.220446e-16  \n",
       "3  -4.440892e-16 -7.771561e-16 -4.440892e-16 -3.330669e-16  0.000000e+00  \n",
       "4  -8.881784e-16 -7.771561e-16 -5.551115e-16 -6.661338e-16 -4.440892e-16  \n",
       "..           ...           ...           ...           ...           ...  \n",
       "95          -inf          -inf          -inf          -inf          -inf  \n",
       "96          -inf          -inf          -inf          -inf          -inf  \n",
       "97          -inf          -inf          -inf          -inf          -inf  \n",
       "98          -inf          -inf          -inf          -inf          -inf  \n",
       "99          -inf          -inf          -inf          -inf          -inf  \n",
       "\n",
       "[100 rows x 15 columns]"
      ]
     },
     "execution_count": 179,
     "metadata": {},
     "output_type": "execute_result"
    }
   ],
   "source": [
    "df_evolve_dict[\"soggetto_8\"]"
   ]
  },
  {
   "cell_type": "code",
   "execution_count": 180,
   "metadata": {},
   "outputs": [
    {
     "data": {
      "application/vnd.plotly.v1+json": {
       "config": {
        "plotlyServerURL": "https://plot.ly"
       },
       "data": [
        {
         "hovertemplate": "variable=TrRi<br>index=%{x}<br>value=%{y}<extra></extra>",
         "legendgroup": "TrRi",
         "line": {
          "color": "#636efa",
          "dash": "solid"
         },
         "marker": {
          "symbol": "circle"
         },
         "mode": "lines",
         "name": "TrRi",
         "showlegend": true,
         "type": "scattergl",
         "x": [
          0,
          1,
          2,
          3,
          4,
          5,
          6,
          7,
          8,
          9,
          10,
          11,
          12,
          13,
          14,
          15,
          16,
          17,
          18,
          19,
          20,
          21,
          22,
          23,
          24,
          25,
          26,
          27,
          28,
          29,
          30,
          31,
          32,
          33,
          34,
          35,
          36,
          37,
          38,
          39,
          40,
          41,
          42,
          43,
          44,
          45,
          46,
          47,
          48,
          49,
          50,
          51,
          52,
          53,
          54,
          55,
          56,
          57,
          58,
          59,
          60,
          61,
          62,
          63,
          64,
          65,
          66,
          67,
          68,
          69,
          70,
          71,
          72,
          73,
          74,
          75,
          76,
          77,
          78,
          79,
          80,
          81,
          82,
          83,
          84,
          85,
          86,
          87,
          88,
          89,
          90,
          91,
          92,
          93,
          94,
          95,
          96,
          97,
          98,
          99
         ],
         "xaxis": "x",
         "y": [
          0,
          0,
          4.440892098500626e-16,
          2.220446049250313e-16,
          5.551115123125783e-16,
          1.4432899320127035e-15,
          2.3314683517128287e-15,
          4.773959005888173e-15,
          1.0103029524088925e-14,
          2.0317081350640365e-14,
          4.030109579389318e-14,
          8.071321389024888e-14,
          1.6187051699034782e-13,
          3.232969447708456e-13,
          6.468159341466162e-13,
          1.2938539128981574e-12,
          2.5870416919815398e-12,
          5.173972361660617e-12,
          1.0347944723321234e-11,
          2.0695667402037543e-11,
          4.1391778893284936e-11,
          8.278333574196495e-11,
          1.6556656046162743e-10,
          3.311327878563475e-10,
          6.622657977572999e-10,
          1.3245315955145998e-9,
          2.649062857962292e-9,
          5.298125715924584e-9,
          1.0596251431849169e-8,
          2.1192502419609127e-8,
          4.238500450615135e-8,
          8.477000645878974e-8,
          1.6954000303659456e-7,
          3.3907996699333864e-7,
          6.781597780003423e-7,
          0.000001356318930278988,
          0.0000027126353585593677,
          0.000005425260709568391,
          0.000010850481390378697,
          0.00002170080266483687,
          0.000043400964876649795,
          0.00008679936800770616,
          0.00017358848956705586,
          0.0003471359976261468,
          0.0006941081034738117,
          0.001387560913769792,
          0.002772502844736846,
          0.005534547252355915,
          0.011027400307202617,
          0.02188913383517299,
          0.043124379289217085,
          0.08370184478809883,
          0.15774068324937085,
          0.280664167520848,
          0.44775816982059546,
          0.587440966687544,
          0.5644506853245586,
          0.35795935306691673,
          0.12900495327166117,
          0.016642659036376586,
          0.00027697809987369513,
          7.671686780964262e-8,
          5.88547780652218e-15,
          3.4638849011065134e-29,
          1.1998498608113678e-57,
          1.4396396884890592e-114,
          2.072562432672875e-228,
          0,
          0,
          0,
          0,
          0,
          0,
          0,
          0,
          0,
          0,
          0,
          0,
          0,
          0,
          0,
          0,
          0,
          0,
          0,
          0,
          0,
          0,
          0,
          0,
          0,
          0,
          0,
          0,
          0,
          0,
          0,
          0,
          0
         ],
         "yaxis": "y"
        },
        {
         "hovertemplate": "variable=RiTr<br>index=%{x}<br>value=%{y}<extra></extra>",
         "legendgroup": "RiTr",
         "line": {
          "color": "#EF553B",
          "dash": "solid"
         },
         "marker": {
          "symbol": "circle"
         },
         "mode": "lines",
         "name": "RiTr",
         "showlegend": true,
         "type": "scattergl",
         "x": [
          0,
          1,
          2,
          3,
          4,
          5,
          6,
          7,
          8,
          9,
          10,
          11,
          12,
          13,
          14,
          15,
          16,
          17,
          18,
          19,
          20,
          21,
          22,
          23,
          24,
          25,
          26,
          27,
          28,
          29,
          30,
          31,
          32,
          33,
          34,
          35,
          36,
          37,
          38,
          39,
          40,
          41,
          42,
          43,
          44,
          45,
          46,
          47,
          48,
          49,
          50,
          51,
          52,
          53,
          54,
          55,
          56,
          57,
          58,
          59,
          60,
          61,
          62,
          63,
          64,
          65,
          66,
          67,
          68,
          69,
          70,
          71,
          72,
          73,
          74,
          75,
          76,
          77,
          78,
          79,
          80,
          81,
          82,
          83,
          84,
          85,
          86,
          87,
          88,
          89,
          90,
          91,
          92,
          93,
          94,
          95,
          96,
          97,
          98,
          99
         ],
         "xaxis": "x",
         "y": [
          0,
          -1.1102230246251565e-16,
          1.1102230246251565e-16,
          3.3306690738754696e-16,
          4.440892098500626e-16,
          1.3322676295501878e-15,
          2.220446049250313e-15,
          4.773959005888173e-15,
          9.880984919163893e-15,
          2.0095036745715333e-14,
          4.0190073491430667e-14,
          8.071321389024888e-14,
          1.6187051699034782e-13,
          3.232969447708456e-13,
          6.468159341466162e-13,
          1.2938539128981574e-12,
          2.5870416919815398e-12,
          5.173972361660617e-12,
          1.0347944723321234e-11,
          2.0695667402037543e-11,
          4.1391778893284936e-11,
          8.278333574196495e-11,
          1.6556656046162743e-10,
          3.311327878563475e-10,
          6.622657977572999e-10,
          1.3245315955145998e-9,
          2.649062857962292e-9,
          5.298125715924584e-9,
          1.0596251431849169e-8,
          2.1192502419609127e-8,
          4.238500450615135e-8,
          8.477000645878974e-8,
          1.6954000303659456e-7,
          3.3907996699333864e-7,
          6.781597780003423e-7,
          0.000001356318930278988,
          0.0000027126353585593677,
          0.000005425260709568391,
          0.000010850481390378697,
          0.00002170080266483687,
          0.000043400964876649795,
          0.00008679936800770616,
          0.00017358848956705586,
          0.0003471359976261468,
          0.0006941081034738117,
          0.001387560913769792,
          0.002772502844736846,
          0.005534547252355915,
          0.011027400307202617,
          0.02188913383517299,
          0.043124379289217085,
          0.08370184478809883,
          0.15774068324937085,
          0.280664167520848,
          0.44775816982059546,
          0.587440966687544,
          0.5644506853245586,
          0.35795935306691673,
          0.12900495327166117,
          0.016642659036376586,
          0.00027697809987369513,
          7.671686780964262e-8,
          5.88547780652218e-15,
          3.4638849011065134e-29,
          1.1998498608113678e-57,
          1.4396396884890592e-114,
          2.072562432672875e-228,
          0,
          0,
          0,
          0,
          0,
          0,
          0,
          0,
          0,
          0,
          0,
          0,
          0,
          0,
          0,
          0,
          0,
          0,
          0,
          0,
          0,
          0,
          0,
          0,
          0,
          0,
          0,
          0,
          0,
          0,
          0,
          0,
          0
         ],
         "yaxis": "y"
        },
        {
         "hovertemplate": "variable=Plu<br>index=%{x}<br>value=%{y}<extra></extra>",
         "legendgroup": "Plu",
         "line": {
          "color": "#00cc96",
          "dash": "solid"
         },
         "marker": {
          "symbol": "circle"
         },
         "mode": "lines",
         "name": "Plu",
         "showlegend": true,
         "type": "scattergl",
         "x": [
          0,
          1,
          2,
          3,
          4,
          5,
          6,
          7,
          8,
          9,
          10,
          11,
          12,
          13,
          14,
          15,
          16,
          17,
          18,
          19,
          20,
          21,
          22,
          23,
          24,
          25,
          26,
          27,
          28,
          29,
          30,
          31,
          32,
          33,
          34,
          35,
          36,
          37,
          38,
          39,
          40,
          41,
          42,
          43,
          44,
          45,
          46,
          47,
          48,
          49,
          50,
          51,
          52,
          53,
          54,
          55,
          56,
          57,
          58,
          59,
          60,
          61,
          62,
          63,
          64,
          65,
          66,
          67,
          68,
          69,
          70,
          71,
          72,
          73,
          74,
          75,
          76,
          77,
          78,
          79,
          80,
          81,
          82,
          83,
          84,
          85,
          86,
          87,
          88,
          89,
          90,
          91,
          92,
          93,
          94,
          95,
          96,
          97,
          98,
          99
         ],
         "xaxis": "x",
         "y": [
          0,
          -2.220446049250313e-16,
          0,
          1.1102230246251565e-16,
          3.3306690738754696e-16,
          1.1102230246251565e-15,
          2.55351295663786e-15,
          4.773959005888173e-15,
          9.880984919163893e-15,
          2.0095036745715333e-14,
          4.007905118896815e-14,
          8.08242361927114e-14,
          1.616484723854228e-13,
          3.234079670733081e-13,
          6.465938895416912e-13,
          1.2936318682932324e-12,
          2.5870416919815398e-12,
          5.1738613393581545e-12,
          1.0347833701018772e-11,
          2.0695667402037543e-11,
          4.1391667870982474e-11,
          8.278322471966248e-11,
          1.655663384170225e-10,
          3.311327878563475e-10,
          6.622656867349974e-10,
          1.3245313734699948e-9,
          2.6490627469399897e-9,
          5.298125715924584e-9,
          1.0596251431849169e-8,
          2.1192502419609127e-8,
          4.238500450615135e-8,
          8.477000645878974e-8,
          1.6954000292557225e-7,
          3.3907996699333864e-7,
          6.781597780003423e-7,
          0.000001356318930278988,
          0.0000027126353584483454,
          0.000005425260709457369,
          0.000010850481390267674,
          0.00002170080266483687,
          0.000043400964876649795,
          0.00008679936800748411,
          0.00017358848956705586,
          0.0003471359976261468,
          0.0006941081034738117,
          0.001387560913769681,
          0.002772502844736735,
          0.005534547252355915,
          0.011027400307202506,
          0.02188913383517288,
          0.043124379289217085,
          0.08370184478809883,
          0.15774068324937063,
          0.280664167520848,
          0.44775816982059535,
          0.587440966687544,
          0.5644506853245586,
          0.35795935306691673,
          0.12900495327166117,
          0.016642659036376586,
          0.00027697809987369513,
          7.671686780964262e-8,
          5.88547780652218e-15,
          3.4638849011065134e-29,
          1.1998498608113678e-57,
          1.4396396884890592e-114,
          2.072562432672875e-228,
          0,
          0,
          0,
          0,
          0,
          0,
          0,
          0,
          0,
          0,
          0,
          0,
          0,
          0,
          0,
          0,
          0,
          0,
          0,
          0,
          0,
          0,
          0,
          0,
          0,
          0,
          0,
          0,
          0,
          0,
          0,
          0,
          0
         ],
         "yaxis": "y"
        },
        {
         "hovertemplate": "variable=Ttra<br>index=%{x}<br>value=%{y}<extra></extra>",
         "legendgroup": "Ttra",
         "line": {
          "color": "#ab63fa",
          "dash": "solid"
         },
         "marker": {
          "symbol": "circle"
         },
         "mode": "lines",
         "name": "Ttra",
         "showlegend": true,
         "type": "scattergl",
         "x": [
          0,
          1,
          2,
          3,
          4,
          5,
          6,
          7,
          8,
          9,
          10,
          11,
          12,
          13,
          14,
          15,
          16,
          17,
          18,
          19,
          20,
          21,
          22,
          23,
          24,
          25,
          26,
          27,
          28,
          29,
          30,
          31,
          32,
          33,
          34,
          35,
          36,
          37,
          38,
          39,
          40,
          41,
          42,
          43,
          44,
          45,
          46,
          47,
          48,
          49,
          50,
          51,
          52,
          53,
          54,
          55,
          56,
          57,
          58,
          59,
          60,
          61,
          62,
          63,
          64,
          65,
          66,
          67,
          68,
          69,
          70,
          71,
          72,
          73,
          74,
          75,
          76,
          77,
          78,
          79,
          80,
          81,
          82,
          83,
          84,
          85,
          86,
          87,
          88,
          89,
          90,
          91,
          92,
          93,
          94,
          95,
          96,
          97,
          98,
          99
         ],
         "xaxis": "x",
         "y": [
          3.3306690738754696e-16,
          3.3306690738754696e-16,
          2.220446049250313e-16,
          4.440892098500626e-16,
          8.881784197001252e-16,
          1.4432899320127035e-15,
          2.886579864025407e-15,
          5.10702591327572e-15,
          1.0325074129013956e-14,
          2.0539125955565396e-14,
          4.0745185003743245e-14,
          8.137934770502397e-14,
          1.6198153929281034e-13,
          3.2374103398069565e-13,
          6.468159341466162e-13,
          1.2938539128981574e-12,
          2.587263736586465e-12,
          5.1740833839630795e-12,
          1.0347944723321234e-11,
          2.0695889446642468e-11,
          4.1391778893284936e-11,
          8.278355778656987e-11,
          1.655666714839299e-10,
          3.311330099009524e-10,
          6.622657977572999e-10,
          1.3245317065369022e-9,
          2.6490631910291995e-9,
          5.298125937969189e-9,
          1.0596251653893773e-8,
          2.1192502752676035e-8,
          4.238500472819595e-8,
          8.477000668083434e-8,
          1.6954000325863916e-7,
          3.3907996710436095e-7,
          6.781597780003423e-7,
          0.000001356318930278988,
          0.0000027126353585593677,
          0.000005425260709568391,
          0.000010850481390378697,
          0.000021700802665058916,
          0.00004340096487676082,
          0.00008679936800770616,
          0.00017358848956705586,
          0.0003471359976261468,
          0.0006941081034738117,
          0.001387560913769792,
          0.002772502844736957,
          0.005534547252356026,
          0.011027400307202728,
          0.02188913383517299,
          0.043124379289217085,
          0.08370184478809894,
          0.15774068324937096,
          0.2806641675208482,
          0.4477581698205956,
          0.587440966687544,
          0.5644506853245586,
          0.35795935306691673,
          0.12900495327166117,
          0.016642659036376586,
          0.00027697809987369513,
          7.671686780964262e-8,
          5.88547780652218e-15,
          3.4638849011065134e-29,
          1.1998498608113678e-57,
          1.4396396884890592e-114,
          2.072562432672875e-228,
          0,
          0,
          0,
          0,
          0,
          0,
          0,
          0,
          0,
          0,
          0,
          0,
          0,
          0,
          0,
          0,
          0,
          0,
          0,
          0,
          0,
          0,
          0,
          0,
          0,
          0,
          0,
          0,
          0,
          0,
          0,
          0,
          0
         ],
         "yaxis": "y"
        },
        {
         "hovertemplate": "variable=Ttrb<br>index=%{x}<br>value=%{y}<extra></extra>",
         "legendgroup": "Ttrb",
         "line": {
          "color": "#FFA15A",
          "dash": "solid"
         },
         "marker": {
          "symbol": "circle"
         },
         "mode": "lines",
         "name": "Ttrb",
         "showlegend": true,
         "type": "scattergl",
         "x": [
          0,
          1,
          2,
          3,
          4,
          5,
          6,
          7,
          8,
          9,
          10,
          11,
          12,
          13,
          14,
          15,
          16,
          17,
          18,
          19,
          20,
          21,
          22,
          23,
          24,
          25,
          26,
          27,
          28,
          29,
          30,
          31,
          32,
          33,
          34,
          35,
          36,
          37,
          38,
          39,
          40,
          41,
          42,
          43,
          44,
          45,
          46,
          47,
          48,
          49,
          50,
          51,
          52,
          53,
          54,
          55,
          56,
          57,
          58,
          59,
          60,
          61,
          62,
          63,
          64,
          65,
          66,
          67,
          68,
          69,
          70,
          71,
          72,
          73,
          74,
          75,
          76,
          77,
          78,
          79,
          80,
          81,
          82,
          83,
          84,
          85,
          86,
          87,
          88,
          89,
          90,
          91,
          92,
          93,
          94,
          95,
          96,
          97,
          98,
          99
         ],
         "xaxis": "x",
         "y": [
          3.3306690738754696e-16,
          0,
          0,
          3.3306690738754696e-16,
          6.661338147750939e-16,
          1.1102230246251565e-15,
          2.4424906541753444e-15,
          4.884981308350689e-15,
          1.0103029524088925e-14,
          2.020605904817785e-14,
          4.04121180963557e-14,
          8.093525849517391e-14,
          1.6187051699034782e-13,
          3.234079670733081e-13,
          6.468159341466162e-13,
          1.2938539128981574e-12,
          2.5870416919815398e-12,
          5.173972361660617e-12,
          1.0347944723321234e-11,
          2.0695667402037543e-11,
          4.1391778893284936e-11,
          8.278333574196495e-11,
          1.6556656046162743e-10,
          3.311327878563475e-10,
          6.622657977572999e-10,
          1.3245315955145998e-9,
          2.649062857962292e-9,
          5.298125715924584e-9,
          1.0596251431849169e-8,
          2.1192502419609127e-8,
          4.238500450615135e-8,
          8.477000645878974e-8,
          1.6954000303659456e-7,
          3.3907996699333864e-7,
          6.781597780003423e-7,
          0.000001356318930278988,
          0.0000027126353585593677,
          0.000005425260709568391,
          0.000010850481390378697,
          0.00002170080266483687,
          0.000043400964876649795,
          0.00008679936800770616,
          0.00017358848956705586,
          0.0003471359976261468,
          0.0006941081034738117,
          0.001387560913769792,
          0.002772502844736846,
          0.005534547252355915,
          0.011027400307202617,
          0.02188913383517299,
          0.043124379289217085,
          0.08370184478809883,
          0.15774068324937085,
          0.280664167520848,
          0.44775816982059546,
          0.587440966687544,
          0.5644506853245586,
          0.35795935306691673,
          0.12900495327166117,
          0.016642659036376586,
          0.00027697809987369513,
          7.671686780964262e-8,
          5.88547780652218e-15,
          3.4638849011065134e-29,
          1.1998498608113678e-57,
          1.4396396884890592e-114,
          2.072562432672875e-228,
          0,
          0,
          0,
          0,
          0,
          0,
          0,
          0,
          0,
          0,
          0,
          0,
          0,
          0,
          0,
          0,
          0,
          0,
          0,
          0,
          0,
          0,
          0,
          0,
          0,
          0,
          0,
          0,
          0,
          0,
          0,
          0,
          0
         ],
         "yaxis": "y"
        },
        {
         "hovertemplate": "variable=Tr<br>index=%{x}<br>value=%{y}<extra></extra>",
         "legendgroup": "Tr",
         "line": {
          "color": "#19d3f3",
          "dash": "solid"
         },
         "marker": {
          "symbol": "circle"
         },
         "mode": "lines",
         "name": "Tr",
         "showlegend": true,
         "type": "scattergl",
         "x": [
          0,
          1,
          2,
          3,
          4,
          5,
          6,
          7,
          8,
          9,
          10,
          11,
          12,
          13,
          14,
          15,
          16,
          17,
          18,
          19,
          20,
          21,
          22,
          23,
          24,
          25,
          26,
          27,
          28,
          29,
          30,
          31,
          32,
          33,
          34,
          35,
          36,
          37,
          38,
          39,
          40,
          41,
          42,
          43,
          44,
          45,
          46,
          47,
          48,
          49,
          50,
          51,
          52,
          53,
          54,
          55,
          56,
          57,
          58,
          59,
          60,
          61,
          62,
          63,
          64,
          65,
          66,
          67,
          68,
          69,
          70,
          71,
          72,
          73,
          74,
          75,
          76,
          77,
          78,
          79,
          80,
          81,
          82,
          83,
          84,
          85,
          86,
          87,
          88,
          89,
          90,
          91,
          92,
          93,
          94,
          95,
          96,
          97,
          98,
          99
         ],
         "xaxis": "x",
         "y": [
          0,
          -1.1102230246251565e-16,
          0,
          1.1102230246251565e-16,
          5.551115123125783e-16,
          1.3322676295501878e-15,
          2.220446049250313e-15,
          4.773959005888173e-15,
          1.0103029524088925e-14,
          2.0317081350640365e-14,
          4.0190073491430667e-14,
          8.049116928532385e-14,
          1.6142642778049776e-13,
          3.232969447708456e-13,
          6.468159341466162e-13,
          1.2934098236883074e-12,
          2.586486580469227e-12,
          5.173750317055692e-12,
          1.0347833701018772e-11,
          2.0695667402037543e-11,
          4.1391778893284936e-11,
          8.278322471966248e-11,
          1.655663384170225e-10,
          3.311327878563475e-10,
          6.622657977572999e-10,
          1.3245314844922973e-9,
          2.649062857962292e-9,
          5.298125382857677e-9,
          1.0596251098782261e-8,
          2.119250208654222e-8,
          4.238500417308444e-8,
          8.477000601470053e-8,
          1.6954000281454995e-7,
          3.3907996666027174e-7,
          6.781597775562531e-7,
          0.0000013563189301679657,
          0.0000027126353582263008,
          0.0000054252607092353244,
          0.000010850481390156652,
          0.000021700802664392782,
          0.00004340096487631673,
          0.00008679936800737309,
          0.00017358848956661177,
          0.0003471359976257027,
          0.0006941081034732566,
          0.0013875609137692368,
          0.002772502844736402,
          0.00553454725235536,
          0.011027400307202062,
          0.021889133835172547,
          0.043124379289216086,
          0.08370184478809817,
          0.1577406832493704,
          0.28066416752084755,
          0.447758169820595,
          0.5874409666875434,
          0.5644506853245583,
          0.3579593530669166,
          0.12900495327166112,
          0.016642659036376583,
          0.0002769780998736951,
          7.67168678096426e-8,
          5.885477806522178e-15,
          3.463884901106512e-29,
          1.1998498608113677e-57,
          1.4396396884890589e-114,
          2.0725624326728745e-228,
          0,
          0,
          0,
          0,
          0,
          0,
          0,
          0,
          0,
          0,
          0,
          0,
          0,
          0,
          0,
          0,
          0,
          0,
          0,
          0,
          0,
          0,
          0,
          0,
          0,
          0,
          0,
          0,
          0,
          0,
          0,
          0,
          0
         ],
         "yaxis": "y"
        },
        {
         "hovertemplate": "variable=MeTr<br>index=%{x}<br>value=%{y}<extra></extra>",
         "legendgroup": "MeTr",
         "line": {
          "color": "#FF6692",
          "dash": "solid"
         },
         "marker": {
          "symbol": "circle"
         },
         "mode": "lines",
         "name": "MeTr",
         "showlegend": true,
         "type": "scattergl",
         "x": [
          0,
          1,
          2,
          3,
          4,
          5,
          6,
          7,
          8,
          9,
          10,
          11,
          12,
          13,
          14,
          15,
          16,
          17,
          18,
          19,
          20,
          21,
          22,
          23,
          24,
          25,
          26,
          27,
          28,
          29,
          30,
          31,
          32,
          33,
          34,
          35,
          36,
          37,
          38,
          39,
          40,
          41,
          42,
          43,
          44,
          45,
          46,
          47,
          48,
          49,
          50,
          51,
          52,
          53,
          54,
          55,
          56,
          57,
          58,
          59,
          60,
          61,
          62,
          63,
          64,
          65,
          66,
          67,
          68,
          69,
          70,
          71,
          72,
          73,
          74,
          75,
          76,
          77,
          78,
          79,
          80,
          81,
          82,
          83,
          84,
          85,
          86,
          87,
          88,
          89,
          90,
          91,
          92,
          93,
          94,
          95,
          96,
          97,
          98,
          99
         ],
         "xaxis": "x",
         "y": [
          0,
          -3.3306690738754696e-16,
          -1.1102230246251565e-16,
          -3.3306690738754696e-16,
          3.3306690738754696e-16,
          1.1102230246251565e-15,
          2.220446049250313e-15,
          4.773959005888173e-15,
          9.880984919163893e-15,
          2.0095036745715333e-14,
          4.007905118896815e-14,
          8.060219158778636e-14,
          1.6153745008296028e-13,
          3.232969447708456e-13,
          6.468159341466162e-13,
          1.2936318682932324e-12,
          2.5867086250741522e-12,
          5.1738613393581545e-12,
          1.0347833701018772e-11,
          2.0695667402037543e-11,
          4.1391778893284936e-11,
          8.278322471966248e-11,
          1.655663384170225e-10,
          3.311327878563475e-10,
          6.622657977572999e-10,
          1.3245314844922973e-9,
          2.649062857962292e-9,
          5.298125382857677e-9,
          1.0596251098782261e-8,
          2.119250208654222e-8,
          4.238500417308444e-8,
          8.477000601470053e-8,
          1.6954000281454995e-7,
          3.3907996666027174e-7,
          6.781597775562531e-7,
          0.0000013563189301679657,
          0.0000027126353582263008,
          0.0000054252607092353244,
          0.000010850481390156652,
          0.000021700802664392782,
          0.00004340096487631673,
          0.00008679936800737309,
          0.00017358848956661177,
          0.0003471359976257027,
          0.0006941081034732566,
          0.0013875609137692368,
          0.002772502844736402,
          0.00553454725235536,
          0.011027400307202062,
          0.021889133835172547,
          0.043124379289216086,
          0.08370184478809817,
          0.1577406832493704,
          0.28066416752084755,
          0.447758169820595,
          0.5874409666875434,
          0.5644506853245583,
          0.3579593530669166,
          0.12900495327166112,
          0.016642659036376583,
          0.0002769780998736951,
          7.67168678096426e-8,
          5.885477806522178e-15,
          3.463884901106512e-29,
          1.1998498608113677e-57,
          1.4396396884890589e-114,
          2.0725624326728745e-228,
          0,
          0,
          0,
          0,
          0,
          0,
          0,
          0,
          0,
          0,
          0,
          0,
          0,
          0,
          0,
          0,
          0,
          0,
          0,
          0,
          0,
          0,
          0,
          0,
          0,
          0,
          0,
          0,
          0,
          0,
          0,
          0,
          0
         ],
         "yaxis": "y"
        },
        {
         "hovertemplate": "variable=MoTr<br>index=%{x}<br>value=%{y}<extra></extra>",
         "legendgroup": "MoTr",
         "line": {
          "color": "#B6E880",
          "dash": "solid"
         },
         "marker": {
          "symbol": "circle"
         },
         "mode": "lines",
         "name": "MoTr",
         "showlegend": true,
         "type": "scattergl",
         "x": [
          0,
          1,
          2,
          3,
          4,
          5,
          6,
          7,
          8,
          9,
          10,
          11,
          12,
          13,
          14,
          15,
          16,
          17,
          18,
          19,
          20,
          21,
          22,
          23,
          24,
          25,
          26,
          27,
          28,
          29,
          30,
          31,
          32,
          33,
          34,
          35,
          36,
          37,
          38,
          39,
          40,
          41,
          42,
          43,
          44,
          45,
          46,
          47,
          48,
          49,
          50,
          51,
          52,
          53,
          54,
          55,
          56,
          57,
          58,
          59,
          60,
          61,
          62,
          63,
          64,
          65,
          66,
          67,
          68,
          69,
          70,
          71,
          72,
          73,
          74,
          75,
          76,
          77,
          78,
          79,
          80,
          81,
          82,
          83,
          84,
          85,
          86,
          87,
          88,
          89,
          90,
          91,
          92,
          93,
          94,
          95,
          96,
          97,
          98,
          99
         ],
         "xaxis": "x",
         "y": [
          4.440892098500626e-16,
          5.551115123125783e-16,
          1.1102230246251565e-16,
          3.3306690738754696e-16,
          6.661338147750939e-16,
          1.3322676295501878e-15,
          2.4424906541753444e-15,
          4.9960036108132044e-15,
          1.021405182655144e-14,
          2.0317081350640365e-14,
          4.04121180963557e-14,
          8.093525849517391e-14,
          1.6187051699034782e-13,
          3.232969447708456e-13,
          6.468159341466162e-13,
          1.2938539128981574e-12,
          2.5870416919815398e-12,
          5.173972361660617e-12,
          1.0347944723321234e-11,
          2.0695667402037543e-11,
          4.1391778893284936e-11,
          8.278333574196495e-11,
          1.6556656046162743e-10,
          3.311327878563475e-10,
          6.622657977572999e-10,
          1.3245315955145998e-9,
          2.649062857962292e-9,
          5.298125715924584e-9,
          1.0596251431849169e-8,
          2.1192502419609127e-8,
          4.238500450615135e-8,
          8.477000645878974e-8,
          1.6954000303659456e-7,
          3.3907996699333864e-7,
          6.781597780003423e-7,
          0.000001356318930278988,
          0.0000027126353585593677,
          0.000005425260709568391,
          0.000010850481390378697,
          0.00002170080266483687,
          0.000043400964876649795,
          0.00008679936800770616,
          0.00017358848956705586,
          0.0003471359976261468,
          0.0006941081034738117,
          0.001387560913769792,
          0.002772502844736846,
          0.005534547252355915,
          0.011027400307202617,
          0.02188913383517299,
          0.043124379289217085,
          0.08370184478809883,
          0.15774068324937085,
          0.280664167520848,
          0.44775816982059546,
          0.587440966687544,
          0.5644506853245586,
          0.35795935306691673,
          0.12900495327166117,
          0.016642659036376586,
          0.00027697809987369513,
          7.671686780964262e-8,
          5.88547780652218e-15,
          3.4638849011065134e-29,
          1.1998498608113678e-57,
          1.4396396884890592e-114,
          2.072562432672875e-228,
          0,
          0,
          0,
          0,
          0,
          0,
          0,
          0,
          0,
          0,
          0,
          0,
          0,
          0,
          0,
          0,
          0,
          0,
          0,
          0,
          0,
          0,
          0,
          0,
          0,
          0,
          0,
          0,
          0,
          0,
          0,
          0,
          0
         ],
         "yaxis": "y"
        },
        {
         "hovertemplate": "variable=RiRi<br>index=%{x}<br>value=%{y}<extra></extra>",
         "legendgroup": "RiRi",
         "line": {
          "color": "#FF97FF",
          "dash": "solid"
         },
         "marker": {
          "symbol": "circle"
         },
         "mode": "lines",
         "name": "RiRi",
         "showlegend": true,
         "type": "scattergl",
         "x": [
          0,
          1,
          2,
          3,
          4,
          5,
          6,
          7,
          8,
          9,
          10,
          11,
          12,
          13,
          14,
          15,
          16,
          17,
          18,
          19,
          20,
          21,
          22,
          23,
          24,
          25,
          26,
          27,
          28,
          29,
          30,
          31,
          32,
          33,
          34,
          35,
          36,
          37,
          38,
          39,
          40,
          41,
          42,
          43,
          44,
          45,
          46,
          47,
          48,
          49,
          50,
          51,
          52,
          53,
          54,
          55,
          56,
          57,
          58,
          59,
          60,
          61,
          62,
          63,
          64,
          65,
          66,
          67,
          68,
          69,
          70,
          71,
          72,
          73,
          74,
          75,
          76,
          77,
          78,
          79,
          80,
          81,
          82,
          83,
          84,
          85,
          86,
          87,
          88,
          89,
          90,
          91,
          92,
          93,
          94,
          95,
          96,
          97,
          98,
          99
         ],
         "xaxis": "x",
         "y": [
          0,
          -1.1102230246251565e-16,
          4.440892098500626e-16,
          3.3306690738754696e-16,
          7.771561172376096e-16,
          1.3322676295501878e-15,
          2.6645352591003757e-15,
          4.884981308350689e-15,
          1.021405182655144e-14,
          2.042810365310288e-14,
          4.04121180963557e-14,
          8.093525849517391e-14,
          1.6187051699034782e-13,
          3.235189893757706e-13,
          6.468159341466162e-13,
          1.2938539128981574e-12,
          2.5870416919815398e-12,
          5.173972361660617e-12,
          1.0347944723321234e-11,
          2.0695667402037543e-11,
          4.1391778893284936e-11,
          8.278333574196495e-11,
          1.6556656046162743e-10,
          3.311327878563475e-10,
          6.622657977572999e-10,
          1.3245315955145998e-9,
          2.649062857962292e-9,
          5.298125715924584e-9,
          1.0596251431849169e-8,
          2.1192502419609127e-8,
          4.238500450615135e-8,
          8.477000645878974e-8,
          1.6954000303659456e-7,
          3.3907996699333864e-7,
          6.781597780003423e-7,
          0.000001356318930278988,
          0.0000027126353585593677,
          0.000005425260709568391,
          0.000010850481390378697,
          0.00002170080266483687,
          0.000043400964876649795,
          0.00008679936800770616,
          0.00017358848956705586,
          0.0003471359976261468,
          0.0006941081034738117,
          0.001387560913769792,
          0.002772502844736846,
          0.005534547252355915,
          0.011027400307202617,
          0.02188913383517299,
          0.043124379289217085,
          0.08370184478809883,
          0.15774068324937085,
          0.280664167520848,
          0.44775816982059546,
          0.587440966687544,
          0.5644506853245586,
          0.35795935306691673,
          0.12900495327166117,
          0.016642659036376586,
          0.00027697809987369513,
          7.671686780964262e-8,
          5.88547780652218e-15,
          3.4638849011065134e-29,
          1.1998498608113678e-57,
          1.4396396884890592e-114,
          2.072562432672875e-228,
          0,
          0,
          0,
          0,
          0,
          0,
          0,
          0,
          0,
          0,
          0,
          0,
          0,
          0,
          0,
          0,
          0,
          0,
          0,
          0,
          0,
          0,
          0,
          0,
          0,
          0,
          0,
          0,
          0,
          0,
          0,
          0,
          0
         ],
         "yaxis": "y"
        },
        {
         "hovertemplate": "variable=MoFo<br>index=%{x}<br>value=%{y}<extra></extra>",
         "legendgroup": "MoFo",
         "line": {
          "color": "#FECB52",
          "dash": "solid"
         },
         "marker": {
          "symbol": "circle"
         },
         "mode": "lines",
         "name": "MoFo",
         "showlegend": true,
         "type": "scattergl",
         "x": [
          0,
          1,
          2,
          3,
          4,
          5,
          6,
          7,
          8,
          9,
          10,
          11,
          12,
          13,
          14,
          15,
          16,
          17,
          18,
          19,
          20,
          21,
          22,
          23,
          24,
          25,
          26,
          27,
          28,
          29,
          30,
          31,
          32,
          33,
          34,
          35,
          36,
          37,
          38,
          39,
          40,
          41,
          42,
          43,
          44,
          45,
          46,
          47,
          48,
          49,
          50,
          51,
          52,
          53,
          54,
          55,
          56,
          57,
          58,
          59,
          60,
          61,
          62,
          63,
          64,
          65,
          66,
          67,
          68,
          69,
          70,
          71,
          72,
          73,
          74,
          75,
          76,
          77,
          78,
          79,
          80,
          81,
          82,
          83,
          84,
          85,
          86,
          87,
          88,
          89,
          90,
          91,
          92,
          93,
          94,
          95,
          96,
          97,
          98,
          99
         ],
         "xaxis": "x",
         "y": [
          0,
          1.1102230246251565e-16,
          0,
          2.220446049250313e-16,
          7.771561172376096e-16,
          1.2212453270876722e-15,
          2.55351295663786e-15,
          4.884981308350689e-15,
          9.992007221626409e-15,
          2.0095036745715333e-14,
          4.030109579389318e-14,
          8.093525849517391e-14,
          1.616484723854228e-13,
          3.234079670733081e-13,
          6.468159341466162e-13,
          1.2938539128981574e-12,
          2.5870416919815398e-12,
          5.173972361660617e-12,
          1.0347944723321234e-11,
          2.0695667402037543e-11,
          4.1391778893284936e-11,
          8.278333574196495e-11,
          1.6556656046162743e-10,
          3.311327878563475e-10,
          6.622657977572999e-10,
          1.3245315955145998e-9,
          2.649062857962292e-9,
          5.298125715924584e-9,
          1.0596251431849169e-8,
          2.1192502419609127e-8,
          4.238500450615135e-8,
          8.477000645878974e-8,
          1.6954000303659456e-7,
          3.3907996699333864e-7,
          6.781597780003423e-7,
          0.000001356318930278988,
          0.0000027126353585593677,
          0.000005425260709568391,
          0.000010850481390378697,
          0.00002170080266483687,
          0.000043400964876649795,
          0.00008679936800770616,
          0.00017358848956705586,
          0.0003471359976261468,
          0.0006941081034738117,
          0.001387560913769792,
          0.002772502844736846,
          0.005534547252355915,
          0.011027400307202617,
          0.02188913383517299,
          0.043124379289217085,
          0.08370184478809883,
          0.15774068324937085,
          0.280664167520848,
          0.44775816982059546,
          0.587440966687544,
          0.5644506853245586,
          0.35795935306691673,
          0.12900495327166117,
          0.016642659036376586,
          0.00027697809987369513,
          7.671686780964262e-8,
          5.88547780652218e-15,
          3.4638849011065134e-29,
          1.1998498608113678e-57,
          1.4396396884890592e-114,
          2.072562432672875e-228,
          0,
          0,
          0,
          0,
          0,
          0,
          0,
          0,
          0,
          0,
          0,
          0,
          0,
          0,
          0,
          0,
          0,
          0,
          0,
          0,
          0,
          0,
          0,
          0,
          0,
          0,
          0,
          0,
          0,
          0,
          0,
          0,
          0
         ],
         "yaxis": "y"
        },
        {
         "hovertemplate": "variable=Mmof<br>index=%{x}<br>value=%{y}<extra></extra>",
         "legendgroup": "Mmof",
         "line": {
          "color": "#636efa",
          "dash": "solid"
         },
         "marker": {
          "symbol": "circle"
         },
         "mode": "lines",
         "name": "Mmof",
         "showlegend": true,
         "type": "scattergl",
         "x": [
          0,
          1,
          2,
          3,
          4,
          5,
          6,
          7,
          8,
          9,
          10,
          11,
          12,
          13,
          14,
          15,
          16,
          17,
          18,
          19,
          20,
          21,
          22,
          23,
          24,
          25,
          26,
          27,
          28,
          29,
          30,
          31,
          32,
          33,
          34,
          35,
          36,
          37,
          38,
          39,
          40,
          41,
          42,
          43,
          44,
          45,
          46,
          47,
          48,
          49,
          50,
          51,
          52,
          53,
          54,
          55,
          56,
          57,
          58,
          59,
          60,
          61,
          62,
          63,
          64,
          65,
          66,
          67,
          68,
          69,
          70,
          71,
          72,
          73,
          74,
          75,
          76,
          77,
          78,
          79,
          80,
          81,
          82,
          83,
          84,
          85,
          86,
          87,
          88,
          89,
          90,
          91,
          92,
          93,
          94,
          95,
          96,
          97,
          98,
          99
         ],
         "xaxis": "x",
         "y": [
          0,
          -2.220446049250313e-16,
          -1.1102230246251565e-16,
          0,
          5.551115123125783e-16,
          1.1102230246251565e-15,
          2.1094237467877974e-15,
          4.773959005888173e-15,
          9.769962616701378e-15,
          1.9872992140790302e-14,
          3.9968028886505635e-14,
          8.08242361927114e-14,
          1.6153745008296028e-13,
          3.2296387786345804e-13,
          6.465938895416912e-13,
          1.2931877790833823e-12,
          2.5870416919815398e-12,
          5.1738613393581545e-12,
          1.0347611656413847e-11,
          2.0695445357432618e-11,
          4.139155684868001e-11,
          8.278311369736002e-11,
          1.6556611637241758e-10,
          3.311324547894401e-10,
          6.62265575712695e-10,
          1.32453115142539e-9,
          2.649062635917687e-9,
          5.298125604902282e-9,
          1.0596250987759959e-8,
          2.119250208654222e-8,
          4.238500417308444e-8,
          8.477000623674513e-8,
          1.6954000270352765e-7,
          3.3907996654924943e-7,
          6.781597775562531e-7,
          0.0000013563189297238765,
          0.0000027126353582263008,
          0.000005425260709124302,
          0.000010850481389823585,
          0.000021700802664392782,
          0.00004340096487631673,
          0.00008679936800681798,
          0.00017358848956661177,
          0.0003471359976257027,
          0.0006941081034733676,
          0.0013875609137692368,
          0.002772502844736402,
          0.005534547252355249,
          0.01102740030720184,
          0.021889133835172547,
          0.04312437928921664,
          0.0837018447880985,
          0.1577406832493703,
          0.28066416752084755,
          0.4477581698205951,
          0.5874409666875439,
          0.5644506853245584,
          0.35795935306691673,
          0.12900495327166117,
          0.016642659036376586,
          0.00027697809987369513,
          7.671686780964262e-8,
          5.88547780652218e-15,
          3.4638849011065134e-29,
          1.1998498608113678e-57,
          1.4396396884890592e-114,
          2.072562432672875e-228,
          0,
          0,
          0,
          0,
          0,
          0,
          0,
          0,
          0,
          0,
          0,
          0,
          0,
          0,
          0,
          0,
          0,
          0,
          0,
          0,
          0,
          0,
          0,
          0,
          0,
          0,
          0,
          0,
          0,
          0,
          0,
          0,
          0
         ],
         "yaxis": "y"
        },
        {
         "hovertemplate": "variable=MoRi<br>index=%{x}<br>value=%{y}<extra></extra>",
         "legendgroup": "MoRi",
         "line": {
          "color": "#EF553B",
          "dash": "solid"
         },
         "marker": {
          "symbol": "circle"
         },
         "mode": "lines",
         "name": "MoRi",
         "showlegend": true,
         "type": "scattergl",
         "x": [
          0,
          1,
          2,
          3,
          4,
          5,
          6,
          7,
          8,
          9,
          10,
          11,
          12,
          13,
          14,
          15,
          16,
          17,
          18,
          19,
          20,
          21,
          22,
          23,
          24,
          25,
          26,
          27,
          28,
          29,
          30,
          31,
          32,
          33,
          34,
          35,
          36,
          37,
          38,
          39,
          40,
          41,
          42,
          43,
          44,
          45,
          46,
          47,
          48,
          49,
          50,
          51,
          52,
          53,
          54,
          55,
          56,
          57,
          58,
          59,
          60,
          61,
          62,
          63,
          64,
          65,
          66,
          67,
          68,
          69,
          70,
          71,
          72,
          73,
          74,
          75,
          76,
          77,
          78,
          79,
          80,
          81,
          82,
          83,
          84,
          85,
          86,
          87,
          88,
          89,
          90,
          91,
          92,
          93,
          94,
          95,
          96,
          97,
          98,
          99
         ],
         "xaxis": "x",
         "y": [
          0,
          2.220446049250313e-16,
          -1.1102230246251565e-16,
          6.661338147750939e-16,
          4.440892098500626e-16,
          1.5543122344752192e-15,
          2.6645352591003757e-15,
          5.10702591327572e-15,
          1.0325074129013956e-14,
          2.042810365310288e-14,
          4.063416270128073e-14,
          8.093525849517391e-14,
          1.6187051699034782e-13,
          3.235189893757706e-13,
          6.468159341466162e-13,
          1.2938539128981574e-12,
          2.5870416919815398e-12,
          5.174194406265542e-12,
          1.0348055745623697e-11,
          2.0695889446642468e-11,
          4.1391778893284936e-11,
          8.278333574196495e-11,
          1.6556656046162743e-10,
          3.3113289887864994e-10,
          6.622660198019048e-10,
          1.3245319285815071e-9,
          2.6490629689845946e-9,
          5.298125715924584e-9,
          1.0596251542871471e-8,
          2.119250253063143e-8,
          4.238500461717365e-8,
          8.477000656981204e-8,
          1.6954000325863916e-7,
          3.3907996699333864e-7,
          6.781597780003423e-7,
          0.0000013563189305010326,
          0.0000027126353585593677,
          0.000005425260709568391,
          0.000010850481390378697,
          0.00002170080266483687,
          0.000043400964876649795,
          0.00008679936800770616,
          0.00017358848956716688,
          0.0003471359976261468,
          0.0006941081034738117,
          0.001387560913769792,
          0.002772502844736846,
          0.005534547252355915,
          0.011027400307202617,
          0.02188913383517299,
          0.043124379289217085,
          0.08370184478809883,
          0.15774068324937085,
          0.280664167520848,
          0.44775816982059546,
          0.587440966687544,
          0.5644506853245586,
          0.35795935306691673,
          0.12900495327166117,
          0.016642659036376586,
          0.00027697809987369513,
          7.671686780964262e-8,
          5.88547780652218e-15,
          3.4638849011065134e-29,
          1.1998498608113678e-57,
          1.4396396884890592e-114,
          2.072562432672875e-228,
          0,
          0,
          0,
          0,
          0,
          0,
          0,
          0,
          0,
          0,
          0,
          0,
          0,
          0,
          0,
          0,
          0,
          0,
          0,
          0,
          0,
          0,
          0,
          0,
          0,
          0,
          0,
          0,
          0,
          0,
          0,
          0,
          0
         ],
         "yaxis": "y"
        },
        {
         "hovertemplate": "variable=MeRi<br>index=%{x}<br>value=%{y}<extra></extra>",
         "legendgroup": "MeRi",
         "line": {
          "color": "#00cc96",
          "dash": "solid"
         },
         "marker": {
          "symbol": "circle"
         },
         "mode": "lines",
         "name": "MeRi",
         "showlegend": true,
         "type": "scattergl",
         "x": [
          0,
          1,
          2,
          3,
          4,
          5,
          6,
          7,
          8,
          9,
          10,
          11,
          12,
          13,
          14,
          15,
          16,
          17,
          18,
          19,
          20,
          21,
          22,
          23,
          24,
          25,
          26,
          27,
          28,
          29,
          30,
          31,
          32,
          33,
          34,
          35,
          36,
          37,
          38,
          39,
          40,
          41,
          42,
          43,
          44,
          45,
          46,
          47,
          48,
          49,
          50,
          51,
          52,
          53,
          54,
          55,
          56,
          57,
          58,
          59,
          60,
          61,
          62,
          63,
          64,
          65,
          66,
          67,
          68,
          69,
          70,
          71,
          72,
          73,
          74,
          75,
          76,
          77,
          78,
          79,
          80,
          81,
          82,
          83,
          84,
          85,
          86,
          87,
          88,
          89,
          90,
          91,
          92,
          93,
          94,
          95,
          96,
          97,
          98,
          99
         ],
         "xaxis": "x",
         "y": [
          0,
          0,
          0,
          1.1102230246251565e-16,
          4.440892098500626e-16,
          9.992007221626409e-16,
          2.1094237467877974e-15,
          4.773959005888173e-15,
          9.880984919163893e-15,
          1.9984014443252818e-14,
          4.030109579389318e-14,
          8.060219158778636e-14,
          1.6142642778049776e-13,
          3.2318592246838307e-13,
          6.465938895416912e-13,
          1.2931877790833823e-12,
          2.5869306696790773e-12,
          5.1738613393581545e-12,
          1.0347611656413847e-11,
          2.0695445357432618e-11,
          4.1391667870982474e-11,
          8.278322471966248e-11,
          1.6556611637241758e-10,
          3.3113256581174255e-10,
          6.622657977572999e-10,
          1.3245314844922973e-9,
          2.6490627469399897e-9,
          5.298125604902282e-9,
          1.0596251098782261e-8,
          2.1192502197564522e-8,
          4.238500428410674e-8,
          8.477000623674513e-8,
          1.6954000270352765e-7,
          3.3907996654924943e-7,
          6.781597775562531e-7,
          0.0000013563189297238765,
          0.0000027126353582263008,
          0.000005425260709124302,
          0.000010850481389823585,
          0.000021700802664392782,
          0.00004340096487631673,
          0.00008679936800704002,
          0.0001735884895667228,
          0.0003471359976257027,
          0.0006941081034734786,
          0.0013875609137693479,
          0.002772502844736513,
          0.005534547252355471,
          0.011027400307202173,
          0.02188913383517266,
          0.04312437928921642,
          0.0837018447880985,
          0.1577406832493703,
          0.28066416752084755,
          0.4477581698205952,
          0.5874409666875438,
          0.5644506853245583,
          0.3579593530669167,
          0.12900495327166114,
          0.016642659036376586,
          0.00027697809987369513,
          7.671686780964262e-8,
          5.88547780652218e-15,
          3.4638849011065134e-29,
          1.1998498608113678e-57,
          1.4396396884890592e-114,
          2.072562432672875e-228,
          0,
          0,
          0,
          0,
          0,
          0,
          0,
          0,
          0,
          0,
          0,
          0,
          0,
          0,
          0,
          0,
          0,
          0,
          0,
          0,
          0,
          0,
          0,
          0,
          0,
          0,
          0,
          0,
          0,
          0,
          0,
          0,
          0
         ],
         "yaxis": "y"
        },
        {
         "hovertemplate": "variable=Ri<br>index=%{x}<br>value=%{y}<extra></extra>",
         "legendgroup": "Ri",
         "line": {
          "color": "#ab63fa",
          "dash": "solid"
         },
         "marker": {
          "symbol": "circle"
         },
         "mode": "lines",
         "name": "Ri",
         "showlegend": true,
         "type": "scattergl",
         "x": [
          0,
          1,
          2,
          3,
          4,
          5,
          6,
          7,
          8,
          9,
          10,
          11,
          12,
          13,
          14,
          15,
          16,
          17,
          18,
          19,
          20,
          21,
          22,
          23,
          24,
          25,
          26,
          27,
          28,
          29,
          30,
          31,
          32,
          33,
          34,
          35,
          36,
          37,
          38,
          39,
          40,
          41,
          42,
          43,
          44,
          45,
          46,
          47,
          48,
          49,
          50,
          51,
          52,
          53,
          54,
          55,
          56,
          57,
          58,
          59,
          60,
          61,
          62,
          63,
          64,
          65,
          66,
          67,
          68,
          69,
          70,
          71,
          72,
          73,
          74,
          75,
          76,
          77,
          78,
          79,
          80,
          81,
          82,
          83,
          84,
          85,
          86,
          87,
          88,
          89,
          90,
          91,
          92,
          93,
          94,
          95,
          96,
          97,
          98,
          99
         ],
         "xaxis": "x",
         "y": [
          -2.220446049250313e-16,
          0,
          0,
          -1.1102230246251565e-16,
          4.440892098500626e-16,
          9.992007221626409e-16,
          2.1094237467877974e-15,
          4.773959005888173e-15,
          9.769962616701378e-15,
          1.9872992140790302e-14,
          3.9968028886505635e-14,
          8.060219158778636e-14,
          1.616484723854228e-13,
          3.2318592246838307e-13,
          6.465938895416912e-13,
          1.2936318682932324e-12,
          2.5870416919815398e-12,
          5.1738613393581545e-12,
          1.0347722678716309e-11,
          2.0695667402037543e-11,
          4.1391778893284936e-11,
          8.278322471966248e-11,
          1.6556656046162743e-10,
          3.311327878563475e-10,
          6.622657977572999e-10,
          1.3245315955145998e-9,
          2.649062857962292e-9,
          5.298125715924584e-9,
          1.0596251431849169e-8,
          2.1192502419609127e-8,
          4.238500450615135e-8,
          8.477000645878974e-8,
          1.6954000303659456e-7,
          3.3907996699333864e-7,
          6.781597780003423e-7,
          0.000001356318930278988,
          0.0000027126353585593677,
          0.000005425260709568391,
          0.000010850481390378697,
          0.000021700802664947894,
          0.000043400964876649795,
          0.00008679936800770616,
          0.00017358848956705586,
          0.0003471359976261468,
          0.0006941081034738117,
          0.001387560913769792,
          0.002772502844736735,
          0.005534547252355693,
          0.011027400307202617,
          0.02188913383517299,
          0.04312437928921675,
          0.08370184478809883,
          0.15774068324937052,
          0.280664167520848,
          0.44775816982059546,
          0.5874409666875439,
          0.5644506853245584,
          0.3579593530669167,
          0.12900495327166114,
          0.016642659036376586,
          0.00027697809987369513,
          7.671686780964262e-8,
          5.88547780652218e-15,
          3.4638849011065134e-29,
          1.1998498608113678e-57,
          1.4396396884890592e-114,
          2.072562432672875e-228,
          0,
          0,
          0,
          0,
          0,
          0,
          0,
          0,
          0,
          0,
          0,
          0,
          0,
          0,
          0,
          0,
          0,
          0,
          0,
          0,
          0,
          0,
          0,
          0,
          0,
          0,
          0,
          0,
          0,
          0,
          0,
          0,
          0
         ],
         "yaxis": "y"
        },
        {
         "hovertemplate": "variable=Comp<br>index=%{x}<br>value=%{y}<extra></extra>",
         "legendgroup": "Comp",
         "line": {
          "color": "#FFA15A",
          "dash": "solid"
         },
         "marker": {
          "symbol": "circle"
         },
         "mode": "lines",
         "name": "Comp",
         "showlegend": true,
         "type": "scattergl",
         "x": [
          0,
          1,
          2,
          3,
          4,
          5,
          6,
          7,
          8,
          9,
          10,
          11,
          12,
          13,
          14,
          15,
          16,
          17,
          18,
          19,
          20,
          21,
          22,
          23,
          24,
          25,
          26,
          27,
          28,
          29,
          30,
          31,
          32,
          33,
          34,
          35,
          36,
          37,
          38,
          39,
          40,
          41,
          42,
          43,
          44,
          45,
          46,
          47,
          48,
          49,
          50,
          51,
          52,
          53,
          54,
          55,
          56,
          57,
          58,
          59,
          60,
          61,
          62,
          63,
          64,
          65,
          66,
          67,
          68,
          69,
          70,
          71,
          72,
          73,
          74,
          75,
          76,
          77,
          78,
          79,
          80,
          81,
          82,
          83,
          84,
          85,
          86,
          87,
          88,
          89,
          90,
          91,
          92,
          93,
          94,
          95,
          96,
          97,
          98,
          99
         ],
         "xaxis": "x",
         "y": [
          -3.3306690738754696e-16,
          0,
          2.220446049250313e-16,
          3.3306690738754696e-16,
          7.771561172376096e-16,
          1.2212453270876722e-15,
          2.220446049250313e-15,
          4.773959005888173e-15,
          9.880984919163893e-15,
          2.0095036745715333e-14,
          4.0190073491430667e-14,
          8.093525849517391e-14,
          1.6187051699034782e-13,
          3.232969447708456e-13,
          6.468159341466162e-13,
          1.2938539128981574e-12,
          2.5870416919815398e-12,
          5.173972361660617e-12,
          1.0347833701018772e-11,
          2.0695667402037543e-11,
          4.13918899155874e-11,
          8.278333574196495e-11,
          1.6556656046162743e-10,
          3.3113289887864994e-10,
          6.622660198019048e-10,
          1.3245319285815071e-9,
          2.6490629689845946e-9,
          5.298125715924584e-9,
          1.0596251542871471e-8,
          2.119250253063143e-8,
          4.238500461717365e-8,
          8.477000645878974e-8,
          1.6954000303659456e-7,
          3.3907996699333864e-7,
          6.781597780003423e-7,
          0.000001356318930278988,
          0.0000027126353585593677,
          0.000005425260709568391,
          0.000010850481390378697,
          0.000021700802664947894,
          0.000043400964876649795,
          0.00008679936800770616,
          0.00017358848956705586,
          0.0003471359976261468,
          0.0006941081034738117,
          0.001387560913769792,
          0.002772502844736735,
          0.005534547252355693,
          0.011027400307202617,
          0.02188913383517299,
          0.04312437928921675,
          0.08370184478809883,
          0.15774068324937052,
          0.280664167520848,
          0.44775816982059546,
          0.5874409666875439,
          0.5644506853245584,
          0.3579593530669167,
          0.12900495327166114,
          0.016642659036376586,
          0.00027697809987369513,
          7.671686780964262e-8,
          5.88547780652218e-15,
          3.4638849011065134e-29,
          1.1998498608113678e-57,
          1.4396396884890592e-114,
          2.072562432672875e-228,
          0,
          0,
          0,
          0,
          0,
          0,
          0,
          0,
          0,
          0,
          0,
          0,
          0,
          0,
          0,
          0,
          0,
          0,
          0,
          0,
          0,
          0,
          0,
          0,
          0,
          0,
          0,
          0,
          0,
          0,
          0,
          0,
          0
         ],
         "yaxis": "y"
        }
       ],
       "layout": {
        "legend": {
         "title": {
          "text": "variable"
         },
         "tracegroupgap": 0
        },
        "template": {
         "data": {
          "bar": [
           {
            "error_x": {
             "color": "#2a3f5f"
            },
            "error_y": {
             "color": "#2a3f5f"
            },
            "marker": {
             "line": {
              "color": "#E5ECF6",
              "width": 0.5
             },
             "pattern": {
              "fillmode": "overlay",
              "size": 10,
              "solidity": 0.2
             }
            },
            "type": "bar"
           }
          ],
          "barpolar": [
           {
            "marker": {
             "line": {
              "color": "#E5ECF6",
              "width": 0.5
             },
             "pattern": {
              "fillmode": "overlay",
              "size": 10,
              "solidity": 0.2
             }
            },
            "type": "barpolar"
           }
          ],
          "carpet": [
           {
            "aaxis": {
             "endlinecolor": "#2a3f5f",
             "gridcolor": "white",
             "linecolor": "white",
             "minorgridcolor": "white",
             "startlinecolor": "#2a3f5f"
            },
            "baxis": {
             "endlinecolor": "#2a3f5f",
             "gridcolor": "white",
             "linecolor": "white",
             "minorgridcolor": "white",
             "startlinecolor": "#2a3f5f"
            },
            "type": "carpet"
           }
          ],
          "choropleth": [
           {
            "colorbar": {
             "outlinewidth": 0,
             "ticks": ""
            },
            "type": "choropleth"
           }
          ],
          "contour": [
           {
            "colorbar": {
             "outlinewidth": 0,
             "ticks": ""
            },
            "colorscale": [
             [
              0,
              "#0d0887"
             ],
             [
              0.1111111111111111,
              "#46039f"
             ],
             [
              0.2222222222222222,
              "#7201a8"
             ],
             [
              0.3333333333333333,
              "#9c179e"
             ],
             [
              0.4444444444444444,
              "#bd3786"
             ],
             [
              0.5555555555555556,
              "#d8576b"
             ],
             [
              0.6666666666666666,
              "#ed7953"
             ],
             [
              0.7777777777777778,
              "#fb9f3a"
             ],
             [
              0.8888888888888888,
              "#fdca26"
             ],
             [
              1,
              "#f0f921"
             ]
            ],
            "type": "contour"
           }
          ],
          "contourcarpet": [
           {
            "colorbar": {
             "outlinewidth": 0,
             "ticks": ""
            },
            "type": "contourcarpet"
           }
          ],
          "heatmap": [
           {
            "colorbar": {
             "outlinewidth": 0,
             "ticks": ""
            },
            "colorscale": [
             [
              0,
              "#0d0887"
             ],
             [
              0.1111111111111111,
              "#46039f"
             ],
             [
              0.2222222222222222,
              "#7201a8"
             ],
             [
              0.3333333333333333,
              "#9c179e"
             ],
             [
              0.4444444444444444,
              "#bd3786"
             ],
             [
              0.5555555555555556,
              "#d8576b"
             ],
             [
              0.6666666666666666,
              "#ed7953"
             ],
             [
              0.7777777777777778,
              "#fb9f3a"
             ],
             [
              0.8888888888888888,
              "#fdca26"
             ],
             [
              1,
              "#f0f921"
             ]
            ],
            "type": "heatmap"
           }
          ],
          "heatmapgl": [
           {
            "colorbar": {
             "outlinewidth": 0,
             "ticks": ""
            },
            "colorscale": [
             [
              0,
              "#0d0887"
             ],
             [
              0.1111111111111111,
              "#46039f"
             ],
             [
              0.2222222222222222,
              "#7201a8"
             ],
             [
              0.3333333333333333,
              "#9c179e"
             ],
             [
              0.4444444444444444,
              "#bd3786"
             ],
             [
              0.5555555555555556,
              "#d8576b"
             ],
             [
              0.6666666666666666,
              "#ed7953"
             ],
             [
              0.7777777777777778,
              "#fb9f3a"
             ],
             [
              0.8888888888888888,
              "#fdca26"
             ],
             [
              1,
              "#f0f921"
             ]
            ],
            "type": "heatmapgl"
           }
          ],
          "histogram": [
           {
            "marker": {
             "pattern": {
              "fillmode": "overlay",
              "size": 10,
              "solidity": 0.2
             }
            },
            "type": "histogram"
           }
          ],
          "histogram2d": [
           {
            "colorbar": {
             "outlinewidth": 0,
             "ticks": ""
            },
            "colorscale": [
             [
              0,
              "#0d0887"
             ],
             [
              0.1111111111111111,
              "#46039f"
             ],
             [
              0.2222222222222222,
              "#7201a8"
             ],
             [
              0.3333333333333333,
              "#9c179e"
             ],
             [
              0.4444444444444444,
              "#bd3786"
             ],
             [
              0.5555555555555556,
              "#d8576b"
             ],
             [
              0.6666666666666666,
              "#ed7953"
             ],
             [
              0.7777777777777778,
              "#fb9f3a"
             ],
             [
              0.8888888888888888,
              "#fdca26"
             ],
             [
              1,
              "#f0f921"
             ]
            ],
            "type": "histogram2d"
           }
          ],
          "histogram2dcontour": [
           {
            "colorbar": {
             "outlinewidth": 0,
             "ticks": ""
            },
            "colorscale": [
             [
              0,
              "#0d0887"
             ],
             [
              0.1111111111111111,
              "#46039f"
             ],
             [
              0.2222222222222222,
              "#7201a8"
             ],
             [
              0.3333333333333333,
              "#9c179e"
             ],
             [
              0.4444444444444444,
              "#bd3786"
             ],
             [
              0.5555555555555556,
              "#d8576b"
             ],
             [
              0.6666666666666666,
              "#ed7953"
             ],
             [
              0.7777777777777778,
              "#fb9f3a"
             ],
             [
              0.8888888888888888,
              "#fdca26"
             ],
             [
              1,
              "#f0f921"
             ]
            ],
            "type": "histogram2dcontour"
           }
          ],
          "mesh3d": [
           {
            "colorbar": {
             "outlinewidth": 0,
             "ticks": ""
            },
            "type": "mesh3d"
           }
          ],
          "parcoords": [
           {
            "line": {
             "colorbar": {
              "outlinewidth": 0,
              "ticks": ""
             }
            },
            "type": "parcoords"
           }
          ],
          "pie": [
           {
            "automargin": true,
            "type": "pie"
           }
          ],
          "scatter": [
           {
            "fillpattern": {
             "fillmode": "overlay",
             "size": 10,
             "solidity": 0.2
            },
            "type": "scatter"
           }
          ],
          "scatter3d": [
           {
            "line": {
             "colorbar": {
              "outlinewidth": 0,
              "ticks": ""
             }
            },
            "marker": {
             "colorbar": {
              "outlinewidth": 0,
              "ticks": ""
             }
            },
            "type": "scatter3d"
           }
          ],
          "scattercarpet": [
           {
            "marker": {
             "colorbar": {
              "outlinewidth": 0,
              "ticks": ""
             }
            },
            "type": "scattercarpet"
           }
          ],
          "scattergeo": [
           {
            "marker": {
             "colorbar": {
              "outlinewidth": 0,
              "ticks": ""
             }
            },
            "type": "scattergeo"
           }
          ],
          "scattergl": [
           {
            "marker": {
             "colorbar": {
              "outlinewidth": 0,
              "ticks": ""
             }
            },
            "type": "scattergl"
           }
          ],
          "scattermapbox": [
           {
            "marker": {
             "colorbar": {
              "outlinewidth": 0,
              "ticks": ""
             }
            },
            "type": "scattermapbox"
           }
          ],
          "scatterpolar": [
           {
            "marker": {
             "colorbar": {
              "outlinewidth": 0,
              "ticks": ""
             }
            },
            "type": "scatterpolar"
           }
          ],
          "scatterpolargl": [
           {
            "marker": {
             "colorbar": {
              "outlinewidth": 0,
              "ticks": ""
             }
            },
            "type": "scatterpolargl"
           }
          ],
          "scatterternary": [
           {
            "marker": {
             "colorbar": {
              "outlinewidth": 0,
              "ticks": ""
             }
            },
            "type": "scatterternary"
           }
          ],
          "surface": [
           {
            "colorbar": {
             "outlinewidth": 0,
             "ticks": ""
            },
            "colorscale": [
             [
              0,
              "#0d0887"
             ],
             [
              0.1111111111111111,
              "#46039f"
             ],
             [
              0.2222222222222222,
              "#7201a8"
             ],
             [
              0.3333333333333333,
              "#9c179e"
             ],
             [
              0.4444444444444444,
              "#bd3786"
             ],
             [
              0.5555555555555556,
              "#d8576b"
             ],
             [
              0.6666666666666666,
              "#ed7953"
             ],
             [
              0.7777777777777778,
              "#fb9f3a"
             ],
             [
              0.8888888888888888,
              "#fdca26"
             ],
             [
              1,
              "#f0f921"
             ]
            ],
            "type": "surface"
           }
          ],
          "table": [
           {
            "cells": {
             "fill": {
              "color": "#EBF0F8"
             },
             "line": {
              "color": "white"
             }
            },
            "header": {
             "fill": {
              "color": "#C8D4E3"
             },
             "line": {
              "color": "white"
             }
            },
            "type": "table"
           }
          ]
         },
         "layout": {
          "annotationdefaults": {
           "arrowcolor": "#2a3f5f",
           "arrowhead": 0,
           "arrowwidth": 1
          },
          "autotypenumbers": "strict",
          "coloraxis": {
           "colorbar": {
            "outlinewidth": 0,
            "ticks": ""
           }
          },
          "colorscale": {
           "diverging": [
            [
             0,
             "#8e0152"
            ],
            [
             0.1,
             "#c51b7d"
            ],
            [
             0.2,
             "#de77ae"
            ],
            [
             0.3,
             "#f1b6da"
            ],
            [
             0.4,
             "#fde0ef"
            ],
            [
             0.5,
             "#f7f7f7"
            ],
            [
             0.6,
             "#e6f5d0"
            ],
            [
             0.7,
             "#b8e186"
            ],
            [
             0.8,
             "#7fbc41"
            ],
            [
             0.9,
             "#4d9221"
            ],
            [
             1,
             "#276419"
            ]
           ],
           "sequential": [
            [
             0,
             "#0d0887"
            ],
            [
             0.1111111111111111,
             "#46039f"
            ],
            [
             0.2222222222222222,
             "#7201a8"
            ],
            [
             0.3333333333333333,
             "#9c179e"
            ],
            [
             0.4444444444444444,
             "#bd3786"
            ],
            [
             0.5555555555555556,
             "#d8576b"
            ],
            [
             0.6666666666666666,
             "#ed7953"
            ],
            [
             0.7777777777777778,
             "#fb9f3a"
            ],
            [
             0.8888888888888888,
             "#fdca26"
            ],
            [
             1,
             "#f0f921"
            ]
           ],
           "sequentialminus": [
            [
             0,
             "#0d0887"
            ],
            [
             0.1111111111111111,
             "#46039f"
            ],
            [
             0.2222222222222222,
             "#7201a8"
            ],
            [
             0.3333333333333333,
             "#9c179e"
            ],
            [
             0.4444444444444444,
             "#bd3786"
            ],
            [
             0.5555555555555556,
             "#d8576b"
            ],
            [
             0.6666666666666666,
             "#ed7953"
            ],
            [
             0.7777777777777778,
             "#fb9f3a"
            ],
            [
             0.8888888888888888,
             "#fdca26"
            ],
            [
             1,
             "#f0f921"
            ]
           ]
          },
          "colorway": [
           "#636efa",
           "#EF553B",
           "#00cc96",
           "#ab63fa",
           "#FFA15A",
           "#19d3f3",
           "#FF6692",
           "#B6E880",
           "#FF97FF",
           "#FECB52"
          ],
          "font": {
           "color": "#2a3f5f"
          },
          "geo": {
           "bgcolor": "white",
           "lakecolor": "white",
           "landcolor": "#E5ECF6",
           "showlakes": true,
           "showland": true,
           "subunitcolor": "white"
          },
          "hoverlabel": {
           "align": "left"
          },
          "hovermode": "closest",
          "mapbox": {
           "style": "light"
          },
          "paper_bgcolor": "white",
          "plot_bgcolor": "#E5ECF6",
          "polar": {
           "angularaxis": {
            "gridcolor": "white",
            "linecolor": "white",
            "ticks": ""
           },
           "bgcolor": "#E5ECF6",
           "radialaxis": {
            "gridcolor": "white",
            "linecolor": "white",
            "ticks": ""
           }
          },
          "scene": {
           "xaxis": {
            "backgroundcolor": "#E5ECF6",
            "gridcolor": "white",
            "gridwidth": 2,
            "linecolor": "white",
            "showbackground": true,
            "ticks": "",
            "zerolinecolor": "white"
           },
           "yaxis": {
            "backgroundcolor": "#E5ECF6",
            "gridcolor": "white",
            "gridwidth": 2,
            "linecolor": "white",
            "showbackground": true,
            "ticks": "",
            "zerolinecolor": "white"
           },
           "zaxis": {
            "backgroundcolor": "#E5ECF6",
            "gridcolor": "white",
            "gridwidth": 2,
            "linecolor": "white",
            "showbackground": true,
            "ticks": "",
            "zerolinecolor": "white"
           }
          },
          "shapedefaults": {
           "line": {
            "color": "#2a3f5f"
           }
          },
          "ternary": {
           "aaxis": {
            "gridcolor": "white",
            "linecolor": "white",
            "ticks": ""
           },
           "baxis": {
            "gridcolor": "white",
            "linecolor": "white",
            "ticks": ""
           },
           "bgcolor": "#E5ECF6",
           "caxis": {
            "gridcolor": "white",
            "linecolor": "white",
            "ticks": ""
           }
          },
          "title": {
           "x": 0.05
          },
          "xaxis": {
           "automargin": true,
           "gridcolor": "white",
           "linecolor": "white",
           "ticks": "",
           "title": {
            "standoff": 15
           },
           "zerolinecolor": "white",
           "zerolinewidth": 2
          },
          "yaxis": {
           "automargin": true,
           "gridcolor": "white",
           "linecolor": "white",
           "ticks": "",
           "title": {
            "standoff": 15
           },
           "zerolinecolor": "white",
           "zerolinewidth": 2
          }
         }
        },
        "title": {
         "text": "Evolution of activations for soggetto_1"
        },
        "xaxis": {
         "anchor": "y",
         "domain": [
          0,
          1
         ],
         "title": {
          "text": "index"
         }
        },
        "yaxis": {
         "anchor": "x",
         "domain": [
          0,
          1
         ],
         "title": {
          "text": "value"
         }
        }
       }
      }
     },
     "metadata": {},
     "output_type": "display_data"
    },
    {
     "data": {
      "application/vnd.plotly.v1+json": {
       "config": {
        "plotlyServerURL": "https://plot.ly"
       },
       "data": [
        {
         "hovertemplate": "variable=TrRi<br>index=%{x}<br>value=%{y}<extra></extra>",
         "legendgroup": "TrRi",
         "line": {
          "color": "#636efa",
          "dash": "solid"
         },
         "marker": {
          "symbol": "circle"
         },
         "mode": "lines",
         "name": "TrRi",
         "showlegend": true,
         "type": "scattergl",
         "x": [
          0,
          1,
          2,
          3,
          4,
          5,
          6,
          7,
          8,
          9,
          10,
          11,
          12,
          13,
          14,
          15,
          16,
          17,
          18,
          19,
          20,
          21,
          22,
          23,
          24,
          25,
          26,
          27,
          28,
          29,
          30,
          31,
          32,
          33,
          34,
          35,
          36,
          37,
          38,
          39,
          40,
          41,
          42,
          43,
          44,
          45,
          46,
          47,
          48,
          49,
          50,
          51,
          52,
          53,
          54,
          55,
          56,
          57,
          58,
          59,
          60,
          61,
          62,
          63,
          64,
          65,
          66,
          67,
          68,
          69,
          70,
          71,
          72,
          73,
          74,
          75,
          76,
          77,
          78,
          79,
          80,
          81,
          82,
          83,
          84,
          85,
          86,
          87,
          88,
          89,
          90,
          91,
          92,
          93,
          94,
          95,
          96,
          97,
          98,
          99
         ],
         "xaxis": "x",
         "y": [
          2.220446049250313e-16,
          -2.220446049250313e-16,
          -1.1102230246251565e-16,
          -2.220446049250313e-16,
          -7.771561172376096e-16,
          -1.887379141862766e-15,
          -4.440892098500626e-15,
          -8.770761894538737e-15,
          -1.7985612998927536e-14,
          -3.574918139293004e-14,
          -7.183142969324763e-14,
          -1.438849039914203e-13,
          -2.878808302853031e-13,
          -5.764277943853813e-13,
          -1.152966611073225e-12,
          -2.3063773113563e-12,
          -4.612421555805213e-12,
          -9.225287200820276e-12,
          -1.845090746854794e-11,
          -3.6901703914793416e-11,
          -7.380362987419176e-11,
          -1.4760737077068598e-10,
          -2.952148525636744e-10,
          -5.904297051273488e-10,
          -1.180859743321605e-9,
          -2.361719264598605e-9,
          -4.72343897328642e-9,
          -9.446878279639748e-9,
          -1.88937567813241e-8,
          -3.77875135626482e-8,
          -7.557502579302877e-8,
          -1.511500449247194e-7,
          -3.0230006142772936e-7,
          -6.046000079473757e-7,
          -0.0000012091995567065084,
          -0.0000024183972772151563,
          -0.000004836787209416826,
          -0.000009673545036781306,
          -0.000019346972545353225,
          -0.00003869347498097753,
          -0.00007738506956445068,
          -0.00015476261787084056,
          -0.00030949515336498035,
          -0.0006188699984709389,
          -0.0012372589338377482,
          -0.002472594973873754,
          -0.004937509228185921,
          -0.00984438221112649,
          -0.019566909124715814,
          -0.03865186088841566,
          -0.07541875896476324,
          -0.14362753770093073,
          -0.26085849070492395,
          -0.43292934052282256,
          -0.6109560773906069,
          -0.6656224788386851,
          -0.5192610983338092,
          -0.27303537732110417,
          -0.07455418155337794,
          -0.00555832600429031,
          -0.00003089498796996988,
          -9.54500281664584e-10,
          -9.110707876977702e-19,
          -8.300499801962353e-37,
          -6.889829696237708e-73,
          -4.746975324315901e-145,
          -2.2533774729664056e-289,
          0,
          0,
          0,
          0,
          0,
          0,
          0,
          0,
          0,
          0,
          0,
          0,
          0,
          0,
          0,
          0,
          0,
          0,
          0,
          0,
          0,
          0,
          0,
          0,
          0,
          0,
          0,
          0,
          0,
          0,
          0,
          0,
          0
         ],
         "yaxis": "y"
        },
        {
         "hovertemplate": "variable=RiTr<br>index=%{x}<br>value=%{y}<extra></extra>",
         "legendgroup": "RiTr",
         "line": {
          "color": "#EF553B",
          "dash": "solid"
         },
         "marker": {
          "symbol": "circle"
         },
         "mode": "lines",
         "name": "RiTr",
         "showlegend": true,
         "type": "scattergl",
         "x": [
          0,
          1,
          2,
          3,
          4,
          5,
          6,
          7,
          8,
          9,
          10,
          11,
          12,
          13,
          14,
          15,
          16,
          17,
          18,
          19,
          20,
          21,
          22,
          23,
          24,
          25,
          26,
          27,
          28,
          29,
          30,
          31,
          32,
          33,
          34,
          35,
          36,
          37,
          38,
          39,
          40,
          41,
          42,
          43,
          44,
          45,
          46,
          47,
          48,
          49,
          50,
          51,
          52,
          53,
          54,
          55,
          56,
          57,
          58,
          59,
          60,
          61,
          62,
          63,
          64,
          65,
          66,
          67,
          68,
          69,
          70,
          71,
          72,
          73,
          74,
          75,
          76,
          77,
          78,
          79,
          80,
          81,
          82,
          83,
          84,
          85,
          86,
          87,
          88,
          89,
          90,
          91,
          92,
          93,
          94,
          95,
          96,
          97,
          98,
          99
         ],
         "xaxis": "x",
         "y": [
          -1.1102230246251565e-16,
          -1.1102230246251565e-16,
          -2.220446049250313e-16,
          -6.661338147750939e-16,
          -9.992007221626409e-16,
          -2.4424906541753444e-15,
          -4.551914400963142e-15,
          -9.103828801926284e-15,
          -1.7985612998927536e-14,
          -3.6193270602780103e-14,
          -7.183142969324763e-14,
          -1.4421797089880783e-13,
          -2.8821389719269064e-13,
          -5.767608612927688e-13,
          -1.15318865567815e-12,
          -2.3065993559612252e-12,
          -4.612865645015063e-12,
          -9.2255092454252e-12,
          -1.84510184908504e-11,
          -3.690192595939834e-11,
          -7.380396294109914e-11,
          -1.4760737077068598e-10,
          -2.9521529665288426e-10,
          -5.904299271719538e-10,
          -1.1808600763885124e-9,
          -2.3617198197101175e-9,
          -4.7234395283979325e-9,
          -9.446878501684353e-9,
          -1.8893757114391008e-8,
          -3.778751400673741e-8,
          -7.557502623711798e-8,
          -1.511500453688086e-7,
          -3.0230006153875166e-7,
          -6.046000083914649e-7,
          -0.0000012091995571505976,
          -0.0000024183972776592455,
          -0.000004836787209971938,
          -0.000009673545037225395,
          -0.00001934697254601936,
          -0.000038693474981310594,
          -0.00007738506956478375,
          -0.00015476261787117362,
          -0.00030949515336509137,
          -0.000618869998471161,
          -0.0012372589338379703,
          -0.002472594973874087,
          -0.004937509228186143,
          -0.009844382211126934,
          -0.019566909124716148,
          -0.03865186088841588,
          -0.07541875896476358,
          -0.14362753770093128,
          -0.2608584907049242,
          -0.4329293405228229,
          -0.6109560773906072,
          -0.6656224788386853,
          -0.5192610983338094,
          -0.2730353773211043,
          -0.07455418155337795,
          -0.005558326004290312,
          -0.00003089498796996989,
          -9.545002816645841e-10,
          -9.110707876977706e-19,
          -8.300499801962357e-37,
          -6.889829696237711e-73,
          -4.7469753243159015e-145,
          -2.253377472966406e-289,
          0,
          0,
          0,
          0,
          0,
          0,
          0,
          0,
          0,
          0,
          0,
          0,
          0,
          0,
          0,
          0,
          0,
          0,
          0,
          0,
          0,
          0,
          0,
          0,
          0,
          0,
          0,
          0,
          0,
          0,
          0,
          0,
          0
         ],
         "yaxis": "y"
        },
        {
         "hovertemplate": "variable=Plu<br>index=%{x}<br>value=%{y}<extra></extra>",
         "legendgroup": "Plu",
         "line": {
          "color": "#00cc96",
          "dash": "solid"
         },
         "marker": {
          "symbol": "circle"
         },
         "mode": "lines",
         "name": "Plu",
         "showlegend": true,
         "type": "scattergl",
         "x": [
          0,
          1,
          2,
          3,
          4,
          5,
          6,
          7,
          8,
          9,
          10,
          11,
          12,
          13,
          14,
          15,
          16,
          17,
          18,
          19,
          20,
          21,
          22,
          23,
          24,
          25,
          26,
          27,
          28,
          29,
          30,
          31,
          32,
          33,
          34,
          35,
          36,
          37,
          38,
          39,
          40,
          41,
          42,
          43,
          44,
          45,
          46,
          47,
          48,
          49,
          50,
          51,
          52,
          53,
          54,
          55,
          56,
          57,
          58,
          59,
          60,
          61,
          62,
          63,
          64,
          65,
          66,
          67,
          68,
          69,
          70,
          71,
          72,
          73,
          74,
          75,
          76,
          77,
          78,
          79,
          80,
          81,
          82,
          83,
          84,
          85,
          86,
          87,
          88,
          89,
          90,
          91,
          92,
          93,
          94,
          95,
          96,
          97,
          98,
          99
         ],
         "xaxis": "x",
         "y": [
          0,
          0,
          -3.3306690738754696e-16,
          -5.551115123125783e-16,
          -1.4432899320127035e-15,
          -2.4424906541753444e-15,
          -4.551914400963142e-15,
          -9.2148511043888e-15,
          -1.8207657603852567e-14,
          -3.6193270602780103e-14,
          -7.194245199571014e-14,
          -1.4421797089880783e-13,
          -2.8821389719269064e-13,
          -5.767608612927688e-13,
          -1.15318865567815e-12,
          -2.3067103782636877e-12,
          -4.612865645015063e-12,
          -9.2255092454252e-12,
          -1.8451240535455327e-11,
          -3.69020369817008e-11,
          -7.380396294109914e-11,
          -1.4760737077068598e-10,
          -2.952154076751867e-10,
          -5.904300381942562e-10,
          -1.1808601874108149e-9,
          -2.3617200417547224e-9,
          -4.723439750442537e-9,
          -9.446878612706655e-9,
          -1.8893757447457915e-8,
          -3.778751400673741e-8,
          -7.557502623711798e-8,
          -1.511500453688086e-7,
          -3.0230006153875166e-7,
          -6.046000083914649e-7,
          -0.0000012091995571505976,
          -0.000002418397277770268,
          -0.000004836787209971938,
          -0.000009673545037225395,
          -0.00001934697254601936,
          -0.000038693474981310594,
          -0.00007738506956478375,
          -0.00015476261787117362,
          -0.00030949515336509137,
          -0.000618869998471161,
          -0.0012372589338379703,
          -0.002472594973874087,
          -0.004937509228186143,
          -0.009844382211126934,
          -0.019566909124716148,
          -0.03865186088841588,
          -0.07541875896476358,
          -0.14362753770093128,
          -0.2608584907049242,
          -0.4329293405228229,
          -0.6109560773906072,
          -0.6656224788386853,
          -0.5192610983338094,
          -0.2730353773211043,
          -0.07455418155337795,
          -0.005558326004290312,
          -0.00003089498796996989,
          -9.545002816645841e-10,
          -9.110707876977706e-19,
          -8.300499801962357e-37,
          -6.889829696237711e-73,
          -4.7469753243159015e-145,
          -2.253377472966406e-289,
          0,
          0,
          0,
          0,
          0,
          0,
          0,
          0,
          0,
          0,
          0,
          0,
          0,
          0,
          0,
          0,
          0,
          0,
          0,
          0,
          0,
          0,
          0,
          0,
          0,
          0,
          0,
          0,
          0,
          0,
          0,
          0,
          0
         ],
         "yaxis": "y"
        },
        {
         "hovertemplate": "variable=Ttra<br>index=%{x}<br>value=%{y}<extra></extra>",
         "legendgroup": "Ttra",
         "line": {
          "color": "#ab63fa",
          "dash": "solid"
         },
         "marker": {
          "symbol": "circle"
         },
         "mode": "lines",
         "name": "Ttra",
         "showlegend": true,
         "type": "scattergl",
         "x": [
          0,
          1,
          2,
          3,
          4,
          5,
          6,
          7,
          8,
          9,
          10,
          11,
          12,
          13,
          14,
          15,
          16,
          17,
          18,
          19,
          20,
          21,
          22,
          23,
          24,
          25,
          26,
          27,
          28,
          29,
          30,
          31,
          32,
          33,
          34,
          35,
          36,
          37,
          38,
          39,
          40,
          41,
          42,
          43,
          44,
          45,
          46,
          47,
          48,
          49,
          50,
          51,
          52,
          53,
          54,
          55,
          56,
          57,
          58,
          59,
          60,
          61,
          62,
          63,
          64,
          65,
          66,
          67,
          68,
          69,
          70,
          71,
          72,
          73,
          74,
          75,
          76,
          77,
          78,
          79,
          80,
          81,
          82,
          83,
          84,
          85,
          86,
          87,
          88,
          89,
          90,
          91,
          92,
          93,
          94,
          95,
          96,
          97,
          98,
          99
         ],
         "xaxis": "x",
         "y": [
          1.1102230246251565e-16,
          1.1102230246251565e-16,
          0,
          -5.551115123125783e-16,
          -7.771561172376096e-16,
          -2.220446049250313e-15,
          -4.440892098500626e-15,
          -9.2148511043888e-15,
          -1.8096635301390052e-14,
          -3.608224830031759e-14,
          -7.194245199571014e-14,
          -1.439959262938828e-13,
          -2.878808302853031e-13,
          -5.764277943853813e-13,
          -1.152966611073225e-12,
          -2.3067103782636877e-12,
          -4.612643600410138e-12,
          -9.225398223122738e-12,
          -1.8451129513152864e-11,
          -3.690181493709588e-11,
          -7.380396294109914e-11,
          -1.4760737077068598e-10,
          -2.952151856305818e-10,
          -5.904299271719538e-10,
          -1.1808598543439075e-9,
          -2.361719708687815e-9,
          -4.7234395283979325e-9,
          -9.446878501684353e-9,
          -1.8893757114391008e-8,
          -3.77875136736705e-8,
          -7.557502601507338e-8,
          -1.51150045146764e-7,
          -3.0230006142772936e-7,
          -6.04600008058398e-7,
          -0.0000012091995567065084,
          -0.0000024183972773261786,
          -0.000004836787209416826,
          -0.000009673545036781306,
          -0.000019346972545353225,
          -0.00003869347498097753,
          -0.0000773850695645617,
          -0.00015476261787084056,
          -0.00030949515336498035,
          -0.00061886999847105,
          -0.0012372589338379703,
          -0.002472594973873976,
          -0.004937509228186143,
          -0.009844382211126601,
          -0.019566909124716036,
          -0.03865186088841588,
          -0.07541875896476335,
          -0.14362753770093095,
          -0.26085849070492406,
          -0.4329293405228226,
          -0.610956077390607,
          -0.6656224788386851,
          -0.5192610983338092,
          -0.27303537732110417,
          -0.07455418155337794,
          -0.00555832600429031,
          -0.00003089498796996988,
          -9.54500281664584e-10,
          -9.110707876977702e-19,
          -8.300499801962353e-37,
          -6.889829696237708e-73,
          -4.746975324315901e-145,
          -2.2533774729664056e-289,
          0,
          0,
          0,
          0,
          0,
          0,
          0,
          0,
          0,
          0,
          0,
          0,
          0,
          0,
          0,
          0,
          0,
          0,
          0,
          0,
          0,
          0,
          0,
          0,
          0,
          0,
          0,
          0,
          0,
          0,
          0,
          0,
          0
         ],
         "yaxis": "y"
        },
        {
         "hovertemplate": "variable=Ttrb<br>index=%{x}<br>value=%{y}<extra></extra>",
         "legendgroup": "Ttrb",
         "line": {
          "color": "#FFA15A",
          "dash": "solid"
         },
         "marker": {
          "symbol": "circle"
         },
         "mode": "lines",
         "name": "Ttrb",
         "showlegend": true,
         "type": "scattergl",
         "x": [
          0,
          1,
          2,
          3,
          4,
          5,
          6,
          7,
          8,
          9,
          10,
          11,
          12,
          13,
          14,
          15,
          16,
          17,
          18,
          19,
          20,
          21,
          22,
          23,
          24,
          25,
          26,
          27,
          28,
          29,
          30,
          31,
          32,
          33,
          34,
          35,
          36,
          37,
          38,
          39,
          40,
          41,
          42,
          43,
          44,
          45,
          46,
          47,
          48,
          49,
          50,
          51,
          52,
          53,
          54,
          55,
          56,
          57,
          58,
          59,
          60,
          61,
          62,
          63,
          64,
          65,
          66,
          67,
          68,
          69,
          70,
          71,
          72,
          73,
          74,
          75,
          76,
          77,
          78,
          79,
          80,
          81,
          82,
          83,
          84,
          85,
          86,
          87,
          88,
          89,
          90,
          91,
          92,
          93,
          94,
          95,
          96,
          97,
          98,
          99
         ],
         "xaxis": "x",
         "y": [
          -1.1102230246251565e-16,
          -1.1102230246251565e-16,
          -5.551115123125783e-16,
          -6.661338147750939e-16,
          -1.1102230246251565e-15,
          -2.220446049250313e-15,
          -4.551914400963142e-15,
          -9.103828801926284e-15,
          -1.8207657603852567e-14,
          -3.6193270602780103e-14,
          -7.194245199571014e-14,
          -1.4410694859634532e-13,
          -2.881028748902281e-13,
          -5.764277943853813e-13,
          -1.15318865567815e-12,
          -2.3067103782636877e-12,
          -4.612643600410138e-12,
          -9.225398223122738e-12,
          -1.8451129513152864e-11,
          -3.690181493709588e-11,
          -7.380374089649422e-11,
          -1.4760737077068598e-10,
          -2.952151856305818e-10,
          -5.904299271719538e-10,
          -1.1808598543439075e-9,
          -2.361719708687815e-9,
          -4.7234395283979325e-9,
          -9.44687839066205e-9,
          -1.8893757114391008e-8,
          -3.77875136736705e-8,
          -7.557502601507338e-8,
          -1.51150045146764e-7,
          -3.0230006142772936e-7,
          -6.046000079473757e-7,
          -0.0000012091995567065084,
          -0.0000024183972773261786,
          -0.000004836787209416826,
          -0.000009673545036781306,
          -0.000019346972545353225,
          -0.00003869347498097753,
          -0.00007738506956445068,
          -0.00015476261787084056,
          -0.00030949515336498035,
          -0.0006188699984709389,
          -0.0012372589338377482,
          -0.002472594973873754,
          -0.004937509228185921,
          -0.00984438221112649,
          -0.019566909124715814,
          -0.03865186088841566,
          -0.07541875896476324,
          -0.14362753770093073,
          -0.26085849070492395,
          -0.43292934052282256,
          -0.6109560773906069,
          -0.6656224788386851,
          -0.5192610983338092,
          -0.27303537732110417,
          -0.07455418155337794,
          -0.00555832600429031,
          -0.00003089498796996988,
          -9.54500281664584e-10,
          -9.110707876977702e-19,
          -8.300499801962353e-37,
          -6.889829696237708e-73,
          -4.746975324315901e-145,
          -2.2533774729664056e-289,
          0,
          0,
          0,
          0,
          0,
          0,
          0,
          0,
          0,
          0,
          0,
          0,
          0,
          0,
          0,
          0,
          0,
          0,
          0,
          0,
          0,
          0,
          0,
          0,
          0,
          0,
          0,
          0,
          0,
          0,
          0,
          0,
          0
         ],
         "yaxis": "y"
        },
        {
         "hovertemplate": "variable=Tr<br>index=%{x}<br>value=%{y}<extra></extra>",
         "legendgroup": "Tr",
         "line": {
          "color": "#19d3f3",
          "dash": "solid"
         },
         "marker": {
          "symbol": "circle"
         },
         "mode": "lines",
         "name": "Tr",
         "showlegend": true,
         "type": "scattergl",
         "x": [
          0,
          1,
          2,
          3,
          4,
          5,
          6,
          7,
          8,
          9,
          10,
          11,
          12,
          13,
          14,
          15,
          16,
          17,
          18,
          19,
          20,
          21,
          22,
          23,
          24,
          25,
          26,
          27,
          28,
          29,
          30,
          31,
          32,
          33,
          34,
          35,
          36,
          37,
          38,
          39,
          40,
          41,
          42,
          43,
          44,
          45,
          46,
          47,
          48,
          49,
          50,
          51,
          52,
          53,
          54,
          55,
          56,
          57,
          58,
          59,
          60,
          61,
          62,
          63,
          64,
          65,
          66,
          67,
          68,
          69,
          70,
          71,
          72,
          73,
          74,
          75,
          76,
          77,
          78,
          79,
          80,
          81,
          82,
          83,
          84,
          85,
          86,
          87,
          88,
          89,
          90,
          91,
          92,
          93,
          94,
          95,
          96,
          97,
          98,
          99
         ],
         "xaxis": "x",
         "y": [
          -2.220446049250313e-16,
          0,
          -4.440892098500626e-16,
          -7.771561172376096e-16,
          -1.1102230246251565e-15,
          -2.3314683517128287e-15,
          -4.551914400963142e-15,
          -9.2148511043888e-15,
          -1.8207657603852567e-14,
          -3.6193270602780103e-14,
          -7.194245199571014e-14,
          -1.4421797089880783e-13,
          -2.8821389719269064e-13,
          -5.767608612927688e-13,
          -1.15318865567815e-12,
          -2.3067103782636877e-12,
          -4.612865645015063e-12,
          -9.2255092454252e-12,
          -1.8451240535455327e-11,
          -3.69020369817008e-11,
          -7.380396294109914e-11,
          -1.4760737077068598e-10,
          -2.952154076751867e-10,
          -5.904300381942562e-10,
          -1.1808601874108149e-9,
          -2.3617200417547224e-9,
          -4.723439750442537e-9,
          -9.446878612706655e-9,
          -1.8893757447457915e-8,
          -3.778751400673741e-8,
          -7.557502623711798e-8,
          -1.511500453688086e-7,
          -3.0230006153875166e-7,
          -6.046000083914649e-7,
          -0.0000012091995571505976,
          -0.000002418397277770268,
          -0.000004836787209971938,
          -0.000009673545037225395,
          -0.00001934697254601936,
          -0.000038693474981310594,
          -0.00007738506956478375,
          -0.00015476261787117362,
          -0.00030949515336509137,
          -0.000618869998471161,
          -0.0012372589338379703,
          -0.002472594973874087,
          -0.004937509228186143,
          -0.009844382211126934,
          -0.019566909124716148,
          -0.03865186088841588,
          -0.07541875896476358,
          -0.14362753770093128,
          -0.2608584907049242,
          -0.4329293405228229,
          -0.6109560773906072,
          -0.6656224788386853,
          -0.5192610983338094,
          -0.2730353773211043,
          -0.07455418155337795,
          -0.005558326004290312,
          -0.00003089498796996989,
          -9.545002816645841e-10,
          -9.110707876977706e-19,
          -8.300499801962357e-37,
          -6.889829696237711e-73,
          -4.7469753243159015e-145,
          -2.253377472966406e-289,
          0,
          0,
          0,
          0,
          0,
          0,
          0,
          0,
          0,
          0,
          0,
          0,
          0,
          0,
          0,
          0,
          0,
          0,
          0,
          0,
          0,
          0,
          0,
          0,
          0,
          0,
          0,
          0,
          0,
          0,
          0,
          0,
          0
         ],
         "yaxis": "y"
        },
        {
         "hovertemplate": "variable=MeTr<br>index=%{x}<br>value=%{y}<extra></extra>",
         "legendgroup": "MeTr",
         "line": {
          "color": "#FF6692",
          "dash": "solid"
         },
         "marker": {
          "symbol": "circle"
         },
         "mode": "lines",
         "name": "MeTr",
         "showlegend": true,
         "type": "scattergl",
         "x": [
          0,
          1,
          2,
          3,
          4,
          5,
          6,
          7,
          8,
          9,
          10,
          11,
          12,
          13,
          14,
          15,
          16,
          17,
          18,
          19,
          20,
          21,
          22,
          23,
          24,
          25,
          26,
          27,
          28,
          29,
          30,
          31,
          32,
          33,
          34,
          35,
          36,
          37,
          38,
          39,
          40,
          41,
          42,
          43,
          44,
          45,
          46,
          47,
          48,
          49,
          50,
          51,
          52,
          53,
          54,
          55,
          56,
          57,
          58,
          59,
          60,
          61,
          62,
          63,
          64,
          65,
          66,
          67,
          68,
          69,
          70,
          71,
          72,
          73,
          74,
          75,
          76,
          77,
          78,
          79,
          80,
          81,
          82,
          83,
          84,
          85,
          86,
          87,
          88,
          89,
          90,
          91,
          92,
          93,
          94,
          95,
          96,
          97,
          98,
          99
         ],
         "xaxis": "x",
         "y": [
          -2.220446049250313e-16,
          1.1102230246251565e-16,
          -6.661338147750939e-16,
          -5.551115123125783e-16,
          -6.661338147750939e-16,
          -2.1094237467877974e-15,
          -4.551914400963142e-15,
          -9.103828801926284e-15,
          -1.7985612998927536e-14,
          -3.608224830031759e-14,
          -7.183142969324763e-14,
          -1.4410694859634532e-13,
          -2.878808302853031e-13,
          -5.764277943853813e-13,
          -1.1530776333756876e-12,
          -2.3065993559612252e-12,
          -4.612643600410138e-12,
          -9.225398223122738e-12,
          -1.845090746854794e-11,
          -3.6901703914793416e-11,
          -7.380374089649422e-11,
          -1.4760737077068598e-10,
          -2.9521507460827934e-10,
          -5.904298161496513e-10,
          -1.180859743321605e-9,
          -2.36171948664321e-9,
          -4.7234393063533275e-9,
          -9.446878279639748e-9,
          -1.88937567813241e-8,
          -3.77875136736705e-8,
          -7.557502601507338e-8,
          -1.51150045146764e-7,
          -3.0230006142772936e-7,
          -6.046000079473757e-7,
          -0.0000012091995567065084,
          -0.0000024183972772151563,
          -0.000004836787209416826,
          -0.000009673545036781306,
          -0.000019346972545353225,
          -0.00003869347498097753,
          -0.00007738506956445068,
          -0.00015476261787084056,
          -0.00030949515336498035,
          -0.0006188699984709389,
          -0.0012372589338377482,
          -0.002472594973873754,
          -0.004937509228185921,
          -0.00984438221112649,
          -0.019566909124715814,
          -0.03865186088841566,
          -0.07541875896476324,
          -0.14362753770093073,
          -0.26085849070492395,
          -0.43292934052282256,
          -0.6109560773906069,
          -0.6656224788386851,
          -0.5192610983338092,
          -0.27303537732110417,
          -0.07455418155337794,
          -0.00555832600429031,
          -0.00003089498796996988,
          -9.54500281664584e-10,
          -9.110707876977702e-19,
          -8.300499801962353e-37,
          -6.889829696237708e-73,
          -4.746975324315901e-145,
          -2.2533774729664056e-289,
          0,
          0,
          0,
          0,
          0,
          0,
          0,
          0,
          0,
          0,
          0,
          0,
          0,
          0,
          0,
          0,
          0,
          0,
          0,
          0,
          0,
          0,
          0,
          0,
          0,
          0,
          0,
          0,
          0,
          0,
          0,
          0,
          0
         ],
         "yaxis": "y"
        },
        {
         "hovertemplate": "variable=MoTr<br>index=%{x}<br>value=%{y}<extra></extra>",
         "legendgroup": "MoTr",
         "line": {
          "color": "#B6E880",
          "dash": "solid"
         },
         "marker": {
          "symbol": "circle"
         },
         "mode": "lines",
         "name": "MoTr",
         "showlegend": true,
         "type": "scattergl",
         "x": [
          0,
          1,
          2,
          3,
          4,
          5,
          6,
          7,
          8,
          9,
          10,
          11,
          12,
          13,
          14,
          15,
          16,
          17,
          18,
          19,
          20,
          21,
          22,
          23,
          24,
          25,
          26,
          27,
          28,
          29,
          30,
          31,
          32,
          33,
          34,
          35,
          36,
          37,
          38,
          39,
          40,
          41,
          42,
          43,
          44,
          45,
          46,
          47,
          48,
          49,
          50,
          51,
          52,
          53,
          54,
          55,
          56,
          57,
          58,
          59,
          60,
          61,
          62,
          63,
          64,
          65,
          66,
          67,
          68,
          69,
          70,
          71,
          72,
          73,
          74,
          75,
          76,
          77,
          78,
          79,
          80,
          81,
          82,
          83,
          84,
          85,
          86,
          87,
          88,
          89,
          90,
          91,
          92,
          93,
          94,
          95,
          96,
          97,
          98,
          99
         ],
         "xaxis": "x",
         "y": [
          0,
          1.1102230246251565e-16,
          -1.1102230246251565e-16,
          -4.440892098500626e-16,
          -1.2212453270876722e-15,
          -2.3314683517128287e-15,
          -4.551914400963142e-15,
          -9.2148511043888e-15,
          -1.8207657603852567e-14,
          -3.6193270602780103e-14,
          -7.194245199571014e-14,
          -1.4421797089880783e-13,
          -2.8821389719269064e-13,
          -5.767608612927688e-13,
          -1.15318865567815e-12,
          -2.3067103782636877e-12,
          -4.612865645015063e-12,
          -9.2255092454252e-12,
          -1.8451240535455327e-11,
          -3.69020369817008e-11,
          -7.380396294109914e-11,
          -1.4760737077068598e-10,
          -2.952154076751867e-10,
          -5.904300381942562e-10,
          -1.1808601874108149e-9,
          -2.3617200417547224e-9,
          -4.723439750442537e-9,
          -9.446878612706655e-9,
          -1.8893757447457915e-8,
          -3.778751400673741e-8,
          -7.557502623711798e-8,
          -1.511500453688086e-7,
          -3.0230006153875166e-7,
          -6.046000083914649e-7,
          -0.0000012091995571505976,
          -0.000002418397277770268,
          -0.000004836787209971938,
          -0.000009673545037225395,
          -0.00001934697254601936,
          -0.000038693474981310594,
          -0.00007738506956478375,
          -0.00015476261787117362,
          -0.00030949515336509137,
          -0.000618869998471161,
          -0.0012372589338379703,
          -0.002472594973874087,
          -0.004937509228186143,
          -0.009844382211126934,
          -0.019566909124716148,
          -0.03865186088841588,
          -0.07541875896476358,
          -0.14362753770093128,
          -0.2608584907049242,
          -0.4329293405228229,
          -0.6109560773906072,
          -0.6656224788386853,
          -0.5192610983338094,
          -0.2730353773211043,
          -0.07455418155337795,
          -0.005558326004290312,
          -0.00003089498796996989,
          -9.545002816645841e-10,
          -9.110707876977706e-19,
          -8.300499801962357e-37,
          -6.889829696237711e-73,
          -4.7469753243159015e-145,
          -2.253377472966406e-289,
          0,
          0,
          0,
          0,
          0,
          0,
          0,
          0,
          0,
          0,
          0,
          0,
          0,
          0,
          0,
          0,
          0,
          0,
          0,
          0,
          0,
          0,
          0,
          0,
          0,
          0,
          0,
          0,
          0,
          0,
          0,
          0,
          0
         ],
         "yaxis": "y"
        },
        {
         "hovertemplate": "variable=RiRi<br>index=%{x}<br>value=%{y}<extra></extra>",
         "legendgroup": "RiRi",
         "line": {
          "color": "#FF97FF",
          "dash": "solid"
         },
         "marker": {
          "symbol": "circle"
         },
         "mode": "lines",
         "name": "RiRi",
         "showlegend": true,
         "type": "scattergl",
         "x": [
          0,
          1,
          2,
          3,
          4,
          5,
          6,
          7,
          8,
          9,
          10,
          11,
          12,
          13,
          14,
          15,
          16,
          17,
          18,
          19,
          20,
          21,
          22,
          23,
          24,
          25,
          26,
          27,
          28,
          29,
          30,
          31,
          32,
          33,
          34,
          35,
          36,
          37,
          38,
          39,
          40,
          41,
          42,
          43,
          44,
          45,
          46,
          47,
          48,
          49,
          50,
          51,
          52,
          53,
          54,
          55,
          56,
          57,
          58,
          59,
          60,
          61,
          62,
          63,
          64,
          65,
          66,
          67,
          68,
          69,
          70,
          71,
          72,
          73,
          74,
          75,
          76,
          77,
          78,
          79,
          80,
          81,
          82,
          83,
          84,
          85,
          86,
          87,
          88,
          89,
          90,
          91,
          92,
          93,
          94,
          95,
          96,
          97,
          98,
          99
         ],
         "xaxis": "x",
         "y": [
          -1.1102230246251565e-16,
          -3.3306690738754696e-16,
          -4.440892098500626e-16,
          -6.661338147750939e-16,
          -1.3322676295501878e-15,
          -2.3314683517128287e-15,
          -4.884981308350689e-15,
          -9.325873406851315e-15,
          -1.8207657603852567e-14,
          -3.630429290524262e-14,
          -7.216449660063518e-14,
          -1.4444001550373287e-13,
          -2.8843594179761567e-13,
          -5.769829058976939e-13,
          -1.1532996779806126e-12,
          -2.3067103782636877e-12,
          -4.612865645015063e-12,
          -9.2255092454252e-12,
          -1.8451240535455327e-11,
          -3.69020369817008e-11,
          -7.380418498570407e-11,
          -1.4760737077068598e-10,
          -2.952154076751867e-10,
          -5.904300381942562e-10,
          -1.1808601874108149e-9,
          -2.3617200417547224e-9,
          -4.723439750442537e-9,
          -9.446878723728958e-9,
          -1.8893757447457915e-8,
          -3.778751400673741e-8,
          -7.557502623711798e-8,
          -1.511500453688086e-7,
          -3.0230006153875166e-7,
          -6.046000085024872e-7,
          -0.0000012091995571505976,
          -0.000002418397277770268,
          -0.000004836787209971938,
          -0.000009673545037225395,
          -0.00001934697254601936,
          -0.000038693474981310594,
          -0.00007738506956489477,
          -0.00015476261787117362,
          -0.00030949515336509137,
          -0.000618869998471272,
          -0.0012372589338381923,
          -0.002472594973874309,
          -0.004937509228186365,
          -0.009844382211127045,
          -0.01956690912471637,
          -0.0386518608884161,
          -0.07541875896476369,
          -0.1436275377009315,
          -0.2608584907049243,
          -0.43292934052282295,
          -0.6109560773906073,
          -0.6656224788386853,
          -0.5192610983338094,
          -0.2730353773211043,
          -0.07455418155337795,
          -0.005558326004290312,
          -0.00003089498796996989,
          -9.545002816645841e-10,
          -9.110707876977706e-19,
          -8.300499801962357e-37,
          -6.889829696237711e-73,
          -4.7469753243159015e-145,
          -2.253377472966406e-289,
          0,
          0,
          0,
          0,
          0,
          0,
          0,
          0,
          0,
          0,
          0,
          0,
          0,
          0,
          0,
          0,
          0,
          0,
          0,
          0,
          0,
          0,
          0,
          0,
          0,
          0,
          0,
          0,
          0,
          0,
          0,
          0,
          0
         ],
         "yaxis": "y"
        },
        {
         "hovertemplate": "variable=MoFo<br>index=%{x}<br>value=%{y}<extra></extra>",
         "legendgroup": "MoFo",
         "line": {
          "color": "#FECB52",
          "dash": "solid"
         },
         "marker": {
          "symbol": "circle"
         },
         "mode": "lines",
         "name": "MoFo",
         "showlegend": true,
         "type": "scattergl",
         "x": [
          0,
          1,
          2,
          3,
          4,
          5,
          6,
          7,
          8,
          9,
          10,
          11,
          12,
          13,
          14,
          15,
          16,
          17,
          18,
          19,
          20,
          21,
          22,
          23,
          24,
          25,
          26,
          27,
          28,
          29,
          30,
          31,
          32,
          33,
          34,
          35,
          36,
          37,
          38,
          39,
          40,
          41,
          42,
          43,
          44,
          45,
          46,
          47,
          48,
          49,
          50,
          51,
          52,
          53,
          54,
          55,
          56,
          57,
          58,
          59,
          60,
          61,
          62,
          63,
          64,
          65,
          66,
          67,
          68,
          69,
          70,
          71,
          72,
          73,
          74,
          75,
          76,
          77,
          78,
          79,
          80,
          81,
          82,
          83,
          84,
          85,
          86,
          87,
          88,
          89,
          90,
          91,
          92,
          93,
          94,
          95,
          96,
          97,
          98,
          99
         ],
         "xaxis": "x",
         "y": [
          -1.1102230246251565e-16,
          -2.220446049250313e-16,
          -5.551115123125783e-16,
          -7.771561172376096e-16,
          -1.2212453270876722e-15,
          -2.3314683517128287e-15,
          -4.773959005888173e-15,
          -9.2148511043888e-15,
          -1.8207657603852567e-14,
          -3.6193270602780103e-14,
          -7.194245199571014e-14,
          -1.4444001550373287e-13,
          -2.8843594179761567e-13,
          -5.767608612927688e-13,
          -1.15318865567815e-12,
          -2.3067103782636877e-12,
          -4.612865645015063e-12,
          -9.2255092454252e-12,
          -1.8451240535455327e-11,
          -3.69020369817008e-11,
          -7.380418498570407e-11,
          -1.4760737077068598e-10,
          -2.952154076751867e-10,
          -5.904300381942562e-10,
          -1.1808601874108149e-9,
          -2.3617200417547224e-9,
          -4.723439750442537e-9,
          -9.446878723728958e-9,
          -1.8893757447457915e-8,
          -3.778751400673741e-8,
          -7.557502623711798e-8,
          -1.511500453688086e-7,
          -3.0230006153875166e-7,
          -6.046000085024872e-7,
          -0.0000012091995571505976,
          -0.000002418397277770268,
          -0.000004836787209971938,
          -0.000009673545037225395,
          -0.00001934697254601936,
          -0.000038693474981310594,
          -0.00007738506956489477,
          -0.00015476261787117362,
          -0.00030949515336509137,
          -0.000618869998471272,
          -0.0012372589338381923,
          -0.002472594973874309,
          -0.004937509228186365,
          -0.009844382211127045,
          -0.01956690912471637,
          -0.0386518608884161,
          -0.07541875896476369,
          -0.1436275377009315,
          -0.2608584907049243,
          -0.43292934052282295,
          -0.6109560773906073,
          -0.6656224788386853,
          -0.5192610983338094,
          -0.2730353773211043,
          -0.07455418155337795,
          -0.005558326004290312,
          -0.00003089498796996989,
          -9.545002816645841e-10,
          -9.110707876977706e-19,
          -8.300499801962357e-37,
          -6.889829696237711e-73,
          -4.7469753243159015e-145,
          -2.253377472966406e-289,
          0,
          0,
          0,
          0,
          0,
          0,
          0,
          0,
          0,
          0,
          0,
          0,
          0,
          0,
          0,
          0,
          0,
          0,
          0,
          0,
          0,
          0,
          0,
          0,
          0,
          0,
          0,
          0,
          0,
          0,
          0,
          0,
          0
         ],
         "yaxis": "y"
        },
        {
         "hovertemplate": "variable=Mmof<br>index=%{x}<br>value=%{y}<extra></extra>",
         "legendgroup": "Mmof",
         "line": {
          "color": "#636efa",
          "dash": "solid"
         },
         "marker": {
          "symbol": "circle"
         },
         "mode": "lines",
         "name": "Mmof",
         "showlegend": true,
         "type": "scattergl",
         "x": [
          0,
          1,
          2,
          3,
          4,
          5,
          6,
          7,
          8,
          9,
          10,
          11,
          12,
          13,
          14,
          15,
          16,
          17,
          18,
          19,
          20,
          21,
          22,
          23,
          24,
          25,
          26,
          27,
          28,
          29,
          30,
          31,
          32,
          33,
          34,
          35,
          36,
          37,
          38,
          39,
          40,
          41,
          42,
          43,
          44,
          45,
          46,
          47,
          48,
          49,
          50,
          51,
          52,
          53,
          54,
          55,
          56,
          57,
          58,
          59,
          60,
          61,
          62,
          63,
          64,
          65,
          66,
          67,
          68,
          69,
          70,
          71,
          72,
          73,
          74,
          75,
          76,
          77,
          78,
          79,
          80,
          81,
          82,
          83,
          84,
          85,
          86,
          87,
          88,
          89,
          90,
          91,
          92,
          93,
          94,
          95,
          96,
          97,
          98,
          99
         ],
         "xaxis": "x",
         "y": [
          0,
          -1.1102230246251565e-16,
          -4.440892098500626e-16,
          -4.440892098500626e-16,
          -7.771561172376096e-16,
          -1.9984014443252818e-15,
          -4.440892098500626e-15,
          -8.992806499463768e-15,
          -1.787459069646502e-14,
          -3.5638159090467525e-14,
          -7.183142969324763e-14,
          -1.439959262938828e-13,
          -2.877698079828406e-13,
          -5.764277943853813e-13,
          -1.1528555887707626e-12,
          -2.3062662890538377e-12,
          -4.61231053350275e-12,
          -9.22506515621535e-12,
          -1.8450796446245477e-11,
          -3.690159289249095e-11,
          -7.380340782958683e-11,
          -1.4760714872608105e-10,
          -2.95214519496767e-10,
          -5.904295941050464e-10,
          -1.1808595212770001e-9,
          -2.3617190425540002e-9,
          -4.723438751241815e-9,
          -9.446878057595143e-9,
          -1.8893756670301798e-8,
          -3.7787513340603596e-8,
          -7.557502568200647e-8,
          -1.511500447026748e-7,
          -3.0230006098364015e-7,
          -6.046000077253311e-7,
          -0.0000012091995564844638,
          -0.0000024183972769931117,
          -0.000004836787209194782,
          -0.000009673545036559261,
          -0.000019346972544909136,
          -0.000038693474980866505,
          -0.00007738506956433966,
          -0.00015476261787084056,
          -0.0003094951533648693,
          -0.0006188699984708279,
          -0.0012372589338376372,
          -0.002472594973873532,
          -0.004937509228185699,
          -0.00984438221112649,
          -0.019566909124715814,
          -0.038651860888415546,
          -0.07541875896476302,
          -0.1436275377009305,
          -0.26085849070492384,
          -0.43292934052282256,
          -0.6109560773906069,
          -0.6656224788386851,
          -0.5192610983338092,
          -0.27303537732110417,
          -0.07455418155337794,
          -0.00555832600429031,
          -0.00003089498796996988,
          -9.54500281664584e-10,
          -9.110707876977702e-19,
          -8.300499801962353e-37,
          -6.889829696237708e-73,
          -4.746975324315901e-145,
          -2.2533774729664056e-289,
          0,
          0,
          0,
          0,
          0,
          0,
          0,
          0,
          0,
          0,
          0,
          0,
          0,
          0,
          0,
          0,
          0,
          0,
          0,
          0,
          0,
          0,
          0,
          0,
          0,
          0,
          0,
          0,
          0,
          0,
          0,
          0,
          0
         ],
         "yaxis": "y"
        },
        {
         "hovertemplate": "variable=MoRi<br>index=%{x}<br>value=%{y}<extra></extra>",
         "legendgroup": "MoRi",
         "line": {
          "color": "#EF553B",
          "dash": "solid"
         },
         "marker": {
          "symbol": "circle"
         },
         "mode": "lines",
         "name": "MoRi",
         "showlegend": true,
         "type": "scattergl",
         "x": [
          0,
          1,
          2,
          3,
          4,
          5,
          6,
          7,
          8,
          9,
          10,
          11,
          12,
          13,
          14,
          15,
          16,
          17,
          18,
          19,
          20,
          21,
          22,
          23,
          24,
          25,
          26,
          27,
          28,
          29,
          30,
          31,
          32,
          33,
          34,
          35,
          36,
          37,
          38,
          39,
          40,
          41,
          42,
          43,
          44,
          45,
          46,
          47,
          48,
          49,
          50,
          51,
          52,
          53,
          54,
          55,
          56,
          57,
          58,
          59,
          60,
          61,
          62,
          63,
          64,
          65,
          66,
          67,
          68,
          69,
          70,
          71,
          72,
          73,
          74,
          75,
          76,
          77,
          78,
          79,
          80,
          81,
          82,
          83,
          84,
          85,
          86,
          87,
          88,
          89,
          90,
          91,
          92,
          93,
          94,
          95,
          96,
          97,
          98,
          99
         ],
         "xaxis": "x",
         "y": [
          0,
          -2.220446049250313e-16,
          -2.220446049250313e-16,
          -4.440892098500626e-16,
          -1.4432899320127035e-15,
          -2.4424906541753444e-15,
          -4.6629367034256575e-15,
          -9.2148511043888e-15,
          -1.8207657603852567e-14,
          -3.6193270602780103e-14,
          -7.194245199571014e-14,
          -1.4421797089880783e-13,
          -2.8843594179761567e-13,
          -5.767608612927688e-13,
          -1.15318865567815e-12,
          -2.3067103782636877e-12,
          -4.612865645015063e-12,
          -9.2255092454252e-12,
          -1.8451240535455327e-11,
          -3.69020369817008e-11,
          -7.380418498570407e-11,
          -1.4760737077068598e-10,
          -2.952154076751867e-10,
          -5.904300381942562e-10,
          -1.1808601874108149e-9,
          -2.3617200417547224e-9,
          -4.723439750442537e-9,
          -9.446878723728958e-9,
          -1.8893757447457915e-8,
          -3.778751400673741e-8,
          -7.557502623711798e-8,
          -1.511500453688086e-7,
          -3.0230006153875166e-7,
          -6.046000085024872e-7,
          -0.0000012091995571505976,
          -0.000002418397277770268,
          -0.000004836787209971938,
          -0.000009673545037225395,
          -0.00001934697254601936,
          -0.000038693474981310594,
          -0.00007738506956489477,
          -0.00015476261787117362,
          -0.00030949515336509137,
          -0.000618869998471272,
          -0.0012372589338381923,
          -0.002472594973874309,
          -0.004937509228186365,
          -0.009844382211127045,
          -0.01956690912471637,
          -0.0386518608884161,
          -0.07541875896476369,
          -0.1436275377009315,
          -0.2608584907049243,
          -0.43292934052282295,
          -0.6109560773906073,
          -0.6656224788386853,
          -0.5192610983338094,
          -0.2730353773211043,
          -0.07455418155337795,
          -0.005558326004290312,
          -0.00003089498796996989,
          -9.545002816645841e-10,
          -9.110707876977706e-19,
          -8.300499801962357e-37,
          -6.889829696237711e-73,
          -4.7469753243159015e-145,
          -2.253377472966406e-289,
          0,
          0,
          0,
          0,
          0,
          0,
          0,
          0,
          0,
          0,
          0,
          0,
          0,
          0,
          0,
          0,
          0,
          0,
          0,
          0,
          0,
          0,
          0,
          0,
          0,
          0,
          0,
          0,
          0,
          0,
          0,
          0,
          0
         ],
         "yaxis": "y"
        },
        {
         "hovertemplate": "variable=MeRi<br>index=%{x}<br>value=%{y}<extra></extra>",
         "legendgroup": "MeRi",
         "line": {
          "color": "#00cc96",
          "dash": "solid"
         },
         "marker": {
          "symbol": "circle"
         },
         "mode": "lines",
         "name": "MeRi",
         "showlegend": true,
         "type": "scattergl",
         "x": [
          0,
          1,
          2,
          3,
          4,
          5,
          6,
          7,
          8,
          9,
          10,
          11,
          12,
          13,
          14,
          15,
          16,
          17,
          18,
          19,
          20,
          21,
          22,
          23,
          24,
          25,
          26,
          27,
          28,
          29,
          30,
          31,
          32,
          33,
          34,
          35,
          36,
          37,
          38,
          39,
          40,
          41,
          42,
          43,
          44,
          45,
          46,
          47,
          48,
          49,
          50,
          51,
          52,
          53,
          54,
          55,
          56,
          57,
          58,
          59,
          60,
          61,
          62,
          63,
          64,
          65,
          66,
          67,
          68,
          69,
          70,
          71,
          72,
          73,
          74,
          75,
          76,
          77,
          78,
          79,
          80,
          81,
          82,
          83,
          84,
          85,
          86,
          87,
          88,
          89,
          90,
          91,
          92,
          93,
          94,
          95,
          96,
          97,
          98,
          99
         ],
         "xaxis": "x",
         "y": [
          0,
          -2.220446049250313e-16,
          -4.440892098500626e-16,
          -3.3306690738754696e-16,
          -7.771561172376096e-16,
          -2.220446049250313e-15,
          -4.440892098500626e-15,
          -8.770761894538737e-15,
          -1.7763568394002505e-14,
          -3.5860203695392556e-14,
          -7.183142969324763e-14,
          -1.4421797089880783e-13,
          -2.8821389719269064e-13,
          -5.765388166878438e-13,
          -1.152966611073225e-12,
          -2.3063773113563e-12,
          -4.612532578107675e-12,
          -9.225287200820276e-12,
          -1.84510184908504e-11,
          -3.690181493709588e-11,
          -7.380385191879668e-11,
          -1.476072597483835e-10,
          -2.952148525636744e-10,
          -5.904297051273488e-10,
          -1.1808598543439075e-9,
          -2.3617195976655125e-9,
          -4.723438862264118e-9,
          -9.446878279639748e-9,
          -1.8893757003368705e-8,
          -3.77875136736705e-8,
          -7.557502590405107e-8,
          -1.511500448136971e-7,
          -3.0230006109466245e-7,
          -6.046000079473757e-7,
          -0.000001209199556928553,
          -0.0000024183972773261786,
          -0.000004836787209638871,
          -0.000009673545036670284,
          -0.000019346972545353225,
          -0.00003869347498075548,
          -0.0000773850695645617,
          -0.00015476261787084056,
          -0.00030949515336498035,
          -0.0006188699984709389,
          -0.0012372589338377482,
          -0.002472594973873865,
          -0.004937509228185921,
          -0.009844382211126823,
          -0.019566909124716148,
          -0.03865186088841588,
          -0.07541875896476335,
          -0.14362753770093106,
          -0.2608584907049244,
          -0.4329293405228229,
          -0.6109560773906072,
          -0.6656224788386853,
          -0.5192610983338094,
          -0.2730353773211043,
          -0.07455418155337795,
          -0.005558326004290312,
          -0.00003089498796996989,
          -9.545002816645841e-10,
          -9.110707876977706e-19,
          -8.300499801962357e-37,
          -6.889829696237711e-73,
          -4.7469753243159015e-145,
          -2.253377472966406e-289,
          0,
          0,
          0,
          0,
          0,
          0,
          0,
          0,
          0,
          0,
          0,
          0,
          0,
          0,
          0,
          0,
          0,
          0,
          0,
          0,
          0,
          0,
          0,
          0,
          0,
          0,
          0,
          0,
          0,
          0,
          0,
          0,
          0
         ],
         "yaxis": "y"
        },
        {
         "hovertemplate": "variable=Ri<br>index=%{x}<br>value=%{y}<extra></extra>",
         "legendgroup": "Ri",
         "line": {
          "color": "#ab63fa",
          "dash": "solid"
         },
         "marker": {
          "symbol": "circle"
         },
         "mode": "lines",
         "name": "Ri",
         "showlegend": true,
         "type": "scattergl",
         "x": [
          0,
          1,
          2,
          3,
          4,
          5,
          6,
          7,
          8,
          9,
          10,
          11,
          12,
          13,
          14,
          15,
          16,
          17,
          18,
          19,
          20,
          21,
          22,
          23,
          24,
          25,
          26,
          27,
          28,
          29,
          30,
          31,
          32,
          33,
          34,
          35,
          36,
          37,
          38,
          39,
          40,
          41,
          42,
          43,
          44,
          45,
          46,
          47,
          48,
          49,
          50,
          51,
          52,
          53,
          54,
          55,
          56,
          57,
          58,
          59,
          60,
          61,
          62,
          63,
          64,
          65,
          66,
          67,
          68,
          69,
          70,
          71,
          72,
          73,
          74,
          75,
          76,
          77,
          78,
          79,
          80,
          81,
          82,
          83,
          84,
          85,
          86,
          87,
          88,
          89,
          90,
          91,
          92,
          93,
          94,
          95,
          96,
          97,
          98,
          99
         ],
         "xaxis": "x",
         "y": [
          0,
          0,
          -2.220446049250313e-16,
          -6.661338147750939e-16,
          -1.2212453270876722e-15,
          -2.6645352591003757e-15,
          -4.6629367034256575e-15,
          -8.881784197001252e-15,
          -1.8207657603852567e-14,
          -3.608224830031759e-14,
          -7.249756350802272e-14,
          -1.4432899320127035e-13,
          -2.8832491949515315e-13,
          -5.768718835952313e-13,
          -1.1535217225855376e-12,
          -2.3067103782636877e-12,
          -4.6127546227126e-12,
          -9.2255092454252e-12,
          -1.845135155775779e-11,
          -3.69020369817008e-11,
          -7.38040739634016e-11,
          -1.4760781485989583e-10,
          -2.9521507460827934e-10,
          -5.904301492165587e-10,
          -1.1808601874108149e-9,
          -2.3617195976655125e-9,
          -4.72343897328642e-9,
          -9.446878279639748e-9,
          -1.8893757114391008e-8,
          -3.77875136736705e-8,
          -7.557502590405107e-8,
          -1.511500448136971e-7,
          -3.0230006109466245e-7,
          -6.046000079473757e-7,
          -0.000001209199556928553,
          -0.0000024183972773261786,
          -0.000004836787209638871,
          -0.000009673545036781306,
          -0.000019346972545353225,
          -0.00003869347498108855,
          -0.00007738506956467273,
          -0.00015476261787084056,
          -0.00030949515336498035,
          -0.0006188699984709389,
          -0.0012372589338377482,
          -0.002472594973873865,
          -0.004937509228185921,
          -0.009844382211126823,
          -0.019566909124716148,
          -0.03865186088841588,
          -0.07541875896476335,
          -0.14362753770093106,
          -0.2608584907049244,
          -0.4329293405228229,
          -0.6109560773906072,
          -0.6656224788386853,
          -0.5192610983338094,
          -0.2730353773211043,
          -0.07455418155337795,
          -0.005558326004290312,
          -0.00003089498796996989,
          -9.545002816645841e-10,
          -9.110707876977706e-19,
          -8.300499801962357e-37,
          -6.889829696237711e-73,
          -4.7469753243159015e-145,
          -2.253377472966406e-289,
          0,
          0,
          0,
          0,
          0,
          0,
          0,
          0,
          0,
          0,
          0,
          0,
          0,
          0,
          0,
          0,
          0,
          0,
          0,
          0,
          0,
          0,
          0,
          0,
          0,
          0,
          0,
          0,
          0,
          0,
          0,
          0,
          0
         ],
         "yaxis": "y"
        },
        {
         "hovertemplate": "variable=Comp<br>index=%{x}<br>value=%{y}<extra></extra>",
         "legendgroup": "Comp",
         "line": {
          "color": "#FFA15A",
          "dash": "solid"
         },
         "marker": {
          "symbol": "circle"
         },
         "mode": "lines",
         "name": "Comp",
         "showlegend": true,
         "type": "scattergl",
         "x": [
          0,
          1,
          2,
          3,
          4,
          5,
          6,
          7,
          8,
          9,
          10,
          11,
          12,
          13,
          14,
          15,
          16,
          17,
          18,
          19,
          20,
          21,
          22,
          23,
          24,
          25,
          26,
          27,
          28,
          29,
          30,
          31,
          32,
          33,
          34,
          35,
          36,
          37,
          38,
          39,
          40,
          41,
          42,
          43,
          44,
          45,
          46,
          47,
          48,
          49,
          50,
          51,
          52,
          53,
          54,
          55,
          56,
          57,
          58,
          59,
          60,
          61,
          62,
          63,
          64,
          65,
          66,
          67,
          68,
          69,
          70,
          71,
          72,
          73,
          74,
          75,
          76,
          77,
          78,
          79,
          80,
          81,
          82,
          83,
          84,
          85,
          86,
          87,
          88,
          89,
          90,
          91,
          92,
          93,
          94,
          95,
          96,
          97,
          98,
          99
         ],
         "xaxis": "x",
         "y": [
          0,
          0,
          -4.440892098500626e-16,
          -4.440892098500626e-16,
          -1.1102230246251565e-15,
          -2.4424906541753444e-15,
          -4.551914400963142e-15,
          -8.881784197001252e-15,
          -1.7985612998927536e-14,
          -3.5860203695392556e-14,
          -7.205347429817266e-14,
          -1.4410694859634532e-13,
          -2.881028748902281e-13,
          -5.766498389903063e-13,
          -1.1528555887707626e-12,
          -2.3062662890538377e-12,
          -4.612532578107675e-12,
          -9.225176178517813e-12,
          -1.845090746854794e-11,
          -3.6901703914793416e-11,
          -7.38035188518893e-11,
          -1.4760714872608105e-10,
          -2.952146305190695e-10,
          -5.904295941050464e-10,
          -1.1808595212770001e-9,
          -2.361719264598605e-9,
          -4.723438862264118e-9,
          -9.446878279639748e-9,
          -1.88937567813241e-8,
          -3.77875136736705e-8,
          -7.557502590405107e-8,
          -1.511500448136971e-7,
          -3.0230006109466245e-7,
          -6.046000079473757e-7,
          -0.000001209199556928553,
          -0.0000024183972773261786,
          -0.000004836787209638871,
          -0.000009673545036670284,
          -0.000019346972545353225,
          -0.00003869347498075548,
          -0.0000773850695645617,
          -0.00015476261787084056,
          -0.00030949515336498035,
          -0.0006188699984709389,
          -0.0012372589338377482,
          -0.002472594973873865,
          -0.004937509228185921,
          -0.009844382211126823,
          -0.019566909124716148,
          -0.03865186088841588,
          -0.07541875896476335,
          -0.14362753770093106,
          -0.2608584907049244,
          -0.4329293405228229,
          -0.6109560773906072,
          -0.6656224788386853,
          -0.5192610983338094,
          -0.2730353773211043,
          -0.07455418155337795,
          -0.005558326004290312,
          -0.00003089498796996989,
          -9.545002816645841e-10,
          -9.110707876977706e-19,
          -8.300499801962357e-37,
          -6.889829696237711e-73,
          -4.7469753243159015e-145,
          -2.253377472966406e-289,
          0,
          0,
          0,
          0,
          0,
          0,
          0,
          0,
          0,
          0,
          0,
          0,
          0,
          0,
          0,
          0,
          0,
          0,
          0,
          0,
          0,
          0,
          0,
          0,
          0,
          0,
          0,
          0,
          0,
          0,
          0,
          0,
          0
         ],
         "yaxis": "y"
        }
       ],
       "layout": {
        "legend": {
         "title": {
          "text": "variable"
         },
         "tracegroupgap": 0
        },
        "template": {
         "data": {
          "bar": [
           {
            "error_x": {
             "color": "#2a3f5f"
            },
            "error_y": {
             "color": "#2a3f5f"
            },
            "marker": {
             "line": {
              "color": "#E5ECF6",
              "width": 0.5
             },
             "pattern": {
              "fillmode": "overlay",
              "size": 10,
              "solidity": 0.2
             }
            },
            "type": "bar"
           }
          ],
          "barpolar": [
           {
            "marker": {
             "line": {
              "color": "#E5ECF6",
              "width": 0.5
             },
             "pattern": {
              "fillmode": "overlay",
              "size": 10,
              "solidity": 0.2
             }
            },
            "type": "barpolar"
           }
          ],
          "carpet": [
           {
            "aaxis": {
             "endlinecolor": "#2a3f5f",
             "gridcolor": "white",
             "linecolor": "white",
             "minorgridcolor": "white",
             "startlinecolor": "#2a3f5f"
            },
            "baxis": {
             "endlinecolor": "#2a3f5f",
             "gridcolor": "white",
             "linecolor": "white",
             "minorgridcolor": "white",
             "startlinecolor": "#2a3f5f"
            },
            "type": "carpet"
           }
          ],
          "choropleth": [
           {
            "colorbar": {
             "outlinewidth": 0,
             "ticks": ""
            },
            "type": "choropleth"
           }
          ],
          "contour": [
           {
            "colorbar": {
             "outlinewidth": 0,
             "ticks": ""
            },
            "colorscale": [
             [
              0,
              "#0d0887"
             ],
             [
              0.1111111111111111,
              "#46039f"
             ],
             [
              0.2222222222222222,
              "#7201a8"
             ],
             [
              0.3333333333333333,
              "#9c179e"
             ],
             [
              0.4444444444444444,
              "#bd3786"
             ],
             [
              0.5555555555555556,
              "#d8576b"
             ],
             [
              0.6666666666666666,
              "#ed7953"
             ],
             [
              0.7777777777777778,
              "#fb9f3a"
             ],
             [
              0.8888888888888888,
              "#fdca26"
             ],
             [
              1,
              "#f0f921"
             ]
            ],
            "type": "contour"
           }
          ],
          "contourcarpet": [
           {
            "colorbar": {
             "outlinewidth": 0,
             "ticks": ""
            },
            "type": "contourcarpet"
           }
          ],
          "heatmap": [
           {
            "colorbar": {
             "outlinewidth": 0,
             "ticks": ""
            },
            "colorscale": [
             [
              0,
              "#0d0887"
             ],
             [
              0.1111111111111111,
              "#46039f"
             ],
             [
              0.2222222222222222,
              "#7201a8"
             ],
             [
              0.3333333333333333,
              "#9c179e"
             ],
             [
              0.4444444444444444,
              "#bd3786"
             ],
             [
              0.5555555555555556,
              "#d8576b"
             ],
             [
              0.6666666666666666,
              "#ed7953"
             ],
             [
              0.7777777777777778,
              "#fb9f3a"
             ],
             [
              0.8888888888888888,
              "#fdca26"
             ],
             [
              1,
              "#f0f921"
             ]
            ],
            "type": "heatmap"
           }
          ],
          "heatmapgl": [
           {
            "colorbar": {
             "outlinewidth": 0,
             "ticks": ""
            },
            "colorscale": [
             [
              0,
              "#0d0887"
             ],
             [
              0.1111111111111111,
              "#46039f"
             ],
             [
              0.2222222222222222,
              "#7201a8"
             ],
             [
              0.3333333333333333,
              "#9c179e"
             ],
             [
              0.4444444444444444,
              "#bd3786"
             ],
             [
              0.5555555555555556,
              "#d8576b"
             ],
             [
              0.6666666666666666,
              "#ed7953"
             ],
             [
              0.7777777777777778,
              "#fb9f3a"
             ],
             [
              0.8888888888888888,
              "#fdca26"
             ],
             [
              1,
              "#f0f921"
             ]
            ],
            "type": "heatmapgl"
           }
          ],
          "histogram": [
           {
            "marker": {
             "pattern": {
              "fillmode": "overlay",
              "size": 10,
              "solidity": 0.2
             }
            },
            "type": "histogram"
           }
          ],
          "histogram2d": [
           {
            "colorbar": {
             "outlinewidth": 0,
             "ticks": ""
            },
            "colorscale": [
             [
              0,
              "#0d0887"
             ],
             [
              0.1111111111111111,
              "#46039f"
             ],
             [
              0.2222222222222222,
              "#7201a8"
             ],
             [
              0.3333333333333333,
              "#9c179e"
             ],
             [
              0.4444444444444444,
              "#bd3786"
             ],
             [
              0.5555555555555556,
              "#d8576b"
             ],
             [
              0.6666666666666666,
              "#ed7953"
             ],
             [
              0.7777777777777778,
              "#fb9f3a"
             ],
             [
              0.8888888888888888,
              "#fdca26"
             ],
             [
              1,
              "#f0f921"
             ]
            ],
            "type": "histogram2d"
           }
          ],
          "histogram2dcontour": [
           {
            "colorbar": {
             "outlinewidth": 0,
             "ticks": ""
            },
            "colorscale": [
             [
              0,
              "#0d0887"
             ],
             [
              0.1111111111111111,
              "#46039f"
             ],
             [
              0.2222222222222222,
              "#7201a8"
             ],
             [
              0.3333333333333333,
              "#9c179e"
             ],
             [
              0.4444444444444444,
              "#bd3786"
             ],
             [
              0.5555555555555556,
              "#d8576b"
             ],
             [
              0.6666666666666666,
              "#ed7953"
             ],
             [
              0.7777777777777778,
              "#fb9f3a"
             ],
             [
              0.8888888888888888,
              "#fdca26"
             ],
             [
              1,
              "#f0f921"
             ]
            ],
            "type": "histogram2dcontour"
           }
          ],
          "mesh3d": [
           {
            "colorbar": {
             "outlinewidth": 0,
             "ticks": ""
            },
            "type": "mesh3d"
           }
          ],
          "parcoords": [
           {
            "line": {
             "colorbar": {
              "outlinewidth": 0,
              "ticks": ""
             }
            },
            "type": "parcoords"
           }
          ],
          "pie": [
           {
            "automargin": true,
            "type": "pie"
           }
          ],
          "scatter": [
           {
            "fillpattern": {
             "fillmode": "overlay",
             "size": 10,
             "solidity": 0.2
            },
            "type": "scatter"
           }
          ],
          "scatter3d": [
           {
            "line": {
             "colorbar": {
              "outlinewidth": 0,
              "ticks": ""
             }
            },
            "marker": {
             "colorbar": {
              "outlinewidth": 0,
              "ticks": ""
             }
            },
            "type": "scatter3d"
           }
          ],
          "scattercarpet": [
           {
            "marker": {
             "colorbar": {
              "outlinewidth": 0,
              "ticks": ""
             }
            },
            "type": "scattercarpet"
           }
          ],
          "scattergeo": [
           {
            "marker": {
             "colorbar": {
              "outlinewidth": 0,
              "ticks": ""
             }
            },
            "type": "scattergeo"
           }
          ],
          "scattergl": [
           {
            "marker": {
             "colorbar": {
              "outlinewidth": 0,
              "ticks": ""
             }
            },
            "type": "scattergl"
           }
          ],
          "scattermapbox": [
           {
            "marker": {
             "colorbar": {
              "outlinewidth": 0,
              "ticks": ""
             }
            },
            "type": "scattermapbox"
           }
          ],
          "scatterpolar": [
           {
            "marker": {
             "colorbar": {
              "outlinewidth": 0,
              "ticks": ""
             }
            },
            "type": "scatterpolar"
           }
          ],
          "scatterpolargl": [
           {
            "marker": {
             "colorbar": {
              "outlinewidth": 0,
              "ticks": ""
             }
            },
            "type": "scatterpolargl"
           }
          ],
          "scatterternary": [
           {
            "marker": {
             "colorbar": {
              "outlinewidth": 0,
              "ticks": ""
             }
            },
            "type": "scatterternary"
           }
          ],
          "surface": [
           {
            "colorbar": {
             "outlinewidth": 0,
             "ticks": ""
            },
            "colorscale": [
             [
              0,
              "#0d0887"
             ],
             [
              0.1111111111111111,
              "#46039f"
             ],
             [
              0.2222222222222222,
              "#7201a8"
             ],
             [
              0.3333333333333333,
              "#9c179e"
             ],
             [
              0.4444444444444444,
              "#bd3786"
             ],
             [
              0.5555555555555556,
              "#d8576b"
             ],
             [
              0.6666666666666666,
              "#ed7953"
             ],
             [
              0.7777777777777778,
              "#fb9f3a"
             ],
             [
              0.8888888888888888,
              "#fdca26"
             ],
             [
              1,
              "#f0f921"
             ]
            ],
            "type": "surface"
           }
          ],
          "table": [
           {
            "cells": {
             "fill": {
              "color": "#EBF0F8"
             },
             "line": {
              "color": "white"
             }
            },
            "header": {
             "fill": {
              "color": "#C8D4E3"
             },
             "line": {
              "color": "white"
             }
            },
            "type": "table"
           }
          ]
         },
         "layout": {
          "annotationdefaults": {
           "arrowcolor": "#2a3f5f",
           "arrowhead": 0,
           "arrowwidth": 1
          },
          "autotypenumbers": "strict",
          "coloraxis": {
           "colorbar": {
            "outlinewidth": 0,
            "ticks": ""
           }
          },
          "colorscale": {
           "diverging": [
            [
             0,
             "#8e0152"
            ],
            [
             0.1,
             "#c51b7d"
            ],
            [
             0.2,
             "#de77ae"
            ],
            [
             0.3,
             "#f1b6da"
            ],
            [
             0.4,
             "#fde0ef"
            ],
            [
             0.5,
             "#f7f7f7"
            ],
            [
             0.6,
             "#e6f5d0"
            ],
            [
             0.7,
             "#b8e186"
            ],
            [
             0.8,
             "#7fbc41"
            ],
            [
             0.9,
             "#4d9221"
            ],
            [
             1,
             "#276419"
            ]
           ],
           "sequential": [
            [
             0,
             "#0d0887"
            ],
            [
             0.1111111111111111,
             "#46039f"
            ],
            [
             0.2222222222222222,
             "#7201a8"
            ],
            [
             0.3333333333333333,
             "#9c179e"
            ],
            [
             0.4444444444444444,
             "#bd3786"
            ],
            [
             0.5555555555555556,
             "#d8576b"
            ],
            [
             0.6666666666666666,
             "#ed7953"
            ],
            [
             0.7777777777777778,
             "#fb9f3a"
            ],
            [
             0.8888888888888888,
             "#fdca26"
            ],
            [
             1,
             "#f0f921"
            ]
           ],
           "sequentialminus": [
            [
             0,
             "#0d0887"
            ],
            [
             0.1111111111111111,
             "#46039f"
            ],
            [
             0.2222222222222222,
             "#7201a8"
            ],
            [
             0.3333333333333333,
             "#9c179e"
            ],
            [
             0.4444444444444444,
             "#bd3786"
            ],
            [
             0.5555555555555556,
             "#d8576b"
            ],
            [
             0.6666666666666666,
             "#ed7953"
            ],
            [
             0.7777777777777778,
             "#fb9f3a"
            ],
            [
             0.8888888888888888,
             "#fdca26"
            ],
            [
             1,
             "#f0f921"
            ]
           ]
          },
          "colorway": [
           "#636efa",
           "#EF553B",
           "#00cc96",
           "#ab63fa",
           "#FFA15A",
           "#19d3f3",
           "#FF6692",
           "#B6E880",
           "#FF97FF",
           "#FECB52"
          ],
          "font": {
           "color": "#2a3f5f"
          },
          "geo": {
           "bgcolor": "white",
           "lakecolor": "white",
           "landcolor": "#E5ECF6",
           "showlakes": true,
           "showland": true,
           "subunitcolor": "white"
          },
          "hoverlabel": {
           "align": "left"
          },
          "hovermode": "closest",
          "mapbox": {
           "style": "light"
          },
          "paper_bgcolor": "white",
          "plot_bgcolor": "#E5ECF6",
          "polar": {
           "angularaxis": {
            "gridcolor": "white",
            "linecolor": "white",
            "ticks": ""
           },
           "bgcolor": "#E5ECF6",
           "radialaxis": {
            "gridcolor": "white",
            "linecolor": "white",
            "ticks": ""
           }
          },
          "scene": {
           "xaxis": {
            "backgroundcolor": "#E5ECF6",
            "gridcolor": "white",
            "gridwidth": 2,
            "linecolor": "white",
            "showbackground": true,
            "ticks": "",
            "zerolinecolor": "white"
           },
           "yaxis": {
            "backgroundcolor": "#E5ECF6",
            "gridcolor": "white",
            "gridwidth": 2,
            "linecolor": "white",
            "showbackground": true,
            "ticks": "",
            "zerolinecolor": "white"
           },
           "zaxis": {
            "backgroundcolor": "#E5ECF6",
            "gridcolor": "white",
            "gridwidth": 2,
            "linecolor": "white",
            "showbackground": true,
            "ticks": "",
            "zerolinecolor": "white"
           }
          },
          "shapedefaults": {
           "line": {
            "color": "#2a3f5f"
           }
          },
          "ternary": {
           "aaxis": {
            "gridcolor": "white",
            "linecolor": "white",
            "ticks": ""
           },
           "baxis": {
            "gridcolor": "white",
            "linecolor": "white",
            "ticks": ""
           },
           "bgcolor": "#E5ECF6",
           "caxis": {
            "gridcolor": "white",
            "linecolor": "white",
            "ticks": ""
           }
          },
          "title": {
           "x": 0.05
          },
          "xaxis": {
           "automargin": true,
           "gridcolor": "white",
           "linecolor": "white",
           "ticks": "",
           "title": {
            "standoff": 15
           },
           "zerolinecolor": "white",
           "zerolinewidth": 2
          },
          "yaxis": {
           "automargin": true,
           "gridcolor": "white",
           "linecolor": "white",
           "ticks": "",
           "title": {
            "standoff": 15
           },
           "zerolinecolor": "white",
           "zerolinewidth": 2
          }
         }
        },
        "title": {
         "text": "Evolution of activations for soggetto_2"
        },
        "xaxis": {
         "anchor": "y",
         "domain": [
          0,
          1
         ],
         "title": {
          "text": "index"
         }
        },
        "yaxis": {
         "anchor": "x",
         "domain": [
          0,
          1
         ],
         "title": {
          "text": "value"
         }
        }
       }
      }
     },
     "metadata": {},
     "output_type": "display_data"
    },
    {
     "data": {
      "application/vnd.plotly.v1+json": {
       "config": {
        "plotlyServerURL": "https://plot.ly"
       },
       "data": [
        {
         "hovertemplate": "variable=TrRi<br>index=%{x}<br>value=%{y}<extra></extra>",
         "legendgroup": "TrRi",
         "line": {
          "color": "#636efa",
          "dash": "solid"
         },
         "marker": {
          "symbol": "circle"
         },
         "mode": "lines",
         "name": "TrRi",
         "showlegend": true,
         "type": "scattergl",
         "x": [
          0,
          1,
          2,
          3,
          4,
          5,
          6,
          7,
          8,
          9,
          10,
          11,
          12,
          13,
          14,
          15,
          16,
          17,
          18,
          19,
          20,
          21,
          22,
          23,
          24,
          25,
          26,
          27,
          28,
          29,
          30,
          31,
          32,
          33,
          34,
          35,
          36,
          37,
          38,
          39,
          40,
          41,
          42,
          43,
          44,
          45,
          46,
          47,
          48,
          49,
          50,
          51,
          52,
          53,
          54,
          55,
          56,
          57,
          58,
          59,
          60,
          61,
          62,
          63,
          64,
          65,
          66,
          67,
          68,
          69,
          70,
          71,
          72,
          73,
          74,
          75,
          76,
          77,
          78,
          79,
          80,
          81,
          82,
          83,
          84,
          85,
          86,
          87,
          88,
          89,
          90,
          91,
          92,
          93,
          94,
          95,
          96,
          97,
          98,
          99
         ],
         "xaxis": "x",
         "y": [
          0,
          -2.220446049250313e-16,
          -5.551115123125783e-16,
          -3.3306690738754696e-16,
          -8.881784197001252e-16,
          -1.887379141862766e-15,
          -3.774758283725532e-15,
          -7.438494264988549e-15,
          -1.4654943925052066e-14,
          -2.930988785010413e-14,
          -5.81756864903582e-14,
          -1.1612932837579137e-13,
          -2.3236967905404526e-13,
          -4.647393581080905e-13,
          -9.29700760821106e-13,
          -1.859401521642212e-12,
          -3.718580998679499e-12,
          -7.436939952754074e-12,
          -1.4874101950113072e-11,
          -2.974842594483107e-11,
          -5.949685188966214e-11,
          -1.1899348173471935e-10,
          -2.3798740755864856e-10,
          -4.759748151172971e-10,
          -9.519487420561745e-10,
          -1.903897928201559e-9,
          -3.807795856403118e-9,
          -7.615592600984655e-9,
          -1.5231185090947008e-8,
          -3.046237029291632e-8,
          -6.092474047481033e-8,
          -1.2184948028348686e-7,
          -2.4369895745834924e-7,
          -4.873979018160668e-7,
          -9.74795748343027e-7,
          -0.000001949591276861895,
          -0.000003899181673761021,
          -0.00000779835982600563,
          -0.000015596705567166858,
          -0.00003119335479406793,
          -0.00006238648423073645,
          -0.00012477206706795752,
          -0.00024954052884329503,
          -0.0004990666387721943,
          -0.0009980756199213792,
          -0.001995920753628866,
          -0.0039909207161967775,
          -0.0079781674917494,
          -0.01594171290169799,
          -0.031825525202251126,
          -0.06342412254724705,
          -0.1259775021442916,
          -0.2487611932035929,
          -0.48696298765856016,
          -0.9480906949620718,
          -1.9093276676464126,
          -4.729912946725108,
          -23.134903143066158,
          -535.5246163719393,
          -286786.6600280177,
          -82246588370.02684,
          -6.764501298508633e+21,
          -4.575847781752498e+43,
          -2.0938382921769254e+87,
          -4.384158793786385e+174,
          null,
          null,
          null,
          null,
          null,
          null,
          null,
          null,
          null,
          null,
          null,
          null,
          null,
          null,
          null,
          null,
          null,
          null,
          null,
          null,
          null,
          null,
          null,
          null,
          null,
          null,
          null,
          null,
          null,
          null,
          null,
          null,
          null,
          null,
          null
         ],
         "yaxis": "y"
        },
        {
         "hovertemplate": "variable=RiTr<br>index=%{x}<br>value=%{y}<extra></extra>",
         "legendgroup": "RiTr",
         "line": {
          "color": "#EF553B",
          "dash": "solid"
         },
         "marker": {
          "symbol": "circle"
         },
         "mode": "lines",
         "name": "RiTr",
         "showlegend": true,
         "type": "scattergl",
         "x": [
          0,
          1,
          2,
          3,
          4,
          5,
          6,
          7,
          8,
          9,
          10,
          11,
          12,
          13,
          14,
          15,
          16,
          17,
          18,
          19,
          20,
          21,
          22,
          23,
          24,
          25,
          26,
          27,
          28,
          29,
          30,
          31,
          32,
          33,
          34,
          35,
          36,
          37,
          38,
          39,
          40,
          41,
          42,
          43,
          44,
          45,
          46,
          47,
          48,
          49,
          50,
          51,
          52,
          53,
          54,
          55,
          56,
          57,
          58,
          59,
          60,
          61,
          62,
          63,
          64,
          65,
          66,
          67,
          68,
          69,
          70,
          71,
          72,
          73,
          74,
          75,
          76,
          77,
          78,
          79,
          80,
          81,
          82,
          83,
          84,
          85,
          86,
          87,
          88,
          89,
          90,
          91,
          92,
          93,
          94,
          95,
          96,
          97,
          98,
          99
         ],
         "xaxis": "x",
         "y": [
          -3.3306690738754696e-16,
          -2.220446049250313e-16,
          0,
          -5.551115123125783e-16,
          -8.881784197001252e-16,
          -1.887379141862766e-15,
          -3.774758283725532e-15,
          -7.438494264988549e-15,
          -1.4654943925052066e-14,
          -2.90878432451791e-14,
          -5.81756864903582e-14,
          -1.163513729807164e-13,
          -2.325917236589703e-13,
          -4.64850380410553e-13,
          -9.29700760821106e-13,
          -1.8595125439446747e-12,
          -3.718692020981962e-12,
          -7.436939952754074e-12,
          -1.4874101950113072e-11,
          -2.974842594483107e-11,
          -5.949685188966214e-11,
          -1.1899359275702182e-10,
          -2.3798740755864856e-10,
          -4.759749261395996e-10,
          -9.519489641007794e-10,
          -1.903897928201559e-9,
          -3.807796078447723e-9,
          -7.61559282302926e-9,
          -1.523118520196931e-8,
          -3.0462370625983226e-8,
          -6.092474069685494e-8,
          -1.2184948061655376e-7,
          -2.4369895768039385e-7,
          -4.873979019270891e-7,
          -9.747957484540493e-7,
          -0.0000019495912770839396,
          -0.000003899181673983065,
          -0.000007798359826338697,
          -0.000015596705567388902,
          -0.000031193354794289974,
          -0.0000623864842309585,
          -0.00012477206706806854,
          -0.0002495405288436281,
          -0.0004990666387724163,
          -0.0009980756199217122,
          -0.001995920753629421,
          -0.0039909207161969995,
          -0.007978167491749955,
          -0.015941712901698213,
          -0.03182552520225157,
          -0.06342412254724727,
          -0.12597750214429193,
          -0.24876119320359313,
          -0.4869629876585604,
          -0.948090694962072,
          -1.9093276676464126,
          -4.729912946725108,
          -23.134903143066158,
          -535.5246163719393,
          -286786.6600280177,
          -82246588370.02684,
          -6.764501298508633e+21,
          -4.575847781752498e+43,
          -2.0938382921769254e+87,
          -4.384158793786385e+174,
          null,
          null,
          null,
          null,
          null,
          null,
          null,
          null,
          null,
          null,
          null,
          null,
          null,
          null,
          null,
          null,
          null,
          null,
          null,
          null,
          null,
          null,
          null,
          null,
          null,
          null,
          null,
          null,
          null,
          null,
          null,
          null,
          null,
          null,
          null
         ],
         "yaxis": "y"
        },
        {
         "hovertemplate": "variable=Plu<br>index=%{x}<br>value=%{y}<extra></extra>",
         "legendgroup": "Plu",
         "line": {
          "color": "#00cc96",
          "dash": "solid"
         },
         "marker": {
          "symbol": "circle"
         },
         "mode": "lines",
         "name": "Plu",
         "showlegend": true,
         "type": "scattergl",
         "x": [
          0,
          1,
          2,
          3,
          4,
          5,
          6,
          7,
          8,
          9,
          10,
          11,
          12,
          13,
          14,
          15,
          16,
          17,
          18,
          19,
          20,
          21,
          22,
          23,
          24,
          25,
          26,
          27,
          28,
          29,
          30,
          31,
          32,
          33,
          34,
          35,
          36,
          37,
          38,
          39,
          40,
          41,
          42,
          43,
          44,
          45,
          46,
          47,
          48,
          49,
          50,
          51,
          52,
          53,
          54,
          55,
          56,
          57,
          58,
          59,
          60,
          61,
          62,
          63,
          64,
          65,
          66,
          67,
          68,
          69,
          70,
          71,
          72,
          73,
          74,
          75,
          76,
          77,
          78,
          79,
          80,
          81,
          82,
          83,
          84,
          85,
          86,
          87,
          88,
          89,
          90,
          91,
          92,
          93,
          94,
          95,
          96,
          97,
          98,
          99
         ],
         "xaxis": "x",
         "y": [
          -1.1102230246251565e-16,
          -5.551115123125783e-16,
          -5.551115123125783e-16,
          -6.661338147750939e-16,
          -1.3322676295501878e-15,
          -2.1094237467877974e-15,
          -3.885780586188048e-15,
          -7.438494264988549e-15,
          -1.4765966227514582e-14,
          -2.930988785010413e-14,
          -5.81756864903582e-14,
          -1.163513729807164e-13,
          -2.325917236589703e-13,
          -4.64850380410553e-13,
          -9.29700760821106e-13,
          -1.8595125439446747e-12,
          -3.718692020981962e-12,
          -7.436939952754074e-12,
          -1.4874101950113072e-11,
          -2.974842594483107e-11,
          -5.949685188966214e-11,
          -1.1899359275702182e-10,
          -2.3798740755864856e-10,
          -4.759749261395996e-10,
          -9.519489641007794e-10,
          -1.903897928201559e-9,
          -3.807796078447723e-9,
          -7.61559282302926e-9,
          -1.523118520196931e-8,
          -3.0462370625983226e-8,
          -6.092474069685494e-8,
          -1.2184948061655376e-7,
          -2.4369895768039385e-7,
          -4.873979019270891e-7,
          -9.747957484540493e-7,
          -0.0000019495912770839396,
          -0.000003899181673983065,
          -0.000007798359826338697,
          -0.000015596705567388902,
          -0.000031193354794289974,
          -0.0000623864842309585,
          -0.00012477206706806854,
          -0.0002495405288436281,
          -0.0004990666387724163,
          -0.0009980756199217122,
          -0.001995920753629421,
          -0.0039909207161969995,
          -0.007978167491749955,
          -0.015941712901698213,
          -0.03182552520225157,
          -0.06342412254724727,
          -0.12597750214429193,
          -0.24876119320359313,
          -0.4869629876585604,
          -0.948090694962072,
          -1.9093276676464126,
          -4.729912946725108,
          -23.134903143066158,
          -535.5246163719393,
          -286786.6600280177,
          -82246588370.02684,
          -6.764501298508633e+21,
          -4.575847781752498e+43,
          -2.0938382921769254e+87,
          -4.384158793786385e+174,
          null,
          null,
          null,
          null,
          null,
          null,
          null,
          null,
          null,
          null,
          null,
          null,
          null,
          null,
          null,
          null,
          null,
          null,
          null,
          null,
          null,
          null,
          null,
          null,
          null,
          null,
          null,
          null,
          null,
          null,
          null,
          null,
          null,
          null,
          null
         ],
         "yaxis": "y"
        },
        {
         "hovertemplate": "variable=Ttra<br>index=%{x}<br>value=%{y}<extra></extra>",
         "legendgroup": "Ttra",
         "line": {
          "color": "#ab63fa",
          "dash": "solid"
         },
         "marker": {
          "symbol": "circle"
         },
         "mode": "lines",
         "name": "Ttra",
         "showlegend": true,
         "type": "scattergl",
         "x": [
          0,
          1,
          2,
          3,
          4,
          5,
          6,
          7,
          8,
          9,
          10,
          11,
          12,
          13,
          14,
          15,
          16,
          17,
          18,
          19,
          20,
          21,
          22,
          23,
          24,
          25,
          26,
          27,
          28,
          29,
          30,
          31,
          32,
          33,
          34,
          35,
          36,
          37,
          38,
          39,
          40,
          41,
          42,
          43,
          44,
          45,
          46,
          47,
          48,
          49,
          50,
          51,
          52,
          53,
          54,
          55,
          56,
          57,
          58,
          59,
          60,
          61,
          62,
          63,
          64,
          65,
          66,
          67,
          68,
          69,
          70,
          71,
          72,
          73,
          74,
          75,
          76,
          77,
          78,
          79,
          80,
          81,
          82,
          83,
          84,
          85,
          86,
          87,
          88,
          89,
          90,
          91,
          92,
          93,
          94,
          95,
          96,
          97,
          98,
          99
         ],
         "xaxis": "x",
         "y": [
          -2.220446049250313e-16,
          -2.220446049250313e-16,
          -3.3306690738754696e-16,
          -6.661338147750939e-16,
          -9.992007221626409e-16,
          -1.9984014443252818e-15,
          -3.885780586188048e-15,
          -7.438494264988549e-15,
          -1.4654943925052066e-14,
          -2.930988785010413e-14,
          -5.795364188543317e-14,
          -1.1646239528317892e-13,
          -2.325917236589703e-13,
          -4.64628335805628e-13,
          -9.29700760821106e-13,
          -1.8595125439446747e-12,
          -3.718692020981962e-12,
          -7.437161997358999e-12,
          -1.4874323994717997e-11,
          -2.974853696713353e-11,
          -5.949674086735968e-11,
          -1.1899359275702182e-10,
          -2.379872965363461e-10,
          -4.759749261395996e-10,
          -9.51949075123082e-10,
          -1.9038980392238614e-9,
          -3.807796300492328e-9,
          -7.615592489962353e-9,
          -1.5231185424013916e-8,
          -3.046237084802783e-8,
          -6.092474091889954e-8,
          -1.2184948072757606e-7,
          -2.4369895790243845e-7,
          -4.873979020381114e-7,
          -9.747957488981385e-7,
          -0.0000019495912773059842,
          -0.000003899181673872043,
          -0.000007798359826227674,
          -0.000015596705567499924,
          -0.00003119335479451202,
          -0.00006238648423140258,
          -0.00012477206706851263,
          -0.00024954052884385014,
          -0.0004990666387727494,
          -0.0009980756199222673,
          -0.001995920753629532,
          -0.003990920716197555,
          -0.007978167491750177,
          -0.01594171290169888,
          -0.03182552520225168,
          -0.06342412254724794,
          -0.12597750214429204,
          -0.24876119320359358,
          -0.4869629876585607,
          -0.9480906949620721,
          -1.9093276676464122,
          -4.729912946725107,
          -23.134903143066154,
          -535.5246163719393,
          -286786.66002801765,
          -82246588370.02682,
          -6.764501298508633e+21,
          -4.575847781752497e+43,
          -2.093838292176925e+87,
          -4.384158793786384e+174,
          null,
          null,
          null,
          null,
          null,
          null,
          null,
          null,
          null,
          null,
          null,
          null,
          null,
          null,
          null,
          null,
          null,
          null,
          null,
          null,
          null,
          null,
          null,
          null,
          null,
          null,
          null,
          null,
          null,
          null,
          null,
          null,
          null,
          null,
          null
         ],
         "yaxis": "y"
        },
        {
         "hovertemplate": "variable=Ttrb<br>index=%{x}<br>value=%{y}<extra></extra>",
         "legendgroup": "Ttrb",
         "line": {
          "color": "#FFA15A",
          "dash": "solid"
         },
         "marker": {
          "symbol": "circle"
         },
         "mode": "lines",
         "name": "Ttrb",
         "showlegend": true,
         "type": "scattergl",
         "x": [
          0,
          1,
          2,
          3,
          4,
          5,
          6,
          7,
          8,
          9,
          10,
          11,
          12,
          13,
          14,
          15,
          16,
          17,
          18,
          19,
          20,
          21,
          22,
          23,
          24,
          25,
          26,
          27,
          28,
          29,
          30,
          31,
          32,
          33,
          34,
          35,
          36,
          37,
          38,
          39,
          40,
          41,
          42,
          43,
          44,
          45,
          46,
          47,
          48,
          49,
          50,
          51,
          52,
          53,
          54,
          55,
          56,
          57,
          58,
          59,
          60,
          61,
          62,
          63,
          64,
          65,
          66,
          67,
          68,
          69,
          70,
          71,
          72,
          73,
          74,
          75,
          76,
          77,
          78,
          79,
          80,
          81,
          82,
          83,
          84,
          85,
          86,
          87,
          88,
          89,
          90,
          91,
          92,
          93,
          94,
          95,
          96,
          97,
          98,
          99
         ],
         "xaxis": "x",
         "y": [
          -1.1102230246251565e-16,
          0,
          -5.551115123125783e-16,
          -6.661338147750939e-16,
          -1.1102230246251565e-15,
          -2.1094237467877974e-15,
          -3.9968028886505635e-15,
          -7.438494264988549e-15,
          -1.4988010832439613e-14,
          -2.930988785010413e-14,
          -5.839773109528323e-14,
          -1.1657341758564144e-13,
          -2.325917236589703e-13,
          -4.64850380410553e-13,
          -9.299228054260311e-13,
          -1.8595125439446747e-12,
          -3.718692020981962e-12,
          -7.437161997358999e-12,
          -1.4874323994717997e-11,
          -2.974853696713353e-11,
          -5.94969629119646e-11,
          -1.1899359275702182e-10,
          -2.37987518580951e-10,
          -4.759751481842045e-10,
          -9.519492971676868e-10,
          -1.9038980392238614e-9,
          -3.807796300492328e-9,
          -7.615592934051563e-9,
          -1.5231185424013916e-8,
          -3.046237084802783e-8,
          -6.092474091889954e-8,
          -1.2184948094962067e-7,
          -2.4369895812448306e-7,
          -4.87397902260156e-7,
          -9.74795749120183e-7,
          -0.0000019495912773059842,
          -0.000003899181674094088,
          -0.000007798359826671764,
          -0.00001559670556772197,
          -0.00003119335479473406,
          -0.00006238648423140258,
          -0.00012477206706851263,
          -0.00024954052884385014,
          -0.0004990666387727494,
          -0.0009980756199222673,
          -0.001995920753629754,
          -0.003990920716197555,
          -0.007978167491750399,
          -0.01594171290169888,
          -0.0318255252022519,
          -0.06342412254724794,
          -0.12597750214429226,
          -0.24876119320359358,
          -0.4869629876585607,
          -0.9480906949620721,
          -1.9093276676464126,
          -4.729912946725108,
          -23.134903143066158,
          -535.5246163719393,
          -286786.6600280177,
          -82246588370.02684,
          -6.764501298508633e+21,
          -4.575847781752498e+43,
          -2.0938382921769254e+87,
          -4.384158793786385e+174,
          null,
          null,
          null,
          null,
          null,
          null,
          null,
          null,
          null,
          null,
          null,
          null,
          null,
          null,
          null,
          null,
          null,
          null,
          null,
          null,
          null,
          null,
          null,
          null,
          null,
          null,
          null,
          null,
          null,
          null,
          null,
          null,
          null,
          null,
          null
         ],
         "yaxis": "y"
        },
        {
         "hovertemplate": "variable=Tr<br>index=%{x}<br>value=%{y}<extra></extra>",
         "legendgroup": "Tr",
         "line": {
          "color": "#19d3f3",
          "dash": "solid"
         },
         "marker": {
          "symbol": "circle"
         },
         "mode": "lines",
         "name": "Tr",
         "showlegend": true,
         "type": "scattergl",
         "x": [
          0,
          1,
          2,
          3,
          4,
          5,
          6,
          7,
          8,
          9,
          10,
          11,
          12,
          13,
          14,
          15,
          16,
          17,
          18,
          19,
          20,
          21,
          22,
          23,
          24,
          25,
          26,
          27,
          28,
          29,
          30,
          31,
          32,
          33,
          34,
          35,
          36,
          37,
          38,
          39,
          40,
          41,
          42,
          43,
          44,
          45,
          46,
          47,
          48,
          49,
          50,
          51,
          52,
          53,
          54,
          55,
          56,
          57,
          58,
          59,
          60,
          61,
          62,
          63,
          64,
          65,
          66,
          67,
          68,
          69,
          70,
          71,
          72,
          73,
          74,
          75,
          76,
          77,
          78,
          79,
          80,
          81,
          82,
          83,
          84,
          85,
          86,
          87,
          88,
          89,
          90,
          91,
          92,
          93,
          94,
          95,
          96,
          97,
          98,
          99
         ],
         "xaxis": "x",
         "y": [
          0,
          3.3306690738754696e-16,
          1.1102230246251565e-16,
          -2.220446049250313e-16,
          -8.881784197001252e-16,
          -1.6653345369377348e-15,
          -3.3306690738754696e-15,
          -7.327471962526033e-15,
          -1.4432899320127035e-14,
          -2.8976820942716586e-14,
          -5.784261958297066e-14,
          -1.1612932837579137e-13,
          -2.3236967905404526e-13,
          -4.64406291200703e-13,
          -9.29256671611256e-13,
          -1.859401521642212e-12,
          -3.718358954074574e-12,
          -7.436828930451611e-12,
          -1.4874101950113072e-11,
          -2.974842594483107e-11,
          -5.949685188966214e-11,
          -1.1899348173471935e-10,
          -2.3798740755864856e-10,
          -4.759748151172971e-10,
          -9.519487420561745e-10,
          -1.903897928201559e-9,
          -3.807795856403118e-9,
          -7.615592600984655e-9,
          -1.5231185090947008e-8,
          -3.046237029291632e-8,
          -6.092474047481033e-8,
          -1.2184948028348686e-7,
          -2.4369895745834924e-7,
          -4.873979018160668e-7,
          -9.74795748343027e-7,
          -0.000001949591276861895,
          -0.000003899181673761021,
          -0.00000779835982600563,
          -0.000015596705567166858,
          -0.00003119335479406793,
          -0.00006238648423073645,
          -0.00012477206706795752,
          -0.00024954052884329503,
          -0.0004990666387721943,
          -0.0009980756199213792,
          -0.001995920753628866,
          -0.0039909207161967775,
          -0.0079781674917494,
          -0.01594171290169799,
          -0.031825525202251126,
          -0.06342412254724705,
          -0.1259775021442916,
          -0.2487611932035929,
          -0.48696298765856016,
          -0.9480906949620718,
          -1.9093276676464126,
          -4.729912946725108,
          -23.134903143066158,
          -535.5246163719393,
          -286786.6600280177,
          -82246588370.02684,
          -6.764501298508633e+21,
          -4.575847781752498e+43,
          -2.0938382921769254e+87,
          -4.384158793786385e+174,
          null,
          null,
          null,
          null,
          null,
          null,
          null,
          null,
          null,
          null,
          null,
          null,
          null,
          null,
          null,
          null,
          null,
          null,
          null,
          null,
          null,
          null,
          null,
          null,
          null,
          null,
          null,
          null,
          null,
          null,
          null,
          null,
          null,
          null,
          null
         ],
         "yaxis": "y"
        },
        {
         "hovertemplate": "variable=MeTr<br>index=%{x}<br>value=%{y}<extra></extra>",
         "legendgroup": "MeTr",
         "line": {
          "color": "#FF6692",
          "dash": "solid"
         },
         "marker": {
          "symbol": "circle"
         },
         "mode": "lines",
         "name": "MeTr",
         "showlegend": true,
         "type": "scattergl",
         "x": [
          0,
          1,
          2,
          3,
          4,
          5,
          6,
          7,
          8,
          9,
          10,
          11,
          12,
          13,
          14,
          15,
          16,
          17,
          18,
          19,
          20,
          21,
          22,
          23,
          24,
          25,
          26,
          27,
          28,
          29,
          30,
          31,
          32,
          33,
          34,
          35,
          36,
          37,
          38,
          39,
          40,
          41,
          42,
          43,
          44,
          45,
          46,
          47,
          48,
          49,
          50,
          51,
          52,
          53,
          54,
          55,
          56,
          57,
          58,
          59,
          60,
          61,
          62,
          63,
          64,
          65,
          66,
          67,
          68,
          69,
          70,
          71,
          72,
          73,
          74,
          75,
          76,
          77,
          78,
          79,
          80,
          81,
          82,
          83,
          84,
          85,
          86,
          87,
          88,
          89,
          90,
          91,
          92,
          93,
          94,
          95,
          96,
          97,
          98,
          99
         ],
         "xaxis": "x",
         "y": [
          -1.1102230246251565e-16,
          -2.220446049250313e-16,
          2.220446049250313e-16,
          -3.3306690738754696e-16,
          -8.881784197001252e-16,
          -1.887379141862766e-15,
          -3.4416913763379853e-15,
          -7.327471962526033e-15,
          -1.432187701766452e-14,
          -2.8976820942716586e-14,
          -5.784261958297066e-14,
          -1.1612932837579137e-13,
          -2.3214763444912023e-13,
          -4.64406291200703e-13,
          -9.29256671611256e-13,
          -1.859401521642212e-12,
          -3.718358954074574e-12,
          -7.436828930451611e-12,
          -1.4874101950113072e-11,
          -2.9748203900226144e-11,
          -5.949662984505721e-11,
          -1.1899348173471935e-10,
          -2.3798718551404363e-10,
          -4.759745930726922e-10,
          -9.519485200115696e-10,
          -1.903897928201559e-9,
          -3.807795856403118e-9,
          -7.615592156895445e-9,
          -1.5231185090947008e-8,
          -3.046237029291632e-8,
          -6.092474047481033e-8,
          -1.2184948006144225e-7,
          -2.4369895723630464e-7,
          -4.873979015940222e-7,
          -9.747957481209824e-7,
          -0.000001949591276861895,
          -0.000003899181673538976,
          -0.00000779835982556154,
          -0.000015596705566944813,
          -0.000031193354793845884,
          -0.00006238648423073645,
          -0.00012477206706795752,
          -0.00024954052884329503,
          -0.0004990666387721943,
          -0.0009980756199213792,
          -0.001995920753628644,
          -0.0039909207161967775,
          -0.007978167491749177,
          -0.01594171290169799,
          -0.031825525202250904,
          -0.06342412254724705,
          -0.12597750214429138,
          -0.2487611932035929,
          -0.48696298765856016,
          -0.9480906949620718,
          -1.9093276676464122,
          -4.729912946725107,
          -23.134903143066154,
          -535.5246163719393,
          -286786.66002801765,
          -82246588370.02682,
          -6.764501298508633e+21,
          -4.575847781752497e+43,
          -2.093838292176925e+87,
          -4.384158793786384e+174,
          null,
          null,
          null,
          null,
          null,
          null,
          null,
          null,
          null,
          null,
          null,
          null,
          null,
          null,
          null,
          null,
          null,
          null,
          null,
          null,
          null,
          null,
          null,
          null,
          null,
          null,
          null,
          null,
          null,
          null,
          null,
          null,
          null,
          null,
          null
         ],
         "yaxis": "y"
        },
        {
         "hovertemplate": "variable=MoTr<br>index=%{x}<br>value=%{y}<extra></extra>",
         "legendgroup": "MoTr",
         "line": {
          "color": "#B6E880",
          "dash": "solid"
         },
         "marker": {
          "symbol": "circle"
         },
         "mode": "lines",
         "name": "MoTr",
         "showlegend": true,
         "type": "scattergl",
         "x": [
          0,
          1,
          2,
          3,
          4,
          5,
          6,
          7,
          8,
          9,
          10,
          11,
          12,
          13,
          14,
          15,
          16,
          17,
          18,
          19,
          20,
          21,
          22,
          23,
          24,
          25,
          26,
          27,
          28,
          29,
          30,
          31,
          32,
          33,
          34,
          35,
          36,
          37,
          38,
          39,
          40,
          41,
          42,
          43,
          44,
          45,
          46,
          47,
          48,
          49,
          50,
          51,
          52,
          53,
          54,
          55,
          56,
          57,
          58,
          59,
          60,
          61,
          62,
          63,
          64,
          65,
          66,
          67,
          68,
          69,
          70,
          71,
          72,
          73,
          74,
          75,
          76,
          77,
          78,
          79,
          80,
          81,
          82,
          83,
          84,
          85,
          86,
          87,
          88,
          89,
          90,
          91,
          92,
          93,
          94,
          95,
          96,
          97,
          98,
          99
         ],
         "xaxis": "x",
         "y": [
          0,
          -2.220446049250313e-16,
          -2.220446049250313e-16,
          -4.440892098500626e-16,
          -7.771561172376096e-16,
          -1.9984014443252818e-15,
          -3.885780586188048e-15,
          -7.438494264988549e-15,
          -1.4765966227514582e-14,
          -2.90878432451791e-14,
          -5.81756864903582e-14,
          -1.163513729807164e-13,
          -2.325917236589703e-13,
          -4.64628335805628e-13,
          -9.29700760821106e-13,
          -1.8595125439446747e-12,
          -3.718692020981962e-12,
          -7.437161997358999e-12,
          -1.4874323994717997e-11,
          -2.974853696713353e-11,
          -5.94969629119646e-11,
          -1.1899359275702182e-10,
          -2.37987518580951e-10,
          -4.759751481842045e-10,
          -9.519492971676868e-10,
          -1.9038980392238614e-9,
          -3.807796300492328e-9,
          -7.615592934051563e-9,
          -1.5231185424013916e-8,
          -3.046237084802783e-8,
          -6.092474091889954e-8,
          -1.2184948094962067e-7,
          -2.4369895812448306e-7,
          -4.87397902260156e-7,
          -9.74795749120183e-7,
          -0.0000019495912773059842,
          -0.000003899181674094088,
          -0.000007798359826671764,
          -0.00001559670556772197,
          -0.00003119335479473406,
          -0.00006238648423140258,
          -0.00012477206706851263,
          -0.00024954052884385014,
          -0.0004990666387727494,
          -0.0009980756199222673,
          -0.001995920753629754,
          -0.003990920716197555,
          -0.007978167491750399,
          -0.01594171290169888,
          -0.0318255252022519,
          -0.06342412254724794,
          -0.12597750214429226,
          -0.24876119320359358,
          -0.4869629876585607,
          -0.9480906949620721,
          -1.9093276676464126,
          -4.729912946725108,
          -23.134903143066158,
          -535.5246163719393,
          -286786.6600280177,
          -82246588370.02684,
          -6.764501298508633e+21,
          -4.575847781752498e+43,
          -2.0938382921769254e+87,
          -4.384158793786385e+174,
          null,
          null,
          null,
          null,
          null,
          null,
          null,
          null,
          null,
          null,
          null,
          null,
          null,
          null,
          null,
          null,
          null,
          null,
          null,
          null,
          null,
          null,
          null,
          null,
          null,
          null,
          null,
          null,
          null,
          null,
          null,
          null,
          null,
          null,
          null
         ],
         "yaxis": "y"
        },
        {
         "hovertemplate": "variable=RiRi<br>index=%{x}<br>value=%{y}<extra></extra>",
         "legendgroup": "RiRi",
         "line": {
          "color": "#FF97FF",
          "dash": "solid"
         },
         "marker": {
          "symbol": "circle"
         },
         "mode": "lines",
         "name": "RiRi",
         "showlegend": true,
         "type": "scattergl",
         "x": [
          0,
          1,
          2,
          3,
          4,
          5,
          6,
          7,
          8,
          9,
          10,
          11,
          12,
          13,
          14,
          15,
          16,
          17,
          18,
          19,
          20,
          21,
          22,
          23,
          24,
          25,
          26,
          27,
          28,
          29,
          30,
          31,
          32,
          33,
          34,
          35,
          36,
          37,
          38,
          39,
          40,
          41,
          42,
          43,
          44,
          45,
          46,
          47,
          48,
          49,
          50,
          51,
          52,
          53,
          54,
          55,
          56,
          57,
          58,
          59,
          60,
          61,
          62,
          63,
          64,
          65,
          66,
          67,
          68,
          69,
          70,
          71,
          72,
          73,
          74,
          75,
          76,
          77,
          78,
          79,
          80,
          81,
          82,
          83,
          84,
          85,
          86,
          87,
          88,
          89,
          90,
          91,
          92,
          93,
          94,
          95,
          96,
          97,
          98,
          99
         ],
         "xaxis": "x",
         "y": [
          0,
          0,
          2.220446049250313e-16,
          -1.1102230246251565e-16,
          -8.881784197001252e-16,
          -1.5543122344752192e-15,
          -3.552713678800501e-15,
          -7.105427357601002e-15,
          -1.4210854715202004e-14,
          -2.864375403532904e-14,
          -5.773159728050814e-14,
          -1.1590728377086634e-13,
          -2.3225865675158275e-13,
          -4.642952688982405e-13,
          -9.291456493087935e-13,
          -1.8592904993397497e-12,
          -3.718136909469649e-12,
          -7.436495863544224e-12,
          -1.4873879905508147e-11,
          -2.974787083331876e-11,
          -5.949640780045229e-11,
          -1.1899325969011443e-10,
          -2.379869634694387e-10,
          -4.759743710280873e-10,
          -9.51948631033872e-10,
          -1.9038975951346515e-9,
          -3.807795745380815e-9,
          -7.615592267917748e-9,
          -1.5231184535835496e-8,
          -3.0462370181894016e-8,
          -6.092474036378803e-8,
          -1.2184948006144225e-7,
          -2.4369895734732694e-7,
          -4.873979014829999e-7,
          -9.747957482320047e-7,
          -0.000001949591276861895,
          -0.000003899181673538976,
          -0.00000779835982600563,
          -0.000015596705567055835,
          -0.00003119335479406793,
          -0.00006238648423062543,
          -0.00012477206706773547,
          -0.000249540528843184,
          -0.0004990666387720832,
          -0.0009980756199212681,
          -0.001995920753628866,
          -0.0039909207161966664,
          -0.007978167491749177,
          -0.01594171290169799,
          -0.031825525202251126,
          -0.06342412254724705,
          -0.1259775021442916,
          -0.2487611932035929,
          -0.48696298765856016,
          -0.9480906949620718,
          -1.9093276676464126,
          -4.729912946725108,
          -23.134903143066158,
          -535.5246163719393,
          -286786.6600280177,
          -82246588370.02684,
          -6.764501298508633e+21,
          -4.575847781752498e+43,
          -2.0938382921769254e+87,
          -4.384158793786385e+174,
          null,
          null,
          null,
          null,
          null,
          null,
          null,
          null,
          null,
          null,
          null,
          null,
          null,
          null,
          null,
          null,
          null,
          null,
          null,
          null,
          null,
          null,
          null,
          null,
          null,
          null,
          null,
          null,
          null,
          null,
          null,
          null,
          null,
          null,
          null
         ],
         "yaxis": "y"
        },
        {
         "hovertemplate": "variable=MoFo<br>index=%{x}<br>value=%{y}<extra></extra>",
         "legendgroup": "MoFo",
         "line": {
          "color": "#FECB52",
          "dash": "solid"
         },
         "marker": {
          "symbol": "circle"
         },
         "mode": "lines",
         "name": "MoFo",
         "showlegend": true,
         "type": "scattergl",
         "x": [
          0,
          1,
          2,
          3,
          4,
          5,
          6,
          7,
          8,
          9,
          10,
          11,
          12,
          13,
          14,
          15,
          16,
          17,
          18,
          19,
          20,
          21,
          22,
          23,
          24,
          25,
          26,
          27,
          28,
          29,
          30,
          31,
          32,
          33,
          34,
          35,
          36,
          37,
          38,
          39,
          40,
          41,
          42,
          43,
          44,
          45,
          46,
          47,
          48,
          49,
          50,
          51,
          52,
          53,
          54,
          55,
          56,
          57,
          58,
          59,
          60,
          61,
          62,
          63,
          64,
          65,
          66,
          67,
          68,
          69,
          70,
          71,
          72,
          73,
          74,
          75,
          76,
          77,
          78,
          79,
          80,
          81,
          82,
          83,
          84,
          85,
          86,
          87,
          88,
          89,
          90,
          91,
          92,
          93,
          94,
          95,
          96,
          97,
          98,
          99
         ],
         "xaxis": "x",
         "y": [
          0,
          0,
          0,
          -1.1102230246251565e-16,
          -8.881784197001252e-16,
          -1.887379141862766e-15,
          -3.219646771412954e-15,
          -7.327471962526033e-15,
          -1.432187701766452e-14,
          -2.8754776337791554e-14,
          -5.784261958297066e-14,
          -1.1590728377086634e-13,
          -2.3214763444912023e-13,
          -4.64406291200703e-13,
          -9.29034627006331e-13,
          -1.858957432432362e-12,
          -3.718136909469649e-12,
          -7.436606885846686e-12,
          -1.4873879905508147e-11,
          -2.9748203900226144e-11,
          -5.949640780045229e-11,
          -1.1899348173471935e-10,
          -2.3798718551404363e-10,
          -4.759743710280873e-10,
          -9.519485200115696e-10,
          -1.903897928201559e-9,
          -3.807795634358513e-9,
          -7.615592156895445e-9,
          -1.5231184868902403e-8,
          -3.046236984882711e-8,
          -6.092474025276573e-8,
          -1.2184948006144225e-7,
          -2.4369895701426003e-7,
          -4.873979013719776e-7,
          -9.747957481209824e-7,
          -0.0000019495912766398504,
          -0.0000038991816733169316,
          -0.000007798359825339496,
          -0.000015596705566944813,
          -0.00003119335479362384,
          -0.0000623864842305144,
          -0.00012477206706773547,
          -0.00024954052884329503,
          -0.0004990666387721943,
          -0.0009980756199211571,
          -0.001995920753628644,
          -0.0039909207161967775,
          -0.007978167491749177,
          -0.015941712901697547,
          -0.03182552520225068,
          -0.06342412254724705,
          -0.12597750214429138,
          -0.2487611932035927,
          -0.48696298765856016,
          -0.9480906949620718,
          -1.9093276676464122,
          -4.729912946725107,
          -23.134903143066154,
          -535.5246163719393,
          -286786.66002801765,
          -82246588370.02682,
          -6.764501298508633e+21,
          -4.575847781752497e+43,
          -2.093838292176925e+87,
          -4.384158793786384e+174,
          null,
          null,
          null,
          null,
          null,
          null,
          null,
          null,
          null,
          null,
          null,
          null,
          null,
          null,
          null,
          null,
          null,
          null,
          null,
          null,
          null,
          null,
          null,
          null,
          null,
          null,
          null,
          null,
          null,
          null,
          null,
          null,
          null,
          null,
          null
         ],
         "yaxis": "y"
        },
        {
         "hovertemplate": "variable=Mmof<br>index=%{x}<br>value=%{y}<extra></extra>",
         "legendgroup": "Mmof",
         "line": {
          "color": "#636efa",
          "dash": "solid"
         },
         "marker": {
          "symbol": "circle"
         },
         "mode": "lines",
         "name": "Mmof",
         "showlegend": true,
         "type": "scattergl",
         "x": [
          0,
          1,
          2,
          3,
          4,
          5,
          6,
          7,
          8,
          9,
          10,
          11,
          12,
          13,
          14,
          15,
          16,
          17,
          18,
          19,
          20,
          21,
          22,
          23,
          24,
          25,
          26,
          27,
          28,
          29,
          30,
          31,
          32,
          33,
          34,
          35,
          36,
          37,
          38,
          39,
          40,
          41,
          42,
          43,
          44,
          45,
          46,
          47,
          48,
          49,
          50,
          51,
          52,
          53,
          54,
          55,
          56,
          57,
          58,
          59,
          60,
          61,
          62,
          63,
          64,
          65,
          66,
          67,
          68,
          69,
          70,
          71,
          72,
          73,
          74,
          75,
          76,
          77,
          78,
          79,
          80,
          81,
          82,
          83,
          84,
          85,
          86,
          87,
          88,
          89,
          90,
          91,
          92,
          93,
          94,
          95,
          96,
          97,
          98,
          99
         ],
         "xaxis": "x",
         "y": [
          -2.220446049250313e-16,
          -1.1102230246251565e-16,
          -3.3306690738754696e-16,
          -5.551115123125783e-16,
          -1.3322676295501878e-15,
          -1.9984014443252818e-15,
          -3.774758283725532e-15,
          -7.438494264988549e-15,
          -1.4654943925052066e-14,
          -2.90878432451791e-14,
          -5.839773109528323e-14,
          -1.163513729807164e-13,
          -2.325917236589703e-13,
          -4.64850380410553e-13,
          -9.299228054260311e-13,
          -1.8595125439446747e-12,
          -3.718692020981962e-12,
          -7.437161997358999e-12,
          -1.4874323994717997e-11,
          -2.974853696713353e-11,
          -5.94969629119646e-11,
          -1.1899359275702182e-10,
          -2.37987518580951e-10,
          -4.759751481842045e-10,
          -9.519492971676868e-10,
          -1.9038980392238614e-9,
          -3.807796300492328e-9,
          -7.615592934051563e-9,
          -1.5231185424013916e-8,
          -3.046237084802783e-8,
          -6.092474091889954e-8,
          -1.2184948094962067e-7,
          -2.4369895812448306e-7,
          -4.87397902260156e-7,
          -9.74795749120183e-7,
          -0.0000019495912773059842,
          -0.000003899181674094088,
          -0.000007798359826671764,
          -0.00001559670556772197,
          -0.00003119335479473406,
          -0.00006238648423140258,
          -0.00012477206706851263,
          -0.00024954052884385014,
          -0.0004990666387727494,
          -0.0009980756199222673,
          -0.001995920753629754,
          -0.003990920716197555,
          -0.007978167491750399,
          -0.01594171290169888,
          -0.0318255252022519,
          -0.06342412254724794,
          -0.12597750214429226,
          -0.24876119320359358,
          -0.4869629876585607,
          -0.9480906949620721,
          -1.9093276676464126,
          -4.729912946725108,
          -23.134903143066158,
          -535.5246163719393,
          -286786.6600280177,
          -82246588370.02684,
          -6.764501298508633e+21,
          -4.575847781752498e+43,
          -2.0938382921769254e+87,
          -4.384158793786385e+174,
          null,
          null,
          null,
          null,
          null,
          null,
          null,
          null,
          null,
          null,
          null,
          null,
          null,
          null,
          null,
          null,
          null,
          null,
          null,
          null,
          null,
          null,
          null,
          null,
          null,
          null,
          null,
          null,
          null,
          null,
          null,
          null,
          null,
          null,
          null
         ],
         "yaxis": "y"
        },
        {
         "hovertemplate": "variable=MoRi<br>index=%{x}<br>value=%{y}<extra></extra>",
         "legendgroup": "MoRi",
         "line": {
          "color": "#EF553B",
          "dash": "solid"
         },
         "marker": {
          "symbol": "circle"
         },
         "mode": "lines",
         "name": "MoRi",
         "showlegend": true,
         "type": "scattergl",
         "x": [
          0,
          1,
          2,
          3,
          4,
          5,
          6,
          7,
          8,
          9,
          10,
          11,
          12,
          13,
          14,
          15,
          16,
          17,
          18,
          19,
          20,
          21,
          22,
          23,
          24,
          25,
          26,
          27,
          28,
          29,
          30,
          31,
          32,
          33,
          34,
          35,
          36,
          37,
          38,
          39,
          40,
          41,
          42,
          43,
          44,
          45,
          46,
          47,
          48,
          49,
          50,
          51,
          52,
          53,
          54,
          55,
          56,
          57,
          58,
          59,
          60,
          61,
          62,
          63,
          64,
          65,
          66,
          67,
          68,
          69,
          70,
          71,
          72,
          73,
          74,
          75,
          76,
          77,
          78,
          79,
          80,
          81,
          82,
          83,
          84,
          85,
          86,
          87,
          88,
          89,
          90,
          91,
          92,
          93,
          94,
          95,
          96,
          97,
          98,
          99
         ],
         "xaxis": "x",
         "y": [
          0,
          -1.1102230246251565e-16,
          -2.220446049250313e-16,
          -5.551115123125783e-16,
          -9.992007221626409e-16,
          -1.7763568394002505e-15,
          -3.6637359812630166e-15,
          -7.327471962526033e-15,
          -1.4654943925052066e-14,
          -2.930988785010413e-14,
          -5.81756864903582e-14,
          -1.1612932837579137e-13,
          -2.3236967905404526e-13,
          -4.64850380410553e-13,
          -9.29700760821106e-13,
          -1.8595125439446747e-12,
          -3.718692020981962e-12,
          -7.436939952754074e-12,
          -1.4874101950113072e-11,
          -2.974842594483107e-11,
          -5.949685188966214e-11,
          -1.1899359275702182e-10,
          -2.3798740755864856e-10,
          -4.759749261395996e-10,
          -9.519489641007794e-10,
          -1.903897928201559e-9,
          -3.807796078447723e-9,
          -7.61559282302926e-9,
          -1.523118520196931e-8,
          -3.0462370625983226e-8,
          -6.092474069685494e-8,
          -1.2184948061655376e-7,
          -2.4369895768039385e-7,
          -4.873979019270891e-7,
          -9.747957484540493e-7,
          -0.0000019495912770839396,
          -0.000003899181673983065,
          -0.000007798359826338697,
          -0.000015596705567388902,
          -0.000031193354794289974,
          -0.0000623864842309585,
          -0.00012477206706806854,
          -0.0002495405288436281,
          -0.0004990666387724163,
          -0.0009980756199217122,
          -0.001995920753629421,
          -0.0039909207161969995,
          -0.007978167491749955,
          -0.015941712901698213,
          -0.03182552520225157,
          -0.06342412254724727,
          -0.12597750214429193,
          -0.24876119320359313,
          -0.4869629876585604,
          -0.948090694962072,
          -1.9093276676464126,
          -4.729912946725108,
          -23.134903143066158,
          -535.5246163719393,
          -286786.6600280177,
          -82246588370.02684,
          -6.764501298508633e+21,
          -4.575847781752498e+43,
          -2.0938382921769254e+87,
          -4.384158793786385e+174,
          null,
          null,
          null,
          null,
          null,
          null,
          null,
          null,
          null,
          null,
          null,
          null,
          null,
          null,
          null,
          null,
          null,
          null,
          null,
          null,
          null,
          null,
          null,
          null,
          null,
          null,
          null,
          null,
          null,
          null,
          null,
          null,
          null,
          null,
          null
         ],
         "yaxis": "y"
        },
        {
         "hovertemplate": "variable=MeRi<br>index=%{x}<br>value=%{y}<extra></extra>",
         "legendgroup": "MeRi",
         "line": {
          "color": "#00cc96",
          "dash": "solid"
         },
         "marker": {
          "symbol": "circle"
         },
         "mode": "lines",
         "name": "MeRi",
         "showlegend": true,
         "type": "scattergl",
         "x": [
          0,
          1,
          2,
          3,
          4,
          5,
          6,
          7,
          8,
          9,
          10,
          11,
          12,
          13,
          14,
          15,
          16,
          17,
          18,
          19,
          20,
          21,
          22,
          23,
          24,
          25,
          26,
          27,
          28,
          29,
          30,
          31,
          32,
          33,
          34,
          35,
          36,
          37,
          38,
          39,
          40,
          41,
          42,
          43,
          44,
          45,
          46,
          47,
          48,
          49,
          50,
          51,
          52,
          53,
          54,
          55,
          56,
          57,
          58,
          59,
          60,
          61,
          62,
          63,
          64,
          65,
          66,
          67,
          68,
          69,
          70,
          71,
          72,
          73,
          74,
          75,
          76,
          77,
          78,
          79,
          80,
          81,
          82,
          83,
          84,
          85,
          86,
          87,
          88,
          89,
          90,
          91,
          92,
          93,
          94,
          95,
          96,
          97,
          98,
          99
         ],
         "xaxis": "x",
         "y": [
          -3.3306690738754696e-16,
          -2.220446049250313e-16,
          0,
          -3.3306690738754696e-16,
          -7.771561172376096e-16,
          -1.7763568394002505e-15,
          -3.3306690738754696e-15,
          -7.327471962526033e-15,
          -1.4210854715202004e-14,
          -2.886579864025407e-14,
          -5.806466418789569e-14,
          -1.1612932837579137e-13,
          -2.3225865675158275e-13,
          -4.64628335805628e-13,
          -9.29478716216181e-13,
          -1.859401521642212e-12,
          -3.718358954074574e-12,
          -7.436828930451611e-12,
          -1.4874101950113072e-11,
          -2.974842594483107e-11,
          -5.949662984505721e-11,
          -1.1899348173471935e-10,
          -2.3798707449174117e-10,
          -4.759748151172971e-10,
          -9.51948853078477e-10,
          -1.9038978171792564e-9,
          -3.80779596742542e-9,
          -7.615592600984655e-9,
          -1.5231185090947008e-8,
          -3.0462370514960924e-8,
          -6.092474069685494e-8,
          -1.2184948061655376e-7,
          -2.4369895768039385e-7,
          -4.873979017050445e-7,
          -9.74795748343027e-7,
          -0.0000019495912770839396,
          -0.000003899181673538976,
          -0.000007798359825783585,
          -0.000015596705567055835,
          -0.000031193354793845884,
          -0.00006238648423073645,
          -0.00012477206706795752,
          -0.00024954052884329503,
          -0.0004990666387721943,
          -0.0009980756199216012,
          -0.001995920753628644,
          -0.0039909207161967775,
          -0.007978167491748955,
          -0.01594171290169799,
          -0.031825525202250904,
          -0.06342412254724705,
          -0.1259775021442915,
          -0.2487611932035929,
          -0.48696298765856016,
          -0.9480906949620718,
          -1.9093276676464126,
          -4.729912946725108,
          -23.13490314306616,
          -535.5246163719394,
          -286786.6600280177,
          -82246588370.02684,
          -6.764501298508633e+21,
          -4.575847781752498e+43,
          -2.0938382921769254e+87,
          -4.384158793786385e+174,
          null,
          null,
          null,
          null,
          null,
          null,
          null,
          null,
          null,
          null,
          null,
          null,
          null,
          null,
          null,
          null,
          null,
          null,
          null,
          null,
          null,
          null,
          null,
          null,
          null,
          null,
          null,
          null,
          null,
          null,
          null,
          null,
          null,
          null,
          null
         ],
         "yaxis": "y"
        },
        {
         "hovertemplate": "variable=Ri<br>index=%{x}<br>value=%{y}<extra></extra>",
         "legendgroup": "Ri",
         "line": {
          "color": "#ab63fa",
          "dash": "solid"
         },
         "marker": {
          "symbol": "circle"
         },
         "mode": "lines",
         "name": "Ri",
         "showlegend": true,
         "type": "scattergl",
         "x": [
          0,
          1,
          2,
          3,
          4,
          5,
          6,
          7,
          8,
          9,
          10,
          11,
          12,
          13,
          14,
          15,
          16,
          17,
          18,
          19,
          20,
          21,
          22,
          23,
          24,
          25,
          26,
          27,
          28,
          29,
          30,
          31,
          32,
          33,
          34,
          35,
          36,
          37,
          38,
          39,
          40,
          41,
          42,
          43,
          44,
          45,
          46,
          47,
          48,
          49,
          50,
          51,
          52,
          53,
          54,
          55,
          56,
          57,
          58,
          59,
          60,
          61,
          62,
          63,
          64,
          65,
          66,
          67,
          68,
          69,
          70,
          71,
          72,
          73,
          74,
          75,
          76,
          77,
          78,
          79,
          80,
          81,
          82,
          83,
          84,
          85,
          86,
          87,
          88,
          89,
          90,
          91,
          92,
          93,
          94,
          95,
          96,
          97,
          98,
          99
         ],
         "xaxis": "x",
         "y": [
          -2.220446049250313e-16,
          -2.220446049250313e-16,
          0,
          -5.551115123125783e-16,
          -9.992007221626409e-16,
          -1.887379141862766e-15,
          -3.552713678800501e-15,
          -7.327471962526033e-15,
          -1.4210854715202004e-14,
          -2.90878432451791e-14,
          -5.806466418789569e-14,
          -1.163513729807164e-13,
          -2.3225865675158275e-13,
          -4.64628335805628e-13,
          -9.29478716216181e-13,
          -1.859401521642212e-12,
          -3.718358954074574e-12,
          -7.436828930451611e-12,
          -1.4874101950113072e-11,
          -2.974842594483107e-11,
          -5.949662984505721e-11,
          -1.1899348173471935e-10,
          -2.3798707449174117e-10,
          -4.759748151172971e-10,
          -9.51948853078477e-10,
          -1.9038978171792564e-9,
          -3.80779596742542e-9,
          -7.615592600984655e-9,
          -1.5231185090947008e-8,
          -3.0462370514960924e-8,
          -6.092474069685494e-8,
          -1.2184948061655376e-7,
          -2.4369895768039385e-7,
          -4.873979017050445e-7,
          -9.74795748343027e-7,
          -0.0000019495912770839396,
          -0.000003899181673538976,
          -0.000007798359825783585,
          -0.000015596705567055835,
          -0.000031193354793845884,
          -0.00006238648423073645,
          -0.00012477206706795752,
          -0.00024954052884329503,
          -0.0004990666387721943,
          -0.0009980756199216012,
          -0.001995920753628644,
          -0.0039909207161967775,
          -0.007978167491748955,
          -0.01594171290169799,
          -0.031825525202250904,
          -0.06342412254724705,
          -0.1259775021442915,
          -0.2487611932035929,
          -0.48696298765856016,
          -0.9480906949620718,
          -1.9093276676464126,
          -4.729912946725108,
          -23.13490314306616,
          -535.5246163719394,
          -286786.6600280177,
          -82246588370.02684,
          -6.764501298508633e+21,
          -4.575847781752498e+43,
          -2.0938382921769254e+87,
          -4.384158793786385e+174,
          null,
          null,
          null,
          null,
          null,
          null,
          null,
          null,
          null,
          null,
          null,
          null,
          null,
          null,
          null,
          null,
          null,
          null,
          null,
          null,
          null,
          null,
          null,
          null,
          null,
          null,
          null,
          null,
          null,
          null,
          null,
          null,
          null,
          null,
          null
         ],
         "yaxis": "y"
        },
        {
         "hovertemplate": "variable=Comp<br>index=%{x}<br>value=%{y}<extra></extra>",
         "legendgroup": "Comp",
         "line": {
          "color": "#FFA15A",
          "dash": "solid"
         },
         "marker": {
          "symbol": "circle"
         },
         "mode": "lines",
         "name": "Comp",
         "showlegend": true,
         "type": "scattergl",
         "x": [
          0,
          1,
          2,
          3,
          4,
          5,
          6,
          7,
          8,
          9,
          10,
          11,
          12,
          13,
          14,
          15,
          16,
          17,
          18,
          19,
          20,
          21,
          22,
          23,
          24,
          25,
          26,
          27,
          28,
          29,
          30,
          31,
          32,
          33,
          34,
          35,
          36,
          37,
          38,
          39,
          40,
          41,
          42,
          43,
          44,
          45,
          46,
          47,
          48,
          49,
          50,
          51,
          52,
          53,
          54,
          55,
          56,
          57,
          58,
          59,
          60,
          61,
          62,
          63,
          64,
          65,
          66,
          67,
          68,
          69,
          70,
          71,
          72,
          73,
          74,
          75,
          76,
          77,
          78,
          79,
          80,
          81,
          82,
          83,
          84,
          85,
          86,
          87,
          88,
          89,
          90,
          91,
          92,
          93,
          94,
          95,
          96,
          97,
          98,
          99
         ],
         "xaxis": "x",
         "y": [
          0,
          3.3306690738754696e-16,
          -1.1102230246251565e-16,
          -5.551115123125783e-16,
          -8.881784197001252e-16,
          -1.887379141862766e-15,
          -3.552713678800501e-15,
          -7.438494264988549e-15,
          -1.4654943925052066e-14,
          -2.90878432451791e-14,
          -5.795364188543317e-14,
          -1.163513729807164e-13,
          -2.325917236589703e-13,
          -4.64628335805628e-13,
          -9.29700760821106e-13,
          -1.8595125439446747e-12,
          -3.718692020981962e-12,
          -7.437161997358999e-12,
          -1.4874323994717997e-11,
          -2.974831492252861e-11,
          -5.94969629119646e-11,
          -1.1899359275702182e-10,
          -2.379872965363461e-10,
          -4.759749261395996e-10,
          -9.51949075123082e-10,
          -1.9038980392238614e-9,
          -3.807796300492328e-9,
          -7.615592489962353e-9,
          -1.5231185424013916e-8,
          -3.046237084802783e-8,
          -6.092474091889954e-8,
          -1.2184948072757606e-7,
          -2.4369895801346075e-7,
          -4.873979020381114e-7,
          -9.747957488981385e-7,
          -0.0000019495912773059842,
          -0.000003899181673872043,
          -0.000007798359826338697,
          -0.000015596705567499924,
          -0.00003119335479451202,
          -0.00006238648423140258,
          -0.00012477206706851263,
          -0.00024954052884385014,
          -0.0004990666387726383,
          -0.0009980756199222673,
          -0.001995920753629532,
          -0.003990920716197555,
          -0.007978167491750066,
          -0.015941712901698657,
          -0.03182552520225168,
          -0.06342412254724783,
          -0.12597750214429204,
          -0.24876119320359358,
          -0.4869629876585607,
          -0.9480906949620721,
          -1.9093276676464126,
          -4.729912946725108,
          -23.13490314306616,
          -535.5246163719394,
          -286786.6600280177,
          -82246588370.02684,
          -6.764501298508633e+21,
          -4.575847781752498e+43,
          -2.0938382921769254e+87,
          -4.384158793786385e+174,
          null,
          null,
          null,
          null,
          null,
          null,
          null,
          null,
          null,
          null,
          null,
          null,
          null,
          null,
          null,
          null,
          null,
          null,
          null,
          null,
          null,
          null,
          null,
          null,
          null,
          null,
          null,
          null,
          null,
          null,
          null,
          null,
          null,
          null,
          null
         ],
         "yaxis": "y"
        }
       ],
       "layout": {
        "legend": {
         "title": {
          "text": "variable"
         },
         "tracegroupgap": 0
        },
        "template": {
         "data": {
          "bar": [
           {
            "error_x": {
             "color": "#2a3f5f"
            },
            "error_y": {
             "color": "#2a3f5f"
            },
            "marker": {
             "line": {
              "color": "#E5ECF6",
              "width": 0.5
             },
             "pattern": {
              "fillmode": "overlay",
              "size": 10,
              "solidity": 0.2
             }
            },
            "type": "bar"
           }
          ],
          "barpolar": [
           {
            "marker": {
             "line": {
              "color": "#E5ECF6",
              "width": 0.5
             },
             "pattern": {
              "fillmode": "overlay",
              "size": 10,
              "solidity": 0.2
             }
            },
            "type": "barpolar"
           }
          ],
          "carpet": [
           {
            "aaxis": {
             "endlinecolor": "#2a3f5f",
             "gridcolor": "white",
             "linecolor": "white",
             "minorgridcolor": "white",
             "startlinecolor": "#2a3f5f"
            },
            "baxis": {
             "endlinecolor": "#2a3f5f",
             "gridcolor": "white",
             "linecolor": "white",
             "minorgridcolor": "white",
             "startlinecolor": "#2a3f5f"
            },
            "type": "carpet"
           }
          ],
          "choropleth": [
           {
            "colorbar": {
             "outlinewidth": 0,
             "ticks": ""
            },
            "type": "choropleth"
           }
          ],
          "contour": [
           {
            "colorbar": {
             "outlinewidth": 0,
             "ticks": ""
            },
            "colorscale": [
             [
              0,
              "#0d0887"
             ],
             [
              0.1111111111111111,
              "#46039f"
             ],
             [
              0.2222222222222222,
              "#7201a8"
             ],
             [
              0.3333333333333333,
              "#9c179e"
             ],
             [
              0.4444444444444444,
              "#bd3786"
             ],
             [
              0.5555555555555556,
              "#d8576b"
             ],
             [
              0.6666666666666666,
              "#ed7953"
             ],
             [
              0.7777777777777778,
              "#fb9f3a"
             ],
             [
              0.8888888888888888,
              "#fdca26"
             ],
             [
              1,
              "#f0f921"
             ]
            ],
            "type": "contour"
           }
          ],
          "contourcarpet": [
           {
            "colorbar": {
             "outlinewidth": 0,
             "ticks": ""
            },
            "type": "contourcarpet"
           }
          ],
          "heatmap": [
           {
            "colorbar": {
             "outlinewidth": 0,
             "ticks": ""
            },
            "colorscale": [
             [
              0,
              "#0d0887"
             ],
             [
              0.1111111111111111,
              "#46039f"
             ],
             [
              0.2222222222222222,
              "#7201a8"
             ],
             [
              0.3333333333333333,
              "#9c179e"
             ],
             [
              0.4444444444444444,
              "#bd3786"
             ],
             [
              0.5555555555555556,
              "#d8576b"
             ],
             [
              0.6666666666666666,
              "#ed7953"
             ],
             [
              0.7777777777777778,
              "#fb9f3a"
             ],
             [
              0.8888888888888888,
              "#fdca26"
             ],
             [
              1,
              "#f0f921"
             ]
            ],
            "type": "heatmap"
           }
          ],
          "heatmapgl": [
           {
            "colorbar": {
             "outlinewidth": 0,
             "ticks": ""
            },
            "colorscale": [
             [
              0,
              "#0d0887"
             ],
             [
              0.1111111111111111,
              "#46039f"
             ],
             [
              0.2222222222222222,
              "#7201a8"
             ],
             [
              0.3333333333333333,
              "#9c179e"
             ],
             [
              0.4444444444444444,
              "#bd3786"
             ],
             [
              0.5555555555555556,
              "#d8576b"
             ],
             [
              0.6666666666666666,
              "#ed7953"
             ],
             [
              0.7777777777777778,
              "#fb9f3a"
             ],
             [
              0.8888888888888888,
              "#fdca26"
             ],
             [
              1,
              "#f0f921"
             ]
            ],
            "type": "heatmapgl"
           }
          ],
          "histogram": [
           {
            "marker": {
             "pattern": {
              "fillmode": "overlay",
              "size": 10,
              "solidity": 0.2
             }
            },
            "type": "histogram"
           }
          ],
          "histogram2d": [
           {
            "colorbar": {
             "outlinewidth": 0,
             "ticks": ""
            },
            "colorscale": [
             [
              0,
              "#0d0887"
             ],
             [
              0.1111111111111111,
              "#46039f"
             ],
             [
              0.2222222222222222,
              "#7201a8"
             ],
             [
              0.3333333333333333,
              "#9c179e"
             ],
             [
              0.4444444444444444,
              "#bd3786"
             ],
             [
              0.5555555555555556,
              "#d8576b"
             ],
             [
              0.6666666666666666,
              "#ed7953"
             ],
             [
              0.7777777777777778,
              "#fb9f3a"
             ],
             [
              0.8888888888888888,
              "#fdca26"
             ],
             [
              1,
              "#f0f921"
             ]
            ],
            "type": "histogram2d"
           }
          ],
          "histogram2dcontour": [
           {
            "colorbar": {
             "outlinewidth": 0,
             "ticks": ""
            },
            "colorscale": [
             [
              0,
              "#0d0887"
             ],
             [
              0.1111111111111111,
              "#46039f"
             ],
             [
              0.2222222222222222,
              "#7201a8"
             ],
             [
              0.3333333333333333,
              "#9c179e"
             ],
             [
              0.4444444444444444,
              "#bd3786"
             ],
             [
              0.5555555555555556,
              "#d8576b"
             ],
             [
              0.6666666666666666,
              "#ed7953"
             ],
             [
              0.7777777777777778,
              "#fb9f3a"
             ],
             [
              0.8888888888888888,
              "#fdca26"
             ],
             [
              1,
              "#f0f921"
             ]
            ],
            "type": "histogram2dcontour"
           }
          ],
          "mesh3d": [
           {
            "colorbar": {
             "outlinewidth": 0,
             "ticks": ""
            },
            "type": "mesh3d"
           }
          ],
          "parcoords": [
           {
            "line": {
             "colorbar": {
              "outlinewidth": 0,
              "ticks": ""
             }
            },
            "type": "parcoords"
           }
          ],
          "pie": [
           {
            "automargin": true,
            "type": "pie"
           }
          ],
          "scatter": [
           {
            "fillpattern": {
             "fillmode": "overlay",
             "size": 10,
             "solidity": 0.2
            },
            "type": "scatter"
           }
          ],
          "scatter3d": [
           {
            "line": {
             "colorbar": {
              "outlinewidth": 0,
              "ticks": ""
             }
            },
            "marker": {
             "colorbar": {
              "outlinewidth": 0,
              "ticks": ""
             }
            },
            "type": "scatter3d"
           }
          ],
          "scattercarpet": [
           {
            "marker": {
             "colorbar": {
              "outlinewidth": 0,
              "ticks": ""
             }
            },
            "type": "scattercarpet"
           }
          ],
          "scattergeo": [
           {
            "marker": {
             "colorbar": {
              "outlinewidth": 0,
              "ticks": ""
             }
            },
            "type": "scattergeo"
           }
          ],
          "scattergl": [
           {
            "marker": {
             "colorbar": {
              "outlinewidth": 0,
              "ticks": ""
             }
            },
            "type": "scattergl"
           }
          ],
          "scattermapbox": [
           {
            "marker": {
             "colorbar": {
              "outlinewidth": 0,
              "ticks": ""
             }
            },
            "type": "scattermapbox"
           }
          ],
          "scatterpolar": [
           {
            "marker": {
             "colorbar": {
              "outlinewidth": 0,
              "ticks": ""
             }
            },
            "type": "scatterpolar"
           }
          ],
          "scatterpolargl": [
           {
            "marker": {
             "colorbar": {
              "outlinewidth": 0,
              "ticks": ""
             }
            },
            "type": "scatterpolargl"
           }
          ],
          "scatterternary": [
           {
            "marker": {
             "colorbar": {
              "outlinewidth": 0,
              "ticks": ""
             }
            },
            "type": "scatterternary"
           }
          ],
          "surface": [
           {
            "colorbar": {
             "outlinewidth": 0,
             "ticks": ""
            },
            "colorscale": [
             [
              0,
              "#0d0887"
             ],
             [
              0.1111111111111111,
              "#46039f"
             ],
             [
              0.2222222222222222,
              "#7201a8"
             ],
             [
              0.3333333333333333,
              "#9c179e"
             ],
             [
              0.4444444444444444,
              "#bd3786"
             ],
             [
              0.5555555555555556,
              "#d8576b"
             ],
             [
              0.6666666666666666,
              "#ed7953"
             ],
             [
              0.7777777777777778,
              "#fb9f3a"
             ],
             [
              0.8888888888888888,
              "#fdca26"
             ],
             [
              1,
              "#f0f921"
             ]
            ],
            "type": "surface"
           }
          ],
          "table": [
           {
            "cells": {
             "fill": {
              "color": "#EBF0F8"
             },
             "line": {
              "color": "white"
             }
            },
            "header": {
             "fill": {
              "color": "#C8D4E3"
             },
             "line": {
              "color": "white"
             }
            },
            "type": "table"
           }
          ]
         },
         "layout": {
          "annotationdefaults": {
           "arrowcolor": "#2a3f5f",
           "arrowhead": 0,
           "arrowwidth": 1
          },
          "autotypenumbers": "strict",
          "coloraxis": {
           "colorbar": {
            "outlinewidth": 0,
            "ticks": ""
           }
          },
          "colorscale": {
           "diverging": [
            [
             0,
             "#8e0152"
            ],
            [
             0.1,
             "#c51b7d"
            ],
            [
             0.2,
             "#de77ae"
            ],
            [
             0.3,
             "#f1b6da"
            ],
            [
             0.4,
             "#fde0ef"
            ],
            [
             0.5,
             "#f7f7f7"
            ],
            [
             0.6,
             "#e6f5d0"
            ],
            [
             0.7,
             "#b8e186"
            ],
            [
             0.8,
             "#7fbc41"
            ],
            [
             0.9,
             "#4d9221"
            ],
            [
             1,
             "#276419"
            ]
           ],
           "sequential": [
            [
             0,
             "#0d0887"
            ],
            [
             0.1111111111111111,
             "#46039f"
            ],
            [
             0.2222222222222222,
             "#7201a8"
            ],
            [
             0.3333333333333333,
             "#9c179e"
            ],
            [
             0.4444444444444444,
             "#bd3786"
            ],
            [
             0.5555555555555556,
             "#d8576b"
            ],
            [
             0.6666666666666666,
             "#ed7953"
            ],
            [
             0.7777777777777778,
             "#fb9f3a"
            ],
            [
             0.8888888888888888,
             "#fdca26"
            ],
            [
             1,
             "#f0f921"
            ]
           ],
           "sequentialminus": [
            [
             0,
             "#0d0887"
            ],
            [
             0.1111111111111111,
             "#46039f"
            ],
            [
             0.2222222222222222,
             "#7201a8"
            ],
            [
             0.3333333333333333,
             "#9c179e"
            ],
            [
             0.4444444444444444,
             "#bd3786"
            ],
            [
             0.5555555555555556,
             "#d8576b"
            ],
            [
             0.6666666666666666,
             "#ed7953"
            ],
            [
             0.7777777777777778,
             "#fb9f3a"
            ],
            [
             0.8888888888888888,
             "#fdca26"
            ],
            [
             1,
             "#f0f921"
            ]
           ]
          },
          "colorway": [
           "#636efa",
           "#EF553B",
           "#00cc96",
           "#ab63fa",
           "#FFA15A",
           "#19d3f3",
           "#FF6692",
           "#B6E880",
           "#FF97FF",
           "#FECB52"
          ],
          "font": {
           "color": "#2a3f5f"
          },
          "geo": {
           "bgcolor": "white",
           "lakecolor": "white",
           "landcolor": "#E5ECF6",
           "showlakes": true,
           "showland": true,
           "subunitcolor": "white"
          },
          "hoverlabel": {
           "align": "left"
          },
          "hovermode": "closest",
          "mapbox": {
           "style": "light"
          },
          "paper_bgcolor": "white",
          "plot_bgcolor": "#E5ECF6",
          "polar": {
           "angularaxis": {
            "gridcolor": "white",
            "linecolor": "white",
            "ticks": ""
           },
           "bgcolor": "#E5ECF6",
           "radialaxis": {
            "gridcolor": "white",
            "linecolor": "white",
            "ticks": ""
           }
          },
          "scene": {
           "xaxis": {
            "backgroundcolor": "#E5ECF6",
            "gridcolor": "white",
            "gridwidth": 2,
            "linecolor": "white",
            "showbackground": true,
            "ticks": "",
            "zerolinecolor": "white"
           },
           "yaxis": {
            "backgroundcolor": "#E5ECF6",
            "gridcolor": "white",
            "gridwidth": 2,
            "linecolor": "white",
            "showbackground": true,
            "ticks": "",
            "zerolinecolor": "white"
           },
           "zaxis": {
            "backgroundcolor": "#E5ECF6",
            "gridcolor": "white",
            "gridwidth": 2,
            "linecolor": "white",
            "showbackground": true,
            "ticks": "",
            "zerolinecolor": "white"
           }
          },
          "shapedefaults": {
           "line": {
            "color": "#2a3f5f"
           }
          },
          "ternary": {
           "aaxis": {
            "gridcolor": "white",
            "linecolor": "white",
            "ticks": ""
           },
           "baxis": {
            "gridcolor": "white",
            "linecolor": "white",
            "ticks": ""
           },
           "bgcolor": "#E5ECF6",
           "caxis": {
            "gridcolor": "white",
            "linecolor": "white",
            "ticks": ""
           }
          },
          "title": {
           "x": 0.05
          },
          "xaxis": {
           "automargin": true,
           "gridcolor": "white",
           "linecolor": "white",
           "ticks": "",
           "title": {
            "standoff": 15
           },
           "zerolinecolor": "white",
           "zerolinewidth": 2
          },
          "yaxis": {
           "automargin": true,
           "gridcolor": "white",
           "linecolor": "white",
           "ticks": "",
           "title": {
            "standoff": 15
           },
           "zerolinecolor": "white",
           "zerolinewidth": 2
          }
         }
        },
        "title": {
         "text": "Evolution of activations for soggetto_3"
        },
        "xaxis": {
         "anchor": "y",
         "domain": [
          0,
          1
         ],
         "title": {
          "text": "index"
         }
        },
        "yaxis": {
         "anchor": "x",
         "domain": [
          0,
          1
         ],
         "title": {
          "text": "value"
         }
        }
       }
      }
     },
     "metadata": {},
     "output_type": "display_data"
    },
    {
     "data": {
      "application/vnd.plotly.v1+json": {
       "config": {
        "plotlyServerURL": "https://plot.ly"
       },
       "data": [
        {
         "hovertemplate": "variable=TrRi<br>index=%{x}<br>value=%{y}<extra></extra>",
         "legendgroup": "TrRi",
         "line": {
          "color": "#636efa",
          "dash": "solid"
         },
         "marker": {
          "symbol": "circle"
         },
         "mode": "lines",
         "name": "TrRi",
         "showlegend": true,
         "type": "scattergl",
         "x": [
          0,
          1,
          2,
          3,
          4,
          5,
          6,
          7,
          8,
          9,
          10,
          11,
          12,
          13,
          14,
          15,
          16,
          17,
          18,
          19,
          20,
          21,
          22,
          23,
          24,
          25,
          26,
          27,
          28,
          29,
          30,
          31,
          32,
          33,
          34,
          35,
          36,
          37,
          38,
          39,
          40,
          41,
          42,
          43,
          44,
          45,
          46,
          47,
          48,
          49,
          50,
          51,
          52,
          53,
          54,
          55,
          56,
          57,
          58,
          59,
          60,
          61,
          62,
          63,
          64,
          65,
          66,
          67,
          68,
          69,
          70,
          71,
          72,
          73,
          74,
          75,
          76,
          77,
          78,
          79,
          80,
          81,
          82,
          83,
          84,
          85,
          86,
          87,
          88,
          89,
          90,
          91,
          92,
          93,
          94,
          95,
          96,
          97,
          98,
          99
         ],
         "xaxis": "x",
         "y": [
          -2.220446049250313e-16,
          -2.220446049250313e-16,
          -3.3306690738754696e-16,
          -7.771561172376096e-16,
          -1.887379141862766e-15,
          -3.774758283725532e-15,
          -7.882583474838611e-15,
          -1.5654144647214707e-14,
          -3.11972669919669e-14,
          -6.261657858885883e-14,
          -1.2534417948018017e-13,
          -2.5079938126282286e-13,
          -5.018208071305708e-13,
          -1.003974681168529e-12,
          -2.008171406941983e-12,
          -4.016897925396279e-12,
          -8.033795850792558e-12,
          -1.606781374619004e-11,
          -3.213551647007762e-11,
          -6.427147702936509e-11,
          -1.2854339814794002e-10,
          -2.5708679629588005e-10,
          -5.141734815694576e-10,
          -1.0283468521166128e-9,
          -2.0566933711663182e-9,
          -4.113386964377241e-9,
          -8.22677381773218e-9,
          -1.6453547746486663e-8,
          -3.290709560399563e-8,
          -6.581419176310277e-8,
          -1.3162838508051777e-7,
          -2.632567775995298e-7,
          -5.265135845089475e-7,
          -0.0000010530272874786917,
          -0.000002106055047246258,
          -0.000004212111982315747,
          -0.000008424231516257485,
          -0.000016848493239796092,
          -0.000033697107308050533,
          -0.0000673946979370399,
          -0.00013479132921778714,
          -0.00026959039228025006,
          -0.0005392117237201788,
          -0.0010785472343264324,
          -0.0021575898582445463,
          -0.004317163212447794,
          -0.008642275928530063,
          -0.01731647433598471,
          -0.03476163922170772,
          -0.07004612517579989,
          -0.14224960956949362,
          -0.2936779845309193,
          -0.6288382194186353,
          -1.4687150950512269,
          -4.296336030079172,
          -23.015731535544973,
          -542.6718139156279,
          -294578.5707768319,
          -86776538049.09573,
          -7.530167555786167e+21,
          -5.670342341821459e+43,
          -3.2152782273453266e+87,
          -1.0338014079240899e+175,
          null,
          null,
          null,
          null,
          null,
          null,
          null,
          null,
          null,
          null,
          null,
          null,
          null,
          null,
          null,
          null,
          null,
          null,
          null,
          null,
          null,
          null,
          null,
          null,
          null,
          null,
          null,
          null,
          null,
          null,
          null,
          null,
          null,
          null,
          null,
          null,
          null
         ],
         "yaxis": "y"
        },
        {
         "hovertemplate": "variable=RiTr<br>index=%{x}<br>value=%{y}<extra></extra>",
         "legendgroup": "RiTr",
         "line": {
          "color": "#EF553B",
          "dash": "solid"
         },
         "marker": {
          "symbol": "circle"
         },
         "mode": "lines",
         "name": "RiTr",
         "showlegend": true,
         "type": "scattergl",
         "x": [
          0,
          1,
          2,
          3,
          4,
          5,
          6,
          7,
          8,
          9,
          10,
          11,
          12,
          13,
          14,
          15,
          16,
          17,
          18,
          19,
          20,
          21,
          22,
          23,
          24,
          25,
          26,
          27,
          28,
          29,
          30,
          31,
          32,
          33,
          34,
          35,
          36,
          37,
          38,
          39,
          40,
          41,
          42,
          43,
          44,
          45,
          46,
          47,
          48,
          49,
          50,
          51,
          52,
          53,
          54,
          55,
          56,
          57,
          58,
          59,
          60,
          61,
          62,
          63,
          64,
          65,
          66,
          67,
          68,
          69,
          70,
          71,
          72,
          73,
          74,
          75,
          76,
          77,
          78,
          79,
          80,
          81,
          82,
          83,
          84,
          85,
          86,
          87,
          88,
          89,
          90,
          91,
          92,
          93,
          94,
          95,
          96,
          97,
          98,
          99
         ],
         "xaxis": "x",
         "y": [
          1.1102230246251565e-16,
          0,
          -2.220446049250313e-16,
          -5.551115123125783e-16,
          -1.5543122344752192e-15,
          -3.4416913763379853e-15,
          -7.327471962526033e-15,
          -1.532107773982716e-14,
          -3.108624468950438e-14,
          -6.228351168147128e-14,
          -1.2501111257279263e-13,
          -2.504663143554353e-13,
          -5.017097848281082e-13,
          -1.0036416142611415e-12,
          -2.008171406941983e-12,
          -4.016453836186429e-12,
          -8.033684828490095e-12,
          -1.6067480679282653e-11,
          -3.2135405447775156e-11,
          -6.427136600706262e-11,
          -1.2854295405873017e-10,
          -2.570860191397628e-10,
          -5.141727044133404e-10,
          -1.0283456308712857e-9,
          -2.056692816054806e-9,
          -4.113386298243427e-9,
          -8.226773151598366e-9,
          -1.6453546858308243e-8,
          -3.290709482683951e-8,
          -6.581419087492435e-8,
          -1.3162838452540626e-7,
          -2.63256776933396e-7,
          -5.265135842869029e-7,
          -0.0000010530272870346025,
          -0.0000021060550463580796,
          -0.000004212111981649613,
          -0.000008424231515813396,
          -0.000016848493239129958,
          -0.00003369710730727338,
          -0.00006739469793648478,
          -0.00013479132921700998,
          -0.00026959039227980597,
          -0.0005392117237197347,
          -0.0010785472343260993,
          -0.0021575898582444353,
          -0.004317163212447572,
          -0.008642275928529952,
          -0.017316474335984267,
          -0.03476163922170772,
          -0.07004612517579945,
          -0.14224960956949317,
          -0.2936779845309192,
          -0.6288382194186349,
          -1.4687150950512264,
          -4.296336030079169,
          -23.01573153554496,
          -542.6718139156276,
          -294578.5707768317,
          -86776538049.09566,
          -7.53016755578616e+21,
          -5.670342341821456e+43,
          -3.215278227345324e+87,
          -1.0338014079240894e+175,
          null,
          null,
          null,
          null,
          null,
          null,
          null,
          null,
          null,
          null,
          null,
          null,
          null,
          null,
          null,
          null,
          null,
          null,
          null,
          null,
          null,
          null,
          null,
          null,
          null,
          null,
          null,
          null,
          null,
          null,
          null,
          null,
          null,
          null,
          null,
          null,
          null
         ],
         "yaxis": "y"
        },
        {
         "hovertemplate": "variable=Plu<br>index=%{x}<br>value=%{y}<extra></extra>",
         "legendgroup": "Plu",
         "line": {
          "color": "#00cc96",
          "dash": "solid"
         },
         "marker": {
          "symbol": "circle"
         },
         "mode": "lines",
         "name": "Plu",
         "showlegend": true,
         "type": "scattergl",
         "x": [
          0,
          1,
          2,
          3,
          4,
          5,
          6,
          7,
          8,
          9,
          10,
          11,
          12,
          13,
          14,
          15,
          16,
          17,
          18,
          19,
          20,
          21,
          22,
          23,
          24,
          25,
          26,
          27,
          28,
          29,
          30,
          31,
          32,
          33,
          34,
          35,
          36,
          37,
          38,
          39,
          40,
          41,
          42,
          43,
          44,
          45,
          46,
          47,
          48,
          49,
          50,
          51,
          52,
          53,
          54,
          55,
          56,
          57,
          58,
          59,
          60,
          61,
          62,
          63,
          64,
          65,
          66,
          67,
          68,
          69,
          70,
          71,
          72,
          73,
          74,
          75,
          76,
          77,
          78,
          79,
          80,
          81,
          82,
          83,
          84,
          85,
          86,
          87,
          88,
          89,
          90,
          91,
          92,
          93,
          94,
          95,
          96,
          97,
          98,
          99
         ],
         "xaxis": "x",
         "y": [
          0,
          -2.220446049250313e-16,
          -4.440892098500626e-16,
          -1.2212453270876722e-15,
          -1.9984014443252818e-15,
          -3.6637359812630166e-15,
          -7.549516567451064e-15,
          -1.554312234475219e-14,
          -3.108624468950438e-14,
          -6.250555628639631e-14,
          -1.2523315717771766e-13,
          -2.509104035652854e-13,
          -5.019318294330333e-13,
          -1.0040857034709916e-12,
          -2.0086154961518332e-12,
          -4.016675880791354e-12,
          -8.034128917699945e-12,
          -1.6067924768492503e-11,
          -3.213562749238008e-11,
          -6.427158805166755e-11,
          -1.285431761033351e-10,
          -2.570863522066702e-10,
          -5.141731485025502e-10,
          -1.0283465190497054e-9,
          -2.0566932601440158e-9,
          -4.1133865202880315e-9,
          -8.226773595687575e-9,
          -1.6453547524442058e-8,
          -3.2907095492973326e-8,
          -6.581419176310277e-8,
          -1.3162838519154008e-7,
          -2.632567773774852e-7,
          -5.265135845089475e-7,
          -0.000001053027287256647,
          -0.0000021060550470242134,
          -0.000004212111982315747,
          -0.000008424231516257485,
          -0.000016848493240018136,
          -0.000033697107308161556,
          -0.00006739469793715092,
          -0.00013479132921789816,
          -0.00026959039228025006,
          -0.0005392117237208449,
          -0.0010785472343267655,
          -0.0021575898582448794,
          -0.004317163212448016,
          -0.008642275928530396,
          -0.01731647433598471,
          -0.03476163922170816,
          -0.07004612517579967,
          -0.14224960956949362,
          -0.2936779845309194,
          -0.6288382194186354,
          -1.4687150950512269,
          -4.296336030079171,
          -23.015731535544965,
          -542.6718139156278,
          -294578.5707768318,
          -86776538049.09572,
          -7.530167555786165e+21,
          -5.670342341821458e+43,
          -3.2152782273453253e+87,
          -1.0338014079240897e+175,
          null,
          null,
          null,
          null,
          null,
          null,
          null,
          null,
          null,
          null,
          null,
          null,
          null,
          null,
          null,
          null,
          null,
          null,
          null,
          null,
          null,
          null,
          null,
          null,
          null,
          null,
          null,
          null,
          null,
          null,
          null,
          null,
          null,
          null,
          null,
          null,
          null
         ],
         "yaxis": "y"
        },
        {
         "hovertemplate": "variable=Ttra<br>index=%{x}<br>value=%{y}<extra></extra>",
         "legendgroup": "Ttra",
         "line": {
          "color": "#ab63fa",
          "dash": "solid"
         },
         "marker": {
          "symbol": "circle"
         },
         "mode": "lines",
         "name": "Ttra",
         "showlegend": true,
         "type": "scattergl",
         "x": [
          0,
          1,
          2,
          3,
          4,
          5,
          6,
          7,
          8,
          9,
          10,
          11,
          12,
          13,
          14,
          15,
          16,
          17,
          18,
          19,
          20,
          21,
          22,
          23,
          24,
          25,
          26,
          27,
          28,
          29,
          30,
          31,
          32,
          33,
          34,
          35,
          36,
          37,
          38,
          39,
          40,
          41,
          42,
          43,
          44,
          45,
          46,
          47,
          48,
          49,
          50,
          51,
          52,
          53,
          54,
          55,
          56,
          57,
          58,
          59,
          60,
          61,
          62,
          63,
          64,
          65,
          66,
          67,
          68,
          69,
          70,
          71,
          72,
          73,
          74,
          75,
          76,
          77,
          78,
          79,
          80,
          81,
          82,
          83,
          84,
          85,
          86,
          87,
          88,
          89,
          90,
          91,
          92,
          93,
          94,
          95,
          96,
          97,
          98,
          99
         ],
         "xaxis": "x",
         "y": [
          -2.220446049250313e-16,
          -4.440892098500626e-16,
          -7.771561172376096e-16,
          -6.661338147750939e-16,
          -1.7763568394002505e-15,
          -3.885780586188048e-15,
          -7.549516567451064e-15,
          -1.5765166949677223e-14,
          -3.108624468950438e-14,
          -6.272760089132134e-14,
          -1.2523315717771766e-13,
          -2.509104035652854e-13,
          -5.021538740379583e-13,
          -1.0040857034709916e-12,
          -2.0085044738493707e-12,
          -4.016786903093816e-12,
          -8.034128917699945e-12,
          -1.6068146813097428e-11,
          -3.2135849536985006e-11,
          -6.427158805166755e-11,
          -1.2854339814794002e-10,
          -2.5708701834048497e-10,
          -5.141735925917601e-10,
          -1.0283469631389153e-9,
          -2.0566934821886207e-9,
          -4.113386964377241e-9,
          -8.226774039776785e-9,
          -1.6453547746486663e-8,
          -3.290709571501793e-8,
          -6.581419198514737e-8,
          -1.3162838519154008e-7,
          -2.632567778215744e-7,
          -5.265135847309921e-7,
          -0.0000010530272877007363,
          -0.000002106055047246258,
          -0.000004212111982537792,
          -0.00000842423151647953,
          -0.000016848493240018136,
          -0.000033697107308161556,
          -0.00006739469793737296,
          -0.0001347913292181202,
          -0.00026959039228069415,
          -0.0005392117237208449,
          -0.0010785472343267655,
          -0.0021575898582448794,
          -0.004317163212448238,
          -0.008642275928530618,
          -0.017316474335984933,
          -0.034761639221708385,
          -0.07004612517580033,
          -0.14224960956949406,
          -0.29367798453091964,
          -0.6288382194186356,
          -1.4687150950512273,
          -4.296336030079173,
          -23.015731535544973,
          -542.6718139156279,
          -294578.5707768319,
          -86776538049.09573,
          -7.530167555786167e+21,
          -5.670342341821459e+43,
          -3.2152782273453266e+87,
          -1.0338014079240899e+175,
          null,
          null,
          null,
          null,
          null,
          null,
          null,
          null,
          null,
          null,
          null,
          null,
          null,
          null,
          null,
          null,
          null,
          null,
          null,
          null,
          null,
          null,
          null,
          null,
          null,
          null,
          null,
          null,
          null,
          null,
          null,
          null,
          null,
          null,
          null,
          null,
          null
         ],
         "yaxis": "y"
        },
        {
         "hovertemplate": "variable=Ttrb<br>index=%{x}<br>value=%{y}<extra></extra>",
         "legendgroup": "Ttrb",
         "line": {
          "color": "#FFA15A",
          "dash": "solid"
         },
         "marker": {
          "symbol": "circle"
         },
         "mode": "lines",
         "name": "Ttrb",
         "showlegend": true,
         "type": "scattergl",
         "x": [
          0,
          1,
          2,
          3,
          4,
          5,
          6,
          7,
          8,
          9,
          10,
          11,
          12,
          13,
          14,
          15,
          16,
          17,
          18,
          19,
          20,
          21,
          22,
          23,
          24,
          25,
          26,
          27,
          28,
          29,
          30,
          31,
          32,
          33,
          34,
          35,
          36,
          37,
          38,
          39,
          40,
          41,
          42,
          43,
          44,
          45,
          46,
          47,
          48,
          49,
          50,
          51,
          52,
          53,
          54,
          55,
          56,
          57,
          58,
          59,
          60,
          61,
          62,
          63,
          64,
          65,
          66,
          67,
          68,
          69,
          70,
          71,
          72,
          73,
          74,
          75,
          76,
          77,
          78,
          79,
          80,
          81,
          82,
          83,
          84,
          85,
          86,
          87,
          88,
          89,
          90,
          91,
          92,
          93,
          94,
          95,
          96,
          97,
          98,
          99
         ],
         "xaxis": "x",
         "y": [
          -3.3306690738754696e-16,
          -4.440892098500626e-16,
          -7.771561172376096e-16,
          -1.1102230246251565e-15,
          -2.220446049250313e-15,
          -3.9968028886505635e-15,
          -8.215650382226158e-15,
          -1.5765166949677223e-14,
          -3.1308289294429414e-14,
          -6.272760089132134e-14,
          -1.255662240851052e-13,
          -2.511324481702104e-13,
          -5.022648963404208e-13,
          -1.0043077480759166e-12,
          -2.0086154961518332e-12,
          -4.017119970001204e-12,
          -8.03435096230487e-12,
          -1.606825783539989e-11,
          -3.2135849536985006e-11,
          -6.427158805166755e-11,
          -1.2854362019254495e-10,
          -2.5708712936278744e-10,
          -5.141735925917601e-10,
          -1.0283469631389153e-9,
          -2.0566934821886207e-9,
          -4.113387186421846e-9,
          -8.226774039776785e-9,
          -1.6453547746486663e-8,
          -3.290709571501793e-8,
          -6.581419198514737e-8,
          -1.3162838519154008e-7,
          -2.632567778215744e-7,
          -5.265135847309921e-7,
          -0.0000010530272877007363,
          -0.000002106055047246258,
          -0.000004212111982537792,
          -0.00000842423151647953,
          -0.000016848493240018136,
          -0.000033697107308161556,
          -0.00006739469793737296,
          -0.0001347913292181202,
          -0.00026959039228069415,
          -0.0005392117237208449,
          -0.0010785472343267655,
          -0.0021575898582448794,
          -0.004317163212448238,
          -0.008642275928530618,
          -0.017316474335984933,
          -0.034761639221708385,
          -0.07004612517580033,
          -0.14224960956949406,
          -0.29367798453091964,
          -0.6288382194186356,
          -1.4687150950512273,
          -4.296336030079173,
          -23.015731535544973,
          -542.6718139156279,
          -294578.5707768319,
          -86776538049.09573,
          -7.530167555786167e+21,
          -5.670342341821459e+43,
          -3.2152782273453266e+87,
          -1.0338014079240899e+175,
          null,
          null,
          null,
          null,
          null,
          null,
          null,
          null,
          null,
          null,
          null,
          null,
          null,
          null,
          null,
          null,
          null,
          null,
          null,
          null,
          null,
          null,
          null,
          null,
          null,
          null,
          null,
          null,
          null,
          null,
          null,
          null,
          null,
          null,
          null,
          null,
          null
         ],
         "yaxis": "y"
        },
        {
         "hovertemplate": "variable=Tr<br>index=%{x}<br>value=%{y}<extra></extra>",
         "legendgroup": "Tr",
         "line": {
          "color": "#19d3f3",
          "dash": "solid"
         },
         "marker": {
          "symbol": "circle"
         },
         "mode": "lines",
         "name": "Tr",
         "showlegend": true,
         "type": "scattergl",
         "x": [
          0,
          1,
          2,
          3,
          4,
          5,
          6,
          7,
          8,
          9,
          10,
          11,
          12,
          13,
          14,
          15,
          16,
          17,
          18,
          19,
          20,
          21,
          22,
          23,
          24,
          25,
          26,
          27,
          28,
          29,
          30,
          31,
          32,
          33,
          34,
          35,
          36,
          37,
          38,
          39,
          40,
          41,
          42,
          43,
          44,
          45,
          46,
          47,
          48,
          49,
          50,
          51,
          52,
          53,
          54,
          55,
          56,
          57,
          58,
          59,
          60,
          61,
          62,
          63,
          64,
          65,
          66,
          67,
          68,
          69,
          70,
          71,
          72,
          73,
          74,
          75,
          76,
          77,
          78,
          79,
          80,
          81,
          82,
          83,
          84,
          85,
          86,
          87,
          88,
          89,
          90,
          91,
          92,
          93,
          94,
          95,
          96,
          97,
          98,
          99
         ],
         "xaxis": "x",
         "y": [
          2.220446049250313e-16,
          -3.3306690738754696e-16,
          -6.661338147750939e-16,
          -1.1102230246251565e-15,
          -1.887379141862766e-15,
          -3.885780586188048e-15,
          -7.549516567451064e-15,
          -1.5654144647214707e-14,
          -3.108624468950438e-14,
          -6.272760089132134e-14,
          -1.2523315717771766e-13,
          -2.509104035652854e-13,
          -5.019318294330333e-13,
          -1.003974681168529e-12,
          -2.0085044738493707e-12,
          -4.016675880791354e-12,
          -8.03390687309502e-12,
          -1.6068035790794966e-11,
          -3.213551647007762e-11,
          -6.427147702936509e-11,
          -1.285431761033351e-10,
          -2.5708679629588005e-10,
          -5.141734815694576e-10,
          -1.0283468521166128e-9,
          -2.0566933711663182e-9,
          -4.1133867423326365e-9,
          -8.22677381773218e-9,
          -1.6453547746486663e-8,
          -3.290709560399563e-8,
          -6.581419176310277e-8,
          -1.3162838508051777e-7,
          -2.632567775995298e-7,
          -5.265135845089475e-7,
          -0.0000010530272874786917,
          -0.000002106055047246258,
          -0.000004212111982315747,
          -0.000008424231516257485,
          -0.000016848493239796092,
          -0.000033697107308050533,
          -0.0000673946979370399,
          -0.00013479132921778714,
          -0.00026959039228025006,
          -0.0005392117237201788,
          -0.0010785472343264324,
          -0.0021575898582445463,
          -0.004317163212447794,
          -0.008642275928530063,
          -0.01731647433598471,
          -0.03476163922170772,
          -0.07004612517579989,
          -0.14224960956949362,
          -0.2936779845309193,
          -0.6288382194186353,
          -1.4687150950512269,
          -4.296336030079172,
          -23.015731535544973,
          -542.6718139156279,
          -294578.5707768319,
          -86776538049.09573,
          -7.530167555786167e+21,
          -5.670342341821459e+43,
          -3.2152782273453266e+87,
          -1.0338014079240899e+175,
          null,
          null,
          null,
          null,
          null,
          null,
          null,
          null,
          null,
          null,
          null,
          null,
          null,
          null,
          null,
          null,
          null,
          null,
          null,
          null,
          null,
          null,
          null,
          null,
          null,
          null,
          null,
          null,
          null,
          null,
          null,
          null,
          null,
          null,
          null,
          null,
          null
         ],
         "yaxis": "y"
        },
        {
         "hovertemplate": "variable=MeTr<br>index=%{x}<br>value=%{y}<extra></extra>",
         "legendgroup": "MeTr",
         "line": {
          "color": "#FF6692",
          "dash": "solid"
         },
         "marker": {
          "symbol": "circle"
         },
         "mode": "lines",
         "name": "MeTr",
         "showlegend": true,
         "type": "scattergl",
         "x": [
          0,
          1,
          2,
          3,
          4,
          5,
          6,
          7,
          8,
          9,
          10,
          11,
          12,
          13,
          14,
          15,
          16,
          17,
          18,
          19,
          20,
          21,
          22,
          23,
          24,
          25,
          26,
          27,
          28,
          29,
          30,
          31,
          32,
          33,
          34,
          35,
          36,
          37,
          38,
          39,
          40,
          41,
          42,
          43,
          44,
          45,
          46,
          47,
          48,
          49,
          50,
          51,
          52,
          53,
          54,
          55,
          56,
          57,
          58,
          59,
          60,
          61,
          62,
          63,
          64,
          65,
          66,
          67,
          68,
          69,
          70,
          71,
          72,
          73,
          74,
          75,
          76,
          77,
          78,
          79,
          80,
          81,
          82,
          83,
          84,
          85,
          86,
          87,
          88,
          89,
          90,
          91,
          92,
          93,
          94,
          95,
          96,
          97,
          98,
          99
         ],
         "xaxis": "x",
         "y": [
          -1.1102230246251565e-16,
          -2.220446049250313e-16,
          -3.3306690738754696e-16,
          -1.2212453270876722e-15,
          -1.887379141862766e-15,
          -3.885780586188048e-15,
          -7.771561172376096e-15,
          -1.5765166949677223e-14,
          -3.108624468950438e-14,
          -6.272760089132134e-14,
          -1.254552017826427e-13,
          -2.509104035652854e-13,
          -5.021538740379583e-13,
          -1.0040857034709916e-12,
          -2.0085044738493707e-12,
          -4.016786903093816e-12,
          -8.034128917699945e-12,
          -1.6068146813097428e-11,
          -3.2135849536985006e-11,
          -6.427158805166755e-11,
          -1.2854339814794002e-10,
          -2.5708701834048497e-10,
          -5.141735925917601e-10,
          -1.0283469631389153e-9,
          -2.0566934821886207e-9,
          -4.113386964377241e-9,
          -8.226774039776785e-9,
          -1.6453547746486663e-8,
          -3.290709571501793e-8,
          -6.581419198514737e-8,
          -1.3162838519154008e-7,
          -2.632567778215744e-7,
          -5.265135847309921e-7,
          -0.0000010530272877007363,
          -0.000002106055047246258,
          -0.000004212111982537792,
          -0.00000842423151647953,
          -0.000016848493240018136,
          -0.000033697107308161556,
          -0.00006739469793737296,
          -0.0001347913292181202,
          -0.00026959039228069415,
          -0.0005392117237208449,
          -0.0010785472343267655,
          -0.0021575898582448794,
          -0.004317163212448238,
          -0.008642275928530618,
          -0.017316474335984933,
          -0.034761639221708385,
          -0.07004612517580033,
          -0.14224960956949406,
          -0.29367798453091964,
          -0.6288382194186356,
          -1.4687150950512273,
          -4.296336030079173,
          -23.015731535544973,
          -542.6718139156279,
          -294578.5707768319,
          -86776538049.09573,
          -7.530167555786167e+21,
          -5.670342341821459e+43,
          -3.2152782273453266e+87,
          -1.0338014079240899e+175,
          null,
          null,
          null,
          null,
          null,
          null,
          null,
          null,
          null,
          null,
          null,
          null,
          null,
          null,
          null,
          null,
          null,
          null,
          null,
          null,
          null,
          null,
          null,
          null,
          null,
          null,
          null,
          null,
          null,
          null,
          null,
          null,
          null,
          null,
          null,
          null,
          null
         ],
         "yaxis": "y"
        },
        {
         "hovertemplate": "variable=MoTr<br>index=%{x}<br>value=%{y}<extra></extra>",
         "legendgroup": "MoTr",
         "line": {
          "color": "#B6E880",
          "dash": "solid"
         },
         "marker": {
          "symbol": "circle"
         },
         "mode": "lines",
         "name": "MoTr",
         "showlegend": true,
         "type": "scattergl",
         "x": [
          0,
          1,
          2,
          3,
          4,
          5,
          6,
          7,
          8,
          9,
          10,
          11,
          12,
          13,
          14,
          15,
          16,
          17,
          18,
          19,
          20,
          21,
          22,
          23,
          24,
          25,
          26,
          27,
          28,
          29,
          30,
          31,
          32,
          33,
          34,
          35,
          36,
          37,
          38,
          39,
          40,
          41,
          42,
          43,
          44,
          45,
          46,
          47,
          48,
          49,
          50,
          51,
          52,
          53,
          54,
          55,
          56,
          57,
          58,
          59,
          60,
          61,
          62,
          63,
          64,
          65,
          66,
          67,
          68,
          69,
          70,
          71,
          72,
          73,
          74,
          75,
          76,
          77,
          78,
          79,
          80,
          81,
          82,
          83,
          84,
          85,
          86,
          87,
          88,
          89,
          90,
          91,
          92,
          93,
          94,
          95,
          96,
          97,
          98,
          99
         ],
         "xaxis": "x",
         "y": [
          0,
          -5.551115123125783e-16,
          -8.881784197001252e-16,
          -1.2212453270876722e-15,
          -1.7763568394002505e-15,
          -3.885780586188048e-15,
          -7.993605777301127e-15,
          -1.5765166949677223e-14,
          -3.1308289294429414e-14,
          -6.294964549624638e-14,
          -1.254552017826427e-13,
          -2.509104035652854e-13,
          -5.021538740379583e-13,
          -1.0045297926808416e-12,
          -2.0087265184542957e-12,
          -4.017008947698741e-12,
          -8.034573006909795e-12,
          -1.6068146813097428e-11,
          -3.213607158158993e-11,
          -6.427181009627247e-11,
          -1.2854362019254495e-10,
          -2.5708701834048497e-10,
          -5.141735925917601e-10,
          -1.0283469631389153e-9,
          -2.0566934821886207e-9,
          -4.113387186421846e-9,
          -8.22677426182139e-9,
          -1.6453547746486663e-8,
          -3.290709571501793e-8,
          -6.581419198514737e-8,
          -1.3162838541358468e-7,
          -2.63256778043619e-7,
          -5.265135851750813e-7,
          -0.0000010530272879227809,
          -0.0000021060550476903472,
          -0.000004212111982759836,
          -0.000008424231516701575,
          -0.000016848493240018136,
          -0.0000336971073083836,
          -0.000067394697937595,
          -0.0001347913292181202,
          -0.00026959039228069415,
          -0.000539211723721067,
          -0.0010785472343267655,
          -0.0021575898582451014,
          -0.004317163212448238,
          -0.008642275928530618,
          -0.017316474335984933,
          -0.034761639221708385,
          -0.07004612517580033,
          -0.14224960956949406,
          -0.29367798453091987,
          -0.6288382194186356,
          -1.4687150950512278,
          -4.296336030079173,
          -23.015731535544973,
          -542.6718139156279,
          -294578.5707768319,
          -86776538049.09573,
          -7.530167555786167e+21,
          -5.670342341821459e+43,
          -3.2152782273453266e+87,
          -1.0338014079240899e+175,
          null,
          null,
          null,
          null,
          null,
          null,
          null,
          null,
          null,
          null,
          null,
          null,
          null,
          null,
          null,
          null,
          null,
          null,
          null,
          null,
          null,
          null,
          null,
          null,
          null,
          null,
          null,
          null,
          null,
          null,
          null,
          null,
          null,
          null,
          null,
          null,
          null
         ],
         "yaxis": "y"
        },
        {
         "hovertemplate": "variable=RiRi<br>index=%{x}<br>value=%{y}<extra></extra>",
         "legendgroup": "RiRi",
         "line": {
          "color": "#FF97FF",
          "dash": "solid"
         },
         "marker": {
          "symbol": "circle"
         },
         "mode": "lines",
         "name": "RiRi",
         "showlegend": true,
         "type": "scattergl",
         "x": [
          0,
          1,
          2,
          3,
          4,
          5,
          6,
          7,
          8,
          9,
          10,
          11,
          12,
          13,
          14,
          15,
          16,
          17,
          18,
          19,
          20,
          21,
          22,
          23,
          24,
          25,
          26,
          27,
          28,
          29,
          30,
          31,
          32,
          33,
          34,
          35,
          36,
          37,
          38,
          39,
          40,
          41,
          42,
          43,
          44,
          45,
          46,
          47,
          48,
          49,
          50,
          51,
          52,
          53,
          54,
          55,
          56,
          57,
          58,
          59,
          60,
          61,
          62,
          63,
          64,
          65,
          66,
          67,
          68,
          69,
          70,
          71,
          72,
          73,
          74,
          75,
          76,
          77,
          78,
          79,
          80,
          81,
          82,
          83,
          84,
          85,
          86,
          87,
          88,
          89,
          90,
          91,
          92,
          93,
          94,
          95,
          96,
          97,
          98,
          99
         ],
         "xaxis": "x",
         "y": [
          -2.220446049250313e-16,
          -2.220446049250313e-16,
          -5.551115123125783e-16,
          -1.2212453270876722e-15,
          -1.9984014443252818e-15,
          -3.774758283725532e-15,
          -7.771561172376096e-15,
          -1.5654144647214707e-14,
          -3.1308289294429414e-14,
          -6.23945339839338e-14,
          -1.2512213487525514e-13,
          -2.509104035652854e-13,
          -5.020428517354958e-13,
          -1.0040857034709916e-12,
          -2.008393451546908e-12,
          -4.016675880791354e-12,
          -8.033684828490095e-12,
          -1.6068035790794966e-11,
          -3.213562749238008e-11,
          -6.427158805166755e-11,
          -1.2854295405873017e-10,
          -2.5708624118436774e-10,
          -5.141729264579453e-10,
          -1.0283460749604956e-9,
          -2.056693038099411e-9,
          -4.1133865202880315e-9,
          -8.22677337364297e-9,
          -1.6453547302397453e-8,
          -3.290709527092872e-8,
          -6.581419131901356e-8,
          -1.3162838496949547e-7,
          -2.632567771554406e-7,
          -5.265135845089475e-7,
          -0.0000010530272870346025,
          -0.000002106055046802169,
          -0.000004212111981871658,
          -0.000008424231516035441,
          -0.000016848493239352003,
          -0.000033697107307717467,
          -0.00006739469793670683,
          -0.00013479132921723203,
          -0.000269590392280028,
          -0.0005392117237204008,
          -0.0010785472343260993,
          -0.0021575898582446573,
          -0.004317163212447794,
          -0.008642275928530174,
          -0.01731647433598449,
          -0.03476163922170794,
          -0.07004612517579945,
          -0.1422496095694934,
          -0.2936779845309194,
          -0.6288382194186352,
          -1.4687150950512264,
          -4.296336030079169,
          -23.01573153554496,
          -542.6718139156276,
          -294578.5707768317,
          -86776538049.09566,
          -7.530167555786162e+21,
          -5.670342341821456e+43,
          -3.215278227345324e+87,
          -1.0338014079240894e+175,
          null,
          null,
          null,
          null,
          null,
          null,
          null,
          null,
          null,
          null,
          null,
          null,
          null,
          null,
          null,
          null,
          null,
          null,
          null,
          null,
          null,
          null,
          null,
          null,
          null,
          null,
          null,
          null,
          null,
          null,
          null,
          null,
          null,
          null,
          null,
          null,
          null
         ],
         "yaxis": "y"
        },
        {
         "hovertemplate": "variable=MoFo<br>index=%{x}<br>value=%{y}<extra></extra>",
         "legendgroup": "MoFo",
         "line": {
          "color": "#FECB52",
          "dash": "solid"
         },
         "marker": {
          "symbol": "circle"
         },
         "mode": "lines",
         "name": "MoFo",
         "showlegend": true,
         "type": "scattergl",
         "x": [
          0,
          1,
          2,
          3,
          4,
          5,
          6,
          7,
          8,
          9,
          10,
          11,
          12,
          13,
          14,
          15,
          16,
          17,
          18,
          19,
          20,
          21,
          22,
          23,
          24,
          25,
          26,
          27,
          28,
          29,
          30,
          31,
          32,
          33,
          34,
          35,
          36,
          37,
          38,
          39,
          40,
          41,
          42,
          43,
          44,
          45,
          46,
          47,
          48,
          49,
          50,
          51,
          52,
          53,
          54,
          55,
          56,
          57,
          58,
          59,
          60,
          61,
          62,
          63,
          64,
          65,
          66,
          67,
          68,
          69,
          70,
          71,
          72,
          73,
          74,
          75,
          76,
          77,
          78,
          79,
          80,
          81,
          82,
          83,
          84,
          85,
          86,
          87,
          88,
          89,
          90,
          91,
          92,
          93,
          94,
          95,
          96,
          97,
          98,
          99
         ],
         "xaxis": "x",
         "y": [
          -1.1102230246251565e-16,
          -4.440892098500626e-16,
          -6.661338147750939e-16,
          -1.1102230246251565e-15,
          -2.220446049250313e-15,
          -4.107825191113079e-15,
          -8.215650382226158e-15,
          -1.5654144647214707e-14,
          -3.141931159689193e-14,
          -6.306066779870889e-14,
          -1.2534417948018017e-13,
          -2.5135449277513544e-13,
          -5.021538740379583e-13,
          -1.004196725773454e-12,
          -2.0088375407567582e-12,
          -4.016675880791354e-12,
          -8.03435096230487e-12,
          -1.6068035790794966e-11,
          -3.2135849536985006e-11,
          -6.427158805166755e-11,
          -1.2854328712563756e-10,
          -2.570865742512751e-10,
          -5.141732595248527e-10,
          -1.0283468521166128e-9,
          -2.0566934821886207e-9,
          -4.113386853354939e-9,
          -8.226773706709878e-9,
          -1.6453547857508966e-8,
          -3.2907095937062536e-8,
          -6.581419176310277e-8,
          -1.3162838519154008e-7,
          -2.632567774885075e-7,
          -5.265135845089475e-7,
          -0.0000010530272873676694,
          -0.0000021060550471352357,
          -0.000004212111982537792,
          -0.000008424231516368508,
          -0.00001684849324012916,
          -0.00003369710730827258,
          -0.00006739469793715092,
          -0.00013479132921789816,
          -0.0002695903922803611,
          -0.0005392117237208449,
          -0.0010785472343269875,
          -0.0021575898582451014,
          -0.004317163212448016,
          -0.008642275928530396,
          -0.01731647433598471,
          -0.03476163922170816,
          -0.07004612517579978,
          -0.14224960956949362,
          -0.29367798453091964,
          -0.6288382194186354,
          -1.4687150950512269,
          -4.296336030079171,
          -23.015731535544965,
          -542.6718139156278,
          -294578.5707768318,
          -86776538049.09572,
          -7.530167555786165e+21,
          -5.670342341821458e+43,
          -3.2152782273453253e+87,
          -1.0338014079240897e+175,
          null,
          null,
          null,
          null,
          null,
          null,
          null,
          null,
          null,
          null,
          null,
          null,
          null,
          null,
          null,
          null,
          null,
          null,
          null,
          null,
          null,
          null,
          null,
          null,
          null,
          null,
          null,
          null,
          null,
          null,
          null,
          null,
          null,
          null,
          null,
          null,
          null
         ],
         "yaxis": "y"
        },
        {
         "hovertemplate": "variable=Mmof<br>index=%{x}<br>value=%{y}<extra></extra>",
         "legendgroup": "Mmof",
         "line": {
          "color": "#636efa",
          "dash": "solid"
         },
         "marker": {
          "symbol": "circle"
         },
         "mode": "lines",
         "name": "Mmof",
         "showlegend": true,
         "type": "scattergl",
         "x": [
          0,
          1,
          2,
          3,
          4,
          5,
          6,
          7,
          8,
          9,
          10,
          11,
          12,
          13,
          14,
          15,
          16,
          17,
          18,
          19,
          20,
          21,
          22,
          23,
          24,
          25,
          26,
          27,
          28,
          29,
          30,
          31,
          32,
          33,
          34,
          35,
          36,
          37,
          38,
          39,
          40,
          41,
          42,
          43,
          44,
          45,
          46,
          47,
          48,
          49,
          50,
          51,
          52,
          53,
          54,
          55,
          56,
          57,
          58,
          59,
          60,
          61,
          62,
          63,
          64,
          65,
          66,
          67,
          68,
          69,
          70,
          71,
          72,
          73,
          74,
          75,
          76,
          77,
          78,
          79,
          80,
          81,
          82,
          83,
          84,
          85,
          86,
          87,
          88,
          89,
          90,
          91,
          92,
          93,
          94,
          95,
          96,
          97,
          98,
          99
         ],
         "xaxis": "x",
         "y": [
          0,
          -2.220446049250313e-16,
          -3.3306690738754696e-16,
          -9.992007221626409e-16,
          -1.887379141862766e-15,
          -3.9968028886505635e-15,
          -7.993605777301127e-15,
          -1.5765166949677223e-14,
          -3.108624468950438e-14,
          -6.272760089132134e-14,
          -1.255662240851052e-13,
          -2.511324481702104e-13,
          -5.022648963404208e-13,
          -1.0040857034709916e-12,
          -2.0086154961518332e-12,
          -4.016897925396279e-12,
          -8.034128917699945e-12,
          -1.606825783539989e-11,
          -3.2135849536985006e-11,
          -6.427158805166755e-11,
          -1.2854339814794002e-10,
          -2.5708712936278744e-10,
          -5.141735925917601e-10,
          -1.0283469631389153e-9,
          -2.0566934821886207e-9,
          -4.113386964377241e-9,
          -8.226774039776785e-9,
          -1.6453547746486663e-8,
          -3.290709571501793e-8,
          -6.581419198514737e-8,
          -1.3162838519154008e-7,
          -2.632567778215744e-7,
          -5.265135847309921e-7,
          -0.0000010530272877007363,
          -0.000002106055047246258,
          -0.000004212111982537792,
          -0.00000842423151647953,
          -0.000016848493240018136,
          -0.000033697107308161556,
          -0.00006739469793737296,
          -0.0001347913292181202,
          -0.00026959039228069415,
          -0.0005392117237208449,
          -0.0010785472343267655,
          -0.0021575898582448794,
          -0.004317163212448238,
          -0.008642275928530618,
          -0.017316474335984933,
          -0.034761639221708385,
          -0.07004612517580033,
          -0.14224960956949406,
          -0.29367798453091964,
          -0.6288382194186356,
          -1.4687150950512273,
          -4.296336030079173,
          -23.015731535544973,
          -542.6718139156279,
          -294578.5707768319,
          -86776538049.09573,
          -7.530167555786167e+21,
          -5.670342341821459e+43,
          -3.2152782273453266e+87,
          -1.0338014079240899e+175,
          null,
          null,
          null,
          null,
          null,
          null,
          null,
          null,
          null,
          null,
          null,
          null,
          null,
          null,
          null,
          null,
          null,
          null,
          null,
          null,
          null,
          null,
          null,
          null,
          null,
          null,
          null,
          null,
          null,
          null,
          null,
          null,
          null,
          null,
          null,
          null,
          null
         ],
         "yaxis": "y"
        },
        {
         "hovertemplate": "variable=MoRi<br>index=%{x}<br>value=%{y}<extra></extra>",
         "legendgroup": "MoRi",
         "line": {
          "color": "#EF553B",
          "dash": "solid"
         },
         "marker": {
          "symbol": "circle"
         },
         "mode": "lines",
         "name": "MoRi",
         "showlegend": true,
         "type": "scattergl",
         "x": [
          0,
          1,
          2,
          3,
          4,
          5,
          6,
          7,
          8,
          9,
          10,
          11,
          12,
          13,
          14,
          15,
          16,
          17,
          18,
          19,
          20,
          21,
          22,
          23,
          24,
          25,
          26,
          27,
          28,
          29,
          30,
          31,
          32,
          33,
          34,
          35,
          36,
          37,
          38,
          39,
          40,
          41,
          42,
          43,
          44,
          45,
          46,
          47,
          48,
          49,
          50,
          51,
          52,
          53,
          54,
          55,
          56,
          57,
          58,
          59,
          60,
          61,
          62,
          63,
          64,
          65,
          66,
          67,
          68,
          69,
          70,
          71,
          72,
          73,
          74,
          75,
          76,
          77,
          78,
          79,
          80,
          81,
          82,
          83,
          84,
          85,
          86,
          87,
          88,
          89,
          90,
          91,
          92,
          93,
          94,
          95,
          96,
          97,
          98,
          99
         ],
         "xaxis": "x",
         "y": [
          0,
          -2.220446049250313e-16,
          -4.440892098500626e-16,
          -7.771561172376096e-16,
          -1.887379141862766e-15,
          -3.885780586188048e-15,
          -7.993605777301127e-15,
          -1.5765166949677223e-14,
          -3.108624468950438e-14,
          -6.272760089132134e-14,
          -1.254552017826427e-13,
          -2.509104035652854e-13,
          -5.021538740379583e-13,
          -1.0043077480759166e-12,
          -2.0085044738493707e-12,
          -4.017008947698741e-12,
          -8.03435096230487e-12,
          -1.6068146813097428e-11,
          -3.2135849536985006e-11,
          -6.427158805166755e-11,
          -1.2854362019254495e-10,
          -2.5708701834048497e-10,
          -5.141735925917601e-10,
          -1.0283469631389153e-9,
          -2.0566934821886207e-9,
          -4.113387186421846e-9,
          -8.226774039776785e-9,
          -1.6453547746486663e-8,
          -3.290709571501793e-8,
          -6.581419198514737e-8,
          -1.3162838519154008e-7,
          -2.632567778215744e-7,
          -5.265135847309921e-7,
          -0.0000010530272877007363,
          -0.000002106055047246258,
          -0.000004212111982537792,
          -0.00000842423151647953,
          -0.000016848493240018136,
          -0.000033697107308161556,
          -0.00006739469793737296,
          -0.0001347913292181202,
          -0.00026959039228069415,
          -0.0005392117237208449,
          -0.0010785472343267655,
          -0.0021575898582448794,
          -0.004317163212448238,
          -0.008642275928530618,
          -0.017316474335984933,
          -0.034761639221708385,
          -0.07004612517580033,
          -0.14224960956949406,
          -0.29367798453091964,
          -0.6288382194186356,
          -1.4687150950512273,
          -4.296336030079173,
          -23.015731535544973,
          -542.6718139156279,
          -294578.5707768319,
          -86776538049.09573,
          -7.530167555786167e+21,
          -5.670342341821459e+43,
          -3.2152782273453266e+87,
          -1.0338014079240899e+175,
          null,
          null,
          null,
          null,
          null,
          null,
          null,
          null,
          null,
          null,
          null,
          null,
          null,
          null,
          null,
          null,
          null,
          null,
          null,
          null,
          null,
          null,
          null,
          null,
          null,
          null,
          null,
          null,
          null,
          null,
          null,
          null,
          null,
          null,
          null,
          null,
          null
         ],
         "yaxis": "y"
        },
        {
         "hovertemplate": "variable=MeRi<br>index=%{x}<br>value=%{y}<extra></extra>",
         "legendgroup": "MeRi",
         "line": {
          "color": "#00cc96",
          "dash": "solid"
         },
         "marker": {
          "symbol": "circle"
         },
         "mode": "lines",
         "name": "MeRi",
         "showlegend": true,
         "type": "scattergl",
         "x": [
          0,
          1,
          2,
          3,
          4,
          5,
          6,
          7,
          8,
          9,
          10,
          11,
          12,
          13,
          14,
          15,
          16,
          17,
          18,
          19,
          20,
          21,
          22,
          23,
          24,
          25,
          26,
          27,
          28,
          29,
          30,
          31,
          32,
          33,
          34,
          35,
          36,
          37,
          38,
          39,
          40,
          41,
          42,
          43,
          44,
          45,
          46,
          47,
          48,
          49,
          50,
          51,
          52,
          53,
          54,
          55,
          56,
          57,
          58,
          59,
          60,
          61,
          62,
          63,
          64,
          65,
          66,
          67,
          68,
          69,
          70,
          71,
          72,
          73,
          74,
          75,
          76,
          77,
          78,
          79,
          80,
          81,
          82,
          83,
          84,
          85,
          86,
          87,
          88,
          89,
          90,
          91,
          92,
          93,
          94,
          95,
          96,
          97,
          98,
          99
         ],
         "xaxis": "x",
         "y": [
          -1.1102230246251565e-16,
          0,
          -1.1102230246251565e-16,
          -6.661338147750939e-16,
          -1.887379141862766e-15,
          -3.774758283725532e-15,
          -7.438494264988549e-15,
          -1.5432100042289676e-14,
          -3.108624468950438e-14,
          -6.228351168147128e-14,
          -1.2501111257279263e-13,
          -2.5068835896036035e-13,
          -5.015987625256457e-13,
          -1.003974681168529e-12,
          -2.008171406941983e-12,
          -4.016453836186429e-12,
          -8.033795850792558e-12,
          -1.6067924768492503e-11,
          -3.2135294425472694e-11,
          -6.427147702936509e-11,
          -1.2854273201412525e-10,
          -2.5708590811746035e-10,
          -5.141728154356429e-10,
          -1.0283459639381931e-9,
          -2.0566927050325035e-9,
          -4.113386187221124e-9,
          -8.226773151598366e-9,
          -1.6453547302397453e-8,
          -3.290709527092872e-8,
          -6.581419109696895e-8,
          -1.3162838496949547e-7,
          -2.632567770444183e-7,
          -5.265135845089475e-7,
          -0.0000010530272868125579,
          -0.000002106055046802169,
          -0.00000421211198198268,
          -0.000008424231515813396,
          -0.00001684849323924098,
          -0.000033697107307717467,
          -0.00006739469793681785,
          -0.000134791329217121,
          -0.000269590392279917,
          -0.0005392117237201788,
          -0.0010785472343260993,
          -0.0021575898582446573,
          -0.004317163212447683,
          -0.008642275928530063,
          -0.017316474335984378,
          -0.03476163922170783,
          -0.07004612517579933,
          -0.1422496095694934,
          -0.2936779845309194,
          -0.6288382194186352,
          -1.4687150950512264,
          -4.296336030079169,
          -23.01573153554496,
          -542.6718139156276,
          -294578.5707768317,
          -86776538049.09566,
          -7.53016755578616e+21,
          -5.670342341821456e+43,
          -3.215278227345324e+87,
          -1.0338014079240895e+175,
          null,
          null,
          null,
          null,
          null,
          null,
          null,
          null,
          null,
          null,
          null,
          null,
          null,
          null,
          null,
          null,
          null,
          null,
          null,
          null,
          null,
          null,
          null,
          null,
          null,
          null,
          null,
          null,
          null,
          null,
          null,
          null,
          null,
          null,
          null,
          null,
          null
         ],
         "yaxis": "y"
        },
        {
         "hovertemplate": "variable=Ri<br>index=%{x}<br>value=%{y}<extra></extra>",
         "legendgroup": "Ri",
         "line": {
          "color": "#ab63fa",
          "dash": "solid"
         },
         "marker": {
          "symbol": "circle"
         },
         "mode": "lines",
         "name": "Ri",
         "showlegend": true,
         "type": "scattergl",
         "x": [
          0,
          1,
          2,
          3,
          4,
          5,
          6,
          7,
          8,
          9,
          10,
          11,
          12,
          13,
          14,
          15,
          16,
          17,
          18,
          19,
          20,
          21,
          22,
          23,
          24,
          25,
          26,
          27,
          28,
          29,
          30,
          31,
          32,
          33,
          34,
          35,
          36,
          37,
          38,
          39,
          40,
          41,
          42,
          43,
          44,
          45,
          46,
          47,
          48,
          49,
          50,
          51,
          52,
          53,
          54,
          55,
          56,
          57,
          58,
          59,
          60,
          61,
          62,
          63,
          64,
          65,
          66,
          67,
          68,
          69,
          70,
          71,
          72,
          73,
          74,
          75,
          76,
          77,
          78,
          79,
          80,
          81,
          82,
          83,
          84,
          85,
          86,
          87,
          88,
          89,
          90,
          91,
          92,
          93,
          94,
          95,
          96,
          97,
          98,
          99
         ],
         "xaxis": "x",
         "y": [
          -2.220446049250313e-16,
          -2.220446049250313e-16,
          -3.3306690738754696e-16,
          -9.992007221626409e-16,
          -2.1094237467877974e-15,
          -4.107825191113079e-15,
          -8.104628079763643e-15,
          -1.5765166949677223e-14,
          -3.1530333899354446e-14,
          -6.294964549624638e-14,
          -1.255662240851052e-13,
          -2.512434704726729e-13,
          -5.022648963404208e-13,
          -1.0043077480759166e-12,
          -2.0087265184542957e-12,
          -4.017119970001204e-12,
          -8.03435096230487e-12,
          -1.606825783539989e-11,
          -3.2135849536985006e-11,
          -6.427158805166755e-11,
          -1.2854339814794002e-10,
          -2.5708712936278744e-10,
          -5.141735925917601e-10,
          -1.0283469631389153e-9,
          -2.0566933711663182e-9,
          -4.113387186421846e-9,
          -8.226774039776785e-9,
          -1.6453547746486663e-8,
          -3.290709571501793e-8,
          -6.581419198514737e-8,
          -1.3162838519154008e-7,
          -2.632567778215744e-7,
          -5.265135847309921e-7,
          -0.0000010530272874786917,
          -0.000002106055047246258,
          -0.000004212111982537792,
          -0.00000842423151647953,
          -0.000016848493239907114,
          -0.000033697107308161556,
          -0.00006739469793737296,
          -0.0001347913292181202,
          -0.00026959039228069415,
          -0.0005392117237208449,
          -0.0010785472343267655,
          -0.0021575898582448794,
          -0.004317163212448127,
          -0.008642275928530618,
          -0.01731647433598482,
          -0.034761639221708385,
          -0.07004612517580022,
          -0.14224960956949406,
          -0.29367798453091964,
          -0.6288382194186356,
          -1.4687150950512273,
          -4.296336030079173,
          -23.015731535544973,
          -542.671813915628,
          -294578.5707768319,
          -86776538049.09573,
          -7.530167555786166e+21,
          -5.670342341821459e+43,
          -3.2152782273453266e+87,
          -1.0338014079240899e+175,
          null,
          null,
          null,
          null,
          null,
          null,
          null,
          null,
          null,
          null,
          null,
          null,
          null,
          null,
          null,
          null,
          null,
          null,
          null,
          null,
          null,
          null,
          null,
          null,
          null,
          null,
          null,
          null,
          null,
          null,
          null,
          null,
          null,
          null,
          null,
          null,
          null
         ],
         "yaxis": "y"
        },
        {
         "hovertemplate": "variable=Comp<br>index=%{x}<br>value=%{y}<extra></extra>",
         "legendgroup": "Comp",
         "line": {
          "color": "#FFA15A",
          "dash": "solid"
         },
         "marker": {
          "symbol": "circle"
         },
         "mode": "lines",
         "name": "Comp",
         "showlegend": true,
         "type": "scattergl",
         "x": [
          0,
          1,
          2,
          3,
          4,
          5,
          6,
          7,
          8,
          9,
          10,
          11,
          12,
          13,
          14,
          15,
          16,
          17,
          18,
          19,
          20,
          21,
          22,
          23,
          24,
          25,
          26,
          27,
          28,
          29,
          30,
          31,
          32,
          33,
          34,
          35,
          36,
          37,
          38,
          39,
          40,
          41,
          42,
          43,
          44,
          45,
          46,
          47,
          48,
          49,
          50,
          51,
          52,
          53,
          54,
          55,
          56,
          57,
          58,
          59,
          60,
          61,
          62,
          63,
          64,
          65,
          66,
          67,
          68,
          69,
          70,
          71,
          72,
          73,
          74,
          75,
          76,
          77,
          78,
          79,
          80,
          81,
          82,
          83,
          84,
          85,
          86,
          87,
          88,
          89,
          90,
          91,
          92,
          93,
          94,
          95,
          96,
          97,
          98,
          99
         ],
         "xaxis": "x",
         "y": [
          -1.1102230246251565e-16,
          -2.220446049250313e-16,
          -4.440892098500626e-16,
          -9.992007221626409e-16,
          -1.7763568394002505e-15,
          -3.885780586188048e-15,
          -7.882583474838611e-15,
          -1.5765166949677223e-14,
          -3.1308289294429414e-14,
          -6.272760089132134e-14,
          -1.255662240851052e-13,
          -2.512434704726729e-13,
          -5.022648963404208e-13,
          -1.0043077480759166e-12,
          -2.0087265184542957e-12,
          -4.017119970001204e-12,
          -8.03435096230487e-12,
          -1.606825783539989e-11,
          -3.2135849536985006e-11,
          -6.427158805166755e-11,
          -1.2854339814794002e-10,
          -2.5708712936278744e-10,
          -5.141735925917601e-10,
          -1.0283469631389153e-9,
          -2.0566933711663182e-9,
          -4.113387186421846e-9,
          -8.226774039776785e-9,
          -1.6453547746486663e-8,
          -3.290709571501793e-8,
          -6.581419198514737e-8,
          -1.3162838519154008e-7,
          -2.632567778215744e-7,
          -5.265135847309921e-7,
          -0.0000010530272874786917,
          -0.000002106055047246258,
          -0.000004212111982537792,
          -0.00000842423151647953,
          -0.000016848493239907114,
          -0.000033697107308161556,
          -0.00006739469793737296,
          -0.0001347913292181202,
          -0.00026959039228069415,
          -0.0005392117237208449,
          -0.0010785472343267655,
          -0.0021575898582448794,
          -0.004317163212448127,
          -0.008642275928530618,
          -0.01731647433598482,
          -0.034761639221708385,
          -0.07004612517580022,
          -0.14224960956949406,
          -0.29367798453091964,
          -0.6288382194186356,
          -1.4687150950512273,
          -4.296336030079173,
          -23.015731535544973,
          -542.671813915628,
          -294578.5707768319,
          -86776538049.09573,
          -7.530167555786166e+21,
          -5.670342341821459e+43,
          -3.2152782273453266e+87,
          -1.0338014079240899e+175,
          null,
          null,
          null,
          null,
          null,
          null,
          null,
          null,
          null,
          null,
          null,
          null,
          null,
          null,
          null,
          null,
          null,
          null,
          null,
          null,
          null,
          null,
          null,
          null,
          null,
          null,
          null,
          null,
          null,
          null,
          null,
          null,
          null,
          null,
          null,
          null,
          null
         ],
         "yaxis": "y"
        }
       ],
       "layout": {
        "legend": {
         "title": {
          "text": "variable"
         },
         "tracegroupgap": 0
        },
        "template": {
         "data": {
          "bar": [
           {
            "error_x": {
             "color": "#2a3f5f"
            },
            "error_y": {
             "color": "#2a3f5f"
            },
            "marker": {
             "line": {
              "color": "#E5ECF6",
              "width": 0.5
             },
             "pattern": {
              "fillmode": "overlay",
              "size": 10,
              "solidity": 0.2
             }
            },
            "type": "bar"
           }
          ],
          "barpolar": [
           {
            "marker": {
             "line": {
              "color": "#E5ECF6",
              "width": 0.5
             },
             "pattern": {
              "fillmode": "overlay",
              "size": 10,
              "solidity": 0.2
             }
            },
            "type": "barpolar"
           }
          ],
          "carpet": [
           {
            "aaxis": {
             "endlinecolor": "#2a3f5f",
             "gridcolor": "white",
             "linecolor": "white",
             "minorgridcolor": "white",
             "startlinecolor": "#2a3f5f"
            },
            "baxis": {
             "endlinecolor": "#2a3f5f",
             "gridcolor": "white",
             "linecolor": "white",
             "minorgridcolor": "white",
             "startlinecolor": "#2a3f5f"
            },
            "type": "carpet"
           }
          ],
          "choropleth": [
           {
            "colorbar": {
             "outlinewidth": 0,
             "ticks": ""
            },
            "type": "choropleth"
           }
          ],
          "contour": [
           {
            "colorbar": {
             "outlinewidth": 0,
             "ticks": ""
            },
            "colorscale": [
             [
              0,
              "#0d0887"
             ],
             [
              0.1111111111111111,
              "#46039f"
             ],
             [
              0.2222222222222222,
              "#7201a8"
             ],
             [
              0.3333333333333333,
              "#9c179e"
             ],
             [
              0.4444444444444444,
              "#bd3786"
             ],
             [
              0.5555555555555556,
              "#d8576b"
             ],
             [
              0.6666666666666666,
              "#ed7953"
             ],
             [
              0.7777777777777778,
              "#fb9f3a"
             ],
             [
              0.8888888888888888,
              "#fdca26"
             ],
             [
              1,
              "#f0f921"
             ]
            ],
            "type": "contour"
           }
          ],
          "contourcarpet": [
           {
            "colorbar": {
             "outlinewidth": 0,
             "ticks": ""
            },
            "type": "contourcarpet"
           }
          ],
          "heatmap": [
           {
            "colorbar": {
             "outlinewidth": 0,
             "ticks": ""
            },
            "colorscale": [
             [
              0,
              "#0d0887"
             ],
             [
              0.1111111111111111,
              "#46039f"
             ],
             [
              0.2222222222222222,
              "#7201a8"
             ],
             [
              0.3333333333333333,
              "#9c179e"
             ],
             [
              0.4444444444444444,
              "#bd3786"
             ],
             [
              0.5555555555555556,
              "#d8576b"
             ],
             [
              0.6666666666666666,
              "#ed7953"
             ],
             [
              0.7777777777777778,
              "#fb9f3a"
             ],
             [
              0.8888888888888888,
              "#fdca26"
             ],
             [
              1,
              "#f0f921"
             ]
            ],
            "type": "heatmap"
           }
          ],
          "heatmapgl": [
           {
            "colorbar": {
             "outlinewidth": 0,
             "ticks": ""
            },
            "colorscale": [
             [
              0,
              "#0d0887"
             ],
             [
              0.1111111111111111,
              "#46039f"
             ],
             [
              0.2222222222222222,
              "#7201a8"
             ],
             [
              0.3333333333333333,
              "#9c179e"
             ],
             [
              0.4444444444444444,
              "#bd3786"
             ],
             [
              0.5555555555555556,
              "#d8576b"
             ],
             [
              0.6666666666666666,
              "#ed7953"
             ],
             [
              0.7777777777777778,
              "#fb9f3a"
             ],
             [
              0.8888888888888888,
              "#fdca26"
             ],
             [
              1,
              "#f0f921"
             ]
            ],
            "type": "heatmapgl"
           }
          ],
          "histogram": [
           {
            "marker": {
             "pattern": {
              "fillmode": "overlay",
              "size": 10,
              "solidity": 0.2
             }
            },
            "type": "histogram"
           }
          ],
          "histogram2d": [
           {
            "colorbar": {
             "outlinewidth": 0,
             "ticks": ""
            },
            "colorscale": [
             [
              0,
              "#0d0887"
             ],
             [
              0.1111111111111111,
              "#46039f"
             ],
             [
              0.2222222222222222,
              "#7201a8"
             ],
             [
              0.3333333333333333,
              "#9c179e"
             ],
             [
              0.4444444444444444,
              "#bd3786"
             ],
             [
              0.5555555555555556,
              "#d8576b"
             ],
             [
              0.6666666666666666,
              "#ed7953"
             ],
             [
              0.7777777777777778,
              "#fb9f3a"
             ],
             [
              0.8888888888888888,
              "#fdca26"
             ],
             [
              1,
              "#f0f921"
             ]
            ],
            "type": "histogram2d"
           }
          ],
          "histogram2dcontour": [
           {
            "colorbar": {
             "outlinewidth": 0,
             "ticks": ""
            },
            "colorscale": [
             [
              0,
              "#0d0887"
             ],
             [
              0.1111111111111111,
              "#46039f"
             ],
             [
              0.2222222222222222,
              "#7201a8"
             ],
             [
              0.3333333333333333,
              "#9c179e"
             ],
             [
              0.4444444444444444,
              "#bd3786"
             ],
             [
              0.5555555555555556,
              "#d8576b"
             ],
             [
              0.6666666666666666,
              "#ed7953"
             ],
             [
              0.7777777777777778,
              "#fb9f3a"
             ],
             [
              0.8888888888888888,
              "#fdca26"
             ],
             [
              1,
              "#f0f921"
             ]
            ],
            "type": "histogram2dcontour"
           }
          ],
          "mesh3d": [
           {
            "colorbar": {
             "outlinewidth": 0,
             "ticks": ""
            },
            "type": "mesh3d"
           }
          ],
          "parcoords": [
           {
            "line": {
             "colorbar": {
              "outlinewidth": 0,
              "ticks": ""
             }
            },
            "type": "parcoords"
           }
          ],
          "pie": [
           {
            "automargin": true,
            "type": "pie"
           }
          ],
          "scatter": [
           {
            "fillpattern": {
             "fillmode": "overlay",
             "size": 10,
             "solidity": 0.2
            },
            "type": "scatter"
           }
          ],
          "scatter3d": [
           {
            "line": {
             "colorbar": {
              "outlinewidth": 0,
              "ticks": ""
             }
            },
            "marker": {
             "colorbar": {
              "outlinewidth": 0,
              "ticks": ""
             }
            },
            "type": "scatter3d"
           }
          ],
          "scattercarpet": [
           {
            "marker": {
             "colorbar": {
              "outlinewidth": 0,
              "ticks": ""
             }
            },
            "type": "scattercarpet"
           }
          ],
          "scattergeo": [
           {
            "marker": {
             "colorbar": {
              "outlinewidth": 0,
              "ticks": ""
             }
            },
            "type": "scattergeo"
           }
          ],
          "scattergl": [
           {
            "marker": {
             "colorbar": {
              "outlinewidth": 0,
              "ticks": ""
             }
            },
            "type": "scattergl"
           }
          ],
          "scattermapbox": [
           {
            "marker": {
             "colorbar": {
              "outlinewidth": 0,
              "ticks": ""
             }
            },
            "type": "scattermapbox"
           }
          ],
          "scatterpolar": [
           {
            "marker": {
             "colorbar": {
              "outlinewidth": 0,
              "ticks": ""
             }
            },
            "type": "scatterpolar"
           }
          ],
          "scatterpolargl": [
           {
            "marker": {
             "colorbar": {
              "outlinewidth": 0,
              "ticks": ""
             }
            },
            "type": "scatterpolargl"
           }
          ],
          "scatterternary": [
           {
            "marker": {
             "colorbar": {
              "outlinewidth": 0,
              "ticks": ""
             }
            },
            "type": "scatterternary"
           }
          ],
          "surface": [
           {
            "colorbar": {
             "outlinewidth": 0,
             "ticks": ""
            },
            "colorscale": [
             [
              0,
              "#0d0887"
             ],
             [
              0.1111111111111111,
              "#46039f"
             ],
             [
              0.2222222222222222,
              "#7201a8"
             ],
             [
              0.3333333333333333,
              "#9c179e"
             ],
             [
              0.4444444444444444,
              "#bd3786"
             ],
             [
              0.5555555555555556,
              "#d8576b"
             ],
             [
              0.6666666666666666,
              "#ed7953"
             ],
             [
              0.7777777777777778,
              "#fb9f3a"
             ],
             [
              0.8888888888888888,
              "#fdca26"
             ],
             [
              1,
              "#f0f921"
             ]
            ],
            "type": "surface"
           }
          ],
          "table": [
           {
            "cells": {
             "fill": {
              "color": "#EBF0F8"
             },
             "line": {
              "color": "white"
             }
            },
            "header": {
             "fill": {
              "color": "#C8D4E3"
             },
             "line": {
              "color": "white"
             }
            },
            "type": "table"
           }
          ]
         },
         "layout": {
          "annotationdefaults": {
           "arrowcolor": "#2a3f5f",
           "arrowhead": 0,
           "arrowwidth": 1
          },
          "autotypenumbers": "strict",
          "coloraxis": {
           "colorbar": {
            "outlinewidth": 0,
            "ticks": ""
           }
          },
          "colorscale": {
           "diverging": [
            [
             0,
             "#8e0152"
            ],
            [
             0.1,
             "#c51b7d"
            ],
            [
             0.2,
             "#de77ae"
            ],
            [
             0.3,
             "#f1b6da"
            ],
            [
             0.4,
             "#fde0ef"
            ],
            [
             0.5,
             "#f7f7f7"
            ],
            [
             0.6,
             "#e6f5d0"
            ],
            [
             0.7,
             "#b8e186"
            ],
            [
             0.8,
             "#7fbc41"
            ],
            [
             0.9,
             "#4d9221"
            ],
            [
             1,
             "#276419"
            ]
           ],
           "sequential": [
            [
             0,
             "#0d0887"
            ],
            [
             0.1111111111111111,
             "#46039f"
            ],
            [
             0.2222222222222222,
             "#7201a8"
            ],
            [
             0.3333333333333333,
             "#9c179e"
            ],
            [
             0.4444444444444444,
             "#bd3786"
            ],
            [
             0.5555555555555556,
             "#d8576b"
            ],
            [
             0.6666666666666666,
             "#ed7953"
            ],
            [
             0.7777777777777778,
             "#fb9f3a"
            ],
            [
             0.8888888888888888,
             "#fdca26"
            ],
            [
             1,
             "#f0f921"
            ]
           ],
           "sequentialminus": [
            [
             0,
             "#0d0887"
            ],
            [
             0.1111111111111111,
             "#46039f"
            ],
            [
             0.2222222222222222,
             "#7201a8"
            ],
            [
             0.3333333333333333,
             "#9c179e"
            ],
            [
             0.4444444444444444,
             "#bd3786"
            ],
            [
             0.5555555555555556,
             "#d8576b"
            ],
            [
             0.6666666666666666,
             "#ed7953"
            ],
            [
             0.7777777777777778,
             "#fb9f3a"
            ],
            [
             0.8888888888888888,
             "#fdca26"
            ],
            [
             1,
             "#f0f921"
            ]
           ]
          },
          "colorway": [
           "#636efa",
           "#EF553B",
           "#00cc96",
           "#ab63fa",
           "#FFA15A",
           "#19d3f3",
           "#FF6692",
           "#B6E880",
           "#FF97FF",
           "#FECB52"
          ],
          "font": {
           "color": "#2a3f5f"
          },
          "geo": {
           "bgcolor": "white",
           "lakecolor": "white",
           "landcolor": "#E5ECF6",
           "showlakes": true,
           "showland": true,
           "subunitcolor": "white"
          },
          "hoverlabel": {
           "align": "left"
          },
          "hovermode": "closest",
          "mapbox": {
           "style": "light"
          },
          "paper_bgcolor": "white",
          "plot_bgcolor": "#E5ECF6",
          "polar": {
           "angularaxis": {
            "gridcolor": "white",
            "linecolor": "white",
            "ticks": ""
           },
           "bgcolor": "#E5ECF6",
           "radialaxis": {
            "gridcolor": "white",
            "linecolor": "white",
            "ticks": ""
           }
          },
          "scene": {
           "xaxis": {
            "backgroundcolor": "#E5ECF6",
            "gridcolor": "white",
            "gridwidth": 2,
            "linecolor": "white",
            "showbackground": true,
            "ticks": "",
            "zerolinecolor": "white"
           },
           "yaxis": {
            "backgroundcolor": "#E5ECF6",
            "gridcolor": "white",
            "gridwidth": 2,
            "linecolor": "white",
            "showbackground": true,
            "ticks": "",
            "zerolinecolor": "white"
           },
           "zaxis": {
            "backgroundcolor": "#E5ECF6",
            "gridcolor": "white",
            "gridwidth": 2,
            "linecolor": "white",
            "showbackground": true,
            "ticks": "",
            "zerolinecolor": "white"
           }
          },
          "shapedefaults": {
           "line": {
            "color": "#2a3f5f"
           }
          },
          "ternary": {
           "aaxis": {
            "gridcolor": "white",
            "linecolor": "white",
            "ticks": ""
           },
           "baxis": {
            "gridcolor": "white",
            "linecolor": "white",
            "ticks": ""
           },
           "bgcolor": "#E5ECF6",
           "caxis": {
            "gridcolor": "white",
            "linecolor": "white",
            "ticks": ""
           }
          },
          "title": {
           "x": 0.05
          },
          "xaxis": {
           "automargin": true,
           "gridcolor": "white",
           "linecolor": "white",
           "ticks": "",
           "title": {
            "standoff": 15
           },
           "zerolinecolor": "white",
           "zerolinewidth": 2
          },
          "yaxis": {
           "automargin": true,
           "gridcolor": "white",
           "linecolor": "white",
           "ticks": "",
           "title": {
            "standoff": 15
           },
           "zerolinecolor": "white",
           "zerolinewidth": 2
          }
         }
        },
        "title": {
         "text": "Evolution of activations for soggetto_6"
        },
        "xaxis": {
         "anchor": "y",
         "domain": [
          0,
          1
         ],
         "title": {
          "text": "index"
         }
        },
        "yaxis": {
         "anchor": "x",
         "domain": [
          0,
          1
         ],
         "title": {
          "text": "value"
         }
        }
       }
      }
     },
     "metadata": {},
     "output_type": "display_data"
    },
    {
     "data": {
      "application/vnd.plotly.v1+json": {
       "config": {
        "plotlyServerURL": "https://plot.ly"
       },
       "data": [
        {
         "hovertemplate": "variable=TrRi<br>index=%{x}<br>value=%{y}<extra></extra>",
         "legendgroup": "TrRi",
         "line": {
          "color": "#636efa",
          "dash": "solid"
         },
         "marker": {
          "symbol": "circle"
         },
         "mode": "lines",
         "name": "TrRi",
         "showlegend": true,
         "type": "scattergl",
         "x": [
          0,
          1,
          2,
          3,
          4,
          5,
          6,
          7,
          8,
          9,
          10,
          11,
          12,
          13,
          14,
          15,
          16,
          17,
          18,
          19,
          20,
          21,
          22,
          23,
          24,
          25,
          26,
          27,
          28,
          29,
          30,
          31,
          32,
          33,
          34,
          35,
          36,
          37,
          38,
          39,
          40,
          41,
          42,
          43,
          44,
          45,
          46,
          47,
          48,
          49,
          50,
          51,
          52,
          53,
          54,
          55,
          56,
          57,
          58,
          59,
          60,
          61,
          62,
          63,
          64,
          65,
          66,
          67,
          68,
          69,
          70,
          71,
          72,
          73,
          74,
          75,
          76,
          77,
          78,
          79,
          80,
          81,
          82,
          83,
          84,
          85,
          86,
          87,
          88,
          89,
          90,
          91,
          92,
          93,
          94,
          95,
          96,
          97,
          98,
          99
         ],
         "xaxis": "x",
         "y": [
          0,
          1.1102230246251565e-16,
          -2.220446049250313e-16,
          0,
          -8.881784197001252e-16,
          -1.7763568394002505e-15,
          -3.552713678800501e-15,
          -7.105427357601002e-15,
          -1.4099832412739488e-14,
          -2.8754776337791554e-14,
          -5.750955267558311e-14,
          -1.1524114995609125e-13,
          -2.30593322214645e-13,
          -4.615197113366776e-13,
          -9.232614672782802e-13,
          -1.846856001463948e-12,
          -3.693712002927896e-12,
          -7.387757072763179e-12,
          -1.477595823473621e-11,
          -2.9552249536379804e-11,
          -5.910494316196946e-11,
          -1.1821010836854384e-10,
          -2.3641999469248276e-10,
          -4.728405444964778e-10,
          -9.456813110375606e-10,
          -1.8913625110528187e-9,
          -3.78272557721715e-9,
          -7.565451376478904e-9,
          -1.513090319704702e-8,
          -3.026180728227246e-8,
          -6.052361545272333e-8,
          -1.2104723345895962e-7,
          -2.4209447679890417e-7,
          -4.841889925666365e-7,
          -9.683781384550727e-7,
          -0.0000019367568877548536,
          -0.000003873516218555473,
          -0.00000774704221129241,
          -0.000015494123516313074,
          -0.0000309884034092045,
          -0.00006197743232971842,
          -0.000123957366771843,
          -0.00024792474253165775,
          -0.0004958895253424078,
          -0.0009919392464411425,
          -0.0019845195531280613,
          -0.003971605566595926,
          -0.007953494754567969,
          -0.0159482666386368,
          -0.03206278944093488,
          -0.06479988963121719,
          -0.13237302343114477,
          -0.27647554213507175,
          -0.6054554316419076,
          -1.4749278010037967,
          -4.646746052499861,
          -28.115142857595362,
          -818.1621057132138,
          -669786.3449510242,
          -448613826779.28546,
          -2.0125436557755788e+23,
          -4.050331966402535e+46,
          -1.640518903806223e+93,
          -2.6913022737455724e+186,
          null,
          null,
          null,
          null,
          null,
          null,
          null,
          null,
          null,
          null,
          null,
          null,
          null,
          null,
          null,
          null,
          null,
          null,
          null,
          null,
          null,
          null,
          null,
          null,
          null,
          null,
          null,
          null,
          null,
          null,
          null,
          null,
          null,
          null,
          null,
          null
         ],
         "yaxis": "y"
        },
        {
         "hovertemplate": "variable=RiTr<br>index=%{x}<br>value=%{y}<extra></extra>",
         "legendgroup": "RiTr",
         "line": {
          "color": "#EF553B",
          "dash": "solid"
         },
         "marker": {
          "symbol": "circle"
         },
         "mode": "lines",
         "name": "RiTr",
         "showlegend": true,
         "type": "scattergl",
         "x": [
          0,
          1,
          2,
          3,
          4,
          5,
          6,
          7,
          8,
          9,
          10,
          11,
          12,
          13,
          14,
          15,
          16,
          17,
          18,
          19,
          20,
          21,
          22,
          23,
          24,
          25,
          26,
          27,
          28,
          29,
          30,
          31,
          32,
          33,
          34,
          35,
          36,
          37,
          38,
          39,
          40,
          41,
          42,
          43,
          44,
          45,
          46,
          47,
          48,
          49,
          50,
          51,
          52,
          53,
          54,
          55,
          56,
          57,
          58,
          59,
          60,
          61,
          62,
          63,
          64,
          65,
          66,
          67,
          68,
          69,
          70,
          71,
          72,
          73,
          74,
          75,
          76,
          77,
          78,
          79,
          80,
          81,
          82,
          83,
          84,
          85,
          86,
          87,
          88,
          89,
          90,
          91,
          92,
          93,
          94,
          95,
          96,
          97,
          98,
          99
         ],
         "xaxis": "x",
         "y": [
          0,
          0,
          0,
          -3.3306690738754696e-16,
          -6.661338147750939e-16,
          -1.5543122344752192e-15,
          -3.552713678800501e-15,
          -7.105427357601002e-15,
          -1.4099832412739488e-14,
          -2.8754776337791554e-14,
          -5.750955267558311e-14,
          -1.1524114995609125e-13,
          -2.304822999121825e-13,
          -4.615197113366776e-13,
          -9.231504449758177e-13,
          -1.8467449791614854e-12,
          -3.693378936020508e-12,
          -7.387646050460717e-12,
          -1.4775847212433746e-11,
          -2.9552249536379804e-11,
          -5.910472111736453e-11,
          -1.1820988632393892e-10,
          -2.364198836701803e-10,
          -4.728405444964778e-10,
          -9.456810889929557e-10,
          -1.8913625110528187e-9,
          -3.78272557721715e-9,
          -7.565451376478904e-9,
          -1.513090319704702e-8,
          -3.026180728227246e-8,
          -6.052361545272333e-8,
          -1.2104723345895962e-7,
          -2.4209447679890417e-7,
          -4.841889925666365e-7,
          -9.683781384550727e-7,
          -0.0000019367568877548536,
          -0.000003873516218555473,
          -0.00000774704221129241,
          -0.000015494123516313074,
          -0.0000309884034092045,
          -0.00006197743232971842,
          -0.000123957366771843,
          -0.00024792474253165775,
          -0.0004958895253424078,
          -0.0009919392464411425,
          -0.0019845195531280613,
          -0.003971605566595926,
          -0.007953494754567969,
          -0.0159482666386368,
          -0.03206278944093488,
          -0.06479988963121719,
          -0.13237302343114477,
          -0.27647554213507175,
          -0.6054554316419076,
          -1.4749278010037967,
          -4.646746052499861,
          -28.115142857595362,
          -818.1621057132138,
          -669786.3449510242,
          -448613826779.28546,
          -2.0125436557755788e+23,
          -4.050331966402535e+46,
          -1.640518903806223e+93,
          -2.6913022737455724e+186,
          null,
          null,
          null,
          null,
          null,
          null,
          null,
          null,
          null,
          null,
          null,
          null,
          null,
          null,
          null,
          null,
          null,
          null,
          null,
          null,
          null,
          null,
          null,
          null,
          null,
          null,
          null,
          null,
          null,
          null,
          null,
          null,
          null,
          null,
          null,
          null
         ],
         "yaxis": "y"
        },
        {
         "hovertemplate": "variable=Plu<br>index=%{x}<br>value=%{y}<extra></extra>",
         "legendgroup": "Plu",
         "line": {
          "color": "#00cc96",
          "dash": "solid"
         },
         "marker": {
          "symbol": "circle"
         },
         "mode": "lines",
         "name": "Plu",
         "showlegend": true,
         "type": "scattergl",
         "x": [
          0,
          1,
          2,
          3,
          4,
          5,
          6,
          7,
          8,
          9,
          10,
          11,
          12,
          13,
          14,
          15,
          16,
          17,
          18,
          19,
          20,
          21,
          22,
          23,
          24,
          25,
          26,
          27,
          28,
          29,
          30,
          31,
          32,
          33,
          34,
          35,
          36,
          37,
          38,
          39,
          40,
          41,
          42,
          43,
          44,
          45,
          46,
          47,
          48,
          49,
          50,
          51,
          52,
          53,
          54,
          55,
          56,
          57,
          58,
          59,
          60,
          61,
          62,
          63,
          64,
          65,
          66,
          67,
          68,
          69,
          70,
          71,
          72,
          73,
          74,
          75,
          76,
          77,
          78,
          79,
          80,
          81,
          82,
          83,
          84,
          85,
          86,
          87,
          88,
          89,
          90,
          91,
          92,
          93,
          94,
          95,
          96,
          97,
          98,
          99
         ],
         "xaxis": "x",
         "y": [
          2.220446049250313e-16,
          0,
          -2.220446049250313e-16,
          -6.661338147750939e-16,
          -9.992007221626409e-16,
          -1.7763568394002505e-15,
          -3.552713678800501e-15,
          -7.327471962526033e-15,
          -1.4654943925052066e-14,
          -2.90878432451791e-14,
          -5.795364188543317e-14,
          -1.156852391659413e-13,
          -2.311484337269576e-13,
          -4.620748228489902e-13,
          -9.238165787905928e-13,
          -1.847078046068873e-12,
          -3.694045069835283e-12,
          -7.388312184275492e-12,
          -1.477651334624852e-11,
          -2.955291567019458e-11,
          -5.910560929578423e-11,
          -1.182105524577537e-10,
          -2.364207718486e-10,
          -4.728409885856877e-10,
          -9.456815330821655e-10,
          -1.8913631771866335e-9,
          -3.7827262433509645e-9,
          -7.56545204261272e-9,
          -1.513090364113623e-8,
          -3.026180772636167e-8,
          -6.052361611885715e-8,
          -1.2104723412509344e-7,
          -2.42094477465038e-7,
          -4.841889930107257e-7,
          -9.68378138899162e-7,
          -0.0000019367568884209874,
          -0.000003873516219665696,
          -0.000007747042211958544,
          -0.000015494123517201253,
          -0.00003098840341009268,
          -0.0000619774323306066,
          -0.00012395736677250913,
          -0.00024792474253210184,
          -0.000495889525343074,
          -0.0009919392464415866,
          -0.0019845195531287274,
          -0.00397160556659637,
          -0.007953494754568857,
          -0.015948266638637687,
          -0.032062789440935546,
          -0.06479988963121808,
          -0.13237302343114543,
          -0.2764755421350722,
          -0.6054554316419087,
          -1.474927801003798,
          -4.646746052499864,
          -28.115142857595373,
          -818.1621057132145,
          -669786.3449510245,
          -448613826779.2857,
          -2.0125436557755805e+23,
          -4.0503319664025364e+46,
          -1.6405189038062236e+93,
          -2.691302273745573e+186,
          null,
          null,
          null,
          null,
          null,
          null,
          null,
          null,
          null,
          null,
          null,
          null,
          null,
          null,
          null,
          null,
          null,
          null,
          null,
          null,
          null,
          null,
          null,
          null,
          null,
          null,
          null,
          null,
          null,
          null,
          null,
          null,
          null,
          null,
          null,
          null
         ],
         "yaxis": "y"
        },
        {
         "hovertemplate": "variable=Ttra<br>index=%{x}<br>value=%{y}<extra></extra>",
         "legendgroup": "Ttra",
         "line": {
          "color": "#ab63fa",
          "dash": "solid"
         },
         "marker": {
          "symbol": "circle"
         },
         "mode": "lines",
         "name": "Ttra",
         "showlegend": true,
         "type": "scattergl",
         "x": [
          0,
          1,
          2,
          3,
          4,
          5,
          6,
          7,
          8,
          9,
          10,
          11,
          12,
          13,
          14,
          15,
          16,
          17,
          18,
          19,
          20,
          21,
          22,
          23,
          24,
          25,
          26,
          27,
          28,
          29,
          30,
          31,
          32,
          33,
          34,
          35,
          36,
          37,
          38,
          39,
          40,
          41,
          42,
          43,
          44,
          45,
          46,
          47,
          48,
          49,
          50,
          51,
          52,
          53,
          54,
          55,
          56,
          57,
          58,
          59,
          60,
          61,
          62,
          63,
          64,
          65,
          66,
          67,
          68,
          69,
          70,
          71,
          72,
          73,
          74,
          75,
          76,
          77,
          78,
          79,
          80,
          81,
          82,
          83,
          84,
          85,
          86,
          87,
          88,
          89,
          90,
          91,
          92,
          93,
          94,
          95,
          96,
          97,
          98,
          99
         ],
         "xaxis": "x",
         "y": [
          0,
          2.220446049250313e-16,
          0,
          -2.220446049250313e-16,
          -6.661338147750939e-16,
          -1.3322676295501878e-15,
          -3.3306690738754696e-15,
          -6.772360450213455e-15,
          -1.3988810110276972e-14,
          -2.842170943040401e-14,
          -5.750955267558311e-14,
          -1.1524114995609125e-13,
          -2.304822999121825e-13,
          -4.612976667317525e-13,
          -9.231504449758177e-13,
          -1.846633956859023e-12,
          -3.693378936020508e-12,
          -7.387646050460717e-12,
          -1.4775847212433746e-11,
          -2.955202749177488e-11,
          -5.910472111736453e-11,
          -1.1820988632393892e-10,
          -2.3641977264787783e-10,
          -4.728404334741754e-10,
          -9.456810889929557e-10,
          -1.8913624000305163e-9,
          -3.782725355172545e-9,
          -7.5654511544343e-9,
          -1.513090319704702e-8,
          -3.026180728227246e-8,
          -6.052361523067873e-8,
          -1.2104723323691502e-7,
          -2.4209447668788187e-7,
          -4.841889923445919e-7,
          -9.683781383440504e-7,
          -0.000001936756887532809,
          -0.000003873516218222406,
          -0.000007747042211070365,
          -0.000015494123516202052,
          -0.00003098840340898246,
          -0.00006197743232949637,
          -0.00012395736677173197,
          -0.0002479247425313247,
          -0.0004958895253420748,
          -0.0009919392464406984,
          -0.001984519553127728,
          -0.003971605566595593,
          -0.007953494754567636,
          -0.015948266638636577,
          -0.032062789440934325,
          -0.06479988963121686,
          -0.13237302343114432,
          -0.27647554213507153,
          -0.6054554316419072,
          -1.4749278010037963,
          -4.646746052499861,
          -28.115142857595362,
          -818.1621057132138,
          -669786.3449510242,
          -448613826779.28546,
          -2.0125436557755788e+23,
          -4.050331966402535e+46,
          -1.640518903806223e+93,
          -2.6913022737455724e+186,
          null,
          null,
          null,
          null,
          null,
          null,
          null,
          null,
          null,
          null,
          null,
          null,
          null,
          null,
          null,
          null,
          null,
          null,
          null,
          null,
          null,
          null,
          null,
          null,
          null,
          null,
          null,
          null,
          null,
          null,
          null,
          null,
          null,
          null,
          null,
          null
         ],
         "yaxis": "y"
        },
        {
         "hovertemplate": "variable=Ttrb<br>index=%{x}<br>value=%{y}<extra></extra>",
         "legendgroup": "Ttrb",
         "line": {
          "color": "#FFA15A",
          "dash": "solid"
         },
         "marker": {
          "symbol": "circle"
         },
         "mode": "lines",
         "name": "Ttrb",
         "showlegend": true,
         "type": "scattergl",
         "x": [
          0,
          1,
          2,
          3,
          4,
          5,
          6,
          7,
          8,
          9,
          10,
          11,
          12,
          13,
          14,
          15,
          16,
          17,
          18,
          19,
          20,
          21,
          22,
          23,
          24,
          25,
          26,
          27,
          28,
          29,
          30,
          31,
          32,
          33,
          34,
          35,
          36,
          37,
          38,
          39,
          40,
          41,
          42,
          43,
          44,
          45,
          46,
          47,
          48,
          49,
          50,
          51,
          52,
          53,
          54,
          55,
          56,
          57,
          58,
          59,
          60,
          61,
          62,
          63,
          64,
          65,
          66,
          67,
          68,
          69,
          70,
          71,
          72,
          73,
          74,
          75,
          76,
          77,
          78,
          79,
          80,
          81,
          82,
          83,
          84,
          85,
          86,
          87,
          88,
          89,
          90,
          91,
          92,
          93,
          94,
          95,
          96,
          97,
          98,
          99
         ],
         "xaxis": "x",
         "y": [
          0,
          -4.440892098500626e-16,
          -2.220446049250313e-16,
          0,
          -6.661338147750939e-16,
          -1.5543122344752192e-15,
          -3.4416913763379853e-15,
          -7.105427357601002e-15,
          -1.4099832412739488e-14,
          -2.8754776337791554e-14,
          -5.773159728050814e-14,
          -1.1524114995609125e-13,
          -2.310374114244951e-13,
          -4.617417559416026e-13,
          -9.237055564881302e-13,
          -1.846856001463948e-12,
          -3.693934047532821e-12,
          -7.387979117368104e-12,
          -1.477595823473621e-11,
          -2.955247158098473e-11,
          -5.910538725117931e-11,
          -1.1821010836854384e-10,
          -2.364202167370877e-10,
          -4.728407665410828e-10,
          -9.456815330821655e-10,
          -1.8913627330974236e-9,
          -3.782725799261755e-9,
          -7.56545159852351e-9,
          -1.5130903419091624e-8,
          -3.026180750431706e-8,
          -6.052361545272333e-8,
          -1.2104723368100423e-7,
          -2.420944772429934e-7,
          -4.841889930107257e-7,
          -9.683781386771173e-7,
          -0.000001936756887976898,
          -0.000003873516219221607,
          -0.000007747042211736499,
          -0.000015494123516979208,
          -0.00003098840340964859,
          -0.00006197743233016251,
          -0.00012395736677228708,
          -0.0002479247425318798,
          -0.0004958895253426299,
          -0.0009919392464413646,
          -0.0019845195531285054,
          -0.003971605566596148,
          -0.007953494754568635,
          -0.015948266638637243,
          -0.0320627894409351,
          -0.06479988963121786,
          -0.132373023431145,
          -0.2764755421350722,
          -0.6054554316419083,
          -1.474927801003798,
          -4.6467460524998625,
          -28.11514285759537,
          -818.1621057132144,
          -669786.3449510245,
          -448613826779.2857,
          -2.0125436557755805e+23,
          -4.0503319664025364e+46,
          -1.6405189038062236e+93,
          -2.691302273745573e+186,
          null,
          null,
          null,
          null,
          null,
          null,
          null,
          null,
          null,
          null,
          null,
          null,
          null,
          null,
          null,
          null,
          null,
          null,
          null,
          null,
          null,
          null,
          null,
          null,
          null,
          null,
          null,
          null,
          null,
          null,
          null,
          null,
          null,
          null,
          null,
          null
         ],
         "yaxis": "y"
        },
        {
         "hovertemplate": "variable=Tr<br>index=%{x}<br>value=%{y}<extra></extra>",
         "legendgroup": "Tr",
         "line": {
          "color": "#19d3f3",
          "dash": "solid"
         },
         "marker": {
          "symbol": "circle"
         },
         "mode": "lines",
         "name": "Tr",
         "showlegend": true,
         "type": "scattergl",
         "x": [
          0,
          1,
          2,
          3,
          4,
          5,
          6,
          7,
          8,
          9,
          10,
          11,
          12,
          13,
          14,
          15,
          16,
          17,
          18,
          19,
          20,
          21,
          22,
          23,
          24,
          25,
          26,
          27,
          28,
          29,
          30,
          31,
          32,
          33,
          34,
          35,
          36,
          37,
          38,
          39,
          40,
          41,
          42,
          43,
          44,
          45,
          46,
          47,
          48,
          49,
          50,
          51,
          52,
          53,
          54,
          55,
          56,
          57,
          58,
          59,
          60,
          61,
          62,
          63,
          64,
          65,
          66,
          67,
          68,
          69,
          70,
          71,
          72,
          73,
          74,
          75,
          76,
          77,
          78,
          79,
          80,
          81,
          82,
          83,
          84,
          85,
          86,
          87,
          88,
          89,
          90,
          91,
          92,
          93,
          94,
          95,
          96,
          97,
          98,
          99
         ],
         "xaxis": "x",
         "y": [
          2.220446049250313e-16,
          1.1102230246251565e-16,
          -2.220446049250313e-16,
          -4.440892098500626e-16,
          -6.661338147750939e-16,
          -1.7763568394002505e-15,
          -3.885780586188048e-15,
          -7.105427357601002e-15,
          -1.4210854715202004e-14,
          -2.8754776337791554e-14,
          -5.773159728050814e-14,
          -1.1524114995609125e-13,
          -2.310374114244951e-13,
          -4.619638005465276e-13,
          -9.237055564881302e-13,
          -1.846856001463948e-12,
          -3.693934047532821e-12,
          -7.387979117368104e-12,
          -1.477595823473621e-11,
          -2.955247158098473e-11,
          -5.910538725117931e-11,
          -1.1821010836854384e-10,
          -2.364202167370877e-10,
          -4.728407665410828e-10,
          -9.456815330821655e-10,
          -1.8913627330974236e-9,
          -3.782725799261755e-9,
          -7.56545159852351e-9,
          -1.5130903419091624e-8,
          -3.026180750431706e-8,
          -6.052361545272333e-8,
          -1.2104723368100423e-7,
          -2.420944772429934e-7,
          -4.841889930107257e-7,
          -9.683781386771173e-7,
          -0.000001936756887976898,
          -0.000003873516219221607,
          -0.000007747042211736499,
          -0.000015494123516979208,
          -0.00003098840340964859,
          -0.00006197743233016251,
          -0.00012395736677228708,
          -0.0002479247425318798,
          -0.0004958895253426299,
          -0.0009919392464413646,
          -0.0019845195531285054,
          -0.003971605566596148,
          -0.007953494754568635,
          -0.015948266638637243,
          -0.0320627894409351,
          -0.06479988963121786,
          -0.132373023431145,
          -0.2764755421350722,
          -0.6054554316419083,
          -1.474927801003798,
          -4.6467460524998625,
          -28.11514285759537,
          -818.1621057132144,
          -669786.3449510245,
          -448613826779.2857,
          -2.0125436557755805e+23,
          -4.0503319664025364e+46,
          -1.6405189038062236e+93,
          -2.691302273745573e+186,
          null,
          null,
          null,
          null,
          null,
          null,
          null,
          null,
          null,
          null,
          null,
          null,
          null,
          null,
          null,
          null,
          null,
          null,
          null,
          null,
          null,
          null,
          null,
          null,
          null,
          null,
          null,
          null,
          null,
          null,
          null,
          null,
          null,
          null,
          null,
          null
         ],
         "yaxis": "y"
        },
        {
         "hovertemplate": "variable=MeTr<br>index=%{x}<br>value=%{y}<extra></extra>",
         "legendgroup": "MeTr",
         "line": {
          "color": "#FF6692",
          "dash": "solid"
         },
         "marker": {
          "symbol": "circle"
         },
         "mode": "lines",
         "name": "MeTr",
         "showlegend": true,
         "type": "scattergl",
         "x": [
          0,
          1,
          2,
          3,
          4,
          5,
          6,
          7,
          8,
          9,
          10,
          11,
          12,
          13,
          14,
          15,
          16,
          17,
          18,
          19,
          20,
          21,
          22,
          23,
          24,
          25,
          26,
          27,
          28,
          29,
          30,
          31,
          32,
          33,
          34,
          35,
          36,
          37,
          38,
          39,
          40,
          41,
          42,
          43,
          44,
          45,
          46,
          47,
          48,
          49,
          50,
          51,
          52,
          53,
          54,
          55,
          56,
          57,
          58,
          59,
          60,
          61,
          62,
          63,
          64,
          65,
          66,
          67,
          68,
          69,
          70,
          71,
          72,
          73,
          74,
          75,
          76,
          77,
          78,
          79,
          80,
          81,
          82,
          83,
          84,
          85,
          86,
          87,
          88,
          89,
          90,
          91,
          92,
          93,
          94,
          95,
          96,
          97,
          98,
          99
         ],
         "xaxis": "x",
         "y": [
          1.1102230246251565e-16,
          0,
          -1.1102230246251565e-16,
          -2.220446049250313e-16,
          -4.440892098500626e-16,
          -1.7763568394002505e-15,
          -3.552713678800501e-15,
          -7.105427357601002e-15,
          -1.4099832412739488e-14,
          -2.8754776337791554e-14,
          -5.750955267558311e-14,
          -1.1524114995609125e-13,
          -2.30593322214645e-13,
          -4.615197113366776e-13,
          -9.232614672782802e-13,
          -1.846856001463948e-12,
          -3.693712002927896e-12,
          -7.387757072763179e-12,
          -1.477595823473621e-11,
          -2.9552249536379804e-11,
          -5.910494316196946e-11,
          -1.1821010836854384e-10,
          -2.3641999469248276e-10,
          -4.728405444964778e-10,
          -9.456813110375606e-10,
          -1.8913625110528187e-9,
          -3.78272557721715e-9,
          -7.565451376478904e-9,
          -1.513090319704702e-8,
          -3.026180728227246e-8,
          -6.052361545272333e-8,
          -1.2104723345895962e-7,
          -2.4209447679890417e-7,
          -4.841889925666365e-7,
          -9.683781384550727e-7,
          -0.0000019367568877548536,
          -0.000003873516218555473,
          -0.00000774704221129241,
          -0.000015494123516313074,
          -0.0000309884034092045,
          -0.00006197743232971842,
          -0.000123957366771843,
          -0.00024792474253165775,
          -0.0004958895253424078,
          -0.0009919392464411425,
          -0.0019845195531280613,
          -0.003971605566595926,
          -0.007953494754567969,
          -0.0159482666386368,
          -0.03206278944093488,
          -0.06479988963121719,
          -0.13237302343114477,
          -0.27647554213507175,
          -0.6054554316419076,
          -1.4749278010037967,
          -4.646746052499861,
          -28.115142857595362,
          -818.1621057132138,
          -669786.3449510242,
          -448613826779.28546,
          -2.0125436557755788e+23,
          -4.050331966402535e+46,
          -1.640518903806223e+93,
          -2.6913022737455724e+186,
          null,
          null,
          null,
          null,
          null,
          null,
          null,
          null,
          null,
          null,
          null,
          null,
          null,
          null,
          null,
          null,
          null,
          null,
          null,
          null,
          null,
          null,
          null,
          null,
          null,
          null,
          null,
          null,
          null,
          null,
          null,
          null,
          null,
          null,
          null,
          null
         ],
         "yaxis": "y"
        },
        {
         "hovertemplate": "variable=MoTr<br>index=%{x}<br>value=%{y}<extra></extra>",
         "legendgroup": "MoTr",
         "line": {
          "color": "#B6E880",
          "dash": "solid"
         },
         "marker": {
          "symbol": "circle"
         },
         "mode": "lines",
         "name": "MoTr",
         "showlegend": true,
         "type": "scattergl",
         "x": [
          0,
          1,
          2,
          3,
          4,
          5,
          6,
          7,
          8,
          9,
          10,
          11,
          12,
          13,
          14,
          15,
          16,
          17,
          18,
          19,
          20,
          21,
          22,
          23,
          24,
          25,
          26,
          27,
          28,
          29,
          30,
          31,
          32,
          33,
          34,
          35,
          36,
          37,
          38,
          39,
          40,
          41,
          42,
          43,
          44,
          45,
          46,
          47,
          48,
          49,
          50,
          51,
          52,
          53,
          54,
          55,
          56,
          57,
          58,
          59,
          60,
          61,
          62,
          63,
          64,
          65,
          66,
          67,
          68,
          69,
          70,
          71,
          72,
          73,
          74,
          75,
          76,
          77,
          78,
          79,
          80,
          81,
          82,
          83,
          84,
          85,
          86,
          87,
          88,
          89,
          90,
          91,
          92,
          93,
          94,
          95,
          96,
          97,
          98,
          99
         ],
         "xaxis": "x",
         "y": [
          0,
          0,
          0,
          -2.220446049250313e-16,
          -6.661338147750939e-16,
          -1.7763568394002505e-15,
          -3.774758283725532e-15,
          -7.216449660063518e-15,
          -1.454392162258955e-14,
          -2.8754776337791554e-14,
          -5.773159728050814e-14,
          -1.1524114995609125e-13,
          -2.3092638912203256e-13,
          -4.619638005465276e-13,
          -9.235945341856677e-13,
          -1.8469670237664104e-12,
          -3.694045069835283e-12,
          -7.38820116197303e-12,
          -1.4776291301643596e-11,
          -2.9552693625589654e-11,
          -5.910516520657438e-11,
          -1.1821033041314877e-10,
          -2.364201057147852e-10,
          -4.728407665410828e-10,
          -9.456815330821655e-10,
          -1.8913627330974236e-9,
          -3.78272602130636e-9,
          -7.565451820568114e-9,
          -1.513090364113623e-8,
          -3.026180750431706e-8,
          -6.052361567476794e-8,
          -1.2104723412509344e-7,
          -2.42094477465038e-7,
          -4.841889930107257e-7,
          -9.68378138899162e-7,
          -0.0000019367568881989428,
          -0.000003873516219443651,
          -0.000007747042211736499,
          -0.000015494123517201253,
          -0.00003098840340964859,
          -0.0000619774323306066,
          -0.00012395736677228708,
          -0.0002479247425318798,
          -0.0004958895253426299,
          -0.0009919392464413646,
          -0.0019845195531285054,
          -0.003971605566596148,
          -0.007953494754568635,
          -0.015948266638637243,
          -0.0320627894409351,
          -0.06479988963121786,
          -0.132373023431145,
          -0.2764755421350722,
          -0.6054554316419083,
          -1.474927801003798,
          -4.6467460524998625,
          -28.11514285759537,
          -818.1621057132144,
          -669786.3449510245,
          -448613826779.2857,
          -2.0125436557755805e+23,
          -4.0503319664025364e+46,
          -1.6405189038062236e+93,
          -2.691302273745573e+186,
          null,
          null,
          null,
          null,
          null,
          null,
          null,
          null,
          null,
          null,
          null,
          null,
          null,
          null,
          null,
          null,
          null,
          null,
          null,
          null,
          null,
          null,
          null,
          null,
          null,
          null,
          null,
          null,
          null,
          null,
          null,
          null,
          null,
          null,
          null,
          null
         ],
         "yaxis": "y"
        },
        {
         "hovertemplate": "variable=RiRi<br>index=%{x}<br>value=%{y}<extra></extra>",
         "legendgroup": "RiRi",
         "line": {
          "color": "#FF97FF",
          "dash": "solid"
         },
         "marker": {
          "symbol": "circle"
         },
         "mode": "lines",
         "name": "RiRi",
         "showlegend": true,
         "type": "scattergl",
         "x": [
          0,
          1,
          2,
          3,
          4,
          5,
          6,
          7,
          8,
          9,
          10,
          11,
          12,
          13,
          14,
          15,
          16,
          17,
          18,
          19,
          20,
          21,
          22,
          23,
          24,
          25,
          26,
          27,
          28,
          29,
          30,
          31,
          32,
          33,
          34,
          35,
          36,
          37,
          38,
          39,
          40,
          41,
          42,
          43,
          44,
          45,
          46,
          47,
          48,
          49,
          50,
          51,
          52,
          53,
          54,
          55,
          56,
          57,
          58,
          59,
          60,
          61,
          62,
          63,
          64,
          65,
          66,
          67,
          68,
          69,
          70,
          71,
          72,
          73,
          74,
          75,
          76,
          77,
          78,
          79,
          80,
          81,
          82,
          83,
          84,
          85,
          86,
          87,
          88,
          89,
          90,
          91,
          92,
          93,
          94,
          95,
          96,
          97,
          98,
          99
         ],
         "xaxis": "x",
         "y": [
          -1.1102230246251565e-16,
          -4.440892098500626e-16,
          -5.551115123125783e-16,
          -6.661338147750939e-16,
          -8.881784197001252e-16,
          -1.9984014443252818e-15,
          -4.107825191113079e-15,
          -7.549516567451064e-15,
          -1.4876988529977098e-14,
          -2.8976820942716586e-14,
          -5.81756864903582e-14,
          -1.1601830607332886e-13,
          -2.313704783318826e-13,
          -4.622968674539152e-13,
          -9.239276010930553e-13,
          -1.8474111129762605e-12,
          -3.694600181347596e-12,
          -7.388534228880417e-12,
          -1.477684641315591e-11,
          -2.955302669249704e-11,
          -5.910549827348177e-11,
          -1.1821066348005616e-10,
          -2.3642066082629754e-10,
          -4.728409885856877e-10,
          -9.456819771713754e-10,
          -1.891363066164331e-9,
          -3.7827262433509645e-9,
          -7.565452264657324e-9,
          -1.513090419624774e-8,
          -3.026180783738397e-8,
          -6.052361578579024e-8,
          -1.2104723445816035e-7,
          -2.420944777981049e-7,
          -4.841889932327703e-7,
          -9.683781390101842e-7,
          -0.0000019367568884209874,
          -0.000003873516219776718,
          -0.000007747042212069566,
          -0.000015494123517756364,
          -0.00003098840341009268,
          -0.00006197743233082864,
          -0.00012395736677262015,
          -0.00024792474253221286,
          -0.0004958895253429629,
          -0.0009919392464414756,
          -0.0019845195531287274,
          -0.003971605566596703,
          -0.007953494754568968,
          -0.015948266638637465,
          -0.032062789440935546,
          -0.06479988963121819,
          -0.13237302343114543,
          -0.27647554213507264,
          -0.6054554316419086,
          -1.4749278010037985,
          -4.646746052499863,
          -28.11514285759537,
          -818.1621057132144,
          -669786.3449510245,
          -448613826779.2857,
          -2.0125436557755805e+23,
          -4.0503319664025364e+46,
          -1.6405189038062236e+93,
          -2.691302273745573e+186,
          null,
          null,
          null,
          null,
          null,
          null,
          null,
          null,
          null,
          null,
          null,
          null,
          null,
          null,
          null,
          null,
          null,
          null,
          null,
          null,
          null,
          null,
          null,
          null,
          null,
          null,
          null,
          null,
          null,
          null,
          null,
          null,
          null,
          null,
          null,
          null
         ],
         "yaxis": "y"
        },
        {
         "hovertemplate": "variable=MoFo<br>index=%{x}<br>value=%{y}<extra></extra>",
         "legendgroup": "MoFo",
         "line": {
          "color": "#FECB52",
          "dash": "solid"
         },
         "marker": {
          "symbol": "circle"
         },
         "mode": "lines",
         "name": "MoFo",
         "showlegend": true,
         "type": "scattergl",
         "x": [
          0,
          1,
          2,
          3,
          4,
          5,
          6,
          7,
          8,
          9,
          10,
          11,
          12,
          13,
          14,
          15,
          16,
          17,
          18,
          19,
          20,
          21,
          22,
          23,
          24,
          25,
          26,
          27,
          28,
          29,
          30,
          31,
          32,
          33,
          34,
          35,
          36,
          37,
          38,
          39,
          40,
          41,
          42,
          43,
          44,
          45,
          46,
          47,
          48,
          49,
          50,
          51,
          52,
          53,
          54,
          55,
          56,
          57,
          58,
          59,
          60,
          61,
          62,
          63,
          64,
          65,
          66,
          67,
          68,
          69,
          70,
          71,
          72,
          73,
          74,
          75,
          76,
          77,
          78,
          79,
          80,
          81,
          82,
          83,
          84,
          85,
          86,
          87,
          88,
          89,
          90,
          91,
          92,
          93,
          94,
          95,
          96,
          97,
          98,
          99
         ],
         "xaxis": "x",
         "y": [
          2.220446049250313e-16,
          -2.220446049250313e-16,
          -2.220446049250313e-16,
          -6.661338147750939e-16,
          -9.992007221626409e-16,
          -1.5543122344752192e-15,
          -3.6637359812630166e-15,
          -6.8833827526759706e-15,
          -1.432187701766452e-14,
          -2.8754776337791554e-14,
          -5.750955267558311e-14,
          -1.1524114995609125e-13,
          -2.310374114244951e-13,
          -4.615197113366776e-13,
          -9.232614672782802e-13,
          -1.846856001463948e-12,
          -3.693934047532821e-12,
          -7.387757072763179e-12,
          -1.477595823473621e-11,
          -2.9552249536379804e-11,
          -5.910538725117931e-11,
          -1.1821010836854384e-10,
          -2.364202167370877e-10,
          -4.728407665410828e-10,
          -9.456813110375606e-10,
          -1.8913627330974236e-9,
          -3.78272557721715e-9,
          -7.56545159852351e-9,
          -1.5130903419091624e-8,
          -3.026180728227246e-8,
          -6.052361545272333e-8,
          -1.2104723368100423e-7,
          -2.4209447702094877e-7,
          -4.841889927886811e-7,
          -9.683781386771173e-7,
          -0.000001936756887976898,
          -0.000003873516218999562,
          -0.000007747042211514454,
          -0.000015494123516757163,
          -0.000030988403409426546,
          -0.00006197743233016251,
          -0.00012395736677228708,
          -0.00024792474253165775,
          -0.0004958895253426299,
          -0.0009919392464411425,
          -0.0019845195531280613,
          -0.003971605566595926,
          -0.007953494754568191,
          -0.015948266638637243,
          -0.03206278944093488,
          -0.06479988963121741,
          -0.132373023431145,
          -0.27647554213507197,
          -0.6054554316419081,
          -1.4749278010037976,
          -4.6467460524998625,
          -28.115142857595366,
          -818.162105713214,
          -669786.3449510242,
          -448613826779.28546,
          -2.0125436557755794e+23,
          -4.0503319664025353e+46,
          -1.640518903806223e+93,
          -2.6913022737455724e+186,
          null,
          null,
          null,
          null,
          null,
          null,
          null,
          null,
          null,
          null,
          null,
          null,
          null,
          null,
          null,
          null,
          null,
          null,
          null,
          null,
          null,
          null,
          null,
          null,
          null,
          null,
          null,
          null,
          null,
          null,
          null,
          null,
          null,
          null,
          null,
          null
         ],
         "yaxis": "y"
        },
        {
         "hovertemplate": "variable=Mmof<br>index=%{x}<br>value=%{y}<extra></extra>",
         "legendgroup": "Mmof",
         "line": {
          "color": "#636efa",
          "dash": "solid"
         },
         "marker": {
          "symbol": "circle"
         },
         "mode": "lines",
         "name": "Mmof",
         "showlegend": true,
         "type": "scattergl",
         "x": [
          0,
          1,
          2,
          3,
          4,
          5,
          6,
          7,
          8,
          9,
          10,
          11,
          12,
          13,
          14,
          15,
          16,
          17,
          18,
          19,
          20,
          21,
          22,
          23,
          24,
          25,
          26,
          27,
          28,
          29,
          30,
          31,
          32,
          33,
          34,
          35,
          36,
          37,
          38,
          39,
          40,
          41,
          42,
          43,
          44,
          45,
          46,
          47,
          48,
          49,
          50,
          51,
          52,
          53,
          54,
          55,
          56,
          57,
          58,
          59,
          60,
          61,
          62,
          63,
          64,
          65,
          66,
          67,
          68,
          69,
          70,
          71,
          72,
          73,
          74,
          75,
          76,
          77,
          78,
          79,
          80,
          81,
          82,
          83,
          84,
          85,
          86,
          87,
          88,
          89,
          90,
          91,
          92,
          93,
          94,
          95,
          96,
          97,
          98,
          99
         ],
         "xaxis": "x",
         "y": [
          1.1102230246251565e-16,
          -2.220446049250313e-16,
          0,
          -2.220446049250313e-16,
          -5.551115123125783e-16,
          -1.5543122344752192e-15,
          -3.6637359812630166e-15,
          -6.8833827526759706e-15,
          -1.4210854715202004e-14,
          -2.8754776337791554e-14,
          -5.728750807065808e-14,
          -1.1524114995609125e-13,
          -2.304822999121825e-13,
          -4.615197113366776e-13,
          -9.231504449758177e-13,
          -1.8467449791614854e-12,
          -3.693378936020508e-12,
          -7.387646050460717e-12,
          -1.4775847212433746e-11,
          -2.9552249536379804e-11,
          -5.910472111736453e-11,
          -1.1820988632393892e-10,
          -2.364198836701803e-10,
          -4.728405444964778e-10,
          -9.456810889929557e-10,
          -1.8913625110528187e-9,
          -3.78272557721715e-9,
          -7.565451376478904e-9,
          -1.513090319704702e-8,
          -3.026180728227246e-8,
          -6.052361545272333e-8,
          -1.2104723345895962e-7,
          -2.4209447679890417e-7,
          -4.841889925666365e-7,
          -9.683781384550727e-7,
          -0.0000019367568877548536,
          -0.000003873516218555473,
          -0.00000774704221129241,
          -0.000015494123516313074,
          -0.0000309884034092045,
          -0.00006197743232971842,
          -0.000123957366771843,
          -0.00024792474253165775,
          -0.0004958895253424078,
          -0.0009919392464411425,
          -0.0019845195531280613,
          -0.003971605566595926,
          -0.007953494754567969,
          -0.0159482666386368,
          -0.03206278944093488,
          -0.06479988963121719,
          -0.13237302343114477,
          -0.27647554213507175,
          -0.6054554316419076,
          -1.4749278010037967,
          -4.646746052499861,
          -28.115142857595362,
          -818.1621057132138,
          -669786.3449510242,
          -448613826779.28546,
          -2.0125436557755788e+23,
          -4.050331966402535e+46,
          -1.640518903806223e+93,
          -2.6913022737455724e+186,
          null,
          null,
          null,
          null,
          null,
          null,
          null,
          null,
          null,
          null,
          null,
          null,
          null,
          null,
          null,
          null,
          null,
          null,
          null,
          null,
          null,
          null,
          null,
          null,
          null,
          null,
          null,
          null,
          null,
          null,
          null,
          null,
          null,
          null,
          null,
          null
         ],
         "yaxis": "y"
        },
        {
         "hovertemplate": "variable=MoRi<br>index=%{x}<br>value=%{y}<extra></extra>",
         "legendgroup": "MoRi",
         "line": {
          "color": "#EF553B",
          "dash": "solid"
         },
         "marker": {
          "symbol": "circle"
         },
         "mode": "lines",
         "name": "MoRi",
         "showlegend": true,
         "type": "scattergl",
         "x": [
          0,
          1,
          2,
          3,
          4,
          5,
          6,
          7,
          8,
          9,
          10,
          11,
          12,
          13,
          14,
          15,
          16,
          17,
          18,
          19,
          20,
          21,
          22,
          23,
          24,
          25,
          26,
          27,
          28,
          29,
          30,
          31,
          32,
          33,
          34,
          35,
          36,
          37,
          38,
          39,
          40,
          41,
          42,
          43,
          44,
          45,
          46,
          47,
          48,
          49,
          50,
          51,
          52,
          53,
          54,
          55,
          56,
          57,
          58,
          59,
          60,
          61,
          62,
          63,
          64,
          65,
          66,
          67,
          68,
          69,
          70,
          71,
          72,
          73,
          74,
          75,
          76,
          77,
          78,
          79,
          80,
          81,
          82,
          83,
          84,
          85,
          86,
          87,
          88,
          89,
          90,
          91,
          92,
          93,
          94,
          95,
          96,
          97,
          98,
          99
         ],
         "xaxis": "x",
         "y": [
          0,
          0,
          -4.440892098500626e-16,
          -7.771561172376096e-16,
          -1.1102230246251565e-15,
          -1.5543122344752192e-15,
          -3.6637359812630166e-15,
          -7.105427357601002e-15,
          -1.432187701766452e-14,
          -2.8754776337791554e-14,
          -5.750955267558311e-14,
          -1.1524114995609125e-13,
          -2.3092638912203256e-13,
          -4.615197113366776e-13,
          -9.231504449758177e-13,
          -1.8467449791614854e-12,
          -3.693823025230358e-12,
          -7.387757072763179e-12,
          -1.4775847212433746e-11,
          -2.9552249536379804e-11,
          -5.910516520657438e-11,
          -1.1821010836854384e-10,
          -2.364201057147852e-10,
          -4.728407665410828e-10,
          -9.456813110375606e-10,
          -1.8913627330974236e-9,
          -3.78272557721715e-9,
          -7.56545159852351e-9,
          -1.5130903419091624e-8,
          -3.026180728227246e-8,
          -6.052361545272333e-8,
          -1.2104723368100423e-7,
          -2.4209447702094877e-7,
          -4.841889927886811e-7,
          -9.683781386771173e-7,
          -0.000001936756887976898,
          -0.000003873516218999562,
          -0.000007747042211514454,
          -0.000015494123516757163,
          -0.000030988403409426546,
          -0.00006197743233016251,
          -0.00012395736677228708,
          -0.00024792474253165775,
          -0.0004958895253426299,
          -0.0009919392464411425,
          -0.0019845195531280613,
          -0.003971605566595926,
          -0.007953494754568191,
          -0.015948266638637243,
          -0.03206278944093488,
          -0.06479988963121741,
          -0.132373023431145,
          -0.27647554213507197,
          -0.6054554316419081,
          -1.4749278010037976,
          -4.6467460524998625,
          -28.115142857595366,
          -818.162105713214,
          -669786.3449510242,
          -448613826779.28546,
          -2.0125436557755794e+23,
          -4.0503319664025353e+46,
          -1.640518903806223e+93,
          -2.6913022737455724e+186,
          null,
          null,
          null,
          null,
          null,
          null,
          null,
          null,
          null,
          null,
          null,
          null,
          null,
          null,
          null,
          null,
          null,
          null,
          null,
          null,
          null,
          null,
          null,
          null,
          null,
          null,
          null,
          null,
          null,
          null,
          null,
          null,
          null,
          null,
          null,
          null
         ],
         "yaxis": "y"
        },
        {
         "hovertemplate": "variable=MeRi<br>index=%{x}<br>value=%{y}<extra></extra>",
         "legendgroup": "MeRi",
         "line": {
          "color": "#00cc96",
          "dash": "solid"
         },
         "marker": {
          "symbol": "circle"
         },
         "mode": "lines",
         "name": "MeRi",
         "showlegend": true,
         "type": "scattergl",
         "x": [
          0,
          1,
          2,
          3,
          4,
          5,
          6,
          7,
          8,
          9,
          10,
          11,
          12,
          13,
          14,
          15,
          16,
          17,
          18,
          19,
          20,
          21,
          22,
          23,
          24,
          25,
          26,
          27,
          28,
          29,
          30,
          31,
          32,
          33,
          34,
          35,
          36,
          37,
          38,
          39,
          40,
          41,
          42,
          43,
          44,
          45,
          46,
          47,
          48,
          49,
          50,
          51,
          52,
          53,
          54,
          55,
          56,
          57,
          58,
          59,
          60,
          61,
          62,
          63,
          64,
          65,
          66,
          67,
          68,
          69,
          70,
          71,
          72,
          73,
          74,
          75,
          76,
          77,
          78,
          79,
          80,
          81,
          82,
          83,
          84,
          85,
          86,
          87,
          88,
          89,
          90,
          91,
          92,
          93,
          94,
          95,
          96,
          97,
          98,
          99
         ],
         "xaxis": "x",
         "y": [
          0,
          0,
          -4.440892098500626e-16,
          -4.440892098500626e-16,
          -9.992007221626409e-16,
          -1.7763568394002505e-15,
          -3.552713678800501e-15,
          -7.105427357601002e-15,
          -1.432187701766452e-14,
          -2.864375403532904e-14,
          -5.773159728050814e-14,
          -1.1524114995609125e-13,
          -2.3092638912203256e-13,
          -4.618527782440651e-13,
          -9.235945341856677e-13,
          -1.846856001463948e-12,
          -3.693823025230358e-12,
          -7.388090139670567e-12,
          -1.4776291301643596e-11,
          -2.9552693625589654e-11,
          -5.910516520657438e-11,
          -1.1821010836854384e-10,
          -2.3641999469248276e-10,
          -4.728407665410828e-10,
          -9.456813110375606e-10,
          -1.8913627330974236e-9,
          -3.78272602130636e-9,
          -7.565451820568114e-9,
          -1.513090375215853e-8,
          -3.026180750431706e-8,
          -6.052361567476794e-8,
          -1.2104723412509344e-7,
          -2.42094477465038e-7,
          -4.841889930107257e-7,
          -9.683781387881396e-7,
          -0.0000019367568881989428,
          -0.000003873516219443651,
          -0.000007747042211736499,
          -0.000015494123517312275,
          -0.00003098840340964859,
          -0.0000619774323306066,
          -0.00012395736677217606,
          -0.00024792474253176877,
          -0.0004958895253425188,
          -0.0009919392464409205,
          -0.0019845195531282833,
          -0.003971605566596037,
          -0.007953494754568302,
          -0.01594826663863702,
          -0.03206278944093477,
          -0.06479988963121763,
          -0.13237302343114465,
          -0.27647554213507197,
          -0.605455431641908,
          -1.4749278010037976,
          -4.6467460524998625,
          -28.11514285759537,
          -818.1621057132144,
          -669786.3449510245,
          -448613826779.2857,
          -2.0125436557755805e+23,
          -4.0503319664025364e+46,
          -1.6405189038062236e+93,
          -2.691302273745573e+186,
          null,
          null,
          null,
          null,
          null,
          null,
          null,
          null,
          null,
          null,
          null,
          null,
          null,
          null,
          null,
          null,
          null,
          null,
          null,
          null,
          null,
          null,
          null,
          null,
          null,
          null,
          null,
          null,
          null,
          null,
          null,
          null,
          null,
          null,
          null,
          null
         ],
         "yaxis": "y"
        },
        {
         "hovertemplate": "variable=Ri<br>index=%{x}<br>value=%{y}<extra></extra>",
         "legendgroup": "Ri",
         "line": {
          "color": "#ab63fa",
          "dash": "solid"
         },
         "marker": {
          "symbol": "circle"
         },
         "mode": "lines",
         "name": "Ri",
         "showlegend": true,
         "type": "scattergl",
         "x": [
          0,
          1,
          2,
          3,
          4,
          5,
          6,
          7,
          8,
          9,
          10,
          11,
          12,
          13,
          14,
          15,
          16,
          17,
          18,
          19,
          20,
          21,
          22,
          23,
          24,
          25,
          26,
          27,
          28,
          29,
          30,
          31,
          32,
          33,
          34,
          35,
          36,
          37,
          38,
          39,
          40,
          41,
          42,
          43,
          44,
          45,
          46,
          47,
          48,
          49,
          50,
          51,
          52,
          53,
          54,
          55,
          56,
          57,
          58,
          59,
          60,
          61,
          62,
          63,
          64,
          65,
          66,
          67,
          68,
          69,
          70,
          71,
          72,
          73,
          74,
          75,
          76,
          77,
          78,
          79,
          80,
          81,
          82,
          83,
          84,
          85,
          86,
          87,
          88,
          89,
          90,
          91,
          92,
          93,
          94,
          95,
          96,
          97,
          98,
          99
         ],
         "xaxis": "x",
         "y": [
          -3.3306690738754696e-16,
          0,
          -3.3306690738754696e-16,
          -6.661338147750939e-16,
          -1.1102230246251565e-15,
          -1.7763568394002505e-15,
          -3.6637359812630166e-15,
          -7.216449660063518e-15,
          -1.432187701766452e-14,
          -2.8754776337791554e-14,
          -5.784261958297066e-14,
          -1.155742168634788e-13,
          -2.311484337269576e-13,
          -4.617417559416026e-13,
          -9.237055564881302e-13,
          -1.846856001463948e-12,
          -3.693934047532821e-12,
          -7.387979117368104e-12,
          -1.477595823473621e-11,
          -2.955247158098473e-11,
          -5.910527622887685e-11,
          -1.1821010836854384e-10,
          -2.364201057147852e-10,
          -4.728407665410828e-10,
          -9.456815330821655e-10,
          -1.8913627330974236e-9,
          -3.782725799261755e-9,
          -7.56545159852351e-9,
          -1.5130903530113926e-8,
          -3.026180750431706e-8,
          -6.052361545272333e-8,
          -1.2104723368100423e-7,
          -2.420944772429934e-7,
          -4.841889930107257e-7,
          -9.68378138566095e-7,
          -0.000001936756887976898,
          -0.000003873516219221607,
          -0.000007747042211736499,
          -0.00001549412351709023,
          -0.00003098840340964859,
          -0.00006197743233016251,
          -0.00012395736677217606,
          -0.00024792474253176877,
          -0.0004958895253425188,
          -0.0009919392464409205,
          -0.0019845195531282833,
          -0.003971605566596037,
          -0.007953494754568302,
          -0.01594826663863702,
          -0.03206278944093477,
          -0.06479988963121763,
          -0.13237302343114465,
          -0.27647554213507197,
          -0.605455431641908,
          -1.4749278010037976,
          -4.6467460524998625,
          -28.11514285759537,
          -818.1621057132144,
          -669786.3449510245,
          -448613826779.2857,
          -2.0125436557755805e+23,
          -4.0503319664025364e+46,
          -1.6405189038062236e+93,
          -2.691302273745573e+186,
          null,
          null,
          null,
          null,
          null,
          null,
          null,
          null,
          null,
          null,
          null,
          null,
          null,
          null,
          null,
          null,
          null,
          null,
          null,
          null,
          null,
          null,
          null,
          null,
          null,
          null,
          null,
          null,
          null,
          null,
          null,
          null,
          null,
          null,
          null,
          null
         ],
         "yaxis": "y"
        },
        {
         "hovertemplate": "variable=Comp<br>index=%{x}<br>value=%{y}<extra></extra>",
         "legendgroup": "Comp",
         "line": {
          "color": "#FFA15A",
          "dash": "solid"
         },
         "marker": {
          "symbol": "circle"
         },
         "mode": "lines",
         "name": "Comp",
         "showlegend": true,
         "type": "scattergl",
         "x": [
          0,
          1,
          2,
          3,
          4,
          5,
          6,
          7,
          8,
          9,
          10,
          11,
          12,
          13,
          14,
          15,
          16,
          17,
          18,
          19,
          20,
          21,
          22,
          23,
          24,
          25,
          26,
          27,
          28,
          29,
          30,
          31,
          32,
          33,
          34,
          35,
          36,
          37,
          38,
          39,
          40,
          41,
          42,
          43,
          44,
          45,
          46,
          47,
          48,
          49,
          50,
          51,
          52,
          53,
          54,
          55,
          56,
          57,
          58,
          59,
          60,
          61,
          62,
          63,
          64,
          65,
          66,
          67,
          68,
          69,
          70,
          71,
          72,
          73,
          74,
          75,
          76,
          77,
          78,
          79,
          80,
          81,
          82,
          83,
          84,
          85,
          86,
          87,
          88,
          89,
          90,
          91,
          92,
          93,
          94,
          95,
          96,
          97,
          98,
          99
         ],
         "xaxis": "x",
         "y": [
          -2.220446049250313e-16,
          -2.220446049250313e-16,
          0,
          -2.220446049250313e-16,
          -6.661338147750939e-16,
          -1.4432899320127035e-15,
          -3.3306690738754696e-15,
          -7.105427357601002e-15,
          -1.3988810110276972e-14,
          -2.842170943040401e-14,
          -5.750955267558311e-14,
          -1.1524114995609125e-13,
          -2.304822999121825e-13,
          -4.614086890342151e-13,
          -9.231504449758177e-13,
          -1.846633956859023e-12,
          -3.693378936020508e-12,
          -7.387646050460717e-12,
          -1.4775847212433746e-11,
          -2.9552249536379804e-11,
          -5.910472111736453e-11,
          -1.1820988632393892e-10,
          -2.3641977264787783e-10,
          -4.728405444964778e-10,
          -9.456810889929557e-10,
          -1.8913625110528187e-9,
          -3.78272557721715e-9,
          -7.565451376478904e-9,
          -1.513090330806932e-8,
          -3.026180728227246e-8,
          -6.052361545272333e-8,
          -1.2104723345895962e-7,
          -2.4209447679890417e-7,
          -4.841889925666365e-7,
          -9.683781383440504e-7,
          -0.0000019367568877548536,
          -0.000003873516218555473,
          -0.00000774704221129241,
          -0.000015494123516424096,
          -0.0000309884034092045,
          -0.00006197743232971842,
          -0.00012395736677173197,
          -0.0002479247425315467,
          -0.0004958895253422968,
          -0.0009919392464406984,
          -0.0019845195531278392,
          -0.003971605566595815,
          -0.007953494754567636,
          -0.015948266638636577,
          -0.03206278944093455,
          -0.06479988963121697,
          -0.13237302343114443,
          -0.27647554213507153,
          -0.6054554316419073,
          -1.4749278010037963,
          -4.646746052499861,
          -28.11514285759536,
          -818.1621057132137,
          -669786.344951024,
          -448613826779.28546,
          -2.0125436557755788e+23,
          -4.050331966402535e+46,
          -1.640518903806223e+93,
          -2.6913022737455714e+186,
          null,
          null,
          null,
          null,
          null,
          null,
          null,
          null,
          null,
          null,
          null,
          null,
          null,
          null,
          null,
          null,
          null,
          null,
          null,
          null,
          null,
          null,
          null,
          null,
          null,
          null,
          null,
          null,
          null,
          null,
          null,
          null,
          null,
          null,
          null,
          null
         ],
         "yaxis": "y"
        }
       ],
       "layout": {
        "legend": {
         "title": {
          "text": "variable"
         },
         "tracegroupgap": 0
        },
        "template": {
         "data": {
          "bar": [
           {
            "error_x": {
             "color": "#2a3f5f"
            },
            "error_y": {
             "color": "#2a3f5f"
            },
            "marker": {
             "line": {
              "color": "#E5ECF6",
              "width": 0.5
             },
             "pattern": {
              "fillmode": "overlay",
              "size": 10,
              "solidity": 0.2
             }
            },
            "type": "bar"
           }
          ],
          "barpolar": [
           {
            "marker": {
             "line": {
              "color": "#E5ECF6",
              "width": 0.5
             },
             "pattern": {
              "fillmode": "overlay",
              "size": 10,
              "solidity": 0.2
             }
            },
            "type": "barpolar"
           }
          ],
          "carpet": [
           {
            "aaxis": {
             "endlinecolor": "#2a3f5f",
             "gridcolor": "white",
             "linecolor": "white",
             "minorgridcolor": "white",
             "startlinecolor": "#2a3f5f"
            },
            "baxis": {
             "endlinecolor": "#2a3f5f",
             "gridcolor": "white",
             "linecolor": "white",
             "minorgridcolor": "white",
             "startlinecolor": "#2a3f5f"
            },
            "type": "carpet"
           }
          ],
          "choropleth": [
           {
            "colorbar": {
             "outlinewidth": 0,
             "ticks": ""
            },
            "type": "choropleth"
           }
          ],
          "contour": [
           {
            "colorbar": {
             "outlinewidth": 0,
             "ticks": ""
            },
            "colorscale": [
             [
              0,
              "#0d0887"
             ],
             [
              0.1111111111111111,
              "#46039f"
             ],
             [
              0.2222222222222222,
              "#7201a8"
             ],
             [
              0.3333333333333333,
              "#9c179e"
             ],
             [
              0.4444444444444444,
              "#bd3786"
             ],
             [
              0.5555555555555556,
              "#d8576b"
             ],
             [
              0.6666666666666666,
              "#ed7953"
             ],
             [
              0.7777777777777778,
              "#fb9f3a"
             ],
             [
              0.8888888888888888,
              "#fdca26"
             ],
             [
              1,
              "#f0f921"
             ]
            ],
            "type": "contour"
           }
          ],
          "contourcarpet": [
           {
            "colorbar": {
             "outlinewidth": 0,
             "ticks": ""
            },
            "type": "contourcarpet"
           }
          ],
          "heatmap": [
           {
            "colorbar": {
             "outlinewidth": 0,
             "ticks": ""
            },
            "colorscale": [
             [
              0,
              "#0d0887"
             ],
             [
              0.1111111111111111,
              "#46039f"
             ],
             [
              0.2222222222222222,
              "#7201a8"
             ],
             [
              0.3333333333333333,
              "#9c179e"
             ],
             [
              0.4444444444444444,
              "#bd3786"
             ],
             [
              0.5555555555555556,
              "#d8576b"
             ],
             [
              0.6666666666666666,
              "#ed7953"
             ],
             [
              0.7777777777777778,
              "#fb9f3a"
             ],
             [
              0.8888888888888888,
              "#fdca26"
             ],
             [
              1,
              "#f0f921"
             ]
            ],
            "type": "heatmap"
           }
          ],
          "heatmapgl": [
           {
            "colorbar": {
             "outlinewidth": 0,
             "ticks": ""
            },
            "colorscale": [
             [
              0,
              "#0d0887"
             ],
             [
              0.1111111111111111,
              "#46039f"
             ],
             [
              0.2222222222222222,
              "#7201a8"
             ],
             [
              0.3333333333333333,
              "#9c179e"
             ],
             [
              0.4444444444444444,
              "#bd3786"
             ],
             [
              0.5555555555555556,
              "#d8576b"
             ],
             [
              0.6666666666666666,
              "#ed7953"
             ],
             [
              0.7777777777777778,
              "#fb9f3a"
             ],
             [
              0.8888888888888888,
              "#fdca26"
             ],
             [
              1,
              "#f0f921"
             ]
            ],
            "type": "heatmapgl"
           }
          ],
          "histogram": [
           {
            "marker": {
             "pattern": {
              "fillmode": "overlay",
              "size": 10,
              "solidity": 0.2
             }
            },
            "type": "histogram"
           }
          ],
          "histogram2d": [
           {
            "colorbar": {
             "outlinewidth": 0,
             "ticks": ""
            },
            "colorscale": [
             [
              0,
              "#0d0887"
             ],
             [
              0.1111111111111111,
              "#46039f"
             ],
             [
              0.2222222222222222,
              "#7201a8"
             ],
             [
              0.3333333333333333,
              "#9c179e"
             ],
             [
              0.4444444444444444,
              "#bd3786"
             ],
             [
              0.5555555555555556,
              "#d8576b"
             ],
             [
              0.6666666666666666,
              "#ed7953"
             ],
             [
              0.7777777777777778,
              "#fb9f3a"
             ],
             [
              0.8888888888888888,
              "#fdca26"
             ],
             [
              1,
              "#f0f921"
             ]
            ],
            "type": "histogram2d"
           }
          ],
          "histogram2dcontour": [
           {
            "colorbar": {
             "outlinewidth": 0,
             "ticks": ""
            },
            "colorscale": [
             [
              0,
              "#0d0887"
             ],
             [
              0.1111111111111111,
              "#46039f"
             ],
             [
              0.2222222222222222,
              "#7201a8"
             ],
             [
              0.3333333333333333,
              "#9c179e"
             ],
             [
              0.4444444444444444,
              "#bd3786"
             ],
             [
              0.5555555555555556,
              "#d8576b"
             ],
             [
              0.6666666666666666,
              "#ed7953"
             ],
             [
              0.7777777777777778,
              "#fb9f3a"
             ],
             [
              0.8888888888888888,
              "#fdca26"
             ],
             [
              1,
              "#f0f921"
             ]
            ],
            "type": "histogram2dcontour"
           }
          ],
          "mesh3d": [
           {
            "colorbar": {
             "outlinewidth": 0,
             "ticks": ""
            },
            "type": "mesh3d"
           }
          ],
          "parcoords": [
           {
            "line": {
             "colorbar": {
              "outlinewidth": 0,
              "ticks": ""
             }
            },
            "type": "parcoords"
           }
          ],
          "pie": [
           {
            "automargin": true,
            "type": "pie"
           }
          ],
          "scatter": [
           {
            "fillpattern": {
             "fillmode": "overlay",
             "size": 10,
             "solidity": 0.2
            },
            "type": "scatter"
           }
          ],
          "scatter3d": [
           {
            "line": {
             "colorbar": {
              "outlinewidth": 0,
              "ticks": ""
             }
            },
            "marker": {
             "colorbar": {
              "outlinewidth": 0,
              "ticks": ""
             }
            },
            "type": "scatter3d"
           }
          ],
          "scattercarpet": [
           {
            "marker": {
             "colorbar": {
              "outlinewidth": 0,
              "ticks": ""
             }
            },
            "type": "scattercarpet"
           }
          ],
          "scattergeo": [
           {
            "marker": {
             "colorbar": {
              "outlinewidth": 0,
              "ticks": ""
             }
            },
            "type": "scattergeo"
           }
          ],
          "scattergl": [
           {
            "marker": {
             "colorbar": {
              "outlinewidth": 0,
              "ticks": ""
             }
            },
            "type": "scattergl"
           }
          ],
          "scattermapbox": [
           {
            "marker": {
             "colorbar": {
              "outlinewidth": 0,
              "ticks": ""
             }
            },
            "type": "scattermapbox"
           }
          ],
          "scatterpolar": [
           {
            "marker": {
             "colorbar": {
              "outlinewidth": 0,
              "ticks": ""
             }
            },
            "type": "scatterpolar"
           }
          ],
          "scatterpolargl": [
           {
            "marker": {
             "colorbar": {
              "outlinewidth": 0,
              "ticks": ""
             }
            },
            "type": "scatterpolargl"
           }
          ],
          "scatterternary": [
           {
            "marker": {
             "colorbar": {
              "outlinewidth": 0,
              "ticks": ""
             }
            },
            "type": "scatterternary"
           }
          ],
          "surface": [
           {
            "colorbar": {
             "outlinewidth": 0,
             "ticks": ""
            },
            "colorscale": [
             [
              0,
              "#0d0887"
             ],
             [
              0.1111111111111111,
              "#46039f"
             ],
             [
              0.2222222222222222,
              "#7201a8"
             ],
             [
              0.3333333333333333,
              "#9c179e"
             ],
             [
              0.4444444444444444,
              "#bd3786"
             ],
             [
              0.5555555555555556,
              "#d8576b"
             ],
             [
              0.6666666666666666,
              "#ed7953"
             ],
             [
              0.7777777777777778,
              "#fb9f3a"
             ],
             [
              0.8888888888888888,
              "#fdca26"
             ],
             [
              1,
              "#f0f921"
             ]
            ],
            "type": "surface"
           }
          ],
          "table": [
           {
            "cells": {
             "fill": {
              "color": "#EBF0F8"
             },
             "line": {
              "color": "white"
             }
            },
            "header": {
             "fill": {
              "color": "#C8D4E3"
             },
             "line": {
              "color": "white"
             }
            },
            "type": "table"
           }
          ]
         },
         "layout": {
          "annotationdefaults": {
           "arrowcolor": "#2a3f5f",
           "arrowhead": 0,
           "arrowwidth": 1
          },
          "autotypenumbers": "strict",
          "coloraxis": {
           "colorbar": {
            "outlinewidth": 0,
            "ticks": ""
           }
          },
          "colorscale": {
           "diverging": [
            [
             0,
             "#8e0152"
            ],
            [
             0.1,
             "#c51b7d"
            ],
            [
             0.2,
             "#de77ae"
            ],
            [
             0.3,
             "#f1b6da"
            ],
            [
             0.4,
             "#fde0ef"
            ],
            [
             0.5,
             "#f7f7f7"
            ],
            [
             0.6,
             "#e6f5d0"
            ],
            [
             0.7,
             "#b8e186"
            ],
            [
             0.8,
             "#7fbc41"
            ],
            [
             0.9,
             "#4d9221"
            ],
            [
             1,
             "#276419"
            ]
           ],
           "sequential": [
            [
             0,
             "#0d0887"
            ],
            [
             0.1111111111111111,
             "#46039f"
            ],
            [
             0.2222222222222222,
             "#7201a8"
            ],
            [
             0.3333333333333333,
             "#9c179e"
            ],
            [
             0.4444444444444444,
             "#bd3786"
            ],
            [
             0.5555555555555556,
             "#d8576b"
            ],
            [
             0.6666666666666666,
             "#ed7953"
            ],
            [
             0.7777777777777778,
             "#fb9f3a"
            ],
            [
             0.8888888888888888,
             "#fdca26"
            ],
            [
             1,
             "#f0f921"
            ]
           ],
           "sequentialminus": [
            [
             0,
             "#0d0887"
            ],
            [
             0.1111111111111111,
             "#46039f"
            ],
            [
             0.2222222222222222,
             "#7201a8"
            ],
            [
             0.3333333333333333,
             "#9c179e"
            ],
            [
             0.4444444444444444,
             "#bd3786"
            ],
            [
             0.5555555555555556,
             "#d8576b"
            ],
            [
             0.6666666666666666,
             "#ed7953"
            ],
            [
             0.7777777777777778,
             "#fb9f3a"
            ],
            [
             0.8888888888888888,
             "#fdca26"
            ],
            [
             1,
             "#f0f921"
            ]
           ]
          },
          "colorway": [
           "#636efa",
           "#EF553B",
           "#00cc96",
           "#ab63fa",
           "#FFA15A",
           "#19d3f3",
           "#FF6692",
           "#B6E880",
           "#FF97FF",
           "#FECB52"
          ],
          "font": {
           "color": "#2a3f5f"
          },
          "geo": {
           "bgcolor": "white",
           "lakecolor": "white",
           "landcolor": "#E5ECF6",
           "showlakes": true,
           "showland": true,
           "subunitcolor": "white"
          },
          "hoverlabel": {
           "align": "left"
          },
          "hovermode": "closest",
          "mapbox": {
           "style": "light"
          },
          "paper_bgcolor": "white",
          "plot_bgcolor": "#E5ECF6",
          "polar": {
           "angularaxis": {
            "gridcolor": "white",
            "linecolor": "white",
            "ticks": ""
           },
           "bgcolor": "#E5ECF6",
           "radialaxis": {
            "gridcolor": "white",
            "linecolor": "white",
            "ticks": ""
           }
          },
          "scene": {
           "xaxis": {
            "backgroundcolor": "#E5ECF6",
            "gridcolor": "white",
            "gridwidth": 2,
            "linecolor": "white",
            "showbackground": true,
            "ticks": "",
            "zerolinecolor": "white"
           },
           "yaxis": {
            "backgroundcolor": "#E5ECF6",
            "gridcolor": "white",
            "gridwidth": 2,
            "linecolor": "white",
            "showbackground": true,
            "ticks": "",
            "zerolinecolor": "white"
           },
           "zaxis": {
            "backgroundcolor": "#E5ECF6",
            "gridcolor": "white",
            "gridwidth": 2,
            "linecolor": "white",
            "showbackground": true,
            "ticks": "",
            "zerolinecolor": "white"
           }
          },
          "shapedefaults": {
           "line": {
            "color": "#2a3f5f"
           }
          },
          "ternary": {
           "aaxis": {
            "gridcolor": "white",
            "linecolor": "white",
            "ticks": ""
           },
           "baxis": {
            "gridcolor": "white",
            "linecolor": "white",
            "ticks": ""
           },
           "bgcolor": "#E5ECF6",
           "caxis": {
            "gridcolor": "white",
            "linecolor": "white",
            "ticks": ""
           }
          },
          "title": {
           "x": 0.05
          },
          "xaxis": {
           "automargin": true,
           "gridcolor": "white",
           "linecolor": "white",
           "ticks": "",
           "title": {
            "standoff": 15
           },
           "zerolinecolor": "white",
           "zerolinewidth": 2
          },
          "yaxis": {
           "automargin": true,
           "gridcolor": "white",
           "linecolor": "white",
           "ticks": "",
           "title": {
            "standoff": 15
           },
           "zerolinecolor": "white",
           "zerolinewidth": 2
          }
         }
        },
        "title": {
         "text": "Evolution of activations for soggetto_7"
        },
        "xaxis": {
         "anchor": "y",
         "domain": [
          0,
          1
         ],
         "title": {
          "text": "index"
         }
        },
        "yaxis": {
         "anchor": "x",
         "domain": [
          0,
          1
         ],
         "title": {
          "text": "value"
         }
        }
       }
      }
     },
     "metadata": {},
     "output_type": "display_data"
    },
    {
     "data": {
      "application/vnd.plotly.v1+json": {
       "config": {
        "plotlyServerURL": "https://plot.ly"
       },
       "data": [
        {
         "hovertemplate": "variable=TrRi<br>index=%{x}<br>value=%{y}<extra></extra>",
         "legendgroup": "TrRi",
         "line": {
          "color": "#636efa",
          "dash": "solid"
         },
         "marker": {
          "symbol": "circle"
         },
         "mode": "lines",
         "name": "TrRi",
         "showlegend": true,
         "type": "scattergl",
         "x": [
          0,
          1,
          2,
          3,
          4,
          5,
          6,
          7,
          8,
          9,
          10,
          11,
          12,
          13,
          14,
          15,
          16,
          17,
          18,
          19,
          20,
          21,
          22,
          23,
          24,
          25,
          26,
          27,
          28,
          29,
          30,
          31,
          32,
          33,
          34,
          35,
          36,
          37,
          38,
          39,
          40,
          41,
          42,
          43,
          44,
          45,
          46,
          47,
          48,
          49,
          50,
          51,
          52,
          53,
          54,
          55,
          56,
          57,
          58,
          59,
          60,
          61,
          62,
          63,
          64,
          65,
          66,
          67,
          68,
          69,
          70,
          71,
          72,
          73,
          74,
          75,
          76,
          77,
          78,
          79,
          80,
          81,
          82,
          83,
          84,
          85,
          86,
          87,
          88,
          89,
          90,
          91,
          92,
          93,
          94,
          95,
          96,
          97,
          98,
          99
         ],
         "xaxis": "x",
         "y": [
          0,
          1.1102230246251565e-16,
          -3.3306690738754696e-16,
          -2.220446049250313e-16,
          -5.551115123125783e-16,
          -1.3322676295501878e-15,
          -2.4424906541753444e-15,
          -4.6629367034256575e-15,
          -9.43689570931383e-15,
          -1.8762769116165146e-14,
          -3.785860513971784e-14,
          -7.593925488436071e-14,
          -1.517674874662589e-13,
          -3.034239526300553e-13,
          -6.066258606551855e-13,
          -1.2133627436128336e-12,
          -2.4271695764355172e-12,
          -4.8543391528710345e-12,
          -9.708567283439606e-12,
          -1.9417356611484138e-11,
          -3.88340470891535e-11,
          -7.766876031212178e-11,
          -1.553370765350337e-10,
          -3.1067426409236987e-10,
          -6.213483061401348e-10,
          -1.2426968343248745e-9,
          -2.485393668649749e-9,
          -4.970787781388708e-9,
          -9.941575340732811e-9,
          -1.9883150903510227e-8,
          -3.9766302251109664e-8,
          -7.953260605653156e-8,
          -1.5906521855235667e-7,
          -3.1813046064144146e-7,
          -6.362610170951299e-7,
          -0.0000012725224175502703,
          -0.0000025450463679854707,
          -0.000005090098868731907,
          -0.000010180222268507677,
          -0.000020360542661190806,
          -0.000040721477823746355,
          -0.00008144452568470406,
          -0.00016289533176594428,
          -0.0003258157871117717,
          -0.0006517320844914298,
          -0.0013038663376692128,
          -0.0026093423715786157,
          -0.005225131709153952,
          -0.010476116876094843,
          -0.02105617467067944,
          -0.04253236739133648,
          -0.08677945410444488,
          -0.18070506110624918,
          -0.39246480289082786,
          -0.9320252457779494,
          -2.6999380913584092,
          -12.501274536982411,
          -179.57137278331518,
          -32557.493486473944,
          -1060039403.4462341,
          -1123683538060248400,
          -1.2626646937075983e+36,
          -1.5943221287357033e+72,
          -2.5418630501763446e+144,
          -6.461067765851791e+288,
          null,
          null,
          null,
          null,
          null,
          null,
          null,
          null,
          null,
          null,
          null,
          null,
          null,
          null,
          null,
          null,
          null,
          null,
          null,
          null,
          null,
          null,
          null,
          null,
          null,
          null,
          null,
          null,
          null,
          null,
          null,
          null,
          null,
          null,
          null
         ],
         "yaxis": "y"
        },
        {
         "hovertemplate": "variable=RiTr<br>index=%{x}<br>value=%{y}<extra></extra>",
         "legendgroup": "RiTr",
         "line": {
          "color": "#EF553B",
          "dash": "solid"
         },
         "marker": {
          "symbol": "circle"
         },
         "mode": "lines",
         "name": "RiTr",
         "showlegend": true,
         "type": "scattergl",
         "x": [
          0,
          1,
          2,
          3,
          4,
          5,
          6,
          7,
          8,
          9,
          10,
          11,
          12,
          13,
          14,
          15,
          16,
          17,
          18,
          19,
          20,
          21,
          22,
          23,
          24,
          25,
          26,
          27,
          28,
          29,
          30,
          31,
          32,
          33,
          34,
          35,
          36,
          37,
          38,
          39,
          40,
          41,
          42,
          43,
          44,
          45,
          46,
          47,
          48,
          49,
          50,
          51,
          52,
          53,
          54,
          55,
          56,
          57,
          58,
          59,
          60,
          61,
          62,
          63,
          64,
          65,
          66,
          67,
          68,
          69,
          70,
          71,
          72,
          73,
          74,
          75,
          76,
          77,
          78,
          79,
          80,
          81,
          82,
          83,
          84,
          85,
          86,
          87,
          88,
          89,
          90,
          91,
          92,
          93,
          94,
          95,
          96,
          97,
          98,
          99
         ],
         "xaxis": "x",
         "y": [
          -2.220446049250313e-16,
          -2.220446049250313e-16,
          -2.220446049250313e-16,
          -7.771561172376096e-16,
          -9.992007221626409e-16,
          -1.6653345369377348e-15,
          -2.55351295663786e-15,
          -4.9960036108132044e-15,
          -9.769962616701378e-15,
          -1.9206858326015208e-14,
          -3.83026943495679e-14,
          -7.605027718682322e-14,
          -1.517674874662589e-13,
          -3.035349749325178e-13,
          -6.071809721674981e-13,
          -1.2136958105202211e-12,
          -2.4272805987379797e-12,
          -4.854672219778422e-12,
          -9.708789328044531e-12,
          -1.9417578656089063e-11,
          -3.883449117836335e-11,
          -7.766853826751685e-11,
          -1.5533752062424355e-10,
          -3.106747081815797e-10,
          -6.213484171624373e-10,
          -1.2426968343248745e-9,
          -2.485394112738959e-9,
          -4.970788003433313e-9,
          -9.941575673799719e-9,
          -1.9883151236577135e-8,
          -3.976630258417657e-8,
          -7.953260638959847e-8,
          -1.5906521866337897e-7,
          -3.1813046086348606e-7,
          -6.362610169841076e-7,
          -0.0000012725224173282257,
          -0.000002545046368096493,
          -0.000005090098868842929,
          -0.000010180222268840744,
          -0.000020360542661079783,
          -0.0000407214778239684,
          -0.00008144452568514815,
          -0.00016289533176627735,
          -0.00032581578711232684,
          -0.0006517320844918739,
          -0.0013038663376694348,
          -0.0026093423715789488,
          -0.005225131709154285,
          -0.010476116876094732,
          -0.021056174670679773,
          -0.0425323673913367,
          -0.08677945410444476,
          -0.18070506110624918,
          -0.3924648028908281,
          -0.9320252457779495,
          -2.69993809135841,
          -12.501274536982411,
          -179.57137278331524,
          -32557.493486473955,
          -1060039403.4462345,
          -1123683538060249000,
          -1.2626646937075989e+36,
          -1.5943221287357035e+72,
          -2.541863050176346e+144,
          -6.461067765851792e+288,
          null,
          null,
          null,
          null,
          null,
          null,
          null,
          null,
          null,
          null,
          null,
          null,
          null,
          null,
          null,
          null,
          null,
          null,
          null,
          null,
          null,
          null,
          null,
          null,
          null,
          null,
          null,
          null,
          null,
          null,
          null,
          null,
          null,
          null,
          null
         ],
         "yaxis": "y"
        },
        {
         "hovertemplate": "variable=Plu<br>index=%{x}<br>value=%{y}<extra></extra>",
         "legendgroup": "Plu",
         "line": {
          "color": "#00cc96",
          "dash": "solid"
         },
         "marker": {
          "symbol": "circle"
         },
         "mode": "lines",
         "name": "Plu",
         "showlegend": true,
         "type": "scattergl",
         "x": [
          0,
          1,
          2,
          3,
          4,
          5,
          6,
          7,
          8,
          9,
          10,
          11,
          12,
          13,
          14,
          15,
          16,
          17,
          18,
          19,
          20,
          21,
          22,
          23,
          24,
          25,
          26,
          27,
          28,
          29,
          30,
          31,
          32,
          33,
          34,
          35,
          36,
          37,
          38,
          39,
          40,
          41,
          42,
          43,
          44,
          45,
          46,
          47,
          48,
          49,
          50,
          51,
          52,
          53,
          54,
          55,
          56,
          57,
          58,
          59,
          60,
          61,
          62,
          63,
          64,
          65,
          66,
          67,
          68,
          69,
          70,
          71,
          72,
          73,
          74,
          75,
          76,
          77,
          78,
          79,
          80,
          81,
          82,
          83,
          84,
          85,
          86,
          87,
          88,
          89,
          90,
          91,
          92,
          93,
          94,
          95,
          96,
          97,
          98,
          99
         ],
         "xaxis": "x",
         "y": [
          0,
          2.220446049250313e-16,
          -2.220446049250313e-16,
          -4.440892098500626e-16,
          -4.440892098500626e-16,
          -1.4432899320127035e-15,
          -2.55351295663786e-15,
          -4.6629367034256575e-15,
          -9.43689570931383e-15,
          -1.8762769116165146e-14,
          -3.7636560534792807e-14,
          -7.582823258189819e-14,
          -1.5154544286133387e-13,
          -3.0320190802513025e-13,
          -6.06736882957648e-13,
          -1.2133627436128336e-12,
          -2.4270585541330547e-12,
          -4.854450175173497e-12,
          -9.708789328044531e-12,
          -1.9417356611484138e-11,
          -3.8834269133758426e-11,
          -7.766831622291193e-11,
          -1.5533729857963863e-10,
          -3.1067426409236987e-10,
          -6.213484171624373e-10,
          -1.2426966122802696e-9,
          -2.485393668649749e-9,
          -4.970787781388708e-9,
          -9.941575229710509e-9,
          -1.988315101453253e-8,
          -3.9766302362131967e-8,
          -7.953260616755387e-8,
          -1.5906521821928976e-7,
          -3.1813046064144146e-7,
          -6.36261016762063e-7,
          -0.000001272522417106181,
          -0.0000025450463678744484,
          -0.000005090098868842929,
          -0.0000101802222686187,
          -0.00002036054266085774,
          -0.0000407214778239684,
          -0.00008144452568470406,
          -0.00016289533176583326,
          -0.0003258157871121048,
          -0.0006517320844916519,
          -0.0013038663376692128,
          -0.0026093423715787267,
          -0.005225131709154063,
          -0.01047611687609451,
          -0.02105617467067955,
          -0.04253236739133626,
          -0.08677945410444476,
          -0.18070506110624895,
          -0.39246480289082764,
          -0.9320252457779491,
          -2.6999380913584092,
          -12.50127453698241,
          -179.5713727833152,
          -32557.493486473944,
          -1060039403.4462341,
          -1123683538060248400,
          -1.2626646937075984e+36,
          -1.5943221287357033e+72,
          -2.5418630501763446e+144,
          -6.461067765851791e+288,
          null,
          null,
          null,
          null,
          null,
          null,
          null,
          null,
          null,
          null,
          null,
          null,
          null,
          null,
          null,
          null,
          null,
          null,
          null,
          null,
          null,
          null,
          null,
          null,
          null,
          null,
          null,
          null,
          null,
          null,
          null,
          null,
          null,
          null,
          null
         ],
         "yaxis": "y"
        },
        {
         "hovertemplate": "variable=Ttra<br>index=%{x}<br>value=%{y}<extra></extra>",
         "legendgroup": "Ttra",
         "line": {
          "color": "#ab63fa",
          "dash": "solid"
         },
         "marker": {
          "symbol": "circle"
         },
         "mode": "lines",
         "name": "Ttra",
         "showlegend": true,
         "type": "scattergl",
         "x": [
          0,
          1,
          2,
          3,
          4,
          5,
          6,
          7,
          8,
          9,
          10,
          11,
          12,
          13,
          14,
          15,
          16,
          17,
          18,
          19,
          20,
          21,
          22,
          23,
          24,
          25,
          26,
          27,
          28,
          29,
          30,
          31,
          32,
          33,
          34,
          35,
          36,
          37,
          38,
          39,
          40,
          41,
          42,
          43,
          44,
          45,
          46,
          47,
          48,
          49,
          50,
          51,
          52,
          53,
          54,
          55,
          56,
          57,
          58,
          59,
          60,
          61,
          62,
          63,
          64,
          65,
          66,
          67,
          68,
          69,
          70,
          71,
          72,
          73,
          74,
          75,
          76,
          77,
          78,
          79,
          80,
          81,
          82,
          83,
          84,
          85,
          86,
          87,
          88,
          89,
          90,
          91,
          92,
          93,
          94,
          95,
          96,
          97,
          98,
          99
         ],
         "xaxis": "x",
         "y": [
          0,
          -1.1102230246251565e-16,
          -1.1102230246251565e-16,
          -3.3306690738754696e-16,
          -7.771561172376096e-16,
          -1.2212453270876722e-15,
          -2.4424906541753444e-15,
          -4.884981308350689e-15,
          -9.43689570931383e-15,
          -1.8762769116165146e-14,
          -3.808064974464287e-14,
          -7.616129948928574e-14,
          -1.517674874662589e-13,
          -3.034239526300553e-13,
          -6.066258606551855e-13,
          -1.2133627436128336e-12,
          -2.4271695764355172e-12,
          -4.8543391528710345e-12,
          -9.708567283439606e-12,
          -1.9417578656089063e-11,
          -3.88340470891535e-11,
          -7.766876031212178e-11,
          -1.553370765350337e-10,
          -3.1067426409236987e-10,
          -6.213483061401348e-10,
          -1.2426968343248745e-9,
          -2.485393668649749e-9,
          -4.970787781388708e-9,
          -9.941575340732811e-9,
          -1.9883150903510227e-8,
          -3.9766302251109664e-8,
          -7.953260605653156e-8,
          -1.5906521855235667e-7,
          -3.1813046064144146e-7,
          -6.362610170951299e-7,
          -0.0000012725224175502703,
          -0.0000025450463679854707,
          -0.000005090098868731907,
          -0.000010180222268507677,
          -0.000020360542661190806,
          -0.000040721477823746355,
          -0.00008144452568470406,
          -0.00016289533176594428,
          -0.0003258157871117717,
          -0.0006517320844914298,
          -0.0013038663376692128,
          -0.0026093423715786157,
          -0.005225131709153952,
          -0.010476116876094843,
          -0.02105617467067944,
          -0.04253236739133648,
          -0.08677945410444488,
          -0.18070506110624918,
          -0.39246480289082786,
          -0.9320252457779494,
          -2.6999380913584092,
          -12.501274536982411,
          -179.57137278331518,
          -32557.493486473944,
          -1060039403.4462341,
          -1123683538060248400,
          -1.2626646937075983e+36,
          -1.5943221287357033e+72,
          -2.5418630501763446e+144,
          -6.461067765851791e+288,
          null,
          null,
          null,
          null,
          null,
          null,
          null,
          null,
          null,
          null,
          null,
          null,
          null,
          null,
          null,
          null,
          null,
          null,
          null,
          null,
          null,
          null,
          null,
          null,
          null,
          null,
          null,
          null,
          null,
          null,
          null,
          null,
          null,
          null,
          null
         ],
         "yaxis": "y"
        },
        {
         "hovertemplate": "variable=Ttrb<br>index=%{x}<br>value=%{y}<extra></extra>",
         "legendgroup": "Ttrb",
         "line": {
          "color": "#FFA15A",
          "dash": "solid"
         },
         "marker": {
          "symbol": "circle"
         },
         "mode": "lines",
         "name": "Ttrb",
         "showlegend": true,
         "type": "scattergl",
         "x": [
          0,
          1,
          2,
          3,
          4,
          5,
          6,
          7,
          8,
          9,
          10,
          11,
          12,
          13,
          14,
          15,
          16,
          17,
          18,
          19,
          20,
          21,
          22,
          23,
          24,
          25,
          26,
          27,
          28,
          29,
          30,
          31,
          32,
          33,
          34,
          35,
          36,
          37,
          38,
          39,
          40,
          41,
          42,
          43,
          44,
          45,
          46,
          47,
          48,
          49,
          50,
          51,
          52,
          53,
          54,
          55,
          56,
          57,
          58,
          59,
          60,
          61,
          62,
          63,
          64,
          65,
          66,
          67,
          68,
          69,
          70,
          71,
          72,
          73,
          74,
          75,
          76,
          77,
          78,
          79,
          80,
          81,
          82,
          83,
          84,
          85,
          86,
          87,
          88,
          89,
          90,
          91,
          92,
          93,
          94,
          95,
          96,
          97,
          98,
          99
         ],
         "xaxis": "x",
         "y": [
          1.1102230246251565e-16,
          1.1102230246251565e-16,
          4.440892098500626e-16,
          0,
          -4.440892098500626e-16,
          -8.881784197001252e-16,
          -1.9984014443252818e-15,
          -4.440892098500626e-15,
          -9.2148511043888e-15,
          -1.8540724511240114e-14,
          -3.7414515929867775e-14,
          -7.560618797697316e-14,
          -1.5132339825640884e-13,
          -3.0320190802513025e-13,
          -6.06514838352723e-13,
          -1.2131406990079086e-12,
          -2.4270585541330547e-12,
          -4.854228130568572e-12,
          -9.708567283439606e-12,
          -1.9417134566879213e-11,
          -3.88340470891535e-11,
          -7.766831622291193e-11,
          -1.553370765350337e-10,
          -3.1067426409236987e-10,
          -6.213481951178323e-10,
          -1.2426966122802696e-9,
          -2.485393668649749e-9,
          -4.970787559344103e-9,
          -9.941575007665904e-9,
          -1.9883150792487925e-8,
          -3.976630214008736e-8,
          -7.953260594550926e-8,
          -1.5906521799724516e-7,
          -3.1813046041939685e-7,
          -6.362610165400184e-7,
          -0.000001272522417106181,
          -0.0000025450463676524038,
          -0.00000509009886839884,
          -0.00001018022226817461,
          -0.00002036054266085774,
          -0.00004072147782352431,
          -0.00008144452568425997,
          -0.00016289533176583326,
          -0.0003258157871116607,
          -0.0006517320844914298,
          -0.0013038663376687687,
          -0.0026093423715782826,
          -0.005225131709153619,
          -0.010476116876094288,
          -0.021056174670679106,
          -0.04253236739133626,
          -0.08677945410444454,
          -0.18070506110624895,
          -0.39246480289082764,
          -0.9320252457779491,
          -2.6999380913584092,
          -12.50127453698241,
          -179.57137278331518,
          -32557.493486473944,
          -1060039403.4462341,
          -1123683538060248400,
          -1.2626646937075983e+36,
          -1.5943221287357033e+72,
          -2.5418630501763446e+144,
          -6.461067765851791e+288,
          null,
          null,
          null,
          null,
          null,
          null,
          null,
          null,
          null,
          null,
          null,
          null,
          null,
          null,
          null,
          null,
          null,
          null,
          null,
          null,
          null,
          null,
          null,
          null,
          null,
          null,
          null,
          null,
          null,
          null,
          null,
          null,
          null,
          null,
          null
         ],
         "yaxis": "y"
        },
        {
         "hovertemplate": "variable=Tr<br>index=%{x}<br>value=%{y}<extra></extra>",
         "legendgroup": "Tr",
         "line": {
          "color": "#19d3f3",
          "dash": "solid"
         },
         "marker": {
          "symbol": "circle"
         },
         "mode": "lines",
         "name": "Tr",
         "showlegend": true,
         "type": "scattergl",
         "x": [
          0,
          1,
          2,
          3,
          4,
          5,
          6,
          7,
          8,
          9,
          10,
          11,
          12,
          13,
          14,
          15,
          16,
          17,
          18,
          19,
          20,
          21,
          22,
          23,
          24,
          25,
          26,
          27,
          28,
          29,
          30,
          31,
          32,
          33,
          34,
          35,
          36,
          37,
          38,
          39,
          40,
          41,
          42,
          43,
          44,
          45,
          46,
          47,
          48,
          49,
          50,
          51,
          52,
          53,
          54,
          55,
          56,
          57,
          58,
          59,
          60,
          61,
          62,
          63,
          64,
          65,
          66,
          67,
          68,
          69,
          70,
          71,
          72,
          73,
          74,
          75,
          76,
          77,
          78,
          79,
          80,
          81,
          82,
          83,
          84,
          85,
          86,
          87,
          88,
          89,
          90,
          91,
          92,
          93,
          94,
          95,
          96,
          97,
          98,
          99
         ],
         "xaxis": "x",
         "y": [
          -4.440892098500626e-16,
          -2.220446049250313e-16,
          -2.220446049250313e-16,
          -4.440892098500626e-16,
          -9.992007221626409e-16,
          -1.4432899320127035e-15,
          -2.55351295663786e-15,
          -5.10702591327572e-15,
          -9.880984919163893e-15,
          -1.9095836023552692e-14,
          -3.808064974464287e-14,
          -7.616129948928574e-14,
          -1.5187850976872141e-13,
          -3.035349749325178e-13,
          -6.068479052601106e-13,
          -1.2135847882177586e-12,
          -2.4271695764355172e-12,
          -4.8545611974759595e-12,
          -9.708789328044531e-12,
          -1.9417578656089063e-11,
          -3.8834269133758426e-11,
          -7.766876031212178e-11,
          -1.5533729857963863e-10,
          -3.1067426409236987e-10,
          -6.213485281847397e-10,
          -1.2426968343248745e-9,
          -2.485393668649749e-9,
          -4.970788003433313e-9,
          -9.941575562777416e-9,
          -1.9883151125554832e-8,
          -3.976630247315427e-8,
          -7.953260627857617e-8,
          -1.5906521877440127e-7,
          -3.1813046086348606e-7,
          -6.362610173171745e-7,
          -0.0000012725224175502703,
          -0.0000025450463682075153,
          -0.000005090098869175996,
          -0.000010180222268951766,
          -0.000020360542661190806,
          -0.000040721477824190444,
          -0.00008144452568514815,
          -0.00016289533176594428,
          -0.0003258157871122158,
          -0.0006517320844916519,
          -0.0013038663376696569,
          -0.00260934237157906,
          -0.005225131709154396,
          -0.010476116876095065,
          -0.021056174670679884,
          -0.04253236739133648,
          -0.0867794541044451,
          -0.18070506110624918,
          -0.39246480289082786,
          -0.9320252457779494,
          -2.6999380913584092,
          -12.501274536982411,
          -179.5713727833152,
          -32557.493486473944,
          -1060039403.4462341,
          -1123683538060248400,
          -1.2626646937075984e+36,
          -1.5943221287357033e+72,
          -2.5418630501763446e+144,
          -6.461067765851791e+288,
          null,
          null,
          null,
          null,
          null,
          null,
          null,
          null,
          null,
          null,
          null,
          null,
          null,
          null,
          null,
          null,
          null,
          null,
          null,
          null,
          null,
          null,
          null,
          null,
          null,
          null,
          null,
          null,
          null,
          null,
          null,
          null,
          null,
          null,
          null
         ],
         "yaxis": "y"
        },
        {
         "hovertemplate": "variable=MeTr<br>index=%{x}<br>value=%{y}<extra></extra>",
         "legendgroup": "MeTr",
         "line": {
          "color": "#FF6692",
          "dash": "solid"
         },
         "marker": {
          "symbol": "circle"
         },
         "mode": "lines",
         "name": "MeTr",
         "showlegend": true,
         "type": "scattergl",
         "x": [
          0,
          1,
          2,
          3,
          4,
          5,
          6,
          7,
          8,
          9,
          10,
          11,
          12,
          13,
          14,
          15,
          16,
          17,
          18,
          19,
          20,
          21,
          22,
          23,
          24,
          25,
          26,
          27,
          28,
          29,
          30,
          31,
          32,
          33,
          34,
          35,
          36,
          37,
          38,
          39,
          40,
          41,
          42,
          43,
          44,
          45,
          46,
          47,
          48,
          49,
          50,
          51,
          52,
          53,
          54,
          55,
          56,
          57,
          58,
          59,
          60,
          61,
          62,
          63,
          64,
          65,
          66,
          67,
          68,
          69,
          70,
          71,
          72,
          73,
          74,
          75,
          76,
          77,
          78,
          79,
          80,
          81,
          82,
          83,
          84,
          85,
          86,
          87,
          88,
          89,
          90,
          91,
          92,
          93,
          94,
          95,
          96,
          97,
          98,
          99
         ],
         "xaxis": "x",
         "y": [
          -1.1102230246251565e-16,
          -2.220446049250313e-16,
          -4.440892098500626e-16,
          -2.220446049250313e-16,
          -7.771561172376096e-16,
          -1.4432899320127035e-15,
          -2.55351295663786e-15,
          -4.773959005888173e-15,
          -9.547918011776346e-15,
          -1.8762769116165146e-14,
          -3.785860513971784e-14,
          -7.605027718682322e-14,
          -1.5154544286133387e-13,
          -3.0331293032759277e-13,
          -6.06736882957648e-13,
          -1.213473765915296e-12,
          -2.4270585541330547e-12,
          -4.854450175173497e-12,
          -9.708789328044531e-12,
          -1.9417356611484138e-11,
          -3.8834269133758426e-11,
          -7.766831622291193e-11,
          -1.5533729857963863e-10,
          -3.1067426409236987e-10,
          -6.213484171624373e-10,
          -1.2426966122802696e-9,
          -2.485393668649749e-9,
          -4.970787781388708e-9,
          -9.941575229710509e-9,
          -1.988315101453253e-8,
          -3.9766302362131967e-8,
          -7.953260616755387e-8,
          -1.5906521821928976e-7,
          -3.1813046064144146e-7,
          -6.36261016762063e-7,
          -0.000001272522417106181,
          -0.0000025450463678744484,
          -0.000005090098868842929,
          -0.0000101802222686187,
          -0.00002036054266085774,
          -0.0000407214778239684,
          -0.00008144452568470406,
          -0.00016289533176583326,
          -0.0003258157871121048,
          -0.0006517320844916519,
          -0.0013038663376692128,
          -0.0026093423715787267,
          -0.005225131709154063,
          -0.01047611687609451,
          -0.02105617467067955,
          -0.04253236739133626,
          -0.08677945410444476,
          -0.18070506110624895,
          -0.39246480289082764,
          -0.9320252457779491,
          -2.6999380913584092,
          -12.50127453698241,
          -179.5713727833152,
          -32557.493486473944,
          -1060039403.4462341,
          -1123683538060248400,
          -1.2626646937075984e+36,
          -1.5943221287357033e+72,
          -2.5418630501763446e+144,
          -6.461067765851791e+288,
          null,
          null,
          null,
          null,
          null,
          null,
          null,
          null,
          null,
          null,
          null,
          null,
          null,
          null,
          null,
          null,
          null,
          null,
          null,
          null,
          null,
          null,
          null,
          null,
          null,
          null,
          null,
          null,
          null,
          null,
          null,
          null,
          null,
          null,
          null
         ],
         "yaxis": "y"
        },
        {
         "hovertemplate": "variable=MoTr<br>index=%{x}<br>value=%{y}<extra></extra>",
         "legendgroup": "MoTr",
         "line": {
          "color": "#B6E880",
          "dash": "solid"
         },
         "marker": {
          "symbol": "circle"
         },
         "mode": "lines",
         "name": "MoTr",
         "showlegend": true,
         "type": "scattergl",
         "x": [
          0,
          1,
          2,
          3,
          4,
          5,
          6,
          7,
          8,
          9,
          10,
          11,
          12,
          13,
          14,
          15,
          16,
          17,
          18,
          19,
          20,
          21,
          22,
          23,
          24,
          25,
          26,
          27,
          28,
          29,
          30,
          31,
          32,
          33,
          34,
          35,
          36,
          37,
          38,
          39,
          40,
          41,
          42,
          43,
          44,
          45,
          46,
          47,
          48,
          49,
          50,
          51,
          52,
          53,
          54,
          55,
          56,
          57,
          58,
          59,
          60,
          61,
          62,
          63,
          64,
          65,
          66,
          67,
          68,
          69,
          70,
          71,
          72,
          73,
          74,
          75,
          76,
          77,
          78,
          79,
          80,
          81,
          82,
          83,
          84,
          85,
          86,
          87,
          88,
          89,
          90,
          91,
          92,
          93,
          94,
          95,
          96,
          97,
          98,
          99
         ],
         "xaxis": "x",
         "y": [
          1.1102230246251565e-16,
          1.1102230246251565e-16,
          0,
          0,
          -5.551115123125783e-16,
          -1.2212453270876722e-15,
          -2.1094237467877974e-15,
          -4.6629367034256575e-15,
          -9.2148511043888e-15,
          -1.8762769116165146e-14,
          -3.785860513971784e-14,
          -7.571721027943568e-14,
          -1.517674874662589e-13,
          -3.0320190802513025e-13,
          -6.066258606551855e-13,
          -1.2133627436128336e-12,
          -2.4271695764355172e-12,
          -4.8541171082661094e-12,
          -9.708123194229756e-12,
          -1.9416912522274288e-11,
          -3.8833825044548576e-11,
          -7.766853826751685e-11,
          -1.5533685449042878e-10,
          -3.1067404204776494e-10,
          -6.213483061401348e-10,
          -1.2426968343248745e-9,
          -2.485393668649749e-9,
          -4.970787781388708e-9,
          -9.941575340732811e-9,
          -1.9883150903510227e-8,
          -3.9766302251109664e-8,
          -7.953260605653156e-8,
          -1.5906521855235667e-7,
          -3.1813046064144146e-7,
          -6.362610170951299e-7,
          -0.0000012725224175502703,
          -0.0000025450463679854707,
          -0.000005090098868731907,
          -0.000010180222268507677,
          -0.000020360542661190806,
          -0.000040721477823746355,
          -0.00008144452568470406,
          -0.00016289533176594428,
          -0.0003258157871117717,
          -0.0006517320844914298,
          -0.0013038663376692128,
          -0.0026093423715786157,
          -0.005225131709153952,
          -0.010476116876094843,
          -0.02105617467067944,
          -0.04253236739133648,
          -0.08677945410444488,
          -0.18070506110624918,
          -0.39246480289082786,
          -0.9320252457779494,
          -2.6999380913584092,
          -12.501274536982411,
          -179.57137278331518,
          -32557.493486473944,
          -1060039403.4462341,
          -1123683538060248400,
          -1.2626646937075983e+36,
          -1.5943221287357033e+72,
          -2.5418630501763446e+144,
          -6.461067765851791e+288,
          null,
          null,
          null,
          null,
          null,
          null,
          null,
          null,
          null,
          null,
          null,
          null,
          null,
          null,
          null,
          null,
          null,
          null,
          null,
          null,
          null,
          null,
          null,
          null,
          null,
          null,
          null,
          null,
          null,
          null,
          null,
          null,
          null,
          null,
          null
         ],
         "yaxis": "y"
        },
        {
         "hovertemplate": "variable=RiRi<br>index=%{x}<br>value=%{y}<extra></extra>",
         "legendgroup": "RiRi",
         "line": {
          "color": "#FF97FF",
          "dash": "solid"
         },
         "marker": {
          "symbol": "circle"
         },
         "mode": "lines",
         "name": "RiRi",
         "showlegend": true,
         "type": "scattergl",
         "x": [
          0,
          1,
          2,
          3,
          4,
          5,
          6,
          7,
          8,
          9,
          10,
          11,
          12,
          13,
          14,
          15,
          16,
          17,
          18,
          19,
          20,
          21,
          22,
          23,
          24,
          25,
          26,
          27,
          28,
          29,
          30,
          31,
          32,
          33,
          34,
          35,
          36,
          37,
          38,
          39,
          40,
          41,
          42,
          43,
          44,
          45,
          46,
          47,
          48,
          49,
          50,
          51,
          52,
          53,
          54,
          55,
          56,
          57,
          58,
          59,
          60,
          61,
          62,
          63,
          64,
          65,
          66,
          67,
          68,
          69,
          70,
          71,
          72,
          73,
          74,
          75,
          76,
          77,
          78,
          79,
          80,
          81,
          82,
          83,
          84,
          85,
          86,
          87,
          88,
          89,
          90,
          91,
          92,
          93,
          94,
          95,
          96,
          97,
          98,
          99
         ],
         "xaxis": "x",
         "y": [
          0,
          0,
          0,
          -3.3306690738754696e-16,
          -5.551115123125783e-16,
          -1.2212453270876722e-15,
          -2.3314683517128287e-15,
          -4.773959005888173e-15,
          -9.325873406851315e-15,
          -1.8762769116165146e-14,
          -3.785860513971784e-14,
          -7.605027718682322e-14,
          -1.5154544286133387e-13,
          -3.0331293032759277e-13,
          -6.06736882957648e-13,
          -1.213473765915296e-12,
          -2.4270585541330547e-12,
          -4.854450175173497e-12,
          -9.708789328044531e-12,
          -1.9417356611484138e-11,
          -3.8834269133758426e-11,
          -7.766831622291193e-11,
          -1.5533729857963863e-10,
          -3.1067426409236987e-10,
          -6.213484171624373e-10,
          -1.2426966122802696e-9,
          -2.485393668649749e-9,
          -4.970787781388708e-9,
          -9.941575229710509e-9,
          -1.988315101453253e-8,
          -3.9766302362131967e-8,
          -7.953260616755387e-8,
          -1.5906521821928976e-7,
          -3.1813046064144146e-7,
          -6.36261016762063e-7,
          -0.000001272522417106181,
          -0.0000025450463678744484,
          -0.000005090098868842929,
          -0.0000101802222686187,
          -0.00002036054266085774,
          -0.0000407214778239684,
          -0.00008144452568470406,
          -0.00016289533176583326,
          -0.0003258157871121048,
          -0.0006517320844916519,
          -0.0013038663376692128,
          -0.0026093423715787267,
          -0.005225131709154063,
          -0.01047611687609451,
          -0.02105617467067955,
          -0.04253236739133626,
          -0.08677945410444476,
          -0.18070506110624895,
          -0.39246480289082764,
          -0.9320252457779491,
          -2.6999380913584092,
          -12.50127453698241,
          -179.5713727833152,
          -32557.493486473944,
          -1060039403.4462341,
          -1123683538060248400,
          -1.2626646937075984e+36,
          -1.5943221287357033e+72,
          -2.5418630501763446e+144,
          -6.461067765851791e+288,
          null,
          null,
          null,
          null,
          null,
          null,
          null,
          null,
          null,
          null,
          null,
          null,
          null,
          null,
          null,
          null,
          null,
          null,
          null,
          null,
          null,
          null,
          null,
          null,
          null,
          null,
          null,
          null,
          null,
          null,
          null,
          null,
          null,
          null,
          null
         ],
         "yaxis": "y"
        },
        {
         "hovertemplate": "variable=MoFo<br>index=%{x}<br>value=%{y}<extra></extra>",
         "legendgroup": "MoFo",
         "line": {
          "color": "#FECB52",
          "dash": "solid"
         },
         "marker": {
          "symbol": "circle"
         },
         "mode": "lines",
         "name": "MoFo",
         "showlegend": true,
         "type": "scattergl",
         "x": [
          0,
          1,
          2,
          3,
          4,
          5,
          6,
          7,
          8,
          9,
          10,
          11,
          12,
          13,
          14,
          15,
          16,
          17,
          18,
          19,
          20,
          21,
          22,
          23,
          24,
          25,
          26,
          27,
          28,
          29,
          30,
          31,
          32,
          33,
          34,
          35,
          36,
          37,
          38,
          39,
          40,
          41,
          42,
          43,
          44,
          45,
          46,
          47,
          48,
          49,
          50,
          51,
          52,
          53,
          54,
          55,
          56,
          57,
          58,
          59,
          60,
          61,
          62,
          63,
          64,
          65,
          66,
          67,
          68,
          69,
          70,
          71,
          72,
          73,
          74,
          75,
          76,
          77,
          78,
          79,
          80,
          81,
          82,
          83,
          84,
          85,
          86,
          87,
          88,
          89,
          90,
          91,
          92,
          93,
          94,
          95,
          96,
          97,
          98,
          99
         ],
         "xaxis": "x",
         "y": [
          0,
          0,
          0,
          -2.220446049250313e-16,
          -7.771561172376096e-16,
          -1.2212453270876722e-15,
          -2.55351295663786e-15,
          -4.773959005888173e-15,
          -9.43689570931383e-15,
          -1.8762769116165146e-14,
          -3.7636560534792807e-14,
          -7.605027718682322e-14,
          -1.5154544286133387e-13,
          -3.0331293032759277e-13,
          -6.06736882957648e-13,
          -1.213473765915296e-12,
          -2.4270585541330547e-12,
          -4.854450175173497e-12,
          -9.708789328044531e-12,
          -1.9417356611484138e-11,
          -3.8834269133758426e-11,
          -7.766831622291193e-11,
          -1.5533729857963863e-10,
          -3.1067426409236987e-10,
          -6.213484171624373e-10,
          -1.2426966122802696e-9,
          -2.485393668649749e-9,
          -4.970787781388708e-9,
          -9.941575229710509e-9,
          -1.988315101453253e-8,
          -3.9766302362131967e-8,
          -7.953260616755387e-8,
          -1.5906521821928976e-7,
          -3.1813046064144146e-7,
          -6.36261016762063e-7,
          -0.000001272522417106181,
          -0.0000025450463678744484,
          -0.000005090098868842929,
          -0.0000101802222686187,
          -0.00002036054266085774,
          -0.0000407214778239684,
          -0.00008144452568470406,
          -0.00016289533176583326,
          -0.0003258157871121048,
          -0.0006517320844916519,
          -0.0013038663376692128,
          -0.0026093423715787267,
          -0.005225131709154063,
          -0.01047611687609451,
          -0.02105617467067955,
          -0.04253236739133626,
          -0.08677945410444476,
          -0.18070506110624895,
          -0.39246480289082764,
          -0.9320252457779491,
          -2.6999380913584092,
          -12.50127453698241,
          -179.5713727833152,
          -32557.493486473944,
          -1060039403.4462341,
          -1123683538060248400,
          -1.2626646937075984e+36,
          -1.5943221287357033e+72,
          -2.5418630501763446e+144,
          -6.461067765851791e+288,
          null,
          null,
          null,
          null,
          null,
          null,
          null,
          null,
          null,
          null,
          null,
          null,
          null,
          null,
          null,
          null,
          null,
          null,
          null,
          null,
          null,
          null,
          null,
          null,
          null,
          null,
          null,
          null,
          null,
          null,
          null,
          null,
          null,
          null,
          null
         ],
         "yaxis": "y"
        },
        {
         "hovertemplate": "variable=Mmof<br>index=%{x}<br>value=%{y}<extra></extra>",
         "legendgroup": "Mmof",
         "line": {
          "color": "#636efa",
          "dash": "solid"
         },
         "marker": {
          "symbol": "circle"
         },
         "mode": "lines",
         "name": "Mmof",
         "showlegend": true,
         "type": "scattergl",
         "x": [
          0,
          1,
          2,
          3,
          4,
          5,
          6,
          7,
          8,
          9,
          10,
          11,
          12,
          13,
          14,
          15,
          16,
          17,
          18,
          19,
          20,
          21,
          22,
          23,
          24,
          25,
          26,
          27,
          28,
          29,
          30,
          31,
          32,
          33,
          34,
          35,
          36,
          37,
          38,
          39,
          40,
          41,
          42,
          43,
          44,
          45,
          46,
          47,
          48,
          49,
          50,
          51,
          52,
          53,
          54,
          55,
          56,
          57,
          58,
          59,
          60,
          61,
          62,
          63,
          64,
          65,
          66,
          67,
          68,
          69,
          70,
          71,
          72,
          73,
          74,
          75,
          76,
          77,
          78,
          79,
          80,
          81,
          82,
          83,
          84,
          85,
          86,
          87,
          88,
          89,
          90,
          91,
          92,
          93,
          94,
          95,
          96,
          97,
          98,
          99
         ],
         "xaxis": "x",
         "y": [
          -4.440892098500626e-16,
          -4.440892098500626e-16,
          -2.220446049250313e-16,
          -4.440892098500626e-16,
          -8.881784197001252e-16,
          -1.4432899320127035e-15,
          -2.55351295663786e-15,
          -4.884981308350689e-15,
          -9.658940314238862e-15,
          -1.8984813721090177e-14,
          -3.808064974464287e-14,
          -7.582823258189819e-14,
          -1.517674874662589e-13,
          -3.034239526300553e-13,
          -6.06736882957648e-13,
          -1.2133627436128336e-12,
          -2.4272805987379797e-12,
          -4.854450175173497e-12,
          -9.708789328044531e-12,
          -1.9417356611484138e-11,
          -3.8834269133758426e-11,
          -7.766831622291193e-11,
          -1.5533729857963863e-10,
          -3.1067426409236987e-10,
          -6.213484171624373e-10,
          -1.2426966122802696e-9,
          -2.485393668649749e-9,
          -4.970787781388708e-9,
          -9.941575229710509e-9,
          -1.988315101453253e-8,
          -3.9766302362131967e-8,
          -7.953260616755387e-8,
          -1.5906521821928976e-7,
          -3.1813046064144146e-7,
          -6.36261016762063e-7,
          -0.000001272522417106181,
          -0.0000025450463678744484,
          -0.000005090098868842929,
          -0.0000101802222686187,
          -0.00002036054266085774,
          -0.0000407214778239684,
          -0.00008144452568470406,
          -0.00016289533176583326,
          -0.0003258157871121048,
          -0.0006517320844916519,
          -0.0013038663376692128,
          -0.0026093423715787267,
          -0.005225131709154063,
          -0.01047611687609451,
          -0.02105617467067955,
          -0.04253236739133626,
          -0.08677945410444476,
          -0.18070506110624895,
          -0.39246480289082764,
          -0.9320252457779491,
          -2.6999380913584092,
          -12.50127453698241,
          -179.5713727833152,
          -32557.493486473944,
          -1060039403.4462341,
          -1123683538060248400,
          -1.2626646937075984e+36,
          -1.5943221287357033e+72,
          -2.5418630501763446e+144,
          -6.461067765851791e+288,
          null,
          null,
          null,
          null,
          null,
          null,
          null,
          null,
          null,
          null,
          null,
          null,
          null,
          null,
          null,
          null,
          null,
          null,
          null,
          null,
          null,
          null,
          null,
          null,
          null,
          null,
          null,
          null,
          null,
          null,
          null,
          null,
          null,
          null,
          null
         ],
         "yaxis": "y"
        },
        {
         "hovertemplate": "variable=MoRi<br>index=%{x}<br>value=%{y}<extra></extra>",
         "legendgroup": "MoRi",
         "line": {
          "color": "#EF553B",
          "dash": "solid"
         },
         "marker": {
          "symbol": "circle"
         },
         "mode": "lines",
         "name": "MoRi",
         "showlegend": true,
         "type": "scattergl",
         "x": [
          0,
          1,
          2,
          3,
          4,
          5,
          6,
          7,
          8,
          9,
          10,
          11,
          12,
          13,
          14,
          15,
          16,
          17,
          18,
          19,
          20,
          21,
          22,
          23,
          24,
          25,
          26,
          27,
          28,
          29,
          30,
          31,
          32,
          33,
          34,
          35,
          36,
          37,
          38,
          39,
          40,
          41,
          42,
          43,
          44,
          45,
          46,
          47,
          48,
          49,
          50,
          51,
          52,
          53,
          54,
          55,
          56,
          57,
          58,
          59,
          60,
          61,
          62,
          63,
          64,
          65,
          66,
          67,
          68,
          69,
          70,
          71,
          72,
          73,
          74,
          75,
          76,
          77,
          78,
          79,
          80,
          81,
          82,
          83,
          84,
          85,
          86,
          87,
          88,
          89,
          90,
          91,
          92,
          93,
          94,
          95,
          96,
          97,
          98,
          99
         ],
         "xaxis": "x",
         "y": [
          -4.440892098500626e-16,
          -2.220446049250313e-16,
          -3.3306690738754696e-16,
          -7.771561172376096e-16,
          -7.771561172376096e-16,
          -1.5543122344752192e-15,
          -2.7755575615628914e-15,
          -5.218048215738236e-15,
          -9.658940314238862e-15,
          -1.9206858326015208e-14,
          -3.808064974464287e-14,
          -7.616129948928574e-14,
          -1.5198953207118393e-13,
          -3.036459972349803e-13,
          -6.068479052601106e-13,
          -1.2135847882177586e-12,
          -2.4271695764355172e-12,
          -4.8545611974759595e-12,
          -9.708789328044531e-12,
          -1.9417578656089063e-11,
          -3.8834269133758426e-11,
          -7.766876031212178e-11,
          -1.5533729857963863e-10,
          -3.1067426409236987e-10,
          -6.213485281847397e-10,
          -1.2426968343248745e-9,
          -2.485393668649749e-9,
          -4.970788003433313e-9,
          -9.941575562777416e-9,
          -1.9883151125554832e-8,
          -3.976630247315427e-8,
          -7.953260627857617e-8,
          -1.5906521877440127e-7,
          -3.1813046086348606e-7,
          -6.362610173171745e-7,
          -0.0000012725224175502703,
          -0.0000025450463682075153,
          -0.000005090098869175996,
          -0.000010180222268951766,
          -0.000020360542661190806,
          -0.000040721477824190444,
          -0.00008144452568514815,
          -0.00016289533176594428,
          -0.0003258157871122158,
          -0.0006517320844916519,
          -0.0013038663376696569,
          -0.00260934237157906,
          -0.005225131709154396,
          -0.010476116876095065,
          -0.021056174670679884,
          -0.04253236739133648,
          -0.0867794541044451,
          -0.18070506110624918,
          -0.39246480289082786,
          -0.9320252457779494,
          -2.6999380913584092,
          -12.501274536982411,
          -179.5713727833152,
          -32557.493486473944,
          -1060039403.4462341,
          -1123683538060248400,
          -1.2626646937075984e+36,
          -1.5943221287357033e+72,
          -2.5418630501763446e+144,
          -6.461067765851791e+288,
          null,
          null,
          null,
          null,
          null,
          null,
          null,
          null,
          null,
          null,
          null,
          null,
          null,
          null,
          null,
          null,
          null,
          null,
          null,
          null,
          null,
          null,
          null,
          null,
          null,
          null,
          null,
          null,
          null,
          null,
          null,
          null,
          null,
          null,
          null
         ],
         "yaxis": "y"
        },
        {
         "hovertemplate": "variable=MeRi<br>index=%{x}<br>value=%{y}<extra></extra>",
         "legendgroup": "MeRi",
         "line": {
          "color": "#00cc96",
          "dash": "solid"
         },
         "marker": {
          "symbol": "circle"
         },
         "mode": "lines",
         "name": "MeRi",
         "showlegend": true,
         "type": "scattergl",
         "x": [
          0,
          1,
          2,
          3,
          4,
          5,
          6,
          7,
          8,
          9,
          10,
          11,
          12,
          13,
          14,
          15,
          16,
          17,
          18,
          19,
          20,
          21,
          22,
          23,
          24,
          25,
          26,
          27,
          28,
          29,
          30,
          31,
          32,
          33,
          34,
          35,
          36,
          37,
          38,
          39,
          40,
          41,
          42,
          43,
          44,
          45,
          46,
          47,
          48,
          49,
          50,
          51,
          52,
          53,
          54,
          55,
          56,
          57,
          58,
          59,
          60,
          61,
          62,
          63,
          64,
          65,
          66,
          67,
          68,
          69,
          70,
          71,
          72,
          73,
          74,
          75,
          76,
          77,
          78,
          79,
          80,
          81,
          82,
          83,
          84,
          85,
          86,
          87,
          88,
          89,
          90,
          91,
          92,
          93,
          94,
          95,
          96,
          97,
          98,
          99
         ],
         "xaxis": "x",
         "y": [
          1.1102230246251565e-16,
          3.3306690738754696e-16,
          0,
          -4.440892098500626e-16,
          -5.551115123125783e-16,
          -9.992007221626409e-16,
          -2.1094237467877974e-15,
          -4.551914400963142e-15,
          -9.325873406851315e-15,
          -1.8540724511240114e-14,
          -3.7636560534792807e-14,
          -7.560618797697316e-14,
          -1.5132339825640884e-13,
          -3.0309088572266774e-13,
          -6.066258606551855e-13,
          -1.2133627436128336e-12,
          -2.4271695764355172e-12,
          -4.8543391528710345e-12,
          -9.708567283439606e-12,
          -1.9417356611484138e-11,
          -3.883415811145596e-11,
          -7.766876031212178e-11,
          -1.5533729857963863e-10,
          -3.1067426409236987e-10,
          -6.213483061401348e-10,
          -1.2426968343248745e-9,
          -2.485393668649749e-9,
          -4.970787781388708e-9,
          -9.941575118688206e-9,
          -1.9883150903510227e-8,
          -3.9766302251109664e-8,
          -7.953260605653156e-8,
          -1.5906521855235667e-7,
          -3.1813046064144146e-7,
          -6.362610170951299e-7,
          -0.0000012725224175502703,
          -0.0000025450463679854707,
          -0.000005090098868731907,
          -0.000010180222268507677,
          -0.000020360542661190806,
          -0.000040721477823746355,
          -0.0000814445256849261,
          -0.00016289533176594428,
          -0.00032581578711199377,
          -0.0006517320844916519,
          -0.0013038663376694348,
          -0.0026093423715786157,
          -0.005225131709154174,
          -0.010476116876095065,
          -0.02105617467067966,
          -0.04253236739133648,
          -0.08677945410444488,
          -0.18070506110624918,
          -0.39246480289082786,
          -0.9320252457779493,
          -2.6999380913584092,
          -12.501274536982411,
          -179.5713727833152,
          -32557.49348647395,
          -1060039403.4462343,
          -1123683538060248700,
          -1.2626646937075986e+36,
          -1.5943221287357035e+72,
          -2.5418630501763453e+144,
          -6.461067765851791e+288,
          null,
          null,
          null,
          null,
          null,
          null,
          null,
          null,
          null,
          null,
          null,
          null,
          null,
          null,
          null,
          null,
          null,
          null,
          null,
          null,
          null,
          null,
          null,
          null,
          null,
          null,
          null,
          null,
          null,
          null,
          null,
          null,
          null,
          null,
          null
         ],
         "yaxis": "y"
        },
        {
         "hovertemplate": "variable=Ri<br>index=%{x}<br>value=%{y}<extra></extra>",
         "legendgroup": "Ri",
         "line": {
          "color": "#ab63fa",
          "dash": "solid"
         },
         "marker": {
          "symbol": "circle"
         },
         "mode": "lines",
         "name": "Ri",
         "showlegend": true,
         "type": "scattergl",
         "x": [
          0,
          1,
          2,
          3,
          4,
          5,
          6,
          7,
          8,
          9,
          10,
          11,
          12,
          13,
          14,
          15,
          16,
          17,
          18,
          19,
          20,
          21,
          22,
          23,
          24,
          25,
          26,
          27,
          28,
          29,
          30,
          31,
          32,
          33,
          34,
          35,
          36,
          37,
          38,
          39,
          40,
          41,
          42,
          43,
          44,
          45,
          46,
          47,
          48,
          49,
          50,
          51,
          52,
          53,
          54,
          55,
          56,
          57,
          58,
          59,
          60,
          61,
          62,
          63,
          64,
          65,
          66,
          67,
          68,
          69,
          70,
          71,
          72,
          73,
          74,
          75,
          76,
          77,
          78,
          79,
          80,
          81,
          82,
          83,
          84,
          85,
          86,
          87,
          88,
          89,
          90,
          91,
          92,
          93,
          94,
          95,
          96,
          97,
          98,
          99
         ],
         "xaxis": "x",
         "y": [
          2.220446049250313e-16,
          -1.1102230246251565e-16,
          1.1102230246251565e-16,
          -3.3306690738754696e-16,
          -6.661338147750939e-16,
          -1.2212453270876722e-15,
          -2.3314683517128287e-15,
          -4.551914400963142e-15,
          -9.325873406851315e-15,
          -1.8540724511240114e-14,
          -3.7636560534792807e-14,
          -7.582823258189819e-14,
          -1.5132339825640884e-13,
          -3.0331293032759277e-13,
          -6.066258606551855e-13,
          -1.2133627436128336e-12,
          -2.4271695764355172e-12,
          -4.8543391528710345e-12,
          -9.708567283439606e-12,
          -1.9417356611484138e-11,
          -3.883415811145596e-11,
          -7.766876031212178e-11,
          -1.5533729857963863e-10,
          -3.1067426409236987e-10,
          -6.213483061401348e-10,
          -1.2426968343248745e-9,
          -2.485393668649749e-9,
          -4.970787781388708e-9,
          -9.941575118688206e-9,
          -1.9883150903510227e-8,
          -3.9766302251109664e-8,
          -7.953260605653156e-8,
          -1.5906521855235667e-7,
          -3.1813046064144146e-7,
          -6.362610170951299e-7,
          -0.0000012725224175502703,
          -0.0000025450463679854707,
          -0.000005090098868731907,
          -0.000010180222268507677,
          -0.000020360542661190806,
          -0.000040721477823746355,
          -0.0000814445256849261,
          -0.00016289533176594428,
          -0.00032581578711199377,
          -0.0006517320844916519,
          -0.0013038663376694348,
          -0.0026093423715786157,
          -0.005225131709154174,
          -0.010476116876095065,
          -0.02105617467067966,
          -0.04253236739133648,
          -0.08677945410444488,
          -0.18070506110624918,
          -0.39246480289082786,
          -0.9320252457779493,
          -2.6999380913584092,
          -12.501274536982411,
          -179.5713727833152,
          -32557.49348647395,
          -1060039403.4462343,
          -1123683538060248700,
          -1.2626646937075986e+36,
          -1.5943221287357035e+72,
          -2.5418630501763453e+144,
          -6.461067765851791e+288,
          null,
          null,
          null,
          null,
          null,
          null,
          null,
          null,
          null,
          null,
          null,
          null,
          null,
          null,
          null,
          null,
          null,
          null,
          null,
          null,
          null,
          null,
          null,
          null,
          null,
          null,
          null,
          null,
          null,
          null,
          null,
          null,
          null,
          null,
          null
         ],
         "yaxis": "y"
        },
        {
         "hovertemplate": "variable=Comp<br>index=%{x}<br>value=%{y}<extra></extra>",
         "legendgroup": "Comp",
         "line": {
          "color": "#FFA15A",
          "dash": "solid"
         },
         "marker": {
          "symbol": "circle"
         },
         "mode": "lines",
         "name": "Comp",
         "showlegend": true,
         "type": "scattergl",
         "x": [
          0,
          1,
          2,
          3,
          4,
          5,
          6,
          7,
          8,
          9,
          10,
          11,
          12,
          13,
          14,
          15,
          16,
          17,
          18,
          19,
          20,
          21,
          22,
          23,
          24,
          25,
          26,
          27,
          28,
          29,
          30,
          31,
          32,
          33,
          34,
          35,
          36,
          37,
          38,
          39,
          40,
          41,
          42,
          43,
          44,
          45,
          46,
          47,
          48,
          49,
          50,
          51,
          52,
          53,
          54,
          55,
          56,
          57,
          58,
          59,
          60,
          61,
          62,
          63,
          64,
          65,
          66,
          67,
          68,
          69,
          70,
          71,
          72,
          73,
          74,
          75,
          76,
          77,
          78,
          79,
          80,
          81,
          82,
          83,
          84,
          85,
          86,
          87,
          88,
          89,
          90,
          91,
          92,
          93,
          94,
          95,
          96,
          97,
          98,
          99
         ],
         "xaxis": "x",
         "y": [
          -1.1102230246251565e-16,
          -3.3306690738754696e-16,
          -2.220446049250313e-16,
          0,
          -4.440892098500626e-16,
          -1.1102230246251565e-15,
          -2.55351295663786e-15,
          -4.884981308350689e-15,
          -9.658940314238862e-15,
          -1.8984813721090177e-14,
          -3.785860513971784e-14,
          -7.582823258189819e-14,
          -1.517674874662589e-13,
          -3.034239526300553e-13,
          -6.06736882957648e-13,
          -1.2133627436128336e-12,
          -2.4268365095281297e-12,
          -4.8543391528710345e-12,
          -9.708456261137144e-12,
          -1.941702354457675e-11,
          -3.88340470891535e-11,
          -7.766831622291193e-11,
          -1.5533696551273124e-10,
          -3.1067404204776494e-10,
          -6.213484171624373e-10,
          -1.242696723302572e-9,
          -2.485393446605144e-9,
          -4.9707876703664056e-9,
          -9.941575007665904e-9,
          -1.988315101453253e-8,
          -3.9766302251109664e-8,
          -7.953260616755387e-8,
          -1.5906521810826746e-7,
          -3.1813046064144146e-7,
          -6.36261016762063e-7,
          -0.000001272522417106181,
          -0.0000025450463678744484,
          -0.0000050900988685098625,
          -0.00001018022226817461,
          -0.000020360542660746717,
          -0.000040721477823746355,
          -0.00008144452568448202,
          -0.00016289533176583326,
          -0.00032581578711199377,
          -0.0006517320844914298,
          -0.0013038663376691018,
          -0.0026093423715786157,
          -0.005225131709154063,
          -0.01047611687609451,
          -0.02105617467067933,
          -0.042532367391335923,
          -0.08677945410444454,
          -0.18070506110624873,
          -0.3924648028908275,
          -0.9320252457779489,
          -2.699938091358409,
          -12.50127453698241,
          -179.5713727833152,
          -32557.49348647395,
          -1060039403.4462343,
          -1123683538060248700,
          -1.2626646937075986e+36,
          -1.5943221287357035e+72,
          -2.5418630501763453e+144,
          -6.461067765851791e+288,
          null,
          null,
          null,
          null,
          null,
          null,
          null,
          null,
          null,
          null,
          null,
          null,
          null,
          null,
          null,
          null,
          null,
          null,
          null,
          null,
          null,
          null,
          null,
          null,
          null,
          null,
          null,
          null,
          null,
          null,
          null,
          null,
          null,
          null,
          null
         ],
         "yaxis": "y"
        }
       ],
       "layout": {
        "legend": {
         "title": {
          "text": "variable"
         },
         "tracegroupgap": 0
        },
        "template": {
         "data": {
          "bar": [
           {
            "error_x": {
             "color": "#2a3f5f"
            },
            "error_y": {
             "color": "#2a3f5f"
            },
            "marker": {
             "line": {
              "color": "#E5ECF6",
              "width": 0.5
             },
             "pattern": {
              "fillmode": "overlay",
              "size": 10,
              "solidity": 0.2
             }
            },
            "type": "bar"
           }
          ],
          "barpolar": [
           {
            "marker": {
             "line": {
              "color": "#E5ECF6",
              "width": 0.5
             },
             "pattern": {
              "fillmode": "overlay",
              "size": 10,
              "solidity": 0.2
             }
            },
            "type": "barpolar"
           }
          ],
          "carpet": [
           {
            "aaxis": {
             "endlinecolor": "#2a3f5f",
             "gridcolor": "white",
             "linecolor": "white",
             "minorgridcolor": "white",
             "startlinecolor": "#2a3f5f"
            },
            "baxis": {
             "endlinecolor": "#2a3f5f",
             "gridcolor": "white",
             "linecolor": "white",
             "minorgridcolor": "white",
             "startlinecolor": "#2a3f5f"
            },
            "type": "carpet"
           }
          ],
          "choropleth": [
           {
            "colorbar": {
             "outlinewidth": 0,
             "ticks": ""
            },
            "type": "choropleth"
           }
          ],
          "contour": [
           {
            "colorbar": {
             "outlinewidth": 0,
             "ticks": ""
            },
            "colorscale": [
             [
              0,
              "#0d0887"
             ],
             [
              0.1111111111111111,
              "#46039f"
             ],
             [
              0.2222222222222222,
              "#7201a8"
             ],
             [
              0.3333333333333333,
              "#9c179e"
             ],
             [
              0.4444444444444444,
              "#bd3786"
             ],
             [
              0.5555555555555556,
              "#d8576b"
             ],
             [
              0.6666666666666666,
              "#ed7953"
             ],
             [
              0.7777777777777778,
              "#fb9f3a"
             ],
             [
              0.8888888888888888,
              "#fdca26"
             ],
             [
              1,
              "#f0f921"
             ]
            ],
            "type": "contour"
           }
          ],
          "contourcarpet": [
           {
            "colorbar": {
             "outlinewidth": 0,
             "ticks": ""
            },
            "type": "contourcarpet"
           }
          ],
          "heatmap": [
           {
            "colorbar": {
             "outlinewidth": 0,
             "ticks": ""
            },
            "colorscale": [
             [
              0,
              "#0d0887"
             ],
             [
              0.1111111111111111,
              "#46039f"
             ],
             [
              0.2222222222222222,
              "#7201a8"
             ],
             [
              0.3333333333333333,
              "#9c179e"
             ],
             [
              0.4444444444444444,
              "#bd3786"
             ],
             [
              0.5555555555555556,
              "#d8576b"
             ],
             [
              0.6666666666666666,
              "#ed7953"
             ],
             [
              0.7777777777777778,
              "#fb9f3a"
             ],
             [
              0.8888888888888888,
              "#fdca26"
             ],
             [
              1,
              "#f0f921"
             ]
            ],
            "type": "heatmap"
           }
          ],
          "heatmapgl": [
           {
            "colorbar": {
             "outlinewidth": 0,
             "ticks": ""
            },
            "colorscale": [
             [
              0,
              "#0d0887"
             ],
             [
              0.1111111111111111,
              "#46039f"
             ],
             [
              0.2222222222222222,
              "#7201a8"
             ],
             [
              0.3333333333333333,
              "#9c179e"
             ],
             [
              0.4444444444444444,
              "#bd3786"
             ],
             [
              0.5555555555555556,
              "#d8576b"
             ],
             [
              0.6666666666666666,
              "#ed7953"
             ],
             [
              0.7777777777777778,
              "#fb9f3a"
             ],
             [
              0.8888888888888888,
              "#fdca26"
             ],
             [
              1,
              "#f0f921"
             ]
            ],
            "type": "heatmapgl"
           }
          ],
          "histogram": [
           {
            "marker": {
             "pattern": {
              "fillmode": "overlay",
              "size": 10,
              "solidity": 0.2
             }
            },
            "type": "histogram"
           }
          ],
          "histogram2d": [
           {
            "colorbar": {
             "outlinewidth": 0,
             "ticks": ""
            },
            "colorscale": [
             [
              0,
              "#0d0887"
             ],
             [
              0.1111111111111111,
              "#46039f"
             ],
             [
              0.2222222222222222,
              "#7201a8"
             ],
             [
              0.3333333333333333,
              "#9c179e"
             ],
             [
              0.4444444444444444,
              "#bd3786"
             ],
             [
              0.5555555555555556,
              "#d8576b"
             ],
             [
              0.6666666666666666,
              "#ed7953"
             ],
             [
              0.7777777777777778,
              "#fb9f3a"
             ],
             [
              0.8888888888888888,
              "#fdca26"
             ],
             [
              1,
              "#f0f921"
             ]
            ],
            "type": "histogram2d"
           }
          ],
          "histogram2dcontour": [
           {
            "colorbar": {
             "outlinewidth": 0,
             "ticks": ""
            },
            "colorscale": [
             [
              0,
              "#0d0887"
             ],
             [
              0.1111111111111111,
              "#46039f"
             ],
             [
              0.2222222222222222,
              "#7201a8"
             ],
             [
              0.3333333333333333,
              "#9c179e"
             ],
             [
              0.4444444444444444,
              "#bd3786"
             ],
             [
              0.5555555555555556,
              "#d8576b"
             ],
             [
              0.6666666666666666,
              "#ed7953"
             ],
             [
              0.7777777777777778,
              "#fb9f3a"
             ],
             [
              0.8888888888888888,
              "#fdca26"
             ],
             [
              1,
              "#f0f921"
             ]
            ],
            "type": "histogram2dcontour"
           }
          ],
          "mesh3d": [
           {
            "colorbar": {
             "outlinewidth": 0,
             "ticks": ""
            },
            "type": "mesh3d"
           }
          ],
          "parcoords": [
           {
            "line": {
             "colorbar": {
              "outlinewidth": 0,
              "ticks": ""
             }
            },
            "type": "parcoords"
           }
          ],
          "pie": [
           {
            "automargin": true,
            "type": "pie"
           }
          ],
          "scatter": [
           {
            "fillpattern": {
             "fillmode": "overlay",
             "size": 10,
             "solidity": 0.2
            },
            "type": "scatter"
           }
          ],
          "scatter3d": [
           {
            "line": {
             "colorbar": {
              "outlinewidth": 0,
              "ticks": ""
             }
            },
            "marker": {
             "colorbar": {
              "outlinewidth": 0,
              "ticks": ""
             }
            },
            "type": "scatter3d"
           }
          ],
          "scattercarpet": [
           {
            "marker": {
             "colorbar": {
              "outlinewidth": 0,
              "ticks": ""
             }
            },
            "type": "scattercarpet"
           }
          ],
          "scattergeo": [
           {
            "marker": {
             "colorbar": {
              "outlinewidth": 0,
              "ticks": ""
             }
            },
            "type": "scattergeo"
           }
          ],
          "scattergl": [
           {
            "marker": {
             "colorbar": {
              "outlinewidth": 0,
              "ticks": ""
             }
            },
            "type": "scattergl"
           }
          ],
          "scattermapbox": [
           {
            "marker": {
             "colorbar": {
              "outlinewidth": 0,
              "ticks": ""
             }
            },
            "type": "scattermapbox"
           }
          ],
          "scatterpolar": [
           {
            "marker": {
             "colorbar": {
              "outlinewidth": 0,
              "ticks": ""
             }
            },
            "type": "scatterpolar"
           }
          ],
          "scatterpolargl": [
           {
            "marker": {
             "colorbar": {
              "outlinewidth": 0,
              "ticks": ""
             }
            },
            "type": "scatterpolargl"
           }
          ],
          "scatterternary": [
           {
            "marker": {
             "colorbar": {
              "outlinewidth": 0,
              "ticks": ""
             }
            },
            "type": "scatterternary"
           }
          ],
          "surface": [
           {
            "colorbar": {
             "outlinewidth": 0,
             "ticks": ""
            },
            "colorscale": [
             [
              0,
              "#0d0887"
             ],
             [
              0.1111111111111111,
              "#46039f"
             ],
             [
              0.2222222222222222,
              "#7201a8"
             ],
             [
              0.3333333333333333,
              "#9c179e"
             ],
             [
              0.4444444444444444,
              "#bd3786"
             ],
             [
              0.5555555555555556,
              "#d8576b"
             ],
             [
              0.6666666666666666,
              "#ed7953"
             ],
             [
              0.7777777777777778,
              "#fb9f3a"
             ],
             [
              0.8888888888888888,
              "#fdca26"
             ],
             [
              1,
              "#f0f921"
             ]
            ],
            "type": "surface"
           }
          ],
          "table": [
           {
            "cells": {
             "fill": {
              "color": "#EBF0F8"
             },
             "line": {
              "color": "white"
             }
            },
            "header": {
             "fill": {
              "color": "#C8D4E3"
             },
             "line": {
              "color": "white"
             }
            },
            "type": "table"
           }
          ]
         },
         "layout": {
          "annotationdefaults": {
           "arrowcolor": "#2a3f5f",
           "arrowhead": 0,
           "arrowwidth": 1
          },
          "autotypenumbers": "strict",
          "coloraxis": {
           "colorbar": {
            "outlinewidth": 0,
            "ticks": ""
           }
          },
          "colorscale": {
           "diverging": [
            [
             0,
             "#8e0152"
            ],
            [
             0.1,
             "#c51b7d"
            ],
            [
             0.2,
             "#de77ae"
            ],
            [
             0.3,
             "#f1b6da"
            ],
            [
             0.4,
             "#fde0ef"
            ],
            [
             0.5,
             "#f7f7f7"
            ],
            [
             0.6,
             "#e6f5d0"
            ],
            [
             0.7,
             "#b8e186"
            ],
            [
             0.8,
             "#7fbc41"
            ],
            [
             0.9,
             "#4d9221"
            ],
            [
             1,
             "#276419"
            ]
           ],
           "sequential": [
            [
             0,
             "#0d0887"
            ],
            [
             0.1111111111111111,
             "#46039f"
            ],
            [
             0.2222222222222222,
             "#7201a8"
            ],
            [
             0.3333333333333333,
             "#9c179e"
            ],
            [
             0.4444444444444444,
             "#bd3786"
            ],
            [
             0.5555555555555556,
             "#d8576b"
            ],
            [
             0.6666666666666666,
             "#ed7953"
            ],
            [
             0.7777777777777778,
             "#fb9f3a"
            ],
            [
             0.8888888888888888,
             "#fdca26"
            ],
            [
             1,
             "#f0f921"
            ]
           ],
           "sequentialminus": [
            [
             0,
             "#0d0887"
            ],
            [
             0.1111111111111111,
             "#46039f"
            ],
            [
             0.2222222222222222,
             "#7201a8"
            ],
            [
             0.3333333333333333,
             "#9c179e"
            ],
            [
             0.4444444444444444,
             "#bd3786"
            ],
            [
             0.5555555555555556,
             "#d8576b"
            ],
            [
             0.6666666666666666,
             "#ed7953"
            ],
            [
             0.7777777777777778,
             "#fb9f3a"
            ],
            [
             0.8888888888888888,
             "#fdca26"
            ],
            [
             1,
             "#f0f921"
            ]
           ]
          },
          "colorway": [
           "#636efa",
           "#EF553B",
           "#00cc96",
           "#ab63fa",
           "#FFA15A",
           "#19d3f3",
           "#FF6692",
           "#B6E880",
           "#FF97FF",
           "#FECB52"
          ],
          "font": {
           "color": "#2a3f5f"
          },
          "geo": {
           "bgcolor": "white",
           "lakecolor": "white",
           "landcolor": "#E5ECF6",
           "showlakes": true,
           "showland": true,
           "subunitcolor": "white"
          },
          "hoverlabel": {
           "align": "left"
          },
          "hovermode": "closest",
          "mapbox": {
           "style": "light"
          },
          "paper_bgcolor": "white",
          "plot_bgcolor": "#E5ECF6",
          "polar": {
           "angularaxis": {
            "gridcolor": "white",
            "linecolor": "white",
            "ticks": ""
           },
           "bgcolor": "#E5ECF6",
           "radialaxis": {
            "gridcolor": "white",
            "linecolor": "white",
            "ticks": ""
           }
          },
          "scene": {
           "xaxis": {
            "backgroundcolor": "#E5ECF6",
            "gridcolor": "white",
            "gridwidth": 2,
            "linecolor": "white",
            "showbackground": true,
            "ticks": "",
            "zerolinecolor": "white"
           },
           "yaxis": {
            "backgroundcolor": "#E5ECF6",
            "gridcolor": "white",
            "gridwidth": 2,
            "linecolor": "white",
            "showbackground": true,
            "ticks": "",
            "zerolinecolor": "white"
           },
           "zaxis": {
            "backgroundcolor": "#E5ECF6",
            "gridcolor": "white",
            "gridwidth": 2,
            "linecolor": "white",
            "showbackground": true,
            "ticks": "",
            "zerolinecolor": "white"
           }
          },
          "shapedefaults": {
           "line": {
            "color": "#2a3f5f"
           }
          },
          "ternary": {
           "aaxis": {
            "gridcolor": "white",
            "linecolor": "white",
            "ticks": ""
           },
           "baxis": {
            "gridcolor": "white",
            "linecolor": "white",
            "ticks": ""
           },
           "bgcolor": "#E5ECF6",
           "caxis": {
            "gridcolor": "white",
            "linecolor": "white",
            "ticks": ""
           }
          },
          "title": {
           "x": 0.05
          },
          "xaxis": {
           "automargin": true,
           "gridcolor": "white",
           "linecolor": "white",
           "ticks": "",
           "title": {
            "standoff": 15
           },
           "zerolinecolor": "white",
           "zerolinewidth": 2
          },
          "yaxis": {
           "automargin": true,
           "gridcolor": "white",
           "linecolor": "white",
           "ticks": "",
           "title": {
            "standoff": 15
           },
           "zerolinecolor": "white",
           "zerolinewidth": 2
          }
         }
        },
        "title": {
         "text": "Evolution of activations for soggetto_8"
        },
        "xaxis": {
         "anchor": "y",
         "domain": [
          0,
          1
         ],
         "title": {
          "text": "index"
         }
        },
        "yaxis": {
         "anchor": "x",
         "domain": [
          0,
          1
         ],
         "title": {
          "text": "value"
         }
        }
       }
      }
     },
     "metadata": {},
     "output_type": "display_data"
    }
   ],
   "source": [
    "# plot lineplots with plotly express for each subject\n",
    "for subject in subjects:\n",
    "    fig = px.line(df_evolve_dict[subject], title=\"Evolution of activations for {}\".format(subject))\n",
    "    fig.show()"
   ]
  }
 ],
 "metadata": {
  "kernelspec": {
   "display_name": "env",
   "language": "python",
   "name": "python3"
  },
  "language_info": {
   "codemirror_mode": {
    "name": "ipython",
    "version": 3
   },
   "file_extension": ".py",
   "mimetype": "text/x-python",
   "name": "python",
   "nbconvert_exporter": "python",
   "pygments_lexer": "ipython3",
   "version": "3.10.6"
  },
  "orig_nbformat": 4,
  "vscode": {
   "interpreter": {
    "hash": "8cf3148ee2412bf818af45c9d8f3260092e813536e8161d4ddb61a7fba27a160"
   }
  }
 },
 "nbformat": 4,
 "nbformat_minor": 2
}
