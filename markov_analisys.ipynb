{
 "cells": [
  {
   "cell_type": "code",
   "execution_count": 1170,
   "metadata": {},
   "outputs": [],
   "source": [
    "import numpy as np\n",
    "import pandas as pd\n",
    "\n",
    "import matplotlib.pyplot as plt\n",
    "import seaborn as sns\n",
    "import plotly.express as px\n",
    "sns.set()\n",
    "\n",
    "import sigma_equation as se"
   ]
  },
  {
   "cell_type": "code",
   "execution_count": 1171,
   "metadata": {},
   "outputs": [],
   "source": [
    "subjects = [\"soggetto_1\",\"soggetto_2\",\"soggetto_3\",\"soggetto_6\",\"soggetto_7\",\"soggetto_8\"]"
   ]
  },
  {
   "cell_type": "code",
   "execution_count": 1172,
   "metadata": {},
   "outputs": [],
   "source": [
    "# in the dataframe each row rappresent the weight that connect the hidden node i with the output node j"
   ]
  },
  {
   "cell_type": "code",
   "execution_count": 1173,
   "metadata": {},
   "outputs": [],
   "source": [
    "df_o_dict = {}\n",
    "for subject in subjects:\n",
    "    df_o_dict[subject] = pd.read_csv(\"Datasets/{}_weights_o.csv\".format(subject))\n",
    "    df_o_dict[subject].columns = [\"TrRi\",\"RiTr\",\"Plu\",\"Ttra\",\"Ttrb\",\"Tr\",\"MeTr\",\"MoTr\",\"RiRi\",\"MoFo\",\"Mmof\",\"MoRi\",\"MeRi\",\"Ri\",\"Comp\"]\n",
    "    df_o_dict[subject].index = df_o_dict[subject].columns"
   ]
  },
  {
   "cell_type": "code",
   "execution_count": 1174,
   "metadata": {},
   "outputs": [
    {
     "data": {
      "text/html": [
       "<div>\n",
       "<style scoped>\n",
       "    .dataframe tbody tr th:only-of-type {\n",
       "        vertical-align: middle;\n",
       "    }\n",
       "\n",
       "    .dataframe tbody tr th {\n",
       "        vertical-align: top;\n",
       "    }\n",
       "\n",
       "    .dataframe thead th {\n",
       "        text-align: right;\n",
       "    }\n",
       "</style>\n",
       "<table border=\"1\" class=\"dataframe\">\n",
       "  <thead>\n",
       "    <tr style=\"text-align: right;\">\n",
       "      <th></th>\n",
       "      <th>TrRi</th>\n",
       "      <th>RiTr</th>\n",
       "      <th>Plu</th>\n",
       "      <th>Ttra</th>\n",
       "      <th>Ttrb</th>\n",
       "      <th>Tr</th>\n",
       "      <th>MeTr</th>\n",
       "      <th>MoTr</th>\n",
       "      <th>RiRi</th>\n",
       "      <th>MoFo</th>\n",
       "      <th>Mmof</th>\n",
       "      <th>MoRi</th>\n",
       "      <th>MeRi</th>\n",
       "      <th>Ri</th>\n",
       "      <th>Comp</th>\n",
       "    </tr>\n",
       "  </thead>\n",
       "  <tbody>\n",
       "    <tr>\n",
       "      <th>TrRi</th>\n",
       "      <td>-0.770991</td>\n",
       "      <td>-0.751945</td>\n",
       "      <td>-0.003196</td>\n",
       "      <td>-0.475967</td>\n",
       "      <td>-0.288003</td>\n",
       "      <td>-0.319896</td>\n",
       "      <td>-0.237846</td>\n",
       "      <td>-0.667909</td>\n",
       "      <td>-0.311236</td>\n",
       "      <td>-0.313909</td>\n",
       "      <td>-0.476609</td>\n",
       "      <td>-0.379376</td>\n",
       "      <td>-0.132961</td>\n",
       "      <td>-0.563191</td>\n",
       "      <td>-0.267206</td>\n",
       "    </tr>\n",
       "    <tr>\n",
       "      <th>RiTr</th>\n",
       "      <td>-0.247862</td>\n",
       "      <td>-0.213791</td>\n",
       "      <td>-0.263307</td>\n",
       "      <td>-0.452790</td>\n",
       "      <td>-0.036305</td>\n",
       "      <td>-0.265057</td>\n",
       "      <td>-0.040311</td>\n",
       "      <td>-0.216138</td>\n",
       "      <td>0.195006</td>\n",
       "      <td>-0.285269</td>\n",
       "      <td>0.142926</td>\n",
       "      <td>-0.066997</td>\n",
       "      <td>-0.329820</td>\n",
       "      <td>-0.398614</td>\n",
       "      <td>0.311151</td>\n",
       "    </tr>\n",
       "    <tr>\n",
       "      <th>Plu</th>\n",
       "      <td>0.296357</td>\n",
       "      <td>0.143637</td>\n",
       "      <td>-0.274596</td>\n",
       "      <td>0.401257</td>\n",
       "      <td>-0.513654</td>\n",
       "      <td>-0.032019</td>\n",
       "      <td>-0.606530</td>\n",
       "      <td>0.466011</td>\n",
       "      <td>0.234262</td>\n",
       "      <td>0.095813</td>\n",
       "      <td>0.064052</td>\n",
       "      <td>-0.191375</td>\n",
       "      <td>0.129914</td>\n",
       "      <td>0.265614</td>\n",
       "      <td>-0.417138</td>\n",
       "    </tr>\n",
       "    <tr>\n",
       "      <th>Ttra</th>\n",
       "      <td>0.183060</td>\n",
       "      <td>0.483585</td>\n",
       "      <td>0.501303</td>\n",
       "      <td>0.105587</td>\n",
       "      <td>-0.269760</td>\n",
       "      <td>0.243317</td>\n",
       "      <td>0.465550</td>\n",
       "      <td>0.118819</td>\n",
       "      <td>0.741436</td>\n",
       "      <td>0.158044</td>\n",
       "      <td>0.505577</td>\n",
       "      <td>0.649681</td>\n",
       "      <td>-0.354336</td>\n",
       "      <td>-0.027620</td>\n",
       "      <td>-0.924776</td>\n",
       "    </tr>\n",
       "    <tr>\n",
       "      <th>Ttrb</th>\n",
       "      <td>0.184627</td>\n",
       "      <td>0.094576</td>\n",
       "      <td>0.255244</td>\n",
       "      <td>0.079634</td>\n",
       "      <td>0.433292</td>\n",
       "      <td>0.108078</td>\n",
       "      <td>0.718556</td>\n",
       "      <td>0.207032</td>\n",
       "      <td>0.218471</td>\n",
       "      <td>0.145419</td>\n",
       "      <td>0.251152</td>\n",
       "      <td>0.294435</td>\n",
       "      <td>-0.095571</td>\n",
       "      <td>-0.129102</td>\n",
       "      <td>0.461390</td>\n",
       "    </tr>\n",
       "    <tr>\n",
       "      <th>Tr</th>\n",
       "      <td>-0.101070</td>\n",
       "      <td>0.339746</td>\n",
       "      <td>0.104130</td>\n",
       "      <td>0.175691</td>\n",
       "      <td>0.178291</td>\n",
       "      <td>0.192165</td>\n",
       "      <td>-0.148726</td>\n",
       "      <td>0.298971</td>\n",
       "      <td>0.257728</td>\n",
       "      <td>0.369778</td>\n",
       "      <td>0.320710</td>\n",
       "      <td>0.046285</td>\n",
       "      <td>-0.358480</td>\n",
       "      <td>-0.293206</td>\n",
       "      <td>0.078602</td>\n",
       "    </tr>\n",
       "    <tr>\n",
       "      <th>MeTr</th>\n",
       "      <td>0.283836</td>\n",
       "      <td>-0.172645</td>\n",
       "      <td>0.084332</td>\n",
       "      <td>-0.112213</td>\n",
       "      <td>-0.095082</td>\n",
       "      <td>-0.118429</td>\n",
       "      <td>0.377106</td>\n",
       "      <td>-0.212882</td>\n",
       "      <td>0.259866</td>\n",
       "      <td>-0.511182</td>\n",
       "      <td>0.034457</td>\n",
       "      <td>0.271691</td>\n",
       "      <td>-0.362803</td>\n",
       "      <td>0.330743</td>\n",
       "      <td>0.405451</td>\n",
       "    </tr>\n",
       "    <tr>\n",
       "      <th>MoTr</th>\n",
       "      <td>-0.350846</td>\n",
       "      <td>-0.118040</td>\n",
       "      <td>0.095562</td>\n",
       "      <td>0.115430</td>\n",
       "      <td>-0.201036</td>\n",
       "      <td>0.017604</td>\n",
       "      <td>0.278993</td>\n",
       "      <td>-0.181154</td>\n",
       "      <td>-0.201408</td>\n",
       "      <td>0.201035</td>\n",
       "      <td>-0.035058</td>\n",
       "      <td>-0.137480</td>\n",
       "      <td>-0.258862</td>\n",
       "      <td>-0.129493</td>\n",
       "      <td>-0.145702</td>\n",
       "    </tr>\n",
       "    <tr>\n",
       "      <th>RiRi</th>\n",
       "      <td>-0.124972</td>\n",
       "      <td>-0.444297</td>\n",
       "      <td>-0.265006</td>\n",
       "      <td>-0.028899</td>\n",
       "      <td>0.315952</td>\n",
       "      <td>-0.310293</td>\n",
       "      <td>-0.491082</td>\n",
       "      <td>-0.395986</td>\n",
       "      <td>-0.170462</td>\n",
       "      <td>-0.281086</td>\n",
       "      <td>-0.185531</td>\n",
       "      <td>-0.448678</td>\n",
       "      <td>0.257830</td>\n",
       "      <td>-0.244294</td>\n",
       "      <td>-0.226082</td>\n",
       "    </tr>\n",
       "    <tr>\n",
       "      <th>MoFo</th>\n",
       "      <td>0.235450</td>\n",
       "      <td>0.209074</td>\n",
       "      <td>0.323443</td>\n",
       "      <td>0.554424</td>\n",
       "      <td>0.071989</td>\n",
       "      <td>0.374774</td>\n",
       "      <td>0.079382</td>\n",
       "      <td>0.243083</td>\n",
       "      <td>0.017236</td>\n",
       "      <td>0.427540</td>\n",
       "      <td>0.007523</td>\n",
       "      <td>0.060271</td>\n",
       "      <td>0.075436</td>\n",
       "      <td>0.558252</td>\n",
       "      <td>-0.190659</td>\n",
       "    </tr>\n",
       "    <tr>\n",
       "      <th>Mmof</th>\n",
       "      <td>0.137425</td>\n",
       "      <td>0.092889</td>\n",
       "      <td>0.318363</td>\n",
       "      <td>0.219523</td>\n",
       "      <td>0.547407</td>\n",
       "      <td>0.242819</td>\n",
       "      <td>-0.216052</td>\n",
       "      <td>0.133172</td>\n",
       "      <td>0.197097</td>\n",
       "      <td>0.252716</td>\n",
       "      <td>0.179930</td>\n",
       "      <td>0.170447</td>\n",
       "      <td>0.549342</td>\n",
       "      <td>0.170400</td>\n",
       "      <td>0.048967</td>\n",
       "    </tr>\n",
       "    <tr>\n",
       "      <th>MoRi</th>\n",
       "      <td>-0.531965</td>\n",
       "      <td>-0.012311</td>\n",
       "      <td>-0.268569</td>\n",
       "      <td>0.330389</td>\n",
       "      <td>-0.077660</td>\n",
       "      <td>-0.339650</td>\n",
       "      <td>0.582619</td>\n",
       "      <td>-0.161037</td>\n",
       "      <td>0.152464</td>\n",
       "      <td>-0.123318</td>\n",
       "      <td>-0.369754</td>\n",
       "      <td>-0.389747</td>\n",
       "      <td>0.018500</td>\n",
       "      <td>-0.172005</td>\n",
       "      <td>0.157962</td>\n",
       "    </tr>\n",
       "    <tr>\n",
       "      <th>MeRi</th>\n",
       "      <td>0.264298</td>\n",
       "      <td>0.233756</td>\n",
       "      <td>-0.447416</td>\n",
       "      <td>0.093097</td>\n",
       "      <td>0.216503</td>\n",
       "      <td>-0.126303</td>\n",
       "      <td>0.145657</td>\n",
       "      <td>-0.140548</td>\n",
       "      <td>-0.464821</td>\n",
       "      <td>-0.092667</td>\n",
       "      <td>-0.202725</td>\n",
       "      <td>-0.375868</td>\n",
       "      <td>-0.363107</td>\n",
       "      <td>-0.000969</td>\n",
       "      <td>0.118295</td>\n",
       "    </tr>\n",
       "    <tr>\n",
       "      <th>Ri</th>\n",
       "      <td>0.166439</td>\n",
       "      <td>0.050772</td>\n",
       "      <td>0.243699</td>\n",
       "      <td>0.464091</td>\n",
       "      <td>-0.664574</td>\n",
       "      <td>-0.043444</td>\n",
       "      <td>-0.663608</td>\n",
       "      <td>0.324216</td>\n",
       "      <td>0.192691</td>\n",
       "      <td>0.153888</td>\n",
       "      <td>0.165776</td>\n",
       "      <td>0.385047</td>\n",
       "      <td>-0.432196</td>\n",
       "      <td>0.099044</td>\n",
       "      <td>-0.517191</td>\n",
       "    </tr>\n",
       "    <tr>\n",
       "      <th>Comp</th>\n",
       "      <td>-0.109050</td>\n",
       "      <td>-0.083759</td>\n",
       "      <td>-0.026358</td>\n",
       "      <td>0.069246</td>\n",
       "      <td>0.217016</td>\n",
       "      <td>0.013585</td>\n",
       "      <td>0.802352</td>\n",
       "      <td>-0.157806</td>\n",
       "      <td>-0.134792</td>\n",
       "      <td>0.135851</td>\n",
       "      <td>-0.063473</td>\n",
       "      <td>-0.227175</td>\n",
       "      <td>0.014156</td>\n",
       "      <td>-0.104070</td>\n",
       "      <td>-0.225768</td>\n",
       "    </tr>\n",
       "  </tbody>\n",
       "</table>\n",
       "</div>"
      ],
      "text/plain": [
       "          TrRi      RiTr       Plu      Ttra      Ttrb        Tr      MeTr  \\\n",
       "TrRi -0.770991 -0.751945 -0.003196 -0.475967 -0.288003 -0.319896 -0.237846   \n",
       "RiTr -0.247862 -0.213791 -0.263307 -0.452790 -0.036305 -0.265057 -0.040311   \n",
       "Plu   0.296357  0.143637 -0.274596  0.401257 -0.513654 -0.032019 -0.606530   \n",
       "Ttra  0.183060  0.483585  0.501303  0.105587 -0.269760  0.243317  0.465550   \n",
       "Ttrb  0.184627  0.094576  0.255244  0.079634  0.433292  0.108078  0.718556   \n",
       "Tr   -0.101070  0.339746  0.104130  0.175691  0.178291  0.192165 -0.148726   \n",
       "MeTr  0.283836 -0.172645  0.084332 -0.112213 -0.095082 -0.118429  0.377106   \n",
       "MoTr -0.350846 -0.118040  0.095562  0.115430 -0.201036  0.017604  0.278993   \n",
       "RiRi -0.124972 -0.444297 -0.265006 -0.028899  0.315952 -0.310293 -0.491082   \n",
       "MoFo  0.235450  0.209074  0.323443  0.554424  0.071989  0.374774  0.079382   \n",
       "Mmof  0.137425  0.092889  0.318363  0.219523  0.547407  0.242819 -0.216052   \n",
       "MoRi -0.531965 -0.012311 -0.268569  0.330389 -0.077660 -0.339650  0.582619   \n",
       "MeRi  0.264298  0.233756 -0.447416  0.093097  0.216503 -0.126303  0.145657   \n",
       "Ri    0.166439  0.050772  0.243699  0.464091 -0.664574 -0.043444 -0.663608   \n",
       "Comp -0.109050 -0.083759 -0.026358  0.069246  0.217016  0.013585  0.802352   \n",
       "\n",
       "          MoTr      RiRi      MoFo      Mmof      MoRi      MeRi        Ri  \\\n",
       "TrRi -0.667909 -0.311236 -0.313909 -0.476609 -0.379376 -0.132961 -0.563191   \n",
       "RiTr -0.216138  0.195006 -0.285269  0.142926 -0.066997 -0.329820 -0.398614   \n",
       "Plu   0.466011  0.234262  0.095813  0.064052 -0.191375  0.129914  0.265614   \n",
       "Ttra  0.118819  0.741436  0.158044  0.505577  0.649681 -0.354336 -0.027620   \n",
       "Ttrb  0.207032  0.218471  0.145419  0.251152  0.294435 -0.095571 -0.129102   \n",
       "Tr    0.298971  0.257728  0.369778  0.320710  0.046285 -0.358480 -0.293206   \n",
       "MeTr -0.212882  0.259866 -0.511182  0.034457  0.271691 -0.362803  0.330743   \n",
       "MoTr -0.181154 -0.201408  0.201035 -0.035058 -0.137480 -0.258862 -0.129493   \n",
       "RiRi -0.395986 -0.170462 -0.281086 -0.185531 -0.448678  0.257830 -0.244294   \n",
       "MoFo  0.243083  0.017236  0.427540  0.007523  0.060271  0.075436  0.558252   \n",
       "Mmof  0.133172  0.197097  0.252716  0.179930  0.170447  0.549342  0.170400   \n",
       "MoRi -0.161037  0.152464 -0.123318 -0.369754 -0.389747  0.018500 -0.172005   \n",
       "MeRi -0.140548 -0.464821 -0.092667 -0.202725 -0.375868 -0.363107 -0.000969   \n",
       "Ri    0.324216  0.192691  0.153888  0.165776  0.385047 -0.432196  0.099044   \n",
       "Comp -0.157806 -0.134792  0.135851 -0.063473 -0.227175  0.014156 -0.104070   \n",
       "\n",
       "          Comp  \n",
       "TrRi -0.267206  \n",
       "RiTr  0.311151  \n",
       "Plu  -0.417138  \n",
       "Ttra -0.924776  \n",
       "Ttrb  0.461390  \n",
       "Tr    0.078602  \n",
       "MeTr  0.405451  \n",
       "MoTr -0.145702  \n",
       "RiRi -0.226082  \n",
       "MoFo -0.190659  \n",
       "Mmof  0.048967  \n",
       "MoRi  0.157962  \n",
       "MeRi  0.118295  \n",
       "Ri   -0.517191  \n",
       "Comp -0.225768  "
      ]
     },
     "execution_count": 1174,
     "metadata": {},
     "output_type": "execute_result"
    }
   ],
   "source": [
    "df_o_dict[\"soggetto_1\"]"
   ]
  },
  {
   "cell_type": "code",
   "execution_count": 1175,
   "metadata": {},
   "outputs": [
    {
     "data": {
      "text/html": [
       "<div>\n",
       "<style scoped>\n",
       "    .dataframe tbody tr th:only-of-type {\n",
       "        vertical-align: middle;\n",
       "    }\n",
       "\n",
       "    .dataframe tbody tr th {\n",
       "        vertical-align: top;\n",
       "    }\n",
       "\n",
       "    .dataframe thead th {\n",
       "        text-align: right;\n",
       "    }\n",
       "</style>\n",
       "<table border=\"1\" class=\"dataframe\">\n",
       "  <thead>\n",
       "    <tr style=\"text-align: right;\">\n",
       "      <th></th>\n",
       "      <th>mean</th>\n",
       "      <th>std</th>\n",
       "    </tr>\n",
       "  </thead>\n",
       "  <tbody>\n",
       "    <tr>\n",
       "      <th>soggetto_1</th>\n",
       "      <td>-0.002845</td>\n",
       "      <td>0.309757</td>\n",
       "    </tr>\n",
       "    <tr>\n",
       "      <th>soggetto_2</th>\n",
       "      <td>-0.040557</td>\n",
       "      <td>0.423289</td>\n",
       "    </tr>\n",
       "    <tr>\n",
       "      <th>soggetto_3</th>\n",
       "      <td>-0.027626</td>\n",
       "      <td>0.855924</td>\n",
       "    </tr>\n",
       "    <tr>\n",
       "      <th>soggetto_6</th>\n",
       "      <td>-0.007898</td>\n",
       "      <td>0.912329</td>\n",
       "    </tr>\n",
       "    <tr>\n",
       "      <th>soggetto_7</th>\n",
       "      <td>0.014299</td>\n",
       "      <td>1.007807</td>\n",
       "    </tr>\n",
       "    <tr>\n",
       "      <th>soggetto_8</th>\n",
       "      <td>0.031246</td>\n",
       "      <td>1.260598</td>\n",
       "    </tr>\n",
       "  </tbody>\n",
       "</table>\n",
       "</div>"
      ],
      "text/plain": [
       "                mean       std\n",
       "soggetto_1 -0.002845  0.309757\n",
       "soggetto_2 -0.040557  0.423289\n",
       "soggetto_3 -0.027626  0.855924\n",
       "soggetto_6 -0.007898  0.912329\n",
       "soggetto_7  0.014299  1.007807\n",
       "soggetto_8  0.031246  1.260598"
      ]
     },
     "execution_count": 1175,
     "metadata": {},
     "output_type": "execute_result"
    }
   ],
   "source": [
    "df_std_mean_weights = pd.DataFrame()\n",
    "means = []\n",
    "stds = []\n",
    "for subject in subjects:\n",
    "    means.append(df_o_dict[subject].to_numpy().flatten().mean())\n",
    "    stds.append(df_o_dict[subject].to_numpy().flatten().std())\n",
    "df_std_mean_weights[\"mean\"] = means\n",
    "df_std_mean_weights[\"std\"] = stds\n",
    "df_std_mean_weights.index = subjects\n",
    "df_std_mean_weights"
   ]
  },
  {
   "cell_type": "code",
   "execution_count": 1176,
   "metadata": {},
   "outputs": [
    {
     "data": {
      "application/vnd.plotly.v1+json": {
       "config": {
        "plotlyServerURL": "https://plot.ly"
       },
       "data": [
        {
         "alignmentgroup": "True",
         "hovertemplate": "index=%{x}<br>mean=%{marker.color}<extra></extra>",
         "legendgroup": "",
         "marker": {
          "color": [
           -0.002845477743688889,
           -0.04055667930666666,
           -0.027625859256000005,
           -0.00789827659022222,
           0.014299287799555553,
           0.03124639575386665
          ],
          "coloraxis": "coloraxis",
          "pattern": {
           "shape": ""
          }
         },
         "name": "",
         "offsetgroup": "",
         "orientation": "v",
         "showlegend": false,
         "textposition": "auto",
         "type": "bar",
         "x": [
          "soggetto_1",
          "soggetto_2",
          "soggetto_3",
          "soggetto_6",
          "soggetto_7",
          "soggetto_8"
         ],
         "xaxis": "x",
         "y": [
          -0.002845477743688889,
          -0.04055667930666666,
          -0.027625859256000005,
          -0.00789827659022222,
          0.014299287799555553,
          0.03124639575386665
         ],
         "yaxis": "y"
        }
       ],
       "layout": {
        "barmode": "group",
        "coloraxis": {
         "colorbar": {
          "title": {
           "text": "mean"
          }
         },
         "colorscale": [
          [
           0,
           "#0d0887"
          ],
          [
           0.1111111111111111,
           "#46039f"
          ],
          [
           0.2222222222222222,
           "#7201a8"
          ],
          [
           0.3333333333333333,
           "#9c179e"
          ],
          [
           0.4444444444444444,
           "#bd3786"
          ],
          [
           0.5555555555555556,
           "#d8576b"
          ],
          [
           0.6666666666666666,
           "#ed7953"
          ],
          [
           0.7777777777777778,
           "#fb9f3a"
          ],
          [
           0.8888888888888888,
           "#fdca26"
          ],
          [
           1,
           "#f0f921"
          ]
         ]
        },
        "legend": {
         "tracegroupgap": 0
        },
        "margin": {
         "t": 60
        },
        "template": {
         "data": {
          "bar": [
           {
            "error_x": {
             "color": "#2a3f5f"
            },
            "error_y": {
             "color": "#2a3f5f"
            },
            "marker": {
             "line": {
              "color": "#E5ECF6",
              "width": 0.5
             },
             "pattern": {
              "fillmode": "overlay",
              "size": 10,
              "solidity": 0.2
             }
            },
            "type": "bar"
           }
          ],
          "barpolar": [
           {
            "marker": {
             "line": {
              "color": "#E5ECF6",
              "width": 0.5
             },
             "pattern": {
              "fillmode": "overlay",
              "size": 10,
              "solidity": 0.2
             }
            },
            "type": "barpolar"
           }
          ],
          "carpet": [
           {
            "aaxis": {
             "endlinecolor": "#2a3f5f",
             "gridcolor": "white",
             "linecolor": "white",
             "minorgridcolor": "white",
             "startlinecolor": "#2a3f5f"
            },
            "baxis": {
             "endlinecolor": "#2a3f5f",
             "gridcolor": "white",
             "linecolor": "white",
             "minorgridcolor": "white",
             "startlinecolor": "#2a3f5f"
            },
            "type": "carpet"
           }
          ],
          "choropleth": [
           {
            "colorbar": {
             "outlinewidth": 0,
             "ticks": ""
            },
            "type": "choropleth"
           }
          ],
          "contour": [
           {
            "colorbar": {
             "outlinewidth": 0,
             "ticks": ""
            },
            "colorscale": [
             [
              0,
              "#0d0887"
             ],
             [
              0.1111111111111111,
              "#46039f"
             ],
             [
              0.2222222222222222,
              "#7201a8"
             ],
             [
              0.3333333333333333,
              "#9c179e"
             ],
             [
              0.4444444444444444,
              "#bd3786"
             ],
             [
              0.5555555555555556,
              "#d8576b"
             ],
             [
              0.6666666666666666,
              "#ed7953"
             ],
             [
              0.7777777777777778,
              "#fb9f3a"
             ],
             [
              0.8888888888888888,
              "#fdca26"
             ],
             [
              1,
              "#f0f921"
             ]
            ],
            "type": "contour"
           }
          ],
          "contourcarpet": [
           {
            "colorbar": {
             "outlinewidth": 0,
             "ticks": ""
            },
            "type": "contourcarpet"
           }
          ],
          "heatmap": [
           {
            "colorbar": {
             "outlinewidth": 0,
             "ticks": ""
            },
            "colorscale": [
             [
              0,
              "#0d0887"
             ],
             [
              0.1111111111111111,
              "#46039f"
             ],
             [
              0.2222222222222222,
              "#7201a8"
             ],
             [
              0.3333333333333333,
              "#9c179e"
             ],
             [
              0.4444444444444444,
              "#bd3786"
             ],
             [
              0.5555555555555556,
              "#d8576b"
             ],
             [
              0.6666666666666666,
              "#ed7953"
             ],
             [
              0.7777777777777778,
              "#fb9f3a"
             ],
             [
              0.8888888888888888,
              "#fdca26"
             ],
             [
              1,
              "#f0f921"
             ]
            ],
            "type": "heatmap"
           }
          ],
          "heatmapgl": [
           {
            "colorbar": {
             "outlinewidth": 0,
             "ticks": ""
            },
            "colorscale": [
             [
              0,
              "#0d0887"
             ],
             [
              0.1111111111111111,
              "#46039f"
             ],
             [
              0.2222222222222222,
              "#7201a8"
             ],
             [
              0.3333333333333333,
              "#9c179e"
             ],
             [
              0.4444444444444444,
              "#bd3786"
             ],
             [
              0.5555555555555556,
              "#d8576b"
             ],
             [
              0.6666666666666666,
              "#ed7953"
             ],
             [
              0.7777777777777778,
              "#fb9f3a"
             ],
             [
              0.8888888888888888,
              "#fdca26"
             ],
             [
              1,
              "#f0f921"
             ]
            ],
            "type": "heatmapgl"
           }
          ],
          "histogram": [
           {
            "marker": {
             "pattern": {
              "fillmode": "overlay",
              "size": 10,
              "solidity": 0.2
             }
            },
            "type": "histogram"
           }
          ],
          "histogram2d": [
           {
            "colorbar": {
             "outlinewidth": 0,
             "ticks": ""
            },
            "colorscale": [
             [
              0,
              "#0d0887"
             ],
             [
              0.1111111111111111,
              "#46039f"
             ],
             [
              0.2222222222222222,
              "#7201a8"
             ],
             [
              0.3333333333333333,
              "#9c179e"
             ],
             [
              0.4444444444444444,
              "#bd3786"
             ],
             [
              0.5555555555555556,
              "#d8576b"
             ],
             [
              0.6666666666666666,
              "#ed7953"
             ],
             [
              0.7777777777777778,
              "#fb9f3a"
             ],
             [
              0.8888888888888888,
              "#fdca26"
             ],
             [
              1,
              "#f0f921"
             ]
            ],
            "type": "histogram2d"
           }
          ],
          "histogram2dcontour": [
           {
            "colorbar": {
             "outlinewidth": 0,
             "ticks": ""
            },
            "colorscale": [
             [
              0,
              "#0d0887"
             ],
             [
              0.1111111111111111,
              "#46039f"
             ],
             [
              0.2222222222222222,
              "#7201a8"
             ],
             [
              0.3333333333333333,
              "#9c179e"
             ],
             [
              0.4444444444444444,
              "#bd3786"
             ],
             [
              0.5555555555555556,
              "#d8576b"
             ],
             [
              0.6666666666666666,
              "#ed7953"
             ],
             [
              0.7777777777777778,
              "#fb9f3a"
             ],
             [
              0.8888888888888888,
              "#fdca26"
             ],
             [
              1,
              "#f0f921"
             ]
            ],
            "type": "histogram2dcontour"
           }
          ],
          "mesh3d": [
           {
            "colorbar": {
             "outlinewidth": 0,
             "ticks": ""
            },
            "type": "mesh3d"
           }
          ],
          "parcoords": [
           {
            "line": {
             "colorbar": {
              "outlinewidth": 0,
              "ticks": ""
             }
            },
            "type": "parcoords"
           }
          ],
          "pie": [
           {
            "automargin": true,
            "type": "pie"
           }
          ],
          "scatter": [
           {
            "fillpattern": {
             "fillmode": "overlay",
             "size": 10,
             "solidity": 0.2
            },
            "type": "scatter"
           }
          ],
          "scatter3d": [
           {
            "line": {
             "colorbar": {
              "outlinewidth": 0,
              "ticks": ""
             }
            },
            "marker": {
             "colorbar": {
              "outlinewidth": 0,
              "ticks": ""
             }
            },
            "type": "scatter3d"
           }
          ],
          "scattercarpet": [
           {
            "marker": {
             "colorbar": {
              "outlinewidth": 0,
              "ticks": ""
             }
            },
            "type": "scattercarpet"
           }
          ],
          "scattergeo": [
           {
            "marker": {
             "colorbar": {
              "outlinewidth": 0,
              "ticks": ""
             }
            },
            "type": "scattergeo"
           }
          ],
          "scattergl": [
           {
            "marker": {
             "colorbar": {
              "outlinewidth": 0,
              "ticks": ""
             }
            },
            "type": "scattergl"
           }
          ],
          "scattermapbox": [
           {
            "marker": {
             "colorbar": {
              "outlinewidth": 0,
              "ticks": ""
             }
            },
            "type": "scattermapbox"
           }
          ],
          "scatterpolar": [
           {
            "marker": {
             "colorbar": {
              "outlinewidth": 0,
              "ticks": ""
             }
            },
            "type": "scatterpolar"
           }
          ],
          "scatterpolargl": [
           {
            "marker": {
             "colorbar": {
              "outlinewidth": 0,
              "ticks": ""
             }
            },
            "type": "scatterpolargl"
           }
          ],
          "scatterternary": [
           {
            "marker": {
             "colorbar": {
              "outlinewidth": 0,
              "ticks": ""
             }
            },
            "type": "scatterternary"
           }
          ],
          "surface": [
           {
            "colorbar": {
             "outlinewidth": 0,
             "ticks": ""
            },
            "colorscale": [
             [
              0,
              "#0d0887"
             ],
             [
              0.1111111111111111,
              "#46039f"
             ],
             [
              0.2222222222222222,
              "#7201a8"
             ],
             [
              0.3333333333333333,
              "#9c179e"
             ],
             [
              0.4444444444444444,
              "#bd3786"
             ],
             [
              0.5555555555555556,
              "#d8576b"
             ],
             [
              0.6666666666666666,
              "#ed7953"
             ],
             [
              0.7777777777777778,
              "#fb9f3a"
             ],
             [
              0.8888888888888888,
              "#fdca26"
             ],
             [
              1,
              "#f0f921"
             ]
            ],
            "type": "surface"
           }
          ],
          "table": [
           {
            "cells": {
             "fill": {
              "color": "#EBF0F8"
             },
             "line": {
              "color": "white"
             }
            },
            "header": {
             "fill": {
              "color": "#C8D4E3"
             },
             "line": {
              "color": "white"
             }
            },
            "type": "table"
           }
          ]
         },
         "layout": {
          "annotationdefaults": {
           "arrowcolor": "#2a3f5f",
           "arrowhead": 0,
           "arrowwidth": 1
          },
          "autotypenumbers": "strict",
          "coloraxis": {
           "colorbar": {
            "outlinewidth": 0,
            "ticks": ""
           }
          },
          "colorscale": {
           "diverging": [
            [
             0,
             "#8e0152"
            ],
            [
             0.1,
             "#c51b7d"
            ],
            [
             0.2,
             "#de77ae"
            ],
            [
             0.3,
             "#f1b6da"
            ],
            [
             0.4,
             "#fde0ef"
            ],
            [
             0.5,
             "#f7f7f7"
            ],
            [
             0.6,
             "#e6f5d0"
            ],
            [
             0.7,
             "#b8e186"
            ],
            [
             0.8,
             "#7fbc41"
            ],
            [
             0.9,
             "#4d9221"
            ],
            [
             1,
             "#276419"
            ]
           ],
           "sequential": [
            [
             0,
             "#0d0887"
            ],
            [
             0.1111111111111111,
             "#46039f"
            ],
            [
             0.2222222222222222,
             "#7201a8"
            ],
            [
             0.3333333333333333,
             "#9c179e"
            ],
            [
             0.4444444444444444,
             "#bd3786"
            ],
            [
             0.5555555555555556,
             "#d8576b"
            ],
            [
             0.6666666666666666,
             "#ed7953"
            ],
            [
             0.7777777777777778,
             "#fb9f3a"
            ],
            [
             0.8888888888888888,
             "#fdca26"
            ],
            [
             1,
             "#f0f921"
            ]
           ],
           "sequentialminus": [
            [
             0,
             "#0d0887"
            ],
            [
             0.1111111111111111,
             "#46039f"
            ],
            [
             0.2222222222222222,
             "#7201a8"
            ],
            [
             0.3333333333333333,
             "#9c179e"
            ],
            [
             0.4444444444444444,
             "#bd3786"
            ],
            [
             0.5555555555555556,
             "#d8576b"
            ],
            [
             0.6666666666666666,
             "#ed7953"
            ],
            [
             0.7777777777777778,
             "#fb9f3a"
            ],
            [
             0.8888888888888888,
             "#fdca26"
            ],
            [
             1,
             "#f0f921"
            ]
           ]
          },
          "colorway": [
           "#636efa",
           "#EF553B",
           "#00cc96",
           "#ab63fa",
           "#FFA15A",
           "#19d3f3",
           "#FF6692",
           "#B6E880",
           "#FF97FF",
           "#FECB52"
          ],
          "font": {
           "color": "#2a3f5f"
          },
          "geo": {
           "bgcolor": "white",
           "lakecolor": "white",
           "landcolor": "#E5ECF6",
           "showlakes": true,
           "showland": true,
           "subunitcolor": "white"
          },
          "hoverlabel": {
           "align": "left"
          },
          "hovermode": "closest",
          "mapbox": {
           "style": "light"
          },
          "paper_bgcolor": "white",
          "plot_bgcolor": "#E5ECF6",
          "polar": {
           "angularaxis": {
            "gridcolor": "white",
            "linecolor": "white",
            "ticks": ""
           },
           "bgcolor": "#E5ECF6",
           "radialaxis": {
            "gridcolor": "white",
            "linecolor": "white",
            "ticks": ""
           }
          },
          "scene": {
           "xaxis": {
            "backgroundcolor": "#E5ECF6",
            "gridcolor": "white",
            "gridwidth": 2,
            "linecolor": "white",
            "showbackground": true,
            "ticks": "",
            "zerolinecolor": "white"
           },
           "yaxis": {
            "backgroundcolor": "#E5ECF6",
            "gridcolor": "white",
            "gridwidth": 2,
            "linecolor": "white",
            "showbackground": true,
            "ticks": "",
            "zerolinecolor": "white"
           },
           "zaxis": {
            "backgroundcolor": "#E5ECF6",
            "gridcolor": "white",
            "gridwidth": 2,
            "linecolor": "white",
            "showbackground": true,
            "ticks": "",
            "zerolinecolor": "white"
           }
          },
          "shapedefaults": {
           "line": {
            "color": "#2a3f5f"
           }
          },
          "ternary": {
           "aaxis": {
            "gridcolor": "white",
            "linecolor": "white",
            "ticks": ""
           },
           "baxis": {
            "gridcolor": "white",
            "linecolor": "white",
            "ticks": ""
           },
           "bgcolor": "#E5ECF6",
           "caxis": {
            "gridcolor": "white",
            "linecolor": "white",
            "ticks": ""
           }
          },
          "title": {
           "x": 0.05
          },
          "xaxis": {
           "automargin": true,
           "gridcolor": "white",
           "linecolor": "white",
           "ticks": "",
           "title": {
            "standoff": 15
           },
           "zerolinecolor": "white",
           "zerolinewidth": 2
          },
          "yaxis": {
           "automargin": true,
           "gridcolor": "white",
           "linecolor": "white",
           "ticks": "",
           "title": {
            "standoff": 15
           },
           "zerolinecolor": "white",
           "zerolinewidth": 2
          }
         }
        },
        "xaxis": {
         "anchor": "y",
         "domain": [
          0,
          1
         ],
         "title": {
          "text": "index"
         }
        },
        "yaxis": {
         "anchor": "x",
         "domain": [
          0,
          1
         ],
         "title": {
          "text": "mean"
         }
        }
       }
      }
     },
     "metadata": {},
     "output_type": "display_data"
    },
    {
     "data": {
      "application/vnd.plotly.v1+json": {
       "config": {
        "plotlyServerURL": "https://plot.ly"
       },
       "data": [
        {
         "alignmentgroup": "True",
         "hovertemplate": "index=%{x}<br>std=%{marker.color}<extra></extra>",
         "legendgroup": "",
         "marker": {
          "color": [
           0.30975693554049377,
           0.42328940410288374,
           0.8559236305385164,
           0.9123289304314827,
           1.0078068957113058,
           1.2605979509174354
          ],
          "coloraxis": "coloraxis",
          "pattern": {
           "shape": ""
          }
         },
         "name": "",
         "offsetgroup": "",
         "orientation": "v",
         "showlegend": false,
         "textposition": "auto",
         "type": "bar",
         "x": [
          "soggetto_1",
          "soggetto_2",
          "soggetto_3",
          "soggetto_6",
          "soggetto_7",
          "soggetto_8"
         ],
         "xaxis": "x",
         "y": [
          0.30975693554049377,
          0.42328940410288374,
          0.8559236305385164,
          0.9123289304314827,
          1.0078068957113058,
          1.2605979509174354
         ],
         "yaxis": "y"
        }
       ],
       "layout": {
        "barmode": "group",
        "coloraxis": {
         "colorbar": {
          "title": {
           "text": "std"
          }
         },
         "colorscale": [
          [
           0,
           "#0d0887"
          ],
          [
           0.1111111111111111,
           "#46039f"
          ],
          [
           0.2222222222222222,
           "#7201a8"
          ],
          [
           0.3333333333333333,
           "#9c179e"
          ],
          [
           0.4444444444444444,
           "#bd3786"
          ],
          [
           0.5555555555555556,
           "#d8576b"
          ],
          [
           0.6666666666666666,
           "#ed7953"
          ],
          [
           0.7777777777777778,
           "#fb9f3a"
          ],
          [
           0.8888888888888888,
           "#fdca26"
          ],
          [
           1,
           "#f0f921"
          ]
         ]
        },
        "legend": {
         "tracegroupgap": 0
        },
        "margin": {
         "t": 60
        },
        "template": {
         "data": {
          "bar": [
           {
            "error_x": {
             "color": "#2a3f5f"
            },
            "error_y": {
             "color": "#2a3f5f"
            },
            "marker": {
             "line": {
              "color": "#E5ECF6",
              "width": 0.5
             },
             "pattern": {
              "fillmode": "overlay",
              "size": 10,
              "solidity": 0.2
             }
            },
            "type": "bar"
           }
          ],
          "barpolar": [
           {
            "marker": {
             "line": {
              "color": "#E5ECF6",
              "width": 0.5
             },
             "pattern": {
              "fillmode": "overlay",
              "size": 10,
              "solidity": 0.2
             }
            },
            "type": "barpolar"
           }
          ],
          "carpet": [
           {
            "aaxis": {
             "endlinecolor": "#2a3f5f",
             "gridcolor": "white",
             "linecolor": "white",
             "minorgridcolor": "white",
             "startlinecolor": "#2a3f5f"
            },
            "baxis": {
             "endlinecolor": "#2a3f5f",
             "gridcolor": "white",
             "linecolor": "white",
             "minorgridcolor": "white",
             "startlinecolor": "#2a3f5f"
            },
            "type": "carpet"
           }
          ],
          "choropleth": [
           {
            "colorbar": {
             "outlinewidth": 0,
             "ticks": ""
            },
            "type": "choropleth"
           }
          ],
          "contour": [
           {
            "colorbar": {
             "outlinewidth": 0,
             "ticks": ""
            },
            "colorscale": [
             [
              0,
              "#0d0887"
             ],
             [
              0.1111111111111111,
              "#46039f"
             ],
             [
              0.2222222222222222,
              "#7201a8"
             ],
             [
              0.3333333333333333,
              "#9c179e"
             ],
             [
              0.4444444444444444,
              "#bd3786"
             ],
             [
              0.5555555555555556,
              "#d8576b"
             ],
             [
              0.6666666666666666,
              "#ed7953"
             ],
             [
              0.7777777777777778,
              "#fb9f3a"
             ],
             [
              0.8888888888888888,
              "#fdca26"
             ],
             [
              1,
              "#f0f921"
             ]
            ],
            "type": "contour"
           }
          ],
          "contourcarpet": [
           {
            "colorbar": {
             "outlinewidth": 0,
             "ticks": ""
            },
            "type": "contourcarpet"
           }
          ],
          "heatmap": [
           {
            "colorbar": {
             "outlinewidth": 0,
             "ticks": ""
            },
            "colorscale": [
             [
              0,
              "#0d0887"
             ],
             [
              0.1111111111111111,
              "#46039f"
             ],
             [
              0.2222222222222222,
              "#7201a8"
             ],
             [
              0.3333333333333333,
              "#9c179e"
             ],
             [
              0.4444444444444444,
              "#bd3786"
             ],
             [
              0.5555555555555556,
              "#d8576b"
             ],
             [
              0.6666666666666666,
              "#ed7953"
             ],
             [
              0.7777777777777778,
              "#fb9f3a"
             ],
             [
              0.8888888888888888,
              "#fdca26"
             ],
             [
              1,
              "#f0f921"
             ]
            ],
            "type": "heatmap"
           }
          ],
          "heatmapgl": [
           {
            "colorbar": {
             "outlinewidth": 0,
             "ticks": ""
            },
            "colorscale": [
             [
              0,
              "#0d0887"
             ],
             [
              0.1111111111111111,
              "#46039f"
             ],
             [
              0.2222222222222222,
              "#7201a8"
             ],
             [
              0.3333333333333333,
              "#9c179e"
             ],
             [
              0.4444444444444444,
              "#bd3786"
             ],
             [
              0.5555555555555556,
              "#d8576b"
             ],
             [
              0.6666666666666666,
              "#ed7953"
             ],
             [
              0.7777777777777778,
              "#fb9f3a"
             ],
             [
              0.8888888888888888,
              "#fdca26"
             ],
             [
              1,
              "#f0f921"
             ]
            ],
            "type": "heatmapgl"
           }
          ],
          "histogram": [
           {
            "marker": {
             "pattern": {
              "fillmode": "overlay",
              "size": 10,
              "solidity": 0.2
             }
            },
            "type": "histogram"
           }
          ],
          "histogram2d": [
           {
            "colorbar": {
             "outlinewidth": 0,
             "ticks": ""
            },
            "colorscale": [
             [
              0,
              "#0d0887"
             ],
             [
              0.1111111111111111,
              "#46039f"
             ],
             [
              0.2222222222222222,
              "#7201a8"
             ],
             [
              0.3333333333333333,
              "#9c179e"
             ],
             [
              0.4444444444444444,
              "#bd3786"
             ],
             [
              0.5555555555555556,
              "#d8576b"
             ],
             [
              0.6666666666666666,
              "#ed7953"
             ],
             [
              0.7777777777777778,
              "#fb9f3a"
             ],
             [
              0.8888888888888888,
              "#fdca26"
             ],
             [
              1,
              "#f0f921"
             ]
            ],
            "type": "histogram2d"
           }
          ],
          "histogram2dcontour": [
           {
            "colorbar": {
             "outlinewidth": 0,
             "ticks": ""
            },
            "colorscale": [
             [
              0,
              "#0d0887"
             ],
             [
              0.1111111111111111,
              "#46039f"
             ],
             [
              0.2222222222222222,
              "#7201a8"
             ],
             [
              0.3333333333333333,
              "#9c179e"
             ],
             [
              0.4444444444444444,
              "#bd3786"
             ],
             [
              0.5555555555555556,
              "#d8576b"
             ],
             [
              0.6666666666666666,
              "#ed7953"
             ],
             [
              0.7777777777777778,
              "#fb9f3a"
             ],
             [
              0.8888888888888888,
              "#fdca26"
             ],
             [
              1,
              "#f0f921"
             ]
            ],
            "type": "histogram2dcontour"
           }
          ],
          "mesh3d": [
           {
            "colorbar": {
             "outlinewidth": 0,
             "ticks": ""
            },
            "type": "mesh3d"
           }
          ],
          "parcoords": [
           {
            "line": {
             "colorbar": {
              "outlinewidth": 0,
              "ticks": ""
             }
            },
            "type": "parcoords"
           }
          ],
          "pie": [
           {
            "automargin": true,
            "type": "pie"
           }
          ],
          "scatter": [
           {
            "fillpattern": {
             "fillmode": "overlay",
             "size": 10,
             "solidity": 0.2
            },
            "type": "scatter"
           }
          ],
          "scatter3d": [
           {
            "line": {
             "colorbar": {
              "outlinewidth": 0,
              "ticks": ""
             }
            },
            "marker": {
             "colorbar": {
              "outlinewidth": 0,
              "ticks": ""
             }
            },
            "type": "scatter3d"
           }
          ],
          "scattercarpet": [
           {
            "marker": {
             "colorbar": {
              "outlinewidth": 0,
              "ticks": ""
             }
            },
            "type": "scattercarpet"
           }
          ],
          "scattergeo": [
           {
            "marker": {
             "colorbar": {
              "outlinewidth": 0,
              "ticks": ""
             }
            },
            "type": "scattergeo"
           }
          ],
          "scattergl": [
           {
            "marker": {
             "colorbar": {
              "outlinewidth": 0,
              "ticks": ""
             }
            },
            "type": "scattergl"
           }
          ],
          "scattermapbox": [
           {
            "marker": {
             "colorbar": {
              "outlinewidth": 0,
              "ticks": ""
             }
            },
            "type": "scattermapbox"
           }
          ],
          "scatterpolar": [
           {
            "marker": {
             "colorbar": {
              "outlinewidth": 0,
              "ticks": ""
             }
            },
            "type": "scatterpolar"
           }
          ],
          "scatterpolargl": [
           {
            "marker": {
             "colorbar": {
              "outlinewidth": 0,
              "ticks": ""
             }
            },
            "type": "scatterpolargl"
           }
          ],
          "scatterternary": [
           {
            "marker": {
             "colorbar": {
              "outlinewidth": 0,
              "ticks": ""
             }
            },
            "type": "scatterternary"
           }
          ],
          "surface": [
           {
            "colorbar": {
             "outlinewidth": 0,
             "ticks": ""
            },
            "colorscale": [
             [
              0,
              "#0d0887"
             ],
             [
              0.1111111111111111,
              "#46039f"
             ],
             [
              0.2222222222222222,
              "#7201a8"
             ],
             [
              0.3333333333333333,
              "#9c179e"
             ],
             [
              0.4444444444444444,
              "#bd3786"
             ],
             [
              0.5555555555555556,
              "#d8576b"
             ],
             [
              0.6666666666666666,
              "#ed7953"
             ],
             [
              0.7777777777777778,
              "#fb9f3a"
             ],
             [
              0.8888888888888888,
              "#fdca26"
             ],
             [
              1,
              "#f0f921"
             ]
            ],
            "type": "surface"
           }
          ],
          "table": [
           {
            "cells": {
             "fill": {
              "color": "#EBF0F8"
             },
             "line": {
              "color": "white"
             }
            },
            "header": {
             "fill": {
              "color": "#C8D4E3"
             },
             "line": {
              "color": "white"
             }
            },
            "type": "table"
           }
          ]
         },
         "layout": {
          "annotationdefaults": {
           "arrowcolor": "#2a3f5f",
           "arrowhead": 0,
           "arrowwidth": 1
          },
          "autotypenumbers": "strict",
          "coloraxis": {
           "colorbar": {
            "outlinewidth": 0,
            "ticks": ""
           }
          },
          "colorscale": {
           "diverging": [
            [
             0,
             "#8e0152"
            ],
            [
             0.1,
             "#c51b7d"
            ],
            [
             0.2,
             "#de77ae"
            ],
            [
             0.3,
             "#f1b6da"
            ],
            [
             0.4,
             "#fde0ef"
            ],
            [
             0.5,
             "#f7f7f7"
            ],
            [
             0.6,
             "#e6f5d0"
            ],
            [
             0.7,
             "#b8e186"
            ],
            [
             0.8,
             "#7fbc41"
            ],
            [
             0.9,
             "#4d9221"
            ],
            [
             1,
             "#276419"
            ]
           ],
           "sequential": [
            [
             0,
             "#0d0887"
            ],
            [
             0.1111111111111111,
             "#46039f"
            ],
            [
             0.2222222222222222,
             "#7201a8"
            ],
            [
             0.3333333333333333,
             "#9c179e"
            ],
            [
             0.4444444444444444,
             "#bd3786"
            ],
            [
             0.5555555555555556,
             "#d8576b"
            ],
            [
             0.6666666666666666,
             "#ed7953"
            ],
            [
             0.7777777777777778,
             "#fb9f3a"
            ],
            [
             0.8888888888888888,
             "#fdca26"
            ],
            [
             1,
             "#f0f921"
            ]
           ],
           "sequentialminus": [
            [
             0,
             "#0d0887"
            ],
            [
             0.1111111111111111,
             "#46039f"
            ],
            [
             0.2222222222222222,
             "#7201a8"
            ],
            [
             0.3333333333333333,
             "#9c179e"
            ],
            [
             0.4444444444444444,
             "#bd3786"
            ],
            [
             0.5555555555555556,
             "#d8576b"
            ],
            [
             0.6666666666666666,
             "#ed7953"
            ],
            [
             0.7777777777777778,
             "#fb9f3a"
            ],
            [
             0.8888888888888888,
             "#fdca26"
            ],
            [
             1,
             "#f0f921"
            ]
           ]
          },
          "colorway": [
           "#636efa",
           "#EF553B",
           "#00cc96",
           "#ab63fa",
           "#FFA15A",
           "#19d3f3",
           "#FF6692",
           "#B6E880",
           "#FF97FF",
           "#FECB52"
          ],
          "font": {
           "color": "#2a3f5f"
          },
          "geo": {
           "bgcolor": "white",
           "lakecolor": "white",
           "landcolor": "#E5ECF6",
           "showlakes": true,
           "showland": true,
           "subunitcolor": "white"
          },
          "hoverlabel": {
           "align": "left"
          },
          "hovermode": "closest",
          "mapbox": {
           "style": "light"
          },
          "paper_bgcolor": "white",
          "plot_bgcolor": "#E5ECF6",
          "polar": {
           "angularaxis": {
            "gridcolor": "white",
            "linecolor": "white",
            "ticks": ""
           },
           "bgcolor": "#E5ECF6",
           "radialaxis": {
            "gridcolor": "white",
            "linecolor": "white",
            "ticks": ""
           }
          },
          "scene": {
           "xaxis": {
            "backgroundcolor": "#E5ECF6",
            "gridcolor": "white",
            "gridwidth": 2,
            "linecolor": "white",
            "showbackground": true,
            "ticks": "",
            "zerolinecolor": "white"
           },
           "yaxis": {
            "backgroundcolor": "#E5ECF6",
            "gridcolor": "white",
            "gridwidth": 2,
            "linecolor": "white",
            "showbackground": true,
            "ticks": "",
            "zerolinecolor": "white"
           },
           "zaxis": {
            "backgroundcolor": "#E5ECF6",
            "gridcolor": "white",
            "gridwidth": 2,
            "linecolor": "white",
            "showbackground": true,
            "ticks": "",
            "zerolinecolor": "white"
           }
          },
          "shapedefaults": {
           "line": {
            "color": "#2a3f5f"
           }
          },
          "ternary": {
           "aaxis": {
            "gridcolor": "white",
            "linecolor": "white",
            "ticks": ""
           },
           "baxis": {
            "gridcolor": "white",
            "linecolor": "white",
            "ticks": ""
           },
           "bgcolor": "#E5ECF6",
           "caxis": {
            "gridcolor": "white",
            "linecolor": "white",
            "ticks": ""
           }
          },
          "title": {
           "x": 0.05
          },
          "xaxis": {
           "automargin": true,
           "gridcolor": "white",
           "linecolor": "white",
           "ticks": "",
           "title": {
            "standoff": 15
           },
           "zerolinecolor": "white",
           "zerolinewidth": 2
          },
          "yaxis": {
           "automargin": true,
           "gridcolor": "white",
           "linecolor": "white",
           "ticks": "",
           "title": {
            "standoff": 15
           },
           "zerolinecolor": "white",
           "zerolinewidth": 2
          }
         }
        },
        "xaxis": {
         "anchor": "y",
         "domain": [
          0,
          1
         ],
         "title": {
          "text": "index"
         }
        },
        "yaxis": {
         "anchor": "x",
         "domain": [
          0,
          1
         ],
         "title": {
          "text": "std"
         }
        }
       }
      }
     },
     "metadata": {},
     "output_type": "display_data"
    }
   ],
   "source": [
    "# plot means and stds\n",
    "fig = px.bar(df_std_mean_weights, x=df_std_mean_weights.index, y=\"mean\", color=\"mean\", barmode=\"group\")\n",
    "fig.show()\n",
    "\n",
    "fig = px.bar(df_std_mean_weights, x=df_std_mean_weights.index, y=\"std\", color=\"std\", barmode=\"group\")\n",
    "fig.show()"
   ]
  },
  {
   "cell_type": "code",
   "execution_count": 1177,
   "metadata": {},
   "outputs": [],
   "source": [
    "# sum by column axis = 0\n",
    "# sum by row axis = 1\n",
    "\n",
    "# divide by column axis = 1\n",
    "# divide by row axis = 0"
   ]
  },
  {
   "cell_type": "code",
   "execution_count": 1178,
   "metadata": {},
   "outputs": [],
   "source": [
    "# given that each row rappresent the weight that connect the hidden node i with the output node j\n",
    "\n",
    "# sum by row (axis = 1) and divide by the sum of the row (axis = 0) "
   ]
  },
  {
   "cell_type": "code",
   "execution_count": 1179,
   "metadata": {},
   "outputs": [],
   "source": [
    "ax_somma = 1\n",
    "ax_division = 0"
   ]
  },
  {
   "cell_type": "code",
   "execution_count": 1180,
   "metadata": {},
   "outputs": [],
   "source": [
    "# for each subject's dataframe create two numpy arrays, one with positive values and one for negatives\n",
    "df_ecc_dict = {}\n",
    "df_ini_dict = {}\n",
    "for subject in subjects:\n",
    "    df_ecc_dict[subject] = df_o_dict[subject].where(df_o_dict[subject] >= 0)\n",
    "    df_ini_dict[subject] = df_o_dict[subject].where(df_o_dict[subject] < 0)\n",
    "    # put the other values to zeros\n",
    "    df_ecc_dict[subject] = df_ecc_dict[subject].fillna(0)\n",
    "    df_ini_dict[subject] = df_ini_dict[subject].fillna(0)\n",
    "    # transform the negative values of df_n_dict[subject] in positives\n",
    "    df_ini_dict[subject] = df_ini_dict[subject] * (-1)\n",
    "    #trasform each dataframe in a stochastic matrix by row (the sum of each row must be equal to 1)\n",
    "    # divide every row for the sum of the row except for the zeros\n",
    "    df_ecc_dict[subject] = df_ecc_dict[subject].div(df_ecc_dict[subject].sum(axis=ax_somma), axis=ax_division)\n",
    "    df_ini_dict[subject] = df_ini_dict[subject].div(df_ini_dict[subject].sum(axis=ax_somma), axis=ax_division)\n",
    "    df_ecc_dict[subject] = df_ecc_dict[subject].fillna(0)\n",
    "    df_ini_dict[subject] = df_ini_dict[subject].fillna(0)"
   ]
  },
  {
   "cell_type": "code",
   "execution_count": 1181,
   "metadata": {},
   "outputs": [
    {
     "data": {
      "text/html": [
       "<div>\n",
       "<style scoped>\n",
       "    .dataframe tbody tr th:only-of-type {\n",
       "        vertical-align: middle;\n",
       "    }\n",
       "\n",
       "    .dataframe tbody tr th {\n",
       "        vertical-align: top;\n",
       "    }\n",
       "\n",
       "    .dataframe thead th {\n",
       "        text-align: right;\n",
       "    }\n",
       "</style>\n",
       "<table border=\"1\" class=\"dataframe\">\n",
       "  <thead>\n",
       "    <tr style=\"text-align: right;\">\n",
       "      <th></th>\n",
       "      <th>TrRi</th>\n",
       "      <th>RiTr</th>\n",
       "      <th>Plu</th>\n",
       "      <th>Ttra</th>\n",
       "      <th>Ttrb</th>\n",
       "      <th>Tr</th>\n",
       "      <th>MeTr</th>\n",
       "      <th>MoTr</th>\n",
       "      <th>RiRi</th>\n",
       "      <th>MoFo</th>\n",
       "      <th>Mmof</th>\n",
       "      <th>MoRi</th>\n",
       "      <th>MeRi</th>\n",
       "      <th>Ri</th>\n",
       "      <th>Comp</th>\n",
       "    </tr>\n",
       "  </thead>\n",
       "  <tbody>\n",
       "    <tr>\n",
       "      <th>TrRi</th>\n",
       "      <td>0.000000</td>\n",
       "      <td>0.000000</td>\n",
       "      <td>0.000000</td>\n",
       "      <td>0.000000</td>\n",
       "      <td>0.000000</td>\n",
       "      <td>0.000000</td>\n",
       "      <td>0.000000</td>\n",
       "      <td>0.000000</td>\n",
       "      <td>0.000000</td>\n",
       "      <td>0.000000</td>\n",
       "      <td>0.000000</td>\n",
       "      <td>0.000000</td>\n",
       "      <td>0.000000</td>\n",
       "      <td>0.000000</td>\n",
       "      <td>0.000000</td>\n",
       "    </tr>\n",
       "    <tr>\n",
       "      <th>RiTr</th>\n",
       "      <td>0.000000</td>\n",
       "      <td>0.000000</td>\n",
       "      <td>0.000000</td>\n",
       "      <td>0.000000</td>\n",
       "      <td>0.000000</td>\n",
       "      <td>0.000000</td>\n",
       "      <td>0.000000</td>\n",
       "      <td>0.000000</td>\n",
       "      <td>0.300433</td>\n",
       "      <td>0.000000</td>\n",
       "      <td>0.220197</td>\n",
       "      <td>0.000000</td>\n",
       "      <td>0.000000</td>\n",
       "      <td>0.000000</td>\n",
       "      <td>0.479370</td>\n",
       "    </tr>\n",
       "    <tr>\n",
       "      <th>Plu</th>\n",
       "      <td>0.141330</td>\n",
       "      <td>0.068499</td>\n",
       "      <td>0.000000</td>\n",
       "      <td>0.191356</td>\n",
       "      <td>0.000000</td>\n",
       "      <td>0.000000</td>\n",
       "      <td>0.000000</td>\n",
       "      <td>0.222236</td>\n",
       "      <td>0.111718</td>\n",
       "      <td>0.045692</td>\n",
       "      <td>0.030546</td>\n",
       "      <td>0.000000</td>\n",
       "      <td>0.061955</td>\n",
       "      <td>0.126669</td>\n",
       "      <td>0.000000</td>\n",
       "    </tr>\n",
       "    <tr>\n",
       "      <th>Ttra</th>\n",
       "      <td>0.044047</td>\n",
       "      <td>0.116359</td>\n",
       "      <td>0.120623</td>\n",
       "      <td>0.025406</td>\n",
       "      <td>0.000000</td>\n",
       "      <td>0.058547</td>\n",
       "      <td>0.112020</td>\n",
       "      <td>0.028590</td>\n",
       "      <td>0.178403</td>\n",
       "      <td>0.038028</td>\n",
       "      <td>0.121651</td>\n",
       "      <td>0.156325</td>\n",
       "      <td>0.000000</td>\n",
       "      <td>0.000000</td>\n",
       "      <td>0.000000</td>\n",
       "    </tr>\n",
       "    <tr>\n",
       "      <th>Ttrb</th>\n",
       "      <td>0.053486</td>\n",
       "      <td>0.027398</td>\n",
       "      <td>0.073943</td>\n",
       "      <td>0.023070</td>\n",
       "      <td>0.125523</td>\n",
       "      <td>0.031310</td>\n",
       "      <td>0.208162</td>\n",
       "      <td>0.059976</td>\n",
       "      <td>0.063290</td>\n",
       "      <td>0.042127</td>\n",
       "      <td>0.072757</td>\n",
       "      <td>0.085296</td>\n",
       "      <td>0.000000</td>\n",
       "      <td>0.000000</td>\n",
       "      <td>0.133662</td>\n",
       "    </tr>\n",
       "    <tr>\n",
       "      <th>Tr</th>\n",
       "      <td>0.000000</td>\n",
       "      <td>0.143832</td>\n",
       "      <td>0.044084</td>\n",
       "      <td>0.074379</td>\n",
       "      <td>0.075480</td>\n",
       "      <td>0.081354</td>\n",
       "      <td>0.000000</td>\n",
       "      <td>0.126570</td>\n",
       "      <td>0.109110</td>\n",
       "      <td>0.156546</td>\n",
       "      <td>0.135773</td>\n",
       "      <td>0.019595</td>\n",
       "      <td>0.000000</td>\n",
       "      <td>0.000000</td>\n",
       "      <td>0.033276</td>\n",
       "    </tr>\n",
       "    <tr>\n",
       "      <th>MeTr</th>\n",
       "      <td>0.138627</td>\n",
       "      <td>0.000000</td>\n",
       "      <td>0.041188</td>\n",
       "      <td>0.000000</td>\n",
       "      <td>0.000000</td>\n",
       "      <td>0.000000</td>\n",
       "      <td>0.184181</td>\n",
       "      <td>0.000000</td>\n",
       "      <td>0.126920</td>\n",
       "      <td>0.000000</td>\n",
       "      <td>0.016829</td>\n",
       "      <td>0.132695</td>\n",
       "      <td>0.000000</td>\n",
       "      <td>0.161537</td>\n",
       "      <td>0.198024</td>\n",
       "    </tr>\n",
       "    <tr>\n",
       "      <th>MoTr</th>\n",
       "      <td>0.000000</td>\n",
       "      <td>0.000000</td>\n",
       "      <td>0.134856</td>\n",
       "      <td>0.162894</td>\n",
       "      <td>0.000000</td>\n",
       "      <td>0.024842</td>\n",
       "      <td>0.393710</td>\n",
       "      <td>0.000000</td>\n",
       "      <td>0.000000</td>\n",
       "      <td>0.283698</td>\n",
       "      <td>0.000000</td>\n",
       "      <td>0.000000</td>\n",
       "      <td>0.000000</td>\n",
       "      <td>0.000000</td>\n",
       "      <td>0.000000</td>\n",
       "    </tr>\n",
       "    <tr>\n",
       "      <th>RiRi</th>\n",
       "      <td>0.000000</td>\n",
       "      <td>0.000000</td>\n",
       "      <td>0.000000</td>\n",
       "      <td>0.000000</td>\n",
       "      <td>0.550647</td>\n",
       "      <td>0.000000</td>\n",
       "      <td>0.000000</td>\n",
       "      <td>0.000000</td>\n",
       "      <td>0.000000</td>\n",
       "      <td>0.000000</td>\n",
       "      <td>0.000000</td>\n",
       "      <td>0.000000</td>\n",
       "      <td>0.449353</td>\n",
       "      <td>0.000000</td>\n",
       "      <td>0.000000</td>\n",
       "    </tr>\n",
       "    <tr>\n",
       "      <th>MoFo</th>\n",
       "      <td>0.072717</td>\n",
       "      <td>0.064571</td>\n",
       "      <td>0.099893</td>\n",
       "      <td>0.171231</td>\n",
       "      <td>0.022233</td>\n",
       "      <td>0.115747</td>\n",
       "      <td>0.024517</td>\n",
       "      <td>0.075075</td>\n",
       "      <td>0.005323</td>\n",
       "      <td>0.132043</td>\n",
       "      <td>0.002323</td>\n",
       "      <td>0.018614</td>\n",
       "      <td>0.023298</td>\n",
       "      <td>0.172413</td>\n",
       "      <td>0.000000</td>\n",
       "    </tr>\n",
       "    <tr>\n",
       "      <th>Mmof</th>\n",
       "      <td>0.042149</td>\n",
       "      <td>0.028489</td>\n",
       "      <td>0.097642</td>\n",
       "      <td>0.067328</td>\n",
       "      <td>0.167891</td>\n",
       "      <td>0.074473</td>\n",
       "      <td>0.000000</td>\n",
       "      <td>0.040844</td>\n",
       "      <td>0.060450</td>\n",
       "      <td>0.077508</td>\n",
       "      <td>0.055185</td>\n",
       "      <td>0.052276</td>\n",
       "      <td>0.168484</td>\n",
       "      <td>0.052262</td>\n",
       "      <td>0.015018</td>\n",
       "    </tr>\n",
       "    <tr>\n",
       "      <th>MoRi</th>\n",
       "      <td>0.000000</td>\n",
       "      <td>0.000000</td>\n",
       "      <td>0.000000</td>\n",
       "      <td>0.266028</td>\n",
       "      <td>0.000000</td>\n",
       "      <td>0.000000</td>\n",
       "      <td>0.469122</td>\n",
       "      <td>0.000000</td>\n",
       "      <td>0.122764</td>\n",
       "      <td>0.000000</td>\n",
       "      <td>0.000000</td>\n",
       "      <td>0.000000</td>\n",
       "      <td>0.014896</td>\n",
       "      <td>0.000000</td>\n",
       "      <td>0.127190</td>\n",
       "    </tr>\n",
       "    <tr>\n",
       "      <th>MeRi</th>\n",
       "      <td>0.246637</td>\n",
       "      <td>0.218137</td>\n",
       "      <td>0.000000</td>\n",
       "      <td>0.086876</td>\n",
       "      <td>0.202036</td>\n",
       "      <td>0.000000</td>\n",
       "      <td>0.135924</td>\n",
       "      <td>0.000000</td>\n",
       "      <td>0.000000</td>\n",
       "      <td>0.000000</td>\n",
       "      <td>0.000000</td>\n",
       "      <td>0.000000</td>\n",
       "      <td>0.000000</td>\n",
       "      <td>0.000000</td>\n",
       "      <td>0.110390</td>\n",
       "    </tr>\n",
       "    <tr>\n",
       "      <th>Ri</th>\n",
       "      <td>0.074116</td>\n",
       "      <td>0.022609</td>\n",
       "      <td>0.108520</td>\n",
       "      <td>0.206661</td>\n",
       "      <td>0.000000</td>\n",
       "      <td>0.000000</td>\n",
       "      <td>0.000000</td>\n",
       "      <td>0.144375</td>\n",
       "      <td>0.085806</td>\n",
       "      <td>0.068527</td>\n",
       "      <td>0.073820</td>\n",
       "      <td>0.171463</td>\n",
       "      <td>0.000000</td>\n",
       "      <td>0.044105</td>\n",
       "      <td>0.000000</td>\n",
       "    </tr>\n",
       "    <tr>\n",
       "      <th>Comp</th>\n",
       "      <td>0.000000</td>\n",
       "      <td>0.000000</td>\n",
       "      <td>0.000000</td>\n",
       "      <td>0.055299</td>\n",
       "      <td>0.173307</td>\n",
       "      <td>0.010849</td>\n",
       "      <td>0.640750</td>\n",
       "      <td>0.000000</td>\n",
       "      <td>0.000000</td>\n",
       "      <td>0.108489</td>\n",
       "      <td>0.000000</td>\n",
       "      <td>0.000000</td>\n",
       "      <td>0.011305</td>\n",
       "      <td>0.000000</td>\n",
       "      <td>0.000000</td>\n",
       "    </tr>\n",
       "  </tbody>\n",
       "</table>\n",
       "</div>"
      ],
      "text/plain": [
       "          TrRi      RiTr       Plu      Ttra      Ttrb        Tr      MeTr  \\\n",
       "TrRi  0.000000  0.000000  0.000000  0.000000  0.000000  0.000000  0.000000   \n",
       "RiTr  0.000000  0.000000  0.000000  0.000000  0.000000  0.000000  0.000000   \n",
       "Plu   0.141330  0.068499  0.000000  0.191356  0.000000  0.000000  0.000000   \n",
       "Ttra  0.044047  0.116359  0.120623  0.025406  0.000000  0.058547  0.112020   \n",
       "Ttrb  0.053486  0.027398  0.073943  0.023070  0.125523  0.031310  0.208162   \n",
       "Tr    0.000000  0.143832  0.044084  0.074379  0.075480  0.081354  0.000000   \n",
       "MeTr  0.138627  0.000000  0.041188  0.000000  0.000000  0.000000  0.184181   \n",
       "MoTr  0.000000  0.000000  0.134856  0.162894  0.000000  0.024842  0.393710   \n",
       "RiRi  0.000000  0.000000  0.000000  0.000000  0.550647  0.000000  0.000000   \n",
       "MoFo  0.072717  0.064571  0.099893  0.171231  0.022233  0.115747  0.024517   \n",
       "Mmof  0.042149  0.028489  0.097642  0.067328  0.167891  0.074473  0.000000   \n",
       "MoRi  0.000000  0.000000  0.000000  0.266028  0.000000  0.000000  0.469122   \n",
       "MeRi  0.246637  0.218137  0.000000  0.086876  0.202036  0.000000  0.135924   \n",
       "Ri    0.074116  0.022609  0.108520  0.206661  0.000000  0.000000  0.000000   \n",
       "Comp  0.000000  0.000000  0.000000  0.055299  0.173307  0.010849  0.640750   \n",
       "\n",
       "          MoTr      RiRi      MoFo      Mmof      MoRi      MeRi        Ri  \\\n",
       "TrRi  0.000000  0.000000  0.000000  0.000000  0.000000  0.000000  0.000000   \n",
       "RiTr  0.000000  0.300433  0.000000  0.220197  0.000000  0.000000  0.000000   \n",
       "Plu   0.222236  0.111718  0.045692  0.030546  0.000000  0.061955  0.126669   \n",
       "Ttra  0.028590  0.178403  0.038028  0.121651  0.156325  0.000000  0.000000   \n",
       "Ttrb  0.059976  0.063290  0.042127  0.072757  0.085296  0.000000  0.000000   \n",
       "Tr    0.126570  0.109110  0.156546  0.135773  0.019595  0.000000  0.000000   \n",
       "MeTr  0.000000  0.126920  0.000000  0.016829  0.132695  0.000000  0.161537   \n",
       "MoTr  0.000000  0.000000  0.283698  0.000000  0.000000  0.000000  0.000000   \n",
       "RiRi  0.000000  0.000000  0.000000  0.000000  0.000000  0.449353  0.000000   \n",
       "MoFo  0.075075  0.005323  0.132043  0.002323  0.018614  0.023298  0.172413   \n",
       "Mmof  0.040844  0.060450  0.077508  0.055185  0.052276  0.168484  0.052262   \n",
       "MoRi  0.000000  0.122764  0.000000  0.000000  0.000000  0.014896  0.000000   \n",
       "MeRi  0.000000  0.000000  0.000000  0.000000  0.000000  0.000000  0.000000   \n",
       "Ri    0.144375  0.085806  0.068527  0.073820  0.171463  0.000000  0.044105   \n",
       "Comp  0.000000  0.000000  0.108489  0.000000  0.000000  0.011305  0.000000   \n",
       "\n",
       "          Comp  \n",
       "TrRi  0.000000  \n",
       "RiTr  0.479370  \n",
       "Plu   0.000000  \n",
       "Ttra  0.000000  \n",
       "Ttrb  0.133662  \n",
       "Tr    0.033276  \n",
       "MeTr  0.198024  \n",
       "MoTr  0.000000  \n",
       "RiRi  0.000000  \n",
       "MoFo  0.000000  \n",
       "Mmof  0.015018  \n",
       "MoRi  0.127190  \n",
       "MeRi  0.110390  \n",
       "Ri    0.000000  \n",
       "Comp  0.000000  "
      ]
     },
     "execution_count": 1181,
     "metadata": {},
     "output_type": "execute_result"
    }
   ],
   "source": [
    "df_ecc_dict[\"soggetto_1\"]"
   ]
  },
  {
   "cell_type": "code",
   "execution_count": 1182,
   "metadata": {},
   "outputs": [
    {
     "data": {
      "text/html": [
       "<div>\n",
       "<style scoped>\n",
       "    .dataframe tbody tr th:only-of-type {\n",
       "        vertical-align: middle;\n",
       "    }\n",
       "\n",
       "    .dataframe tbody tr th {\n",
       "        vertical-align: top;\n",
       "    }\n",
       "\n",
       "    .dataframe thead th {\n",
       "        text-align: right;\n",
       "    }\n",
       "</style>\n",
       "<table border=\"1\" class=\"dataframe\">\n",
       "  <thead>\n",
       "    <tr style=\"text-align: right;\">\n",
       "      <th></th>\n",
       "      <th>TrRi</th>\n",
       "      <th>RiTr</th>\n",
       "      <th>Plu</th>\n",
       "      <th>Ttra</th>\n",
       "      <th>Ttrb</th>\n",
       "      <th>Tr</th>\n",
       "      <th>MeTr</th>\n",
       "      <th>MoTr</th>\n",
       "      <th>RiRi</th>\n",
       "      <th>MoFo</th>\n",
       "      <th>Mmof</th>\n",
       "      <th>MoRi</th>\n",
       "      <th>MeRi</th>\n",
       "      <th>Ri</th>\n",
       "      <th>Comp</th>\n",
       "    </tr>\n",
       "  </thead>\n",
       "  <tbody>\n",
       "    <tr>\n",
       "      <th>TrRi</th>\n",
       "      <td>0.129356</td>\n",
       "      <td>0.126160</td>\n",
       "      <td>0.000536</td>\n",
       "      <td>0.079857</td>\n",
       "      <td>0.048321</td>\n",
       "      <td>0.053672</td>\n",
       "      <td>0.039905</td>\n",
       "      <td>0.112061</td>\n",
       "      <td>0.052219</td>\n",
       "      <td>0.052667</td>\n",
       "      <td>0.079965</td>\n",
       "      <td>0.063651</td>\n",
       "      <td>0.022308</td>\n",
       "      <td>0.094491</td>\n",
       "      <td>0.044831</td>\n",
       "    </tr>\n",
       "    <tr>\n",
       "      <th>RiTr</th>\n",
       "      <td>0.088011</td>\n",
       "      <td>0.075913</td>\n",
       "      <td>0.093495</td>\n",
       "      <td>0.160777</td>\n",
       "      <td>0.012891</td>\n",
       "      <td>0.094117</td>\n",
       "      <td>0.014314</td>\n",
       "      <td>0.076746</td>\n",
       "      <td>-0.000000</td>\n",
       "      <td>0.101294</td>\n",
       "      <td>-0.000000</td>\n",
       "      <td>0.023789</td>\n",
       "      <td>0.117113</td>\n",
       "      <td>0.141540</td>\n",
       "      <td>-0.000000</td>\n",
       "    </tr>\n",
       "    <tr>\n",
       "      <th>Plu</th>\n",
       "      <td>-0.000000</td>\n",
       "      <td>-0.000000</td>\n",
       "      <td>0.134916</td>\n",
       "      <td>-0.000000</td>\n",
       "      <td>0.252371</td>\n",
       "      <td>0.015732</td>\n",
       "      <td>0.298003</td>\n",
       "      <td>-0.000000</td>\n",
       "      <td>-0.000000</td>\n",
       "      <td>-0.000000</td>\n",
       "      <td>-0.000000</td>\n",
       "      <td>0.094027</td>\n",
       "      <td>-0.000000</td>\n",
       "      <td>-0.000000</td>\n",
       "      <td>0.204950</td>\n",
       "    </tr>\n",
       "    <tr>\n",
       "      <th>Ttra</th>\n",
       "      <td>-0.000000</td>\n",
       "      <td>-0.000000</td>\n",
       "      <td>-0.000000</td>\n",
       "      <td>-0.000000</td>\n",
       "      <td>0.171114</td>\n",
       "      <td>-0.000000</td>\n",
       "      <td>-0.000000</td>\n",
       "      <td>-0.000000</td>\n",
       "      <td>-0.000000</td>\n",
       "      <td>-0.000000</td>\n",
       "      <td>-0.000000</td>\n",
       "      <td>-0.000000</td>\n",
       "      <td>0.224762</td>\n",
       "      <td>0.017520</td>\n",
       "      <td>0.586604</td>\n",
       "    </tr>\n",
       "    <tr>\n",
       "      <th>Ttrb</th>\n",
       "      <td>-0.000000</td>\n",
       "      <td>-0.000000</td>\n",
       "      <td>-0.000000</td>\n",
       "      <td>-0.000000</td>\n",
       "      <td>-0.000000</td>\n",
       "      <td>-0.000000</td>\n",
       "      <td>-0.000000</td>\n",
       "      <td>-0.000000</td>\n",
       "      <td>-0.000000</td>\n",
       "      <td>-0.000000</td>\n",
       "      <td>-0.000000</td>\n",
       "      <td>-0.000000</td>\n",
       "      <td>0.425378</td>\n",
       "      <td>0.574622</td>\n",
       "      <td>-0.000000</td>\n",
       "    </tr>\n",
       "    <tr>\n",
       "      <th>Tr</th>\n",
       "      <td>0.112116</td>\n",
       "      <td>-0.000000</td>\n",
       "      <td>-0.000000</td>\n",
       "      <td>-0.000000</td>\n",
       "      <td>-0.000000</td>\n",
       "      <td>-0.000000</td>\n",
       "      <td>0.164980</td>\n",
       "      <td>-0.000000</td>\n",
       "      <td>-0.000000</td>\n",
       "      <td>-0.000000</td>\n",
       "      <td>-0.000000</td>\n",
       "      <td>-0.000000</td>\n",
       "      <td>0.397656</td>\n",
       "      <td>0.325249</td>\n",
       "      <td>-0.000000</td>\n",
       "    </tr>\n",
       "    <tr>\n",
       "      <th>MeTr</th>\n",
       "      <td>-0.000000</td>\n",
       "      <td>0.108908</td>\n",
       "      <td>-0.000000</td>\n",
       "      <td>0.070786</td>\n",
       "      <td>0.059980</td>\n",
       "      <td>0.074708</td>\n",
       "      <td>-0.000000</td>\n",
       "      <td>0.134291</td>\n",
       "      <td>-0.000000</td>\n",
       "      <td>0.322464</td>\n",
       "      <td>-0.000000</td>\n",
       "      <td>-0.000000</td>\n",
       "      <td>0.228864</td>\n",
       "      <td>-0.000000</td>\n",
       "      <td>-0.000000</td>\n",
       "    </tr>\n",
       "    <tr>\n",
       "      <th>MoTr</th>\n",
       "      <td>0.199449</td>\n",
       "      <td>0.067103</td>\n",
       "      <td>-0.000000</td>\n",
       "      <td>-0.000000</td>\n",
       "      <td>0.114285</td>\n",
       "      <td>-0.000000</td>\n",
       "      <td>-0.000000</td>\n",
       "      <td>0.102982</td>\n",
       "      <td>0.114496</td>\n",
       "      <td>-0.000000</td>\n",
       "      <td>0.019929</td>\n",
       "      <td>0.078155</td>\n",
       "      <td>0.147158</td>\n",
       "      <td>0.073614</td>\n",
       "      <td>0.082829</td>\n",
       "    </tr>\n",
       "    <tr>\n",
       "      <th>RiRi</th>\n",
       "      <td>0.034554</td>\n",
       "      <td>0.122847</td>\n",
       "      <td>0.073274</td>\n",
       "      <td>0.007991</td>\n",
       "      <td>-0.000000</td>\n",
       "      <td>0.085795</td>\n",
       "      <td>0.135783</td>\n",
       "      <td>0.109489</td>\n",
       "      <td>0.047132</td>\n",
       "      <td>0.077719</td>\n",
       "      <td>0.051299</td>\n",
       "      <td>0.124058</td>\n",
       "      <td>-0.000000</td>\n",
       "      <td>0.067547</td>\n",
       "      <td>0.062511</td>\n",
       "    </tr>\n",
       "    <tr>\n",
       "      <th>MoFo</th>\n",
       "      <td>-0.000000</td>\n",
       "      <td>-0.000000</td>\n",
       "      <td>-0.000000</td>\n",
       "      <td>-0.000000</td>\n",
       "      <td>-0.000000</td>\n",
       "      <td>-0.000000</td>\n",
       "      <td>-0.000000</td>\n",
       "      <td>-0.000000</td>\n",
       "      <td>-0.000000</td>\n",
       "      <td>-0.000000</td>\n",
       "      <td>-0.000000</td>\n",
       "      <td>-0.000000</td>\n",
       "      <td>-0.000000</td>\n",
       "      <td>-0.000000</td>\n",
       "      <td>1.000000</td>\n",
       "    </tr>\n",
       "    <tr>\n",
       "      <th>Mmof</th>\n",
       "      <td>-0.000000</td>\n",
       "      <td>-0.000000</td>\n",
       "      <td>-0.000000</td>\n",
       "      <td>-0.000000</td>\n",
       "      <td>-0.000000</td>\n",
       "      <td>-0.000000</td>\n",
       "      <td>1.000000</td>\n",
       "      <td>-0.000000</td>\n",
       "      <td>-0.000000</td>\n",
       "      <td>-0.000000</td>\n",
       "      <td>-0.000000</td>\n",
       "      <td>-0.000000</td>\n",
       "      <td>-0.000000</td>\n",
       "      <td>-0.000000</td>\n",
       "      <td>-0.000000</td>\n",
       "    </tr>\n",
       "    <tr>\n",
       "      <th>MoRi</th>\n",
       "      <td>0.217482</td>\n",
       "      <td>0.005033</td>\n",
       "      <td>0.109798</td>\n",
       "      <td>-0.000000</td>\n",
       "      <td>0.031750</td>\n",
       "      <td>0.138858</td>\n",
       "      <td>-0.000000</td>\n",
       "      <td>0.065836</td>\n",
       "      <td>-0.000000</td>\n",
       "      <td>0.050416</td>\n",
       "      <td>0.151166</td>\n",
       "      <td>0.159340</td>\n",
       "      <td>-0.000000</td>\n",
       "      <td>0.070321</td>\n",
       "      <td>-0.000000</td>\n",
       "    </tr>\n",
       "    <tr>\n",
       "      <th>MeRi</th>\n",
       "      <td>-0.000000</td>\n",
       "      <td>-0.000000</td>\n",
       "      <td>0.202046</td>\n",
       "      <td>-0.000000</td>\n",
       "      <td>-0.000000</td>\n",
       "      <td>0.057036</td>\n",
       "      <td>-0.000000</td>\n",
       "      <td>0.063469</td>\n",
       "      <td>0.209906</td>\n",
       "      <td>0.041847</td>\n",
       "      <td>0.091548</td>\n",
       "      <td>0.169736</td>\n",
       "      <td>0.163974</td>\n",
       "      <td>0.000438</td>\n",
       "      <td>-0.000000</td>\n",
       "    </tr>\n",
       "    <tr>\n",
       "      <th>Ri</th>\n",
       "      <td>-0.000000</td>\n",
       "      <td>-0.000000</td>\n",
       "      <td>-0.000000</td>\n",
       "      <td>-0.000000</td>\n",
       "      <td>0.286329</td>\n",
       "      <td>0.018718</td>\n",
       "      <td>0.285913</td>\n",
       "      <td>-0.000000</td>\n",
       "      <td>-0.000000</td>\n",
       "      <td>-0.000000</td>\n",
       "      <td>-0.000000</td>\n",
       "      <td>-0.000000</td>\n",
       "      <td>0.186210</td>\n",
       "      <td>-0.000000</td>\n",
       "      <td>0.222830</td>\n",
       "    </tr>\n",
       "    <tr>\n",
       "      <th>Comp</th>\n",
       "      <td>0.096312</td>\n",
       "      <td>0.073975</td>\n",
       "      <td>0.023279</td>\n",
       "      <td>-0.000000</td>\n",
       "      <td>-0.000000</td>\n",
       "      <td>-0.000000</td>\n",
       "      <td>-0.000000</td>\n",
       "      <td>0.139374</td>\n",
       "      <td>0.119048</td>\n",
       "      <td>-0.000000</td>\n",
       "      <td>0.056059</td>\n",
       "      <td>0.200640</td>\n",
       "      <td>-0.000000</td>\n",
       "      <td>0.091914</td>\n",
       "      <td>0.199398</td>\n",
       "    </tr>\n",
       "  </tbody>\n",
       "</table>\n",
       "</div>"
      ],
      "text/plain": [
       "          TrRi      RiTr       Plu      Ttra      Ttrb        Tr      MeTr  \\\n",
       "TrRi  0.129356  0.126160  0.000536  0.079857  0.048321  0.053672  0.039905   \n",
       "RiTr  0.088011  0.075913  0.093495  0.160777  0.012891  0.094117  0.014314   \n",
       "Plu  -0.000000 -0.000000  0.134916 -0.000000  0.252371  0.015732  0.298003   \n",
       "Ttra -0.000000 -0.000000 -0.000000 -0.000000  0.171114 -0.000000 -0.000000   \n",
       "Ttrb -0.000000 -0.000000 -0.000000 -0.000000 -0.000000 -0.000000 -0.000000   \n",
       "Tr    0.112116 -0.000000 -0.000000 -0.000000 -0.000000 -0.000000  0.164980   \n",
       "MeTr -0.000000  0.108908 -0.000000  0.070786  0.059980  0.074708 -0.000000   \n",
       "MoTr  0.199449  0.067103 -0.000000 -0.000000  0.114285 -0.000000 -0.000000   \n",
       "RiRi  0.034554  0.122847  0.073274  0.007991 -0.000000  0.085795  0.135783   \n",
       "MoFo -0.000000 -0.000000 -0.000000 -0.000000 -0.000000 -0.000000 -0.000000   \n",
       "Mmof -0.000000 -0.000000 -0.000000 -0.000000 -0.000000 -0.000000  1.000000   \n",
       "MoRi  0.217482  0.005033  0.109798 -0.000000  0.031750  0.138858 -0.000000   \n",
       "MeRi -0.000000 -0.000000  0.202046 -0.000000 -0.000000  0.057036 -0.000000   \n",
       "Ri   -0.000000 -0.000000 -0.000000 -0.000000  0.286329  0.018718  0.285913   \n",
       "Comp  0.096312  0.073975  0.023279 -0.000000 -0.000000 -0.000000 -0.000000   \n",
       "\n",
       "          MoTr      RiRi      MoFo      Mmof      MoRi      MeRi        Ri  \\\n",
       "TrRi  0.112061  0.052219  0.052667  0.079965  0.063651  0.022308  0.094491   \n",
       "RiTr  0.076746 -0.000000  0.101294 -0.000000  0.023789  0.117113  0.141540   \n",
       "Plu  -0.000000 -0.000000 -0.000000 -0.000000  0.094027 -0.000000 -0.000000   \n",
       "Ttra -0.000000 -0.000000 -0.000000 -0.000000 -0.000000  0.224762  0.017520   \n",
       "Ttrb -0.000000 -0.000000 -0.000000 -0.000000 -0.000000  0.425378  0.574622   \n",
       "Tr   -0.000000 -0.000000 -0.000000 -0.000000 -0.000000  0.397656  0.325249   \n",
       "MeTr  0.134291 -0.000000  0.322464 -0.000000 -0.000000  0.228864 -0.000000   \n",
       "MoTr  0.102982  0.114496 -0.000000  0.019929  0.078155  0.147158  0.073614   \n",
       "RiRi  0.109489  0.047132  0.077719  0.051299  0.124058 -0.000000  0.067547   \n",
       "MoFo -0.000000 -0.000000 -0.000000 -0.000000 -0.000000 -0.000000 -0.000000   \n",
       "Mmof -0.000000 -0.000000 -0.000000 -0.000000 -0.000000 -0.000000 -0.000000   \n",
       "MoRi  0.065836 -0.000000  0.050416  0.151166  0.159340 -0.000000  0.070321   \n",
       "MeRi  0.063469  0.209906  0.041847  0.091548  0.169736  0.163974  0.000438   \n",
       "Ri   -0.000000 -0.000000 -0.000000 -0.000000 -0.000000  0.186210 -0.000000   \n",
       "Comp  0.139374  0.119048 -0.000000  0.056059  0.200640 -0.000000  0.091914   \n",
       "\n",
       "          Comp  \n",
       "TrRi  0.044831  \n",
       "RiTr -0.000000  \n",
       "Plu   0.204950  \n",
       "Ttra  0.586604  \n",
       "Ttrb -0.000000  \n",
       "Tr   -0.000000  \n",
       "MeTr -0.000000  \n",
       "MoTr  0.082829  \n",
       "RiRi  0.062511  \n",
       "MoFo  1.000000  \n",
       "Mmof -0.000000  \n",
       "MoRi -0.000000  \n",
       "MeRi -0.000000  \n",
       "Ri    0.222830  \n",
       "Comp  0.199398  "
      ]
     },
     "execution_count": 1182,
     "metadata": {},
     "output_type": "execute_result"
    }
   ],
   "source": [
    "df_ini_dict[\"soggetto_1\"]"
   ]
  },
  {
   "cell_type": "code",
   "execution_count": 1183,
   "metadata": {},
   "outputs": [],
   "source": [
    "# create dicts with numpy instead dataframes\n",
    "np_ecc_dict = {}\n",
    "np_ini_dict = {}\n",
    "for subject in subjects:\n",
    "    np_ecc_dict[subject] = df_ecc_dict[subject].to_numpy()\n",
    "    np_ini_dict[subject] = df_ini_dict[subject].to_numpy()"
   ]
  },
  {
   "cell_type": "code",
   "execution_count": 1184,
   "metadata": {},
   "outputs": [
    {
     "data": {
      "text/html": [
       "<div>\n",
       "<style scoped>\n",
       "    .dataframe tbody tr th:only-of-type {\n",
       "        vertical-align: middle;\n",
       "    }\n",
       "\n",
       "    .dataframe tbody tr th {\n",
       "        vertical-align: top;\n",
       "    }\n",
       "\n",
       "    .dataframe thead th {\n",
       "        text-align: right;\n",
       "    }\n",
       "</style>\n",
       "<table border=\"1\" class=\"dataframe\">\n",
       "  <thead>\n",
       "    <tr style=\"text-align: right;\">\n",
       "      <th></th>\n",
       "      <th>A</th>\n",
       "      <th>B</th>\n",
       "      <th>C</th>\n",
       "    </tr>\n",
       "  </thead>\n",
       "  <tbody>\n",
       "    <tr>\n",
       "      <th>A</th>\n",
       "      <td>9</td>\n",
       "      <td>7</td>\n",
       "      <td>5</td>\n",
       "    </tr>\n",
       "    <tr>\n",
       "      <th>B</th>\n",
       "      <td>3</td>\n",
       "      <td>4</td>\n",
       "      <td>5</td>\n",
       "    </tr>\n",
       "    <tr>\n",
       "      <th>C</th>\n",
       "      <td>3</td>\n",
       "      <td>3</td>\n",
       "      <td>7</td>\n",
       "    </tr>\n",
       "  </tbody>\n",
       "</table>\n",
       "</div>"
      ],
      "text/plain": [
       "   A  B  C\n",
       "A  9  7  5\n",
       "B  3  4  5\n",
       "C  3  3  7"
      ]
     },
     "execution_count": 1184,
     "metadata": {},
     "output_type": "execute_result"
    }
   ],
   "source": [
    "# create random dataframe with 3x3 values integer between 0 and 10\n",
    "df_random = pd.DataFrame(np.random.randint(0, 10, size=(3, 3)), columns=list(\"ABC\"), index=list(\"ABC\"))\n",
    "df_random"
   ]
  },
  {
   "cell_type": "code",
   "execution_count": 1185,
   "metadata": {},
   "outputs": [
    {
     "data": {
      "text/plain": [
       "A    21\n",
       "B    12\n",
       "C    13\n",
       "dtype: int64"
      ]
     },
     "execution_count": 1185,
     "metadata": {},
     "output_type": "execute_result"
    }
   ],
   "source": [
    "# sum by row\n",
    "df_random.sum(axis=1)"
   ]
  },
  {
   "cell_type": "code",
   "execution_count": 1186,
   "metadata": {},
   "outputs": [
    {
     "data": {
      "text/html": [
       "<div>\n",
       "<style scoped>\n",
       "    .dataframe tbody tr th:only-of-type {\n",
       "        vertical-align: middle;\n",
       "    }\n",
       "\n",
       "    .dataframe tbody tr th {\n",
       "        vertical-align: top;\n",
       "    }\n",
       "\n",
       "    .dataframe thead th {\n",
       "        text-align: right;\n",
       "    }\n",
       "</style>\n",
       "<table border=\"1\" class=\"dataframe\">\n",
       "  <thead>\n",
       "    <tr style=\"text-align: right;\">\n",
       "      <th></th>\n",
       "      <th>A</th>\n",
       "      <th>B</th>\n",
       "      <th>C</th>\n",
       "    </tr>\n",
       "  </thead>\n",
       "  <tbody>\n",
       "    <tr>\n",
       "      <th>A</th>\n",
       "      <td>0.428571</td>\n",
       "      <td>0.333333</td>\n",
       "      <td>0.238095</td>\n",
       "    </tr>\n",
       "    <tr>\n",
       "      <th>B</th>\n",
       "      <td>0.250000</td>\n",
       "      <td>0.333333</td>\n",
       "      <td>0.416667</td>\n",
       "    </tr>\n",
       "    <tr>\n",
       "      <th>C</th>\n",
       "      <td>0.230769</td>\n",
       "      <td>0.230769</td>\n",
       "      <td>0.538462</td>\n",
       "    </tr>\n",
       "  </tbody>\n",
       "</table>\n",
       "</div>"
      ],
      "text/plain": [
       "          A         B         C\n",
       "A  0.428571  0.333333  0.238095\n",
       "B  0.250000  0.333333  0.416667\n",
       "C  0.230769  0.230769  0.538462"
      ]
     },
     "execution_count": 1186,
     "metadata": {},
     "output_type": "execute_result"
    }
   ],
   "source": [
    "# divide each row by the sum of the row\n",
    "df_random.div(df_random.sum(axis=1), axis=0)"
   ]
  },
  {
   "cell_type": "code",
   "execution_count": 1187,
   "metadata": {},
   "outputs": [
    {
     "data": {
      "text/plain": [
       "A    3.464102\n",
       "B    2.081666\n",
       "C    1.154701\n",
       "dtype: float64"
      ]
     },
     "execution_count": 1187,
     "metadata": {},
     "output_type": "execute_result"
    }
   ],
   "source": [
    "# calculate std for each column\n",
    "df_random.std(axis=0)"
   ]
  },
  {
   "cell_type": "code",
   "execution_count": 1188,
   "metadata": {},
   "outputs": [],
   "source": [
    "# sum by column axis = 0\n",
    "# sum by row axis = 1"
   ]
  },
  {
   "cell_type": "code",
   "execution_count": 1189,
   "metadata": {},
   "outputs": [],
   "source": [
    "df_evolve_dict = {}\n",
    "for subject in subjects:\n",
    "    df_evolve_dict[subject] = pd.DataFrame(columns=df_o_dict[subject].columns)\n",
    "\n",
    "for subject in subjects:\n",
    "    for i in range(0,250):\n",
    "        np_ecc_dict[subject] = np.matmul(np_ecc_dict[subject], df_ecc_dict[subject].to_numpy())\n",
    "        np_ini_dict[subject] = np.matmul(np_ini_dict[subject], df_ini_dict[subject].to_numpy())\n",
    "        np_activations = np.sum(np_ecc_dict[subject] - np_ini_dict[subject], axis=0) # two markov chains that interfere with each other\n",
    "        np_activations = np_activations.reshape(15,1)\n",
    "        df_evolve_dict[subject] = pd.concat(\n",
    "            [\n",
    "                df_evolve_dict[subject],\n",
    "                pd.DataFrame(np_activations.T, columns = df_evolve_dict[subject].columns)\n",
    "            ]\n",
    "            , axis = 0)"
   ]
  },
  {
   "cell_type": "code",
   "execution_count": 1190,
   "metadata": {},
   "outputs": [],
   "source": [
    "# for each subject's dataframe adjust the index to start from 0\n",
    "for subject in subjects:\n",
    "    df_evolve_dict[subject].index = range(0,df_evolve_dict[subject].shape[0])"
   ]
  },
  {
   "cell_type": "code",
   "execution_count": 1191,
   "metadata": {},
   "outputs": [
    {
     "data": {
      "text/html": [
       "<div>\n",
       "<style scoped>\n",
       "    .dataframe tbody tr th:only-of-type {\n",
       "        vertical-align: middle;\n",
       "    }\n",
       "\n",
       "    .dataframe tbody tr th {\n",
       "        vertical-align: top;\n",
       "    }\n",
       "\n",
       "    .dataframe thead th {\n",
       "        text-align: right;\n",
       "    }\n",
       "</style>\n",
       "<table border=\"1\" class=\"dataframe\">\n",
       "  <thead>\n",
       "    <tr style=\"text-align: right;\">\n",
       "      <th></th>\n",
       "      <th>TrRi</th>\n",
       "      <th>RiTr</th>\n",
       "      <th>Plu</th>\n",
       "      <th>Ttra</th>\n",
       "      <th>Ttrb</th>\n",
       "      <th>Tr</th>\n",
       "      <th>MeTr</th>\n",
       "      <th>MoTr</th>\n",
       "      <th>RiRi</th>\n",
       "      <th>MoFo</th>\n",
       "      <th>Mmof</th>\n",
       "      <th>MoRi</th>\n",
       "      <th>MeRi</th>\n",
       "      <th>Ri</th>\n",
       "      <th>Comp</th>\n",
       "    </tr>\n",
       "  </thead>\n",
       "  <tbody>\n",
       "    <tr>\n",
       "      <th>0</th>\n",
       "      <td>0.018417</td>\n",
       "      <td>-0.117585</td>\n",
       "      <td>-0.037721</td>\n",
       "      <td>0.661009</td>\n",
       "      <td>0.397577</td>\n",
       "      <td>-0.221117</td>\n",
       "      <td>0.958680</td>\n",
       "      <td>-0.552884</td>\n",
       "      <td>0.250804</td>\n",
       "      <td>-0.159893</td>\n",
       "      <td>0.043561</td>\n",
       "      <td>-0.445201</td>\n",
       "      <td>-1.201575</td>\n",
       "      <td>-0.620598</td>\n",
       "      <td>-0.786583</td>\n",
       "    </tr>\n",
       "    <tr>\n",
       "      <th>1</th>\n",
       "      <td>-0.091216</td>\n",
       "      <td>-0.131210</td>\n",
       "      <td>-0.196970</td>\n",
       "      <td>0.659760</td>\n",
       "      <td>0.370893</td>\n",
       "      <td>-0.308090</td>\n",
       "      <td>0.790598</td>\n",
       "      <td>-0.506244</td>\n",
       "      <td>0.170679</td>\n",
       "      <td>-0.093068</td>\n",
       "      <td>-0.074625</td>\n",
       "      <td>-0.505488</td>\n",
       "      <td>-1.103667</td>\n",
       "      <td>-0.654704</td>\n",
       "      <td>-0.992425</td>\n",
       "    </tr>\n",
       "    <tr>\n",
       "      <th>2</th>\n",
       "      <td>-0.152975</td>\n",
       "      <td>-0.200965</td>\n",
       "      <td>-0.214502</td>\n",
       "      <td>0.573926</td>\n",
       "      <td>0.259044</td>\n",
       "      <td>-0.340171</td>\n",
       "      <td>0.637888</td>\n",
       "      <td>-0.583995</td>\n",
       "      <td>0.123200</td>\n",
       "      <td>-0.183034</td>\n",
       "      <td>-0.119623</td>\n",
       "      <td>-0.546721</td>\n",
       "      <td>-1.146731</td>\n",
       "      <td>-0.694400</td>\n",
       "      <td>-0.904509</td>\n",
       "    </tr>\n",
       "    <tr>\n",
       "      <th>3</th>\n",
       "      <td>-0.202387</td>\n",
       "      <td>-0.238437</td>\n",
       "      <td>-0.248605</td>\n",
       "      <td>0.505711</td>\n",
       "      <td>0.173140</td>\n",
       "      <td>-0.367946</td>\n",
       "      <td>0.515753</td>\n",
       "      <td>-0.607661</td>\n",
       "      <td>0.080547</td>\n",
       "      <td>-0.251750</td>\n",
       "      <td>-0.150040</td>\n",
       "      <td>-0.558195</td>\n",
       "      <td>-1.215406</td>\n",
       "      <td>-0.730200</td>\n",
       "      <td>-0.977053</td>\n",
       "    </tr>\n",
       "    <tr>\n",
       "      <th>4</th>\n",
       "      <td>-0.242527</td>\n",
       "      <td>-0.264007</td>\n",
       "      <td>-0.283919</td>\n",
       "      <td>0.452328</td>\n",
       "      <td>0.102430</td>\n",
       "      <td>-0.380346</td>\n",
       "      <td>0.399068</td>\n",
       "      <td>-0.633135</td>\n",
       "      <td>0.014753</td>\n",
       "      <td>-0.286358</td>\n",
       "      <td>-0.179374</td>\n",
       "      <td>-0.597606</td>\n",
       "      <td>-1.263792</td>\n",
       "      <td>-0.768677</td>\n",
       "      <td>-1.069066</td>\n",
       "    </tr>\n",
       "    <tr>\n",
       "      <th>...</th>\n",
       "      <td>...</td>\n",
       "      <td>...</td>\n",
       "      <td>...</td>\n",
       "      <td>...</td>\n",
       "      <td>...</td>\n",
       "      <td>...</td>\n",
       "      <td>...</td>\n",
       "      <td>...</td>\n",
       "      <td>...</td>\n",
       "      <td>...</td>\n",
       "      <td>...</td>\n",
       "      <td>...</td>\n",
       "      <td>...</td>\n",
       "      <td>...</td>\n",
       "      <td>...</td>\n",
       "    </tr>\n",
       "    <tr>\n",
       "      <th>245</th>\n",
       "      <td>-0.923734</td>\n",
       "      <td>-0.640269</td>\n",
       "      <td>-0.764299</td>\n",
       "      <td>-0.285409</td>\n",
       "      <td>-0.904280</td>\n",
       "      <td>-0.594575</td>\n",
       "      <td>-1.444100</td>\n",
       "      <td>-1.005316</td>\n",
       "      <td>-0.810877</td>\n",
       "      <td>-0.778544</td>\n",
       "      <td>-0.593088</td>\n",
       "      <td>-1.215564</td>\n",
       "      <td>-1.793746</td>\n",
       "      <td>-1.290693</td>\n",
       "      <td>-1.955508</td>\n",
       "    </tr>\n",
       "    <tr>\n",
       "      <th>246</th>\n",
       "      <td>-0.923734</td>\n",
       "      <td>-0.640269</td>\n",
       "      <td>-0.764299</td>\n",
       "      <td>-0.285409</td>\n",
       "      <td>-0.904280</td>\n",
       "      <td>-0.594575</td>\n",
       "      <td>-1.444100</td>\n",
       "      <td>-1.005316</td>\n",
       "      <td>-0.810877</td>\n",
       "      <td>-0.778544</td>\n",
       "      <td>-0.593088</td>\n",
       "      <td>-1.215564</td>\n",
       "      <td>-1.793746</td>\n",
       "      <td>-1.290693</td>\n",
       "      <td>-1.955508</td>\n",
       "    </tr>\n",
       "    <tr>\n",
       "      <th>247</th>\n",
       "      <td>-0.923734</td>\n",
       "      <td>-0.640269</td>\n",
       "      <td>-0.764299</td>\n",
       "      <td>-0.285409</td>\n",
       "      <td>-0.904280</td>\n",
       "      <td>-0.594575</td>\n",
       "      <td>-1.444100</td>\n",
       "      <td>-1.005316</td>\n",
       "      <td>-0.810877</td>\n",
       "      <td>-0.778544</td>\n",
       "      <td>-0.593088</td>\n",
       "      <td>-1.215564</td>\n",
       "      <td>-1.793746</td>\n",
       "      <td>-1.290693</td>\n",
       "      <td>-1.955508</td>\n",
       "    </tr>\n",
       "    <tr>\n",
       "      <th>248</th>\n",
       "      <td>-0.923734</td>\n",
       "      <td>-0.640269</td>\n",
       "      <td>-0.764299</td>\n",
       "      <td>-0.285409</td>\n",
       "      <td>-0.904280</td>\n",
       "      <td>-0.594575</td>\n",
       "      <td>-1.444100</td>\n",
       "      <td>-1.005316</td>\n",
       "      <td>-0.810877</td>\n",
       "      <td>-0.778544</td>\n",
       "      <td>-0.593088</td>\n",
       "      <td>-1.215564</td>\n",
       "      <td>-1.793746</td>\n",
       "      <td>-1.290693</td>\n",
       "      <td>-1.955508</td>\n",
       "    </tr>\n",
       "    <tr>\n",
       "      <th>249</th>\n",
       "      <td>-0.923734</td>\n",
       "      <td>-0.640269</td>\n",
       "      <td>-0.764299</td>\n",
       "      <td>-0.285409</td>\n",
       "      <td>-0.904280</td>\n",
       "      <td>-0.594575</td>\n",
       "      <td>-1.444100</td>\n",
       "      <td>-1.005316</td>\n",
       "      <td>-0.810877</td>\n",
       "      <td>-0.778544</td>\n",
       "      <td>-0.593088</td>\n",
       "      <td>-1.215564</td>\n",
       "      <td>-1.793746</td>\n",
       "      <td>-1.290693</td>\n",
       "      <td>-1.955508</td>\n",
       "    </tr>\n",
       "  </tbody>\n",
       "</table>\n",
       "<p>250 rows × 15 columns</p>\n",
       "</div>"
      ],
      "text/plain": [
       "         TrRi      RiTr       Plu      Ttra      Ttrb        Tr      MeTr  \\\n",
       "0    0.018417 -0.117585 -0.037721  0.661009  0.397577 -0.221117  0.958680   \n",
       "1   -0.091216 -0.131210 -0.196970  0.659760  0.370893 -0.308090  0.790598   \n",
       "2   -0.152975 -0.200965 -0.214502  0.573926  0.259044 -0.340171  0.637888   \n",
       "3   -0.202387 -0.238437 -0.248605  0.505711  0.173140 -0.367946  0.515753   \n",
       "4   -0.242527 -0.264007 -0.283919  0.452328  0.102430 -0.380346  0.399068   \n",
       "..        ...       ...       ...       ...       ...       ...       ...   \n",
       "245 -0.923734 -0.640269 -0.764299 -0.285409 -0.904280 -0.594575 -1.444100   \n",
       "246 -0.923734 -0.640269 -0.764299 -0.285409 -0.904280 -0.594575 -1.444100   \n",
       "247 -0.923734 -0.640269 -0.764299 -0.285409 -0.904280 -0.594575 -1.444100   \n",
       "248 -0.923734 -0.640269 -0.764299 -0.285409 -0.904280 -0.594575 -1.444100   \n",
       "249 -0.923734 -0.640269 -0.764299 -0.285409 -0.904280 -0.594575 -1.444100   \n",
       "\n",
       "         MoTr      RiRi      MoFo      Mmof      MoRi      MeRi        Ri  \\\n",
       "0   -0.552884  0.250804 -0.159893  0.043561 -0.445201 -1.201575 -0.620598   \n",
       "1   -0.506244  0.170679 -0.093068 -0.074625 -0.505488 -1.103667 -0.654704   \n",
       "2   -0.583995  0.123200 -0.183034 -0.119623 -0.546721 -1.146731 -0.694400   \n",
       "3   -0.607661  0.080547 -0.251750 -0.150040 -0.558195 -1.215406 -0.730200   \n",
       "4   -0.633135  0.014753 -0.286358 -0.179374 -0.597606 -1.263792 -0.768677   \n",
       "..        ...       ...       ...       ...       ...       ...       ...   \n",
       "245 -1.005316 -0.810877 -0.778544 -0.593088 -1.215564 -1.793746 -1.290693   \n",
       "246 -1.005316 -0.810877 -0.778544 -0.593088 -1.215564 -1.793746 -1.290693   \n",
       "247 -1.005316 -0.810877 -0.778544 -0.593088 -1.215564 -1.793746 -1.290693   \n",
       "248 -1.005316 -0.810877 -0.778544 -0.593088 -1.215564 -1.793746 -1.290693   \n",
       "249 -1.005316 -0.810877 -0.778544 -0.593088 -1.215564 -1.793746 -1.290693   \n",
       "\n",
       "         Comp  \n",
       "0   -0.786583  \n",
       "1   -0.992425  \n",
       "2   -0.904509  \n",
       "3   -0.977053  \n",
       "4   -1.069066  \n",
       "..        ...  \n",
       "245 -1.955508  \n",
       "246 -1.955508  \n",
       "247 -1.955508  \n",
       "248 -1.955508  \n",
       "249 -1.955508  \n",
       "\n",
       "[250 rows x 15 columns]"
      ]
     },
     "execution_count": 1191,
     "metadata": {},
     "output_type": "execute_result"
    }
   ],
   "source": [
    "df_evolve_dict[\"soggetto_1\"]"
   ]
  },
  {
   "cell_type": "code",
   "execution_count": 1192,
   "metadata": {},
   "outputs": [],
   "source": [
    "# create dataframes for each subject with the final values of the markov chains (after 10 iterations)\n",
    "df_final_ecc = {}\n",
    "df_final_ini = {}\n",
    "for subject in subjects:\n",
    "    df_final_ecc[subject] = pd.DataFrame(np_ecc_dict[subject], columns = df_o_dict[subject].columns, index = df_o_dict[subject].columns)\n",
    "    df_final_ini[subject] = pd.DataFrame(np_ini_dict[subject], columns = df_o_dict[subject].columns, index = df_o_dict[subject].columns)"
   ]
  },
  {
   "cell_type": "code",
   "execution_count": 1193,
   "metadata": {},
   "outputs": [],
   "source": [
    "# create dataframes for each subject with the evolution of the matrix\n",
    "df_steady_dict = {}\n",
    "for subject in subjects:\n",
    "    df_steady_dict[subject] = pd.DataFrame(np_ecc_dict[subject] - np_ini_dict[subject], columns=df_o_dict[subject].columns, index=df_o_dict[subject].columns)"
   ]
  },
  {
   "cell_type": "code",
   "execution_count": 1194,
   "metadata": {},
   "outputs": [],
   "source": [
    "df_steady_delta = pd.DataFrame(columns=subjects, index=df_o_dict[subject].columns)\n",
    "for subject in subjects:\n",
    "    df_steady_delta[subject] = df_steady_dict[subject].sum(axis = 0) - (df_ecc_dict[subject] - df_ini_dict[subject]).sum(axis = 0)"
   ]
  },
  {
   "cell_type": "code",
   "execution_count": 1195,
   "metadata": {},
   "outputs": [
    {
     "data": {
      "text/html": [
       "<div>\n",
       "<style scoped>\n",
       "    .dataframe tbody tr th:only-of-type {\n",
       "        vertical-align: middle;\n",
       "    }\n",
       "\n",
       "    .dataframe tbody tr th {\n",
       "        vertical-align: top;\n",
       "    }\n",
       "\n",
       "    .dataframe thead th {\n",
       "        text-align: right;\n",
       "    }\n",
       "</style>\n",
       "<table border=\"1\" class=\"dataframe\">\n",
       "  <thead>\n",
       "    <tr style=\"text-align: right;\">\n",
       "      <th></th>\n",
       "      <th>soggetto_1</th>\n",
       "      <th>soggetto_2</th>\n",
       "      <th>soggetto_3</th>\n",
       "      <th>soggetto_6</th>\n",
       "      <th>soggetto_7</th>\n",
       "      <th>soggetto_8</th>\n",
       "    </tr>\n",
       "  </thead>\n",
       "  <tbody>\n",
       "    <tr>\n",
       "      <th>TrRi</th>\n",
       "      <td>-0.859562</td>\n",
       "      <td>-0.721654</td>\n",
       "      <td>0.227110</td>\n",
       "      <td>-0.230456</td>\n",
       "      <td>-0.093876</td>\n",
       "      <td>0.038188</td>\n",
       "    </tr>\n",
       "    <tr>\n",
       "      <th>RiTr</th>\n",
       "      <td>-0.750224</td>\n",
       "      <td>-0.655749</td>\n",
       "      <td>-0.031643</td>\n",
       "      <td>-0.281602</td>\n",
       "      <td>-0.017737</td>\n",
       "      <td>-0.278519</td>\n",
       "    </tr>\n",
       "    <tr>\n",
       "      <th>Plu</th>\n",
       "      <td>-0.847703</td>\n",
       "      <td>-0.878800</td>\n",
       "      <td>0.135229</td>\n",
       "      <td>-0.221724</td>\n",
       "      <td>-0.408344</td>\n",
       "      <td>-0.127120</td>\n",
       "    </tr>\n",
       "    <tr>\n",
       "      <th>Ttra</th>\n",
       "      <td>-1.296525</td>\n",
       "      <td>-1.425703</td>\n",
       "      <td>0.109916</td>\n",
       "      <td>-0.009480</td>\n",
       "      <td>0.188220</td>\n",
       "      <td>0.478947</td>\n",
       "    </tr>\n",
       "    <tr>\n",
       "      <th>Ttrb</th>\n",
       "      <td>-1.244356</td>\n",
       "      <td>-0.843300</td>\n",
       "      <td>0.487494</td>\n",
       "      <td>-0.277805</td>\n",
       "      <td>-0.255658</td>\n",
       "      <td>0.329839</td>\n",
       "    </tr>\n",
       "    <tr>\n",
       "      <th>Tr</th>\n",
       "      <td>-0.453061</td>\n",
       "      <td>-0.982174</td>\n",
       "      <td>-0.451565</td>\n",
       "      <td>0.438060</td>\n",
       "      <td>0.992286</td>\n",
       "      <td>0.081104</td>\n",
       "    </tr>\n",
       "    <tr>\n",
       "      <th>MeTr</th>\n",
       "      <td>-1.673588</td>\n",
       "      <td>-0.928059</td>\n",
       "      <td>-0.184274</td>\n",
       "      <td>-0.189247</td>\n",
       "      <td>-0.171114</td>\n",
       "      <td>-0.033303</td>\n",
       "    </tr>\n",
       "    <tr>\n",
       "      <th>MoTr</th>\n",
       "      <td>-0.898734</td>\n",
       "      <td>-0.480180</td>\n",
       "      <td>0.048705</td>\n",
       "      <td>0.164611</td>\n",
       "      <td>0.099752</td>\n",
       "      <td>-0.213974</td>\n",
       "    </tr>\n",
       "    <tr>\n",
       "      <th>RiRi</th>\n",
       "      <td>-1.432291</td>\n",
       "      <td>-0.627343</td>\n",
       "      <td>0.214189</td>\n",
       "      <td>0.026513</td>\n",
       "      <td>0.162205</td>\n",
       "      <td>0.576535</td>\n",
       "    </tr>\n",
       "    <tr>\n",
       "      <th>MoFo</th>\n",
       "      <td>-1.084797</td>\n",
       "      <td>-1.097239</td>\n",
       "      <td>-0.043882</td>\n",
       "      <td>-0.070941</td>\n",
       "      <td>0.061767</td>\n",
       "      <td>-0.272339</td>\n",
       "    </tr>\n",
       "    <tr>\n",
       "      <th>Mmof</th>\n",
       "      <td>-0.872204</td>\n",
       "      <td>-0.492126</td>\n",
       "      <td>-0.025958</td>\n",
       "      <td>0.243124</td>\n",
       "      <td>-0.227199</td>\n",
       "      <td>-0.223624</td>\n",
       "    </tr>\n",
       "    <tr>\n",
       "      <th>MoRi</th>\n",
       "      <td>-0.938432</td>\n",
       "      <td>-0.854794</td>\n",
       "      <td>-0.146523</td>\n",
       "      <td>0.288588</td>\n",
       "      <td>0.226498</td>\n",
       "      <td>-0.322229</td>\n",
       "    </tr>\n",
       "    <tr>\n",
       "      <th>MeRi</th>\n",
       "      <td>-0.609614</td>\n",
       "      <td>-1.386605</td>\n",
       "      <td>-0.217626</td>\n",
       "      <td>0.145699</td>\n",
       "      <td>-0.117909</td>\n",
       "      <td>0.224539</td>\n",
       "    </tr>\n",
       "    <tr>\n",
       "      <th>Ri</th>\n",
       "      <td>-0.390423</td>\n",
       "      <td>-2.174450</td>\n",
       "      <td>0.001502</td>\n",
       "      <td>-0.008826</td>\n",
       "      <td>-0.356395</td>\n",
       "      <td>-0.154362</td>\n",
       "    </tr>\n",
       "    <tr>\n",
       "      <th>Comp</th>\n",
       "      <td>-0.648486</td>\n",
       "      <td>-0.451824</td>\n",
       "      <td>-0.122674</td>\n",
       "      <td>-0.016514</td>\n",
       "      <td>-0.082497</td>\n",
       "      <td>-0.103681</td>\n",
       "    </tr>\n",
       "  </tbody>\n",
       "</table>\n",
       "</div>"
      ],
      "text/plain": [
       "      soggetto_1  soggetto_2  soggetto_3  soggetto_6  soggetto_7  soggetto_8\n",
       "TrRi   -0.859562   -0.721654    0.227110   -0.230456   -0.093876    0.038188\n",
       "RiTr   -0.750224   -0.655749   -0.031643   -0.281602   -0.017737   -0.278519\n",
       "Plu    -0.847703   -0.878800    0.135229   -0.221724   -0.408344   -0.127120\n",
       "Ttra   -1.296525   -1.425703    0.109916   -0.009480    0.188220    0.478947\n",
       "Ttrb   -1.244356   -0.843300    0.487494   -0.277805   -0.255658    0.329839\n",
       "Tr     -0.453061   -0.982174   -0.451565    0.438060    0.992286    0.081104\n",
       "MeTr   -1.673588   -0.928059   -0.184274   -0.189247   -0.171114   -0.033303\n",
       "MoTr   -0.898734   -0.480180    0.048705    0.164611    0.099752   -0.213974\n",
       "RiRi   -1.432291   -0.627343    0.214189    0.026513    0.162205    0.576535\n",
       "MoFo   -1.084797   -1.097239   -0.043882   -0.070941    0.061767   -0.272339\n",
       "Mmof   -0.872204   -0.492126   -0.025958    0.243124   -0.227199   -0.223624\n",
       "MoRi   -0.938432   -0.854794   -0.146523    0.288588    0.226498   -0.322229\n",
       "MeRi   -0.609614   -1.386605   -0.217626    0.145699   -0.117909    0.224539\n",
       "Ri     -0.390423   -2.174450    0.001502   -0.008826   -0.356395   -0.154362\n",
       "Comp   -0.648486   -0.451824   -0.122674   -0.016514   -0.082497   -0.103681"
      ]
     },
     "execution_count": 1195,
     "metadata": {},
     "output_type": "execute_result"
    }
   ],
   "source": [
    "df_steady_delta"
   ]
  },
  {
   "cell_type": "code",
   "execution_count": 1196,
   "metadata": {},
   "outputs": [
    {
     "data": {
      "application/vnd.plotly.v1+json": {
       "config": {
        "plotlyServerURL": "https://plot.ly"
       },
       "data": [
        {
         "alignmentgroup": "True",
         "hovertemplate": "variable=TrRi<br>index=%{x}<br>value=%{y}<extra></extra>",
         "legendgroup": "TrRi",
         "marker": {
          "color": "#636efa",
          "pattern": {
           "shape": ""
          }
         },
         "name": "TrRi",
         "offsetgroup": "TrRi",
         "orientation": "v",
         "showlegend": true,
         "textposition": "auto",
         "type": "bar",
         "x": [
          "soggetto_1",
          "soggetto_2",
          "soggetto_3",
          "soggetto_6",
          "soggetto_7",
          "soggetto_8"
         ],
         "xaxis": "x",
         "y": [
          -0.8595620974015711,
          -0.7216544079730609,
          0.22711000332835385,
          -0.23045578017552754,
          -0.09387573744511452,
          0.03818839738997859
         ],
         "yaxis": "y"
        },
        {
         "alignmentgroup": "True",
         "hovertemplate": "variable=RiTr<br>index=%{x}<br>value=%{y}<extra></extra>",
         "legendgroup": "RiTr",
         "marker": {
          "color": "#EF553B",
          "pattern": {
           "shape": ""
          }
         },
         "name": "RiTr",
         "offsetgroup": "RiTr",
         "orientation": "v",
         "showlegend": true,
         "textposition": "auto",
         "type": "bar",
         "x": [
          "soggetto_1",
          "soggetto_2",
          "soggetto_3",
          "soggetto_6",
          "soggetto_7",
          "soggetto_8"
         ],
         "xaxis": "x",
         "y": [
          -0.7502239142391163,
          -0.655748971140237,
          -0.031643312975691895,
          -0.2816017439692189,
          -0.017736949934300167,
          -0.2785186262517372
         ],
         "yaxis": "y"
        },
        {
         "alignmentgroup": "True",
         "hovertemplate": "variable=Plu<br>index=%{x}<br>value=%{y}<extra></extra>",
         "legendgroup": "Plu",
         "marker": {
          "color": "#00cc96",
          "pattern": {
           "shape": ""
          }
         },
         "name": "Plu",
         "offsetgroup": "Plu",
         "orientation": "v",
         "showlegend": true,
         "textposition": "auto",
         "type": "bar",
         "x": [
          "soggetto_1",
          "soggetto_2",
          "soggetto_3",
          "soggetto_6",
          "soggetto_7",
          "soggetto_8"
         ],
         "xaxis": "x",
         "y": [
          -0.8477030010952353,
          -0.878799770333149,
          0.13522901525257125,
          -0.2217238107274755,
          -0.40834416726997885,
          -0.1271198694688651
         ],
         "yaxis": "y"
        },
        {
         "alignmentgroup": "True",
         "hovertemplate": "variable=Ttra<br>index=%{x}<br>value=%{y}<extra></extra>",
         "legendgroup": "Ttra",
         "marker": {
          "color": "#ab63fa",
          "pattern": {
           "shape": ""
          }
         },
         "name": "Ttra",
         "offsetgroup": "Ttra",
         "orientation": "v",
         "showlegend": true,
         "textposition": "auto",
         "type": "bar",
         "x": [
          "soggetto_1",
          "soggetto_2",
          "soggetto_3",
          "soggetto_6",
          "soggetto_7",
          "soggetto_8"
         ],
         "xaxis": "x",
         "y": [
          -1.2965247307369319,
          -1.4257031232985853,
          0.10991633598255496,
          -0.009479854958670764,
          0.18822005765519523,
          0.47894698828701837
         ],
         "yaxis": "y"
        },
        {
         "alignmentgroup": "True",
         "hovertemplate": "variable=Ttrb<br>index=%{x}<br>value=%{y}<extra></extra>",
         "legendgroup": "Ttrb",
         "marker": {
          "color": "#FFA15A",
          "pattern": {
           "shape": ""
          }
         },
         "name": "Ttrb",
         "offsetgroup": "Ttrb",
         "orientation": "v",
         "showlegend": true,
         "textposition": "auto",
         "type": "bar",
         "x": [
          "soggetto_1",
          "soggetto_2",
          "soggetto_3",
          "soggetto_6",
          "soggetto_7",
          "soggetto_8"
         ],
         "xaxis": "x",
         "y": [
          -1.2443563087106733,
          -0.8433004674546779,
          0.4874943633244473,
          -0.27780537334417155,
          -0.25565801470066285,
          0.3298385756974679
         ],
         "yaxis": "y"
        },
        {
         "alignmentgroup": "True",
         "hovertemplate": "variable=Tr<br>index=%{x}<br>value=%{y}<extra></extra>",
         "legendgroup": "Tr",
         "marker": {
          "color": "#19d3f3",
          "pattern": {
           "shape": ""
          }
         },
         "name": "Tr",
         "offsetgroup": "Tr",
         "orientation": "v",
         "showlegend": true,
         "textposition": "auto",
         "type": "bar",
         "x": [
          "soggetto_1",
          "soggetto_2",
          "soggetto_3",
          "soggetto_6",
          "soggetto_7",
          "soggetto_8"
         ],
         "xaxis": "x",
         "y": [
          -0.45306114324673774,
          -0.982173997759427,
          -0.4515649577542949,
          0.43805978532566403,
          0.9922864428669591,
          0.0811035379342494
         ],
         "yaxis": "y"
        },
        {
         "alignmentgroup": "True",
         "hovertemplate": "variable=MeTr<br>index=%{x}<br>value=%{y}<extra></extra>",
         "legendgroup": "MeTr",
         "marker": {
          "color": "#FF6692",
          "pattern": {
           "shape": ""
          }
         },
         "name": "MeTr",
         "offsetgroup": "MeTr",
         "orientation": "v",
         "showlegend": true,
         "textposition": "auto",
         "type": "bar",
         "x": [
          "soggetto_1",
          "soggetto_2",
          "soggetto_3",
          "soggetto_6",
          "soggetto_7",
          "soggetto_8"
         ],
         "xaxis": "x",
         "y": [
          -1.6735877033688127,
          -0.928058898449571,
          -0.18427420315598353,
          -0.1892470084352348,
          -0.17111371933796912,
          -0.03330287056860537
         ],
         "yaxis": "y"
        },
        {
         "alignmentgroup": "True",
         "hovertemplate": "variable=MoTr<br>index=%{x}<br>value=%{y}<extra></extra>",
         "legendgroup": "MoTr",
         "marker": {
          "color": "#B6E880",
          "pattern": {
           "shape": ""
          }
         },
         "name": "MoTr",
         "offsetgroup": "MoTr",
         "orientation": "v",
         "showlegend": true,
         "textposition": "auto",
         "type": "bar",
         "x": [
          "soggetto_1",
          "soggetto_2",
          "soggetto_3",
          "soggetto_6",
          "soggetto_7",
          "soggetto_8"
         ],
         "xaxis": "x",
         "y": [
          -0.8987335238636882,
          -0.48017990423168216,
          0.048705080217465446,
          0.1646106432832738,
          0.09975195925086341,
          -0.21397439733339363
         ],
         "yaxis": "y"
        },
        {
         "alignmentgroup": "True",
         "hovertemplate": "variable=RiRi<br>index=%{x}<br>value=%{y}<extra></extra>",
         "legendgroup": "RiRi",
         "marker": {
          "color": "#FF97FF",
          "pattern": {
           "shape": ""
          }
         },
         "name": "RiRi",
         "offsetgroup": "RiRi",
         "orientation": "v",
         "showlegend": true,
         "textposition": "auto",
         "type": "bar",
         "x": [
          "soggetto_1",
          "soggetto_2",
          "soggetto_3",
          "soggetto_6",
          "soggetto_7",
          "soggetto_8"
         ],
         "xaxis": "x",
         "y": [
          -1.4322912822028537,
          -0.6273426797101682,
          0.21418926735956223,
          0.026512948226595556,
          0.16220476930456224,
          0.5765354093270088
         ],
         "yaxis": "y"
        },
        {
         "alignmentgroup": "True",
         "hovertemplate": "variable=MoFo<br>index=%{x}<br>value=%{y}<extra></extra>",
         "legendgroup": "MoFo",
         "marker": {
          "color": "#FECB52",
          "pattern": {
           "shape": ""
          }
         },
         "name": "MoFo",
         "offsetgroup": "MoFo",
         "orientation": "v",
         "showlegend": true,
         "textposition": "auto",
         "type": "bar",
         "x": [
          "soggetto_1",
          "soggetto_2",
          "soggetto_3",
          "soggetto_6",
          "soggetto_7",
          "soggetto_8"
         ],
         "xaxis": "x",
         "y": [
          -1.084796569461068,
          -1.0972387637025591,
          -0.043882190240266516,
          -0.07094072563488196,
          0.061766935421913804,
          -0.272339465753659
         ],
         "yaxis": "y"
        },
        {
         "alignmentgroup": "True",
         "hovertemplate": "variable=Mmof<br>index=%{x}<br>value=%{y}<extra></extra>",
         "legendgroup": "Mmof",
         "marker": {
          "color": "#636efa",
          "pattern": {
           "shape": ""
          }
         },
         "name": "Mmof",
         "offsetgroup": "Mmof",
         "orientation": "v",
         "showlegend": true,
         "textposition": "auto",
         "type": "bar",
         "x": [
          "soggetto_1",
          "soggetto_2",
          "soggetto_3",
          "soggetto_6",
          "soggetto_7",
          "soggetto_8"
         ],
         "xaxis": "x",
         "y": [
          -0.8722040629554443,
          -0.49212598203428837,
          -0.025958004659245915,
          0.24312430029205626,
          -0.22719884426512488,
          -0.22362375611232738
         ],
         "yaxis": "y"
        },
        {
         "alignmentgroup": "True",
         "hovertemplate": "variable=MoRi<br>index=%{x}<br>value=%{y}<extra></extra>",
         "legendgroup": "MoRi",
         "marker": {
          "color": "#EF553B",
          "pattern": {
           "shape": ""
          }
         },
         "name": "MoRi",
         "offsetgroup": "MoRi",
         "orientation": "v",
         "showlegend": true,
         "textposition": "auto",
         "type": "bar",
         "x": [
          "soggetto_1",
          "soggetto_2",
          "soggetto_3",
          "soggetto_6",
          "soggetto_7",
          "soggetto_8"
         ],
         "xaxis": "x",
         "y": [
          -0.9384320927580305,
          -0.8547942475380195,
          -0.146523406257421,
          0.2885876185897175,
          0.22649799972720464,
          -0.32222945938935954
         ],
         "yaxis": "y"
        },
        {
         "alignmentgroup": "True",
         "hovertemplate": "variable=MeRi<br>index=%{x}<br>value=%{y}<extra></extra>",
         "legendgroup": "MeRi",
         "marker": {
          "color": "#00cc96",
          "pattern": {
           "shape": ""
          }
         },
         "name": "MeRi",
         "offsetgroup": "MeRi",
         "orientation": "v",
         "showlegend": true,
         "textposition": "auto",
         "type": "bar",
         "x": [
          "soggetto_1",
          "soggetto_2",
          "soggetto_3",
          "soggetto_6",
          "soggetto_7",
          "soggetto_8"
         ],
         "xaxis": "x",
         "y": [
          -0.6096140333711495,
          -1.3866047384400262,
          -0.21762620098093177,
          0.14569915894575247,
          -0.11790868599943419,
          0.22453904139103995
         ],
         "yaxis": "y"
        },
        {
         "alignmentgroup": "True",
         "hovertemplate": "variable=Ri<br>index=%{x}<br>value=%{y}<extra></extra>",
         "legendgroup": "Ri",
         "marker": {
          "color": "#ab63fa",
          "pattern": {
           "shape": ""
          }
         },
         "name": "Ri",
         "offsetgroup": "Ri",
         "orientation": "v",
         "showlegend": true,
         "textposition": "auto",
         "type": "bar",
         "x": [
          "soggetto_1",
          "soggetto_2",
          "soggetto_3",
          "soggetto_6",
          "soggetto_7",
          "soggetto_8"
         ],
         "xaxis": "x",
         "y": [
          -0.39042276038331947,
          -2.174449984842756,
          0.001502075925405022,
          -0.008826441975949728,
          -0.35639540226692457,
          -0.15436201489195922
         ],
         "yaxis": "y"
        },
        {
         "alignmentgroup": "True",
         "hovertemplate": "variable=Comp<br>index=%{x}<br>value=%{y}<extra></extra>",
         "legendgroup": "Comp",
         "marker": {
          "color": "#FFA15A",
          "pattern": {
           "shape": ""
          }
         },
         "name": "Comp",
         "offsetgroup": "Comp",
         "orientation": "v",
         "showlegend": true,
         "textposition": "auto",
         "type": "bar",
         "x": [
          "soggetto_1",
          "soggetto_2",
          "soggetto_3",
          "soggetto_6",
          "soggetto_7",
          "soggetto_8"
         ],
         "xaxis": "x",
         "y": [
          -0.6484864590020438,
          -0.45182402535238486,
          -0.12267386536652407,
          -0.016513715441950294,
          -0.08249664300716318,
          -0.10368149025686618
         ],
         "yaxis": "y"
        }
       ],
       "layout": {
        "barmode": "group",
        "legend": {
         "title": {
          "text": "variable"
         },
         "tracegroupgap": 0
        },
        "template": {
         "data": {
          "bar": [
           {
            "error_x": {
             "color": "#2a3f5f"
            },
            "error_y": {
             "color": "#2a3f5f"
            },
            "marker": {
             "line": {
              "color": "#E5ECF6",
              "width": 0.5
             },
             "pattern": {
              "fillmode": "overlay",
              "size": 10,
              "solidity": 0.2
             }
            },
            "type": "bar"
           }
          ],
          "barpolar": [
           {
            "marker": {
             "line": {
              "color": "#E5ECF6",
              "width": 0.5
             },
             "pattern": {
              "fillmode": "overlay",
              "size": 10,
              "solidity": 0.2
             }
            },
            "type": "barpolar"
           }
          ],
          "carpet": [
           {
            "aaxis": {
             "endlinecolor": "#2a3f5f",
             "gridcolor": "white",
             "linecolor": "white",
             "minorgridcolor": "white",
             "startlinecolor": "#2a3f5f"
            },
            "baxis": {
             "endlinecolor": "#2a3f5f",
             "gridcolor": "white",
             "linecolor": "white",
             "minorgridcolor": "white",
             "startlinecolor": "#2a3f5f"
            },
            "type": "carpet"
           }
          ],
          "choropleth": [
           {
            "colorbar": {
             "outlinewidth": 0,
             "ticks": ""
            },
            "type": "choropleth"
           }
          ],
          "contour": [
           {
            "colorbar": {
             "outlinewidth": 0,
             "ticks": ""
            },
            "colorscale": [
             [
              0,
              "#0d0887"
             ],
             [
              0.1111111111111111,
              "#46039f"
             ],
             [
              0.2222222222222222,
              "#7201a8"
             ],
             [
              0.3333333333333333,
              "#9c179e"
             ],
             [
              0.4444444444444444,
              "#bd3786"
             ],
             [
              0.5555555555555556,
              "#d8576b"
             ],
             [
              0.6666666666666666,
              "#ed7953"
             ],
             [
              0.7777777777777778,
              "#fb9f3a"
             ],
             [
              0.8888888888888888,
              "#fdca26"
             ],
             [
              1,
              "#f0f921"
             ]
            ],
            "type": "contour"
           }
          ],
          "contourcarpet": [
           {
            "colorbar": {
             "outlinewidth": 0,
             "ticks": ""
            },
            "type": "contourcarpet"
           }
          ],
          "heatmap": [
           {
            "colorbar": {
             "outlinewidth": 0,
             "ticks": ""
            },
            "colorscale": [
             [
              0,
              "#0d0887"
             ],
             [
              0.1111111111111111,
              "#46039f"
             ],
             [
              0.2222222222222222,
              "#7201a8"
             ],
             [
              0.3333333333333333,
              "#9c179e"
             ],
             [
              0.4444444444444444,
              "#bd3786"
             ],
             [
              0.5555555555555556,
              "#d8576b"
             ],
             [
              0.6666666666666666,
              "#ed7953"
             ],
             [
              0.7777777777777778,
              "#fb9f3a"
             ],
             [
              0.8888888888888888,
              "#fdca26"
             ],
             [
              1,
              "#f0f921"
             ]
            ],
            "type": "heatmap"
           }
          ],
          "heatmapgl": [
           {
            "colorbar": {
             "outlinewidth": 0,
             "ticks": ""
            },
            "colorscale": [
             [
              0,
              "#0d0887"
             ],
             [
              0.1111111111111111,
              "#46039f"
             ],
             [
              0.2222222222222222,
              "#7201a8"
             ],
             [
              0.3333333333333333,
              "#9c179e"
             ],
             [
              0.4444444444444444,
              "#bd3786"
             ],
             [
              0.5555555555555556,
              "#d8576b"
             ],
             [
              0.6666666666666666,
              "#ed7953"
             ],
             [
              0.7777777777777778,
              "#fb9f3a"
             ],
             [
              0.8888888888888888,
              "#fdca26"
             ],
             [
              1,
              "#f0f921"
             ]
            ],
            "type": "heatmapgl"
           }
          ],
          "histogram": [
           {
            "marker": {
             "pattern": {
              "fillmode": "overlay",
              "size": 10,
              "solidity": 0.2
             }
            },
            "type": "histogram"
           }
          ],
          "histogram2d": [
           {
            "colorbar": {
             "outlinewidth": 0,
             "ticks": ""
            },
            "colorscale": [
             [
              0,
              "#0d0887"
             ],
             [
              0.1111111111111111,
              "#46039f"
             ],
             [
              0.2222222222222222,
              "#7201a8"
             ],
             [
              0.3333333333333333,
              "#9c179e"
             ],
             [
              0.4444444444444444,
              "#bd3786"
             ],
             [
              0.5555555555555556,
              "#d8576b"
             ],
             [
              0.6666666666666666,
              "#ed7953"
             ],
             [
              0.7777777777777778,
              "#fb9f3a"
             ],
             [
              0.8888888888888888,
              "#fdca26"
             ],
             [
              1,
              "#f0f921"
             ]
            ],
            "type": "histogram2d"
           }
          ],
          "histogram2dcontour": [
           {
            "colorbar": {
             "outlinewidth": 0,
             "ticks": ""
            },
            "colorscale": [
             [
              0,
              "#0d0887"
             ],
             [
              0.1111111111111111,
              "#46039f"
             ],
             [
              0.2222222222222222,
              "#7201a8"
             ],
             [
              0.3333333333333333,
              "#9c179e"
             ],
             [
              0.4444444444444444,
              "#bd3786"
             ],
             [
              0.5555555555555556,
              "#d8576b"
             ],
             [
              0.6666666666666666,
              "#ed7953"
             ],
             [
              0.7777777777777778,
              "#fb9f3a"
             ],
             [
              0.8888888888888888,
              "#fdca26"
             ],
             [
              1,
              "#f0f921"
             ]
            ],
            "type": "histogram2dcontour"
           }
          ],
          "mesh3d": [
           {
            "colorbar": {
             "outlinewidth": 0,
             "ticks": ""
            },
            "type": "mesh3d"
           }
          ],
          "parcoords": [
           {
            "line": {
             "colorbar": {
              "outlinewidth": 0,
              "ticks": ""
             }
            },
            "type": "parcoords"
           }
          ],
          "pie": [
           {
            "automargin": true,
            "type": "pie"
           }
          ],
          "scatter": [
           {
            "fillpattern": {
             "fillmode": "overlay",
             "size": 10,
             "solidity": 0.2
            },
            "type": "scatter"
           }
          ],
          "scatter3d": [
           {
            "line": {
             "colorbar": {
              "outlinewidth": 0,
              "ticks": ""
             }
            },
            "marker": {
             "colorbar": {
              "outlinewidth": 0,
              "ticks": ""
             }
            },
            "type": "scatter3d"
           }
          ],
          "scattercarpet": [
           {
            "marker": {
             "colorbar": {
              "outlinewidth": 0,
              "ticks": ""
             }
            },
            "type": "scattercarpet"
           }
          ],
          "scattergeo": [
           {
            "marker": {
             "colorbar": {
              "outlinewidth": 0,
              "ticks": ""
             }
            },
            "type": "scattergeo"
           }
          ],
          "scattergl": [
           {
            "marker": {
             "colorbar": {
              "outlinewidth": 0,
              "ticks": ""
             }
            },
            "type": "scattergl"
           }
          ],
          "scattermapbox": [
           {
            "marker": {
             "colorbar": {
              "outlinewidth": 0,
              "ticks": ""
             }
            },
            "type": "scattermapbox"
           }
          ],
          "scatterpolar": [
           {
            "marker": {
             "colorbar": {
              "outlinewidth": 0,
              "ticks": ""
             }
            },
            "type": "scatterpolar"
           }
          ],
          "scatterpolargl": [
           {
            "marker": {
             "colorbar": {
              "outlinewidth": 0,
              "ticks": ""
             }
            },
            "type": "scatterpolargl"
           }
          ],
          "scatterternary": [
           {
            "marker": {
             "colorbar": {
              "outlinewidth": 0,
              "ticks": ""
             }
            },
            "type": "scatterternary"
           }
          ],
          "surface": [
           {
            "colorbar": {
             "outlinewidth": 0,
             "ticks": ""
            },
            "colorscale": [
             [
              0,
              "#0d0887"
             ],
             [
              0.1111111111111111,
              "#46039f"
             ],
             [
              0.2222222222222222,
              "#7201a8"
             ],
             [
              0.3333333333333333,
              "#9c179e"
             ],
             [
              0.4444444444444444,
              "#bd3786"
             ],
             [
              0.5555555555555556,
              "#d8576b"
             ],
             [
              0.6666666666666666,
              "#ed7953"
             ],
             [
              0.7777777777777778,
              "#fb9f3a"
             ],
             [
              0.8888888888888888,
              "#fdca26"
             ],
             [
              1,
              "#f0f921"
             ]
            ],
            "type": "surface"
           }
          ],
          "table": [
           {
            "cells": {
             "fill": {
              "color": "#EBF0F8"
             },
             "line": {
              "color": "white"
             }
            },
            "header": {
             "fill": {
              "color": "#C8D4E3"
             },
             "line": {
              "color": "white"
             }
            },
            "type": "table"
           }
          ]
         },
         "layout": {
          "annotationdefaults": {
           "arrowcolor": "#2a3f5f",
           "arrowhead": 0,
           "arrowwidth": 1
          },
          "autotypenumbers": "strict",
          "coloraxis": {
           "colorbar": {
            "outlinewidth": 0,
            "ticks": ""
           }
          },
          "colorscale": {
           "diverging": [
            [
             0,
             "#8e0152"
            ],
            [
             0.1,
             "#c51b7d"
            ],
            [
             0.2,
             "#de77ae"
            ],
            [
             0.3,
             "#f1b6da"
            ],
            [
             0.4,
             "#fde0ef"
            ],
            [
             0.5,
             "#f7f7f7"
            ],
            [
             0.6,
             "#e6f5d0"
            ],
            [
             0.7,
             "#b8e186"
            ],
            [
             0.8,
             "#7fbc41"
            ],
            [
             0.9,
             "#4d9221"
            ],
            [
             1,
             "#276419"
            ]
           ],
           "sequential": [
            [
             0,
             "#0d0887"
            ],
            [
             0.1111111111111111,
             "#46039f"
            ],
            [
             0.2222222222222222,
             "#7201a8"
            ],
            [
             0.3333333333333333,
             "#9c179e"
            ],
            [
             0.4444444444444444,
             "#bd3786"
            ],
            [
             0.5555555555555556,
             "#d8576b"
            ],
            [
             0.6666666666666666,
             "#ed7953"
            ],
            [
             0.7777777777777778,
             "#fb9f3a"
            ],
            [
             0.8888888888888888,
             "#fdca26"
            ],
            [
             1,
             "#f0f921"
            ]
           ],
           "sequentialminus": [
            [
             0,
             "#0d0887"
            ],
            [
             0.1111111111111111,
             "#46039f"
            ],
            [
             0.2222222222222222,
             "#7201a8"
            ],
            [
             0.3333333333333333,
             "#9c179e"
            ],
            [
             0.4444444444444444,
             "#bd3786"
            ],
            [
             0.5555555555555556,
             "#d8576b"
            ],
            [
             0.6666666666666666,
             "#ed7953"
            ],
            [
             0.7777777777777778,
             "#fb9f3a"
            ],
            [
             0.8888888888888888,
             "#fdca26"
            ],
            [
             1,
             "#f0f921"
            ]
           ]
          },
          "colorway": [
           "#636efa",
           "#EF553B",
           "#00cc96",
           "#ab63fa",
           "#FFA15A",
           "#19d3f3",
           "#FF6692",
           "#B6E880",
           "#FF97FF",
           "#FECB52"
          ],
          "font": {
           "color": "#2a3f5f"
          },
          "geo": {
           "bgcolor": "white",
           "lakecolor": "white",
           "landcolor": "#E5ECF6",
           "showlakes": true,
           "showland": true,
           "subunitcolor": "white"
          },
          "hoverlabel": {
           "align": "left"
          },
          "hovermode": "closest",
          "mapbox": {
           "style": "light"
          },
          "paper_bgcolor": "white",
          "plot_bgcolor": "#E5ECF6",
          "polar": {
           "angularaxis": {
            "gridcolor": "white",
            "linecolor": "white",
            "ticks": ""
           },
           "bgcolor": "#E5ECF6",
           "radialaxis": {
            "gridcolor": "white",
            "linecolor": "white",
            "ticks": ""
           }
          },
          "scene": {
           "xaxis": {
            "backgroundcolor": "#E5ECF6",
            "gridcolor": "white",
            "gridwidth": 2,
            "linecolor": "white",
            "showbackground": true,
            "ticks": "",
            "zerolinecolor": "white"
           },
           "yaxis": {
            "backgroundcolor": "#E5ECF6",
            "gridcolor": "white",
            "gridwidth": 2,
            "linecolor": "white",
            "showbackground": true,
            "ticks": "",
            "zerolinecolor": "white"
           },
           "zaxis": {
            "backgroundcolor": "#E5ECF6",
            "gridcolor": "white",
            "gridwidth": 2,
            "linecolor": "white",
            "showbackground": true,
            "ticks": "",
            "zerolinecolor": "white"
           }
          },
          "shapedefaults": {
           "line": {
            "color": "#2a3f5f"
           }
          },
          "ternary": {
           "aaxis": {
            "gridcolor": "white",
            "linecolor": "white",
            "ticks": ""
           },
           "baxis": {
            "gridcolor": "white",
            "linecolor": "white",
            "ticks": ""
           },
           "bgcolor": "#E5ECF6",
           "caxis": {
            "gridcolor": "white",
            "linecolor": "white",
            "ticks": ""
           }
          },
          "title": {
           "x": 0.05
          },
          "xaxis": {
           "automargin": true,
           "gridcolor": "white",
           "linecolor": "white",
           "ticks": "",
           "title": {
            "standoff": 15
           },
           "zerolinecolor": "white",
           "zerolinewidth": 2
          },
          "yaxis": {
           "automargin": true,
           "gridcolor": "white",
           "linecolor": "white",
           "ticks": "",
           "title": {
            "standoff": 15
           },
           "zerolinecolor": "white",
           "zerolinewidth": 2
          }
         }
        },
        "title": {
         "text": "Delta between the sum of the rows of the steady state matrix and the sum of the rows of the original matrix"
        },
        "xaxis": {
         "anchor": "y",
         "domain": [
          0,
          1
         ],
         "title": {
          "text": "index"
         }
        },
        "yaxis": {
         "anchor": "x",
         "domain": [
          0,
          1
         ],
         "title": {
          "text": "value"
         }
        }
       }
      }
     },
     "metadata": {},
     "output_type": "display_data"
    }
   ],
   "source": [
    "# plot df_steady_out_delta with barplot with plotly express\n",
    "fig = px.bar(df_steady_delta.T, barmode='group', title=\"Delta between the sum of the rows of the steady state matrix and the sum of the rows of the original matrix\")\n",
    "fig.show()"
   ]
  },
  {
   "cell_type": "code",
   "execution_count": 1197,
   "metadata": {},
   "outputs": [
    {
     "data": {
      "application/vnd.plotly.v1+json": {
       "config": {
        "plotlyServerURL": "https://plot.ly"
       },
       "data": [
        {
         "alignmentgroup": "True",
         "hovertemplate": "x=%{x}<br>y=%{y}<br>color=%{marker.color}<extra></extra>",
         "legendgroup": "",
         "marker": {
          "color": [
           0.35967533925972756,
           0.4537254086693505,
           0.2225176533560748,
           0.2209315723969198,
           0.33607979530061455,
           0.2843843710840806
          ],
          "coloraxis": "coloraxis",
          "pattern": {
           "shape": ""
          }
         },
         "name": "",
         "offsetgroup": "",
         "orientation": "v",
         "showlegend": false,
         "textposition": "auto",
         "type": "bar",
         "x": [
          "soggetto_1",
          "soggetto_2",
          "soggetto_3",
          "soggetto_6",
          "soggetto_7",
          "soggetto_8"
         ],
         "xaxis": "x",
         "y": [
          0.35967533925972756,
          0.4537254086693505,
          0.2225176533560748,
          0.2209315723969198,
          0.33607979530061455,
          0.2843843710840806
         ],
         "yaxis": "y"
        }
       ],
       "layout": {
        "barmode": "relative",
        "coloraxis": {
         "colorbar": {
          "title": {
           "text": "color"
          }
         },
         "colorscale": [
          [
           0,
           "#0d0887"
          ],
          [
           0.1111111111111111,
           "#46039f"
          ],
          [
           0.2222222222222222,
           "#7201a8"
          ],
          [
           0.3333333333333333,
           "#9c179e"
          ],
          [
           0.4444444444444444,
           "#bd3786"
          ],
          [
           0.5555555555555556,
           "#d8576b"
          ],
          [
           0.6666666666666666,
           "#ed7953"
          ],
          [
           0.7777777777777778,
           "#fb9f3a"
          ],
          [
           0.8888888888888888,
           "#fdca26"
          ],
          [
           1,
           "#f0f921"
          ]
         ]
        },
        "legend": {
         "tracegroupgap": 0
        },
        "template": {
         "data": {
          "bar": [
           {
            "error_x": {
             "color": "#2a3f5f"
            },
            "error_y": {
             "color": "#2a3f5f"
            },
            "marker": {
             "line": {
              "color": "#E5ECF6",
              "width": 0.5
             },
             "pattern": {
              "fillmode": "overlay",
              "size": 10,
              "solidity": 0.2
             }
            },
            "type": "bar"
           }
          ],
          "barpolar": [
           {
            "marker": {
             "line": {
              "color": "#E5ECF6",
              "width": 0.5
             },
             "pattern": {
              "fillmode": "overlay",
              "size": 10,
              "solidity": 0.2
             }
            },
            "type": "barpolar"
           }
          ],
          "carpet": [
           {
            "aaxis": {
             "endlinecolor": "#2a3f5f",
             "gridcolor": "white",
             "linecolor": "white",
             "minorgridcolor": "white",
             "startlinecolor": "#2a3f5f"
            },
            "baxis": {
             "endlinecolor": "#2a3f5f",
             "gridcolor": "white",
             "linecolor": "white",
             "minorgridcolor": "white",
             "startlinecolor": "#2a3f5f"
            },
            "type": "carpet"
           }
          ],
          "choropleth": [
           {
            "colorbar": {
             "outlinewidth": 0,
             "ticks": ""
            },
            "type": "choropleth"
           }
          ],
          "contour": [
           {
            "colorbar": {
             "outlinewidth": 0,
             "ticks": ""
            },
            "colorscale": [
             [
              0,
              "#0d0887"
             ],
             [
              0.1111111111111111,
              "#46039f"
             ],
             [
              0.2222222222222222,
              "#7201a8"
             ],
             [
              0.3333333333333333,
              "#9c179e"
             ],
             [
              0.4444444444444444,
              "#bd3786"
             ],
             [
              0.5555555555555556,
              "#d8576b"
             ],
             [
              0.6666666666666666,
              "#ed7953"
             ],
             [
              0.7777777777777778,
              "#fb9f3a"
             ],
             [
              0.8888888888888888,
              "#fdca26"
             ],
             [
              1,
              "#f0f921"
             ]
            ],
            "type": "contour"
           }
          ],
          "contourcarpet": [
           {
            "colorbar": {
             "outlinewidth": 0,
             "ticks": ""
            },
            "type": "contourcarpet"
           }
          ],
          "heatmap": [
           {
            "colorbar": {
             "outlinewidth": 0,
             "ticks": ""
            },
            "colorscale": [
             [
              0,
              "#0d0887"
             ],
             [
              0.1111111111111111,
              "#46039f"
             ],
             [
              0.2222222222222222,
              "#7201a8"
             ],
             [
              0.3333333333333333,
              "#9c179e"
             ],
             [
              0.4444444444444444,
              "#bd3786"
             ],
             [
              0.5555555555555556,
              "#d8576b"
             ],
             [
              0.6666666666666666,
              "#ed7953"
             ],
             [
              0.7777777777777778,
              "#fb9f3a"
             ],
             [
              0.8888888888888888,
              "#fdca26"
             ],
             [
              1,
              "#f0f921"
             ]
            ],
            "type": "heatmap"
           }
          ],
          "heatmapgl": [
           {
            "colorbar": {
             "outlinewidth": 0,
             "ticks": ""
            },
            "colorscale": [
             [
              0,
              "#0d0887"
             ],
             [
              0.1111111111111111,
              "#46039f"
             ],
             [
              0.2222222222222222,
              "#7201a8"
             ],
             [
              0.3333333333333333,
              "#9c179e"
             ],
             [
              0.4444444444444444,
              "#bd3786"
             ],
             [
              0.5555555555555556,
              "#d8576b"
             ],
             [
              0.6666666666666666,
              "#ed7953"
             ],
             [
              0.7777777777777778,
              "#fb9f3a"
             ],
             [
              0.8888888888888888,
              "#fdca26"
             ],
             [
              1,
              "#f0f921"
             ]
            ],
            "type": "heatmapgl"
           }
          ],
          "histogram": [
           {
            "marker": {
             "pattern": {
              "fillmode": "overlay",
              "size": 10,
              "solidity": 0.2
             }
            },
            "type": "histogram"
           }
          ],
          "histogram2d": [
           {
            "colorbar": {
             "outlinewidth": 0,
             "ticks": ""
            },
            "colorscale": [
             [
              0,
              "#0d0887"
             ],
             [
              0.1111111111111111,
              "#46039f"
             ],
             [
              0.2222222222222222,
              "#7201a8"
             ],
             [
              0.3333333333333333,
              "#9c179e"
             ],
             [
              0.4444444444444444,
              "#bd3786"
             ],
             [
              0.5555555555555556,
              "#d8576b"
             ],
             [
              0.6666666666666666,
              "#ed7953"
             ],
             [
              0.7777777777777778,
              "#fb9f3a"
             ],
             [
              0.8888888888888888,
              "#fdca26"
             ],
             [
              1,
              "#f0f921"
             ]
            ],
            "type": "histogram2d"
           }
          ],
          "histogram2dcontour": [
           {
            "colorbar": {
             "outlinewidth": 0,
             "ticks": ""
            },
            "colorscale": [
             [
              0,
              "#0d0887"
             ],
             [
              0.1111111111111111,
              "#46039f"
             ],
             [
              0.2222222222222222,
              "#7201a8"
             ],
             [
              0.3333333333333333,
              "#9c179e"
             ],
             [
              0.4444444444444444,
              "#bd3786"
             ],
             [
              0.5555555555555556,
              "#d8576b"
             ],
             [
              0.6666666666666666,
              "#ed7953"
             ],
             [
              0.7777777777777778,
              "#fb9f3a"
             ],
             [
              0.8888888888888888,
              "#fdca26"
             ],
             [
              1,
              "#f0f921"
             ]
            ],
            "type": "histogram2dcontour"
           }
          ],
          "mesh3d": [
           {
            "colorbar": {
             "outlinewidth": 0,
             "ticks": ""
            },
            "type": "mesh3d"
           }
          ],
          "parcoords": [
           {
            "line": {
             "colorbar": {
              "outlinewidth": 0,
              "ticks": ""
             }
            },
            "type": "parcoords"
           }
          ],
          "pie": [
           {
            "automargin": true,
            "type": "pie"
           }
          ],
          "scatter": [
           {
            "fillpattern": {
             "fillmode": "overlay",
             "size": 10,
             "solidity": 0.2
            },
            "type": "scatter"
           }
          ],
          "scatter3d": [
           {
            "line": {
             "colorbar": {
              "outlinewidth": 0,
              "ticks": ""
             }
            },
            "marker": {
             "colorbar": {
              "outlinewidth": 0,
              "ticks": ""
             }
            },
            "type": "scatter3d"
           }
          ],
          "scattercarpet": [
           {
            "marker": {
             "colorbar": {
              "outlinewidth": 0,
              "ticks": ""
             }
            },
            "type": "scattercarpet"
           }
          ],
          "scattergeo": [
           {
            "marker": {
             "colorbar": {
              "outlinewidth": 0,
              "ticks": ""
             }
            },
            "type": "scattergeo"
           }
          ],
          "scattergl": [
           {
            "marker": {
             "colorbar": {
              "outlinewidth": 0,
              "ticks": ""
             }
            },
            "type": "scattergl"
           }
          ],
          "scattermapbox": [
           {
            "marker": {
             "colorbar": {
              "outlinewidth": 0,
              "ticks": ""
             }
            },
            "type": "scattermapbox"
           }
          ],
          "scatterpolar": [
           {
            "marker": {
             "colorbar": {
              "outlinewidth": 0,
              "ticks": ""
             }
            },
            "type": "scatterpolar"
           }
          ],
          "scatterpolargl": [
           {
            "marker": {
             "colorbar": {
              "outlinewidth": 0,
              "ticks": ""
             }
            },
            "type": "scatterpolargl"
           }
          ],
          "scatterternary": [
           {
            "marker": {
             "colorbar": {
              "outlinewidth": 0,
              "ticks": ""
             }
            },
            "type": "scatterternary"
           }
          ],
          "surface": [
           {
            "colorbar": {
             "outlinewidth": 0,
             "ticks": ""
            },
            "colorscale": [
             [
              0,
              "#0d0887"
             ],
             [
              0.1111111111111111,
              "#46039f"
             ],
             [
              0.2222222222222222,
              "#7201a8"
             ],
             [
              0.3333333333333333,
              "#9c179e"
             ],
             [
              0.4444444444444444,
              "#bd3786"
             ],
             [
              0.5555555555555556,
              "#d8576b"
             ],
             [
              0.6666666666666666,
              "#ed7953"
             ],
             [
              0.7777777777777778,
              "#fb9f3a"
             ],
             [
              0.8888888888888888,
              "#fdca26"
             ],
             [
              1,
              "#f0f921"
             ]
            ],
            "type": "surface"
           }
          ],
          "table": [
           {
            "cells": {
             "fill": {
              "color": "#EBF0F8"
             },
             "line": {
              "color": "white"
             }
            },
            "header": {
             "fill": {
              "color": "#C8D4E3"
             },
             "line": {
              "color": "white"
             }
            },
            "type": "table"
           }
          ]
         },
         "layout": {
          "annotationdefaults": {
           "arrowcolor": "#2a3f5f",
           "arrowhead": 0,
           "arrowwidth": 1
          },
          "autotypenumbers": "strict",
          "coloraxis": {
           "colorbar": {
            "outlinewidth": 0,
            "ticks": ""
           }
          },
          "colorscale": {
           "diverging": [
            [
             0,
             "#8e0152"
            ],
            [
             0.1,
             "#c51b7d"
            ],
            [
             0.2,
             "#de77ae"
            ],
            [
             0.3,
             "#f1b6da"
            ],
            [
             0.4,
             "#fde0ef"
            ],
            [
             0.5,
             "#f7f7f7"
            ],
            [
             0.6,
             "#e6f5d0"
            ],
            [
             0.7,
             "#b8e186"
            ],
            [
             0.8,
             "#7fbc41"
            ],
            [
             0.9,
             "#4d9221"
            ],
            [
             1,
             "#276419"
            ]
           ],
           "sequential": [
            [
             0,
             "#0d0887"
            ],
            [
             0.1111111111111111,
             "#46039f"
            ],
            [
             0.2222222222222222,
             "#7201a8"
            ],
            [
             0.3333333333333333,
             "#9c179e"
            ],
            [
             0.4444444444444444,
             "#bd3786"
            ],
            [
             0.5555555555555556,
             "#d8576b"
            ],
            [
             0.6666666666666666,
             "#ed7953"
            ],
            [
             0.7777777777777778,
             "#fb9f3a"
            ],
            [
             0.8888888888888888,
             "#fdca26"
            ],
            [
             1,
             "#f0f921"
            ]
           ],
           "sequentialminus": [
            [
             0,
             "#0d0887"
            ],
            [
             0.1111111111111111,
             "#46039f"
            ],
            [
             0.2222222222222222,
             "#7201a8"
            ],
            [
             0.3333333333333333,
             "#9c179e"
            ],
            [
             0.4444444444444444,
             "#bd3786"
            ],
            [
             0.5555555555555556,
             "#d8576b"
            ],
            [
             0.6666666666666666,
             "#ed7953"
            ],
            [
             0.7777777777777778,
             "#fb9f3a"
            ],
            [
             0.8888888888888888,
             "#fdca26"
            ],
            [
             1,
             "#f0f921"
            ]
           ]
          },
          "colorway": [
           "#636efa",
           "#EF553B",
           "#00cc96",
           "#ab63fa",
           "#FFA15A",
           "#19d3f3",
           "#FF6692",
           "#B6E880",
           "#FF97FF",
           "#FECB52"
          ],
          "font": {
           "color": "#2a3f5f"
          },
          "geo": {
           "bgcolor": "white",
           "lakecolor": "white",
           "landcolor": "#E5ECF6",
           "showlakes": true,
           "showland": true,
           "subunitcolor": "white"
          },
          "hoverlabel": {
           "align": "left"
          },
          "hovermode": "closest",
          "mapbox": {
           "style": "light"
          },
          "paper_bgcolor": "white",
          "plot_bgcolor": "#E5ECF6",
          "polar": {
           "angularaxis": {
            "gridcolor": "white",
            "linecolor": "white",
            "ticks": ""
           },
           "bgcolor": "#E5ECF6",
           "radialaxis": {
            "gridcolor": "white",
            "linecolor": "white",
            "ticks": ""
           }
          },
          "scene": {
           "xaxis": {
            "backgroundcolor": "#E5ECF6",
            "gridcolor": "white",
            "gridwidth": 2,
            "linecolor": "white",
            "showbackground": true,
            "ticks": "",
            "zerolinecolor": "white"
           },
           "yaxis": {
            "backgroundcolor": "#E5ECF6",
            "gridcolor": "white",
            "gridwidth": 2,
            "linecolor": "white",
            "showbackground": true,
            "ticks": "",
            "zerolinecolor": "white"
           },
           "zaxis": {
            "backgroundcolor": "#E5ECF6",
            "gridcolor": "white",
            "gridwidth": 2,
            "linecolor": "white",
            "showbackground": true,
            "ticks": "",
            "zerolinecolor": "white"
           }
          },
          "shapedefaults": {
           "line": {
            "color": "#2a3f5f"
           }
          },
          "ternary": {
           "aaxis": {
            "gridcolor": "white",
            "linecolor": "white",
            "ticks": ""
           },
           "baxis": {
            "gridcolor": "white",
            "linecolor": "white",
            "ticks": ""
           },
           "bgcolor": "#E5ECF6",
           "caxis": {
            "gridcolor": "white",
            "linecolor": "white",
            "ticks": ""
           }
          },
          "title": {
           "x": 0.05
          },
          "xaxis": {
           "automargin": true,
           "gridcolor": "white",
           "linecolor": "white",
           "ticks": "",
           "title": {
            "standoff": 15
           },
           "zerolinecolor": "white",
           "zerolinewidth": 2
          },
          "yaxis": {
           "automargin": true,
           "gridcolor": "white",
           "linecolor": "white",
           "ticks": "",
           "title": {
            "standoff": 15
           },
           "zerolinecolor": "white",
           "zerolinewidth": 2
          }
         }
        },
        "title": {
         "text": "Standard deviation of the delta between the sum of the rows of the steady state matrix and the sum of the rows of the original matrix"
        },
        "xaxis": {
         "anchor": "y",
         "domain": [
          0,
          1
         ],
         "title": {
          "text": "x"
         }
        },
        "yaxis": {
         "anchor": "x",
         "domain": [
          0,
          1
         ],
         "title": {
          "text": "y"
         }
        }
       }
      }
     },
     "metadata": {},
     "output_type": "display_data"
    }
   ],
   "source": [
    "fig = px.bar(df_steady_delta.std(axis=0), x=df_steady_delta.std(axis=0).index, y=df_steady_delta.std(axis=0).values, color=df_steady_delta.std(axis=0), title=\"Standard deviation of the delta between the sum of the rows of the steady state matrix and the sum of the rows of the original matrix\")\n",
    "fig.show()"
   ]
  },
  {
   "cell_type": "code",
   "execution_count": 1198,
   "metadata": {},
   "outputs": [],
   "source": [
    "df_steady = pd.DataFrame(columns=subjects, index=df_o_dict[subject].columns)\n",
    "for subject in subjects:\n",
    "    df_steady[subject] = df_steady_dict[subject].sum(axis = 0)"
   ]
  },
  {
   "cell_type": "code",
   "execution_count": 1199,
   "metadata": {},
   "outputs": [
    {
     "data": {
      "text/html": [
       "<div>\n",
       "<style scoped>\n",
       "    .dataframe tbody tr th:only-of-type {\n",
       "        vertical-align: middle;\n",
       "    }\n",
       "\n",
       "    .dataframe tbody tr th {\n",
       "        vertical-align: top;\n",
       "    }\n",
       "\n",
       "    .dataframe thead th {\n",
       "        text-align: right;\n",
       "    }\n",
       "</style>\n",
       "<table border=\"1\" class=\"dataframe\">\n",
       "  <thead>\n",
       "    <tr style=\"text-align: right;\">\n",
       "      <th></th>\n",
       "      <th>soggetto_1</th>\n",
       "      <th>soggetto_2</th>\n",
       "      <th>soggetto_3</th>\n",
       "      <th>soggetto_6</th>\n",
       "      <th>soggetto_7</th>\n",
       "      <th>soggetto_8</th>\n",
       "    </tr>\n",
       "  </thead>\n",
       "  <tbody>\n",
       "    <tr>\n",
       "      <th>TrRi</th>\n",
       "      <td>-0.923734</td>\n",
       "      <td>-0.550850</td>\n",
       "      <td>0.124199</td>\n",
       "      <td>-0.132490</td>\n",
       "      <td>-0.181651</td>\n",
       "      <td>0.820583</td>\n",
       "    </tr>\n",
       "    <tr>\n",
       "      <th>RiTr</th>\n",
       "      <td>-0.640269</td>\n",
       "      <td>-1.227800</td>\n",
       "      <td>-1.230404</td>\n",
       "      <td>-0.752674</td>\n",
       "      <td>0.145992</td>\n",
       "      <td>-0.655622</td>\n",
       "    </tr>\n",
       "    <tr>\n",
       "      <th>Plu</th>\n",
       "      <td>-0.764299</td>\n",
       "      <td>-0.574813</td>\n",
       "      <td>-0.964050</td>\n",
       "      <td>-1.052550</td>\n",
       "      <td>0.448945</td>\n",
       "      <td>0.174834</td>\n",
       "    </tr>\n",
       "    <tr>\n",
       "      <th>Ttra</th>\n",
       "      <td>-0.285409</td>\n",
       "      <td>-1.099481</td>\n",
       "      <td>0.199464</td>\n",
       "      <td>0.597197</td>\n",
       "      <td>0.609354</td>\n",
       "      <td>0.938224</td>\n",
       "    </tr>\n",
       "    <tr>\n",
       "      <th>Ttrb</th>\n",
       "      <td>-0.904280</td>\n",
       "      <td>-0.885821</td>\n",
       "      <td>1.247884</td>\n",
       "      <td>0.461401</td>\n",
       "      <td>-0.554263</td>\n",
       "      <td>0.104897</td>\n",
       "    </tr>\n",
       "    <tr>\n",
       "      <th>Tr</th>\n",
       "      <td>-0.594575</td>\n",
       "      <td>-0.959977</td>\n",
       "      <td>-0.404525</td>\n",
       "      <td>0.022924</td>\n",
       "      <td>-0.899332</td>\n",
       "      <td>-0.704365</td>\n",
       "    </tr>\n",
       "    <tr>\n",
       "      <th>MeTr</th>\n",
       "      <td>-1.444100</td>\n",
       "      <td>-0.957983</td>\n",
       "      <td>-1.153485</td>\n",
       "      <td>0.080054</td>\n",
       "      <td>0.048805</td>\n",
       "      <td>0.165558</td>\n",
       "    </tr>\n",
       "    <tr>\n",
       "      <th>MoTr</th>\n",
       "      <td>-1.005316</td>\n",
       "      <td>-0.805777</td>\n",
       "      <td>0.630175</td>\n",
       "      <td>0.723695</td>\n",
       "      <td>0.304199</td>\n",
       "      <td>-1.057375</td>\n",
       "    </tr>\n",
       "    <tr>\n",
       "      <th>RiRi</th>\n",
       "      <td>-0.810877</td>\n",
       "      <td>-0.871017</td>\n",
       "      <td>1.238538</td>\n",
       "      <td>0.590789</td>\n",
       "      <td>0.167496</td>\n",
       "      <td>0.759726</td>\n",
       "    </tr>\n",
       "    <tr>\n",
       "      <th>MoFo</th>\n",
       "      <td>-0.778544</td>\n",
       "      <td>-0.840750</td>\n",
       "      <td>-0.788837</td>\n",
       "      <td>-0.766050</td>\n",
       "      <td>0.672458</td>\n",
       "      <td>-0.028981</td>\n",
       "    </tr>\n",
       "    <tr>\n",
       "      <th>Mmof</th>\n",
       "      <td>-0.593088</td>\n",
       "      <td>-0.980844</td>\n",
       "      <td>0.352962</td>\n",
       "      <td>0.337822</td>\n",
       "      <td>-0.522699</td>\n",
       "      <td>-0.421307</td>\n",
       "    </tr>\n",
       "    <tr>\n",
       "      <th>MoRi</th>\n",
       "      <td>-1.215564</td>\n",
       "      <td>-1.303424</td>\n",
       "      <td>-0.998210</td>\n",
       "      <td>0.187553</td>\n",
       "      <td>-0.470468</td>\n",
       "      <td>-0.624170</td>\n",
       "    </tr>\n",
       "    <tr>\n",
       "      <th>MeRi</th>\n",
       "      <td>-1.793746</td>\n",
       "      <td>-1.312873</td>\n",
       "      <td>1.269580</td>\n",
       "      <td>-0.360674</td>\n",
       "      <td>-0.088047</td>\n",
       "      <td>0.187018</td>\n",
       "    </tr>\n",
       "    <tr>\n",
       "      <th>Ri</th>\n",
       "      <td>-1.290693</td>\n",
       "      <td>-1.603666</td>\n",
       "      <td>0.439729</td>\n",
       "      <td>0.336878</td>\n",
       "      <td>0.242175</td>\n",
       "      <td>0.602718</td>\n",
       "    </tr>\n",
       "    <tr>\n",
       "      <th>Comp</th>\n",
       "      <td>-1.955508</td>\n",
       "      <td>-1.024924</td>\n",
       "      <td>0.036981</td>\n",
       "      <td>-0.273875</td>\n",
       "      <td>0.077037</td>\n",
       "      <td>-0.261736</td>\n",
       "    </tr>\n",
       "  </tbody>\n",
       "</table>\n",
       "</div>"
      ],
      "text/plain": [
       "      soggetto_1  soggetto_2  soggetto_3  soggetto_6  soggetto_7  soggetto_8\n",
       "TrRi   -0.923734   -0.550850    0.124199   -0.132490   -0.181651    0.820583\n",
       "RiTr   -0.640269   -1.227800   -1.230404   -0.752674    0.145992   -0.655622\n",
       "Plu    -0.764299   -0.574813   -0.964050   -1.052550    0.448945    0.174834\n",
       "Ttra   -0.285409   -1.099481    0.199464    0.597197    0.609354    0.938224\n",
       "Ttrb   -0.904280   -0.885821    1.247884    0.461401   -0.554263    0.104897\n",
       "Tr     -0.594575   -0.959977   -0.404525    0.022924   -0.899332   -0.704365\n",
       "MeTr   -1.444100   -0.957983   -1.153485    0.080054    0.048805    0.165558\n",
       "MoTr   -1.005316   -0.805777    0.630175    0.723695    0.304199   -1.057375\n",
       "RiRi   -0.810877   -0.871017    1.238538    0.590789    0.167496    0.759726\n",
       "MoFo   -0.778544   -0.840750   -0.788837   -0.766050    0.672458   -0.028981\n",
       "Mmof   -0.593088   -0.980844    0.352962    0.337822   -0.522699   -0.421307\n",
       "MoRi   -1.215564   -1.303424   -0.998210    0.187553   -0.470468   -0.624170\n",
       "MeRi   -1.793746   -1.312873    1.269580   -0.360674   -0.088047    0.187018\n",
       "Ri     -1.290693   -1.603666    0.439729    0.336878    0.242175    0.602718\n",
       "Comp   -1.955508   -1.024924    0.036981   -0.273875    0.077037   -0.261736"
      ]
     },
     "execution_count": 1199,
     "metadata": {},
     "output_type": "execute_result"
    }
   ],
   "source": [
    "df_steady"
   ]
  },
  {
   "cell_type": "code",
   "execution_count": 1200,
   "metadata": {},
   "outputs": [
    {
     "data": {
      "text/plain": [
       "soggetto_1    0.462647\n",
       "soggetto_2    0.279769\n",
       "soggetto_3    0.887646\n",
       "soggetto_6    0.547454\n",
       "soggetto_7    0.453970\n",
       "soggetto_8    0.614031\n",
       "dtype: float64"
      ]
     },
     "execution_count": 1200,
     "metadata": {},
     "output_type": "execute_result"
    }
   ],
   "source": [
    "df_steady.std(axis=0)"
   ]
  },
  {
   "cell_type": "code",
   "execution_count": 1201,
   "metadata": {},
   "outputs": [
    {
     "data": {
      "application/vnd.plotly.v1+json": {
       "config": {
        "plotlyServerURL": "https://plot.ly"
       },
       "data": [
        {
         "alignmentgroup": "True",
         "hovertemplate": "x=%{x}<br>y=%{y}<br>color=%{marker.color}<extra></extra>",
         "legendgroup": "",
         "marker": {
          "color": [
           0.4626467998333438,
           0.2797691577704164,
           0.887645794552401,
           0.5474539700390458,
           0.4539701152040794,
           0.6140309910878586
          ],
          "coloraxis": "coloraxis",
          "pattern": {
           "shape": ""
          }
         },
         "name": "",
         "offsetgroup": "",
         "orientation": "v",
         "showlegend": false,
         "textposition": "auto",
         "type": "bar",
         "x": [
          "soggetto_1",
          "soggetto_2",
          "soggetto_3",
          "soggetto_6",
          "soggetto_7",
          "soggetto_8"
         ],
         "xaxis": "x",
         "y": [
          0.4626467998333438,
          0.2797691577704164,
          0.887645794552401,
          0.5474539700390458,
          0.4539701152040794,
          0.6140309910878586
         ],
         "yaxis": "y"
        }
       ],
       "layout": {
        "barmode": "relative",
        "coloraxis": {
         "colorbar": {
          "title": {
           "text": "color"
          }
         },
         "colorscale": [
          [
           0,
           "#0d0887"
          ],
          [
           0.1111111111111111,
           "#46039f"
          ],
          [
           0.2222222222222222,
           "#7201a8"
          ],
          [
           0.3333333333333333,
           "#9c179e"
          ],
          [
           0.4444444444444444,
           "#bd3786"
          ],
          [
           0.5555555555555556,
           "#d8576b"
          ],
          [
           0.6666666666666666,
           "#ed7953"
          ],
          [
           0.7777777777777778,
           "#fb9f3a"
          ],
          [
           0.8888888888888888,
           "#fdca26"
          ],
          [
           1,
           "#f0f921"
          ]
         ]
        },
        "legend": {
         "tracegroupgap": 0
        },
        "margin": {
         "t": 60
        },
        "template": {
         "data": {
          "bar": [
           {
            "error_x": {
             "color": "#2a3f5f"
            },
            "error_y": {
             "color": "#2a3f5f"
            },
            "marker": {
             "line": {
              "color": "#E5ECF6",
              "width": 0.5
             },
             "pattern": {
              "fillmode": "overlay",
              "size": 10,
              "solidity": 0.2
             }
            },
            "type": "bar"
           }
          ],
          "barpolar": [
           {
            "marker": {
             "line": {
              "color": "#E5ECF6",
              "width": 0.5
             },
             "pattern": {
              "fillmode": "overlay",
              "size": 10,
              "solidity": 0.2
             }
            },
            "type": "barpolar"
           }
          ],
          "carpet": [
           {
            "aaxis": {
             "endlinecolor": "#2a3f5f",
             "gridcolor": "white",
             "linecolor": "white",
             "minorgridcolor": "white",
             "startlinecolor": "#2a3f5f"
            },
            "baxis": {
             "endlinecolor": "#2a3f5f",
             "gridcolor": "white",
             "linecolor": "white",
             "minorgridcolor": "white",
             "startlinecolor": "#2a3f5f"
            },
            "type": "carpet"
           }
          ],
          "choropleth": [
           {
            "colorbar": {
             "outlinewidth": 0,
             "ticks": ""
            },
            "type": "choropleth"
           }
          ],
          "contour": [
           {
            "colorbar": {
             "outlinewidth": 0,
             "ticks": ""
            },
            "colorscale": [
             [
              0,
              "#0d0887"
             ],
             [
              0.1111111111111111,
              "#46039f"
             ],
             [
              0.2222222222222222,
              "#7201a8"
             ],
             [
              0.3333333333333333,
              "#9c179e"
             ],
             [
              0.4444444444444444,
              "#bd3786"
             ],
             [
              0.5555555555555556,
              "#d8576b"
             ],
             [
              0.6666666666666666,
              "#ed7953"
             ],
             [
              0.7777777777777778,
              "#fb9f3a"
             ],
             [
              0.8888888888888888,
              "#fdca26"
             ],
             [
              1,
              "#f0f921"
             ]
            ],
            "type": "contour"
           }
          ],
          "contourcarpet": [
           {
            "colorbar": {
             "outlinewidth": 0,
             "ticks": ""
            },
            "type": "contourcarpet"
           }
          ],
          "heatmap": [
           {
            "colorbar": {
             "outlinewidth": 0,
             "ticks": ""
            },
            "colorscale": [
             [
              0,
              "#0d0887"
             ],
             [
              0.1111111111111111,
              "#46039f"
             ],
             [
              0.2222222222222222,
              "#7201a8"
             ],
             [
              0.3333333333333333,
              "#9c179e"
             ],
             [
              0.4444444444444444,
              "#bd3786"
             ],
             [
              0.5555555555555556,
              "#d8576b"
             ],
             [
              0.6666666666666666,
              "#ed7953"
             ],
             [
              0.7777777777777778,
              "#fb9f3a"
             ],
             [
              0.8888888888888888,
              "#fdca26"
             ],
             [
              1,
              "#f0f921"
             ]
            ],
            "type": "heatmap"
           }
          ],
          "heatmapgl": [
           {
            "colorbar": {
             "outlinewidth": 0,
             "ticks": ""
            },
            "colorscale": [
             [
              0,
              "#0d0887"
             ],
             [
              0.1111111111111111,
              "#46039f"
             ],
             [
              0.2222222222222222,
              "#7201a8"
             ],
             [
              0.3333333333333333,
              "#9c179e"
             ],
             [
              0.4444444444444444,
              "#bd3786"
             ],
             [
              0.5555555555555556,
              "#d8576b"
             ],
             [
              0.6666666666666666,
              "#ed7953"
             ],
             [
              0.7777777777777778,
              "#fb9f3a"
             ],
             [
              0.8888888888888888,
              "#fdca26"
             ],
             [
              1,
              "#f0f921"
             ]
            ],
            "type": "heatmapgl"
           }
          ],
          "histogram": [
           {
            "marker": {
             "pattern": {
              "fillmode": "overlay",
              "size": 10,
              "solidity": 0.2
             }
            },
            "type": "histogram"
           }
          ],
          "histogram2d": [
           {
            "colorbar": {
             "outlinewidth": 0,
             "ticks": ""
            },
            "colorscale": [
             [
              0,
              "#0d0887"
             ],
             [
              0.1111111111111111,
              "#46039f"
             ],
             [
              0.2222222222222222,
              "#7201a8"
             ],
             [
              0.3333333333333333,
              "#9c179e"
             ],
             [
              0.4444444444444444,
              "#bd3786"
             ],
             [
              0.5555555555555556,
              "#d8576b"
             ],
             [
              0.6666666666666666,
              "#ed7953"
             ],
             [
              0.7777777777777778,
              "#fb9f3a"
             ],
             [
              0.8888888888888888,
              "#fdca26"
             ],
             [
              1,
              "#f0f921"
             ]
            ],
            "type": "histogram2d"
           }
          ],
          "histogram2dcontour": [
           {
            "colorbar": {
             "outlinewidth": 0,
             "ticks": ""
            },
            "colorscale": [
             [
              0,
              "#0d0887"
             ],
             [
              0.1111111111111111,
              "#46039f"
             ],
             [
              0.2222222222222222,
              "#7201a8"
             ],
             [
              0.3333333333333333,
              "#9c179e"
             ],
             [
              0.4444444444444444,
              "#bd3786"
             ],
             [
              0.5555555555555556,
              "#d8576b"
             ],
             [
              0.6666666666666666,
              "#ed7953"
             ],
             [
              0.7777777777777778,
              "#fb9f3a"
             ],
             [
              0.8888888888888888,
              "#fdca26"
             ],
             [
              1,
              "#f0f921"
             ]
            ],
            "type": "histogram2dcontour"
           }
          ],
          "mesh3d": [
           {
            "colorbar": {
             "outlinewidth": 0,
             "ticks": ""
            },
            "type": "mesh3d"
           }
          ],
          "parcoords": [
           {
            "line": {
             "colorbar": {
              "outlinewidth": 0,
              "ticks": ""
             }
            },
            "type": "parcoords"
           }
          ],
          "pie": [
           {
            "automargin": true,
            "type": "pie"
           }
          ],
          "scatter": [
           {
            "fillpattern": {
             "fillmode": "overlay",
             "size": 10,
             "solidity": 0.2
            },
            "type": "scatter"
           }
          ],
          "scatter3d": [
           {
            "line": {
             "colorbar": {
              "outlinewidth": 0,
              "ticks": ""
             }
            },
            "marker": {
             "colorbar": {
              "outlinewidth": 0,
              "ticks": ""
             }
            },
            "type": "scatter3d"
           }
          ],
          "scattercarpet": [
           {
            "marker": {
             "colorbar": {
              "outlinewidth": 0,
              "ticks": ""
             }
            },
            "type": "scattercarpet"
           }
          ],
          "scattergeo": [
           {
            "marker": {
             "colorbar": {
              "outlinewidth": 0,
              "ticks": ""
             }
            },
            "type": "scattergeo"
           }
          ],
          "scattergl": [
           {
            "marker": {
             "colorbar": {
              "outlinewidth": 0,
              "ticks": ""
             }
            },
            "type": "scattergl"
           }
          ],
          "scattermapbox": [
           {
            "marker": {
             "colorbar": {
              "outlinewidth": 0,
              "ticks": ""
             }
            },
            "type": "scattermapbox"
           }
          ],
          "scatterpolar": [
           {
            "marker": {
             "colorbar": {
              "outlinewidth": 0,
              "ticks": ""
             }
            },
            "type": "scatterpolar"
           }
          ],
          "scatterpolargl": [
           {
            "marker": {
             "colorbar": {
              "outlinewidth": 0,
              "ticks": ""
             }
            },
            "type": "scatterpolargl"
           }
          ],
          "scatterternary": [
           {
            "marker": {
             "colorbar": {
              "outlinewidth": 0,
              "ticks": ""
             }
            },
            "type": "scatterternary"
           }
          ],
          "surface": [
           {
            "colorbar": {
             "outlinewidth": 0,
             "ticks": ""
            },
            "colorscale": [
             [
              0,
              "#0d0887"
             ],
             [
              0.1111111111111111,
              "#46039f"
             ],
             [
              0.2222222222222222,
              "#7201a8"
             ],
             [
              0.3333333333333333,
              "#9c179e"
             ],
             [
              0.4444444444444444,
              "#bd3786"
             ],
             [
              0.5555555555555556,
              "#d8576b"
             ],
             [
              0.6666666666666666,
              "#ed7953"
             ],
             [
              0.7777777777777778,
              "#fb9f3a"
             ],
             [
              0.8888888888888888,
              "#fdca26"
             ],
             [
              1,
              "#f0f921"
             ]
            ],
            "type": "surface"
           }
          ],
          "table": [
           {
            "cells": {
             "fill": {
              "color": "#EBF0F8"
             },
             "line": {
              "color": "white"
             }
            },
            "header": {
             "fill": {
              "color": "#C8D4E3"
             },
             "line": {
              "color": "white"
             }
            },
            "type": "table"
           }
          ]
         },
         "layout": {
          "annotationdefaults": {
           "arrowcolor": "#2a3f5f",
           "arrowhead": 0,
           "arrowwidth": 1
          },
          "autotypenumbers": "strict",
          "coloraxis": {
           "colorbar": {
            "outlinewidth": 0,
            "ticks": ""
           }
          },
          "colorscale": {
           "diverging": [
            [
             0,
             "#8e0152"
            ],
            [
             0.1,
             "#c51b7d"
            ],
            [
             0.2,
             "#de77ae"
            ],
            [
             0.3,
             "#f1b6da"
            ],
            [
             0.4,
             "#fde0ef"
            ],
            [
             0.5,
             "#f7f7f7"
            ],
            [
             0.6,
             "#e6f5d0"
            ],
            [
             0.7,
             "#b8e186"
            ],
            [
             0.8,
             "#7fbc41"
            ],
            [
             0.9,
             "#4d9221"
            ],
            [
             1,
             "#276419"
            ]
           ],
           "sequential": [
            [
             0,
             "#0d0887"
            ],
            [
             0.1111111111111111,
             "#46039f"
            ],
            [
             0.2222222222222222,
             "#7201a8"
            ],
            [
             0.3333333333333333,
             "#9c179e"
            ],
            [
             0.4444444444444444,
             "#bd3786"
            ],
            [
             0.5555555555555556,
             "#d8576b"
            ],
            [
             0.6666666666666666,
             "#ed7953"
            ],
            [
             0.7777777777777778,
             "#fb9f3a"
            ],
            [
             0.8888888888888888,
             "#fdca26"
            ],
            [
             1,
             "#f0f921"
            ]
           ],
           "sequentialminus": [
            [
             0,
             "#0d0887"
            ],
            [
             0.1111111111111111,
             "#46039f"
            ],
            [
             0.2222222222222222,
             "#7201a8"
            ],
            [
             0.3333333333333333,
             "#9c179e"
            ],
            [
             0.4444444444444444,
             "#bd3786"
            ],
            [
             0.5555555555555556,
             "#d8576b"
            ],
            [
             0.6666666666666666,
             "#ed7953"
            ],
            [
             0.7777777777777778,
             "#fb9f3a"
            ],
            [
             0.8888888888888888,
             "#fdca26"
            ],
            [
             1,
             "#f0f921"
            ]
           ]
          },
          "colorway": [
           "#636efa",
           "#EF553B",
           "#00cc96",
           "#ab63fa",
           "#FFA15A",
           "#19d3f3",
           "#FF6692",
           "#B6E880",
           "#FF97FF",
           "#FECB52"
          ],
          "font": {
           "color": "#2a3f5f"
          },
          "geo": {
           "bgcolor": "white",
           "lakecolor": "white",
           "landcolor": "#E5ECF6",
           "showlakes": true,
           "showland": true,
           "subunitcolor": "white"
          },
          "hoverlabel": {
           "align": "left"
          },
          "hovermode": "closest",
          "mapbox": {
           "style": "light"
          },
          "paper_bgcolor": "white",
          "plot_bgcolor": "#E5ECF6",
          "polar": {
           "angularaxis": {
            "gridcolor": "white",
            "linecolor": "white",
            "ticks": ""
           },
           "bgcolor": "#E5ECF6",
           "radialaxis": {
            "gridcolor": "white",
            "linecolor": "white",
            "ticks": ""
           }
          },
          "scene": {
           "xaxis": {
            "backgroundcolor": "#E5ECF6",
            "gridcolor": "white",
            "gridwidth": 2,
            "linecolor": "white",
            "showbackground": true,
            "ticks": "",
            "zerolinecolor": "white"
           },
           "yaxis": {
            "backgroundcolor": "#E5ECF6",
            "gridcolor": "white",
            "gridwidth": 2,
            "linecolor": "white",
            "showbackground": true,
            "ticks": "",
            "zerolinecolor": "white"
           },
           "zaxis": {
            "backgroundcolor": "#E5ECF6",
            "gridcolor": "white",
            "gridwidth": 2,
            "linecolor": "white",
            "showbackground": true,
            "ticks": "",
            "zerolinecolor": "white"
           }
          },
          "shapedefaults": {
           "line": {
            "color": "#2a3f5f"
           }
          },
          "ternary": {
           "aaxis": {
            "gridcolor": "white",
            "linecolor": "white",
            "ticks": ""
           },
           "baxis": {
            "gridcolor": "white",
            "linecolor": "white",
            "ticks": ""
           },
           "bgcolor": "#E5ECF6",
           "caxis": {
            "gridcolor": "white",
            "linecolor": "white",
            "ticks": ""
           }
          },
          "title": {
           "x": 0.05
          },
          "xaxis": {
           "automargin": true,
           "gridcolor": "white",
           "linecolor": "white",
           "ticks": "",
           "title": {
            "standoff": 15
           },
           "zerolinecolor": "white",
           "zerolinewidth": 2
          },
          "yaxis": {
           "automargin": true,
           "gridcolor": "white",
           "linecolor": "white",
           "ticks": "",
           "title": {
            "standoff": 15
           },
           "zerolinecolor": "white",
           "zerolinewidth": 2
          }
         }
        },
        "xaxis": {
         "anchor": "y",
         "domain": [
          0,
          1
         ],
         "title": {
          "text": "x"
         }
        },
        "yaxis": {
         "anchor": "x",
         "domain": [
          0,
          1
         ],
         "title": {
          "text": "y"
         }
        }
       }
      }
     },
     "metadata": {},
     "output_type": "display_data"
    }
   ],
   "source": [
    "#plot the std of df_steady_out for each subject in a barplot with plotly express \n",
    "fig = px.bar(df_steady.std(axis=0), x=df_steady.std(axis=0).index, y=df_steady.std(axis=0).values, color=df_steady.std(axis=0))\n",
    "fig.show()"
   ]
  },
  {
   "cell_type": "code",
   "execution_count": 1202,
   "metadata": {},
   "outputs": [
    {
     "data": {
      "application/vnd.plotly.v1+json": {
       "config": {
        "plotlyServerURL": "https://plot.ly"
       },
       "data": [
        {
         "alignmentgroup": "True",
         "hovertemplate": "variable=TrRi<br>index=%{x}<br>value=%{y}<extra></extra>",
         "legendgroup": "TrRi",
         "marker": {
          "color": "#636efa",
          "pattern": {
           "shape": ""
          }
         },
         "name": "TrRi",
         "offsetgroup": "TrRi",
         "orientation": "v",
         "showlegend": true,
         "textposition": "auto",
         "type": "bar",
         "x": [
          "soggetto_1",
          "soggetto_2",
          "soggetto_3",
          "soggetto_6",
          "soggetto_7",
          "soggetto_8"
         ],
         "xaxis": "x",
         "y": [
          -0.9237336239298627,
          -0.5508498650341273,
          0.12419883634804293,
          -0.1324902582146183,
          -0.18165133307427223,
          0.8205830691501979
         ],
         "yaxis": "y"
        },
        {
         "alignmentgroup": "True",
         "hovertemplate": "variable=RiTr<br>index=%{x}<br>value=%{y}<extra></extra>",
         "legendgroup": "RiTr",
         "marker": {
          "color": "#EF553B",
          "pattern": {
           "shape": ""
          }
         },
         "name": "RiTr",
         "offsetgroup": "RiTr",
         "orientation": "v",
         "showlegend": true,
         "textposition": "auto",
         "type": "bar",
         "x": [
          "soggetto_1",
          "soggetto_2",
          "soggetto_3",
          "soggetto_6",
          "soggetto_7",
          "soggetto_8"
         ],
         "xaxis": "x",
         "y": [
          -0.6402686784140995,
          -1.2278004956965036,
          -1.2304041625056512,
          -0.7526742821898733,
          0.1459919560564307,
          -0.6556224817474362
         ],
         "yaxis": "y"
        },
        {
         "alignmentgroup": "True",
         "hovertemplate": "variable=Plu<br>index=%{x}<br>value=%{y}<extra></extra>",
         "legendgroup": "Plu",
         "marker": {
          "color": "#00cc96",
          "pattern": {
           "shape": ""
          }
         },
         "name": "Plu",
         "offsetgroup": "Plu",
         "orientation": "v",
         "showlegend": true,
         "textposition": "auto",
         "type": "bar",
         "x": [
          "soggetto_1",
          "soggetto_2",
          "soggetto_3",
          "soggetto_6",
          "soggetto_7",
          "soggetto_8"
         ],
         "xaxis": "x",
         "y": [
          -0.7642988403837276,
          -0.5748127829186488,
          -0.9640497475888183,
          -1.0525500143577178,
          0.44894472383027145,
          0.17483427672149482
         ],
         "yaxis": "y"
        },
        {
         "alignmentgroup": "True",
         "hovertemplate": "variable=Ttra<br>index=%{x}<br>value=%{y}<extra></extra>",
         "legendgroup": "Ttra",
         "marker": {
          "color": "#ab63fa",
          "pattern": {
           "shape": ""
          }
         },
         "name": "Ttra",
         "offsetgroup": "Ttra",
         "orientation": "v",
         "showlegend": true,
         "textposition": "auto",
         "type": "bar",
         "x": [
          "soggetto_1",
          "soggetto_2",
          "soggetto_3",
          "soggetto_6",
          "soggetto_7",
          "soggetto_8"
         ],
         "xaxis": "x",
         "y": [
          -0.28540891323356604,
          -1.0994810205153742,
          0.19946354414586176,
          0.5971974444411942,
          0.6093542089982587,
          0.9382237408486004
         ],
         "yaxis": "y"
        },
        {
         "alignmentgroup": "True",
         "hovertemplate": "variable=Ttrb<br>index=%{x}<br>value=%{y}<extra></extra>",
         "legendgroup": "Ttrb",
         "marker": {
          "color": "#FFA15A",
          "pattern": {
           "shape": ""
          }
         },
         "name": "Ttrb",
         "offsetgroup": "Ttrb",
         "orientation": "v",
         "showlegend": true,
         "textposition": "auto",
         "type": "bar",
         "x": [
          "soggetto_1",
          "soggetto_2",
          "soggetto_3",
          "soggetto_6",
          "soggetto_7",
          "soggetto_8"
         ],
         "xaxis": "x",
         "y": [
          -0.9042800719627101,
          -0.8858207249028215,
          1.247883612706586,
          0.46140081305558567,
          -0.5542632258174724,
          0.10489727814051811
         ],
         "yaxis": "y"
        },
        {
         "alignmentgroup": "True",
         "hovertemplate": "variable=Tr<br>index=%{x}<br>value=%{y}<extra></extra>",
         "legendgroup": "Tr",
         "marker": {
          "color": "#19d3f3",
          "pattern": {
           "shape": ""
          }
         },
         "name": "Tr",
         "offsetgroup": "Tr",
         "orientation": "v",
         "showlegend": true,
         "textposition": "auto",
         "type": "bar",
         "x": [
          "soggetto_1",
          "soggetto_2",
          "soggetto_3",
          "soggetto_6",
          "soggetto_7",
          "soggetto_8"
         ],
         "xaxis": "x",
         "y": [
          -0.5945748735682376,
          -0.9599773361946069,
          -0.4045253440826685,
          0.022924106671486894,
          -0.8993316568916501,
          -0.7043654734543092
         ],
         "yaxis": "y"
        },
        {
         "alignmentgroup": "True",
         "hovertemplate": "variable=MeTr<br>index=%{x}<br>value=%{y}<extra></extra>",
         "legendgroup": "MeTr",
         "marker": {
          "color": "#FF6692",
          "pattern": {
           "shape": ""
          }
         },
         "name": "MeTr",
         "offsetgroup": "MeTr",
         "orientation": "v",
         "showlegend": true,
         "textposition": "auto",
         "type": "bar",
         "x": [
          "soggetto_1",
          "soggetto_2",
          "soggetto_3",
          "soggetto_6",
          "soggetto_7",
          "soggetto_8"
         ],
         "xaxis": "x",
         "y": [
          -1.4440999003122774,
          -0.9579832103661321,
          -1.1534854833057342,
          0.08005403575303416,
          0.04880526104146845,
          0.16555772336181274
         ],
         "yaxis": "y"
        },
        {
         "alignmentgroup": "True",
         "hovertemplate": "variable=MoTr<br>index=%{x}<br>value=%{y}<extra></extra>",
         "legendgroup": "MoTr",
         "marker": {
          "color": "#B6E880",
          "pattern": {
           "shape": ""
          }
         },
         "name": "MoTr",
         "offsetgroup": "MoTr",
         "orientation": "v",
         "showlegend": true,
         "textposition": "auto",
         "type": "bar",
         "x": [
          "soggetto_1",
          "soggetto_2",
          "soggetto_3",
          "soggetto_6",
          "soggetto_7",
          "soggetto_8"
         ],
         "xaxis": "x",
         "y": [
          -1.0053163484144843,
          -0.8057768887714396,
          0.6301754419121922,
          0.7236948494075359,
          0.3041988543911978,
          -1.057375072329817
         ],
         "yaxis": "y"
        },
        {
         "alignmentgroup": "True",
         "hovertemplate": "variable=RiRi<br>index=%{x}<br>value=%{y}<extra></extra>",
         "legendgroup": "RiRi",
         "marker": {
          "color": "#FF97FF",
          "pattern": {
           "shape": ""
          }
         },
         "name": "RiRi",
         "offsetgroup": "RiRi",
         "orientation": "v",
         "showlegend": true,
         "textposition": "auto",
         "type": "bar",
         "x": [
          "soggetto_1",
          "soggetto_2",
          "soggetto_3",
          "soggetto_6",
          "soggetto_7",
          "soggetto_8"
         ],
         "xaxis": "x",
         "y": [
          -0.810876768026876,
          -0.8710167068163865,
          1.23853815225793,
          0.5907892256310586,
          0.16749584216369323,
          0.7597264180126079
         ],
         "yaxis": "y"
        },
        {
         "alignmentgroup": "True",
         "hovertemplate": "variable=MoFo<br>index=%{x}<br>value=%{y}<extra></extra>",
         "legendgroup": "MoFo",
         "marker": {
          "color": "#FECB52",
          "pattern": {
           "shape": ""
          }
         },
         "name": "MoFo",
         "offsetgroup": "MoFo",
         "orientation": "v",
         "showlegend": true,
         "textposition": "auto",
         "type": "bar",
         "x": [
          "soggetto_1",
          "soggetto_2",
          "soggetto_3",
          "soggetto_6",
          "soggetto_7",
          "soggetto_8"
         ],
         "xaxis": "x",
         "y": [
          -0.7785438137451731,
          -0.8407495560370122,
          -0.788836674743456,
          -0.7660497597673108,
          0.6724581847045845,
          -0.028981367563003624
         ],
         "yaxis": "y"
        },
        {
         "alignmentgroup": "True",
         "hovertemplate": "variable=Mmof<br>index=%{x}<br>value=%{y}<extra></extra>",
         "legendgroup": "Mmof",
         "marker": {
          "color": "#636efa",
          "pattern": {
           "shape": ""
          }
         },
         "name": "Mmof",
         "offsetgroup": "Mmof",
         "orientation": "v",
         "showlegend": true,
         "textposition": "auto",
         "type": "bar",
         "x": [
          "soggetto_1",
          "soggetto_2",
          "soggetto_3",
          "soggetto_6",
          "soggetto_7",
          "soggetto_8"
         ],
         "xaxis": "x",
         "y": [
          -0.5930876041414379,
          -0.9808436977314532,
          0.3529624801543244,
          0.33782172831432866,
          -0.522699004600315,
          -0.4213073939869679
         ],
         "yaxis": "y"
        },
        {
         "alignmentgroup": "True",
         "hovertemplate": "variable=MoRi<br>index=%{x}<br>value=%{y}<extra></extra>",
         "legendgroup": "MoRi",
         "marker": {
          "color": "#EF553B",
          "pattern": {
           "shape": ""
          }
         },
         "name": "MoRi",
         "offsetgroup": "MoRi",
         "orientation": "v",
         "showlegend": true,
         "textposition": "auto",
         "type": "bar",
         "x": [
          "soggetto_1",
          "soggetto_2",
          "soggetto_3",
          "soggetto_6",
          "soggetto_7",
          "soggetto_8"
         ],
         "xaxis": "x",
         "y": [
          -1.2155642268259785,
          -1.3034244721492252,
          -0.9982102556745405,
          0.18755297160306508,
          -0.4704684217691585,
          -0.6241700140048289
         ],
         "yaxis": "y"
        },
        {
         "alignmentgroup": "True",
         "hovertemplate": "variable=MeRi<br>index=%{x}<br>value=%{y}<extra></extra>",
         "legendgroup": "MeRi",
         "marker": {
          "color": "#00cc96",
          "pattern": {
           "shape": ""
          }
         },
         "name": "MeRi",
         "offsetgroup": "MeRi",
         "orientation": "v",
         "showlegend": true,
         "textposition": "auto",
         "type": "bar",
         "x": [
          "soggetto_1",
          "soggetto_2",
          "soggetto_3",
          "soggetto_6",
          "soggetto_7",
          "soggetto_8"
         ],
         "xaxis": "x",
         "y": [
          -1.793745548794764,
          -1.3128731442120414,
          1.2695802893857766,
          -0.3606739300416789,
          -0.08804722374917037,
          0.18701760112377114
         ],
         "yaxis": "y"
        },
        {
         "alignmentgroup": "True",
         "hovertemplate": "variable=Ri<br>index=%{x}<br>value=%{y}<extra></extra>",
         "legendgroup": "Ri",
         "marker": {
          "color": "#ab63fa",
          "pattern": {
           "shape": ""
          }
         },
         "name": "Ri",
         "offsetgroup": "Ri",
         "orientation": "v",
         "showlegend": true,
         "textposition": "auto",
         "type": "bar",
         "x": [
          "soggetto_1",
          "soggetto_2",
          "soggetto_3",
          "soggetto_6",
          "soggetto_7",
          "soggetto_8"
         ],
         "xaxis": "x",
         "y": [
          -1.2906927155686394,
          -1.6036663642035192,
          0.4397287209671124,
          0.3368784001270354,
          0.2421747638644477,
          0.6027181650954717
         ],
         "yaxis": "y"
        },
        {
         "alignmentgroup": "True",
         "hovertemplate": "variable=Comp<br>index=%{x}<br>value=%{y}<extra></extra>",
         "legendgroup": "Comp",
         "marker": {
          "color": "#FFA15A",
          "pattern": {
           "shape": ""
          }
         },
         "name": "Comp",
         "offsetgroup": "Comp",
         "orientation": "v",
         "showlegend": true,
         "textposition": "auto",
         "type": "bar",
         "x": [
          "soggetto_1",
          "soggetto_2",
          "soggetto_3",
          "soggetto_6",
          "soggetto_7",
          "soggetto_8"
         ],
         "xaxis": "x",
         "y": [
          -1.9555077554748417,
          -1.0249236967113018,
          0.03698059002304431,
          -0.2738753304331472,
          0.07703707085171298,
          -0.2617364693681221
         ],
         "yaxis": "y"
        }
       ],
       "layout": {
        "barmode": "group",
        "legend": {
         "title": {
          "text": "variable"
         },
         "tracegroupgap": 0
        },
        "template": {
         "data": {
          "bar": [
           {
            "error_x": {
             "color": "#2a3f5f"
            },
            "error_y": {
             "color": "#2a3f5f"
            },
            "marker": {
             "line": {
              "color": "#E5ECF6",
              "width": 0.5
             },
             "pattern": {
              "fillmode": "overlay",
              "size": 10,
              "solidity": 0.2
             }
            },
            "type": "bar"
           }
          ],
          "barpolar": [
           {
            "marker": {
             "line": {
              "color": "#E5ECF6",
              "width": 0.5
             },
             "pattern": {
              "fillmode": "overlay",
              "size": 10,
              "solidity": 0.2
             }
            },
            "type": "barpolar"
           }
          ],
          "carpet": [
           {
            "aaxis": {
             "endlinecolor": "#2a3f5f",
             "gridcolor": "white",
             "linecolor": "white",
             "minorgridcolor": "white",
             "startlinecolor": "#2a3f5f"
            },
            "baxis": {
             "endlinecolor": "#2a3f5f",
             "gridcolor": "white",
             "linecolor": "white",
             "minorgridcolor": "white",
             "startlinecolor": "#2a3f5f"
            },
            "type": "carpet"
           }
          ],
          "choropleth": [
           {
            "colorbar": {
             "outlinewidth": 0,
             "ticks": ""
            },
            "type": "choropleth"
           }
          ],
          "contour": [
           {
            "colorbar": {
             "outlinewidth": 0,
             "ticks": ""
            },
            "colorscale": [
             [
              0,
              "#0d0887"
             ],
             [
              0.1111111111111111,
              "#46039f"
             ],
             [
              0.2222222222222222,
              "#7201a8"
             ],
             [
              0.3333333333333333,
              "#9c179e"
             ],
             [
              0.4444444444444444,
              "#bd3786"
             ],
             [
              0.5555555555555556,
              "#d8576b"
             ],
             [
              0.6666666666666666,
              "#ed7953"
             ],
             [
              0.7777777777777778,
              "#fb9f3a"
             ],
             [
              0.8888888888888888,
              "#fdca26"
             ],
             [
              1,
              "#f0f921"
             ]
            ],
            "type": "contour"
           }
          ],
          "contourcarpet": [
           {
            "colorbar": {
             "outlinewidth": 0,
             "ticks": ""
            },
            "type": "contourcarpet"
           }
          ],
          "heatmap": [
           {
            "colorbar": {
             "outlinewidth": 0,
             "ticks": ""
            },
            "colorscale": [
             [
              0,
              "#0d0887"
             ],
             [
              0.1111111111111111,
              "#46039f"
             ],
             [
              0.2222222222222222,
              "#7201a8"
             ],
             [
              0.3333333333333333,
              "#9c179e"
             ],
             [
              0.4444444444444444,
              "#bd3786"
             ],
             [
              0.5555555555555556,
              "#d8576b"
             ],
             [
              0.6666666666666666,
              "#ed7953"
             ],
             [
              0.7777777777777778,
              "#fb9f3a"
             ],
             [
              0.8888888888888888,
              "#fdca26"
             ],
             [
              1,
              "#f0f921"
             ]
            ],
            "type": "heatmap"
           }
          ],
          "heatmapgl": [
           {
            "colorbar": {
             "outlinewidth": 0,
             "ticks": ""
            },
            "colorscale": [
             [
              0,
              "#0d0887"
             ],
             [
              0.1111111111111111,
              "#46039f"
             ],
             [
              0.2222222222222222,
              "#7201a8"
             ],
             [
              0.3333333333333333,
              "#9c179e"
             ],
             [
              0.4444444444444444,
              "#bd3786"
             ],
             [
              0.5555555555555556,
              "#d8576b"
             ],
             [
              0.6666666666666666,
              "#ed7953"
             ],
             [
              0.7777777777777778,
              "#fb9f3a"
             ],
             [
              0.8888888888888888,
              "#fdca26"
             ],
             [
              1,
              "#f0f921"
             ]
            ],
            "type": "heatmapgl"
           }
          ],
          "histogram": [
           {
            "marker": {
             "pattern": {
              "fillmode": "overlay",
              "size": 10,
              "solidity": 0.2
             }
            },
            "type": "histogram"
           }
          ],
          "histogram2d": [
           {
            "colorbar": {
             "outlinewidth": 0,
             "ticks": ""
            },
            "colorscale": [
             [
              0,
              "#0d0887"
             ],
             [
              0.1111111111111111,
              "#46039f"
             ],
             [
              0.2222222222222222,
              "#7201a8"
             ],
             [
              0.3333333333333333,
              "#9c179e"
             ],
             [
              0.4444444444444444,
              "#bd3786"
             ],
             [
              0.5555555555555556,
              "#d8576b"
             ],
             [
              0.6666666666666666,
              "#ed7953"
             ],
             [
              0.7777777777777778,
              "#fb9f3a"
             ],
             [
              0.8888888888888888,
              "#fdca26"
             ],
             [
              1,
              "#f0f921"
             ]
            ],
            "type": "histogram2d"
           }
          ],
          "histogram2dcontour": [
           {
            "colorbar": {
             "outlinewidth": 0,
             "ticks": ""
            },
            "colorscale": [
             [
              0,
              "#0d0887"
             ],
             [
              0.1111111111111111,
              "#46039f"
             ],
             [
              0.2222222222222222,
              "#7201a8"
             ],
             [
              0.3333333333333333,
              "#9c179e"
             ],
             [
              0.4444444444444444,
              "#bd3786"
             ],
             [
              0.5555555555555556,
              "#d8576b"
             ],
             [
              0.6666666666666666,
              "#ed7953"
             ],
             [
              0.7777777777777778,
              "#fb9f3a"
             ],
             [
              0.8888888888888888,
              "#fdca26"
             ],
             [
              1,
              "#f0f921"
             ]
            ],
            "type": "histogram2dcontour"
           }
          ],
          "mesh3d": [
           {
            "colorbar": {
             "outlinewidth": 0,
             "ticks": ""
            },
            "type": "mesh3d"
           }
          ],
          "parcoords": [
           {
            "line": {
             "colorbar": {
              "outlinewidth": 0,
              "ticks": ""
             }
            },
            "type": "parcoords"
           }
          ],
          "pie": [
           {
            "automargin": true,
            "type": "pie"
           }
          ],
          "scatter": [
           {
            "fillpattern": {
             "fillmode": "overlay",
             "size": 10,
             "solidity": 0.2
            },
            "type": "scatter"
           }
          ],
          "scatter3d": [
           {
            "line": {
             "colorbar": {
              "outlinewidth": 0,
              "ticks": ""
             }
            },
            "marker": {
             "colorbar": {
              "outlinewidth": 0,
              "ticks": ""
             }
            },
            "type": "scatter3d"
           }
          ],
          "scattercarpet": [
           {
            "marker": {
             "colorbar": {
              "outlinewidth": 0,
              "ticks": ""
             }
            },
            "type": "scattercarpet"
           }
          ],
          "scattergeo": [
           {
            "marker": {
             "colorbar": {
              "outlinewidth": 0,
              "ticks": ""
             }
            },
            "type": "scattergeo"
           }
          ],
          "scattergl": [
           {
            "marker": {
             "colorbar": {
              "outlinewidth": 0,
              "ticks": ""
             }
            },
            "type": "scattergl"
           }
          ],
          "scattermapbox": [
           {
            "marker": {
             "colorbar": {
              "outlinewidth": 0,
              "ticks": ""
             }
            },
            "type": "scattermapbox"
           }
          ],
          "scatterpolar": [
           {
            "marker": {
             "colorbar": {
              "outlinewidth": 0,
              "ticks": ""
             }
            },
            "type": "scatterpolar"
           }
          ],
          "scatterpolargl": [
           {
            "marker": {
             "colorbar": {
              "outlinewidth": 0,
              "ticks": ""
             }
            },
            "type": "scatterpolargl"
           }
          ],
          "scatterternary": [
           {
            "marker": {
             "colorbar": {
              "outlinewidth": 0,
              "ticks": ""
             }
            },
            "type": "scatterternary"
           }
          ],
          "surface": [
           {
            "colorbar": {
             "outlinewidth": 0,
             "ticks": ""
            },
            "colorscale": [
             [
              0,
              "#0d0887"
             ],
             [
              0.1111111111111111,
              "#46039f"
             ],
             [
              0.2222222222222222,
              "#7201a8"
             ],
             [
              0.3333333333333333,
              "#9c179e"
             ],
             [
              0.4444444444444444,
              "#bd3786"
             ],
             [
              0.5555555555555556,
              "#d8576b"
             ],
             [
              0.6666666666666666,
              "#ed7953"
             ],
             [
              0.7777777777777778,
              "#fb9f3a"
             ],
             [
              0.8888888888888888,
              "#fdca26"
             ],
             [
              1,
              "#f0f921"
             ]
            ],
            "type": "surface"
           }
          ],
          "table": [
           {
            "cells": {
             "fill": {
              "color": "#EBF0F8"
             },
             "line": {
              "color": "white"
             }
            },
            "header": {
             "fill": {
              "color": "#C8D4E3"
             },
             "line": {
              "color": "white"
             }
            },
            "type": "table"
           }
          ]
         },
         "layout": {
          "annotationdefaults": {
           "arrowcolor": "#2a3f5f",
           "arrowhead": 0,
           "arrowwidth": 1
          },
          "autotypenumbers": "strict",
          "coloraxis": {
           "colorbar": {
            "outlinewidth": 0,
            "ticks": ""
           }
          },
          "colorscale": {
           "diverging": [
            [
             0,
             "#8e0152"
            ],
            [
             0.1,
             "#c51b7d"
            ],
            [
             0.2,
             "#de77ae"
            ],
            [
             0.3,
             "#f1b6da"
            ],
            [
             0.4,
             "#fde0ef"
            ],
            [
             0.5,
             "#f7f7f7"
            ],
            [
             0.6,
             "#e6f5d0"
            ],
            [
             0.7,
             "#b8e186"
            ],
            [
             0.8,
             "#7fbc41"
            ],
            [
             0.9,
             "#4d9221"
            ],
            [
             1,
             "#276419"
            ]
           ],
           "sequential": [
            [
             0,
             "#0d0887"
            ],
            [
             0.1111111111111111,
             "#46039f"
            ],
            [
             0.2222222222222222,
             "#7201a8"
            ],
            [
             0.3333333333333333,
             "#9c179e"
            ],
            [
             0.4444444444444444,
             "#bd3786"
            ],
            [
             0.5555555555555556,
             "#d8576b"
            ],
            [
             0.6666666666666666,
             "#ed7953"
            ],
            [
             0.7777777777777778,
             "#fb9f3a"
            ],
            [
             0.8888888888888888,
             "#fdca26"
            ],
            [
             1,
             "#f0f921"
            ]
           ],
           "sequentialminus": [
            [
             0,
             "#0d0887"
            ],
            [
             0.1111111111111111,
             "#46039f"
            ],
            [
             0.2222222222222222,
             "#7201a8"
            ],
            [
             0.3333333333333333,
             "#9c179e"
            ],
            [
             0.4444444444444444,
             "#bd3786"
            ],
            [
             0.5555555555555556,
             "#d8576b"
            ],
            [
             0.6666666666666666,
             "#ed7953"
            ],
            [
             0.7777777777777778,
             "#fb9f3a"
            ],
            [
             0.8888888888888888,
             "#fdca26"
            ],
            [
             1,
             "#f0f921"
            ]
           ]
          },
          "colorway": [
           "#636efa",
           "#EF553B",
           "#00cc96",
           "#ab63fa",
           "#FFA15A",
           "#19d3f3",
           "#FF6692",
           "#B6E880",
           "#FF97FF",
           "#FECB52"
          ],
          "font": {
           "color": "#2a3f5f"
          },
          "geo": {
           "bgcolor": "white",
           "lakecolor": "white",
           "landcolor": "#E5ECF6",
           "showlakes": true,
           "showland": true,
           "subunitcolor": "white"
          },
          "hoverlabel": {
           "align": "left"
          },
          "hovermode": "closest",
          "mapbox": {
           "style": "light"
          },
          "paper_bgcolor": "white",
          "plot_bgcolor": "#E5ECF6",
          "polar": {
           "angularaxis": {
            "gridcolor": "white",
            "linecolor": "white",
            "ticks": ""
           },
           "bgcolor": "#E5ECF6",
           "radialaxis": {
            "gridcolor": "white",
            "linecolor": "white",
            "ticks": ""
           }
          },
          "scene": {
           "xaxis": {
            "backgroundcolor": "#E5ECF6",
            "gridcolor": "white",
            "gridwidth": 2,
            "linecolor": "white",
            "showbackground": true,
            "ticks": "",
            "zerolinecolor": "white"
           },
           "yaxis": {
            "backgroundcolor": "#E5ECF6",
            "gridcolor": "white",
            "gridwidth": 2,
            "linecolor": "white",
            "showbackground": true,
            "ticks": "",
            "zerolinecolor": "white"
           },
           "zaxis": {
            "backgroundcolor": "#E5ECF6",
            "gridcolor": "white",
            "gridwidth": 2,
            "linecolor": "white",
            "showbackground": true,
            "ticks": "",
            "zerolinecolor": "white"
           }
          },
          "shapedefaults": {
           "line": {
            "color": "#2a3f5f"
           }
          },
          "ternary": {
           "aaxis": {
            "gridcolor": "white",
            "linecolor": "white",
            "ticks": ""
           },
           "baxis": {
            "gridcolor": "white",
            "linecolor": "white",
            "ticks": ""
           },
           "bgcolor": "#E5ECF6",
           "caxis": {
            "gridcolor": "white",
            "linecolor": "white",
            "ticks": ""
           }
          },
          "title": {
           "x": 0.05
          },
          "xaxis": {
           "automargin": true,
           "gridcolor": "white",
           "linecolor": "white",
           "ticks": "",
           "title": {
            "standoff": 15
           },
           "zerolinecolor": "white",
           "zerolinewidth": 2
          },
          "yaxis": {
           "automargin": true,
           "gridcolor": "white",
           "linecolor": "white",
           "ticks": "",
           "title": {
            "standoff": 15
           },
           "zerolinecolor": "white",
           "zerolinewidth": 2
          }
         }
        },
        "title": {
         "text": "Steady state out"
        },
        "xaxis": {
         "anchor": "y",
         "domain": [
          0,
          1
         ],
         "title": {
          "text": "index"
         }
        },
        "yaxis": {
         "anchor": "x",
         "domain": [
          0,
          1
         ],
         "title": {
          "text": "value"
         }
        }
       }
      }
     },
     "metadata": {},
     "output_type": "display_data"
    }
   ],
   "source": [
    "# plot the df_steady_out and df_steady_in with plotly express\n",
    "fig = px.bar(df_steady.T, barmode=\"group\", title=\"Steady state out\")\n",
    "fig.show()"
   ]
  },
  {
   "cell_type": "code",
   "execution_count": 1205,
   "metadata": {},
   "outputs": [
    {
     "data": {
      "application/vnd.plotly.v1+json": {
       "config": {
        "plotlyServerURL": "https://plot.ly"
       },
       "data": [
        {
         "hovertemplate": "variable=TrRi<br>index=%{x}<br>value=%{y}<extra></extra>",
         "legendgroup": "TrRi",
         "line": {
          "color": "#636efa",
          "dash": "solid"
         },
         "marker": {
          "symbol": "circle"
         },
         "mode": "lines",
         "name": "TrRi",
         "orientation": "v",
         "showlegend": true,
         "type": "scatter",
         "x": [
          0,
          1,
          2,
          3,
          4,
          5,
          6,
          7,
          8,
          9
         ],
         "xaxis": "x",
         "y": [
          0.018416637282021985,
          -0.09121556964907729,
          -0.15297481244247121,
          -0.20238667120253315,
          -0.2425272435093584,
          -0.2877572948055114,
          -0.3328309474305805,
          -0.3732580398502528,
          -0.4104376484543916,
          -0.4452362074999904
         ],
         "yaxis": "y"
        },
        {
         "hovertemplate": "variable=RiTr<br>index=%{x}<br>value=%{y}<extra></extra>",
         "legendgroup": "RiTr",
         "line": {
          "color": "#EF553B",
          "dash": "solid"
         },
         "marker": {
          "symbol": "circle"
         },
         "mode": "lines",
         "name": "RiTr",
         "orientation": "v",
         "showlegend": true,
         "type": "scatter",
         "x": [
          0,
          1,
          2,
          3,
          4,
          5,
          6,
          7,
          8,
          9
         ],
         "xaxis": "x",
         "y": [
          -0.11758527908364838,
          -0.13121003606011805,
          -0.20096477778159638,
          -0.23843655575561112,
          -0.26400665853409955,
          -0.2899614761904175,
          -0.3145154570345527,
          -0.3369046316228083,
          -0.35753015774143926,
          -0.3767323999887204
         ],
         "yaxis": "y"
        },
        {
         "hovertemplate": "variable=Plu<br>index=%{x}<br>value=%{y}<extra></extra>",
         "legendgroup": "Plu",
         "line": {
          "color": "#00cc96",
          "dash": "solid"
         },
         "marker": {
          "symbol": "circle"
         },
         "mode": "lines",
         "name": "Plu",
         "orientation": "v",
         "showlegend": true,
         "type": "scatter",
         "x": [
          0,
          1,
          2,
          3,
          4,
          5,
          6,
          7,
          8,
          9
         ],
         "xaxis": "x",
         "y": [
          -0.037720923692909004,
          -0.1969702776559352,
          -0.21450172470021092,
          -0.24860503727322852,
          -0.28391940024615575,
          -0.31892968733143123,
          -0.34981305056418854,
          -0.377612036774835,
          -0.4037875609869852,
          -0.4283835376768628
         ],
         "yaxis": "y"
        },
        {
         "hovertemplate": "variable=Ttra<br>index=%{x}<br>value=%{y}<extra></extra>",
         "legendgroup": "Ttra",
         "line": {
          "color": "#ab63fa",
          "dash": "solid"
         },
         "marker": {
          "symbol": "circle"
         },
         "mode": "lines",
         "name": "Ttra",
         "orientation": "v",
         "showlegend": true,
         "type": "scatter",
         "x": [
          0,
          1,
          2,
          3,
          4,
          5,
          6,
          7,
          8,
          9
         ],
         "xaxis": "x",
         "y": [
          0.6610093672178811,
          0.659759870653415,
          0.5739257900842033,
          0.5057110496197244,
          0.45232759786086457,
          0.4037984805682807,
          0.3571300434586585,
          0.3130170218392369,
          0.2721716377298508,
          0.23426906045466472
         ],
         "yaxis": "y"
        },
        {
         "hovertemplate": "variable=Ttrb<br>index=%{x}<br>value=%{y}<extra></extra>",
         "legendgroup": "Ttrb",
         "line": {
          "color": "#FFA15A",
          "dash": "solid"
         },
         "marker": {
          "symbol": "circle"
         },
         "mode": "lines",
         "name": "Ttrb",
         "orientation": "v",
         "showlegend": true,
         "type": "scatter",
         "x": [
          0,
          1,
          2,
          3,
          4,
          5,
          6,
          7,
          8,
          9
         ],
         "xaxis": "x",
         "y": [
          0.3975774911799223,
          0.3708932898063222,
          0.2590442623729135,
          0.17314031848747796,
          0.10242951680396409,
          0.03424900650186114,
          -0.029507375626179368,
          -0.08933261929426015,
          -0.14485170896738764,
          -0.1964720552947015
         ],
         "yaxis": "y"
        },
        {
         "hovertemplate": "variable=Tr<br>index=%{x}<br>value=%{y}<extra></extra>",
         "legendgroup": "Tr",
         "line": {
          "color": "#19d3f3",
          "dash": "solid"
         },
         "marker": {
          "symbol": "circle"
         },
         "mode": "lines",
         "name": "Tr",
         "orientation": "v",
         "showlegend": true,
         "type": "scatter",
         "x": [
          0,
          1,
          2,
          3,
          4,
          5,
          6,
          7,
          8,
          9
         ],
         "xaxis": "x",
         "y": [
          -0.22111689920087207,
          -0.3080900819325477,
          -0.3401712216426134,
          -0.3679464070217979,
          -0.3803460892713923,
          -0.3945665081693621,
          -0.4090769648397602,
          -0.4220400145446459,
          -0.4337502259390253,
          -0.44462593419732815
         ],
         "yaxis": "y"
        },
        {
         "hovertemplate": "variable=MeTr<br>index=%{x}<br>value=%{y}<extra></extra>",
         "legendgroup": "MeTr",
         "line": {
          "color": "#FF6692",
          "dash": "solid"
         },
         "marker": {
          "symbol": "circle"
         },
         "mode": "lines",
         "name": "MeTr",
         "orientation": "v",
         "showlegend": true,
         "type": "scatter",
         "x": [
          0,
          1,
          2,
          3,
          4,
          5,
          6,
          7,
          8,
          9
         ],
         "xaxis": "x",
         "y": [
          0.9586801120651478,
          0.790598173932215,
          0.6378877598931151,
          0.515753243257203,
          0.3990676844876493,
          0.27862069217365043,
          0.16035545578375365,
          0.050401058319712214,
          -0.05093090744013287,
          -0.1454362733419377
         ],
         "yaxis": "y"
        },
        {
         "hovertemplate": "variable=MoTr<br>index=%{x}<br>value=%{y}<extra></extra>",
         "legendgroup": "MoTr",
         "line": {
          "color": "#B6E880",
          "dash": "solid"
         },
         "marker": {
          "symbol": "circle"
         },
         "mode": "lines",
         "name": "MoTr",
         "orientation": "v",
         "showlegend": true,
         "type": "scatter",
         "x": [
          0,
          1,
          2,
          3,
          4,
          5,
          6,
          7,
          8,
          9
         ],
         "xaxis": "x",
         "y": [
          -0.5528839249579309,
          -0.5062439403720713,
          -0.5839953776695265,
          -0.6076613021095186,
          -0.6331353967147632,
          -0.6604979408424436,
          -0.6846011847862356,
          -0.7064154393125015,
          -0.7266353470865581,
          -0.7456012579073288
         ],
         "yaxis": "y"
        },
        {
         "hovertemplate": "variable=RiRi<br>index=%{x}<br>value=%{y}<extra></extra>",
         "legendgroup": "RiRi",
         "line": {
          "color": "#FF97FF",
          "dash": "solid"
         },
         "marker": {
          "symbol": "circle"
         },
         "mode": "lines",
         "name": "RiRi",
         "orientation": "v",
         "showlegend": true,
         "type": "scatter",
         "x": [
          0,
          1,
          2,
          3,
          4,
          5,
          6,
          7,
          8,
          9
         ],
         "xaxis": "x",
         "y": [
          0.25080395758967877,
          0.17067858879332065,
          0.12319990201132411,
          0.08054737258695177,
          0.014752617995066102,
          -0.04523851703253325,
          -0.09692212772919435,
          -0.14463234013102774,
          -0.18982655013801208,
          -0.2322541399603591
         ],
         "yaxis": "y"
        },
        {
         "hovertemplate": "variable=MoFo<br>index=%{x}<br>value=%{y}<extra></extra>",
         "legendgroup": "MoFo",
         "line": {
          "color": "#FECB52",
          "dash": "solid"
         },
         "marker": {
          "symbol": "circle"
         },
         "mode": "lines",
         "name": "MoFo",
         "orientation": "v",
         "showlegend": true,
         "type": "scatter",
         "x": [
          0,
          1,
          2,
          3,
          4,
          5,
          6,
          7,
          8,
          9
         ],
         "xaxis": "x",
         "y": [
          -0.15989294062383003,
          -0.0930682071896462,
          -0.18303374795080588,
          -0.2517497741214844,
          -0.286358379887782,
          -0.31759597079329516,
          -0.34858766057796425,
          -0.3786800183094064,
          -0.40620480103186657,
          -0.4314465816686871
         ],
         "yaxis": "y"
        },
        {
         "hovertemplate": "variable=Mmof<br>index=%{x}<br>value=%{y}<extra></extra>",
         "legendgroup": "Mmof",
         "line": {
          "color": "#636efa",
          "dash": "solid"
         },
         "marker": {
          "symbol": "circle"
         },
         "mode": "lines",
         "name": "Mmof",
         "orientation": "v",
         "showlegend": true,
         "type": "scatter",
         "x": [
          0,
          1,
          2,
          3,
          4,
          5,
          6,
          7,
          8,
          9
         ],
         "xaxis": "x",
         "y": [
          0.04356124497034053,
          -0.07462519834058794,
          -0.1196226297107085,
          -0.15003964769013461,
          -0.17937397030779295,
          -0.2093142915664057,
          -0.23642613282159838,
          -0.26066991181226,
          -0.283118113555118,
          -0.3042109279013579
         ],
         "yaxis": "y"
        },
        {
         "hovertemplate": "variable=MoRi<br>index=%{x}<br>value=%{y}<extra></extra>",
         "legendgroup": "MoRi",
         "line": {
          "color": "#EF553B",
          "dash": "solid"
         },
         "marker": {
          "symbol": "circle"
         },
         "mode": "lines",
         "name": "MoRi",
         "orientation": "v",
         "showlegend": true,
         "type": "scatter",
         "x": [
          0,
          1,
          2,
          3,
          4,
          5,
          6,
          7,
          8,
          9
         ],
         "xaxis": "x",
         "y": [
          -0.4452009540480023,
          -0.5054878597436373,
          -0.5467210791679807,
          -0.5581947797369475,
          -0.5976061541773298,
          -0.6445513670919703,
          -0.6845364314873846,
          -0.7197172493209868,
          -0.7529534889114317,
          -0.7845056318132497
         ],
         "yaxis": "y"
        },
        {
         "hovertemplate": "variable=MeRi<br>index=%{x}<br>value=%{y}<extra></extra>",
         "legendgroup": "MeRi",
         "line": {
          "color": "#00cc96",
          "dash": "solid"
         },
         "marker": {
          "symbol": "circle"
         },
         "mode": "lines",
         "name": "MeRi",
         "orientation": "v",
         "showlegend": true,
         "type": "scatter",
         "x": [
          0,
          1,
          2,
          3,
          4,
          5,
          6,
          7,
          8,
          9
         ],
         "xaxis": "x",
         "y": [
          -1.2015748073788282,
          -1.1036667918656164,
          -1.146730648265767,
          -1.2154059034585902,
          -1.2637917833797305,
          -1.2964066358366384,
          -1.3273242722206633,
          -1.359410173424433,
          -1.3896464875228003,
          -1.4171966087727554
         ],
         "yaxis": "y"
        },
        {
         "hovertemplate": "variable=Ri<br>index=%{x}<br>value=%{y}<extra></extra>",
         "legendgroup": "Ri",
         "line": {
          "color": "#ab63fa",
          "dash": "solid"
         },
         "marker": {
          "symbol": "circle"
         },
         "mode": "lines",
         "name": "Ri",
         "orientation": "v",
         "showlegend": true,
         "type": "scatter",
         "x": [
          0,
          1,
          2,
          3,
          4,
          5,
          6,
          7,
          8,
          9
         ],
         "xaxis": "x",
         "y": [
          -0.6205984650435072,
          -0.6547038503821263,
          -0.6944003690226133,
          -0.730200109244016,
          -0.7686766066174828,
          -0.8021463738632372,
          -0.8351692636458585,
          -0.8662672823497285,
          -0.8952319583083717,
          -0.9221099001484127
         ],
         "yaxis": "y"
        },
        {
         "hovertemplate": "variable=Comp<br>index=%{x}<br>value=%{y}<extra></extra>",
         "legendgroup": "Comp",
         "line": {
          "color": "#FFA15A",
          "dash": "solid"
         },
         "marker": {
          "symbol": "circle"
         },
         "mode": "lines",
         "name": "Comp",
         "orientation": "v",
         "showlegend": true,
         "type": "scatter",
         "x": [
          0,
          1,
          2,
          3,
          4,
          5,
          6,
          7,
          8,
          9
         ],
         "xaxis": "x",
         "y": [
          -0.7865829920050573,
          -0.9924253432508461,
          -0.9045088792837972,
          -0.9770534693324066,
          -1.0690660789438888,
          -1.1295917507892614,
          -1.182214575314453,
          -1.2334314383503637,
          -1.2830552724022968,
          -1.329213621572354
         ],
         "yaxis": "y"
        }
       ],
       "layout": {
        "legend": {
         "title": {
          "text": "variable"
         },
         "tracegroupgap": 0
        },
        "template": {
         "data": {
          "bar": [
           {
            "error_x": {
             "color": "#2a3f5f"
            },
            "error_y": {
             "color": "#2a3f5f"
            },
            "marker": {
             "line": {
              "color": "#E5ECF6",
              "width": 0.5
             },
             "pattern": {
              "fillmode": "overlay",
              "size": 10,
              "solidity": 0.2
             }
            },
            "type": "bar"
           }
          ],
          "barpolar": [
           {
            "marker": {
             "line": {
              "color": "#E5ECF6",
              "width": 0.5
             },
             "pattern": {
              "fillmode": "overlay",
              "size": 10,
              "solidity": 0.2
             }
            },
            "type": "barpolar"
           }
          ],
          "carpet": [
           {
            "aaxis": {
             "endlinecolor": "#2a3f5f",
             "gridcolor": "white",
             "linecolor": "white",
             "minorgridcolor": "white",
             "startlinecolor": "#2a3f5f"
            },
            "baxis": {
             "endlinecolor": "#2a3f5f",
             "gridcolor": "white",
             "linecolor": "white",
             "minorgridcolor": "white",
             "startlinecolor": "#2a3f5f"
            },
            "type": "carpet"
           }
          ],
          "choropleth": [
           {
            "colorbar": {
             "outlinewidth": 0,
             "ticks": ""
            },
            "type": "choropleth"
           }
          ],
          "contour": [
           {
            "colorbar": {
             "outlinewidth": 0,
             "ticks": ""
            },
            "colorscale": [
             [
              0,
              "#0d0887"
             ],
             [
              0.1111111111111111,
              "#46039f"
             ],
             [
              0.2222222222222222,
              "#7201a8"
             ],
             [
              0.3333333333333333,
              "#9c179e"
             ],
             [
              0.4444444444444444,
              "#bd3786"
             ],
             [
              0.5555555555555556,
              "#d8576b"
             ],
             [
              0.6666666666666666,
              "#ed7953"
             ],
             [
              0.7777777777777778,
              "#fb9f3a"
             ],
             [
              0.8888888888888888,
              "#fdca26"
             ],
             [
              1,
              "#f0f921"
             ]
            ],
            "type": "contour"
           }
          ],
          "contourcarpet": [
           {
            "colorbar": {
             "outlinewidth": 0,
             "ticks": ""
            },
            "type": "contourcarpet"
           }
          ],
          "heatmap": [
           {
            "colorbar": {
             "outlinewidth": 0,
             "ticks": ""
            },
            "colorscale": [
             [
              0,
              "#0d0887"
             ],
             [
              0.1111111111111111,
              "#46039f"
             ],
             [
              0.2222222222222222,
              "#7201a8"
             ],
             [
              0.3333333333333333,
              "#9c179e"
             ],
             [
              0.4444444444444444,
              "#bd3786"
             ],
             [
              0.5555555555555556,
              "#d8576b"
             ],
             [
              0.6666666666666666,
              "#ed7953"
             ],
             [
              0.7777777777777778,
              "#fb9f3a"
             ],
             [
              0.8888888888888888,
              "#fdca26"
             ],
             [
              1,
              "#f0f921"
             ]
            ],
            "type": "heatmap"
           }
          ],
          "heatmapgl": [
           {
            "colorbar": {
             "outlinewidth": 0,
             "ticks": ""
            },
            "colorscale": [
             [
              0,
              "#0d0887"
             ],
             [
              0.1111111111111111,
              "#46039f"
             ],
             [
              0.2222222222222222,
              "#7201a8"
             ],
             [
              0.3333333333333333,
              "#9c179e"
             ],
             [
              0.4444444444444444,
              "#bd3786"
             ],
             [
              0.5555555555555556,
              "#d8576b"
             ],
             [
              0.6666666666666666,
              "#ed7953"
             ],
             [
              0.7777777777777778,
              "#fb9f3a"
             ],
             [
              0.8888888888888888,
              "#fdca26"
             ],
             [
              1,
              "#f0f921"
             ]
            ],
            "type": "heatmapgl"
           }
          ],
          "histogram": [
           {
            "marker": {
             "pattern": {
              "fillmode": "overlay",
              "size": 10,
              "solidity": 0.2
             }
            },
            "type": "histogram"
           }
          ],
          "histogram2d": [
           {
            "colorbar": {
             "outlinewidth": 0,
             "ticks": ""
            },
            "colorscale": [
             [
              0,
              "#0d0887"
             ],
             [
              0.1111111111111111,
              "#46039f"
             ],
             [
              0.2222222222222222,
              "#7201a8"
             ],
             [
              0.3333333333333333,
              "#9c179e"
             ],
             [
              0.4444444444444444,
              "#bd3786"
             ],
             [
              0.5555555555555556,
              "#d8576b"
             ],
             [
              0.6666666666666666,
              "#ed7953"
             ],
             [
              0.7777777777777778,
              "#fb9f3a"
             ],
             [
              0.8888888888888888,
              "#fdca26"
             ],
             [
              1,
              "#f0f921"
             ]
            ],
            "type": "histogram2d"
           }
          ],
          "histogram2dcontour": [
           {
            "colorbar": {
             "outlinewidth": 0,
             "ticks": ""
            },
            "colorscale": [
             [
              0,
              "#0d0887"
             ],
             [
              0.1111111111111111,
              "#46039f"
             ],
             [
              0.2222222222222222,
              "#7201a8"
             ],
             [
              0.3333333333333333,
              "#9c179e"
             ],
             [
              0.4444444444444444,
              "#bd3786"
             ],
             [
              0.5555555555555556,
              "#d8576b"
             ],
             [
              0.6666666666666666,
              "#ed7953"
             ],
             [
              0.7777777777777778,
              "#fb9f3a"
             ],
             [
              0.8888888888888888,
              "#fdca26"
             ],
             [
              1,
              "#f0f921"
             ]
            ],
            "type": "histogram2dcontour"
           }
          ],
          "mesh3d": [
           {
            "colorbar": {
             "outlinewidth": 0,
             "ticks": ""
            },
            "type": "mesh3d"
           }
          ],
          "parcoords": [
           {
            "line": {
             "colorbar": {
              "outlinewidth": 0,
              "ticks": ""
             }
            },
            "type": "parcoords"
           }
          ],
          "pie": [
           {
            "automargin": true,
            "type": "pie"
           }
          ],
          "scatter": [
           {
            "fillpattern": {
             "fillmode": "overlay",
             "size": 10,
             "solidity": 0.2
            },
            "type": "scatter"
           }
          ],
          "scatter3d": [
           {
            "line": {
             "colorbar": {
              "outlinewidth": 0,
              "ticks": ""
             }
            },
            "marker": {
             "colorbar": {
              "outlinewidth": 0,
              "ticks": ""
             }
            },
            "type": "scatter3d"
           }
          ],
          "scattercarpet": [
           {
            "marker": {
             "colorbar": {
              "outlinewidth": 0,
              "ticks": ""
             }
            },
            "type": "scattercarpet"
           }
          ],
          "scattergeo": [
           {
            "marker": {
             "colorbar": {
              "outlinewidth": 0,
              "ticks": ""
             }
            },
            "type": "scattergeo"
           }
          ],
          "scattergl": [
           {
            "marker": {
             "colorbar": {
              "outlinewidth": 0,
              "ticks": ""
             }
            },
            "type": "scattergl"
           }
          ],
          "scattermapbox": [
           {
            "marker": {
             "colorbar": {
              "outlinewidth": 0,
              "ticks": ""
             }
            },
            "type": "scattermapbox"
           }
          ],
          "scatterpolar": [
           {
            "marker": {
             "colorbar": {
              "outlinewidth": 0,
              "ticks": ""
             }
            },
            "type": "scatterpolar"
           }
          ],
          "scatterpolargl": [
           {
            "marker": {
             "colorbar": {
              "outlinewidth": 0,
              "ticks": ""
             }
            },
            "type": "scatterpolargl"
           }
          ],
          "scatterternary": [
           {
            "marker": {
             "colorbar": {
              "outlinewidth": 0,
              "ticks": ""
             }
            },
            "type": "scatterternary"
           }
          ],
          "surface": [
           {
            "colorbar": {
             "outlinewidth": 0,
             "ticks": ""
            },
            "colorscale": [
             [
              0,
              "#0d0887"
             ],
             [
              0.1111111111111111,
              "#46039f"
             ],
             [
              0.2222222222222222,
              "#7201a8"
             ],
             [
              0.3333333333333333,
              "#9c179e"
             ],
             [
              0.4444444444444444,
              "#bd3786"
             ],
             [
              0.5555555555555556,
              "#d8576b"
             ],
             [
              0.6666666666666666,
              "#ed7953"
             ],
             [
              0.7777777777777778,
              "#fb9f3a"
             ],
             [
              0.8888888888888888,
              "#fdca26"
             ],
             [
              1,
              "#f0f921"
             ]
            ],
            "type": "surface"
           }
          ],
          "table": [
           {
            "cells": {
             "fill": {
              "color": "#EBF0F8"
             },
             "line": {
              "color": "white"
             }
            },
            "header": {
             "fill": {
              "color": "#C8D4E3"
             },
             "line": {
              "color": "white"
             }
            },
            "type": "table"
           }
          ]
         },
         "layout": {
          "annotationdefaults": {
           "arrowcolor": "#2a3f5f",
           "arrowhead": 0,
           "arrowwidth": 1
          },
          "autotypenumbers": "strict",
          "coloraxis": {
           "colorbar": {
            "outlinewidth": 0,
            "ticks": ""
           }
          },
          "colorscale": {
           "diverging": [
            [
             0,
             "#8e0152"
            ],
            [
             0.1,
             "#c51b7d"
            ],
            [
             0.2,
             "#de77ae"
            ],
            [
             0.3,
             "#f1b6da"
            ],
            [
             0.4,
             "#fde0ef"
            ],
            [
             0.5,
             "#f7f7f7"
            ],
            [
             0.6,
             "#e6f5d0"
            ],
            [
             0.7,
             "#b8e186"
            ],
            [
             0.8,
             "#7fbc41"
            ],
            [
             0.9,
             "#4d9221"
            ],
            [
             1,
             "#276419"
            ]
           ],
           "sequential": [
            [
             0,
             "#0d0887"
            ],
            [
             0.1111111111111111,
             "#46039f"
            ],
            [
             0.2222222222222222,
             "#7201a8"
            ],
            [
             0.3333333333333333,
             "#9c179e"
            ],
            [
             0.4444444444444444,
             "#bd3786"
            ],
            [
             0.5555555555555556,
             "#d8576b"
            ],
            [
             0.6666666666666666,
             "#ed7953"
            ],
            [
             0.7777777777777778,
             "#fb9f3a"
            ],
            [
             0.8888888888888888,
             "#fdca26"
            ],
            [
             1,
             "#f0f921"
            ]
           ],
           "sequentialminus": [
            [
             0,
             "#0d0887"
            ],
            [
             0.1111111111111111,
             "#46039f"
            ],
            [
             0.2222222222222222,
             "#7201a8"
            ],
            [
             0.3333333333333333,
             "#9c179e"
            ],
            [
             0.4444444444444444,
             "#bd3786"
            ],
            [
             0.5555555555555556,
             "#d8576b"
            ],
            [
             0.6666666666666666,
             "#ed7953"
            ],
            [
             0.7777777777777778,
             "#fb9f3a"
            ],
            [
             0.8888888888888888,
             "#fdca26"
            ],
            [
             1,
             "#f0f921"
            ]
           ]
          },
          "colorway": [
           "#636efa",
           "#EF553B",
           "#00cc96",
           "#ab63fa",
           "#FFA15A",
           "#19d3f3",
           "#FF6692",
           "#B6E880",
           "#FF97FF",
           "#FECB52"
          ],
          "font": {
           "color": "#2a3f5f"
          },
          "geo": {
           "bgcolor": "white",
           "lakecolor": "white",
           "landcolor": "#E5ECF6",
           "showlakes": true,
           "showland": true,
           "subunitcolor": "white"
          },
          "hoverlabel": {
           "align": "left"
          },
          "hovermode": "closest",
          "mapbox": {
           "style": "light"
          },
          "paper_bgcolor": "white",
          "plot_bgcolor": "#E5ECF6",
          "polar": {
           "angularaxis": {
            "gridcolor": "white",
            "linecolor": "white",
            "ticks": ""
           },
           "bgcolor": "#E5ECF6",
           "radialaxis": {
            "gridcolor": "white",
            "linecolor": "white",
            "ticks": ""
           }
          },
          "scene": {
           "xaxis": {
            "backgroundcolor": "#E5ECF6",
            "gridcolor": "white",
            "gridwidth": 2,
            "linecolor": "white",
            "showbackground": true,
            "ticks": "",
            "zerolinecolor": "white"
           },
           "yaxis": {
            "backgroundcolor": "#E5ECF6",
            "gridcolor": "white",
            "gridwidth": 2,
            "linecolor": "white",
            "showbackground": true,
            "ticks": "",
            "zerolinecolor": "white"
           },
           "zaxis": {
            "backgroundcolor": "#E5ECF6",
            "gridcolor": "white",
            "gridwidth": 2,
            "linecolor": "white",
            "showbackground": true,
            "ticks": "",
            "zerolinecolor": "white"
           }
          },
          "shapedefaults": {
           "line": {
            "color": "#2a3f5f"
           }
          },
          "ternary": {
           "aaxis": {
            "gridcolor": "white",
            "linecolor": "white",
            "ticks": ""
           },
           "baxis": {
            "gridcolor": "white",
            "linecolor": "white",
            "ticks": ""
           },
           "bgcolor": "#E5ECF6",
           "caxis": {
            "gridcolor": "white",
            "linecolor": "white",
            "ticks": ""
           }
          },
          "title": {
           "x": 0.05
          },
          "xaxis": {
           "automargin": true,
           "gridcolor": "white",
           "linecolor": "white",
           "ticks": "",
           "title": {
            "standoff": 15
           },
           "zerolinecolor": "white",
           "zerolinewidth": 2
          },
          "yaxis": {
           "automargin": true,
           "gridcolor": "white",
           "linecolor": "white",
           "ticks": "",
           "title": {
            "standoff": 15
           },
           "zerolinecolor": "white",
           "zerolinewidth": 2
          }
         }
        },
        "title": {
         "text": "Evolution of activations OUT for soggetto_1"
        },
        "xaxis": {
         "anchor": "y",
         "domain": [
          0,
          1
         ],
         "title": {
          "text": "index"
         }
        },
        "yaxis": {
         "anchor": "x",
         "domain": [
          0,
          1
         ],
         "title": {
          "text": "value"
         }
        }
       }
      }
     },
     "metadata": {},
     "output_type": "display_data"
    },
    {
     "data": {
      "application/vnd.plotly.v1+json": {
       "config": {
        "plotlyServerURL": "https://plot.ly"
       },
       "data": [
        {
         "hovertemplate": "variable=TrRi<br>index=%{x}<br>value=%{y}<extra></extra>",
         "legendgroup": "TrRi",
         "line": {
          "color": "#636efa",
          "dash": "solid"
         },
         "marker": {
          "symbol": "circle"
         },
         "mode": "lines",
         "name": "TrRi",
         "orientation": "v",
         "showlegend": true,
         "type": "scatter",
         "x": [
          0,
          1,
          2,
          3,
          4,
          5,
          6,
          7,
          8,
          9
         ],
         "xaxis": "x",
         "y": [
          0.20197586780907503,
          0.22926931580306728,
          0.19107331577380385,
          0.12241899059921109,
          0.06979439305191235,
          0.025710810859278267,
          -0.017204251855039855,
          -0.05815709622406308,
          -0.09576848662430157,
          -0.1302477210796628
         ],
         "yaxis": "y"
        },
        {
         "hovertemplate": "variable=RiTr<br>index=%{x}<br>value=%{y}<extra></extra>",
         "legendgroup": "RiTr",
         "line": {
          "color": "#EF553B",
          "dash": "solid"
         },
         "marker": {
          "symbol": "circle"
         },
         "mode": "lines",
         "name": "RiTr",
         "orientation": "v",
         "showlegend": true,
         "type": "scatter",
         "x": [
          0,
          1,
          2,
          3,
          4,
          5,
          6,
          7,
          8,
          9
         ],
         "xaxis": "x",
         "y": [
          -0.8695118244491644,
          -0.89639047171301,
          -0.9364313121545009,
          -0.9587131907199955,
          -0.9851264890170336,
          -1.0034797642644484,
          -1.0202399355635376,
          -1.0359223217423772,
          -1.0506330224755205,
          -1.06410738776975
         ],
         "yaxis": "y"
        },
        {
         "hovertemplate": "variable=Plu<br>index=%{x}<br>value=%{y}<extra></extra>",
         "legendgroup": "Plu",
         "line": {
          "color": "#00cc96",
          "dash": "solid"
         },
         "marker": {
          "symbol": "circle"
         },
         "mode": "lines",
         "name": "Plu",
         "orientation": "v",
         "showlegend": true,
         "type": "scatter",
         "x": [
          0,
          1,
          2,
          3,
          4,
          5,
          6,
          7,
          8,
          9
         ],
         "xaxis": "x",
         "y": [
          0.027928552178926855,
          -0.08256800005128782,
          -0.14956266937096369,
          -0.18459209568622179,
          -0.21412237474172385,
          -0.24211491429300375,
          -0.2681352482523432,
          -0.2914566211380505,
          -0.3128799709868563,
          -0.3327599785973374
         ],
         "yaxis": "y"
        },
        {
         "hovertemplate": "variable=Ttra<br>index=%{x}<br>value=%{y}<extra></extra>",
         "legendgroup": "Ttra",
         "line": {
          "color": "#ab63fa",
          "dash": "solid"
         },
         "marker": {
          "symbol": "circle"
         },
         "mode": "lines",
         "name": "Ttra",
         "orientation": "v",
         "showlegend": true,
         "type": "scatter",
         "x": [
          0,
          1,
          2,
          3,
          4,
          5,
          6,
          7,
          8,
          9
         ],
         "xaxis": "x",
         "y": [
          -0.0072439821861336046,
          -0.16425550951681311,
          -0.17560117775903114,
          -0.2225930916534592,
          -0.3003016341062335,
          -0.3652931650589006,
          -0.4200364239681904,
          -0.47022017926548093,
          -0.5182678399580688,
          -0.5626141380045324
         ],
         "yaxis": "y"
        },
        {
         "hovertemplate": "variable=Ttrb<br>index=%{x}<br>value=%{y}<extra></extra>",
         "legendgroup": "Ttrb",
         "line": {
          "color": "#FFA15A",
          "dash": "solid"
         },
         "marker": {
          "symbol": "circle"
         },
         "mode": "lines",
         "name": "Ttrb",
         "orientation": "v",
         "showlegend": true,
         "type": "scatter",
         "x": [
          0,
          1,
          2,
          3,
          4,
          5,
          6,
          7,
          8,
          9
         ],
         "xaxis": "x",
         "y": [
          -0.008217099100213975,
          -0.010577752340240096,
          -0.11436689353645105,
          -0.18624944817070507,
          -0.2359086936773808,
          -0.2809300172090937,
          -0.3276767650294344,
          -0.37075717271743097,
          -0.4098944300981242,
          -0.4458394241083204
         ],
         "yaxis": "y"
        },
        {
         "hovertemplate": "variable=Tr<br>index=%{x}<br>value=%{y}<extra></extra>",
         "legendgroup": "Tr",
         "line": {
          "color": "#19d3f3",
          "dash": "solid"
         },
         "marker": {
          "symbol": "circle"
         },
         "mode": "lines",
         "name": "Tr",
         "orientation": "v",
         "showlegend": true,
         "type": "scatter",
         "x": [
          0,
          1,
          2,
          3,
          4,
          5,
          6,
          7,
          8,
          9
         ],
         "xaxis": "x",
         "y": [
          -0.09963820740883478,
          -0.02789261218418141,
          -0.11156103113879827,
          -0.17878242079806644,
          -0.23909408866181814,
          -0.2903289445307498,
          -0.3412623929789327,
          -0.3884969751710433,
          -0.43202742462401816,
          -0.47200899384742884
         ],
         "yaxis": "y"
        },
        {
         "hovertemplate": "variable=MeTr<br>index=%{x}<br>value=%{y}<extra></extra>",
         "legendgroup": "MeTr",
         "line": {
          "color": "#FF6692",
          "dash": "solid"
         },
         "marker": {
          "symbol": "circle"
         },
         "mode": "lines",
         "name": "MeTr",
         "orientation": "v",
         "showlegend": true,
         "type": "scatter",
         "x": [
          0,
          1,
          2,
          3,
          4,
          5,
          6,
          7,
          8,
          9
         ],
         "xaxis": "x",
         "y": [
          -0.10934256341861695,
          -0.2563815904228646,
          -0.28437622314369826,
          -0.3270523209178124,
          -0.37495557091906284,
          -0.4216375826355603,
          -0.4621234324316188,
          -0.49933543499741995,
          -0.5341108791966311,
          -0.566384196437427
         ],
         "yaxis": "y"
        },
        {
         "hovertemplate": "variable=MoTr<br>index=%{x}<br>value=%{y}<extra></extra>",
         "legendgroup": "MoTr",
         "line": {
          "color": "#B6E880",
          "dash": "solid"
         },
         "marker": {
          "symbol": "circle"
         },
         "mode": "lines",
         "name": "MoTr",
         "orientation": "v",
         "showlegend": true,
         "type": "scatter",
         "x": [
          0,
          1,
          2,
          3,
          4,
          5,
          6,
          7,
          8,
          9
         ],
         "xaxis": "x",
         "y": [
          -0.18413514905968886,
          -0.15039778535362625,
          -0.23129839063920027,
          -0.28553927958885433,
          -0.32287188009667334,
          -0.35561597047893295,
          -0.39045554010792205,
          -0.42258723334908393,
          -0.4517359816583244,
          -0.47845261573854647
         ],
         "yaxis": "y"
        },
        {
         "hovertemplate": "variable=RiRi<br>index=%{x}<br>value=%{y}<extra></extra>",
         "legendgroup": "RiRi",
         "line": {
          "color": "#FF97FF",
          "dash": "solid"
         },
         "marker": {
          "symbol": "circle"
         },
         "mode": "lines",
         "name": "RiRi",
         "orientation": "v",
         "showlegend": true,
         "type": "scatter",
         "x": [
          0,
          1,
          2,
          3,
          4,
          5,
          6,
          7,
          8,
          9
         ],
         "xaxis": "x",
         "y": [
          -0.3919481166190824,
          -0.4146291585414946,
          -0.4723946638417333,
          -0.500911536142351,
          -0.5284467266463493,
          -0.5543879668715813,
          -0.578919199548984,
          -0.6010609707880331,
          -0.6215144635819133,
          -0.6404455414830562
         ],
         "yaxis": "y"
        },
        {
         "hovertemplate": "variable=MoFo<br>index=%{x}<br>value=%{y}<extra></extra>",
         "legendgroup": "MoFo",
         "line": {
          "color": "#FECB52",
          "dash": "solid"
         },
         "marker": {
          "symbol": "circle"
         },
         "mode": "lines",
         "name": "MoFo",
         "orientation": "v",
         "showlegend": true,
         "type": "scatter",
         "x": [
          0,
          1,
          2,
          3,
          4,
          5,
          6,
          7,
          8,
          9
         ],
         "xaxis": "x",
         "y": [
          0.37193519678026626,
          0.353098223982789,
          0.24265017214140464,
          0.13900857717826004,
          0.06811907198376824,
          0.0032924358933077782,
          -0.06082135957149621,
          -0.12101928883133443,
          -0.17571422294890657,
          -0.2260455666718671
         ],
         "yaxis": "y"
        },
        {
         "hovertemplate": "variable=Mmof<br>index=%{x}<br>value=%{y}<extra></extra>",
         "legendgroup": "Mmof",
         "line": {
          "color": "#636efa",
          "dash": "solid"
         },
         "marker": {
          "symbol": "circle"
         },
         "mode": "lines",
         "name": "Mmof",
         "orientation": "v",
         "showlegend": true,
         "type": "scatter",
         "x": [
          0,
          1,
          2,
          3,
          4,
          5,
          6,
          7,
          8,
          9
         ],
         "xaxis": "x",
         "y": [
          -0.54135155973189,
          -0.521258178475752,
          -0.5536363769570317,
          -0.589191482258338,
          -0.6217246401904389,
          -0.648227004583618,
          -0.672913952916443,
          -0.696318718304167,
          -0.7180608000230462,
          -0.7380153050739259
         ],
         "yaxis": "y"
        },
        {
         "hovertemplate": "variable=MoRi<br>index=%{x}<br>value=%{y}<extra></extra>",
         "legendgroup": "MoRi",
         "line": {
          "color": "#EF553B",
          "dash": "solid"
         },
         "marker": {
          "symbol": "circle"
         },
         "mode": "lines",
         "name": "MoRi",
         "orientation": "v",
         "showlegend": true,
         "type": "scatter",
         "x": [
          0,
          1,
          2,
          3,
          4,
          5,
          6,
          7,
          8,
          9
         ],
         "xaxis": "x",
         "y": [
          -0.710101542356979,
          -0.6804617000546715,
          -0.7004719419202549,
          -0.7574848659094193,
          -0.8031166876482427,
          -0.8408853839489397,
          -0.8744817321222708,
          -0.9072498040077729,
          -0.9375324836571437,
          -0.9653649496599661
         ],
         "yaxis": "y"
        },
        {
         "hovertemplate": "variable=MeRi<br>index=%{x}<br>value=%{y}<extra></extra>",
         "legendgroup": "MeRi",
         "line": {
          "color": "#00cc96",
          "dash": "solid"
         },
         "marker": {
          "symbol": "circle"
         },
         "mode": "lines",
         "name": "MeRi",
         "orientation": "v",
         "showlegend": true,
         "type": "scatter",
         "x": [
          0,
          1,
          2,
          3,
          4,
          5,
          6,
          7,
          8,
          9
         ],
         "xaxis": "x",
         "y": [
          -0.35427644216322035,
          -0.42413288226584234,
          -0.483071997737928,
          -0.5218850405760707,
          -0.588133477199641,
          -0.6462800563440235,
          -0.6967373358921832,
          -0.7425771633351801,
          -0.785915067677112,
          -0.826078491757132
         ],
         "yaxis": "y"
        },
        {
         "hovertemplate": "variable=Ri<br>index=%{x}<br>value=%{y}<extra></extra>",
         "legendgroup": "Ri",
         "line": {
          "color": "#ab63fa",
          "dash": "solid"
         },
         "marker": {
          "symbol": "circle"
         },
         "mode": "lines",
         "name": "Ri",
         "orientation": "v",
         "showlegend": true,
         "type": "scatter",
         "x": [
          0,
          1,
          2,
          3,
          4,
          5,
          6,
          7,
          8,
          9
         ],
         "xaxis": "x",
         "y": [
          1.0915042960615267,
          0.6513451783220499,
          0.45486706690176215,
          0.3210801697657082,
          0.20064208389164767,
          0.05740414002815751,
          -0.07204106357746282,
          -0.188274307878635,
          -0.2946569773513732,
          -0.3941109438550245
         ],
         "yaxis": "y"
        },
        {
         "hovertemplate": "variable=Comp<br>index=%{x}<br>value=%{y}<extra></extra>",
         "legendgroup": "Comp",
         "line": {
          "color": "#FFA15A",
          "dash": "solid"
         },
         "marker": {
          "symbol": "circle"
         },
         "mode": "lines",
         "name": "Comp",
         "orientation": "v",
         "showlegend": true,
         "type": "scatter",
         "x": [
          0,
          1,
          2,
          3,
          4,
          5,
          6,
          7,
          8,
          9
         ],
         "xaxis": "x",
         "y": [
          -0.3962372264300644,
          -0.5014539404280075,
          -0.5041961796734122,
          -0.5524982514973551,
          -0.5888026176111396,
          -0.6230193846127645,
          -0.6523515401341031,
          -0.6807798878668955,
          -0.7069751020491915,
          -0.7311737718834873
         ],
         "yaxis": "y"
        }
       ],
       "layout": {
        "legend": {
         "title": {
          "text": "variable"
         },
         "tracegroupgap": 0
        },
        "template": {
         "data": {
          "bar": [
           {
            "error_x": {
             "color": "#2a3f5f"
            },
            "error_y": {
             "color": "#2a3f5f"
            },
            "marker": {
             "line": {
              "color": "#E5ECF6",
              "width": 0.5
             },
             "pattern": {
              "fillmode": "overlay",
              "size": 10,
              "solidity": 0.2
             }
            },
            "type": "bar"
           }
          ],
          "barpolar": [
           {
            "marker": {
             "line": {
              "color": "#E5ECF6",
              "width": 0.5
             },
             "pattern": {
              "fillmode": "overlay",
              "size": 10,
              "solidity": 0.2
             }
            },
            "type": "barpolar"
           }
          ],
          "carpet": [
           {
            "aaxis": {
             "endlinecolor": "#2a3f5f",
             "gridcolor": "white",
             "linecolor": "white",
             "minorgridcolor": "white",
             "startlinecolor": "#2a3f5f"
            },
            "baxis": {
             "endlinecolor": "#2a3f5f",
             "gridcolor": "white",
             "linecolor": "white",
             "minorgridcolor": "white",
             "startlinecolor": "#2a3f5f"
            },
            "type": "carpet"
           }
          ],
          "choropleth": [
           {
            "colorbar": {
             "outlinewidth": 0,
             "ticks": ""
            },
            "type": "choropleth"
           }
          ],
          "contour": [
           {
            "colorbar": {
             "outlinewidth": 0,
             "ticks": ""
            },
            "colorscale": [
             [
              0,
              "#0d0887"
             ],
             [
              0.1111111111111111,
              "#46039f"
             ],
             [
              0.2222222222222222,
              "#7201a8"
             ],
             [
              0.3333333333333333,
              "#9c179e"
             ],
             [
              0.4444444444444444,
              "#bd3786"
             ],
             [
              0.5555555555555556,
              "#d8576b"
             ],
             [
              0.6666666666666666,
              "#ed7953"
             ],
             [
              0.7777777777777778,
              "#fb9f3a"
             ],
             [
              0.8888888888888888,
              "#fdca26"
             ],
             [
              1,
              "#f0f921"
             ]
            ],
            "type": "contour"
           }
          ],
          "contourcarpet": [
           {
            "colorbar": {
             "outlinewidth": 0,
             "ticks": ""
            },
            "type": "contourcarpet"
           }
          ],
          "heatmap": [
           {
            "colorbar": {
             "outlinewidth": 0,
             "ticks": ""
            },
            "colorscale": [
             [
              0,
              "#0d0887"
             ],
             [
              0.1111111111111111,
              "#46039f"
             ],
             [
              0.2222222222222222,
              "#7201a8"
             ],
             [
              0.3333333333333333,
              "#9c179e"
             ],
             [
              0.4444444444444444,
              "#bd3786"
             ],
             [
              0.5555555555555556,
              "#d8576b"
             ],
             [
              0.6666666666666666,
              "#ed7953"
             ],
             [
              0.7777777777777778,
              "#fb9f3a"
             ],
             [
              0.8888888888888888,
              "#fdca26"
             ],
             [
              1,
              "#f0f921"
             ]
            ],
            "type": "heatmap"
           }
          ],
          "heatmapgl": [
           {
            "colorbar": {
             "outlinewidth": 0,
             "ticks": ""
            },
            "colorscale": [
             [
              0,
              "#0d0887"
             ],
             [
              0.1111111111111111,
              "#46039f"
             ],
             [
              0.2222222222222222,
              "#7201a8"
             ],
             [
              0.3333333333333333,
              "#9c179e"
             ],
             [
              0.4444444444444444,
              "#bd3786"
             ],
             [
              0.5555555555555556,
              "#d8576b"
             ],
             [
              0.6666666666666666,
              "#ed7953"
             ],
             [
              0.7777777777777778,
              "#fb9f3a"
             ],
             [
              0.8888888888888888,
              "#fdca26"
             ],
             [
              1,
              "#f0f921"
             ]
            ],
            "type": "heatmapgl"
           }
          ],
          "histogram": [
           {
            "marker": {
             "pattern": {
              "fillmode": "overlay",
              "size": 10,
              "solidity": 0.2
             }
            },
            "type": "histogram"
           }
          ],
          "histogram2d": [
           {
            "colorbar": {
             "outlinewidth": 0,
             "ticks": ""
            },
            "colorscale": [
             [
              0,
              "#0d0887"
             ],
             [
              0.1111111111111111,
              "#46039f"
             ],
             [
              0.2222222222222222,
              "#7201a8"
             ],
             [
              0.3333333333333333,
              "#9c179e"
             ],
             [
              0.4444444444444444,
              "#bd3786"
             ],
             [
              0.5555555555555556,
              "#d8576b"
             ],
             [
              0.6666666666666666,
              "#ed7953"
             ],
             [
              0.7777777777777778,
              "#fb9f3a"
             ],
             [
              0.8888888888888888,
              "#fdca26"
             ],
             [
              1,
              "#f0f921"
             ]
            ],
            "type": "histogram2d"
           }
          ],
          "histogram2dcontour": [
           {
            "colorbar": {
             "outlinewidth": 0,
             "ticks": ""
            },
            "colorscale": [
             [
              0,
              "#0d0887"
             ],
             [
              0.1111111111111111,
              "#46039f"
             ],
             [
              0.2222222222222222,
              "#7201a8"
             ],
             [
              0.3333333333333333,
              "#9c179e"
             ],
             [
              0.4444444444444444,
              "#bd3786"
             ],
             [
              0.5555555555555556,
              "#d8576b"
             ],
             [
              0.6666666666666666,
              "#ed7953"
             ],
             [
              0.7777777777777778,
              "#fb9f3a"
             ],
             [
              0.8888888888888888,
              "#fdca26"
             ],
             [
              1,
              "#f0f921"
             ]
            ],
            "type": "histogram2dcontour"
           }
          ],
          "mesh3d": [
           {
            "colorbar": {
             "outlinewidth": 0,
             "ticks": ""
            },
            "type": "mesh3d"
           }
          ],
          "parcoords": [
           {
            "line": {
             "colorbar": {
              "outlinewidth": 0,
              "ticks": ""
             }
            },
            "type": "parcoords"
           }
          ],
          "pie": [
           {
            "automargin": true,
            "type": "pie"
           }
          ],
          "scatter": [
           {
            "fillpattern": {
             "fillmode": "overlay",
             "size": 10,
             "solidity": 0.2
            },
            "type": "scatter"
           }
          ],
          "scatter3d": [
           {
            "line": {
             "colorbar": {
              "outlinewidth": 0,
              "ticks": ""
             }
            },
            "marker": {
             "colorbar": {
              "outlinewidth": 0,
              "ticks": ""
             }
            },
            "type": "scatter3d"
           }
          ],
          "scattercarpet": [
           {
            "marker": {
             "colorbar": {
              "outlinewidth": 0,
              "ticks": ""
             }
            },
            "type": "scattercarpet"
           }
          ],
          "scattergeo": [
           {
            "marker": {
             "colorbar": {
              "outlinewidth": 0,
              "ticks": ""
             }
            },
            "type": "scattergeo"
           }
          ],
          "scattergl": [
           {
            "marker": {
             "colorbar": {
              "outlinewidth": 0,
              "ticks": ""
             }
            },
            "type": "scattergl"
           }
          ],
          "scattermapbox": [
           {
            "marker": {
             "colorbar": {
              "outlinewidth": 0,
              "ticks": ""
             }
            },
            "type": "scattermapbox"
           }
          ],
          "scatterpolar": [
           {
            "marker": {
             "colorbar": {
              "outlinewidth": 0,
              "ticks": ""
             }
            },
            "type": "scatterpolar"
           }
          ],
          "scatterpolargl": [
           {
            "marker": {
             "colorbar": {
              "outlinewidth": 0,
              "ticks": ""
             }
            },
            "type": "scatterpolargl"
           }
          ],
          "scatterternary": [
           {
            "marker": {
             "colorbar": {
              "outlinewidth": 0,
              "ticks": ""
             }
            },
            "type": "scatterternary"
           }
          ],
          "surface": [
           {
            "colorbar": {
             "outlinewidth": 0,
             "ticks": ""
            },
            "colorscale": [
             [
              0,
              "#0d0887"
             ],
             [
              0.1111111111111111,
              "#46039f"
             ],
             [
              0.2222222222222222,
              "#7201a8"
             ],
             [
              0.3333333333333333,
              "#9c179e"
             ],
             [
              0.4444444444444444,
              "#bd3786"
             ],
             [
              0.5555555555555556,
              "#d8576b"
             ],
             [
              0.6666666666666666,
              "#ed7953"
             ],
             [
              0.7777777777777778,
              "#fb9f3a"
             ],
             [
              0.8888888888888888,
              "#fdca26"
             ],
             [
              1,
              "#f0f921"
             ]
            ],
            "type": "surface"
           }
          ],
          "table": [
           {
            "cells": {
             "fill": {
              "color": "#EBF0F8"
             },
             "line": {
              "color": "white"
             }
            },
            "header": {
             "fill": {
              "color": "#C8D4E3"
             },
             "line": {
              "color": "white"
             }
            },
            "type": "table"
           }
          ]
         },
         "layout": {
          "annotationdefaults": {
           "arrowcolor": "#2a3f5f",
           "arrowhead": 0,
           "arrowwidth": 1
          },
          "autotypenumbers": "strict",
          "coloraxis": {
           "colorbar": {
            "outlinewidth": 0,
            "ticks": ""
           }
          },
          "colorscale": {
           "diverging": [
            [
             0,
             "#8e0152"
            ],
            [
             0.1,
             "#c51b7d"
            ],
            [
             0.2,
             "#de77ae"
            ],
            [
             0.3,
             "#f1b6da"
            ],
            [
             0.4,
             "#fde0ef"
            ],
            [
             0.5,
             "#f7f7f7"
            ],
            [
             0.6,
             "#e6f5d0"
            ],
            [
             0.7,
             "#b8e186"
            ],
            [
             0.8,
             "#7fbc41"
            ],
            [
             0.9,
             "#4d9221"
            ],
            [
             1,
             "#276419"
            ]
           ],
           "sequential": [
            [
             0,
             "#0d0887"
            ],
            [
             0.1111111111111111,
             "#46039f"
            ],
            [
             0.2222222222222222,
             "#7201a8"
            ],
            [
             0.3333333333333333,
             "#9c179e"
            ],
            [
             0.4444444444444444,
             "#bd3786"
            ],
            [
             0.5555555555555556,
             "#d8576b"
            ],
            [
             0.6666666666666666,
             "#ed7953"
            ],
            [
             0.7777777777777778,
             "#fb9f3a"
            ],
            [
             0.8888888888888888,
             "#fdca26"
            ],
            [
             1,
             "#f0f921"
            ]
           ],
           "sequentialminus": [
            [
             0,
             "#0d0887"
            ],
            [
             0.1111111111111111,
             "#46039f"
            ],
            [
             0.2222222222222222,
             "#7201a8"
            ],
            [
             0.3333333333333333,
             "#9c179e"
            ],
            [
             0.4444444444444444,
             "#bd3786"
            ],
            [
             0.5555555555555556,
             "#d8576b"
            ],
            [
             0.6666666666666666,
             "#ed7953"
            ],
            [
             0.7777777777777778,
             "#fb9f3a"
            ],
            [
             0.8888888888888888,
             "#fdca26"
            ],
            [
             1,
             "#f0f921"
            ]
           ]
          },
          "colorway": [
           "#636efa",
           "#EF553B",
           "#00cc96",
           "#ab63fa",
           "#FFA15A",
           "#19d3f3",
           "#FF6692",
           "#B6E880",
           "#FF97FF",
           "#FECB52"
          ],
          "font": {
           "color": "#2a3f5f"
          },
          "geo": {
           "bgcolor": "white",
           "lakecolor": "white",
           "landcolor": "#E5ECF6",
           "showlakes": true,
           "showland": true,
           "subunitcolor": "white"
          },
          "hoverlabel": {
           "align": "left"
          },
          "hovermode": "closest",
          "mapbox": {
           "style": "light"
          },
          "paper_bgcolor": "white",
          "plot_bgcolor": "#E5ECF6",
          "polar": {
           "angularaxis": {
            "gridcolor": "white",
            "linecolor": "white",
            "ticks": ""
           },
           "bgcolor": "#E5ECF6",
           "radialaxis": {
            "gridcolor": "white",
            "linecolor": "white",
            "ticks": ""
           }
          },
          "scene": {
           "xaxis": {
            "backgroundcolor": "#E5ECF6",
            "gridcolor": "white",
            "gridwidth": 2,
            "linecolor": "white",
            "showbackground": true,
            "ticks": "",
            "zerolinecolor": "white"
           },
           "yaxis": {
            "backgroundcolor": "#E5ECF6",
            "gridcolor": "white",
            "gridwidth": 2,
            "linecolor": "white",
            "showbackground": true,
            "ticks": "",
            "zerolinecolor": "white"
           },
           "zaxis": {
            "backgroundcolor": "#E5ECF6",
            "gridcolor": "white",
            "gridwidth": 2,
            "linecolor": "white",
            "showbackground": true,
            "ticks": "",
            "zerolinecolor": "white"
           }
          },
          "shapedefaults": {
           "line": {
            "color": "#2a3f5f"
           }
          },
          "ternary": {
           "aaxis": {
            "gridcolor": "white",
            "linecolor": "white",
            "ticks": ""
           },
           "baxis": {
            "gridcolor": "white",
            "linecolor": "white",
            "ticks": ""
           },
           "bgcolor": "#E5ECF6",
           "caxis": {
            "gridcolor": "white",
            "linecolor": "white",
            "ticks": ""
           }
          },
          "title": {
           "x": 0.05
          },
          "xaxis": {
           "automargin": true,
           "gridcolor": "white",
           "linecolor": "white",
           "ticks": "",
           "title": {
            "standoff": 15
           },
           "zerolinecolor": "white",
           "zerolinewidth": 2
          },
          "yaxis": {
           "automargin": true,
           "gridcolor": "white",
           "linecolor": "white",
           "ticks": "",
           "title": {
            "standoff": 15
           },
           "zerolinecolor": "white",
           "zerolinewidth": 2
          }
         }
        },
        "title": {
         "text": "Evolution of activations OUT for soggetto_2"
        },
        "xaxis": {
         "anchor": "y",
         "domain": [
          0,
          1
         ],
         "title": {
          "text": "index"
         }
        },
        "yaxis": {
         "anchor": "x",
         "domain": [
          0,
          1
         ],
         "title": {
          "text": "value"
         }
        }
       }
      }
     },
     "metadata": {},
     "output_type": "display_data"
    },
    {
     "data": {
      "application/vnd.plotly.v1+json": {
       "config": {
        "plotlyServerURL": "https://plot.ly"
       },
       "data": [
        {
         "hovertemplate": "variable=TrRi<br>index=%{x}<br>value=%{y}<extra></extra>",
         "legendgroup": "TrRi",
         "line": {
          "color": "#636efa",
          "dash": "solid"
         },
         "marker": {
          "symbol": "circle"
         },
         "mode": "lines",
         "name": "TrRi",
         "orientation": "v",
         "showlegend": true,
         "type": "scatter",
         "x": [
          0,
          1,
          2,
          3,
          4,
          5,
          6,
          7,
          8,
          9
         ],
         "xaxis": "x",
         "y": [
          0.09113712896392195,
          0.12926092408109296,
          0.12109683781928465,
          0.12335382590645264,
          0.12411615341576424,
          0.12409590628598723,
          0.12413250540910702,
          0.12420484821221654,
          0.12419826837338462,
          0.12420020275050697
         ],
         "yaxis": "y"
        },
        {
         "hovertemplate": "variable=RiTr<br>index=%{x}<br>value=%{y}<extra></extra>",
         "legendgroup": "RiTr",
         "line": {
          "color": "#EF553B",
          "dash": "solid"
         },
         "marker": {
          "symbol": "circle"
         },
         "mode": "lines",
         "name": "RiTr",
         "orientation": "v",
         "showlegend": true,
         "type": "scatter",
         "x": [
          0,
          1,
          2,
          3,
          4,
          5,
          6,
          7,
          8,
          9
         ],
         "xaxis": "x",
         "y": [
          -1.1591595609149472,
          -1.283272227136473,
          -1.226216117241941,
          -1.2294434902616143,
          -1.2295316960458162,
          -1.2308376018470641,
          -1.230276930482362,
          -1.2304722079840453,
          -1.2303971203549362,
          -1.2304128351800274
         ],
         "yaxis": "y"
        },
        {
         "hovertemplate": "variable=Plu<br>index=%{x}<br>value=%{y}<extra></extra>",
         "legendgroup": "Plu",
         "line": {
          "color": "#00cc96",
          "dash": "solid"
         },
         "marker": {
          "symbol": "circle"
         },
         "mode": "lines",
         "name": "Plu",
         "orientation": "v",
         "showlegend": true,
         "type": "scatter",
         "x": [
          0,
          1,
          2,
          3,
          4,
          5,
          6,
          7,
          8,
          9
         ],
         "xaxis": "x",
         "y": [
          -1.060950009705048,
          -0.9605357674939934,
          -0.9573734031686931,
          -0.9658037460713764,
          -0.9647528760327588,
          -0.9638244044846619,
          -0.9641132708579644,
          -0.9640406688672548,
          -0.9640509118770664,
          -0.9640462814218475
         ],
         "yaxis": "y"
        },
        {
         "hovertemplate": "variable=Ttra<br>index=%{x}<br>value=%{y}<extra></extra>",
         "legendgroup": "Ttra",
         "line": {
          "color": "#ab63fa",
          "dash": "solid"
         },
         "marker": {
          "symbol": "circle"
         },
         "mode": "lines",
         "name": "Ttra",
         "orientation": "v",
         "showlegend": true,
         "type": "scatter",
         "x": [
          0,
          1,
          2,
          3,
          4,
          5,
          6,
          7,
          8,
          9
         ],
         "xaxis": "x",
         "y": [
          0.23876068020631655,
          0.21852326365074237,
          0.19719495902888778,
          0.20085996404324152,
          0.19892200629222045,
          0.1995165527509153,
          0.19940322619566217,
          0.19947959517423552,
          0.19944952119505485,
          0.19946870816337223
         ],
         "yaxis": "y"
        },
        {
         "hovertemplate": "variable=Ttrb<br>index=%{x}<br>value=%{y}<extra></extra>",
         "legendgroup": "Ttrb",
         "line": {
          "color": "#FFA15A",
          "dash": "solid"
         },
         "marker": {
          "symbol": "circle"
         },
         "mode": "lines",
         "name": "Ttrb",
         "orientation": "v",
         "showlegend": true,
         "type": "scatter",
         "x": [
          0,
          1,
          2,
          3,
          4,
          5,
          6,
          7,
          8,
          9
         ],
         "xaxis": "x",
         "y": [
          1.3234610929581665,
          1.2899431573663918,
          1.2575258185249953,
          1.25095485362689,
          1.2494979445260792,
          1.2483598629203763,
          1.2479467571721208,
          1.2478974522461381,
          1.247880898652743,
          1.2478823222680104
         ],
         "yaxis": "y"
        },
        {
         "hovertemplate": "variable=Tr<br>index=%{x}<br>value=%{y}<extra></extra>",
         "legendgroup": "Tr",
         "line": {
          "color": "#19d3f3",
          "dash": "solid"
         },
         "marker": {
          "symbol": "circle"
         },
         "mode": "lines",
         "name": "Tr",
         "orientation": "v",
         "showlegend": true,
         "type": "scatter",
         "x": [
          0,
          1,
          2,
          3,
          4,
          5,
          6,
          7,
          8,
          9
         ],
         "xaxis": "x",
         "y": [
          -0.5094740713343445,
          -0.39085078134999873,
          -0.4095223742970798,
          -0.40677280061855986,
          -0.4054544852442835,
          -0.40450414651180117,
          -0.4045910426656671,
          -0.40451980154939476,
          -0.40452955843765087,
          -0.40452318676278126
         ],
         "yaxis": "y"
        },
        {
         "hovertemplate": "variable=MeTr<br>index=%{x}<br>value=%{y}<extra></extra>",
         "legendgroup": "MeTr",
         "line": {
          "color": "#FF6692",
          "dash": "solid"
         },
         "marker": {
          "symbol": "circle"
         },
         "mode": "lines",
         "name": "MeTr",
         "orientation": "v",
         "showlegend": true,
         "type": "scatter",
         "x": [
          0,
          1,
          2,
          3,
          4,
          5,
          6,
          7,
          8,
          9
         ],
         "xaxis": "x",
         "y": [
          -1.1977848438982537,
          -1.1652630202172387,
          -1.15689155222473,
          -1.1567856427942906,
          -1.1538412201288417,
          -1.1534921136353882,
          -1.1534544137827072,
          -1.153482481253927,
          -1.1534764791457615,
          -1.1534877835776949
         ],
         "yaxis": "y"
        },
        {
         "hovertemplate": "variable=MoTr<br>index=%{x}<br>value=%{y}<extra></extra>",
         "legendgroup": "MoTr",
         "line": {
          "color": "#B6E880",
          "dash": "solid"
         },
         "marker": {
          "symbol": "circle"
         },
         "mode": "lines",
         "name": "MoTr",
         "orientation": "v",
         "showlegend": true,
         "type": "scatter",
         "x": [
          0,
          1,
          2,
          3,
          4,
          5,
          6,
          7,
          8,
          9
         ],
         "xaxis": "x",
         "y": [
          0.6616438761607053,
          0.6309199363011453,
          0.630058869081263,
          0.6298029688883071,
          0.6312272725110095,
          0.6301750548318816,
          0.6302481579672903,
          0.630162401402557,
          0.6301880096129578,
          0.6301696056773847
         ],
         "yaxis": "y"
        },
        {
         "hovertemplate": "variable=RiRi<br>index=%{x}<br>value=%{y}<extra></extra>",
         "legendgroup": "RiRi",
         "line": {
          "color": "#FF97FF",
          "dash": "solid"
         },
         "marker": {
          "symbol": "circle"
         },
         "mode": "lines",
         "name": "RiRi",
         "orientation": "v",
         "showlegend": true,
         "type": "scatter",
         "x": [
          0,
          1,
          2,
          3,
          4,
          5,
          6,
          7,
          8,
          9
         ],
         "xaxis": "x",
         "y": [
          1.3814215257546534,
          1.2103542419450257,
          1.2277478739353824,
          1.2410849847086531,
          1.2385518850681327,
          1.238091442811715,
          1.238631972281825,
          1.238523547590098,
          1.238538559154946,
          1.2385366157510407
         ],
         "yaxis": "y"
        },
        {
         "hovertemplate": "variable=MoFo<br>index=%{x}<br>value=%{y}<extra></extra>",
         "legendgroup": "MoFo",
         "line": {
          "color": "#FECB52",
          "dash": "solid"
         },
         "marker": {
          "symbol": "circle"
         },
         "mode": "lines",
         "name": "MoFo",
         "orientation": "v",
         "showlegend": true,
         "type": "scatter",
         "x": [
          0,
          1,
          2,
          3,
          4,
          5,
          6,
          7,
          8,
          9
         ],
         "xaxis": "x",
         "y": [
          -0.8264789204364447,
          -0.7721190942080073,
          -0.7866705110944103,
          -0.7904181727394394,
          -0.7887639236927322,
          -0.788813600363608,
          -0.7889149333483879,
          -0.7888371144563129,
          -0.7888374916555404,
          -0.7888366105705498
         ],
         "yaxis": "y"
        },
        {
         "hovertemplate": "variable=Mmof<br>index=%{x}<br>value=%{y}<extra></extra>",
         "legendgroup": "Mmof",
         "line": {
          "color": "#636efa",
          "dash": "solid"
         },
         "marker": {
          "symbol": "circle"
         },
         "mode": "lines",
         "name": "Mmof",
         "orientation": "v",
         "showlegend": true,
         "type": "scatter",
         "x": [
          0,
          1,
          2,
          3,
          4,
          5,
          6,
          7,
          8,
          9
         ],
         "xaxis": "x",
         "y": [
          0.385538019023454,
          0.3493548386708982,
          0.35072988944576744,
          0.3526497462572764,
          0.35357526913979964,
          0.3528308003144024,
          0.3530585931671597,
          0.35295806874284363,
          0.3529755642185349,
          0.35295811037554603
         ],
         "yaxis": "y"
        },
        {
         "hovertemplate": "variable=MoRi<br>index=%{x}<br>value=%{y}<extra></extra>",
         "legendgroup": "MoRi",
         "line": {
          "color": "#EF553B",
          "dash": "solid"
         },
         "marker": {
          "symbol": "circle"
         },
         "mode": "lines",
         "name": "MoRi",
         "orientation": "v",
         "showlegend": true,
         "type": "scatter",
         "x": [
          0,
          1,
          2,
          3,
          4,
          5,
          6,
          7,
          8,
          9
         ],
         "xaxis": "x",
         "y": [
          -1.0258221460696175,
          -0.9890818941127099,
          -0.9924257789481059,
          -0.9989279086073072,
          -0.9985835625325268,
          -0.9983095423457053,
          -0.9982484264311687,
          -0.9982159153908419,
          -0.9982108284700444,
          -0.9982102014161438
         ],
         "yaxis": "y"
        },
        {
         "hovertemplate": "variable=MeRi<br>index=%{x}<br>value=%{y}<extra></extra>",
         "legendgroup": "MeRi",
         "line": {
          "color": "#00cc96",
          "dash": "solid"
         },
         "marker": {
          "symbol": "circle"
         },
         "mode": "lines",
         "name": "MeRi",
         "orientation": "v",
         "showlegend": true,
         "type": "scatter",
         "x": [
          0,
          1,
          2,
          3,
          4,
          5,
          6,
          7,
          8,
          9
         ],
         "xaxis": "x",
         "y": [
          1.2034856333681931,
          1.2342505985816803,
          1.2673042073771823,
          1.2723869113300093,
          1.2681873426760732,
          1.269898888600691,
          1.2695031948677595,
          1.2696236379393437,
          1.2695651591566115,
          1.2695912849970603
         ],
         "yaxis": "y"
        },
        {
         "hovertemplate": "variable=Ri<br>index=%{x}<br>value=%{y}<extra></extra>",
         "legendgroup": "Ri",
         "line": {
          "color": "#ab63fa",
          "dash": "solid"
         },
         "marker": {
          "symbol": "circle"
         },
         "mode": "lines",
         "name": "Ri",
         "orientation": "v",
         "showlegend": true,
         "type": "scatter",
         "x": [
          0,
          1,
          2,
          3,
          4,
          5,
          6,
          7,
          8,
          9
         ],
         "xaxis": "x",
         "y": [
          0.48045597007928414,
          0.4561129995722932,
          0.44185460623732437,
          0.4410743364099513,
          0.43985168122504137,
          0.4397763541094259,
          0.4397090275636274,
          0.43973861259560926,
          0.43972429684030984,
          0.439729848665255
         ],
         "yaxis": "y"
        },
        {
         "hovertemplate": "variable=Comp<br>index=%{x}<br>value=%{y}<extra></extra>",
         "legendgroup": "Comp",
         "line": {
          "color": "#FFA15A",
          "dash": "solid"
         },
         "marker": {
          "symbol": "circle"
         },
         "mode": "lines",
         "name": "Comp",
         "orientation": "v",
         "showlegend": true,
         "type": "scatter",
         "x": [
          0,
          1,
          2,
          3,
          4,
          5,
          6,
          7,
          8,
          9
         ],
         "xaxis": "x",
         "y": [
          0.013765625843961175,
          0.04240282434915174,
          0.03558667552487356,
          0.035984169921807634,
          0.03699820882283972,
          0.037036546562835344,
          0.03696558294370636,
          0.03698002559873606,
          0.036982112736458794,
          0.03698020028086919
         ],
         "yaxis": "y"
        }
       ],
       "layout": {
        "legend": {
         "title": {
          "text": "variable"
         },
         "tracegroupgap": 0
        },
        "template": {
         "data": {
          "bar": [
           {
            "error_x": {
             "color": "#2a3f5f"
            },
            "error_y": {
             "color": "#2a3f5f"
            },
            "marker": {
             "line": {
              "color": "#E5ECF6",
              "width": 0.5
             },
             "pattern": {
              "fillmode": "overlay",
              "size": 10,
              "solidity": 0.2
             }
            },
            "type": "bar"
           }
          ],
          "barpolar": [
           {
            "marker": {
             "line": {
              "color": "#E5ECF6",
              "width": 0.5
             },
             "pattern": {
              "fillmode": "overlay",
              "size": 10,
              "solidity": 0.2
             }
            },
            "type": "barpolar"
           }
          ],
          "carpet": [
           {
            "aaxis": {
             "endlinecolor": "#2a3f5f",
             "gridcolor": "white",
             "linecolor": "white",
             "minorgridcolor": "white",
             "startlinecolor": "#2a3f5f"
            },
            "baxis": {
             "endlinecolor": "#2a3f5f",
             "gridcolor": "white",
             "linecolor": "white",
             "minorgridcolor": "white",
             "startlinecolor": "#2a3f5f"
            },
            "type": "carpet"
           }
          ],
          "choropleth": [
           {
            "colorbar": {
             "outlinewidth": 0,
             "ticks": ""
            },
            "type": "choropleth"
           }
          ],
          "contour": [
           {
            "colorbar": {
             "outlinewidth": 0,
             "ticks": ""
            },
            "colorscale": [
             [
              0,
              "#0d0887"
             ],
             [
              0.1111111111111111,
              "#46039f"
             ],
             [
              0.2222222222222222,
              "#7201a8"
             ],
             [
              0.3333333333333333,
              "#9c179e"
             ],
             [
              0.4444444444444444,
              "#bd3786"
             ],
             [
              0.5555555555555556,
              "#d8576b"
             ],
             [
              0.6666666666666666,
              "#ed7953"
             ],
             [
              0.7777777777777778,
              "#fb9f3a"
             ],
             [
              0.8888888888888888,
              "#fdca26"
             ],
             [
              1,
              "#f0f921"
             ]
            ],
            "type": "contour"
           }
          ],
          "contourcarpet": [
           {
            "colorbar": {
             "outlinewidth": 0,
             "ticks": ""
            },
            "type": "contourcarpet"
           }
          ],
          "heatmap": [
           {
            "colorbar": {
             "outlinewidth": 0,
             "ticks": ""
            },
            "colorscale": [
             [
              0,
              "#0d0887"
             ],
             [
              0.1111111111111111,
              "#46039f"
             ],
             [
              0.2222222222222222,
              "#7201a8"
             ],
             [
              0.3333333333333333,
              "#9c179e"
             ],
             [
              0.4444444444444444,
              "#bd3786"
             ],
             [
              0.5555555555555556,
              "#d8576b"
             ],
             [
              0.6666666666666666,
              "#ed7953"
             ],
             [
              0.7777777777777778,
              "#fb9f3a"
             ],
             [
              0.8888888888888888,
              "#fdca26"
             ],
             [
              1,
              "#f0f921"
             ]
            ],
            "type": "heatmap"
           }
          ],
          "heatmapgl": [
           {
            "colorbar": {
             "outlinewidth": 0,
             "ticks": ""
            },
            "colorscale": [
             [
              0,
              "#0d0887"
             ],
             [
              0.1111111111111111,
              "#46039f"
             ],
             [
              0.2222222222222222,
              "#7201a8"
             ],
             [
              0.3333333333333333,
              "#9c179e"
             ],
             [
              0.4444444444444444,
              "#bd3786"
             ],
             [
              0.5555555555555556,
              "#d8576b"
             ],
             [
              0.6666666666666666,
              "#ed7953"
             ],
             [
              0.7777777777777778,
              "#fb9f3a"
             ],
             [
              0.8888888888888888,
              "#fdca26"
             ],
             [
              1,
              "#f0f921"
             ]
            ],
            "type": "heatmapgl"
           }
          ],
          "histogram": [
           {
            "marker": {
             "pattern": {
              "fillmode": "overlay",
              "size": 10,
              "solidity": 0.2
             }
            },
            "type": "histogram"
           }
          ],
          "histogram2d": [
           {
            "colorbar": {
             "outlinewidth": 0,
             "ticks": ""
            },
            "colorscale": [
             [
              0,
              "#0d0887"
             ],
             [
              0.1111111111111111,
              "#46039f"
             ],
             [
              0.2222222222222222,
              "#7201a8"
             ],
             [
              0.3333333333333333,
              "#9c179e"
             ],
             [
              0.4444444444444444,
              "#bd3786"
             ],
             [
              0.5555555555555556,
              "#d8576b"
             ],
             [
              0.6666666666666666,
              "#ed7953"
             ],
             [
              0.7777777777777778,
              "#fb9f3a"
             ],
             [
              0.8888888888888888,
              "#fdca26"
             ],
             [
              1,
              "#f0f921"
             ]
            ],
            "type": "histogram2d"
           }
          ],
          "histogram2dcontour": [
           {
            "colorbar": {
             "outlinewidth": 0,
             "ticks": ""
            },
            "colorscale": [
             [
              0,
              "#0d0887"
             ],
             [
              0.1111111111111111,
              "#46039f"
             ],
             [
              0.2222222222222222,
              "#7201a8"
             ],
             [
              0.3333333333333333,
              "#9c179e"
             ],
             [
              0.4444444444444444,
              "#bd3786"
             ],
             [
              0.5555555555555556,
              "#d8576b"
             ],
             [
              0.6666666666666666,
              "#ed7953"
             ],
             [
              0.7777777777777778,
              "#fb9f3a"
             ],
             [
              0.8888888888888888,
              "#fdca26"
             ],
             [
              1,
              "#f0f921"
             ]
            ],
            "type": "histogram2dcontour"
           }
          ],
          "mesh3d": [
           {
            "colorbar": {
             "outlinewidth": 0,
             "ticks": ""
            },
            "type": "mesh3d"
           }
          ],
          "parcoords": [
           {
            "line": {
             "colorbar": {
              "outlinewidth": 0,
              "ticks": ""
             }
            },
            "type": "parcoords"
           }
          ],
          "pie": [
           {
            "automargin": true,
            "type": "pie"
           }
          ],
          "scatter": [
           {
            "fillpattern": {
             "fillmode": "overlay",
             "size": 10,
             "solidity": 0.2
            },
            "type": "scatter"
           }
          ],
          "scatter3d": [
           {
            "line": {
             "colorbar": {
              "outlinewidth": 0,
              "ticks": ""
             }
            },
            "marker": {
             "colorbar": {
              "outlinewidth": 0,
              "ticks": ""
             }
            },
            "type": "scatter3d"
           }
          ],
          "scattercarpet": [
           {
            "marker": {
             "colorbar": {
              "outlinewidth": 0,
              "ticks": ""
             }
            },
            "type": "scattercarpet"
           }
          ],
          "scattergeo": [
           {
            "marker": {
             "colorbar": {
              "outlinewidth": 0,
              "ticks": ""
             }
            },
            "type": "scattergeo"
           }
          ],
          "scattergl": [
           {
            "marker": {
             "colorbar": {
              "outlinewidth": 0,
              "ticks": ""
             }
            },
            "type": "scattergl"
           }
          ],
          "scattermapbox": [
           {
            "marker": {
             "colorbar": {
              "outlinewidth": 0,
              "ticks": ""
             }
            },
            "type": "scattermapbox"
           }
          ],
          "scatterpolar": [
           {
            "marker": {
             "colorbar": {
              "outlinewidth": 0,
              "ticks": ""
             }
            },
            "type": "scatterpolar"
           }
          ],
          "scatterpolargl": [
           {
            "marker": {
             "colorbar": {
              "outlinewidth": 0,
              "ticks": ""
             }
            },
            "type": "scatterpolargl"
           }
          ],
          "scatterternary": [
           {
            "marker": {
             "colorbar": {
              "outlinewidth": 0,
              "ticks": ""
             }
            },
            "type": "scatterternary"
           }
          ],
          "surface": [
           {
            "colorbar": {
             "outlinewidth": 0,
             "ticks": ""
            },
            "colorscale": [
             [
              0,
              "#0d0887"
             ],
             [
              0.1111111111111111,
              "#46039f"
             ],
             [
              0.2222222222222222,
              "#7201a8"
             ],
             [
              0.3333333333333333,
              "#9c179e"
             ],
             [
              0.4444444444444444,
              "#bd3786"
             ],
             [
              0.5555555555555556,
              "#d8576b"
             ],
             [
              0.6666666666666666,
              "#ed7953"
             ],
             [
              0.7777777777777778,
              "#fb9f3a"
             ],
             [
              0.8888888888888888,
              "#fdca26"
             ],
             [
              1,
              "#f0f921"
             ]
            ],
            "type": "surface"
           }
          ],
          "table": [
           {
            "cells": {
             "fill": {
              "color": "#EBF0F8"
             },
             "line": {
              "color": "white"
             }
            },
            "header": {
             "fill": {
              "color": "#C8D4E3"
             },
             "line": {
              "color": "white"
             }
            },
            "type": "table"
           }
          ]
         },
         "layout": {
          "annotationdefaults": {
           "arrowcolor": "#2a3f5f",
           "arrowhead": 0,
           "arrowwidth": 1
          },
          "autotypenumbers": "strict",
          "coloraxis": {
           "colorbar": {
            "outlinewidth": 0,
            "ticks": ""
           }
          },
          "colorscale": {
           "diverging": [
            [
             0,
             "#8e0152"
            ],
            [
             0.1,
             "#c51b7d"
            ],
            [
             0.2,
             "#de77ae"
            ],
            [
             0.3,
             "#f1b6da"
            ],
            [
             0.4,
             "#fde0ef"
            ],
            [
             0.5,
             "#f7f7f7"
            ],
            [
             0.6,
             "#e6f5d0"
            ],
            [
             0.7,
             "#b8e186"
            ],
            [
             0.8,
             "#7fbc41"
            ],
            [
             0.9,
             "#4d9221"
            ],
            [
             1,
             "#276419"
            ]
           ],
           "sequential": [
            [
             0,
             "#0d0887"
            ],
            [
             0.1111111111111111,
             "#46039f"
            ],
            [
             0.2222222222222222,
             "#7201a8"
            ],
            [
             0.3333333333333333,
             "#9c179e"
            ],
            [
             0.4444444444444444,
             "#bd3786"
            ],
            [
             0.5555555555555556,
             "#d8576b"
            ],
            [
             0.6666666666666666,
             "#ed7953"
            ],
            [
             0.7777777777777778,
             "#fb9f3a"
            ],
            [
             0.8888888888888888,
             "#fdca26"
            ],
            [
             1,
             "#f0f921"
            ]
           ],
           "sequentialminus": [
            [
             0,
             "#0d0887"
            ],
            [
             0.1111111111111111,
             "#46039f"
            ],
            [
             0.2222222222222222,
             "#7201a8"
            ],
            [
             0.3333333333333333,
             "#9c179e"
            ],
            [
             0.4444444444444444,
             "#bd3786"
            ],
            [
             0.5555555555555556,
             "#d8576b"
            ],
            [
             0.6666666666666666,
             "#ed7953"
            ],
            [
             0.7777777777777778,
             "#fb9f3a"
            ],
            [
             0.8888888888888888,
             "#fdca26"
            ],
            [
             1,
             "#f0f921"
            ]
           ]
          },
          "colorway": [
           "#636efa",
           "#EF553B",
           "#00cc96",
           "#ab63fa",
           "#FFA15A",
           "#19d3f3",
           "#FF6692",
           "#B6E880",
           "#FF97FF",
           "#FECB52"
          ],
          "font": {
           "color": "#2a3f5f"
          },
          "geo": {
           "bgcolor": "white",
           "lakecolor": "white",
           "landcolor": "#E5ECF6",
           "showlakes": true,
           "showland": true,
           "subunitcolor": "white"
          },
          "hoverlabel": {
           "align": "left"
          },
          "hovermode": "closest",
          "mapbox": {
           "style": "light"
          },
          "paper_bgcolor": "white",
          "plot_bgcolor": "#E5ECF6",
          "polar": {
           "angularaxis": {
            "gridcolor": "white",
            "linecolor": "white",
            "ticks": ""
           },
           "bgcolor": "#E5ECF6",
           "radialaxis": {
            "gridcolor": "white",
            "linecolor": "white",
            "ticks": ""
           }
          },
          "scene": {
           "xaxis": {
            "backgroundcolor": "#E5ECF6",
            "gridcolor": "white",
            "gridwidth": 2,
            "linecolor": "white",
            "showbackground": true,
            "ticks": "",
            "zerolinecolor": "white"
           },
           "yaxis": {
            "backgroundcolor": "#E5ECF6",
            "gridcolor": "white",
            "gridwidth": 2,
            "linecolor": "white",
            "showbackground": true,
            "ticks": "",
            "zerolinecolor": "white"
           },
           "zaxis": {
            "backgroundcolor": "#E5ECF6",
            "gridcolor": "white",
            "gridwidth": 2,
            "linecolor": "white",
            "showbackground": true,
            "ticks": "",
            "zerolinecolor": "white"
           }
          },
          "shapedefaults": {
           "line": {
            "color": "#2a3f5f"
           }
          },
          "ternary": {
           "aaxis": {
            "gridcolor": "white",
            "linecolor": "white",
            "ticks": ""
           },
           "baxis": {
            "gridcolor": "white",
            "linecolor": "white",
            "ticks": ""
           },
           "bgcolor": "#E5ECF6",
           "caxis": {
            "gridcolor": "white",
            "linecolor": "white",
            "ticks": ""
           }
          },
          "title": {
           "x": 0.05
          },
          "xaxis": {
           "automargin": true,
           "gridcolor": "white",
           "linecolor": "white",
           "ticks": "",
           "title": {
            "standoff": 15
           },
           "zerolinecolor": "white",
           "zerolinewidth": 2
          },
          "yaxis": {
           "automargin": true,
           "gridcolor": "white",
           "linecolor": "white",
           "ticks": "",
           "title": {
            "standoff": 15
           },
           "zerolinecolor": "white",
           "zerolinewidth": 2
          }
         }
        },
        "title": {
         "text": "Evolution of activations OUT for soggetto_3"
        },
        "xaxis": {
         "anchor": "y",
         "domain": [
          0,
          1
         ],
         "title": {
          "text": "index"
         }
        },
        "yaxis": {
         "anchor": "x",
         "domain": [
          0,
          1
         ],
         "title": {
          "text": "value"
         }
        }
       }
      }
     },
     "metadata": {},
     "output_type": "display_data"
    },
    {
     "data": {
      "application/vnd.plotly.v1+json": {
       "config": {
        "plotlyServerURL": "https://plot.ly"
       },
       "data": [
        {
         "hovertemplate": "variable=TrRi<br>index=%{x}<br>value=%{y}<extra></extra>",
         "legendgroup": "TrRi",
         "line": {
          "color": "#636efa",
          "dash": "solid"
         },
         "marker": {
          "symbol": "circle"
         },
         "mode": "lines",
         "name": "TrRi",
         "orientation": "v",
         "showlegend": true,
         "type": "scatter",
         "x": [
          0,
          1,
          2,
          3,
          4,
          5,
          6,
          7,
          8,
          9
         ],
         "xaxis": "x",
         "y": [
          -0.04558629835652566,
          -0.11264119464013488,
          -0.14162923822402093,
          -0.13363293860255093,
          -0.1316921571572202,
          -0.13219859032547643,
          -0.13240551801215555,
          -0.13244437130202175,
          -0.13244293970112592,
          -0.13246210667867533
         ],
         "yaxis": "y"
        },
        {
         "hovertemplate": "variable=RiTr<br>index=%{x}<br>value=%{y}<extra></extra>",
         "legendgroup": "RiTr",
         "line": {
          "color": "#EF553B",
          "dash": "solid"
         },
         "marker": {
          "symbol": "circle"
         },
         "mode": "lines",
         "name": "RiTr",
         "orientation": "v",
         "showlegend": true,
         "type": "scatter",
         "x": [
          0,
          1,
          2,
          3,
          4,
          5,
          6,
          7,
          8,
          9
         ],
         "xaxis": "x",
         "y": [
          -0.592602718217174,
          -0.6541816468484788,
          -0.7077081919596238,
          -0.7319669541488131,
          -0.7433758107556747,
          -0.7478849227061526,
          -0.7503719135861934,
          -0.7515598202179701,
          -0.7521305632332624,
          -0.7524028681994638
         ],
         "yaxis": "y"
        },
        {
         "hovertemplate": "variable=Plu<br>index=%{x}<br>value=%{y}<extra></extra>",
         "legendgroup": "Plu",
         "line": {
          "color": "#00cc96",
          "dash": "solid"
         },
         "marker": {
          "symbol": "circle"
         },
         "mode": "lines",
         "name": "Plu",
         "orientation": "v",
         "showlegend": true,
         "type": "scatter",
         "x": [
          0,
          1,
          2,
          3,
          4,
          5,
          6,
          7,
          8,
          9
         ],
         "xaxis": "x",
         "y": [
          -0.8731841455555587,
          -0.9663500957741656,
          -1.0150789348371894,
          -1.032861733071404,
          -1.0436153466192735,
          -1.047944179571292,
          -1.0503317467255835,
          -1.0514507223065328,
          -1.0520057885563463,
          -1.0522770060746929
         ],
         "yaxis": "y"
        },
        {
         "hovertemplate": "variable=Ttra<br>index=%{x}<br>value=%{y}<extra></extra>",
         "legendgroup": "Ttra",
         "line": {
          "color": "#ab63fa",
          "dash": "solid"
         },
         "marker": {
          "symbol": "circle"
         },
         "mode": "lines",
         "name": "Ttra",
         "orientation": "v",
         "showlegend": true,
         "type": "scatter",
         "x": [
          0,
          1,
          2,
          3,
          4,
          5,
          6,
          7,
          8,
          9
         ],
         "xaxis": "x",
         "y": [
          0.5993813121576413,
          0.5800828207088453,
          0.5809665388691592,
          0.5872906046817276,
          0.5939350391285464,
          0.5955678089684812,
          0.5961675959810864,
          0.5966263767819712,
          0.5969130105700411,
          0.5970613544511009
         ],
         "yaxis": "y"
        },
        {
         "hovertemplate": "variable=Ttrb<br>index=%{x}<br>value=%{y}<extra></extra>",
         "legendgroup": "Ttrb",
         "line": {
          "color": "#FFA15A",
          "dash": "solid"
         },
         "marker": {
          "symbol": "circle"
         },
         "mode": "lines",
         "name": "Ttrb",
         "orientation": "v",
         "showlegend": true,
         "type": "scatter",
         "x": [
          0,
          1,
          2,
          3,
          4,
          5,
          6,
          7,
          8,
          9
         ],
         "xaxis": "x",
         "y": [
          0.4524069648955797,
          0.3810868344479196,
          0.42851506641208126,
          0.4467478140317373,
          0.45337309073955595,
          0.45676291374272615,
          0.4589122006180344,
          0.4602089022881335,
          0.46079999470035804,
          0.46109612105758363
         ],
         "yaxis": "y"
        },
        {
         "hovertemplate": "variable=Tr<br>index=%{x}<br>value=%{y}<extra></extra>",
         "legendgroup": "Tr",
         "line": {
          "color": "#19d3f3",
          "dash": "solid"
         },
         "marker": {
          "symbol": "circle"
         },
         "mode": "lines",
         "name": "Tr",
         "orientation": "v",
         "showlegend": true,
         "type": "scatter",
         "x": [
          0,
          1,
          2,
          3,
          4,
          5,
          6,
          7,
          8,
          9
         ],
         "xaxis": "x",
         "y": [
          -0.09151123942951357,
          0.0104497693131788,
          0.026891463906934823,
          0.020971600050881306,
          0.020249146095571158,
          0.022151831431928545,
          0.022896002206550664,
          0.022955341871885207,
          0.022915366904181292,
          0.022917433487295066
         ],
         "yaxis": "y"
        },
        {
         "hovertemplate": "variable=MeTr<br>index=%{x}<br>value=%{y}<extra></extra>",
         "legendgroup": "MeTr",
         "line": {
          "color": "#FF6692",
          "dash": "solid"
         },
         "marker": {
          "symbol": "circle"
         },
         "mode": "lines",
         "name": "MeTr",
         "orientation": "v",
         "showlegend": true,
         "type": "scatter",
         "x": [
          0,
          1,
          2,
          3,
          4,
          5,
          6,
          7,
          8,
          9
         ],
         "xaxis": "x",
         "y": [
          0.03920418277945691,
          0.06167538630969127,
          0.08558662835615859,
          0.08548038160340041,
          0.08238939008911031,
          0.08105397898576079,
          0.08051083680644561,
          0.08034828187340604,
          0.08020546974673226,
          0.08012774960464161
         ],
         "yaxis": "y"
        },
        {
         "hovertemplate": "variable=MoTr<br>index=%{x}<br>value=%{y}<extra></extra>",
         "legendgroup": "MoTr",
         "line": {
          "color": "#B6E880",
          "dash": "solid"
         },
         "marker": {
          "symbol": "circle"
         },
         "mode": "lines",
         "name": "MoTr",
         "orientation": "v",
         "showlegend": true,
         "type": "scatter",
         "x": [
          0,
          1,
          2,
          3,
          4,
          5,
          6,
          7,
          8,
          9
         ],
         "xaxis": "x",
         "y": [
          0.6661397255737559,
          0.715233325443094,
          0.7281446981341303,
          0.7224372877755035,
          0.7233599639824221,
          0.7234856177032025,
          0.7235429630684316,
          0.7236016453082378,
          0.7236409740372542,
          0.7236644598235988
         ],
         "yaxis": "y"
        },
        {
         "hovertemplate": "variable=RiRi<br>index=%{x}<br>value=%{y}<extra></extra>",
         "legendgroup": "RiRi",
         "line": {
          "color": "#FF97FF",
          "dash": "solid"
         },
         "marker": {
          "symbol": "circle"
         },
         "mode": "lines",
         "name": "RiRi",
         "orientation": "v",
         "showlegend": true,
         "type": "scatter",
         "x": [
          0,
          1,
          2,
          3,
          4,
          5,
          6,
          7,
          8,
          9
         ],
         "xaxis": "x",
         "y": [
          0.4815457506933376,
          0.5610678546965617,
          0.5870340180405678,
          0.5895665640051364,
          0.5900760196636996,
          0.5899401331527697,
          0.5905062894663892,
          0.5906309650764756,
          0.5907009050554018,
          0.5907411993365987
         ],
         "yaxis": "y"
        },
        {
         "hovertemplate": "variable=MoFo<br>index=%{x}<br>value=%{y}<extra></extra>",
         "legendgroup": "MoFo",
         "line": {
          "color": "#FECB52",
          "dash": "solid"
         },
         "marker": {
          "symbol": "circle"
         },
         "mode": "lines",
         "name": "MoFo",
         "orientation": "v",
         "showlegend": true,
         "type": "scatter",
         "x": [
          0,
          1,
          2,
          3,
          4,
          5,
          6,
          7,
          8,
          9
         ],
         "xaxis": "x",
         "y": [
          -0.7329429668844036,
          -0.7769744557442262,
          -0.7677817611124039,
          -0.7651693751798783,
          -0.7654050335410023,
          -0.7656657733063333,
          -0.7658806585144575,
          -0.7659626695852844,
          -0.7659920249465488,
          -0.7660195795311806
         ],
         "yaxis": "y"
        },
        {
         "hovertemplate": "variable=Mmof<br>index=%{x}<br>value=%{y}<extra></extra>",
         "legendgroup": "Mmof",
         "line": {
          "color": "#636efa",
          "dash": "solid"
         },
         "marker": {
          "symbol": "circle"
         },
         "mode": "lines",
         "name": "Mmof",
         "orientation": "v",
         "showlegend": true,
         "type": "scatter",
         "x": [
          0,
          1,
          2,
          3,
          4,
          5,
          6,
          7,
          8,
          9
         ],
         "xaxis": "x",
         "y": [
          0.49142123722391756,
          0.35687972993276795,
          0.3324639370081185,
          0.3406168917395863,
          0.34068100970524046,
          0.33903211086195184,
          0.33825008914337223,
          0.33801824537546776,
          0.3379534652581937,
          0.3378838904102829
         ],
         "yaxis": "y"
        },
        {
         "hovertemplate": "variable=MoRi<br>index=%{x}<br>value=%{y}<extra></extra>",
         "legendgroup": "MoRi",
         "line": {
          "color": "#EF553B",
          "dash": "solid"
         },
         "marker": {
          "symbol": "circle"
         },
         "mode": "lines",
         "name": "MoRi",
         "orientation": "v",
         "showlegend": true,
         "type": "scatter",
         "x": [
          0,
          1,
          2,
          3,
          4,
          5,
          6,
          7,
          8,
          9
         ],
         "xaxis": "x",
         "y": [
          0.09157642661392397,
          0.13716678120927786,
          0.1832744603702209,
          0.1874260812481602,
          0.186605382522178,
          0.18653059439659023,
          0.18710191347564104,
          0.18737203402199512,
          0.18746532660152623,
          0.18749957892935576
         ],
         "yaxis": "y"
        },
        {
         "hovertemplate": "variable=MeRi<br>index=%{x}<br>value=%{y}<extra></extra>",
         "legendgroup": "MeRi",
         "line": {
          "color": "#00cc96",
          "dash": "solid"
         },
         "marker": {
          "symbol": "circle"
         },
         "mode": "lines",
         "name": "MeRi",
         "orientation": "v",
         "showlegend": true,
         "type": "scatter",
         "x": [
          0,
          1,
          2,
          3,
          4,
          5,
          6,
          7,
          8,
          9
         ],
         "xaxis": "x",
         "y": [
          -0.5348705061942799,
          -0.37969514496069373,
          -0.3652953078421959,
          -0.36757038795036834,
          -0.36374841480222597,
          -0.3614856658072523,
          -0.3607806544010348,
          -0.36070516280016846,
          -0.3606956120896166,
          -0.3606783793994336
         ],
         "yaxis": "y"
        },
        {
         "hovertemplate": "variable=Ri<br>index=%{x}<br>value=%{y}<extra></extra>",
         "legendgroup": "Ri",
         "line": {
          "color": "#ab63fa",
          "dash": "solid"
         },
         "marker": {
          "symbol": "circle"
         },
         "mode": "lines",
         "name": "Ri",
         "orientation": "v",
         "showlegend": true,
         "type": "scatter",
         "x": [
          0,
          1,
          2,
          3,
          4,
          5,
          6,
          7,
          8,
          9
         ],
         "xaxis": "x",
         "y": [
          0.27777295505310307,
          0.3475775931895915,
          0.31721765761954196,
          0.32182115298652114,
          0.3294313960371592,
          0.33359885728413485,
          0.33529593392551227,
          0.3360049953247534,
          0.336420773753858,
          0.33665908446399456
         ],
         "yaxis": "y"
        },
        {
         "hovertemplate": "variable=Comp<br>index=%{x}<br>value=%{y}<extra></extra>",
         "legendgroup": "Comp",
         "line": {
          "color": "#FFA15A",
          "dash": "solid"
         },
         "marker": {
          "symbol": "circle"
         },
         "mode": "lines",
         "name": "Comp",
         "orientation": "v",
         "showlegend": true,
         "type": "scatter",
         "x": [
          0,
          1,
          2,
          3,
          4,
          5,
          6,
          7,
          8,
          9
         ],
         "xaxis": "x",
         "y": [
          -0.22875068035326118,
          -0.2613775572832299,
          -0.2726010347414811,
          -0.27115698916964215,
          -0.2722636750880893,
          -0.272944714811042,
          -0.2734133334520422,
          -0.2736440417103524,
          -0.27374835810065107,
          -0.27381093168101106
         ],
         "yaxis": "y"
        }
       ],
       "layout": {
        "legend": {
         "title": {
          "text": "variable"
         },
         "tracegroupgap": 0
        },
        "template": {
         "data": {
          "bar": [
           {
            "error_x": {
             "color": "#2a3f5f"
            },
            "error_y": {
             "color": "#2a3f5f"
            },
            "marker": {
             "line": {
              "color": "#E5ECF6",
              "width": 0.5
             },
             "pattern": {
              "fillmode": "overlay",
              "size": 10,
              "solidity": 0.2
             }
            },
            "type": "bar"
           }
          ],
          "barpolar": [
           {
            "marker": {
             "line": {
              "color": "#E5ECF6",
              "width": 0.5
             },
             "pattern": {
              "fillmode": "overlay",
              "size": 10,
              "solidity": 0.2
             }
            },
            "type": "barpolar"
           }
          ],
          "carpet": [
           {
            "aaxis": {
             "endlinecolor": "#2a3f5f",
             "gridcolor": "white",
             "linecolor": "white",
             "minorgridcolor": "white",
             "startlinecolor": "#2a3f5f"
            },
            "baxis": {
             "endlinecolor": "#2a3f5f",
             "gridcolor": "white",
             "linecolor": "white",
             "minorgridcolor": "white",
             "startlinecolor": "#2a3f5f"
            },
            "type": "carpet"
           }
          ],
          "choropleth": [
           {
            "colorbar": {
             "outlinewidth": 0,
             "ticks": ""
            },
            "type": "choropleth"
           }
          ],
          "contour": [
           {
            "colorbar": {
             "outlinewidth": 0,
             "ticks": ""
            },
            "colorscale": [
             [
              0,
              "#0d0887"
             ],
             [
              0.1111111111111111,
              "#46039f"
             ],
             [
              0.2222222222222222,
              "#7201a8"
             ],
             [
              0.3333333333333333,
              "#9c179e"
             ],
             [
              0.4444444444444444,
              "#bd3786"
             ],
             [
              0.5555555555555556,
              "#d8576b"
             ],
             [
              0.6666666666666666,
              "#ed7953"
             ],
             [
              0.7777777777777778,
              "#fb9f3a"
             ],
             [
              0.8888888888888888,
              "#fdca26"
             ],
             [
              1,
              "#f0f921"
             ]
            ],
            "type": "contour"
           }
          ],
          "contourcarpet": [
           {
            "colorbar": {
             "outlinewidth": 0,
             "ticks": ""
            },
            "type": "contourcarpet"
           }
          ],
          "heatmap": [
           {
            "colorbar": {
             "outlinewidth": 0,
             "ticks": ""
            },
            "colorscale": [
             [
              0,
              "#0d0887"
             ],
             [
              0.1111111111111111,
              "#46039f"
             ],
             [
              0.2222222222222222,
              "#7201a8"
             ],
             [
              0.3333333333333333,
              "#9c179e"
             ],
             [
              0.4444444444444444,
              "#bd3786"
             ],
             [
              0.5555555555555556,
              "#d8576b"
             ],
             [
              0.6666666666666666,
              "#ed7953"
             ],
             [
              0.7777777777777778,
              "#fb9f3a"
             ],
             [
              0.8888888888888888,
              "#fdca26"
             ],
             [
              1,
              "#f0f921"
             ]
            ],
            "type": "heatmap"
           }
          ],
          "heatmapgl": [
           {
            "colorbar": {
             "outlinewidth": 0,
             "ticks": ""
            },
            "colorscale": [
             [
              0,
              "#0d0887"
             ],
             [
              0.1111111111111111,
              "#46039f"
             ],
             [
              0.2222222222222222,
              "#7201a8"
             ],
             [
              0.3333333333333333,
              "#9c179e"
             ],
             [
              0.4444444444444444,
              "#bd3786"
             ],
             [
              0.5555555555555556,
              "#d8576b"
             ],
             [
              0.6666666666666666,
              "#ed7953"
             ],
             [
              0.7777777777777778,
              "#fb9f3a"
             ],
             [
              0.8888888888888888,
              "#fdca26"
             ],
             [
              1,
              "#f0f921"
             ]
            ],
            "type": "heatmapgl"
           }
          ],
          "histogram": [
           {
            "marker": {
             "pattern": {
              "fillmode": "overlay",
              "size": 10,
              "solidity": 0.2
             }
            },
            "type": "histogram"
           }
          ],
          "histogram2d": [
           {
            "colorbar": {
             "outlinewidth": 0,
             "ticks": ""
            },
            "colorscale": [
             [
              0,
              "#0d0887"
             ],
             [
              0.1111111111111111,
              "#46039f"
             ],
             [
              0.2222222222222222,
              "#7201a8"
             ],
             [
              0.3333333333333333,
              "#9c179e"
             ],
             [
              0.4444444444444444,
              "#bd3786"
             ],
             [
              0.5555555555555556,
              "#d8576b"
             ],
             [
              0.6666666666666666,
              "#ed7953"
             ],
             [
              0.7777777777777778,
              "#fb9f3a"
             ],
             [
              0.8888888888888888,
              "#fdca26"
             ],
             [
              1,
              "#f0f921"
             ]
            ],
            "type": "histogram2d"
           }
          ],
          "histogram2dcontour": [
           {
            "colorbar": {
             "outlinewidth": 0,
             "ticks": ""
            },
            "colorscale": [
             [
              0,
              "#0d0887"
             ],
             [
              0.1111111111111111,
              "#46039f"
             ],
             [
              0.2222222222222222,
              "#7201a8"
             ],
             [
              0.3333333333333333,
              "#9c179e"
             ],
             [
              0.4444444444444444,
              "#bd3786"
             ],
             [
              0.5555555555555556,
              "#d8576b"
             ],
             [
              0.6666666666666666,
              "#ed7953"
             ],
             [
              0.7777777777777778,
              "#fb9f3a"
             ],
             [
              0.8888888888888888,
              "#fdca26"
             ],
             [
              1,
              "#f0f921"
             ]
            ],
            "type": "histogram2dcontour"
           }
          ],
          "mesh3d": [
           {
            "colorbar": {
             "outlinewidth": 0,
             "ticks": ""
            },
            "type": "mesh3d"
           }
          ],
          "parcoords": [
           {
            "line": {
             "colorbar": {
              "outlinewidth": 0,
              "ticks": ""
             }
            },
            "type": "parcoords"
           }
          ],
          "pie": [
           {
            "automargin": true,
            "type": "pie"
           }
          ],
          "scatter": [
           {
            "fillpattern": {
             "fillmode": "overlay",
             "size": 10,
             "solidity": 0.2
            },
            "type": "scatter"
           }
          ],
          "scatter3d": [
           {
            "line": {
             "colorbar": {
              "outlinewidth": 0,
              "ticks": ""
             }
            },
            "marker": {
             "colorbar": {
              "outlinewidth": 0,
              "ticks": ""
             }
            },
            "type": "scatter3d"
           }
          ],
          "scattercarpet": [
           {
            "marker": {
             "colorbar": {
              "outlinewidth": 0,
              "ticks": ""
             }
            },
            "type": "scattercarpet"
           }
          ],
          "scattergeo": [
           {
            "marker": {
             "colorbar": {
              "outlinewidth": 0,
              "ticks": ""
             }
            },
            "type": "scattergeo"
           }
          ],
          "scattergl": [
           {
            "marker": {
             "colorbar": {
              "outlinewidth": 0,
              "ticks": ""
             }
            },
            "type": "scattergl"
           }
          ],
          "scattermapbox": [
           {
            "marker": {
             "colorbar": {
              "outlinewidth": 0,
              "ticks": ""
             }
            },
            "type": "scattermapbox"
           }
          ],
          "scatterpolar": [
           {
            "marker": {
             "colorbar": {
              "outlinewidth": 0,
              "ticks": ""
             }
            },
            "type": "scatterpolar"
           }
          ],
          "scatterpolargl": [
           {
            "marker": {
             "colorbar": {
              "outlinewidth": 0,
              "ticks": ""
             }
            },
            "type": "scatterpolargl"
           }
          ],
          "scatterternary": [
           {
            "marker": {
             "colorbar": {
              "outlinewidth": 0,
              "ticks": ""
             }
            },
            "type": "scatterternary"
           }
          ],
          "surface": [
           {
            "colorbar": {
             "outlinewidth": 0,
             "ticks": ""
            },
            "colorscale": [
             [
              0,
              "#0d0887"
             ],
             [
              0.1111111111111111,
              "#46039f"
             ],
             [
              0.2222222222222222,
              "#7201a8"
             ],
             [
              0.3333333333333333,
              "#9c179e"
             ],
             [
              0.4444444444444444,
              "#bd3786"
             ],
             [
              0.5555555555555556,
              "#d8576b"
             ],
             [
              0.6666666666666666,
              "#ed7953"
             ],
             [
              0.7777777777777778,
              "#fb9f3a"
             ],
             [
              0.8888888888888888,
              "#fdca26"
             ],
             [
              1,
              "#f0f921"
             ]
            ],
            "type": "surface"
           }
          ],
          "table": [
           {
            "cells": {
             "fill": {
              "color": "#EBF0F8"
             },
             "line": {
              "color": "white"
             }
            },
            "header": {
             "fill": {
              "color": "#C8D4E3"
             },
             "line": {
              "color": "white"
             }
            },
            "type": "table"
           }
          ]
         },
         "layout": {
          "annotationdefaults": {
           "arrowcolor": "#2a3f5f",
           "arrowhead": 0,
           "arrowwidth": 1
          },
          "autotypenumbers": "strict",
          "coloraxis": {
           "colorbar": {
            "outlinewidth": 0,
            "ticks": ""
           }
          },
          "colorscale": {
           "diverging": [
            [
             0,
             "#8e0152"
            ],
            [
             0.1,
             "#c51b7d"
            ],
            [
             0.2,
             "#de77ae"
            ],
            [
             0.3,
             "#f1b6da"
            ],
            [
             0.4,
             "#fde0ef"
            ],
            [
             0.5,
             "#f7f7f7"
            ],
            [
             0.6,
             "#e6f5d0"
            ],
            [
             0.7,
             "#b8e186"
            ],
            [
             0.8,
             "#7fbc41"
            ],
            [
             0.9,
             "#4d9221"
            ],
            [
             1,
             "#276419"
            ]
           ],
           "sequential": [
            [
             0,
             "#0d0887"
            ],
            [
             0.1111111111111111,
             "#46039f"
            ],
            [
             0.2222222222222222,
             "#7201a8"
            ],
            [
             0.3333333333333333,
             "#9c179e"
            ],
            [
             0.4444444444444444,
             "#bd3786"
            ],
            [
             0.5555555555555556,
             "#d8576b"
            ],
            [
             0.6666666666666666,
             "#ed7953"
            ],
            [
             0.7777777777777778,
             "#fb9f3a"
            ],
            [
             0.8888888888888888,
             "#fdca26"
            ],
            [
             1,
             "#f0f921"
            ]
           ],
           "sequentialminus": [
            [
             0,
             "#0d0887"
            ],
            [
             0.1111111111111111,
             "#46039f"
            ],
            [
             0.2222222222222222,
             "#7201a8"
            ],
            [
             0.3333333333333333,
             "#9c179e"
            ],
            [
             0.4444444444444444,
             "#bd3786"
            ],
            [
             0.5555555555555556,
             "#d8576b"
            ],
            [
             0.6666666666666666,
             "#ed7953"
            ],
            [
             0.7777777777777778,
             "#fb9f3a"
            ],
            [
             0.8888888888888888,
             "#fdca26"
            ],
            [
             1,
             "#f0f921"
            ]
           ]
          },
          "colorway": [
           "#636efa",
           "#EF553B",
           "#00cc96",
           "#ab63fa",
           "#FFA15A",
           "#19d3f3",
           "#FF6692",
           "#B6E880",
           "#FF97FF",
           "#FECB52"
          ],
          "font": {
           "color": "#2a3f5f"
          },
          "geo": {
           "bgcolor": "white",
           "lakecolor": "white",
           "landcolor": "#E5ECF6",
           "showlakes": true,
           "showland": true,
           "subunitcolor": "white"
          },
          "hoverlabel": {
           "align": "left"
          },
          "hovermode": "closest",
          "mapbox": {
           "style": "light"
          },
          "paper_bgcolor": "white",
          "plot_bgcolor": "#E5ECF6",
          "polar": {
           "angularaxis": {
            "gridcolor": "white",
            "linecolor": "white",
            "ticks": ""
           },
           "bgcolor": "#E5ECF6",
           "radialaxis": {
            "gridcolor": "white",
            "linecolor": "white",
            "ticks": ""
           }
          },
          "scene": {
           "xaxis": {
            "backgroundcolor": "#E5ECF6",
            "gridcolor": "white",
            "gridwidth": 2,
            "linecolor": "white",
            "showbackground": true,
            "ticks": "",
            "zerolinecolor": "white"
           },
           "yaxis": {
            "backgroundcolor": "#E5ECF6",
            "gridcolor": "white",
            "gridwidth": 2,
            "linecolor": "white",
            "showbackground": true,
            "ticks": "",
            "zerolinecolor": "white"
           },
           "zaxis": {
            "backgroundcolor": "#E5ECF6",
            "gridcolor": "white",
            "gridwidth": 2,
            "linecolor": "white",
            "showbackground": true,
            "ticks": "",
            "zerolinecolor": "white"
           }
          },
          "shapedefaults": {
           "line": {
            "color": "#2a3f5f"
           }
          },
          "ternary": {
           "aaxis": {
            "gridcolor": "white",
            "linecolor": "white",
            "ticks": ""
           },
           "baxis": {
            "gridcolor": "white",
            "linecolor": "white",
            "ticks": ""
           },
           "bgcolor": "#E5ECF6",
           "caxis": {
            "gridcolor": "white",
            "linecolor": "white",
            "ticks": ""
           }
          },
          "title": {
           "x": 0.05
          },
          "xaxis": {
           "automargin": true,
           "gridcolor": "white",
           "linecolor": "white",
           "ticks": "",
           "title": {
            "standoff": 15
           },
           "zerolinecolor": "white",
           "zerolinewidth": 2
          },
          "yaxis": {
           "automargin": true,
           "gridcolor": "white",
           "linecolor": "white",
           "ticks": "",
           "title": {
            "standoff": 15
           },
           "zerolinecolor": "white",
           "zerolinewidth": 2
          }
         }
        },
        "title": {
         "text": "Evolution of activations OUT for soggetto_6"
        },
        "xaxis": {
         "anchor": "y",
         "domain": [
          0,
          1
         ],
         "title": {
          "text": "index"
         }
        },
        "yaxis": {
         "anchor": "x",
         "domain": [
          0,
          1
         ],
         "title": {
          "text": "value"
         }
        }
       }
      }
     },
     "metadata": {},
     "output_type": "display_data"
    },
    {
     "data": {
      "application/vnd.plotly.v1+json": {
       "config": {
        "plotlyServerURL": "https://plot.ly"
       },
       "data": [
        {
         "hovertemplate": "variable=TrRi<br>index=%{x}<br>value=%{y}<extra></extra>",
         "legendgroup": "TrRi",
         "line": {
          "color": "#636efa",
          "dash": "solid"
         },
         "marker": {
          "symbol": "circle"
         },
         "mode": "lines",
         "name": "TrRi",
         "orientation": "v",
         "showlegend": true,
         "type": "scatter",
         "x": [
          0,
          1,
          2,
          3,
          4,
          5,
          6,
          7,
          8,
          9
         ],
         "xaxis": "x",
         "y": [
          -0.1265718227614566,
          -0.237030803737246,
          -0.16545582819720342,
          -0.1824389639474704,
          -0.18236520312478402,
          -0.18112866004221947,
          -0.18194056464386735,
          -0.18165583358778398,
          -0.18164151486059096,
          -0.18166665342470742
         ],
         "yaxis": "y"
        },
        {
         "hovertemplate": "variable=RiTr<br>index=%{x}<br>value=%{y}<extra></extra>",
         "legendgroup": "RiTr",
         "line": {
          "color": "#EF553B",
          "dash": "solid"
         },
         "marker": {
          "symbol": "circle"
         },
         "mode": "lines",
         "name": "RiTr",
         "orientation": "v",
         "showlegend": true,
         "type": "scatter",
         "x": [
          0,
          1,
          2,
          3,
          4,
          5,
          6,
          7,
          8,
          9
         ],
         "xaxis": "x",
         "y": [
          0.17906354786181644,
          0.09698855460504026,
          0.15945697103824977,
          0.14607854748641147,
          0.14524182474151762,
          0.14660716537758256,
          0.14579390358112,
          0.14600603938801154,
          0.14601914395425564,
          0.14598660548751152
         ],
         "yaxis": "y"
        },
        {
         "hovertemplate": "variable=Plu<br>index=%{x}<br>value=%{y}<extra></extra>",
         "legendgroup": "Plu",
         "line": {
          "color": "#00cc96",
          "dash": "solid"
         },
         "marker": {
          "symbol": "circle"
         },
         "mode": "lines",
         "name": "Plu",
         "orientation": "v",
         "showlegend": true,
         "type": "scatter",
         "x": [
          0,
          1,
          2,
          3,
          4,
          5,
          6,
          7,
          8,
          9
         ],
         "xaxis": "x",
         "y": [
          0.27678765443880826,
          0.5017095644779204,
          0.4303986536778266,
          0.4363867767710902,
          0.4513867157532415,
          0.4465876434242363,
          0.44843187438236953,
          0.4486120505774207,
          0.44866565716706597,
          0.4488374964134943
         ],
         "yaxis": "y"
        },
        {
         "hovertemplate": "variable=Ttra<br>index=%{x}<br>value=%{y}<extra></extra>",
         "legendgroup": "Ttra",
         "line": {
          "color": "#ab63fa",
          "dash": "solid"
         },
         "marker": {
          "symbol": "circle"
         },
         "mode": "lines",
         "name": "Ttra",
         "orientation": "v",
         "showlegend": true,
         "type": "scatter",
         "x": [
          0,
          1,
          2,
          3,
          4,
          5,
          6,
          7,
          8,
          9
         ],
         "xaxis": "x",
         "y": [
          0.594036887728946,
          0.6116397369376383,
          0.6158267492151267,
          0.5990091665450396,
          0.6070685694203873,
          0.6082521726661367,
          0.6086064787282878,
          0.6090127442889197,
          0.609105834536684,
          0.609218109914071
         ],
         "yaxis": "y"
        },
        {
         "hovertemplate": "variable=Ttrb<br>index=%{x}<br>value=%{y}<extra></extra>",
         "legendgroup": "Ttrb",
         "line": {
          "color": "#FFA15A",
          "dash": "solid"
         },
         "marker": {
          "symbol": "circle"
         },
         "mode": "lines",
         "name": "Ttrb",
         "orientation": "v",
         "showlegend": true,
         "type": "scatter",
         "x": [
          0,
          1,
          2,
          3,
          4,
          5,
          6,
          7,
          8,
          9
         ],
         "xaxis": "x",
         "y": [
          -0.7086342140517697,
          -0.45056253945601327,
          -0.5827136502393806,
          -0.5500888998815107,
          -0.55102202680807,
          -0.555139444460021,
          -0.5535957207289018,
          -0.5541408381054795,
          -0.5542163598008334,
          -0.5541933740221737
         ],
         "yaxis": "y"
        },
        {
         "hovertemplate": "variable=Tr<br>index=%{x}<br>value=%{y}<extra></extra>",
         "legendgroup": "Tr",
         "line": {
          "color": "#19d3f3",
          "dash": "solid"
         },
         "marker": {
          "symbol": "circle"
         },
         "mode": "lines",
         "name": "Tr",
         "orientation": "v",
         "showlegend": true,
         "type": "scatter",
         "x": [
          0,
          1,
          2,
          3,
          4,
          5,
          6,
          7,
          8,
          9
         ],
         "xaxis": "x",
         "y": [
          -0.8952183091674945,
          -0.781560982134117,
          -0.9502437027204369,
          -0.8820472070280868,
          -0.8994952120755166,
          -0.9021974936602759,
          -0.8980784714770629,
          -0.8995396947778083,
          -0.8993269750483053,
          -0.8992919692463083
         ],
         "yaxis": "y"
        },
        {
         "hovertemplate": "variable=MeTr<br>index=%{x}<br>value=%{y}<extra></extra>",
         "legendgroup": "MeTr",
         "line": {
          "color": "#FF6692",
          "dash": "solid"
         },
         "marker": {
          "symbol": "circle"
         },
         "mode": "lines",
         "name": "MeTr",
         "orientation": "v",
         "showlegend": true,
         "type": "scatter",
         "x": [
          0,
          1,
          2,
          3,
          4,
          5,
          6,
          7,
          8,
          9
         ],
         "xaxis": "x",
         "y": [
          0.11993297571615191,
          -0.036872231976809416,
          0.07392173625192504,
          0.04491931358751363,
          0.04796381236274847,
          0.04942400029758244,
          0.048228563516198815,
          0.048778272970671006,
          0.04878563774782273,
          0.04876707873320375
         ],
         "yaxis": "y"
        },
        {
         "hovertemplate": "variable=MoTr<br>index=%{x}<br>value=%{y}<extra></extra>",
         "legendgroup": "MoTr",
         "line": {
          "color": "#B6E880",
          "dash": "solid"
         },
         "marker": {
          "symbol": "circle"
         },
         "mode": "lines",
         "name": "MoTr",
         "orientation": "v",
         "showlegend": true,
         "type": "scatter",
         "x": [
          0,
          1,
          2,
          3,
          4,
          5,
          6,
          7,
          8,
          9
         ],
         "xaxis": "x",
         "y": [
          0.28646665018034273,
          0.3039439003564844,
          0.3088712469473395,
          0.2962250325624739,
          0.30360954081873603,
          0.30348574868535394,
          0.3037188596128724,
          0.3040081660913633,
          0.30404193393171736,
          0.3041186169403088
         ],
         "yaxis": "y"
        },
        {
         "hovertemplate": "variable=RiRi<br>index=%{x}<br>value=%{y}<extra></extra>",
         "legendgroup": "RiRi",
         "line": {
          "color": "#FF97FF",
          "dash": "solid"
         },
         "marker": {
          "symbol": "circle"
         },
         "mode": "lines",
         "name": "RiRi",
         "orientation": "v",
         "showlegend": true,
         "type": "scatter",
         "x": [
          0,
          1,
          2,
          3,
          4,
          5,
          6,
          7,
          8,
          9
         ],
         "xaxis": "x",
         "y": [
          0.43712844387222194,
          0.0838490019949844,
          0.20223991309029593,
          0.17885216566192427,
          0.16679138931089815,
          0.1724884699274186,
          0.16842330050488333,
          0.16829870866406932,
          0.16802584565784595,
          0.16772712678077165
         ],
         "yaxis": "y"
        },
        {
         "hovertemplate": "variable=MoFo<br>index=%{x}<br>value=%{y}<extra></extra>",
         "legendgroup": "MoFo",
         "line": {
          "color": "#FECB52",
          "dash": "solid"
         },
         "marker": {
          "symbol": "circle"
         },
         "mode": "lines",
         "name": "MoFo",
         "orientation": "v",
         "showlegend": true,
         "type": "scatter",
         "x": [
          0,
          1,
          2,
          3,
          4,
          5,
          6,
          7,
          8,
          9
         ],
         "xaxis": "x",
         "y": [
          0.6255328912051498,
          0.6773303244884601,
          0.6603253873812148,
          0.6798891692071358,
          0.6720274699878803,
          0.6721766446401,
          0.6727384701638802,
          0.6724223931405438,
          0.6725007650613314,
          0.6724779627623344
         ],
         "yaxis": "y"
        },
        {
         "hovertemplate": "variable=Mmof<br>index=%{x}<br>value=%{y}<extra></extra>",
         "legendgroup": "Mmof",
         "line": {
          "color": "#636efa",
          "dash": "solid"
         },
         "marker": {
          "symbol": "circle"
         },
         "mode": "lines",
         "name": "Mmof",
         "orientation": "v",
         "showlegend": true,
         "type": "scatter",
         "x": [
          0,
          1,
          2,
          3,
          4,
          5,
          6,
          7,
          8,
          9
         ],
         "xaxis": "x",
         "y": [
          -0.6986006831296052,
          -0.4074311146834998,
          -0.5505887249482946,
          -0.5196814902266574,
          -0.518967353546682,
          -0.5236802493308175,
          -0.5220298317294368,
          -0.5225480017671245,
          -0.5226612499694052,
          -0.5226267520162369
         ],
         "yaxis": "y"
        },
        {
         "hovertemplate": "variable=MoRi<br>index=%{x}<br>value=%{y}<extra></extra>",
         "legendgroup": "MoRi",
         "line": {
          "color": "#EF553B",
          "dash": "solid"
         },
         "marker": {
          "symbol": "circle"
         },
         "mode": "lines",
         "name": "MoRi",
         "orientation": "v",
         "showlegend": true,
         "type": "scatter",
         "x": [
          0,
          1,
          2,
          3,
          4,
          5,
          6,
          7,
          8,
          9
         ],
         "xaxis": "x",
         "y": [
          -0.20528103439208853,
          -0.5704924966978016,
          -0.44236430943753596,
          -0.4611975321741224,
          -0.47368034513948676,
          -0.4665272617056721,
          -0.4702051083469863,
          -0.47003426225880907,
          -0.4701364682443034,
          -0.47035142232444704
         ],
         "yaxis": "y"
        },
        {
         "hovertemplate": "variable=MeRi<br>index=%{x}<br>value=%{y}<extra></extra>",
         "legendgroup": "MeRi",
         "line": {
          "color": "#00cc96",
          "dash": "solid"
         },
         "marker": {
          "symbol": "circle"
         },
         "mode": "lines",
         "name": "MeRi",
         "orientation": "v",
         "showlegend": true,
         "type": "scatter",
         "x": [
          0,
          1,
          2,
          3,
          4,
          5,
          6,
          7,
          8,
          9
         ],
         "xaxis": "x",
         "y": [
          -0.027730735361445567,
          -0.1469160302236106,
          -0.07212333301699567,
          -0.08742552352815894,
          -0.08881051312667106,
          -0.08731065634476701,
          -0.08828803904628305,
          -0.0880273752275713,
          -0.08801185232278688,
          -0.08805178913423996
         ],
         "yaxis": "y"
        },
        {
         "hovertemplate": "variable=Ri<br>index=%{x}<br>value=%{y}<extra></extra>",
         "legendgroup": "Ri",
         "line": {
          "color": "#ab63fa",
          "dash": "solid"
         },
         "marker": {
          "symbol": "circle"
         },
         "mode": "lines",
         "name": "Ri",
         "orientation": "v",
         "showlegend": true,
         "type": "scatter",
         "x": [
          0,
          1,
          2,
          3,
          4,
          5,
          6,
          7,
          8,
          9
         ],
         "xaxis": "x",
         "y": [
          0.016091560135304744,
          0.31183087928510056,
          0.23383685109736568,
          0.22310768640880813,
          0.24455430957980145,
          0.2396644934737861,
          0.24136396036135555,
          0.24185289611259975,
          0.241822920381216,
          0.24203457009427823
         ],
         "yaxis": "y"
        },
        {
         "hovertemplate": "variable=Comp<br>index=%{x}<br>value=%{y}<extra></extra>",
         "legendgroup": "Comp",
         "line": {
          "color": "#FFA15A",
          "dash": "solid"
         },
         "marker": {
          "symbol": "circle"
         },
         "mode": "lines",
         "name": "Comp",
         "orientation": "v",
         "showlegend": true,
         "type": "scatter",
         "x": [
          0,
          1,
          2,
          3,
          4,
          5,
          6,
          7,
          8,
          9
         ],
         "xaxis": "x",
         "y": [
          0.1269961877251195,
          0.043574236763471136,
          0.07861203986050576,
          0.07841175855561261,
          0.07569702184600338,
          0.07729742705158031,
          0.07683232512157516,
          0.07695473449098268,
          0.0770266818082919,
          0.07701439304214594
         ],
         "yaxis": "y"
        }
       ],
       "layout": {
        "legend": {
         "title": {
          "text": "variable"
         },
         "tracegroupgap": 0
        },
        "template": {
         "data": {
          "bar": [
           {
            "error_x": {
             "color": "#2a3f5f"
            },
            "error_y": {
             "color": "#2a3f5f"
            },
            "marker": {
             "line": {
              "color": "#E5ECF6",
              "width": 0.5
             },
             "pattern": {
              "fillmode": "overlay",
              "size": 10,
              "solidity": 0.2
             }
            },
            "type": "bar"
           }
          ],
          "barpolar": [
           {
            "marker": {
             "line": {
              "color": "#E5ECF6",
              "width": 0.5
             },
             "pattern": {
              "fillmode": "overlay",
              "size": 10,
              "solidity": 0.2
             }
            },
            "type": "barpolar"
           }
          ],
          "carpet": [
           {
            "aaxis": {
             "endlinecolor": "#2a3f5f",
             "gridcolor": "white",
             "linecolor": "white",
             "minorgridcolor": "white",
             "startlinecolor": "#2a3f5f"
            },
            "baxis": {
             "endlinecolor": "#2a3f5f",
             "gridcolor": "white",
             "linecolor": "white",
             "minorgridcolor": "white",
             "startlinecolor": "#2a3f5f"
            },
            "type": "carpet"
           }
          ],
          "choropleth": [
           {
            "colorbar": {
             "outlinewidth": 0,
             "ticks": ""
            },
            "type": "choropleth"
           }
          ],
          "contour": [
           {
            "colorbar": {
             "outlinewidth": 0,
             "ticks": ""
            },
            "colorscale": [
             [
              0,
              "#0d0887"
             ],
             [
              0.1111111111111111,
              "#46039f"
             ],
             [
              0.2222222222222222,
              "#7201a8"
             ],
             [
              0.3333333333333333,
              "#9c179e"
             ],
             [
              0.4444444444444444,
              "#bd3786"
             ],
             [
              0.5555555555555556,
              "#d8576b"
             ],
             [
              0.6666666666666666,
              "#ed7953"
             ],
             [
              0.7777777777777778,
              "#fb9f3a"
             ],
             [
              0.8888888888888888,
              "#fdca26"
             ],
             [
              1,
              "#f0f921"
             ]
            ],
            "type": "contour"
           }
          ],
          "contourcarpet": [
           {
            "colorbar": {
             "outlinewidth": 0,
             "ticks": ""
            },
            "type": "contourcarpet"
           }
          ],
          "heatmap": [
           {
            "colorbar": {
             "outlinewidth": 0,
             "ticks": ""
            },
            "colorscale": [
             [
              0,
              "#0d0887"
             ],
             [
              0.1111111111111111,
              "#46039f"
             ],
             [
              0.2222222222222222,
              "#7201a8"
             ],
             [
              0.3333333333333333,
              "#9c179e"
             ],
             [
              0.4444444444444444,
              "#bd3786"
             ],
             [
              0.5555555555555556,
              "#d8576b"
             ],
             [
              0.6666666666666666,
              "#ed7953"
             ],
             [
              0.7777777777777778,
              "#fb9f3a"
             ],
             [
              0.8888888888888888,
              "#fdca26"
             ],
             [
              1,
              "#f0f921"
             ]
            ],
            "type": "heatmap"
           }
          ],
          "heatmapgl": [
           {
            "colorbar": {
             "outlinewidth": 0,
             "ticks": ""
            },
            "colorscale": [
             [
              0,
              "#0d0887"
             ],
             [
              0.1111111111111111,
              "#46039f"
             ],
             [
              0.2222222222222222,
              "#7201a8"
             ],
             [
              0.3333333333333333,
              "#9c179e"
             ],
             [
              0.4444444444444444,
              "#bd3786"
             ],
             [
              0.5555555555555556,
              "#d8576b"
             ],
             [
              0.6666666666666666,
              "#ed7953"
             ],
             [
              0.7777777777777778,
              "#fb9f3a"
             ],
             [
              0.8888888888888888,
              "#fdca26"
             ],
             [
              1,
              "#f0f921"
             ]
            ],
            "type": "heatmapgl"
           }
          ],
          "histogram": [
           {
            "marker": {
             "pattern": {
              "fillmode": "overlay",
              "size": 10,
              "solidity": 0.2
             }
            },
            "type": "histogram"
           }
          ],
          "histogram2d": [
           {
            "colorbar": {
             "outlinewidth": 0,
             "ticks": ""
            },
            "colorscale": [
             [
              0,
              "#0d0887"
             ],
             [
              0.1111111111111111,
              "#46039f"
             ],
             [
              0.2222222222222222,
              "#7201a8"
             ],
             [
              0.3333333333333333,
              "#9c179e"
             ],
             [
              0.4444444444444444,
              "#bd3786"
             ],
             [
              0.5555555555555556,
              "#d8576b"
             ],
             [
              0.6666666666666666,
              "#ed7953"
             ],
             [
              0.7777777777777778,
              "#fb9f3a"
             ],
             [
              0.8888888888888888,
              "#fdca26"
             ],
             [
              1,
              "#f0f921"
             ]
            ],
            "type": "histogram2d"
           }
          ],
          "histogram2dcontour": [
           {
            "colorbar": {
             "outlinewidth": 0,
             "ticks": ""
            },
            "colorscale": [
             [
              0,
              "#0d0887"
             ],
             [
              0.1111111111111111,
              "#46039f"
             ],
             [
              0.2222222222222222,
              "#7201a8"
             ],
             [
              0.3333333333333333,
              "#9c179e"
             ],
             [
              0.4444444444444444,
              "#bd3786"
             ],
             [
              0.5555555555555556,
              "#d8576b"
             ],
             [
              0.6666666666666666,
              "#ed7953"
             ],
             [
              0.7777777777777778,
              "#fb9f3a"
             ],
             [
              0.8888888888888888,
              "#fdca26"
             ],
             [
              1,
              "#f0f921"
             ]
            ],
            "type": "histogram2dcontour"
           }
          ],
          "mesh3d": [
           {
            "colorbar": {
             "outlinewidth": 0,
             "ticks": ""
            },
            "type": "mesh3d"
           }
          ],
          "parcoords": [
           {
            "line": {
             "colorbar": {
              "outlinewidth": 0,
              "ticks": ""
             }
            },
            "type": "parcoords"
           }
          ],
          "pie": [
           {
            "automargin": true,
            "type": "pie"
           }
          ],
          "scatter": [
           {
            "fillpattern": {
             "fillmode": "overlay",
             "size": 10,
             "solidity": 0.2
            },
            "type": "scatter"
           }
          ],
          "scatter3d": [
           {
            "line": {
             "colorbar": {
              "outlinewidth": 0,
              "ticks": ""
             }
            },
            "marker": {
             "colorbar": {
              "outlinewidth": 0,
              "ticks": ""
             }
            },
            "type": "scatter3d"
           }
          ],
          "scattercarpet": [
           {
            "marker": {
             "colorbar": {
              "outlinewidth": 0,
              "ticks": ""
             }
            },
            "type": "scattercarpet"
           }
          ],
          "scattergeo": [
           {
            "marker": {
             "colorbar": {
              "outlinewidth": 0,
              "ticks": ""
             }
            },
            "type": "scattergeo"
           }
          ],
          "scattergl": [
           {
            "marker": {
             "colorbar": {
              "outlinewidth": 0,
              "ticks": ""
             }
            },
            "type": "scattergl"
           }
          ],
          "scattermapbox": [
           {
            "marker": {
             "colorbar": {
              "outlinewidth": 0,
              "ticks": ""
             }
            },
            "type": "scattermapbox"
           }
          ],
          "scatterpolar": [
           {
            "marker": {
             "colorbar": {
              "outlinewidth": 0,
              "ticks": ""
             }
            },
            "type": "scatterpolar"
           }
          ],
          "scatterpolargl": [
           {
            "marker": {
             "colorbar": {
              "outlinewidth": 0,
              "ticks": ""
             }
            },
            "type": "scatterpolargl"
           }
          ],
          "scatterternary": [
           {
            "marker": {
             "colorbar": {
              "outlinewidth": 0,
              "ticks": ""
             }
            },
            "type": "scatterternary"
           }
          ],
          "surface": [
           {
            "colorbar": {
             "outlinewidth": 0,
             "ticks": ""
            },
            "colorscale": [
             [
              0,
              "#0d0887"
             ],
             [
              0.1111111111111111,
              "#46039f"
             ],
             [
              0.2222222222222222,
              "#7201a8"
             ],
             [
              0.3333333333333333,
              "#9c179e"
             ],
             [
              0.4444444444444444,
              "#bd3786"
             ],
             [
              0.5555555555555556,
              "#d8576b"
             ],
             [
              0.6666666666666666,
              "#ed7953"
             ],
             [
              0.7777777777777778,
              "#fb9f3a"
             ],
             [
              0.8888888888888888,
              "#fdca26"
             ],
             [
              1,
              "#f0f921"
             ]
            ],
            "type": "surface"
           }
          ],
          "table": [
           {
            "cells": {
             "fill": {
              "color": "#EBF0F8"
             },
             "line": {
              "color": "white"
             }
            },
            "header": {
             "fill": {
              "color": "#C8D4E3"
             },
             "line": {
              "color": "white"
             }
            },
            "type": "table"
           }
          ]
         },
         "layout": {
          "annotationdefaults": {
           "arrowcolor": "#2a3f5f",
           "arrowhead": 0,
           "arrowwidth": 1
          },
          "autotypenumbers": "strict",
          "coloraxis": {
           "colorbar": {
            "outlinewidth": 0,
            "ticks": ""
           }
          },
          "colorscale": {
           "diverging": [
            [
             0,
             "#8e0152"
            ],
            [
             0.1,
             "#c51b7d"
            ],
            [
             0.2,
             "#de77ae"
            ],
            [
             0.3,
             "#f1b6da"
            ],
            [
             0.4,
             "#fde0ef"
            ],
            [
             0.5,
             "#f7f7f7"
            ],
            [
             0.6,
             "#e6f5d0"
            ],
            [
             0.7,
             "#b8e186"
            ],
            [
             0.8,
             "#7fbc41"
            ],
            [
             0.9,
             "#4d9221"
            ],
            [
             1,
             "#276419"
            ]
           ],
           "sequential": [
            [
             0,
             "#0d0887"
            ],
            [
             0.1111111111111111,
             "#46039f"
            ],
            [
             0.2222222222222222,
             "#7201a8"
            ],
            [
             0.3333333333333333,
             "#9c179e"
            ],
            [
             0.4444444444444444,
             "#bd3786"
            ],
            [
             0.5555555555555556,
             "#d8576b"
            ],
            [
             0.6666666666666666,
             "#ed7953"
            ],
            [
             0.7777777777777778,
             "#fb9f3a"
            ],
            [
             0.8888888888888888,
             "#fdca26"
            ],
            [
             1,
             "#f0f921"
            ]
           ],
           "sequentialminus": [
            [
             0,
             "#0d0887"
            ],
            [
             0.1111111111111111,
             "#46039f"
            ],
            [
             0.2222222222222222,
             "#7201a8"
            ],
            [
             0.3333333333333333,
             "#9c179e"
            ],
            [
             0.4444444444444444,
             "#bd3786"
            ],
            [
             0.5555555555555556,
             "#d8576b"
            ],
            [
             0.6666666666666666,
             "#ed7953"
            ],
            [
             0.7777777777777778,
             "#fb9f3a"
            ],
            [
             0.8888888888888888,
             "#fdca26"
            ],
            [
             1,
             "#f0f921"
            ]
           ]
          },
          "colorway": [
           "#636efa",
           "#EF553B",
           "#00cc96",
           "#ab63fa",
           "#FFA15A",
           "#19d3f3",
           "#FF6692",
           "#B6E880",
           "#FF97FF",
           "#FECB52"
          ],
          "font": {
           "color": "#2a3f5f"
          },
          "geo": {
           "bgcolor": "white",
           "lakecolor": "white",
           "landcolor": "#E5ECF6",
           "showlakes": true,
           "showland": true,
           "subunitcolor": "white"
          },
          "hoverlabel": {
           "align": "left"
          },
          "hovermode": "closest",
          "mapbox": {
           "style": "light"
          },
          "paper_bgcolor": "white",
          "plot_bgcolor": "#E5ECF6",
          "polar": {
           "angularaxis": {
            "gridcolor": "white",
            "linecolor": "white",
            "ticks": ""
           },
           "bgcolor": "#E5ECF6",
           "radialaxis": {
            "gridcolor": "white",
            "linecolor": "white",
            "ticks": ""
           }
          },
          "scene": {
           "xaxis": {
            "backgroundcolor": "#E5ECF6",
            "gridcolor": "white",
            "gridwidth": 2,
            "linecolor": "white",
            "showbackground": true,
            "ticks": "",
            "zerolinecolor": "white"
           },
           "yaxis": {
            "backgroundcolor": "#E5ECF6",
            "gridcolor": "white",
            "gridwidth": 2,
            "linecolor": "white",
            "showbackground": true,
            "ticks": "",
            "zerolinecolor": "white"
           },
           "zaxis": {
            "backgroundcolor": "#E5ECF6",
            "gridcolor": "white",
            "gridwidth": 2,
            "linecolor": "white",
            "showbackground": true,
            "ticks": "",
            "zerolinecolor": "white"
           }
          },
          "shapedefaults": {
           "line": {
            "color": "#2a3f5f"
           }
          },
          "ternary": {
           "aaxis": {
            "gridcolor": "white",
            "linecolor": "white",
            "ticks": ""
           },
           "baxis": {
            "gridcolor": "white",
            "linecolor": "white",
            "ticks": ""
           },
           "bgcolor": "#E5ECF6",
           "caxis": {
            "gridcolor": "white",
            "linecolor": "white",
            "ticks": ""
           }
          },
          "title": {
           "x": 0.05
          },
          "xaxis": {
           "automargin": true,
           "gridcolor": "white",
           "linecolor": "white",
           "ticks": "",
           "title": {
            "standoff": 15
           },
           "zerolinecolor": "white",
           "zerolinewidth": 2
          },
          "yaxis": {
           "automargin": true,
           "gridcolor": "white",
           "linecolor": "white",
           "ticks": "",
           "title": {
            "standoff": 15
           },
           "zerolinecolor": "white",
           "zerolinewidth": 2
          }
         }
        },
        "title": {
         "text": "Evolution of activations OUT for soggetto_7"
        },
        "xaxis": {
         "anchor": "y",
         "domain": [
          0,
          1
         ],
         "title": {
          "text": "index"
         }
        },
        "yaxis": {
         "anchor": "x",
         "domain": [
          0,
          1
         ],
         "title": {
          "text": "value"
         }
        }
       }
      }
     },
     "metadata": {},
     "output_type": "display_data"
    },
    {
     "data": {
      "application/vnd.plotly.v1+json": {
       "config": {
        "plotlyServerURL": "https://plot.ly"
       },
       "data": [
        {
         "hovertemplate": "variable=TrRi<br>index=%{x}<br>value=%{y}<extra></extra>",
         "legendgroup": "TrRi",
         "line": {
          "color": "#636efa",
          "dash": "solid"
         },
         "marker": {
          "symbol": "circle"
         },
         "mode": "lines",
         "name": "TrRi",
         "orientation": "v",
         "showlegend": true,
         "type": "scatter",
         "x": [
          0,
          1,
          2,
          3,
          4,
          5,
          6,
          7,
          8,
          9
         ],
         "xaxis": "x",
         "y": [
          0.7298887972878589,
          0.8623696356760102,
          0.8218392633177636,
          0.812151774826748,
          0.8217971625570422,
          0.8218246812539944,
          0.8201188276357887,
          0.8204410756049483,
          0.8206920442143517,
          0.8205882864607066
         ],
         "yaxis": "y"
        },
        {
         "hovertemplate": "variable=RiTr<br>index=%{x}<br>value=%{y}<extra></extra>",
         "legendgroup": "RiTr",
         "line": {
          "color": "#EF553B",
          "dash": "solid"
         },
         "marker": {
          "symbol": "circle"
         },
         "mode": "lines",
         "name": "RiTr",
         "orientation": "v",
         "showlegend": true,
         "type": "scatter",
         "x": [
          0,
          1,
          2,
          3,
          4,
          5,
          6,
          7,
          8,
          9
         ],
         "xaxis": "x",
         "y": [
          -0.7900019479072629,
          -0.6297688332805915,
          -0.62023370127043,
          -0.6703016555793568,
          -0.6563387077323074,
          -0.6533324179232842,
          -0.6557859115971033,
          -0.6560230619780965,
          -0.6555105580616769,
          -0.6555754416776485
         ],
         "yaxis": "y"
        },
        {
         "hovertemplate": "variable=Plu<br>index=%{x}<br>value=%{y}<extra></extra>",
         "legendgroup": "Plu",
         "line": {
          "color": "#00cc96",
          "dash": "solid"
         },
         "marker": {
          "symbol": "circle"
         },
         "mode": "lines",
         "name": "Plu",
         "orientation": "v",
         "showlegend": true,
         "type": "scatter",
         "x": [
          0,
          1,
          2,
          3,
          4,
          5,
          6,
          7,
          8,
          9
         ],
         "xaxis": "x",
         "y": [
          0.1550663006440146,
          0.15055529669933382,
          0.1824673071906365,
          0.1768104909142683,
          0.17203860900613943,
          0.17488825376930345,
          0.1752441744917529,
          0.1747344497129919,
          0.1747736796636598,
          0.1748625681977868
         ],
         "yaxis": "y"
        },
        {
         "hovertemplate": "variable=Ttra<br>index=%{x}<br>value=%{y}<extra></extra>",
         "legendgroup": "Ttra",
         "line": {
          "color": "#ab63fa",
          "dash": "solid"
         },
         "marker": {
          "symbol": "circle"
         },
         "mode": "lines",
         "name": "Ttra",
         "orientation": "v",
         "showlegend": true,
         "type": "scatter",
         "x": [
          0,
          1,
          2,
          3,
          4,
          5,
          6,
          7,
          8,
          9
         ],
         "xaxis": "x",
         "y": [
          0.7792931476030539,
          0.937533527590258,
          0.930436366762053,
          0.9300266951181818,
          0.9392107748037929,
          0.9386467199267294,
          0.9378631754655662,
          0.9381669841242991,
          0.9382941473170435,
          0.9382186526713845
         ],
         "yaxis": "y"
        },
        {
         "hovertemplate": "variable=Ttrb<br>index=%{x}<br>value=%{y}<extra></extra>",
         "legendgroup": "Ttrb",
         "line": {
          "color": "#FFA15A",
          "dash": "solid"
         },
         "marker": {
          "symbol": "circle"
         },
         "mode": "lines",
         "name": "Ttrb",
         "orientation": "v",
         "showlegend": true,
         "type": "scatter",
         "x": [
          0,
          1,
          2,
          3,
          4,
          5,
          6,
          7,
          8,
          9
         ],
         "xaxis": "x",
         "y": [
          -0.09422464810534868,
          0.18189932525167865,
          0.08860202164293053,
          0.1007702345382555,
          0.10391996844674345,
          0.10663720938252177,
          0.10444663688899349,
          0.10473514484959964,
          0.1049752966154083,
          0.10492209171092734
         ],
         "yaxis": "y"
        },
        {
         "hovertemplate": "variable=Tr<br>index=%{x}<br>value=%{y}<extra></extra>",
         "legendgroup": "Tr",
         "line": {
          "color": "#19d3f3",
          "dash": "solid"
         },
         "marker": {
          "symbol": "circle"
         },
         "mode": "lines",
         "name": "Tr",
         "orientation": "v",
         "showlegend": true,
         "type": "scatter",
         "x": [
          0,
          1,
          2,
          3,
          4,
          5,
          6,
          7,
          8,
          9
         ],
         "xaxis": "x",
         "y": [
          -0.41682781663695995,
          -0.7268577129353379,
          -0.7279625815497,
          -0.6981082940738298,
          -0.6997740882567818,
          -0.7058540368098908,
          -0.7049196198010022,
          -0.7039717871371988,
          -0.7043276439118773,
          -0.7044433233906112
         ],
         "yaxis": "y"
        },
        {
         "hovertemplate": "variable=MeTr<br>index=%{x}<br>value=%{y}<extra></extra>",
         "legendgroup": "MeTr",
         "line": {
          "color": "#FF6692",
          "dash": "solid"
         },
         "marker": {
          "symbol": "circle"
         },
         "mode": "lines",
         "name": "MeTr",
         "orientation": "v",
         "showlegend": true,
         "type": "scatter",
         "x": [
          0,
          1,
          2,
          3,
          4,
          5,
          6,
          7,
          8,
          9
         ],
         "xaxis": "x",
         "y": [
          0.2215808787699064,
          0.17930586450189434,
          0.17210196062178473,
          0.16448272484466042,
          0.16588085213295806,
          0.16560463830627745,
          0.16562570209359145,
          0.16552318065654364,
          0.1655593429859096,
          0.16556227381447564
         ],
         "yaxis": "y"
        },
        {
         "hovertemplate": "variable=MoTr<br>index=%{x}<br>value=%{y}<extra></extra>",
         "legendgroup": "MoTr",
         "line": {
          "color": "#B6E880",
          "dash": "solid"
         },
         "marker": {
          "symbol": "circle"
         },
         "mode": "lines",
         "name": "MoTr",
         "orientation": "v",
         "showlegend": true,
         "type": "scatter",
         "x": [
          0,
          1,
          2,
          3,
          4,
          5,
          6,
          7,
          8,
          9
         ],
         "xaxis": "x",
         "y": [
          -1.0387374138892418,
          -1.1175668511822714,
          -1.0357594731631619,
          -1.0501203393546452,
          -1.0617191422188874,
          -1.0580812048756867,
          -1.0564122577241268,
          -1.057436493977567,
          -1.0575352877437192,
          -1.0573369615896602
         ],
         "yaxis": "y"
        },
        {
         "hovertemplate": "variable=RiRi<br>index=%{x}<br>value=%{y}<extra></extra>",
         "legendgroup": "RiRi",
         "line": {
          "color": "#FF97FF",
          "dash": "solid"
         },
         "marker": {
          "symbol": "circle"
         },
         "mode": "lines",
         "name": "RiRi",
         "orientation": "v",
         "showlegend": true,
         "type": "scatter",
         "x": [
          0,
          1,
          2,
          3,
          4,
          5,
          6,
          7,
          8,
          9
         ],
         "xaxis": "x",
         "y": [
          0.9534944041806516,
          0.6871255971934327,
          0.7409712560103003,
          0.7648606395871421,
          0.7627039347918951,
          0.7577361923428424,
          0.759616398592514,
          0.7600502230047278,
          0.7597038220292173,
          0.7596671931303174
         ],
         "yaxis": "y"
        },
        {
         "hovertemplate": "variable=MoFo<br>index=%{x}<br>value=%{y}<extra></extra>",
         "legendgroup": "MoFo",
         "line": {
          "color": "#FECB52",
          "dash": "solid"
         },
         "marker": {
          "symbol": "circle"
         },
         "mode": "lines",
         "name": "MoFo",
         "orientation": "v",
         "showlegend": true,
         "type": "scatter",
         "x": [
          0,
          1,
          2,
          3,
          4,
          5,
          6,
          7,
          8,
          9
         ],
         "xaxis": "x",
         "y": [
          -0.1534712988070806,
          -0.019422046786021913,
          -0.025287439884237047,
          -0.02645954832428621,
          -0.031484401997589895,
          -0.028423037882291627,
          -0.028730481945334285,
          -0.0290818760976414,
          -0.029018987831315873,
          -0.028951353043124586
         ],
         "yaxis": "y"
        },
        {
         "hovertemplate": "variable=Mmof<br>index=%{x}<br>value=%{y}<extra></extra>",
         "legendgroup": "Mmof",
         "line": {
          "color": "#636efa",
          "dash": "solid"
         },
         "marker": {
          "symbol": "circle"
         },
         "mode": "lines",
         "name": "Mmof",
         "orientation": "v",
         "showlegend": true,
         "type": "scatter",
         "x": [
          0,
          1,
          2,
          3,
          4,
          5,
          6,
          7,
          8,
          9
         ],
         "xaxis": "x",
         "y": [
          -0.35604484222234273,
          -0.40478370784344164,
          -0.4215157492264467,
          -0.41811309623181286,
          -0.4206079629149645,
          -0.4219089573383543,
          -0.42119409526550544,
          -0.4212099327271834,
          -0.42134219168955944,
          -0.42131803045669614
         ],
         "yaxis": "y"
        },
        {
         "hovertemplate": "variable=MoRi<br>index=%{x}<br>value=%{y}<extra></extra>",
         "legendgroup": "MoRi",
         "line": {
          "color": "#EF553B",
          "dash": "solid"
         },
         "marker": {
          "symbol": "circle"
         },
         "mode": "lines",
         "name": "MoRi",
         "orientation": "v",
         "showlegend": true,
         "type": "scatter",
         "x": [
          0,
          1,
          2,
          3,
          4,
          5,
          6,
          7,
          8,
          9
         ],
         "xaxis": "x",
         "y": [
          -0.5818390249446961,
          -0.607114471112963,
          -0.6259561923753842,
          -0.6183940378025453,
          -0.6243449976219908,
          -0.6248040870792136,
          -0.6239510514161816,
          -0.6240645528549218,
          -0.6242301160595821,
          -0.6241753915198367
         ],
         "yaxis": "y"
        },
        {
         "hovertemplate": "variable=MeRi<br>index=%{x}<br>value=%{y}<extra></extra>",
         "legendgroup": "MeRi",
         "line": {
          "color": "#00cc96",
          "dash": "solid"
         },
         "marker": {
          "symbol": "circle"
         },
         "mode": "lines",
         "name": "MeRi",
         "orientation": "v",
         "showlegend": true,
         "type": "scatter",
         "x": [
          0,
          1,
          2,
          3,
          4,
          5,
          6,
          7,
          8,
          9
         ],
         "xaxis": "x",
         "y": [
          0.30109148845476524,
          0.16282344273569907,
          0.17651388496325243,
          0.1911143594109555,
          0.1892746480990822,
          0.18575505768156184,
          0.1869269995460044,
          0.18724672660723282,
          0.18700194396424444,
          0.1869773169201444
         ],
         "yaxis": "y"
        },
        {
         "hovertemplate": "variable=Ri<br>index=%{x}<br>value=%{y}<extra></extra>",
         "legendgroup": "Ri",
         "line": {
          "color": "#ab63fa",
          "dash": "solid"
         },
         "marker": {
          "symbol": "circle"
         },
         "mode": "lines",
         "name": "Ri",
         "orientation": "v",
         "showlegend": true,
         "type": "scatter",
         "x": [
          0,
          1,
          2,
          3,
          4,
          5,
          6,
          7,
          8,
          9
         ],
         "xaxis": "x",
         "y": [
          0.5400102705441459,
          0.6063887361816112,
          0.6011883423123452,
          0.6046627213854298,
          0.6009361791086961,
          0.6028963253351735,
          0.6029074320647919,
          0.6026574971851321,
          0.6026868539771362,
          0.6027368409286201
         ],
         "yaxis": "y"
        },
        {
         "hovertemplate": "variable=Comp<br>index=%{x}<br>value=%{y}<extra></extra>",
         "legendgroup": "Comp",
         "line": {
          "color": "#FFA15A",
          "dash": "solid"
         },
         "marker": {
          "symbol": "circle"
         },
         "mode": "lines",
         "name": "Comp",
         "orientation": "v",
         "showlegend": true,
         "type": "scatter",
         "x": [
          0,
          1,
          2,
          3,
          4,
          5,
          6,
          7,
          8,
          9
         ],
         "xaxis": "x",
         "y": [
          -0.24927829497146425,
          -0.26248780268929117,
          -0.25740526535170755,
          -0.2633826692591664,
          -0.2614928282038295,
          -0.2615853360896846,
          -0.261755929029752,
          -0.2617675769728681,
          -0.26172234546924256,
          -0.26173472215678784
         ],
         "yaxis": "y"
        }
       ],
       "layout": {
        "legend": {
         "title": {
          "text": "variable"
         },
         "tracegroupgap": 0
        },
        "template": {
         "data": {
          "bar": [
           {
            "error_x": {
             "color": "#2a3f5f"
            },
            "error_y": {
             "color": "#2a3f5f"
            },
            "marker": {
             "line": {
              "color": "#E5ECF6",
              "width": 0.5
             },
             "pattern": {
              "fillmode": "overlay",
              "size": 10,
              "solidity": 0.2
             }
            },
            "type": "bar"
           }
          ],
          "barpolar": [
           {
            "marker": {
             "line": {
              "color": "#E5ECF6",
              "width": 0.5
             },
             "pattern": {
              "fillmode": "overlay",
              "size": 10,
              "solidity": 0.2
             }
            },
            "type": "barpolar"
           }
          ],
          "carpet": [
           {
            "aaxis": {
             "endlinecolor": "#2a3f5f",
             "gridcolor": "white",
             "linecolor": "white",
             "minorgridcolor": "white",
             "startlinecolor": "#2a3f5f"
            },
            "baxis": {
             "endlinecolor": "#2a3f5f",
             "gridcolor": "white",
             "linecolor": "white",
             "minorgridcolor": "white",
             "startlinecolor": "#2a3f5f"
            },
            "type": "carpet"
           }
          ],
          "choropleth": [
           {
            "colorbar": {
             "outlinewidth": 0,
             "ticks": ""
            },
            "type": "choropleth"
           }
          ],
          "contour": [
           {
            "colorbar": {
             "outlinewidth": 0,
             "ticks": ""
            },
            "colorscale": [
             [
              0,
              "#0d0887"
             ],
             [
              0.1111111111111111,
              "#46039f"
             ],
             [
              0.2222222222222222,
              "#7201a8"
             ],
             [
              0.3333333333333333,
              "#9c179e"
             ],
             [
              0.4444444444444444,
              "#bd3786"
             ],
             [
              0.5555555555555556,
              "#d8576b"
             ],
             [
              0.6666666666666666,
              "#ed7953"
             ],
             [
              0.7777777777777778,
              "#fb9f3a"
             ],
             [
              0.8888888888888888,
              "#fdca26"
             ],
             [
              1,
              "#f0f921"
             ]
            ],
            "type": "contour"
           }
          ],
          "contourcarpet": [
           {
            "colorbar": {
             "outlinewidth": 0,
             "ticks": ""
            },
            "type": "contourcarpet"
           }
          ],
          "heatmap": [
           {
            "colorbar": {
             "outlinewidth": 0,
             "ticks": ""
            },
            "colorscale": [
             [
              0,
              "#0d0887"
             ],
             [
              0.1111111111111111,
              "#46039f"
             ],
             [
              0.2222222222222222,
              "#7201a8"
             ],
             [
              0.3333333333333333,
              "#9c179e"
             ],
             [
              0.4444444444444444,
              "#bd3786"
             ],
             [
              0.5555555555555556,
              "#d8576b"
             ],
             [
              0.6666666666666666,
              "#ed7953"
             ],
             [
              0.7777777777777778,
              "#fb9f3a"
             ],
             [
              0.8888888888888888,
              "#fdca26"
             ],
             [
              1,
              "#f0f921"
             ]
            ],
            "type": "heatmap"
           }
          ],
          "heatmapgl": [
           {
            "colorbar": {
             "outlinewidth": 0,
             "ticks": ""
            },
            "colorscale": [
             [
              0,
              "#0d0887"
             ],
             [
              0.1111111111111111,
              "#46039f"
             ],
             [
              0.2222222222222222,
              "#7201a8"
             ],
             [
              0.3333333333333333,
              "#9c179e"
             ],
             [
              0.4444444444444444,
              "#bd3786"
             ],
             [
              0.5555555555555556,
              "#d8576b"
             ],
             [
              0.6666666666666666,
              "#ed7953"
             ],
             [
              0.7777777777777778,
              "#fb9f3a"
             ],
             [
              0.8888888888888888,
              "#fdca26"
             ],
             [
              1,
              "#f0f921"
             ]
            ],
            "type": "heatmapgl"
           }
          ],
          "histogram": [
           {
            "marker": {
             "pattern": {
              "fillmode": "overlay",
              "size": 10,
              "solidity": 0.2
             }
            },
            "type": "histogram"
           }
          ],
          "histogram2d": [
           {
            "colorbar": {
             "outlinewidth": 0,
             "ticks": ""
            },
            "colorscale": [
             [
              0,
              "#0d0887"
             ],
             [
              0.1111111111111111,
              "#46039f"
             ],
             [
              0.2222222222222222,
              "#7201a8"
             ],
             [
              0.3333333333333333,
              "#9c179e"
             ],
             [
              0.4444444444444444,
              "#bd3786"
             ],
             [
              0.5555555555555556,
              "#d8576b"
             ],
             [
              0.6666666666666666,
              "#ed7953"
             ],
             [
              0.7777777777777778,
              "#fb9f3a"
             ],
             [
              0.8888888888888888,
              "#fdca26"
             ],
             [
              1,
              "#f0f921"
             ]
            ],
            "type": "histogram2d"
           }
          ],
          "histogram2dcontour": [
           {
            "colorbar": {
             "outlinewidth": 0,
             "ticks": ""
            },
            "colorscale": [
             [
              0,
              "#0d0887"
             ],
             [
              0.1111111111111111,
              "#46039f"
             ],
             [
              0.2222222222222222,
              "#7201a8"
             ],
             [
              0.3333333333333333,
              "#9c179e"
             ],
             [
              0.4444444444444444,
              "#bd3786"
             ],
             [
              0.5555555555555556,
              "#d8576b"
             ],
             [
              0.6666666666666666,
              "#ed7953"
             ],
             [
              0.7777777777777778,
              "#fb9f3a"
             ],
             [
              0.8888888888888888,
              "#fdca26"
             ],
             [
              1,
              "#f0f921"
             ]
            ],
            "type": "histogram2dcontour"
           }
          ],
          "mesh3d": [
           {
            "colorbar": {
             "outlinewidth": 0,
             "ticks": ""
            },
            "type": "mesh3d"
           }
          ],
          "parcoords": [
           {
            "line": {
             "colorbar": {
              "outlinewidth": 0,
              "ticks": ""
             }
            },
            "type": "parcoords"
           }
          ],
          "pie": [
           {
            "automargin": true,
            "type": "pie"
           }
          ],
          "scatter": [
           {
            "fillpattern": {
             "fillmode": "overlay",
             "size": 10,
             "solidity": 0.2
            },
            "type": "scatter"
           }
          ],
          "scatter3d": [
           {
            "line": {
             "colorbar": {
              "outlinewidth": 0,
              "ticks": ""
             }
            },
            "marker": {
             "colorbar": {
              "outlinewidth": 0,
              "ticks": ""
             }
            },
            "type": "scatter3d"
           }
          ],
          "scattercarpet": [
           {
            "marker": {
             "colorbar": {
              "outlinewidth": 0,
              "ticks": ""
             }
            },
            "type": "scattercarpet"
           }
          ],
          "scattergeo": [
           {
            "marker": {
             "colorbar": {
              "outlinewidth": 0,
              "ticks": ""
             }
            },
            "type": "scattergeo"
           }
          ],
          "scattergl": [
           {
            "marker": {
             "colorbar": {
              "outlinewidth": 0,
              "ticks": ""
             }
            },
            "type": "scattergl"
           }
          ],
          "scattermapbox": [
           {
            "marker": {
             "colorbar": {
              "outlinewidth": 0,
              "ticks": ""
             }
            },
            "type": "scattermapbox"
           }
          ],
          "scatterpolar": [
           {
            "marker": {
             "colorbar": {
              "outlinewidth": 0,
              "ticks": ""
             }
            },
            "type": "scatterpolar"
           }
          ],
          "scatterpolargl": [
           {
            "marker": {
             "colorbar": {
              "outlinewidth": 0,
              "ticks": ""
             }
            },
            "type": "scatterpolargl"
           }
          ],
          "scatterternary": [
           {
            "marker": {
             "colorbar": {
              "outlinewidth": 0,
              "ticks": ""
             }
            },
            "type": "scatterternary"
           }
          ],
          "surface": [
           {
            "colorbar": {
             "outlinewidth": 0,
             "ticks": ""
            },
            "colorscale": [
             [
              0,
              "#0d0887"
             ],
             [
              0.1111111111111111,
              "#46039f"
             ],
             [
              0.2222222222222222,
              "#7201a8"
             ],
             [
              0.3333333333333333,
              "#9c179e"
             ],
             [
              0.4444444444444444,
              "#bd3786"
             ],
             [
              0.5555555555555556,
              "#d8576b"
             ],
             [
              0.6666666666666666,
              "#ed7953"
             ],
             [
              0.7777777777777778,
              "#fb9f3a"
             ],
             [
              0.8888888888888888,
              "#fdca26"
             ],
             [
              1,
              "#f0f921"
             ]
            ],
            "type": "surface"
           }
          ],
          "table": [
           {
            "cells": {
             "fill": {
              "color": "#EBF0F8"
             },
             "line": {
              "color": "white"
             }
            },
            "header": {
             "fill": {
              "color": "#C8D4E3"
             },
             "line": {
              "color": "white"
             }
            },
            "type": "table"
           }
          ]
         },
         "layout": {
          "annotationdefaults": {
           "arrowcolor": "#2a3f5f",
           "arrowhead": 0,
           "arrowwidth": 1
          },
          "autotypenumbers": "strict",
          "coloraxis": {
           "colorbar": {
            "outlinewidth": 0,
            "ticks": ""
           }
          },
          "colorscale": {
           "diverging": [
            [
             0,
             "#8e0152"
            ],
            [
             0.1,
             "#c51b7d"
            ],
            [
             0.2,
             "#de77ae"
            ],
            [
             0.3,
             "#f1b6da"
            ],
            [
             0.4,
             "#fde0ef"
            ],
            [
             0.5,
             "#f7f7f7"
            ],
            [
             0.6,
             "#e6f5d0"
            ],
            [
             0.7,
             "#b8e186"
            ],
            [
             0.8,
             "#7fbc41"
            ],
            [
             0.9,
             "#4d9221"
            ],
            [
             1,
             "#276419"
            ]
           ],
           "sequential": [
            [
             0,
             "#0d0887"
            ],
            [
             0.1111111111111111,
             "#46039f"
            ],
            [
             0.2222222222222222,
             "#7201a8"
            ],
            [
             0.3333333333333333,
             "#9c179e"
            ],
            [
             0.4444444444444444,
             "#bd3786"
            ],
            [
             0.5555555555555556,
             "#d8576b"
            ],
            [
             0.6666666666666666,
             "#ed7953"
            ],
            [
             0.7777777777777778,
             "#fb9f3a"
            ],
            [
             0.8888888888888888,
             "#fdca26"
            ],
            [
             1,
             "#f0f921"
            ]
           ],
           "sequentialminus": [
            [
             0,
             "#0d0887"
            ],
            [
             0.1111111111111111,
             "#46039f"
            ],
            [
             0.2222222222222222,
             "#7201a8"
            ],
            [
             0.3333333333333333,
             "#9c179e"
            ],
            [
             0.4444444444444444,
             "#bd3786"
            ],
            [
             0.5555555555555556,
             "#d8576b"
            ],
            [
             0.6666666666666666,
             "#ed7953"
            ],
            [
             0.7777777777777778,
             "#fb9f3a"
            ],
            [
             0.8888888888888888,
             "#fdca26"
            ],
            [
             1,
             "#f0f921"
            ]
           ]
          },
          "colorway": [
           "#636efa",
           "#EF553B",
           "#00cc96",
           "#ab63fa",
           "#FFA15A",
           "#19d3f3",
           "#FF6692",
           "#B6E880",
           "#FF97FF",
           "#FECB52"
          ],
          "font": {
           "color": "#2a3f5f"
          },
          "geo": {
           "bgcolor": "white",
           "lakecolor": "white",
           "landcolor": "#E5ECF6",
           "showlakes": true,
           "showland": true,
           "subunitcolor": "white"
          },
          "hoverlabel": {
           "align": "left"
          },
          "hovermode": "closest",
          "mapbox": {
           "style": "light"
          },
          "paper_bgcolor": "white",
          "plot_bgcolor": "#E5ECF6",
          "polar": {
           "angularaxis": {
            "gridcolor": "white",
            "linecolor": "white",
            "ticks": ""
           },
           "bgcolor": "#E5ECF6",
           "radialaxis": {
            "gridcolor": "white",
            "linecolor": "white",
            "ticks": ""
           }
          },
          "scene": {
           "xaxis": {
            "backgroundcolor": "#E5ECF6",
            "gridcolor": "white",
            "gridwidth": 2,
            "linecolor": "white",
            "showbackground": true,
            "ticks": "",
            "zerolinecolor": "white"
           },
           "yaxis": {
            "backgroundcolor": "#E5ECF6",
            "gridcolor": "white",
            "gridwidth": 2,
            "linecolor": "white",
            "showbackground": true,
            "ticks": "",
            "zerolinecolor": "white"
           },
           "zaxis": {
            "backgroundcolor": "#E5ECF6",
            "gridcolor": "white",
            "gridwidth": 2,
            "linecolor": "white",
            "showbackground": true,
            "ticks": "",
            "zerolinecolor": "white"
           }
          },
          "shapedefaults": {
           "line": {
            "color": "#2a3f5f"
           }
          },
          "ternary": {
           "aaxis": {
            "gridcolor": "white",
            "linecolor": "white",
            "ticks": ""
           },
           "baxis": {
            "gridcolor": "white",
            "linecolor": "white",
            "ticks": ""
           },
           "bgcolor": "#E5ECF6",
           "caxis": {
            "gridcolor": "white",
            "linecolor": "white",
            "ticks": ""
           }
          },
          "title": {
           "x": 0.05
          },
          "xaxis": {
           "automargin": true,
           "gridcolor": "white",
           "linecolor": "white",
           "ticks": "",
           "title": {
            "standoff": 15
           },
           "zerolinecolor": "white",
           "zerolinewidth": 2
          },
          "yaxis": {
           "automargin": true,
           "gridcolor": "white",
           "linecolor": "white",
           "ticks": "",
           "title": {
            "standoff": 15
           },
           "zerolinecolor": "white",
           "zerolinewidth": 2
          }
         }
        },
        "title": {
         "text": "Evolution of activations OUT for soggetto_8"
        },
        "xaxis": {
         "anchor": "y",
         "domain": [
          0,
          1
         ],
         "title": {
          "text": "index"
         }
        },
        "yaxis": {
         "anchor": "x",
         "domain": [
          0,
          1
         ],
         "title": {
          "text": "value"
         }
        }
       }
      }
     },
     "metadata": {},
     "output_type": "display_data"
    }
   ],
   "source": [
    "# plot lineplots with plotly express for each subject\n",
    "for subject in subjects:\n",
    "    fig = px.line(df_evolve_dict[subject].iloc[0:10], title=\"Evolution of activations for {}\".format(subject))\n",
    "    fig.show()"
   ]
  }
 ],
 "metadata": {
  "kernelspec": {
   "display_name": "env",
   "language": "python",
   "name": "python3"
  },
  "language_info": {
   "codemirror_mode": {
    "name": "ipython",
    "version": 3
   },
   "file_extension": ".py",
   "mimetype": "text/x-python",
   "name": "python",
   "nbconvert_exporter": "python",
   "pygments_lexer": "ipython3",
   "version": "3.10.6"
  },
  "orig_nbformat": 4,
  "vscode": {
   "interpreter": {
    "hash": "8cf3148ee2412bf818af45c9d8f3260092e813536e8161d4ddb61a7fba27a160"
   }
  }
 },
 "nbformat": 4,
 "nbformat_minor": 2
}
