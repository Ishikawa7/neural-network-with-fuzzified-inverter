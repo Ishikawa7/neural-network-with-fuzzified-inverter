{
 "cells": [
  {
   "cell_type": "code",
   "execution_count": 9,
   "metadata": {},
   "outputs": [],
   "source": [
    "import numpy as np\n",
    "import pandas as pd\n",
    "\n",
    "import plotly.express as px"
   ]
  },
  {
   "cell_type": "code",
   "execution_count": 10,
   "metadata": {},
   "outputs": [],
   "source": [
    "subjects = [\"soggetto_1\",\"soggetto_2\",\"soggetto_3\",\"soggetto_6\",\"soggetto_7\",\"soggetto_8\"]"
   ]
  },
  {
   "cell_type": "code",
   "execution_count": 11,
   "metadata": {},
   "outputs": [],
   "source": [
    "df_weights_dict = {}\n",
    "for subject in subjects:\n",
    "    df_weights_dict[subject] = pd.read_csv(\"Datasets/{}_weights_o.csv\".format(subject))\n",
    "    df_weights_dict[subject].columns = [\"TrRi\",\"RiTr\",\"Plu\",\"Ttra\",\"Ttrb\",\"Tr\",\"MeTr\",\"MoTr\",\"RiRi\",\"MoFo\",\"Mmof\",\"MoRi\",\"MeRi\",\"Ri\",\"Comp\"]\n",
    "    df_weights_dict[subject].index = df_weights_dict[subject].columns"
   ]
  },
  {
   "cell_type": "code",
   "execution_count": 12,
   "metadata": {},
   "outputs": [],
   "source": [
    "df_free_evolution_dict = {}\n",
    "for subject in subjects:\n",
    "    np_matrix_initial = df_weights_dict[subject].to_numpy()\n",
    "    np_matrix = np_matrix_initial\n",
    "    df_free_evolution_dict[subject] = pd.DataFrame(index = [\"TrRi\",\"RiTr\",\"Plu\",\"Ttra\",\"Ttrb\",\"Tr\",\"MeTr\",\"MoTr\",\"RiRi\",\"MoFo\",\"Mmof\",\"MoRi\",\"MeRi\",\"Ri\",\"Comp\"])\n",
    "    for i in range(0,20):\n",
    "        np_matrix = np.matmul(np_matrix, np_matrix_initial)\n",
    "        sum_np = np.sum(np_matrix, axis=1)\n",
    "        df_free_evolution_dict[subject][\"Epoch \"+ str(i)] = pd.Series(sum_np)\n",
    "        np_matrix = np.divide(np_matrix, sum_np) # divide() is division by row\n",
    "\n",
    "    df_free_evolution_dict[subject] = df_free_evolution_dict[subject].T"
   ]
  },
  {
   "cell_type": "code",
   "execution_count": 16,
   "metadata": {},
   "outputs": [
    {
     "data": {
      "text/plain": [
       "array([[0.1, 0.2, 0.3],\n",
       "       [0.4, 0.5, 0.6],\n",
       "       [0.7, 0.8, 0.9]])"
      ]
     },
     "execution_count": 16,
     "metadata": {},
     "output_type": "execute_result"
    }
   ],
   "source": [
    "# create test np matrix 3x3\n",
    "np_matrix_test = np.array([[0.1,0.2,0.3],[0.4,0.5,0.6],[0.7,0.8,0.9]])\n",
    "np_matrix_test"
   ]
  },
  {
   "cell_type": "code",
   "execution_count": 17,
   "metadata": {},
   "outputs": [
    {
     "data": {
      "text/plain": [
       "array([0.6, 1.5, 2.4])"
      ]
     },
     "execution_count": 17,
     "metadata": {},
     "output_type": "execute_result"
    }
   ],
   "source": [
    "# sum over rows\n",
    "sum_np_test = np.sum(np_matrix_test, axis=1)\n",
    "sum_np_test"
   ]
  },
  {
   "cell_type": "code",
   "execution_count": 19,
   "metadata": {},
   "outputs": [
    {
     "data": {
      "text/plain": [
       "array([[0.16666667, 0.13333333, 0.125     ],\n",
       "       [0.66666667, 0.33333333, 0.25      ],\n",
       "       [1.16666667, 0.53333333, 0.375     ]])"
      ]
     },
     "execution_count": 19,
     "metadata": {},
     "output_type": "execute_result"
    }
   ],
   "source": [
    "# divide each row by the sum of the row\n",
    "np_matrix_test = np.divide(np_matrix_test, sum_np_test)\n",
    "np_matrix_test"
   ]
  },
  {
   "cell_type": "code",
   "execution_count": 13,
   "metadata": {},
   "outputs": [
    {
     "data": {
      "application/vnd.plotly.v1+json": {
       "config": {
        "plotlyServerURL": "https://plot.ly"
       },
       "data": [
        {
         "hovertemplate": "variable=TrRi<br>index=%{x}<br>value=%{y}<extra></extra>",
         "legendgroup": "TrRi",
         "line": {
          "color": "#636efa",
          "dash": "solid"
         },
         "marker": {
          "symbol": "circle"
         },
         "mode": "lines",
         "name": "TrRi",
         "orientation": "v",
         "showlegend": true,
         "type": "scatter",
         "x": [
          "Epoch 0",
          "Epoch 1",
          "Epoch 2",
          "Epoch 3",
          "Epoch 4",
          "Epoch 5",
          "Epoch 6",
          "Epoch 7",
          "Epoch 8",
          "Epoch 9",
          "Epoch 10",
          "Epoch 11",
          "Epoch 12",
          "Epoch 13",
          "Epoch 14",
          "Epoch 15",
          "Epoch 16",
          "Epoch 17",
          "Epoch 18",
          "Epoch 19"
         ],
         "xaxis": "x",
         "y": [
          null,
          null,
          null,
          null,
          null,
          null,
          null,
          null,
          null,
          null,
          null,
          null,
          null,
          null,
          null,
          null,
          null,
          null,
          null,
          null
         ],
         "yaxis": "y"
        },
        {
         "hovertemplate": "variable=RiTr<br>index=%{x}<br>value=%{y}<extra></extra>",
         "legendgroup": "RiTr",
         "line": {
          "color": "#EF553B",
          "dash": "solid"
         },
         "marker": {
          "symbol": "circle"
         },
         "mode": "lines",
         "name": "RiTr",
         "orientation": "v",
         "showlegend": true,
         "type": "scatter",
         "x": [
          "Epoch 0",
          "Epoch 1",
          "Epoch 2",
          "Epoch 3",
          "Epoch 4",
          "Epoch 5",
          "Epoch 6",
          "Epoch 7",
          "Epoch 8",
          "Epoch 9",
          "Epoch 10",
          "Epoch 11",
          "Epoch 12",
          "Epoch 13",
          "Epoch 14",
          "Epoch 15",
          "Epoch 16",
          "Epoch 17",
          "Epoch 18",
          "Epoch 19"
         ],
         "xaxis": "x",
         "y": [
          null,
          null,
          null,
          null,
          null,
          null,
          null,
          null,
          null,
          null,
          null,
          null,
          null,
          null,
          null,
          null,
          null,
          null,
          null,
          null
         ],
         "yaxis": "y"
        },
        {
         "hovertemplate": "variable=Plu<br>index=%{x}<br>value=%{y}<extra></extra>",
         "legendgroup": "Plu",
         "line": {
          "color": "#00cc96",
          "dash": "solid"
         },
         "marker": {
          "symbol": "circle"
         },
         "mode": "lines",
         "name": "Plu",
         "orientation": "v",
         "showlegend": true,
         "type": "scatter",
         "x": [
          "Epoch 0",
          "Epoch 1",
          "Epoch 2",
          "Epoch 3",
          "Epoch 4",
          "Epoch 5",
          "Epoch 6",
          "Epoch 7",
          "Epoch 8",
          "Epoch 9",
          "Epoch 10",
          "Epoch 11",
          "Epoch 12",
          "Epoch 13",
          "Epoch 14",
          "Epoch 15",
          "Epoch 16",
          "Epoch 17",
          "Epoch 18",
          "Epoch 19"
         ],
         "xaxis": "x",
         "y": [
          null,
          null,
          null,
          null,
          null,
          null,
          null,
          null,
          null,
          null,
          null,
          null,
          null,
          null,
          null,
          null,
          null,
          null,
          null,
          null
         ],
         "yaxis": "y"
        },
        {
         "hovertemplate": "variable=Ttra<br>index=%{x}<br>value=%{y}<extra></extra>",
         "legendgroup": "Ttra",
         "line": {
          "color": "#ab63fa",
          "dash": "solid"
         },
         "marker": {
          "symbol": "circle"
         },
         "mode": "lines",
         "name": "Ttra",
         "orientation": "v",
         "showlegend": true,
         "type": "scatter",
         "x": [
          "Epoch 0",
          "Epoch 1",
          "Epoch 2",
          "Epoch 3",
          "Epoch 4",
          "Epoch 5",
          "Epoch 6",
          "Epoch 7",
          "Epoch 8",
          "Epoch 9",
          "Epoch 10",
          "Epoch 11",
          "Epoch 12",
          "Epoch 13",
          "Epoch 14",
          "Epoch 15",
          "Epoch 16",
          "Epoch 17",
          "Epoch 18",
          "Epoch 19"
         ],
         "xaxis": "x",
         "y": [
          null,
          null,
          null,
          null,
          null,
          null,
          null,
          null,
          null,
          null,
          null,
          null,
          null,
          null,
          null,
          null,
          null,
          null,
          null,
          null
         ],
         "yaxis": "y"
        },
        {
         "hovertemplate": "variable=Ttrb<br>index=%{x}<br>value=%{y}<extra></extra>",
         "legendgroup": "Ttrb",
         "line": {
          "color": "#FFA15A",
          "dash": "solid"
         },
         "marker": {
          "symbol": "circle"
         },
         "mode": "lines",
         "name": "Ttrb",
         "orientation": "v",
         "showlegend": true,
         "type": "scatter",
         "x": [
          "Epoch 0",
          "Epoch 1",
          "Epoch 2",
          "Epoch 3",
          "Epoch 4",
          "Epoch 5",
          "Epoch 6",
          "Epoch 7",
          "Epoch 8",
          "Epoch 9",
          "Epoch 10",
          "Epoch 11",
          "Epoch 12",
          "Epoch 13",
          "Epoch 14",
          "Epoch 15",
          "Epoch 16",
          "Epoch 17",
          "Epoch 18",
          "Epoch 19"
         ],
         "xaxis": "x",
         "y": [
          null,
          null,
          null,
          null,
          null,
          null,
          null,
          null,
          null,
          null,
          null,
          null,
          null,
          null,
          null,
          null,
          null,
          null,
          null,
          null
         ],
         "yaxis": "y"
        },
        {
         "hovertemplate": "variable=Tr<br>index=%{x}<br>value=%{y}<extra></extra>",
         "legendgroup": "Tr",
         "line": {
          "color": "#19d3f3",
          "dash": "solid"
         },
         "marker": {
          "symbol": "circle"
         },
         "mode": "lines",
         "name": "Tr",
         "orientation": "v",
         "showlegend": true,
         "type": "scatter",
         "x": [
          "Epoch 0",
          "Epoch 1",
          "Epoch 2",
          "Epoch 3",
          "Epoch 4",
          "Epoch 5",
          "Epoch 6",
          "Epoch 7",
          "Epoch 8",
          "Epoch 9",
          "Epoch 10",
          "Epoch 11",
          "Epoch 12",
          "Epoch 13",
          "Epoch 14",
          "Epoch 15",
          "Epoch 16",
          "Epoch 17",
          "Epoch 18",
          "Epoch 19"
         ],
         "xaxis": "x",
         "y": [
          null,
          null,
          null,
          null,
          null,
          null,
          null,
          null,
          null,
          null,
          null,
          null,
          null,
          null,
          null,
          null,
          null,
          null,
          null,
          null
         ],
         "yaxis": "y"
        },
        {
         "hovertemplate": "variable=MeTr<br>index=%{x}<br>value=%{y}<extra></extra>",
         "legendgroup": "MeTr",
         "line": {
          "color": "#FF6692",
          "dash": "solid"
         },
         "marker": {
          "symbol": "circle"
         },
         "mode": "lines",
         "name": "MeTr",
         "orientation": "v",
         "showlegend": true,
         "type": "scatter",
         "x": [
          "Epoch 0",
          "Epoch 1",
          "Epoch 2",
          "Epoch 3",
          "Epoch 4",
          "Epoch 5",
          "Epoch 6",
          "Epoch 7",
          "Epoch 8",
          "Epoch 9",
          "Epoch 10",
          "Epoch 11",
          "Epoch 12",
          "Epoch 13",
          "Epoch 14",
          "Epoch 15",
          "Epoch 16",
          "Epoch 17",
          "Epoch 18",
          "Epoch 19"
         ],
         "xaxis": "x",
         "y": [
          null,
          null,
          null,
          null,
          null,
          null,
          null,
          null,
          null,
          null,
          null,
          null,
          null,
          null,
          null,
          null,
          null,
          null,
          null,
          null
         ],
         "yaxis": "y"
        },
        {
         "hovertemplate": "variable=MoTr<br>index=%{x}<br>value=%{y}<extra></extra>",
         "legendgroup": "MoTr",
         "line": {
          "color": "#B6E880",
          "dash": "solid"
         },
         "marker": {
          "symbol": "circle"
         },
         "mode": "lines",
         "name": "MoTr",
         "orientation": "v",
         "showlegend": true,
         "type": "scatter",
         "x": [
          "Epoch 0",
          "Epoch 1",
          "Epoch 2",
          "Epoch 3",
          "Epoch 4",
          "Epoch 5",
          "Epoch 6",
          "Epoch 7",
          "Epoch 8",
          "Epoch 9",
          "Epoch 10",
          "Epoch 11",
          "Epoch 12",
          "Epoch 13",
          "Epoch 14",
          "Epoch 15",
          "Epoch 16",
          "Epoch 17",
          "Epoch 18",
          "Epoch 19"
         ],
         "xaxis": "x",
         "y": [
          null,
          null,
          null,
          null,
          null,
          null,
          null,
          null,
          null,
          null,
          null,
          null,
          null,
          null,
          null,
          null,
          null,
          null,
          null,
          null
         ],
         "yaxis": "y"
        },
        {
         "hovertemplate": "variable=RiRi<br>index=%{x}<br>value=%{y}<extra></extra>",
         "legendgroup": "RiRi",
         "line": {
          "color": "#FF97FF",
          "dash": "solid"
         },
         "marker": {
          "symbol": "circle"
         },
         "mode": "lines",
         "name": "RiRi",
         "orientation": "v",
         "showlegend": true,
         "type": "scatter",
         "x": [
          "Epoch 0",
          "Epoch 1",
          "Epoch 2",
          "Epoch 3",
          "Epoch 4",
          "Epoch 5",
          "Epoch 6",
          "Epoch 7",
          "Epoch 8",
          "Epoch 9",
          "Epoch 10",
          "Epoch 11",
          "Epoch 12",
          "Epoch 13",
          "Epoch 14",
          "Epoch 15",
          "Epoch 16",
          "Epoch 17",
          "Epoch 18",
          "Epoch 19"
         ],
         "xaxis": "x",
         "y": [
          null,
          null,
          null,
          null,
          null,
          null,
          null,
          null,
          null,
          null,
          null,
          null,
          null,
          null,
          null,
          null,
          null,
          null,
          null,
          null
         ],
         "yaxis": "y"
        },
        {
         "hovertemplate": "variable=MoFo<br>index=%{x}<br>value=%{y}<extra></extra>",
         "legendgroup": "MoFo",
         "line": {
          "color": "#FECB52",
          "dash": "solid"
         },
         "marker": {
          "symbol": "circle"
         },
         "mode": "lines",
         "name": "MoFo",
         "orientation": "v",
         "showlegend": true,
         "type": "scatter",
         "x": [
          "Epoch 0",
          "Epoch 1",
          "Epoch 2",
          "Epoch 3",
          "Epoch 4",
          "Epoch 5",
          "Epoch 6",
          "Epoch 7",
          "Epoch 8",
          "Epoch 9",
          "Epoch 10",
          "Epoch 11",
          "Epoch 12",
          "Epoch 13",
          "Epoch 14",
          "Epoch 15",
          "Epoch 16",
          "Epoch 17",
          "Epoch 18",
          "Epoch 19"
         ],
         "xaxis": "x",
         "y": [
          null,
          null,
          null,
          null,
          null,
          null,
          null,
          null,
          null,
          null,
          null,
          null,
          null,
          null,
          null,
          null,
          null,
          null,
          null,
          null
         ],
         "yaxis": "y"
        },
        {
         "hovertemplate": "variable=Mmof<br>index=%{x}<br>value=%{y}<extra></extra>",
         "legendgroup": "Mmof",
         "line": {
          "color": "#636efa",
          "dash": "solid"
         },
         "marker": {
          "symbol": "circle"
         },
         "mode": "lines",
         "name": "Mmof",
         "orientation": "v",
         "showlegend": true,
         "type": "scatter",
         "x": [
          "Epoch 0",
          "Epoch 1",
          "Epoch 2",
          "Epoch 3",
          "Epoch 4",
          "Epoch 5",
          "Epoch 6",
          "Epoch 7",
          "Epoch 8",
          "Epoch 9",
          "Epoch 10",
          "Epoch 11",
          "Epoch 12",
          "Epoch 13",
          "Epoch 14",
          "Epoch 15",
          "Epoch 16",
          "Epoch 17",
          "Epoch 18",
          "Epoch 19"
         ],
         "xaxis": "x",
         "y": [
          null,
          null,
          null,
          null,
          null,
          null,
          null,
          null,
          null,
          null,
          null,
          null,
          null,
          null,
          null,
          null,
          null,
          null,
          null,
          null
         ],
         "yaxis": "y"
        },
        {
         "hovertemplate": "variable=MoRi<br>index=%{x}<br>value=%{y}<extra></extra>",
         "legendgroup": "MoRi",
         "line": {
          "color": "#EF553B",
          "dash": "solid"
         },
         "marker": {
          "symbol": "circle"
         },
         "mode": "lines",
         "name": "MoRi",
         "orientation": "v",
         "showlegend": true,
         "type": "scatter",
         "x": [
          "Epoch 0",
          "Epoch 1",
          "Epoch 2",
          "Epoch 3",
          "Epoch 4",
          "Epoch 5",
          "Epoch 6",
          "Epoch 7",
          "Epoch 8",
          "Epoch 9",
          "Epoch 10",
          "Epoch 11",
          "Epoch 12",
          "Epoch 13",
          "Epoch 14",
          "Epoch 15",
          "Epoch 16",
          "Epoch 17",
          "Epoch 18",
          "Epoch 19"
         ],
         "xaxis": "x",
         "y": [
          null,
          null,
          null,
          null,
          null,
          null,
          null,
          null,
          null,
          null,
          null,
          null,
          null,
          null,
          null,
          null,
          null,
          null,
          null,
          null
         ],
         "yaxis": "y"
        },
        {
         "hovertemplate": "variable=MeRi<br>index=%{x}<br>value=%{y}<extra></extra>",
         "legendgroup": "MeRi",
         "line": {
          "color": "#00cc96",
          "dash": "solid"
         },
         "marker": {
          "symbol": "circle"
         },
         "mode": "lines",
         "name": "MeRi",
         "orientation": "v",
         "showlegend": true,
         "type": "scatter",
         "x": [
          "Epoch 0",
          "Epoch 1",
          "Epoch 2",
          "Epoch 3",
          "Epoch 4",
          "Epoch 5",
          "Epoch 6",
          "Epoch 7",
          "Epoch 8",
          "Epoch 9",
          "Epoch 10",
          "Epoch 11",
          "Epoch 12",
          "Epoch 13",
          "Epoch 14",
          "Epoch 15",
          "Epoch 16",
          "Epoch 17",
          "Epoch 18",
          "Epoch 19"
         ],
         "xaxis": "x",
         "y": [
          null,
          null,
          null,
          null,
          null,
          null,
          null,
          null,
          null,
          null,
          null,
          null,
          null,
          null,
          null,
          null,
          null,
          null,
          null,
          null
         ],
         "yaxis": "y"
        },
        {
         "hovertemplate": "variable=Ri<br>index=%{x}<br>value=%{y}<extra></extra>",
         "legendgroup": "Ri",
         "line": {
          "color": "#ab63fa",
          "dash": "solid"
         },
         "marker": {
          "symbol": "circle"
         },
         "mode": "lines",
         "name": "Ri",
         "orientation": "v",
         "showlegend": true,
         "type": "scatter",
         "x": [
          "Epoch 0",
          "Epoch 1",
          "Epoch 2",
          "Epoch 3",
          "Epoch 4",
          "Epoch 5",
          "Epoch 6",
          "Epoch 7",
          "Epoch 8",
          "Epoch 9",
          "Epoch 10",
          "Epoch 11",
          "Epoch 12",
          "Epoch 13",
          "Epoch 14",
          "Epoch 15",
          "Epoch 16",
          "Epoch 17",
          "Epoch 18",
          "Epoch 19"
         ],
         "xaxis": "x",
         "y": [
          null,
          null,
          null,
          null,
          null,
          null,
          null,
          null,
          null,
          null,
          null,
          null,
          null,
          null,
          null,
          null,
          null,
          null,
          null,
          null
         ],
         "yaxis": "y"
        },
        {
         "hovertemplate": "variable=Comp<br>index=%{x}<br>value=%{y}<extra></extra>",
         "legendgroup": "Comp",
         "line": {
          "color": "#FFA15A",
          "dash": "solid"
         },
         "marker": {
          "symbol": "circle"
         },
         "mode": "lines",
         "name": "Comp",
         "orientation": "v",
         "showlegend": true,
         "type": "scatter",
         "x": [
          "Epoch 0",
          "Epoch 1",
          "Epoch 2",
          "Epoch 3",
          "Epoch 4",
          "Epoch 5",
          "Epoch 6",
          "Epoch 7",
          "Epoch 8",
          "Epoch 9",
          "Epoch 10",
          "Epoch 11",
          "Epoch 12",
          "Epoch 13",
          "Epoch 14",
          "Epoch 15",
          "Epoch 16",
          "Epoch 17",
          "Epoch 18",
          "Epoch 19"
         ],
         "xaxis": "x",
         "y": [
          null,
          null,
          null,
          null,
          null,
          null,
          null,
          null,
          null,
          null,
          null,
          null,
          null,
          null,
          null,
          null,
          null,
          null,
          null,
          null
         ],
         "yaxis": "y"
        }
       ],
       "layout": {
        "legend": {
         "title": {
          "text": "variable"
         },
         "tracegroupgap": 0
        },
        "template": {
         "data": {
          "bar": [
           {
            "error_x": {
             "color": "#2a3f5f"
            },
            "error_y": {
             "color": "#2a3f5f"
            },
            "marker": {
             "line": {
              "color": "#E5ECF6",
              "width": 0.5
             },
             "pattern": {
              "fillmode": "overlay",
              "size": 10,
              "solidity": 0.2
             }
            },
            "type": "bar"
           }
          ],
          "barpolar": [
           {
            "marker": {
             "line": {
              "color": "#E5ECF6",
              "width": 0.5
             },
             "pattern": {
              "fillmode": "overlay",
              "size": 10,
              "solidity": 0.2
             }
            },
            "type": "barpolar"
           }
          ],
          "carpet": [
           {
            "aaxis": {
             "endlinecolor": "#2a3f5f",
             "gridcolor": "white",
             "linecolor": "white",
             "minorgridcolor": "white",
             "startlinecolor": "#2a3f5f"
            },
            "baxis": {
             "endlinecolor": "#2a3f5f",
             "gridcolor": "white",
             "linecolor": "white",
             "minorgridcolor": "white",
             "startlinecolor": "#2a3f5f"
            },
            "type": "carpet"
           }
          ],
          "choropleth": [
           {
            "colorbar": {
             "outlinewidth": 0,
             "ticks": ""
            },
            "type": "choropleth"
           }
          ],
          "contour": [
           {
            "colorbar": {
             "outlinewidth": 0,
             "ticks": ""
            },
            "colorscale": [
             [
              0,
              "#0d0887"
             ],
             [
              0.1111111111111111,
              "#46039f"
             ],
             [
              0.2222222222222222,
              "#7201a8"
             ],
             [
              0.3333333333333333,
              "#9c179e"
             ],
             [
              0.4444444444444444,
              "#bd3786"
             ],
             [
              0.5555555555555556,
              "#d8576b"
             ],
             [
              0.6666666666666666,
              "#ed7953"
             ],
             [
              0.7777777777777778,
              "#fb9f3a"
             ],
             [
              0.8888888888888888,
              "#fdca26"
             ],
             [
              1,
              "#f0f921"
             ]
            ],
            "type": "contour"
           }
          ],
          "contourcarpet": [
           {
            "colorbar": {
             "outlinewidth": 0,
             "ticks": ""
            },
            "type": "contourcarpet"
           }
          ],
          "heatmap": [
           {
            "colorbar": {
             "outlinewidth": 0,
             "ticks": ""
            },
            "colorscale": [
             [
              0,
              "#0d0887"
             ],
             [
              0.1111111111111111,
              "#46039f"
             ],
             [
              0.2222222222222222,
              "#7201a8"
             ],
             [
              0.3333333333333333,
              "#9c179e"
             ],
             [
              0.4444444444444444,
              "#bd3786"
             ],
             [
              0.5555555555555556,
              "#d8576b"
             ],
             [
              0.6666666666666666,
              "#ed7953"
             ],
             [
              0.7777777777777778,
              "#fb9f3a"
             ],
             [
              0.8888888888888888,
              "#fdca26"
             ],
             [
              1,
              "#f0f921"
             ]
            ],
            "type": "heatmap"
           }
          ],
          "heatmapgl": [
           {
            "colorbar": {
             "outlinewidth": 0,
             "ticks": ""
            },
            "colorscale": [
             [
              0,
              "#0d0887"
             ],
             [
              0.1111111111111111,
              "#46039f"
             ],
             [
              0.2222222222222222,
              "#7201a8"
             ],
             [
              0.3333333333333333,
              "#9c179e"
             ],
             [
              0.4444444444444444,
              "#bd3786"
             ],
             [
              0.5555555555555556,
              "#d8576b"
             ],
             [
              0.6666666666666666,
              "#ed7953"
             ],
             [
              0.7777777777777778,
              "#fb9f3a"
             ],
             [
              0.8888888888888888,
              "#fdca26"
             ],
             [
              1,
              "#f0f921"
             ]
            ],
            "type": "heatmapgl"
           }
          ],
          "histogram": [
           {
            "marker": {
             "pattern": {
              "fillmode": "overlay",
              "size": 10,
              "solidity": 0.2
             }
            },
            "type": "histogram"
           }
          ],
          "histogram2d": [
           {
            "colorbar": {
             "outlinewidth": 0,
             "ticks": ""
            },
            "colorscale": [
             [
              0,
              "#0d0887"
             ],
             [
              0.1111111111111111,
              "#46039f"
             ],
             [
              0.2222222222222222,
              "#7201a8"
             ],
             [
              0.3333333333333333,
              "#9c179e"
             ],
             [
              0.4444444444444444,
              "#bd3786"
             ],
             [
              0.5555555555555556,
              "#d8576b"
             ],
             [
              0.6666666666666666,
              "#ed7953"
             ],
             [
              0.7777777777777778,
              "#fb9f3a"
             ],
             [
              0.8888888888888888,
              "#fdca26"
             ],
             [
              1,
              "#f0f921"
             ]
            ],
            "type": "histogram2d"
           }
          ],
          "histogram2dcontour": [
           {
            "colorbar": {
             "outlinewidth": 0,
             "ticks": ""
            },
            "colorscale": [
             [
              0,
              "#0d0887"
             ],
             [
              0.1111111111111111,
              "#46039f"
             ],
             [
              0.2222222222222222,
              "#7201a8"
             ],
             [
              0.3333333333333333,
              "#9c179e"
             ],
             [
              0.4444444444444444,
              "#bd3786"
             ],
             [
              0.5555555555555556,
              "#d8576b"
             ],
             [
              0.6666666666666666,
              "#ed7953"
             ],
             [
              0.7777777777777778,
              "#fb9f3a"
             ],
             [
              0.8888888888888888,
              "#fdca26"
             ],
             [
              1,
              "#f0f921"
             ]
            ],
            "type": "histogram2dcontour"
           }
          ],
          "mesh3d": [
           {
            "colorbar": {
             "outlinewidth": 0,
             "ticks": ""
            },
            "type": "mesh3d"
           }
          ],
          "parcoords": [
           {
            "line": {
             "colorbar": {
              "outlinewidth": 0,
              "ticks": ""
             }
            },
            "type": "parcoords"
           }
          ],
          "pie": [
           {
            "automargin": true,
            "type": "pie"
           }
          ],
          "scatter": [
           {
            "fillpattern": {
             "fillmode": "overlay",
             "size": 10,
             "solidity": 0.2
            },
            "type": "scatter"
           }
          ],
          "scatter3d": [
           {
            "line": {
             "colorbar": {
              "outlinewidth": 0,
              "ticks": ""
             }
            },
            "marker": {
             "colorbar": {
              "outlinewidth": 0,
              "ticks": ""
             }
            },
            "type": "scatter3d"
           }
          ],
          "scattercarpet": [
           {
            "marker": {
             "colorbar": {
              "outlinewidth": 0,
              "ticks": ""
             }
            },
            "type": "scattercarpet"
           }
          ],
          "scattergeo": [
           {
            "marker": {
             "colorbar": {
              "outlinewidth": 0,
              "ticks": ""
             }
            },
            "type": "scattergeo"
           }
          ],
          "scattergl": [
           {
            "marker": {
             "colorbar": {
              "outlinewidth": 0,
              "ticks": ""
             }
            },
            "type": "scattergl"
           }
          ],
          "scattermapbox": [
           {
            "marker": {
             "colorbar": {
              "outlinewidth": 0,
              "ticks": ""
             }
            },
            "type": "scattermapbox"
           }
          ],
          "scatterpolar": [
           {
            "marker": {
             "colorbar": {
              "outlinewidth": 0,
              "ticks": ""
             }
            },
            "type": "scatterpolar"
           }
          ],
          "scatterpolargl": [
           {
            "marker": {
             "colorbar": {
              "outlinewidth": 0,
              "ticks": ""
             }
            },
            "type": "scatterpolargl"
           }
          ],
          "scatterternary": [
           {
            "marker": {
             "colorbar": {
              "outlinewidth": 0,
              "ticks": ""
             }
            },
            "type": "scatterternary"
           }
          ],
          "surface": [
           {
            "colorbar": {
             "outlinewidth": 0,
             "ticks": ""
            },
            "colorscale": [
             [
              0,
              "#0d0887"
             ],
             [
              0.1111111111111111,
              "#46039f"
             ],
             [
              0.2222222222222222,
              "#7201a8"
             ],
             [
              0.3333333333333333,
              "#9c179e"
             ],
             [
              0.4444444444444444,
              "#bd3786"
             ],
             [
              0.5555555555555556,
              "#d8576b"
             ],
             [
              0.6666666666666666,
              "#ed7953"
             ],
             [
              0.7777777777777778,
              "#fb9f3a"
             ],
             [
              0.8888888888888888,
              "#fdca26"
             ],
             [
              1,
              "#f0f921"
             ]
            ],
            "type": "surface"
           }
          ],
          "table": [
           {
            "cells": {
             "fill": {
              "color": "#EBF0F8"
             },
             "line": {
              "color": "white"
             }
            },
            "header": {
             "fill": {
              "color": "#C8D4E3"
             },
             "line": {
              "color": "white"
             }
            },
            "type": "table"
           }
          ]
         },
         "layout": {
          "annotationdefaults": {
           "arrowcolor": "#2a3f5f",
           "arrowhead": 0,
           "arrowwidth": 1
          },
          "autotypenumbers": "strict",
          "coloraxis": {
           "colorbar": {
            "outlinewidth": 0,
            "ticks": ""
           }
          },
          "colorscale": {
           "diverging": [
            [
             0,
             "#8e0152"
            ],
            [
             0.1,
             "#c51b7d"
            ],
            [
             0.2,
             "#de77ae"
            ],
            [
             0.3,
             "#f1b6da"
            ],
            [
             0.4,
             "#fde0ef"
            ],
            [
             0.5,
             "#f7f7f7"
            ],
            [
             0.6,
             "#e6f5d0"
            ],
            [
             0.7,
             "#b8e186"
            ],
            [
             0.8,
             "#7fbc41"
            ],
            [
             0.9,
             "#4d9221"
            ],
            [
             1,
             "#276419"
            ]
           ],
           "sequential": [
            [
             0,
             "#0d0887"
            ],
            [
             0.1111111111111111,
             "#46039f"
            ],
            [
             0.2222222222222222,
             "#7201a8"
            ],
            [
             0.3333333333333333,
             "#9c179e"
            ],
            [
             0.4444444444444444,
             "#bd3786"
            ],
            [
             0.5555555555555556,
             "#d8576b"
            ],
            [
             0.6666666666666666,
             "#ed7953"
            ],
            [
             0.7777777777777778,
             "#fb9f3a"
            ],
            [
             0.8888888888888888,
             "#fdca26"
            ],
            [
             1,
             "#f0f921"
            ]
           ],
           "sequentialminus": [
            [
             0,
             "#0d0887"
            ],
            [
             0.1111111111111111,
             "#46039f"
            ],
            [
             0.2222222222222222,
             "#7201a8"
            ],
            [
             0.3333333333333333,
             "#9c179e"
            ],
            [
             0.4444444444444444,
             "#bd3786"
            ],
            [
             0.5555555555555556,
             "#d8576b"
            ],
            [
             0.6666666666666666,
             "#ed7953"
            ],
            [
             0.7777777777777778,
             "#fb9f3a"
            ],
            [
             0.8888888888888888,
             "#fdca26"
            ],
            [
             1,
             "#f0f921"
            ]
           ]
          },
          "colorway": [
           "#636efa",
           "#EF553B",
           "#00cc96",
           "#ab63fa",
           "#FFA15A",
           "#19d3f3",
           "#FF6692",
           "#B6E880",
           "#FF97FF",
           "#FECB52"
          ],
          "font": {
           "color": "#2a3f5f"
          },
          "geo": {
           "bgcolor": "white",
           "lakecolor": "white",
           "landcolor": "#E5ECF6",
           "showlakes": true,
           "showland": true,
           "subunitcolor": "white"
          },
          "hoverlabel": {
           "align": "left"
          },
          "hovermode": "closest",
          "mapbox": {
           "style": "light"
          },
          "paper_bgcolor": "white",
          "plot_bgcolor": "#E5ECF6",
          "polar": {
           "angularaxis": {
            "gridcolor": "white",
            "linecolor": "white",
            "ticks": ""
           },
           "bgcolor": "#E5ECF6",
           "radialaxis": {
            "gridcolor": "white",
            "linecolor": "white",
            "ticks": ""
           }
          },
          "scene": {
           "xaxis": {
            "backgroundcolor": "#E5ECF6",
            "gridcolor": "white",
            "gridwidth": 2,
            "linecolor": "white",
            "showbackground": true,
            "ticks": "",
            "zerolinecolor": "white"
           },
           "yaxis": {
            "backgroundcolor": "#E5ECF6",
            "gridcolor": "white",
            "gridwidth": 2,
            "linecolor": "white",
            "showbackground": true,
            "ticks": "",
            "zerolinecolor": "white"
           },
           "zaxis": {
            "backgroundcolor": "#E5ECF6",
            "gridcolor": "white",
            "gridwidth": 2,
            "linecolor": "white",
            "showbackground": true,
            "ticks": "",
            "zerolinecolor": "white"
           }
          },
          "shapedefaults": {
           "line": {
            "color": "#2a3f5f"
           }
          },
          "ternary": {
           "aaxis": {
            "gridcolor": "white",
            "linecolor": "white",
            "ticks": ""
           },
           "baxis": {
            "gridcolor": "white",
            "linecolor": "white",
            "ticks": ""
           },
           "bgcolor": "#E5ECF6",
           "caxis": {
            "gridcolor": "white",
            "linecolor": "white",
            "ticks": ""
           }
          },
          "title": {
           "x": 0.05
          },
          "xaxis": {
           "automargin": true,
           "gridcolor": "white",
           "linecolor": "white",
           "ticks": "",
           "title": {
            "standoff": 15
           },
           "zerolinecolor": "white",
           "zerolinewidth": 2
          },
          "yaxis": {
           "automargin": true,
           "gridcolor": "white",
           "linecolor": "white",
           "ticks": "",
           "title": {
            "standoff": 15
           },
           "zerolinecolor": "white",
           "zerolinewidth": 2
          }
         }
        },
        "title": {
         "text": "Free evolution of the weights for subject soggetto_1"
        },
        "xaxis": {
         "anchor": "y",
         "domain": [
          0,
          1
         ],
         "title": {
          "text": "index"
         }
        },
        "yaxis": {
         "anchor": "x",
         "domain": [
          0,
          1
         ],
         "title": {
          "text": "value"
         }
        }
       }
      }
     },
     "metadata": {},
     "output_type": "display_data"
    },
    {
     "data": {
      "application/vnd.plotly.v1+json": {
       "config": {
        "plotlyServerURL": "https://plot.ly"
       },
       "data": [
        {
         "hovertemplate": "variable=TrRi<br>index=%{x}<br>value=%{y}<extra></extra>",
         "legendgroup": "TrRi",
         "line": {
          "color": "#636efa",
          "dash": "solid"
         },
         "marker": {
          "symbol": "circle"
         },
         "mode": "lines",
         "name": "TrRi",
         "orientation": "v",
         "showlegend": true,
         "type": "scatter",
         "x": [
          "Epoch 0",
          "Epoch 1",
          "Epoch 2",
          "Epoch 3",
          "Epoch 4",
          "Epoch 5",
          "Epoch 6",
          "Epoch 7",
          "Epoch 8",
          "Epoch 9",
          "Epoch 10",
          "Epoch 11",
          "Epoch 12",
          "Epoch 13",
          "Epoch 14",
          "Epoch 15",
          "Epoch 16",
          "Epoch 17",
          "Epoch 18",
          "Epoch 19"
         ],
         "xaxis": "x",
         "y": [
          null,
          null,
          null,
          null,
          null,
          null,
          null,
          null,
          null,
          null,
          null,
          null,
          null,
          null,
          null,
          null,
          null,
          null,
          null,
          null
         ],
         "yaxis": "y"
        },
        {
         "hovertemplate": "variable=RiTr<br>index=%{x}<br>value=%{y}<extra></extra>",
         "legendgroup": "RiTr",
         "line": {
          "color": "#EF553B",
          "dash": "solid"
         },
         "marker": {
          "symbol": "circle"
         },
         "mode": "lines",
         "name": "RiTr",
         "orientation": "v",
         "showlegend": true,
         "type": "scatter",
         "x": [
          "Epoch 0",
          "Epoch 1",
          "Epoch 2",
          "Epoch 3",
          "Epoch 4",
          "Epoch 5",
          "Epoch 6",
          "Epoch 7",
          "Epoch 8",
          "Epoch 9",
          "Epoch 10",
          "Epoch 11",
          "Epoch 12",
          "Epoch 13",
          "Epoch 14",
          "Epoch 15",
          "Epoch 16",
          "Epoch 17",
          "Epoch 18",
          "Epoch 19"
         ],
         "xaxis": "x",
         "y": [
          null,
          null,
          null,
          null,
          null,
          null,
          null,
          null,
          null,
          null,
          null,
          null,
          null,
          null,
          null,
          null,
          null,
          null,
          null,
          null
         ],
         "yaxis": "y"
        },
        {
         "hovertemplate": "variable=Plu<br>index=%{x}<br>value=%{y}<extra></extra>",
         "legendgroup": "Plu",
         "line": {
          "color": "#00cc96",
          "dash": "solid"
         },
         "marker": {
          "symbol": "circle"
         },
         "mode": "lines",
         "name": "Plu",
         "orientation": "v",
         "showlegend": true,
         "type": "scatter",
         "x": [
          "Epoch 0",
          "Epoch 1",
          "Epoch 2",
          "Epoch 3",
          "Epoch 4",
          "Epoch 5",
          "Epoch 6",
          "Epoch 7",
          "Epoch 8",
          "Epoch 9",
          "Epoch 10",
          "Epoch 11",
          "Epoch 12",
          "Epoch 13",
          "Epoch 14",
          "Epoch 15",
          "Epoch 16",
          "Epoch 17",
          "Epoch 18",
          "Epoch 19"
         ],
         "xaxis": "x",
         "y": [
          null,
          null,
          null,
          null,
          null,
          null,
          null,
          null,
          null,
          null,
          null,
          null,
          null,
          null,
          null,
          null,
          null,
          null,
          null,
          null
         ],
         "yaxis": "y"
        },
        {
         "hovertemplate": "variable=Ttra<br>index=%{x}<br>value=%{y}<extra></extra>",
         "legendgroup": "Ttra",
         "line": {
          "color": "#ab63fa",
          "dash": "solid"
         },
         "marker": {
          "symbol": "circle"
         },
         "mode": "lines",
         "name": "Ttra",
         "orientation": "v",
         "showlegend": true,
         "type": "scatter",
         "x": [
          "Epoch 0",
          "Epoch 1",
          "Epoch 2",
          "Epoch 3",
          "Epoch 4",
          "Epoch 5",
          "Epoch 6",
          "Epoch 7",
          "Epoch 8",
          "Epoch 9",
          "Epoch 10",
          "Epoch 11",
          "Epoch 12",
          "Epoch 13",
          "Epoch 14",
          "Epoch 15",
          "Epoch 16",
          "Epoch 17",
          "Epoch 18",
          "Epoch 19"
         ],
         "xaxis": "x",
         "y": [
          null,
          null,
          null,
          null,
          null,
          null,
          null,
          null,
          null,
          null,
          null,
          null,
          null,
          null,
          null,
          null,
          null,
          null,
          null,
          null
         ],
         "yaxis": "y"
        },
        {
         "hovertemplate": "variable=Ttrb<br>index=%{x}<br>value=%{y}<extra></extra>",
         "legendgroup": "Ttrb",
         "line": {
          "color": "#FFA15A",
          "dash": "solid"
         },
         "marker": {
          "symbol": "circle"
         },
         "mode": "lines",
         "name": "Ttrb",
         "orientation": "v",
         "showlegend": true,
         "type": "scatter",
         "x": [
          "Epoch 0",
          "Epoch 1",
          "Epoch 2",
          "Epoch 3",
          "Epoch 4",
          "Epoch 5",
          "Epoch 6",
          "Epoch 7",
          "Epoch 8",
          "Epoch 9",
          "Epoch 10",
          "Epoch 11",
          "Epoch 12",
          "Epoch 13",
          "Epoch 14",
          "Epoch 15",
          "Epoch 16",
          "Epoch 17",
          "Epoch 18",
          "Epoch 19"
         ],
         "xaxis": "x",
         "y": [
          null,
          null,
          null,
          null,
          null,
          null,
          null,
          null,
          null,
          null,
          null,
          null,
          null,
          null,
          null,
          null,
          null,
          null,
          null,
          null
         ],
         "yaxis": "y"
        },
        {
         "hovertemplate": "variable=Tr<br>index=%{x}<br>value=%{y}<extra></extra>",
         "legendgroup": "Tr",
         "line": {
          "color": "#19d3f3",
          "dash": "solid"
         },
         "marker": {
          "symbol": "circle"
         },
         "mode": "lines",
         "name": "Tr",
         "orientation": "v",
         "showlegend": true,
         "type": "scatter",
         "x": [
          "Epoch 0",
          "Epoch 1",
          "Epoch 2",
          "Epoch 3",
          "Epoch 4",
          "Epoch 5",
          "Epoch 6",
          "Epoch 7",
          "Epoch 8",
          "Epoch 9",
          "Epoch 10",
          "Epoch 11",
          "Epoch 12",
          "Epoch 13",
          "Epoch 14",
          "Epoch 15",
          "Epoch 16",
          "Epoch 17",
          "Epoch 18",
          "Epoch 19"
         ],
         "xaxis": "x",
         "y": [
          null,
          null,
          null,
          null,
          null,
          null,
          null,
          null,
          null,
          null,
          null,
          null,
          null,
          null,
          null,
          null,
          null,
          null,
          null,
          null
         ],
         "yaxis": "y"
        },
        {
         "hovertemplate": "variable=MeTr<br>index=%{x}<br>value=%{y}<extra></extra>",
         "legendgroup": "MeTr",
         "line": {
          "color": "#FF6692",
          "dash": "solid"
         },
         "marker": {
          "symbol": "circle"
         },
         "mode": "lines",
         "name": "MeTr",
         "orientation": "v",
         "showlegend": true,
         "type": "scatter",
         "x": [
          "Epoch 0",
          "Epoch 1",
          "Epoch 2",
          "Epoch 3",
          "Epoch 4",
          "Epoch 5",
          "Epoch 6",
          "Epoch 7",
          "Epoch 8",
          "Epoch 9",
          "Epoch 10",
          "Epoch 11",
          "Epoch 12",
          "Epoch 13",
          "Epoch 14",
          "Epoch 15",
          "Epoch 16",
          "Epoch 17",
          "Epoch 18",
          "Epoch 19"
         ],
         "xaxis": "x",
         "y": [
          null,
          null,
          null,
          null,
          null,
          null,
          null,
          null,
          null,
          null,
          null,
          null,
          null,
          null,
          null,
          null,
          null,
          null,
          null,
          null
         ],
         "yaxis": "y"
        },
        {
         "hovertemplate": "variable=MoTr<br>index=%{x}<br>value=%{y}<extra></extra>",
         "legendgroup": "MoTr",
         "line": {
          "color": "#B6E880",
          "dash": "solid"
         },
         "marker": {
          "symbol": "circle"
         },
         "mode": "lines",
         "name": "MoTr",
         "orientation": "v",
         "showlegend": true,
         "type": "scatter",
         "x": [
          "Epoch 0",
          "Epoch 1",
          "Epoch 2",
          "Epoch 3",
          "Epoch 4",
          "Epoch 5",
          "Epoch 6",
          "Epoch 7",
          "Epoch 8",
          "Epoch 9",
          "Epoch 10",
          "Epoch 11",
          "Epoch 12",
          "Epoch 13",
          "Epoch 14",
          "Epoch 15",
          "Epoch 16",
          "Epoch 17",
          "Epoch 18",
          "Epoch 19"
         ],
         "xaxis": "x",
         "y": [
          null,
          null,
          null,
          null,
          null,
          null,
          null,
          null,
          null,
          null,
          null,
          null,
          null,
          null,
          null,
          null,
          null,
          null,
          null,
          null
         ],
         "yaxis": "y"
        },
        {
         "hovertemplate": "variable=RiRi<br>index=%{x}<br>value=%{y}<extra></extra>",
         "legendgroup": "RiRi",
         "line": {
          "color": "#FF97FF",
          "dash": "solid"
         },
         "marker": {
          "symbol": "circle"
         },
         "mode": "lines",
         "name": "RiRi",
         "orientation": "v",
         "showlegend": true,
         "type": "scatter",
         "x": [
          "Epoch 0",
          "Epoch 1",
          "Epoch 2",
          "Epoch 3",
          "Epoch 4",
          "Epoch 5",
          "Epoch 6",
          "Epoch 7",
          "Epoch 8",
          "Epoch 9",
          "Epoch 10",
          "Epoch 11",
          "Epoch 12",
          "Epoch 13",
          "Epoch 14",
          "Epoch 15",
          "Epoch 16",
          "Epoch 17",
          "Epoch 18",
          "Epoch 19"
         ],
         "xaxis": "x",
         "y": [
          null,
          null,
          null,
          null,
          null,
          null,
          null,
          null,
          null,
          null,
          null,
          null,
          null,
          null,
          null,
          null,
          null,
          null,
          null,
          null
         ],
         "yaxis": "y"
        },
        {
         "hovertemplate": "variable=MoFo<br>index=%{x}<br>value=%{y}<extra></extra>",
         "legendgroup": "MoFo",
         "line": {
          "color": "#FECB52",
          "dash": "solid"
         },
         "marker": {
          "symbol": "circle"
         },
         "mode": "lines",
         "name": "MoFo",
         "orientation": "v",
         "showlegend": true,
         "type": "scatter",
         "x": [
          "Epoch 0",
          "Epoch 1",
          "Epoch 2",
          "Epoch 3",
          "Epoch 4",
          "Epoch 5",
          "Epoch 6",
          "Epoch 7",
          "Epoch 8",
          "Epoch 9",
          "Epoch 10",
          "Epoch 11",
          "Epoch 12",
          "Epoch 13",
          "Epoch 14",
          "Epoch 15",
          "Epoch 16",
          "Epoch 17",
          "Epoch 18",
          "Epoch 19"
         ],
         "xaxis": "x",
         "y": [
          null,
          null,
          null,
          null,
          null,
          null,
          null,
          null,
          null,
          null,
          null,
          null,
          null,
          null,
          null,
          null,
          null,
          null,
          null,
          null
         ],
         "yaxis": "y"
        },
        {
         "hovertemplate": "variable=Mmof<br>index=%{x}<br>value=%{y}<extra></extra>",
         "legendgroup": "Mmof",
         "line": {
          "color": "#636efa",
          "dash": "solid"
         },
         "marker": {
          "symbol": "circle"
         },
         "mode": "lines",
         "name": "Mmof",
         "orientation": "v",
         "showlegend": true,
         "type": "scatter",
         "x": [
          "Epoch 0",
          "Epoch 1",
          "Epoch 2",
          "Epoch 3",
          "Epoch 4",
          "Epoch 5",
          "Epoch 6",
          "Epoch 7",
          "Epoch 8",
          "Epoch 9",
          "Epoch 10",
          "Epoch 11",
          "Epoch 12",
          "Epoch 13",
          "Epoch 14",
          "Epoch 15",
          "Epoch 16",
          "Epoch 17",
          "Epoch 18",
          "Epoch 19"
         ],
         "xaxis": "x",
         "y": [
          null,
          null,
          null,
          null,
          null,
          null,
          null,
          null,
          null,
          null,
          null,
          null,
          null,
          null,
          null,
          null,
          null,
          null,
          null,
          null
         ],
         "yaxis": "y"
        },
        {
         "hovertemplate": "variable=MoRi<br>index=%{x}<br>value=%{y}<extra></extra>",
         "legendgroup": "MoRi",
         "line": {
          "color": "#EF553B",
          "dash": "solid"
         },
         "marker": {
          "symbol": "circle"
         },
         "mode": "lines",
         "name": "MoRi",
         "orientation": "v",
         "showlegend": true,
         "type": "scatter",
         "x": [
          "Epoch 0",
          "Epoch 1",
          "Epoch 2",
          "Epoch 3",
          "Epoch 4",
          "Epoch 5",
          "Epoch 6",
          "Epoch 7",
          "Epoch 8",
          "Epoch 9",
          "Epoch 10",
          "Epoch 11",
          "Epoch 12",
          "Epoch 13",
          "Epoch 14",
          "Epoch 15",
          "Epoch 16",
          "Epoch 17",
          "Epoch 18",
          "Epoch 19"
         ],
         "xaxis": "x",
         "y": [
          null,
          null,
          null,
          null,
          null,
          null,
          null,
          null,
          null,
          null,
          null,
          null,
          null,
          null,
          null,
          null,
          null,
          null,
          null,
          null
         ],
         "yaxis": "y"
        },
        {
         "hovertemplate": "variable=MeRi<br>index=%{x}<br>value=%{y}<extra></extra>",
         "legendgroup": "MeRi",
         "line": {
          "color": "#00cc96",
          "dash": "solid"
         },
         "marker": {
          "symbol": "circle"
         },
         "mode": "lines",
         "name": "MeRi",
         "orientation": "v",
         "showlegend": true,
         "type": "scatter",
         "x": [
          "Epoch 0",
          "Epoch 1",
          "Epoch 2",
          "Epoch 3",
          "Epoch 4",
          "Epoch 5",
          "Epoch 6",
          "Epoch 7",
          "Epoch 8",
          "Epoch 9",
          "Epoch 10",
          "Epoch 11",
          "Epoch 12",
          "Epoch 13",
          "Epoch 14",
          "Epoch 15",
          "Epoch 16",
          "Epoch 17",
          "Epoch 18",
          "Epoch 19"
         ],
         "xaxis": "x",
         "y": [
          null,
          null,
          null,
          null,
          null,
          null,
          null,
          null,
          null,
          null,
          null,
          null,
          null,
          null,
          null,
          null,
          null,
          null,
          null,
          null
         ],
         "yaxis": "y"
        },
        {
         "hovertemplate": "variable=Ri<br>index=%{x}<br>value=%{y}<extra></extra>",
         "legendgroup": "Ri",
         "line": {
          "color": "#ab63fa",
          "dash": "solid"
         },
         "marker": {
          "symbol": "circle"
         },
         "mode": "lines",
         "name": "Ri",
         "orientation": "v",
         "showlegend": true,
         "type": "scatter",
         "x": [
          "Epoch 0",
          "Epoch 1",
          "Epoch 2",
          "Epoch 3",
          "Epoch 4",
          "Epoch 5",
          "Epoch 6",
          "Epoch 7",
          "Epoch 8",
          "Epoch 9",
          "Epoch 10",
          "Epoch 11",
          "Epoch 12",
          "Epoch 13",
          "Epoch 14",
          "Epoch 15",
          "Epoch 16",
          "Epoch 17",
          "Epoch 18",
          "Epoch 19"
         ],
         "xaxis": "x",
         "y": [
          null,
          null,
          null,
          null,
          null,
          null,
          null,
          null,
          null,
          null,
          null,
          null,
          null,
          null,
          null,
          null,
          null,
          null,
          null,
          null
         ],
         "yaxis": "y"
        },
        {
         "hovertemplate": "variable=Comp<br>index=%{x}<br>value=%{y}<extra></extra>",
         "legendgroup": "Comp",
         "line": {
          "color": "#FFA15A",
          "dash": "solid"
         },
         "marker": {
          "symbol": "circle"
         },
         "mode": "lines",
         "name": "Comp",
         "orientation": "v",
         "showlegend": true,
         "type": "scatter",
         "x": [
          "Epoch 0",
          "Epoch 1",
          "Epoch 2",
          "Epoch 3",
          "Epoch 4",
          "Epoch 5",
          "Epoch 6",
          "Epoch 7",
          "Epoch 8",
          "Epoch 9",
          "Epoch 10",
          "Epoch 11",
          "Epoch 12",
          "Epoch 13",
          "Epoch 14",
          "Epoch 15",
          "Epoch 16",
          "Epoch 17",
          "Epoch 18",
          "Epoch 19"
         ],
         "xaxis": "x",
         "y": [
          null,
          null,
          null,
          null,
          null,
          null,
          null,
          null,
          null,
          null,
          null,
          null,
          null,
          null,
          null,
          null,
          null,
          null,
          null,
          null
         ],
         "yaxis": "y"
        }
       ],
       "layout": {
        "legend": {
         "title": {
          "text": "variable"
         },
         "tracegroupgap": 0
        },
        "template": {
         "data": {
          "bar": [
           {
            "error_x": {
             "color": "#2a3f5f"
            },
            "error_y": {
             "color": "#2a3f5f"
            },
            "marker": {
             "line": {
              "color": "#E5ECF6",
              "width": 0.5
             },
             "pattern": {
              "fillmode": "overlay",
              "size": 10,
              "solidity": 0.2
             }
            },
            "type": "bar"
           }
          ],
          "barpolar": [
           {
            "marker": {
             "line": {
              "color": "#E5ECF6",
              "width": 0.5
             },
             "pattern": {
              "fillmode": "overlay",
              "size": 10,
              "solidity": 0.2
             }
            },
            "type": "barpolar"
           }
          ],
          "carpet": [
           {
            "aaxis": {
             "endlinecolor": "#2a3f5f",
             "gridcolor": "white",
             "linecolor": "white",
             "minorgridcolor": "white",
             "startlinecolor": "#2a3f5f"
            },
            "baxis": {
             "endlinecolor": "#2a3f5f",
             "gridcolor": "white",
             "linecolor": "white",
             "minorgridcolor": "white",
             "startlinecolor": "#2a3f5f"
            },
            "type": "carpet"
           }
          ],
          "choropleth": [
           {
            "colorbar": {
             "outlinewidth": 0,
             "ticks": ""
            },
            "type": "choropleth"
           }
          ],
          "contour": [
           {
            "colorbar": {
             "outlinewidth": 0,
             "ticks": ""
            },
            "colorscale": [
             [
              0,
              "#0d0887"
             ],
             [
              0.1111111111111111,
              "#46039f"
             ],
             [
              0.2222222222222222,
              "#7201a8"
             ],
             [
              0.3333333333333333,
              "#9c179e"
             ],
             [
              0.4444444444444444,
              "#bd3786"
             ],
             [
              0.5555555555555556,
              "#d8576b"
             ],
             [
              0.6666666666666666,
              "#ed7953"
             ],
             [
              0.7777777777777778,
              "#fb9f3a"
             ],
             [
              0.8888888888888888,
              "#fdca26"
             ],
             [
              1,
              "#f0f921"
             ]
            ],
            "type": "contour"
           }
          ],
          "contourcarpet": [
           {
            "colorbar": {
             "outlinewidth": 0,
             "ticks": ""
            },
            "type": "contourcarpet"
           }
          ],
          "heatmap": [
           {
            "colorbar": {
             "outlinewidth": 0,
             "ticks": ""
            },
            "colorscale": [
             [
              0,
              "#0d0887"
             ],
             [
              0.1111111111111111,
              "#46039f"
             ],
             [
              0.2222222222222222,
              "#7201a8"
             ],
             [
              0.3333333333333333,
              "#9c179e"
             ],
             [
              0.4444444444444444,
              "#bd3786"
             ],
             [
              0.5555555555555556,
              "#d8576b"
             ],
             [
              0.6666666666666666,
              "#ed7953"
             ],
             [
              0.7777777777777778,
              "#fb9f3a"
             ],
             [
              0.8888888888888888,
              "#fdca26"
             ],
             [
              1,
              "#f0f921"
             ]
            ],
            "type": "heatmap"
           }
          ],
          "heatmapgl": [
           {
            "colorbar": {
             "outlinewidth": 0,
             "ticks": ""
            },
            "colorscale": [
             [
              0,
              "#0d0887"
             ],
             [
              0.1111111111111111,
              "#46039f"
             ],
             [
              0.2222222222222222,
              "#7201a8"
             ],
             [
              0.3333333333333333,
              "#9c179e"
             ],
             [
              0.4444444444444444,
              "#bd3786"
             ],
             [
              0.5555555555555556,
              "#d8576b"
             ],
             [
              0.6666666666666666,
              "#ed7953"
             ],
             [
              0.7777777777777778,
              "#fb9f3a"
             ],
             [
              0.8888888888888888,
              "#fdca26"
             ],
             [
              1,
              "#f0f921"
             ]
            ],
            "type": "heatmapgl"
           }
          ],
          "histogram": [
           {
            "marker": {
             "pattern": {
              "fillmode": "overlay",
              "size": 10,
              "solidity": 0.2
             }
            },
            "type": "histogram"
           }
          ],
          "histogram2d": [
           {
            "colorbar": {
             "outlinewidth": 0,
             "ticks": ""
            },
            "colorscale": [
             [
              0,
              "#0d0887"
             ],
             [
              0.1111111111111111,
              "#46039f"
             ],
             [
              0.2222222222222222,
              "#7201a8"
             ],
             [
              0.3333333333333333,
              "#9c179e"
             ],
             [
              0.4444444444444444,
              "#bd3786"
             ],
             [
              0.5555555555555556,
              "#d8576b"
             ],
             [
              0.6666666666666666,
              "#ed7953"
             ],
             [
              0.7777777777777778,
              "#fb9f3a"
             ],
             [
              0.8888888888888888,
              "#fdca26"
             ],
             [
              1,
              "#f0f921"
             ]
            ],
            "type": "histogram2d"
           }
          ],
          "histogram2dcontour": [
           {
            "colorbar": {
             "outlinewidth": 0,
             "ticks": ""
            },
            "colorscale": [
             [
              0,
              "#0d0887"
             ],
             [
              0.1111111111111111,
              "#46039f"
             ],
             [
              0.2222222222222222,
              "#7201a8"
             ],
             [
              0.3333333333333333,
              "#9c179e"
             ],
             [
              0.4444444444444444,
              "#bd3786"
             ],
             [
              0.5555555555555556,
              "#d8576b"
             ],
             [
              0.6666666666666666,
              "#ed7953"
             ],
             [
              0.7777777777777778,
              "#fb9f3a"
             ],
             [
              0.8888888888888888,
              "#fdca26"
             ],
             [
              1,
              "#f0f921"
             ]
            ],
            "type": "histogram2dcontour"
           }
          ],
          "mesh3d": [
           {
            "colorbar": {
             "outlinewidth": 0,
             "ticks": ""
            },
            "type": "mesh3d"
           }
          ],
          "parcoords": [
           {
            "line": {
             "colorbar": {
              "outlinewidth": 0,
              "ticks": ""
             }
            },
            "type": "parcoords"
           }
          ],
          "pie": [
           {
            "automargin": true,
            "type": "pie"
           }
          ],
          "scatter": [
           {
            "fillpattern": {
             "fillmode": "overlay",
             "size": 10,
             "solidity": 0.2
            },
            "type": "scatter"
           }
          ],
          "scatter3d": [
           {
            "line": {
             "colorbar": {
              "outlinewidth": 0,
              "ticks": ""
             }
            },
            "marker": {
             "colorbar": {
              "outlinewidth": 0,
              "ticks": ""
             }
            },
            "type": "scatter3d"
           }
          ],
          "scattercarpet": [
           {
            "marker": {
             "colorbar": {
              "outlinewidth": 0,
              "ticks": ""
             }
            },
            "type": "scattercarpet"
           }
          ],
          "scattergeo": [
           {
            "marker": {
             "colorbar": {
              "outlinewidth": 0,
              "ticks": ""
             }
            },
            "type": "scattergeo"
           }
          ],
          "scattergl": [
           {
            "marker": {
             "colorbar": {
              "outlinewidth": 0,
              "ticks": ""
             }
            },
            "type": "scattergl"
           }
          ],
          "scattermapbox": [
           {
            "marker": {
             "colorbar": {
              "outlinewidth": 0,
              "ticks": ""
             }
            },
            "type": "scattermapbox"
           }
          ],
          "scatterpolar": [
           {
            "marker": {
             "colorbar": {
              "outlinewidth": 0,
              "ticks": ""
             }
            },
            "type": "scatterpolar"
           }
          ],
          "scatterpolargl": [
           {
            "marker": {
             "colorbar": {
              "outlinewidth": 0,
              "ticks": ""
             }
            },
            "type": "scatterpolargl"
           }
          ],
          "scatterternary": [
           {
            "marker": {
             "colorbar": {
              "outlinewidth": 0,
              "ticks": ""
             }
            },
            "type": "scatterternary"
           }
          ],
          "surface": [
           {
            "colorbar": {
             "outlinewidth": 0,
             "ticks": ""
            },
            "colorscale": [
             [
              0,
              "#0d0887"
             ],
             [
              0.1111111111111111,
              "#46039f"
             ],
             [
              0.2222222222222222,
              "#7201a8"
             ],
             [
              0.3333333333333333,
              "#9c179e"
             ],
             [
              0.4444444444444444,
              "#bd3786"
             ],
             [
              0.5555555555555556,
              "#d8576b"
             ],
             [
              0.6666666666666666,
              "#ed7953"
             ],
             [
              0.7777777777777778,
              "#fb9f3a"
             ],
             [
              0.8888888888888888,
              "#fdca26"
             ],
             [
              1,
              "#f0f921"
             ]
            ],
            "type": "surface"
           }
          ],
          "table": [
           {
            "cells": {
             "fill": {
              "color": "#EBF0F8"
             },
             "line": {
              "color": "white"
             }
            },
            "header": {
             "fill": {
              "color": "#C8D4E3"
             },
             "line": {
              "color": "white"
             }
            },
            "type": "table"
           }
          ]
         },
         "layout": {
          "annotationdefaults": {
           "arrowcolor": "#2a3f5f",
           "arrowhead": 0,
           "arrowwidth": 1
          },
          "autotypenumbers": "strict",
          "coloraxis": {
           "colorbar": {
            "outlinewidth": 0,
            "ticks": ""
           }
          },
          "colorscale": {
           "diverging": [
            [
             0,
             "#8e0152"
            ],
            [
             0.1,
             "#c51b7d"
            ],
            [
             0.2,
             "#de77ae"
            ],
            [
             0.3,
             "#f1b6da"
            ],
            [
             0.4,
             "#fde0ef"
            ],
            [
             0.5,
             "#f7f7f7"
            ],
            [
             0.6,
             "#e6f5d0"
            ],
            [
             0.7,
             "#b8e186"
            ],
            [
             0.8,
             "#7fbc41"
            ],
            [
             0.9,
             "#4d9221"
            ],
            [
             1,
             "#276419"
            ]
           ],
           "sequential": [
            [
             0,
             "#0d0887"
            ],
            [
             0.1111111111111111,
             "#46039f"
            ],
            [
             0.2222222222222222,
             "#7201a8"
            ],
            [
             0.3333333333333333,
             "#9c179e"
            ],
            [
             0.4444444444444444,
             "#bd3786"
            ],
            [
             0.5555555555555556,
             "#d8576b"
            ],
            [
             0.6666666666666666,
             "#ed7953"
            ],
            [
             0.7777777777777778,
             "#fb9f3a"
            ],
            [
             0.8888888888888888,
             "#fdca26"
            ],
            [
             1,
             "#f0f921"
            ]
           ],
           "sequentialminus": [
            [
             0,
             "#0d0887"
            ],
            [
             0.1111111111111111,
             "#46039f"
            ],
            [
             0.2222222222222222,
             "#7201a8"
            ],
            [
             0.3333333333333333,
             "#9c179e"
            ],
            [
             0.4444444444444444,
             "#bd3786"
            ],
            [
             0.5555555555555556,
             "#d8576b"
            ],
            [
             0.6666666666666666,
             "#ed7953"
            ],
            [
             0.7777777777777778,
             "#fb9f3a"
            ],
            [
             0.8888888888888888,
             "#fdca26"
            ],
            [
             1,
             "#f0f921"
            ]
           ]
          },
          "colorway": [
           "#636efa",
           "#EF553B",
           "#00cc96",
           "#ab63fa",
           "#FFA15A",
           "#19d3f3",
           "#FF6692",
           "#B6E880",
           "#FF97FF",
           "#FECB52"
          ],
          "font": {
           "color": "#2a3f5f"
          },
          "geo": {
           "bgcolor": "white",
           "lakecolor": "white",
           "landcolor": "#E5ECF6",
           "showlakes": true,
           "showland": true,
           "subunitcolor": "white"
          },
          "hoverlabel": {
           "align": "left"
          },
          "hovermode": "closest",
          "mapbox": {
           "style": "light"
          },
          "paper_bgcolor": "white",
          "plot_bgcolor": "#E5ECF6",
          "polar": {
           "angularaxis": {
            "gridcolor": "white",
            "linecolor": "white",
            "ticks": ""
           },
           "bgcolor": "#E5ECF6",
           "radialaxis": {
            "gridcolor": "white",
            "linecolor": "white",
            "ticks": ""
           }
          },
          "scene": {
           "xaxis": {
            "backgroundcolor": "#E5ECF6",
            "gridcolor": "white",
            "gridwidth": 2,
            "linecolor": "white",
            "showbackground": true,
            "ticks": "",
            "zerolinecolor": "white"
           },
           "yaxis": {
            "backgroundcolor": "#E5ECF6",
            "gridcolor": "white",
            "gridwidth": 2,
            "linecolor": "white",
            "showbackground": true,
            "ticks": "",
            "zerolinecolor": "white"
           },
           "zaxis": {
            "backgroundcolor": "#E5ECF6",
            "gridcolor": "white",
            "gridwidth": 2,
            "linecolor": "white",
            "showbackground": true,
            "ticks": "",
            "zerolinecolor": "white"
           }
          },
          "shapedefaults": {
           "line": {
            "color": "#2a3f5f"
           }
          },
          "ternary": {
           "aaxis": {
            "gridcolor": "white",
            "linecolor": "white",
            "ticks": ""
           },
           "baxis": {
            "gridcolor": "white",
            "linecolor": "white",
            "ticks": ""
           },
           "bgcolor": "#E5ECF6",
           "caxis": {
            "gridcolor": "white",
            "linecolor": "white",
            "ticks": ""
           }
          },
          "title": {
           "x": 0.05
          },
          "xaxis": {
           "automargin": true,
           "gridcolor": "white",
           "linecolor": "white",
           "ticks": "",
           "title": {
            "standoff": 15
           },
           "zerolinecolor": "white",
           "zerolinewidth": 2
          },
          "yaxis": {
           "automargin": true,
           "gridcolor": "white",
           "linecolor": "white",
           "ticks": "",
           "title": {
            "standoff": 15
           },
           "zerolinecolor": "white",
           "zerolinewidth": 2
          }
         }
        },
        "title": {
         "text": "Free evolution of the weights for subject soggetto_2"
        },
        "xaxis": {
         "anchor": "y",
         "domain": [
          0,
          1
         ],
         "title": {
          "text": "index"
         }
        },
        "yaxis": {
         "anchor": "x",
         "domain": [
          0,
          1
         ],
         "title": {
          "text": "value"
         }
        }
       }
      }
     },
     "metadata": {},
     "output_type": "display_data"
    },
    {
     "data": {
      "application/vnd.plotly.v1+json": {
       "config": {
        "plotlyServerURL": "https://plot.ly"
       },
       "data": [
        {
         "hovertemplate": "variable=TrRi<br>index=%{x}<br>value=%{y}<extra></extra>",
         "legendgroup": "TrRi",
         "line": {
          "color": "#636efa",
          "dash": "solid"
         },
         "marker": {
          "symbol": "circle"
         },
         "mode": "lines",
         "name": "TrRi",
         "orientation": "v",
         "showlegend": true,
         "type": "scatter",
         "x": [
          "Epoch 0",
          "Epoch 1",
          "Epoch 2",
          "Epoch 3",
          "Epoch 4",
          "Epoch 5",
          "Epoch 6",
          "Epoch 7",
          "Epoch 8",
          "Epoch 9",
          "Epoch 10",
          "Epoch 11",
          "Epoch 12",
          "Epoch 13",
          "Epoch 14",
          "Epoch 15",
          "Epoch 16",
          "Epoch 17",
          "Epoch 18",
          "Epoch 19"
         ],
         "xaxis": "x",
         "y": [
          null,
          null,
          null,
          null,
          null,
          null,
          null,
          null,
          null,
          null,
          null,
          null,
          null,
          null,
          null,
          null,
          null,
          null,
          null,
          null
         ],
         "yaxis": "y"
        },
        {
         "hovertemplate": "variable=RiTr<br>index=%{x}<br>value=%{y}<extra></extra>",
         "legendgroup": "RiTr",
         "line": {
          "color": "#EF553B",
          "dash": "solid"
         },
         "marker": {
          "symbol": "circle"
         },
         "mode": "lines",
         "name": "RiTr",
         "orientation": "v",
         "showlegend": true,
         "type": "scatter",
         "x": [
          "Epoch 0",
          "Epoch 1",
          "Epoch 2",
          "Epoch 3",
          "Epoch 4",
          "Epoch 5",
          "Epoch 6",
          "Epoch 7",
          "Epoch 8",
          "Epoch 9",
          "Epoch 10",
          "Epoch 11",
          "Epoch 12",
          "Epoch 13",
          "Epoch 14",
          "Epoch 15",
          "Epoch 16",
          "Epoch 17",
          "Epoch 18",
          "Epoch 19"
         ],
         "xaxis": "x",
         "y": [
          null,
          null,
          null,
          null,
          null,
          null,
          null,
          null,
          null,
          null,
          null,
          null,
          null,
          null,
          null,
          null,
          null,
          null,
          null,
          null
         ],
         "yaxis": "y"
        },
        {
         "hovertemplate": "variable=Plu<br>index=%{x}<br>value=%{y}<extra></extra>",
         "legendgroup": "Plu",
         "line": {
          "color": "#00cc96",
          "dash": "solid"
         },
         "marker": {
          "symbol": "circle"
         },
         "mode": "lines",
         "name": "Plu",
         "orientation": "v",
         "showlegend": true,
         "type": "scatter",
         "x": [
          "Epoch 0",
          "Epoch 1",
          "Epoch 2",
          "Epoch 3",
          "Epoch 4",
          "Epoch 5",
          "Epoch 6",
          "Epoch 7",
          "Epoch 8",
          "Epoch 9",
          "Epoch 10",
          "Epoch 11",
          "Epoch 12",
          "Epoch 13",
          "Epoch 14",
          "Epoch 15",
          "Epoch 16",
          "Epoch 17",
          "Epoch 18",
          "Epoch 19"
         ],
         "xaxis": "x",
         "y": [
          null,
          null,
          null,
          null,
          null,
          null,
          null,
          null,
          null,
          null,
          null,
          null,
          null,
          null,
          null,
          null,
          null,
          null,
          null,
          null
         ],
         "yaxis": "y"
        },
        {
         "hovertemplate": "variable=Ttra<br>index=%{x}<br>value=%{y}<extra></extra>",
         "legendgroup": "Ttra",
         "line": {
          "color": "#ab63fa",
          "dash": "solid"
         },
         "marker": {
          "symbol": "circle"
         },
         "mode": "lines",
         "name": "Ttra",
         "orientation": "v",
         "showlegend": true,
         "type": "scatter",
         "x": [
          "Epoch 0",
          "Epoch 1",
          "Epoch 2",
          "Epoch 3",
          "Epoch 4",
          "Epoch 5",
          "Epoch 6",
          "Epoch 7",
          "Epoch 8",
          "Epoch 9",
          "Epoch 10",
          "Epoch 11",
          "Epoch 12",
          "Epoch 13",
          "Epoch 14",
          "Epoch 15",
          "Epoch 16",
          "Epoch 17",
          "Epoch 18",
          "Epoch 19"
         ],
         "xaxis": "x",
         "y": [
          null,
          null,
          null,
          null,
          null,
          null,
          null,
          null,
          null,
          null,
          null,
          null,
          null,
          null,
          null,
          null,
          null,
          null,
          null,
          null
         ],
         "yaxis": "y"
        },
        {
         "hovertemplate": "variable=Ttrb<br>index=%{x}<br>value=%{y}<extra></extra>",
         "legendgroup": "Ttrb",
         "line": {
          "color": "#FFA15A",
          "dash": "solid"
         },
         "marker": {
          "symbol": "circle"
         },
         "mode": "lines",
         "name": "Ttrb",
         "orientation": "v",
         "showlegend": true,
         "type": "scatter",
         "x": [
          "Epoch 0",
          "Epoch 1",
          "Epoch 2",
          "Epoch 3",
          "Epoch 4",
          "Epoch 5",
          "Epoch 6",
          "Epoch 7",
          "Epoch 8",
          "Epoch 9",
          "Epoch 10",
          "Epoch 11",
          "Epoch 12",
          "Epoch 13",
          "Epoch 14",
          "Epoch 15",
          "Epoch 16",
          "Epoch 17",
          "Epoch 18",
          "Epoch 19"
         ],
         "xaxis": "x",
         "y": [
          null,
          null,
          null,
          null,
          null,
          null,
          null,
          null,
          null,
          null,
          null,
          null,
          null,
          null,
          null,
          null,
          null,
          null,
          null,
          null
         ],
         "yaxis": "y"
        },
        {
         "hovertemplate": "variable=Tr<br>index=%{x}<br>value=%{y}<extra></extra>",
         "legendgroup": "Tr",
         "line": {
          "color": "#19d3f3",
          "dash": "solid"
         },
         "marker": {
          "symbol": "circle"
         },
         "mode": "lines",
         "name": "Tr",
         "orientation": "v",
         "showlegend": true,
         "type": "scatter",
         "x": [
          "Epoch 0",
          "Epoch 1",
          "Epoch 2",
          "Epoch 3",
          "Epoch 4",
          "Epoch 5",
          "Epoch 6",
          "Epoch 7",
          "Epoch 8",
          "Epoch 9",
          "Epoch 10",
          "Epoch 11",
          "Epoch 12",
          "Epoch 13",
          "Epoch 14",
          "Epoch 15",
          "Epoch 16",
          "Epoch 17",
          "Epoch 18",
          "Epoch 19"
         ],
         "xaxis": "x",
         "y": [
          null,
          null,
          null,
          null,
          null,
          null,
          null,
          null,
          null,
          null,
          null,
          null,
          null,
          null,
          null,
          null,
          null,
          null,
          null,
          null
         ],
         "yaxis": "y"
        },
        {
         "hovertemplate": "variable=MeTr<br>index=%{x}<br>value=%{y}<extra></extra>",
         "legendgroup": "MeTr",
         "line": {
          "color": "#FF6692",
          "dash": "solid"
         },
         "marker": {
          "symbol": "circle"
         },
         "mode": "lines",
         "name": "MeTr",
         "orientation": "v",
         "showlegend": true,
         "type": "scatter",
         "x": [
          "Epoch 0",
          "Epoch 1",
          "Epoch 2",
          "Epoch 3",
          "Epoch 4",
          "Epoch 5",
          "Epoch 6",
          "Epoch 7",
          "Epoch 8",
          "Epoch 9",
          "Epoch 10",
          "Epoch 11",
          "Epoch 12",
          "Epoch 13",
          "Epoch 14",
          "Epoch 15",
          "Epoch 16",
          "Epoch 17",
          "Epoch 18",
          "Epoch 19"
         ],
         "xaxis": "x",
         "y": [
          null,
          null,
          null,
          null,
          null,
          null,
          null,
          null,
          null,
          null,
          null,
          null,
          null,
          null,
          null,
          null,
          null,
          null,
          null,
          null
         ],
         "yaxis": "y"
        },
        {
         "hovertemplate": "variable=MoTr<br>index=%{x}<br>value=%{y}<extra></extra>",
         "legendgroup": "MoTr",
         "line": {
          "color": "#B6E880",
          "dash": "solid"
         },
         "marker": {
          "symbol": "circle"
         },
         "mode": "lines",
         "name": "MoTr",
         "orientation": "v",
         "showlegend": true,
         "type": "scatter",
         "x": [
          "Epoch 0",
          "Epoch 1",
          "Epoch 2",
          "Epoch 3",
          "Epoch 4",
          "Epoch 5",
          "Epoch 6",
          "Epoch 7",
          "Epoch 8",
          "Epoch 9",
          "Epoch 10",
          "Epoch 11",
          "Epoch 12",
          "Epoch 13",
          "Epoch 14",
          "Epoch 15",
          "Epoch 16",
          "Epoch 17",
          "Epoch 18",
          "Epoch 19"
         ],
         "xaxis": "x",
         "y": [
          null,
          null,
          null,
          null,
          null,
          null,
          null,
          null,
          null,
          null,
          null,
          null,
          null,
          null,
          null,
          null,
          null,
          null,
          null,
          null
         ],
         "yaxis": "y"
        },
        {
         "hovertemplate": "variable=RiRi<br>index=%{x}<br>value=%{y}<extra></extra>",
         "legendgroup": "RiRi",
         "line": {
          "color": "#FF97FF",
          "dash": "solid"
         },
         "marker": {
          "symbol": "circle"
         },
         "mode": "lines",
         "name": "RiRi",
         "orientation": "v",
         "showlegend": true,
         "type": "scatter",
         "x": [
          "Epoch 0",
          "Epoch 1",
          "Epoch 2",
          "Epoch 3",
          "Epoch 4",
          "Epoch 5",
          "Epoch 6",
          "Epoch 7",
          "Epoch 8",
          "Epoch 9",
          "Epoch 10",
          "Epoch 11",
          "Epoch 12",
          "Epoch 13",
          "Epoch 14",
          "Epoch 15",
          "Epoch 16",
          "Epoch 17",
          "Epoch 18",
          "Epoch 19"
         ],
         "xaxis": "x",
         "y": [
          null,
          null,
          null,
          null,
          null,
          null,
          null,
          null,
          null,
          null,
          null,
          null,
          null,
          null,
          null,
          null,
          null,
          null,
          null,
          null
         ],
         "yaxis": "y"
        },
        {
         "hovertemplate": "variable=MoFo<br>index=%{x}<br>value=%{y}<extra></extra>",
         "legendgroup": "MoFo",
         "line": {
          "color": "#FECB52",
          "dash": "solid"
         },
         "marker": {
          "symbol": "circle"
         },
         "mode": "lines",
         "name": "MoFo",
         "orientation": "v",
         "showlegend": true,
         "type": "scatter",
         "x": [
          "Epoch 0",
          "Epoch 1",
          "Epoch 2",
          "Epoch 3",
          "Epoch 4",
          "Epoch 5",
          "Epoch 6",
          "Epoch 7",
          "Epoch 8",
          "Epoch 9",
          "Epoch 10",
          "Epoch 11",
          "Epoch 12",
          "Epoch 13",
          "Epoch 14",
          "Epoch 15",
          "Epoch 16",
          "Epoch 17",
          "Epoch 18",
          "Epoch 19"
         ],
         "xaxis": "x",
         "y": [
          null,
          null,
          null,
          null,
          null,
          null,
          null,
          null,
          null,
          null,
          null,
          null,
          null,
          null,
          null,
          null,
          null,
          null,
          null,
          null
         ],
         "yaxis": "y"
        },
        {
         "hovertemplate": "variable=Mmof<br>index=%{x}<br>value=%{y}<extra></extra>",
         "legendgroup": "Mmof",
         "line": {
          "color": "#636efa",
          "dash": "solid"
         },
         "marker": {
          "symbol": "circle"
         },
         "mode": "lines",
         "name": "Mmof",
         "orientation": "v",
         "showlegend": true,
         "type": "scatter",
         "x": [
          "Epoch 0",
          "Epoch 1",
          "Epoch 2",
          "Epoch 3",
          "Epoch 4",
          "Epoch 5",
          "Epoch 6",
          "Epoch 7",
          "Epoch 8",
          "Epoch 9",
          "Epoch 10",
          "Epoch 11",
          "Epoch 12",
          "Epoch 13",
          "Epoch 14",
          "Epoch 15",
          "Epoch 16",
          "Epoch 17",
          "Epoch 18",
          "Epoch 19"
         ],
         "xaxis": "x",
         "y": [
          null,
          null,
          null,
          null,
          null,
          null,
          null,
          null,
          null,
          null,
          null,
          null,
          null,
          null,
          null,
          null,
          null,
          null,
          null,
          null
         ],
         "yaxis": "y"
        },
        {
         "hovertemplate": "variable=MoRi<br>index=%{x}<br>value=%{y}<extra></extra>",
         "legendgroup": "MoRi",
         "line": {
          "color": "#EF553B",
          "dash": "solid"
         },
         "marker": {
          "symbol": "circle"
         },
         "mode": "lines",
         "name": "MoRi",
         "orientation": "v",
         "showlegend": true,
         "type": "scatter",
         "x": [
          "Epoch 0",
          "Epoch 1",
          "Epoch 2",
          "Epoch 3",
          "Epoch 4",
          "Epoch 5",
          "Epoch 6",
          "Epoch 7",
          "Epoch 8",
          "Epoch 9",
          "Epoch 10",
          "Epoch 11",
          "Epoch 12",
          "Epoch 13",
          "Epoch 14",
          "Epoch 15",
          "Epoch 16",
          "Epoch 17",
          "Epoch 18",
          "Epoch 19"
         ],
         "xaxis": "x",
         "y": [
          null,
          null,
          null,
          null,
          null,
          null,
          null,
          null,
          null,
          null,
          null,
          null,
          null,
          null,
          null,
          null,
          null,
          null,
          null,
          null
         ],
         "yaxis": "y"
        },
        {
         "hovertemplate": "variable=MeRi<br>index=%{x}<br>value=%{y}<extra></extra>",
         "legendgroup": "MeRi",
         "line": {
          "color": "#00cc96",
          "dash": "solid"
         },
         "marker": {
          "symbol": "circle"
         },
         "mode": "lines",
         "name": "MeRi",
         "orientation": "v",
         "showlegend": true,
         "type": "scatter",
         "x": [
          "Epoch 0",
          "Epoch 1",
          "Epoch 2",
          "Epoch 3",
          "Epoch 4",
          "Epoch 5",
          "Epoch 6",
          "Epoch 7",
          "Epoch 8",
          "Epoch 9",
          "Epoch 10",
          "Epoch 11",
          "Epoch 12",
          "Epoch 13",
          "Epoch 14",
          "Epoch 15",
          "Epoch 16",
          "Epoch 17",
          "Epoch 18",
          "Epoch 19"
         ],
         "xaxis": "x",
         "y": [
          null,
          null,
          null,
          null,
          null,
          null,
          null,
          null,
          null,
          null,
          null,
          null,
          null,
          null,
          null,
          null,
          null,
          null,
          null,
          null
         ],
         "yaxis": "y"
        },
        {
         "hovertemplate": "variable=Ri<br>index=%{x}<br>value=%{y}<extra></extra>",
         "legendgroup": "Ri",
         "line": {
          "color": "#ab63fa",
          "dash": "solid"
         },
         "marker": {
          "symbol": "circle"
         },
         "mode": "lines",
         "name": "Ri",
         "orientation": "v",
         "showlegend": true,
         "type": "scatter",
         "x": [
          "Epoch 0",
          "Epoch 1",
          "Epoch 2",
          "Epoch 3",
          "Epoch 4",
          "Epoch 5",
          "Epoch 6",
          "Epoch 7",
          "Epoch 8",
          "Epoch 9",
          "Epoch 10",
          "Epoch 11",
          "Epoch 12",
          "Epoch 13",
          "Epoch 14",
          "Epoch 15",
          "Epoch 16",
          "Epoch 17",
          "Epoch 18",
          "Epoch 19"
         ],
         "xaxis": "x",
         "y": [
          null,
          null,
          null,
          null,
          null,
          null,
          null,
          null,
          null,
          null,
          null,
          null,
          null,
          null,
          null,
          null,
          null,
          null,
          null,
          null
         ],
         "yaxis": "y"
        },
        {
         "hovertemplate": "variable=Comp<br>index=%{x}<br>value=%{y}<extra></extra>",
         "legendgroup": "Comp",
         "line": {
          "color": "#FFA15A",
          "dash": "solid"
         },
         "marker": {
          "symbol": "circle"
         },
         "mode": "lines",
         "name": "Comp",
         "orientation": "v",
         "showlegend": true,
         "type": "scatter",
         "x": [
          "Epoch 0",
          "Epoch 1",
          "Epoch 2",
          "Epoch 3",
          "Epoch 4",
          "Epoch 5",
          "Epoch 6",
          "Epoch 7",
          "Epoch 8",
          "Epoch 9",
          "Epoch 10",
          "Epoch 11",
          "Epoch 12",
          "Epoch 13",
          "Epoch 14",
          "Epoch 15",
          "Epoch 16",
          "Epoch 17",
          "Epoch 18",
          "Epoch 19"
         ],
         "xaxis": "x",
         "y": [
          null,
          null,
          null,
          null,
          null,
          null,
          null,
          null,
          null,
          null,
          null,
          null,
          null,
          null,
          null,
          null,
          null,
          null,
          null,
          null
         ],
         "yaxis": "y"
        }
       ],
       "layout": {
        "legend": {
         "title": {
          "text": "variable"
         },
         "tracegroupgap": 0
        },
        "template": {
         "data": {
          "bar": [
           {
            "error_x": {
             "color": "#2a3f5f"
            },
            "error_y": {
             "color": "#2a3f5f"
            },
            "marker": {
             "line": {
              "color": "#E5ECF6",
              "width": 0.5
             },
             "pattern": {
              "fillmode": "overlay",
              "size": 10,
              "solidity": 0.2
             }
            },
            "type": "bar"
           }
          ],
          "barpolar": [
           {
            "marker": {
             "line": {
              "color": "#E5ECF6",
              "width": 0.5
             },
             "pattern": {
              "fillmode": "overlay",
              "size": 10,
              "solidity": 0.2
             }
            },
            "type": "barpolar"
           }
          ],
          "carpet": [
           {
            "aaxis": {
             "endlinecolor": "#2a3f5f",
             "gridcolor": "white",
             "linecolor": "white",
             "minorgridcolor": "white",
             "startlinecolor": "#2a3f5f"
            },
            "baxis": {
             "endlinecolor": "#2a3f5f",
             "gridcolor": "white",
             "linecolor": "white",
             "minorgridcolor": "white",
             "startlinecolor": "#2a3f5f"
            },
            "type": "carpet"
           }
          ],
          "choropleth": [
           {
            "colorbar": {
             "outlinewidth": 0,
             "ticks": ""
            },
            "type": "choropleth"
           }
          ],
          "contour": [
           {
            "colorbar": {
             "outlinewidth": 0,
             "ticks": ""
            },
            "colorscale": [
             [
              0,
              "#0d0887"
             ],
             [
              0.1111111111111111,
              "#46039f"
             ],
             [
              0.2222222222222222,
              "#7201a8"
             ],
             [
              0.3333333333333333,
              "#9c179e"
             ],
             [
              0.4444444444444444,
              "#bd3786"
             ],
             [
              0.5555555555555556,
              "#d8576b"
             ],
             [
              0.6666666666666666,
              "#ed7953"
             ],
             [
              0.7777777777777778,
              "#fb9f3a"
             ],
             [
              0.8888888888888888,
              "#fdca26"
             ],
             [
              1,
              "#f0f921"
             ]
            ],
            "type": "contour"
           }
          ],
          "contourcarpet": [
           {
            "colorbar": {
             "outlinewidth": 0,
             "ticks": ""
            },
            "type": "contourcarpet"
           }
          ],
          "heatmap": [
           {
            "colorbar": {
             "outlinewidth": 0,
             "ticks": ""
            },
            "colorscale": [
             [
              0,
              "#0d0887"
             ],
             [
              0.1111111111111111,
              "#46039f"
             ],
             [
              0.2222222222222222,
              "#7201a8"
             ],
             [
              0.3333333333333333,
              "#9c179e"
             ],
             [
              0.4444444444444444,
              "#bd3786"
             ],
             [
              0.5555555555555556,
              "#d8576b"
             ],
             [
              0.6666666666666666,
              "#ed7953"
             ],
             [
              0.7777777777777778,
              "#fb9f3a"
             ],
             [
              0.8888888888888888,
              "#fdca26"
             ],
             [
              1,
              "#f0f921"
             ]
            ],
            "type": "heatmap"
           }
          ],
          "heatmapgl": [
           {
            "colorbar": {
             "outlinewidth": 0,
             "ticks": ""
            },
            "colorscale": [
             [
              0,
              "#0d0887"
             ],
             [
              0.1111111111111111,
              "#46039f"
             ],
             [
              0.2222222222222222,
              "#7201a8"
             ],
             [
              0.3333333333333333,
              "#9c179e"
             ],
             [
              0.4444444444444444,
              "#bd3786"
             ],
             [
              0.5555555555555556,
              "#d8576b"
             ],
             [
              0.6666666666666666,
              "#ed7953"
             ],
             [
              0.7777777777777778,
              "#fb9f3a"
             ],
             [
              0.8888888888888888,
              "#fdca26"
             ],
             [
              1,
              "#f0f921"
             ]
            ],
            "type": "heatmapgl"
           }
          ],
          "histogram": [
           {
            "marker": {
             "pattern": {
              "fillmode": "overlay",
              "size": 10,
              "solidity": 0.2
             }
            },
            "type": "histogram"
           }
          ],
          "histogram2d": [
           {
            "colorbar": {
             "outlinewidth": 0,
             "ticks": ""
            },
            "colorscale": [
             [
              0,
              "#0d0887"
             ],
             [
              0.1111111111111111,
              "#46039f"
             ],
             [
              0.2222222222222222,
              "#7201a8"
             ],
             [
              0.3333333333333333,
              "#9c179e"
             ],
             [
              0.4444444444444444,
              "#bd3786"
             ],
             [
              0.5555555555555556,
              "#d8576b"
             ],
             [
              0.6666666666666666,
              "#ed7953"
             ],
             [
              0.7777777777777778,
              "#fb9f3a"
             ],
             [
              0.8888888888888888,
              "#fdca26"
             ],
             [
              1,
              "#f0f921"
             ]
            ],
            "type": "histogram2d"
           }
          ],
          "histogram2dcontour": [
           {
            "colorbar": {
             "outlinewidth": 0,
             "ticks": ""
            },
            "colorscale": [
             [
              0,
              "#0d0887"
             ],
             [
              0.1111111111111111,
              "#46039f"
             ],
             [
              0.2222222222222222,
              "#7201a8"
             ],
             [
              0.3333333333333333,
              "#9c179e"
             ],
             [
              0.4444444444444444,
              "#bd3786"
             ],
             [
              0.5555555555555556,
              "#d8576b"
             ],
             [
              0.6666666666666666,
              "#ed7953"
             ],
             [
              0.7777777777777778,
              "#fb9f3a"
             ],
             [
              0.8888888888888888,
              "#fdca26"
             ],
             [
              1,
              "#f0f921"
             ]
            ],
            "type": "histogram2dcontour"
           }
          ],
          "mesh3d": [
           {
            "colorbar": {
             "outlinewidth": 0,
             "ticks": ""
            },
            "type": "mesh3d"
           }
          ],
          "parcoords": [
           {
            "line": {
             "colorbar": {
              "outlinewidth": 0,
              "ticks": ""
             }
            },
            "type": "parcoords"
           }
          ],
          "pie": [
           {
            "automargin": true,
            "type": "pie"
           }
          ],
          "scatter": [
           {
            "fillpattern": {
             "fillmode": "overlay",
             "size": 10,
             "solidity": 0.2
            },
            "type": "scatter"
           }
          ],
          "scatter3d": [
           {
            "line": {
             "colorbar": {
              "outlinewidth": 0,
              "ticks": ""
             }
            },
            "marker": {
             "colorbar": {
              "outlinewidth": 0,
              "ticks": ""
             }
            },
            "type": "scatter3d"
           }
          ],
          "scattercarpet": [
           {
            "marker": {
             "colorbar": {
              "outlinewidth": 0,
              "ticks": ""
             }
            },
            "type": "scattercarpet"
           }
          ],
          "scattergeo": [
           {
            "marker": {
             "colorbar": {
              "outlinewidth": 0,
              "ticks": ""
             }
            },
            "type": "scattergeo"
           }
          ],
          "scattergl": [
           {
            "marker": {
             "colorbar": {
              "outlinewidth": 0,
              "ticks": ""
             }
            },
            "type": "scattergl"
           }
          ],
          "scattermapbox": [
           {
            "marker": {
             "colorbar": {
              "outlinewidth": 0,
              "ticks": ""
             }
            },
            "type": "scattermapbox"
           }
          ],
          "scatterpolar": [
           {
            "marker": {
             "colorbar": {
              "outlinewidth": 0,
              "ticks": ""
             }
            },
            "type": "scatterpolar"
           }
          ],
          "scatterpolargl": [
           {
            "marker": {
             "colorbar": {
              "outlinewidth": 0,
              "ticks": ""
             }
            },
            "type": "scatterpolargl"
           }
          ],
          "scatterternary": [
           {
            "marker": {
             "colorbar": {
              "outlinewidth": 0,
              "ticks": ""
             }
            },
            "type": "scatterternary"
           }
          ],
          "surface": [
           {
            "colorbar": {
             "outlinewidth": 0,
             "ticks": ""
            },
            "colorscale": [
             [
              0,
              "#0d0887"
             ],
             [
              0.1111111111111111,
              "#46039f"
             ],
             [
              0.2222222222222222,
              "#7201a8"
             ],
             [
              0.3333333333333333,
              "#9c179e"
             ],
             [
              0.4444444444444444,
              "#bd3786"
             ],
             [
              0.5555555555555556,
              "#d8576b"
             ],
             [
              0.6666666666666666,
              "#ed7953"
             ],
             [
              0.7777777777777778,
              "#fb9f3a"
             ],
             [
              0.8888888888888888,
              "#fdca26"
             ],
             [
              1,
              "#f0f921"
             ]
            ],
            "type": "surface"
           }
          ],
          "table": [
           {
            "cells": {
             "fill": {
              "color": "#EBF0F8"
             },
             "line": {
              "color": "white"
             }
            },
            "header": {
             "fill": {
              "color": "#C8D4E3"
             },
             "line": {
              "color": "white"
             }
            },
            "type": "table"
           }
          ]
         },
         "layout": {
          "annotationdefaults": {
           "arrowcolor": "#2a3f5f",
           "arrowhead": 0,
           "arrowwidth": 1
          },
          "autotypenumbers": "strict",
          "coloraxis": {
           "colorbar": {
            "outlinewidth": 0,
            "ticks": ""
           }
          },
          "colorscale": {
           "diverging": [
            [
             0,
             "#8e0152"
            ],
            [
             0.1,
             "#c51b7d"
            ],
            [
             0.2,
             "#de77ae"
            ],
            [
             0.3,
             "#f1b6da"
            ],
            [
             0.4,
             "#fde0ef"
            ],
            [
             0.5,
             "#f7f7f7"
            ],
            [
             0.6,
             "#e6f5d0"
            ],
            [
             0.7,
             "#b8e186"
            ],
            [
             0.8,
             "#7fbc41"
            ],
            [
             0.9,
             "#4d9221"
            ],
            [
             1,
             "#276419"
            ]
           ],
           "sequential": [
            [
             0,
             "#0d0887"
            ],
            [
             0.1111111111111111,
             "#46039f"
            ],
            [
             0.2222222222222222,
             "#7201a8"
            ],
            [
             0.3333333333333333,
             "#9c179e"
            ],
            [
             0.4444444444444444,
             "#bd3786"
            ],
            [
             0.5555555555555556,
             "#d8576b"
            ],
            [
             0.6666666666666666,
             "#ed7953"
            ],
            [
             0.7777777777777778,
             "#fb9f3a"
            ],
            [
             0.8888888888888888,
             "#fdca26"
            ],
            [
             1,
             "#f0f921"
            ]
           ],
           "sequentialminus": [
            [
             0,
             "#0d0887"
            ],
            [
             0.1111111111111111,
             "#46039f"
            ],
            [
             0.2222222222222222,
             "#7201a8"
            ],
            [
             0.3333333333333333,
             "#9c179e"
            ],
            [
             0.4444444444444444,
             "#bd3786"
            ],
            [
             0.5555555555555556,
             "#d8576b"
            ],
            [
             0.6666666666666666,
             "#ed7953"
            ],
            [
             0.7777777777777778,
             "#fb9f3a"
            ],
            [
             0.8888888888888888,
             "#fdca26"
            ],
            [
             1,
             "#f0f921"
            ]
           ]
          },
          "colorway": [
           "#636efa",
           "#EF553B",
           "#00cc96",
           "#ab63fa",
           "#FFA15A",
           "#19d3f3",
           "#FF6692",
           "#B6E880",
           "#FF97FF",
           "#FECB52"
          ],
          "font": {
           "color": "#2a3f5f"
          },
          "geo": {
           "bgcolor": "white",
           "lakecolor": "white",
           "landcolor": "#E5ECF6",
           "showlakes": true,
           "showland": true,
           "subunitcolor": "white"
          },
          "hoverlabel": {
           "align": "left"
          },
          "hovermode": "closest",
          "mapbox": {
           "style": "light"
          },
          "paper_bgcolor": "white",
          "plot_bgcolor": "#E5ECF6",
          "polar": {
           "angularaxis": {
            "gridcolor": "white",
            "linecolor": "white",
            "ticks": ""
           },
           "bgcolor": "#E5ECF6",
           "radialaxis": {
            "gridcolor": "white",
            "linecolor": "white",
            "ticks": ""
           }
          },
          "scene": {
           "xaxis": {
            "backgroundcolor": "#E5ECF6",
            "gridcolor": "white",
            "gridwidth": 2,
            "linecolor": "white",
            "showbackground": true,
            "ticks": "",
            "zerolinecolor": "white"
           },
           "yaxis": {
            "backgroundcolor": "#E5ECF6",
            "gridcolor": "white",
            "gridwidth": 2,
            "linecolor": "white",
            "showbackground": true,
            "ticks": "",
            "zerolinecolor": "white"
           },
           "zaxis": {
            "backgroundcolor": "#E5ECF6",
            "gridcolor": "white",
            "gridwidth": 2,
            "linecolor": "white",
            "showbackground": true,
            "ticks": "",
            "zerolinecolor": "white"
           }
          },
          "shapedefaults": {
           "line": {
            "color": "#2a3f5f"
           }
          },
          "ternary": {
           "aaxis": {
            "gridcolor": "white",
            "linecolor": "white",
            "ticks": ""
           },
           "baxis": {
            "gridcolor": "white",
            "linecolor": "white",
            "ticks": ""
           },
           "bgcolor": "#E5ECF6",
           "caxis": {
            "gridcolor": "white",
            "linecolor": "white",
            "ticks": ""
           }
          },
          "title": {
           "x": 0.05
          },
          "xaxis": {
           "automargin": true,
           "gridcolor": "white",
           "linecolor": "white",
           "ticks": "",
           "title": {
            "standoff": 15
           },
           "zerolinecolor": "white",
           "zerolinewidth": 2
          },
          "yaxis": {
           "automargin": true,
           "gridcolor": "white",
           "linecolor": "white",
           "ticks": "",
           "title": {
            "standoff": 15
           },
           "zerolinecolor": "white",
           "zerolinewidth": 2
          }
         }
        },
        "title": {
         "text": "Free evolution of the weights for subject soggetto_3"
        },
        "xaxis": {
         "anchor": "y",
         "domain": [
          0,
          1
         ],
         "title": {
          "text": "index"
         }
        },
        "yaxis": {
         "anchor": "x",
         "domain": [
          0,
          1
         ],
         "title": {
          "text": "value"
         }
        }
       }
      }
     },
     "metadata": {},
     "output_type": "display_data"
    },
    {
     "data": {
      "application/vnd.plotly.v1+json": {
       "config": {
        "plotlyServerURL": "https://plot.ly"
       },
       "data": [
        {
         "hovertemplate": "variable=TrRi<br>index=%{x}<br>value=%{y}<extra></extra>",
         "legendgroup": "TrRi",
         "line": {
          "color": "#636efa",
          "dash": "solid"
         },
         "marker": {
          "symbol": "circle"
         },
         "mode": "lines",
         "name": "TrRi",
         "orientation": "v",
         "showlegend": true,
         "type": "scatter",
         "x": [
          "Epoch 0",
          "Epoch 1",
          "Epoch 2",
          "Epoch 3",
          "Epoch 4",
          "Epoch 5",
          "Epoch 6",
          "Epoch 7",
          "Epoch 8",
          "Epoch 9",
          "Epoch 10",
          "Epoch 11",
          "Epoch 12",
          "Epoch 13",
          "Epoch 14",
          "Epoch 15",
          "Epoch 16",
          "Epoch 17",
          "Epoch 18",
          "Epoch 19"
         ],
         "xaxis": "x",
         "y": [
          null,
          null,
          null,
          null,
          null,
          null,
          null,
          null,
          null,
          null,
          null,
          null,
          null,
          null,
          null,
          null,
          null,
          null,
          null,
          null
         ],
         "yaxis": "y"
        },
        {
         "hovertemplate": "variable=RiTr<br>index=%{x}<br>value=%{y}<extra></extra>",
         "legendgroup": "RiTr",
         "line": {
          "color": "#EF553B",
          "dash": "solid"
         },
         "marker": {
          "symbol": "circle"
         },
         "mode": "lines",
         "name": "RiTr",
         "orientation": "v",
         "showlegend": true,
         "type": "scatter",
         "x": [
          "Epoch 0",
          "Epoch 1",
          "Epoch 2",
          "Epoch 3",
          "Epoch 4",
          "Epoch 5",
          "Epoch 6",
          "Epoch 7",
          "Epoch 8",
          "Epoch 9",
          "Epoch 10",
          "Epoch 11",
          "Epoch 12",
          "Epoch 13",
          "Epoch 14",
          "Epoch 15",
          "Epoch 16",
          "Epoch 17",
          "Epoch 18",
          "Epoch 19"
         ],
         "xaxis": "x",
         "y": [
          null,
          null,
          null,
          null,
          null,
          null,
          null,
          null,
          null,
          null,
          null,
          null,
          null,
          null,
          null,
          null,
          null,
          null,
          null,
          null
         ],
         "yaxis": "y"
        },
        {
         "hovertemplate": "variable=Plu<br>index=%{x}<br>value=%{y}<extra></extra>",
         "legendgroup": "Plu",
         "line": {
          "color": "#00cc96",
          "dash": "solid"
         },
         "marker": {
          "symbol": "circle"
         },
         "mode": "lines",
         "name": "Plu",
         "orientation": "v",
         "showlegend": true,
         "type": "scatter",
         "x": [
          "Epoch 0",
          "Epoch 1",
          "Epoch 2",
          "Epoch 3",
          "Epoch 4",
          "Epoch 5",
          "Epoch 6",
          "Epoch 7",
          "Epoch 8",
          "Epoch 9",
          "Epoch 10",
          "Epoch 11",
          "Epoch 12",
          "Epoch 13",
          "Epoch 14",
          "Epoch 15",
          "Epoch 16",
          "Epoch 17",
          "Epoch 18",
          "Epoch 19"
         ],
         "xaxis": "x",
         "y": [
          null,
          null,
          null,
          null,
          null,
          null,
          null,
          null,
          null,
          null,
          null,
          null,
          null,
          null,
          null,
          null,
          null,
          null,
          null,
          null
         ],
         "yaxis": "y"
        },
        {
         "hovertemplate": "variable=Ttra<br>index=%{x}<br>value=%{y}<extra></extra>",
         "legendgroup": "Ttra",
         "line": {
          "color": "#ab63fa",
          "dash": "solid"
         },
         "marker": {
          "symbol": "circle"
         },
         "mode": "lines",
         "name": "Ttra",
         "orientation": "v",
         "showlegend": true,
         "type": "scatter",
         "x": [
          "Epoch 0",
          "Epoch 1",
          "Epoch 2",
          "Epoch 3",
          "Epoch 4",
          "Epoch 5",
          "Epoch 6",
          "Epoch 7",
          "Epoch 8",
          "Epoch 9",
          "Epoch 10",
          "Epoch 11",
          "Epoch 12",
          "Epoch 13",
          "Epoch 14",
          "Epoch 15",
          "Epoch 16",
          "Epoch 17",
          "Epoch 18",
          "Epoch 19"
         ],
         "xaxis": "x",
         "y": [
          null,
          null,
          null,
          null,
          null,
          null,
          null,
          null,
          null,
          null,
          null,
          null,
          null,
          null,
          null,
          null,
          null,
          null,
          null,
          null
         ],
         "yaxis": "y"
        },
        {
         "hovertemplate": "variable=Ttrb<br>index=%{x}<br>value=%{y}<extra></extra>",
         "legendgroup": "Ttrb",
         "line": {
          "color": "#FFA15A",
          "dash": "solid"
         },
         "marker": {
          "symbol": "circle"
         },
         "mode": "lines",
         "name": "Ttrb",
         "orientation": "v",
         "showlegend": true,
         "type": "scatter",
         "x": [
          "Epoch 0",
          "Epoch 1",
          "Epoch 2",
          "Epoch 3",
          "Epoch 4",
          "Epoch 5",
          "Epoch 6",
          "Epoch 7",
          "Epoch 8",
          "Epoch 9",
          "Epoch 10",
          "Epoch 11",
          "Epoch 12",
          "Epoch 13",
          "Epoch 14",
          "Epoch 15",
          "Epoch 16",
          "Epoch 17",
          "Epoch 18",
          "Epoch 19"
         ],
         "xaxis": "x",
         "y": [
          null,
          null,
          null,
          null,
          null,
          null,
          null,
          null,
          null,
          null,
          null,
          null,
          null,
          null,
          null,
          null,
          null,
          null,
          null,
          null
         ],
         "yaxis": "y"
        },
        {
         "hovertemplate": "variable=Tr<br>index=%{x}<br>value=%{y}<extra></extra>",
         "legendgroup": "Tr",
         "line": {
          "color": "#19d3f3",
          "dash": "solid"
         },
         "marker": {
          "symbol": "circle"
         },
         "mode": "lines",
         "name": "Tr",
         "orientation": "v",
         "showlegend": true,
         "type": "scatter",
         "x": [
          "Epoch 0",
          "Epoch 1",
          "Epoch 2",
          "Epoch 3",
          "Epoch 4",
          "Epoch 5",
          "Epoch 6",
          "Epoch 7",
          "Epoch 8",
          "Epoch 9",
          "Epoch 10",
          "Epoch 11",
          "Epoch 12",
          "Epoch 13",
          "Epoch 14",
          "Epoch 15",
          "Epoch 16",
          "Epoch 17",
          "Epoch 18",
          "Epoch 19"
         ],
         "xaxis": "x",
         "y": [
          null,
          null,
          null,
          null,
          null,
          null,
          null,
          null,
          null,
          null,
          null,
          null,
          null,
          null,
          null,
          null,
          null,
          null,
          null,
          null
         ],
         "yaxis": "y"
        },
        {
         "hovertemplate": "variable=MeTr<br>index=%{x}<br>value=%{y}<extra></extra>",
         "legendgroup": "MeTr",
         "line": {
          "color": "#FF6692",
          "dash": "solid"
         },
         "marker": {
          "symbol": "circle"
         },
         "mode": "lines",
         "name": "MeTr",
         "orientation": "v",
         "showlegend": true,
         "type": "scatter",
         "x": [
          "Epoch 0",
          "Epoch 1",
          "Epoch 2",
          "Epoch 3",
          "Epoch 4",
          "Epoch 5",
          "Epoch 6",
          "Epoch 7",
          "Epoch 8",
          "Epoch 9",
          "Epoch 10",
          "Epoch 11",
          "Epoch 12",
          "Epoch 13",
          "Epoch 14",
          "Epoch 15",
          "Epoch 16",
          "Epoch 17",
          "Epoch 18",
          "Epoch 19"
         ],
         "xaxis": "x",
         "y": [
          null,
          null,
          null,
          null,
          null,
          null,
          null,
          null,
          null,
          null,
          null,
          null,
          null,
          null,
          null,
          null,
          null,
          null,
          null,
          null
         ],
         "yaxis": "y"
        },
        {
         "hovertemplate": "variable=MoTr<br>index=%{x}<br>value=%{y}<extra></extra>",
         "legendgroup": "MoTr",
         "line": {
          "color": "#B6E880",
          "dash": "solid"
         },
         "marker": {
          "symbol": "circle"
         },
         "mode": "lines",
         "name": "MoTr",
         "orientation": "v",
         "showlegend": true,
         "type": "scatter",
         "x": [
          "Epoch 0",
          "Epoch 1",
          "Epoch 2",
          "Epoch 3",
          "Epoch 4",
          "Epoch 5",
          "Epoch 6",
          "Epoch 7",
          "Epoch 8",
          "Epoch 9",
          "Epoch 10",
          "Epoch 11",
          "Epoch 12",
          "Epoch 13",
          "Epoch 14",
          "Epoch 15",
          "Epoch 16",
          "Epoch 17",
          "Epoch 18",
          "Epoch 19"
         ],
         "xaxis": "x",
         "y": [
          null,
          null,
          null,
          null,
          null,
          null,
          null,
          null,
          null,
          null,
          null,
          null,
          null,
          null,
          null,
          null,
          null,
          null,
          null,
          null
         ],
         "yaxis": "y"
        },
        {
         "hovertemplate": "variable=RiRi<br>index=%{x}<br>value=%{y}<extra></extra>",
         "legendgroup": "RiRi",
         "line": {
          "color": "#FF97FF",
          "dash": "solid"
         },
         "marker": {
          "symbol": "circle"
         },
         "mode": "lines",
         "name": "RiRi",
         "orientation": "v",
         "showlegend": true,
         "type": "scatter",
         "x": [
          "Epoch 0",
          "Epoch 1",
          "Epoch 2",
          "Epoch 3",
          "Epoch 4",
          "Epoch 5",
          "Epoch 6",
          "Epoch 7",
          "Epoch 8",
          "Epoch 9",
          "Epoch 10",
          "Epoch 11",
          "Epoch 12",
          "Epoch 13",
          "Epoch 14",
          "Epoch 15",
          "Epoch 16",
          "Epoch 17",
          "Epoch 18",
          "Epoch 19"
         ],
         "xaxis": "x",
         "y": [
          null,
          null,
          null,
          null,
          null,
          null,
          null,
          null,
          null,
          null,
          null,
          null,
          null,
          null,
          null,
          null,
          null,
          null,
          null,
          null
         ],
         "yaxis": "y"
        },
        {
         "hovertemplate": "variable=MoFo<br>index=%{x}<br>value=%{y}<extra></extra>",
         "legendgroup": "MoFo",
         "line": {
          "color": "#FECB52",
          "dash": "solid"
         },
         "marker": {
          "symbol": "circle"
         },
         "mode": "lines",
         "name": "MoFo",
         "orientation": "v",
         "showlegend": true,
         "type": "scatter",
         "x": [
          "Epoch 0",
          "Epoch 1",
          "Epoch 2",
          "Epoch 3",
          "Epoch 4",
          "Epoch 5",
          "Epoch 6",
          "Epoch 7",
          "Epoch 8",
          "Epoch 9",
          "Epoch 10",
          "Epoch 11",
          "Epoch 12",
          "Epoch 13",
          "Epoch 14",
          "Epoch 15",
          "Epoch 16",
          "Epoch 17",
          "Epoch 18",
          "Epoch 19"
         ],
         "xaxis": "x",
         "y": [
          null,
          null,
          null,
          null,
          null,
          null,
          null,
          null,
          null,
          null,
          null,
          null,
          null,
          null,
          null,
          null,
          null,
          null,
          null,
          null
         ],
         "yaxis": "y"
        },
        {
         "hovertemplate": "variable=Mmof<br>index=%{x}<br>value=%{y}<extra></extra>",
         "legendgroup": "Mmof",
         "line": {
          "color": "#636efa",
          "dash": "solid"
         },
         "marker": {
          "symbol": "circle"
         },
         "mode": "lines",
         "name": "Mmof",
         "orientation": "v",
         "showlegend": true,
         "type": "scatter",
         "x": [
          "Epoch 0",
          "Epoch 1",
          "Epoch 2",
          "Epoch 3",
          "Epoch 4",
          "Epoch 5",
          "Epoch 6",
          "Epoch 7",
          "Epoch 8",
          "Epoch 9",
          "Epoch 10",
          "Epoch 11",
          "Epoch 12",
          "Epoch 13",
          "Epoch 14",
          "Epoch 15",
          "Epoch 16",
          "Epoch 17",
          "Epoch 18",
          "Epoch 19"
         ],
         "xaxis": "x",
         "y": [
          null,
          null,
          null,
          null,
          null,
          null,
          null,
          null,
          null,
          null,
          null,
          null,
          null,
          null,
          null,
          null,
          null,
          null,
          null,
          null
         ],
         "yaxis": "y"
        },
        {
         "hovertemplate": "variable=MoRi<br>index=%{x}<br>value=%{y}<extra></extra>",
         "legendgroup": "MoRi",
         "line": {
          "color": "#EF553B",
          "dash": "solid"
         },
         "marker": {
          "symbol": "circle"
         },
         "mode": "lines",
         "name": "MoRi",
         "orientation": "v",
         "showlegend": true,
         "type": "scatter",
         "x": [
          "Epoch 0",
          "Epoch 1",
          "Epoch 2",
          "Epoch 3",
          "Epoch 4",
          "Epoch 5",
          "Epoch 6",
          "Epoch 7",
          "Epoch 8",
          "Epoch 9",
          "Epoch 10",
          "Epoch 11",
          "Epoch 12",
          "Epoch 13",
          "Epoch 14",
          "Epoch 15",
          "Epoch 16",
          "Epoch 17",
          "Epoch 18",
          "Epoch 19"
         ],
         "xaxis": "x",
         "y": [
          null,
          null,
          null,
          null,
          null,
          null,
          null,
          null,
          null,
          null,
          null,
          null,
          null,
          null,
          null,
          null,
          null,
          null,
          null,
          null
         ],
         "yaxis": "y"
        },
        {
         "hovertemplate": "variable=MeRi<br>index=%{x}<br>value=%{y}<extra></extra>",
         "legendgroup": "MeRi",
         "line": {
          "color": "#00cc96",
          "dash": "solid"
         },
         "marker": {
          "symbol": "circle"
         },
         "mode": "lines",
         "name": "MeRi",
         "orientation": "v",
         "showlegend": true,
         "type": "scatter",
         "x": [
          "Epoch 0",
          "Epoch 1",
          "Epoch 2",
          "Epoch 3",
          "Epoch 4",
          "Epoch 5",
          "Epoch 6",
          "Epoch 7",
          "Epoch 8",
          "Epoch 9",
          "Epoch 10",
          "Epoch 11",
          "Epoch 12",
          "Epoch 13",
          "Epoch 14",
          "Epoch 15",
          "Epoch 16",
          "Epoch 17",
          "Epoch 18",
          "Epoch 19"
         ],
         "xaxis": "x",
         "y": [
          null,
          null,
          null,
          null,
          null,
          null,
          null,
          null,
          null,
          null,
          null,
          null,
          null,
          null,
          null,
          null,
          null,
          null,
          null,
          null
         ],
         "yaxis": "y"
        },
        {
         "hovertemplate": "variable=Ri<br>index=%{x}<br>value=%{y}<extra></extra>",
         "legendgroup": "Ri",
         "line": {
          "color": "#ab63fa",
          "dash": "solid"
         },
         "marker": {
          "symbol": "circle"
         },
         "mode": "lines",
         "name": "Ri",
         "orientation": "v",
         "showlegend": true,
         "type": "scatter",
         "x": [
          "Epoch 0",
          "Epoch 1",
          "Epoch 2",
          "Epoch 3",
          "Epoch 4",
          "Epoch 5",
          "Epoch 6",
          "Epoch 7",
          "Epoch 8",
          "Epoch 9",
          "Epoch 10",
          "Epoch 11",
          "Epoch 12",
          "Epoch 13",
          "Epoch 14",
          "Epoch 15",
          "Epoch 16",
          "Epoch 17",
          "Epoch 18",
          "Epoch 19"
         ],
         "xaxis": "x",
         "y": [
          null,
          null,
          null,
          null,
          null,
          null,
          null,
          null,
          null,
          null,
          null,
          null,
          null,
          null,
          null,
          null,
          null,
          null,
          null,
          null
         ],
         "yaxis": "y"
        },
        {
         "hovertemplate": "variable=Comp<br>index=%{x}<br>value=%{y}<extra></extra>",
         "legendgroup": "Comp",
         "line": {
          "color": "#FFA15A",
          "dash": "solid"
         },
         "marker": {
          "symbol": "circle"
         },
         "mode": "lines",
         "name": "Comp",
         "orientation": "v",
         "showlegend": true,
         "type": "scatter",
         "x": [
          "Epoch 0",
          "Epoch 1",
          "Epoch 2",
          "Epoch 3",
          "Epoch 4",
          "Epoch 5",
          "Epoch 6",
          "Epoch 7",
          "Epoch 8",
          "Epoch 9",
          "Epoch 10",
          "Epoch 11",
          "Epoch 12",
          "Epoch 13",
          "Epoch 14",
          "Epoch 15",
          "Epoch 16",
          "Epoch 17",
          "Epoch 18",
          "Epoch 19"
         ],
         "xaxis": "x",
         "y": [
          null,
          null,
          null,
          null,
          null,
          null,
          null,
          null,
          null,
          null,
          null,
          null,
          null,
          null,
          null,
          null,
          null,
          null,
          null,
          null
         ],
         "yaxis": "y"
        }
       ],
       "layout": {
        "legend": {
         "title": {
          "text": "variable"
         },
         "tracegroupgap": 0
        },
        "template": {
         "data": {
          "bar": [
           {
            "error_x": {
             "color": "#2a3f5f"
            },
            "error_y": {
             "color": "#2a3f5f"
            },
            "marker": {
             "line": {
              "color": "#E5ECF6",
              "width": 0.5
             },
             "pattern": {
              "fillmode": "overlay",
              "size": 10,
              "solidity": 0.2
             }
            },
            "type": "bar"
           }
          ],
          "barpolar": [
           {
            "marker": {
             "line": {
              "color": "#E5ECF6",
              "width": 0.5
             },
             "pattern": {
              "fillmode": "overlay",
              "size": 10,
              "solidity": 0.2
             }
            },
            "type": "barpolar"
           }
          ],
          "carpet": [
           {
            "aaxis": {
             "endlinecolor": "#2a3f5f",
             "gridcolor": "white",
             "linecolor": "white",
             "minorgridcolor": "white",
             "startlinecolor": "#2a3f5f"
            },
            "baxis": {
             "endlinecolor": "#2a3f5f",
             "gridcolor": "white",
             "linecolor": "white",
             "minorgridcolor": "white",
             "startlinecolor": "#2a3f5f"
            },
            "type": "carpet"
           }
          ],
          "choropleth": [
           {
            "colorbar": {
             "outlinewidth": 0,
             "ticks": ""
            },
            "type": "choropleth"
           }
          ],
          "contour": [
           {
            "colorbar": {
             "outlinewidth": 0,
             "ticks": ""
            },
            "colorscale": [
             [
              0,
              "#0d0887"
             ],
             [
              0.1111111111111111,
              "#46039f"
             ],
             [
              0.2222222222222222,
              "#7201a8"
             ],
             [
              0.3333333333333333,
              "#9c179e"
             ],
             [
              0.4444444444444444,
              "#bd3786"
             ],
             [
              0.5555555555555556,
              "#d8576b"
             ],
             [
              0.6666666666666666,
              "#ed7953"
             ],
             [
              0.7777777777777778,
              "#fb9f3a"
             ],
             [
              0.8888888888888888,
              "#fdca26"
             ],
             [
              1,
              "#f0f921"
             ]
            ],
            "type": "contour"
           }
          ],
          "contourcarpet": [
           {
            "colorbar": {
             "outlinewidth": 0,
             "ticks": ""
            },
            "type": "contourcarpet"
           }
          ],
          "heatmap": [
           {
            "colorbar": {
             "outlinewidth": 0,
             "ticks": ""
            },
            "colorscale": [
             [
              0,
              "#0d0887"
             ],
             [
              0.1111111111111111,
              "#46039f"
             ],
             [
              0.2222222222222222,
              "#7201a8"
             ],
             [
              0.3333333333333333,
              "#9c179e"
             ],
             [
              0.4444444444444444,
              "#bd3786"
             ],
             [
              0.5555555555555556,
              "#d8576b"
             ],
             [
              0.6666666666666666,
              "#ed7953"
             ],
             [
              0.7777777777777778,
              "#fb9f3a"
             ],
             [
              0.8888888888888888,
              "#fdca26"
             ],
             [
              1,
              "#f0f921"
             ]
            ],
            "type": "heatmap"
           }
          ],
          "heatmapgl": [
           {
            "colorbar": {
             "outlinewidth": 0,
             "ticks": ""
            },
            "colorscale": [
             [
              0,
              "#0d0887"
             ],
             [
              0.1111111111111111,
              "#46039f"
             ],
             [
              0.2222222222222222,
              "#7201a8"
             ],
             [
              0.3333333333333333,
              "#9c179e"
             ],
             [
              0.4444444444444444,
              "#bd3786"
             ],
             [
              0.5555555555555556,
              "#d8576b"
             ],
             [
              0.6666666666666666,
              "#ed7953"
             ],
             [
              0.7777777777777778,
              "#fb9f3a"
             ],
             [
              0.8888888888888888,
              "#fdca26"
             ],
             [
              1,
              "#f0f921"
             ]
            ],
            "type": "heatmapgl"
           }
          ],
          "histogram": [
           {
            "marker": {
             "pattern": {
              "fillmode": "overlay",
              "size": 10,
              "solidity": 0.2
             }
            },
            "type": "histogram"
           }
          ],
          "histogram2d": [
           {
            "colorbar": {
             "outlinewidth": 0,
             "ticks": ""
            },
            "colorscale": [
             [
              0,
              "#0d0887"
             ],
             [
              0.1111111111111111,
              "#46039f"
             ],
             [
              0.2222222222222222,
              "#7201a8"
             ],
             [
              0.3333333333333333,
              "#9c179e"
             ],
             [
              0.4444444444444444,
              "#bd3786"
             ],
             [
              0.5555555555555556,
              "#d8576b"
             ],
             [
              0.6666666666666666,
              "#ed7953"
             ],
             [
              0.7777777777777778,
              "#fb9f3a"
             ],
             [
              0.8888888888888888,
              "#fdca26"
             ],
             [
              1,
              "#f0f921"
             ]
            ],
            "type": "histogram2d"
           }
          ],
          "histogram2dcontour": [
           {
            "colorbar": {
             "outlinewidth": 0,
             "ticks": ""
            },
            "colorscale": [
             [
              0,
              "#0d0887"
             ],
             [
              0.1111111111111111,
              "#46039f"
             ],
             [
              0.2222222222222222,
              "#7201a8"
             ],
             [
              0.3333333333333333,
              "#9c179e"
             ],
             [
              0.4444444444444444,
              "#bd3786"
             ],
             [
              0.5555555555555556,
              "#d8576b"
             ],
             [
              0.6666666666666666,
              "#ed7953"
             ],
             [
              0.7777777777777778,
              "#fb9f3a"
             ],
             [
              0.8888888888888888,
              "#fdca26"
             ],
             [
              1,
              "#f0f921"
             ]
            ],
            "type": "histogram2dcontour"
           }
          ],
          "mesh3d": [
           {
            "colorbar": {
             "outlinewidth": 0,
             "ticks": ""
            },
            "type": "mesh3d"
           }
          ],
          "parcoords": [
           {
            "line": {
             "colorbar": {
              "outlinewidth": 0,
              "ticks": ""
             }
            },
            "type": "parcoords"
           }
          ],
          "pie": [
           {
            "automargin": true,
            "type": "pie"
           }
          ],
          "scatter": [
           {
            "fillpattern": {
             "fillmode": "overlay",
             "size": 10,
             "solidity": 0.2
            },
            "type": "scatter"
           }
          ],
          "scatter3d": [
           {
            "line": {
             "colorbar": {
              "outlinewidth": 0,
              "ticks": ""
             }
            },
            "marker": {
             "colorbar": {
              "outlinewidth": 0,
              "ticks": ""
             }
            },
            "type": "scatter3d"
           }
          ],
          "scattercarpet": [
           {
            "marker": {
             "colorbar": {
              "outlinewidth": 0,
              "ticks": ""
             }
            },
            "type": "scattercarpet"
           }
          ],
          "scattergeo": [
           {
            "marker": {
             "colorbar": {
              "outlinewidth": 0,
              "ticks": ""
             }
            },
            "type": "scattergeo"
           }
          ],
          "scattergl": [
           {
            "marker": {
             "colorbar": {
              "outlinewidth": 0,
              "ticks": ""
             }
            },
            "type": "scattergl"
           }
          ],
          "scattermapbox": [
           {
            "marker": {
             "colorbar": {
              "outlinewidth": 0,
              "ticks": ""
             }
            },
            "type": "scattermapbox"
           }
          ],
          "scatterpolar": [
           {
            "marker": {
             "colorbar": {
              "outlinewidth": 0,
              "ticks": ""
             }
            },
            "type": "scatterpolar"
           }
          ],
          "scatterpolargl": [
           {
            "marker": {
             "colorbar": {
              "outlinewidth": 0,
              "ticks": ""
             }
            },
            "type": "scatterpolargl"
           }
          ],
          "scatterternary": [
           {
            "marker": {
             "colorbar": {
              "outlinewidth": 0,
              "ticks": ""
             }
            },
            "type": "scatterternary"
           }
          ],
          "surface": [
           {
            "colorbar": {
             "outlinewidth": 0,
             "ticks": ""
            },
            "colorscale": [
             [
              0,
              "#0d0887"
             ],
             [
              0.1111111111111111,
              "#46039f"
             ],
             [
              0.2222222222222222,
              "#7201a8"
             ],
             [
              0.3333333333333333,
              "#9c179e"
             ],
             [
              0.4444444444444444,
              "#bd3786"
             ],
             [
              0.5555555555555556,
              "#d8576b"
             ],
             [
              0.6666666666666666,
              "#ed7953"
             ],
             [
              0.7777777777777778,
              "#fb9f3a"
             ],
             [
              0.8888888888888888,
              "#fdca26"
             ],
             [
              1,
              "#f0f921"
             ]
            ],
            "type": "surface"
           }
          ],
          "table": [
           {
            "cells": {
             "fill": {
              "color": "#EBF0F8"
             },
             "line": {
              "color": "white"
             }
            },
            "header": {
             "fill": {
              "color": "#C8D4E3"
             },
             "line": {
              "color": "white"
             }
            },
            "type": "table"
           }
          ]
         },
         "layout": {
          "annotationdefaults": {
           "arrowcolor": "#2a3f5f",
           "arrowhead": 0,
           "arrowwidth": 1
          },
          "autotypenumbers": "strict",
          "coloraxis": {
           "colorbar": {
            "outlinewidth": 0,
            "ticks": ""
           }
          },
          "colorscale": {
           "diverging": [
            [
             0,
             "#8e0152"
            ],
            [
             0.1,
             "#c51b7d"
            ],
            [
             0.2,
             "#de77ae"
            ],
            [
             0.3,
             "#f1b6da"
            ],
            [
             0.4,
             "#fde0ef"
            ],
            [
             0.5,
             "#f7f7f7"
            ],
            [
             0.6,
             "#e6f5d0"
            ],
            [
             0.7,
             "#b8e186"
            ],
            [
             0.8,
             "#7fbc41"
            ],
            [
             0.9,
             "#4d9221"
            ],
            [
             1,
             "#276419"
            ]
           ],
           "sequential": [
            [
             0,
             "#0d0887"
            ],
            [
             0.1111111111111111,
             "#46039f"
            ],
            [
             0.2222222222222222,
             "#7201a8"
            ],
            [
             0.3333333333333333,
             "#9c179e"
            ],
            [
             0.4444444444444444,
             "#bd3786"
            ],
            [
             0.5555555555555556,
             "#d8576b"
            ],
            [
             0.6666666666666666,
             "#ed7953"
            ],
            [
             0.7777777777777778,
             "#fb9f3a"
            ],
            [
             0.8888888888888888,
             "#fdca26"
            ],
            [
             1,
             "#f0f921"
            ]
           ],
           "sequentialminus": [
            [
             0,
             "#0d0887"
            ],
            [
             0.1111111111111111,
             "#46039f"
            ],
            [
             0.2222222222222222,
             "#7201a8"
            ],
            [
             0.3333333333333333,
             "#9c179e"
            ],
            [
             0.4444444444444444,
             "#bd3786"
            ],
            [
             0.5555555555555556,
             "#d8576b"
            ],
            [
             0.6666666666666666,
             "#ed7953"
            ],
            [
             0.7777777777777778,
             "#fb9f3a"
            ],
            [
             0.8888888888888888,
             "#fdca26"
            ],
            [
             1,
             "#f0f921"
            ]
           ]
          },
          "colorway": [
           "#636efa",
           "#EF553B",
           "#00cc96",
           "#ab63fa",
           "#FFA15A",
           "#19d3f3",
           "#FF6692",
           "#B6E880",
           "#FF97FF",
           "#FECB52"
          ],
          "font": {
           "color": "#2a3f5f"
          },
          "geo": {
           "bgcolor": "white",
           "lakecolor": "white",
           "landcolor": "#E5ECF6",
           "showlakes": true,
           "showland": true,
           "subunitcolor": "white"
          },
          "hoverlabel": {
           "align": "left"
          },
          "hovermode": "closest",
          "mapbox": {
           "style": "light"
          },
          "paper_bgcolor": "white",
          "plot_bgcolor": "#E5ECF6",
          "polar": {
           "angularaxis": {
            "gridcolor": "white",
            "linecolor": "white",
            "ticks": ""
           },
           "bgcolor": "#E5ECF6",
           "radialaxis": {
            "gridcolor": "white",
            "linecolor": "white",
            "ticks": ""
           }
          },
          "scene": {
           "xaxis": {
            "backgroundcolor": "#E5ECF6",
            "gridcolor": "white",
            "gridwidth": 2,
            "linecolor": "white",
            "showbackground": true,
            "ticks": "",
            "zerolinecolor": "white"
           },
           "yaxis": {
            "backgroundcolor": "#E5ECF6",
            "gridcolor": "white",
            "gridwidth": 2,
            "linecolor": "white",
            "showbackground": true,
            "ticks": "",
            "zerolinecolor": "white"
           },
           "zaxis": {
            "backgroundcolor": "#E5ECF6",
            "gridcolor": "white",
            "gridwidth": 2,
            "linecolor": "white",
            "showbackground": true,
            "ticks": "",
            "zerolinecolor": "white"
           }
          },
          "shapedefaults": {
           "line": {
            "color": "#2a3f5f"
           }
          },
          "ternary": {
           "aaxis": {
            "gridcolor": "white",
            "linecolor": "white",
            "ticks": ""
           },
           "baxis": {
            "gridcolor": "white",
            "linecolor": "white",
            "ticks": ""
           },
           "bgcolor": "#E5ECF6",
           "caxis": {
            "gridcolor": "white",
            "linecolor": "white",
            "ticks": ""
           }
          },
          "title": {
           "x": 0.05
          },
          "xaxis": {
           "automargin": true,
           "gridcolor": "white",
           "linecolor": "white",
           "ticks": "",
           "title": {
            "standoff": 15
           },
           "zerolinecolor": "white",
           "zerolinewidth": 2
          },
          "yaxis": {
           "automargin": true,
           "gridcolor": "white",
           "linecolor": "white",
           "ticks": "",
           "title": {
            "standoff": 15
           },
           "zerolinecolor": "white",
           "zerolinewidth": 2
          }
         }
        },
        "title": {
         "text": "Free evolution of the weights for subject soggetto_6"
        },
        "xaxis": {
         "anchor": "y",
         "domain": [
          0,
          1
         ],
         "title": {
          "text": "index"
         }
        },
        "yaxis": {
         "anchor": "x",
         "domain": [
          0,
          1
         ],
         "title": {
          "text": "value"
         }
        }
       }
      }
     },
     "metadata": {},
     "output_type": "display_data"
    },
    {
     "data": {
      "application/vnd.plotly.v1+json": {
       "config": {
        "plotlyServerURL": "https://plot.ly"
       },
       "data": [
        {
         "hovertemplate": "variable=TrRi<br>index=%{x}<br>value=%{y}<extra></extra>",
         "legendgroup": "TrRi",
         "line": {
          "color": "#636efa",
          "dash": "solid"
         },
         "marker": {
          "symbol": "circle"
         },
         "mode": "lines",
         "name": "TrRi",
         "orientation": "v",
         "showlegend": true,
         "type": "scatter",
         "x": [
          "Epoch 0",
          "Epoch 1",
          "Epoch 2",
          "Epoch 3",
          "Epoch 4",
          "Epoch 5",
          "Epoch 6",
          "Epoch 7",
          "Epoch 8",
          "Epoch 9",
          "Epoch 10",
          "Epoch 11",
          "Epoch 12",
          "Epoch 13",
          "Epoch 14",
          "Epoch 15",
          "Epoch 16",
          "Epoch 17",
          "Epoch 18",
          "Epoch 19"
         ],
         "xaxis": "x",
         "y": [
          null,
          null,
          null,
          null,
          null,
          null,
          null,
          null,
          null,
          null,
          null,
          null,
          null,
          null,
          null,
          null,
          null,
          null,
          null,
          null
         ],
         "yaxis": "y"
        },
        {
         "hovertemplate": "variable=RiTr<br>index=%{x}<br>value=%{y}<extra></extra>",
         "legendgroup": "RiTr",
         "line": {
          "color": "#EF553B",
          "dash": "solid"
         },
         "marker": {
          "symbol": "circle"
         },
         "mode": "lines",
         "name": "RiTr",
         "orientation": "v",
         "showlegend": true,
         "type": "scatter",
         "x": [
          "Epoch 0",
          "Epoch 1",
          "Epoch 2",
          "Epoch 3",
          "Epoch 4",
          "Epoch 5",
          "Epoch 6",
          "Epoch 7",
          "Epoch 8",
          "Epoch 9",
          "Epoch 10",
          "Epoch 11",
          "Epoch 12",
          "Epoch 13",
          "Epoch 14",
          "Epoch 15",
          "Epoch 16",
          "Epoch 17",
          "Epoch 18",
          "Epoch 19"
         ],
         "xaxis": "x",
         "y": [
          null,
          null,
          null,
          null,
          null,
          null,
          null,
          null,
          null,
          null,
          null,
          null,
          null,
          null,
          null,
          null,
          null,
          null,
          null,
          null
         ],
         "yaxis": "y"
        },
        {
         "hovertemplate": "variable=Plu<br>index=%{x}<br>value=%{y}<extra></extra>",
         "legendgroup": "Plu",
         "line": {
          "color": "#00cc96",
          "dash": "solid"
         },
         "marker": {
          "symbol": "circle"
         },
         "mode": "lines",
         "name": "Plu",
         "orientation": "v",
         "showlegend": true,
         "type": "scatter",
         "x": [
          "Epoch 0",
          "Epoch 1",
          "Epoch 2",
          "Epoch 3",
          "Epoch 4",
          "Epoch 5",
          "Epoch 6",
          "Epoch 7",
          "Epoch 8",
          "Epoch 9",
          "Epoch 10",
          "Epoch 11",
          "Epoch 12",
          "Epoch 13",
          "Epoch 14",
          "Epoch 15",
          "Epoch 16",
          "Epoch 17",
          "Epoch 18",
          "Epoch 19"
         ],
         "xaxis": "x",
         "y": [
          null,
          null,
          null,
          null,
          null,
          null,
          null,
          null,
          null,
          null,
          null,
          null,
          null,
          null,
          null,
          null,
          null,
          null,
          null,
          null
         ],
         "yaxis": "y"
        },
        {
         "hovertemplate": "variable=Ttra<br>index=%{x}<br>value=%{y}<extra></extra>",
         "legendgroup": "Ttra",
         "line": {
          "color": "#ab63fa",
          "dash": "solid"
         },
         "marker": {
          "symbol": "circle"
         },
         "mode": "lines",
         "name": "Ttra",
         "orientation": "v",
         "showlegend": true,
         "type": "scatter",
         "x": [
          "Epoch 0",
          "Epoch 1",
          "Epoch 2",
          "Epoch 3",
          "Epoch 4",
          "Epoch 5",
          "Epoch 6",
          "Epoch 7",
          "Epoch 8",
          "Epoch 9",
          "Epoch 10",
          "Epoch 11",
          "Epoch 12",
          "Epoch 13",
          "Epoch 14",
          "Epoch 15",
          "Epoch 16",
          "Epoch 17",
          "Epoch 18",
          "Epoch 19"
         ],
         "xaxis": "x",
         "y": [
          null,
          null,
          null,
          null,
          null,
          null,
          null,
          null,
          null,
          null,
          null,
          null,
          null,
          null,
          null,
          null,
          null,
          null,
          null,
          null
         ],
         "yaxis": "y"
        },
        {
         "hovertemplate": "variable=Ttrb<br>index=%{x}<br>value=%{y}<extra></extra>",
         "legendgroup": "Ttrb",
         "line": {
          "color": "#FFA15A",
          "dash": "solid"
         },
         "marker": {
          "symbol": "circle"
         },
         "mode": "lines",
         "name": "Ttrb",
         "orientation": "v",
         "showlegend": true,
         "type": "scatter",
         "x": [
          "Epoch 0",
          "Epoch 1",
          "Epoch 2",
          "Epoch 3",
          "Epoch 4",
          "Epoch 5",
          "Epoch 6",
          "Epoch 7",
          "Epoch 8",
          "Epoch 9",
          "Epoch 10",
          "Epoch 11",
          "Epoch 12",
          "Epoch 13",
          "Epoch 14",
          "Epoch 15",
          "Epoch 16",
          "Epoch 17",
          "Epoch 18",
          "Epoch 19"
         ],
         "xaxis": "x",
         "y": [
          null,
          null,
          null,
          null,
          null,
          null,
          null,
          null,
          null,
          null,
          null,
          null,
          null,
          null,
          null,
          null,
          null,
          null,
          null,
          null
         ],
         "yaxis": "y"
        },
        {
         "hovertemplate": "variable=Tr<br>index=%{x}<br>value=%{y}<extra></extra>",
         "legendgroup": "Tr",
         "line": {
          "color": "#19d3f3",
          "dash": "solid"
         },
         "marker": {
          "symbol": "circle"
         },
         "mode": "lines",
         "name": "Tr",
         "orientation": "v",
         "showlegend": true,
         "type": "scatter",
         "x": [
          "Epoch 0",
          "Epoch 1",
          "Epoch 2",
          "Epoch 3",
          "Epoch 4",
          "Epoch 5",
          "Epoch 6",
          "Epoch 7",
          "Epoch 8",
          "Epoch 9",
          "Epoch 10",
          "Epoch 11",
          "Epoch 12",
          "Epoch 13",
          "Epoch 14",
          "Epoch 15",
          "Epoch 16",
          "Epoch 17",
          "Epoch 18",
          "Epoch 19"
         ],
         "xaxis": "x",
         "y": [
          null,
          null,
          null,
          null,
          null,
          null,
          null,
          null,
          null,
          null,
          null,
          null,
          null,
          null,
          null,
          null,
          null,
          null,
          null,
          null
         ],
         "yaxis": "y"
        },
        {
         "hovertemplate": "variable=MeTr<br>index=%{x}<br>value=%{y}<extra></extra>",
         "legendgroup": "MeTr",
         "line": {
          "color": "#FF6692",
          "dash": "solid"
         },
         "marker": {
          "symbol": "circle"
         },
         "mode": "lines",
         "name": "MeTr",
         "orientation": "v",
         "showlegend": true,
         "type": "scatter",
         "x": [
          "Epoch 0",
          "Epoch 1",
          "Epoch 2",
          "Epoch 3",
          "Epoch 4",
          "Epoch 5",
          "Epoch 6",
          "Epoch 7",
          "Epoch 8",
          "Epoch 9",
          "Epoch 10",
          "Epoch 11",
          "Epoch 12",
          "Epoch 13",
          "Epoch 14",
          "Epoch 15",
          "Epoch 16",
          "Epoch 17",
          "Epoch 18",
          "Epoch 19"
         ],
         "xaxis": "x",
         "y": [
          null,
          null,
          null,
          null,
          null,
          null,
          null,
          null,
          null,
          null,
          null,
          null,
          null,
          null,
          null,
          null,
          null,
          null,
          null,
          null
         ],
         "yaxis": "y"
        },
        {
         "hovertemplate": "variable=MoTr<br>index=%{x}<br>value=%{y}<extra></extra>",
         "legendgroup": "MoTr",
         "line": {
          "color": "#B6E880",
          "dash": "solid"
         },
         "marker": {
          "symbol": "circle"
         },
         "mode": "lines",
         "name": "MoTr",
         "orientation": "v",
         "showlegend": true,
         "type": "scatter",
         "x": [
          "Epoch 0",
          "Epoch 1",
          "Epoch 2",
          "Epoch 3",
          "Epoch 4",
          "Epoch 5",
          "Epoch 6",
          "Epoch 7",
          "Epoch 8",
          "Epoch 9",
          "Epoch 10",
          "Epoch 11",
          "Epoch 12",
          "Epoch 13",
          "Epoch 14",
          "Epoch 15",
          "Epoch 16",
          "Epoch 17",
          "Epoch 18",
          "Epoch 19"
         ],
         "xaxis": "x",
         "y": [
          null,
          null,
          null,
          null,
          null,
          null,
          null,
          null,
          null,
          null,
          null,
          null,
          null,
          null,
          null,
          null,
          null,
          null,
          null,
          null
         ],
         "yaxis": "y"
        },
        {
         "hovertemplate": "variable=RiRi<br>index=%{x}<br>value=%{y}<extra></extra>",
         "legendgroup": "RiRi",
         "line": {
          "color": "#FF97FF",
          "dash": "solid"
         },
         "marker": {
          "symbol": "circle"
         },
         "mode": "lines",
         "name": "RiRi",
         "orientation": "v",
         "showlegend": true,
         "type": "scatter",
         "x": [
          "Epoch 0",
          "Epoch 1",
          "Epoch 2",
          "Epoch 3",
          "Epoch 4",
          "Epoch 5",
          "Epoch 6",
          "Epoch 7",
          "Epoch 8",
          "Epoch 9",
          "Epoch 10",
          "Epoch 11",
          "Epoch 12",
          "Epoch 13",
          "Epoch 14",
          "Epoch 15",
          "Epoch 16",
          "Epoch 17",
          "Epoch 18",
          "Epoch 19"
         ],
         "xaxis": "x",
         "y": [
          null,
          null,
          null,
          null,
          null,
          null,
          null,
          null,
          null,
          null,
          null,
          null,
          null,
          null,
          null,
          null,
          null,
          null,
          null,
          null
         ],
         "yaxis": "y"
        },
        {
         "hovertemplate": "variable=MoFo<br>index=%{x}<br>value=%{y}<extra></extra>",
         "legendgroup": "MoFo",
         "line": {
          "color": "#FECB52",
          "dash": "solid"
         },
         "marker": {
          "symbol": "circle"
         },
         "mode": "lines",
         "name": "MoFo",
         "orientation": "v",
         "showlegend": true,
         "type": "scatter",
         "x": [
          "Epoch 0",
          "Epoch 1",
          "Epoch 2",
          "Epoch 3",
          "Epoch 4",
          "Epoch 5",
          "Epoch 6",
          "Epoch 7",
          "Epoch 8",
          "Epoch 9",
          "Epoch 10",
          "Epoch 11",
          "Epoch 12",
          "Epoch 13",
          "Epoch 14",
          "Epoch 15",
          "Epoch 16",
          "Epoch 17",
          "Epoch 18",
          "Epoch 19"
         ],
         "xaxis": "x",
         "y": [
          null,
          null,
          null,
          null,
          null,
          null,
          null,
          null,
          null,
          null,
          null,
          null,
          null,
          null,
          null,
          null,
          null,
          null,
          null,
          null
         ],
         "yaxis": "y"
        },
        {
         "hovertemplate": "variable=Mmof<br>index=%{x}<br>value=%{y}<extra></extra>",
         "legendgroup": "Mmof",
         "line": {
          "color": "#636efa",
          "dash": "solid"
         },
         "marker": {
          "symbol": "circle"
         },
         "mode": "lines",
         "name": "Mmof",
         "orientation": "v",
         "showlegend": true,
         "type": "scatter",
         "x": [
          "Epoch 0",
          "Epoch 1",
          "Epoch 2",
          "Epoch 3",
          "Epoch 4",
          "Epoch 5",
          "Epoch 6",
          "Epoch 7",
          "Epoch 8",
          "Epoch 9",
          "Epoch 10",
          "Epoch 11",
          "Epoch 12",
          "Epoch 13",
          "Epoch 14",
          "Epoch 15",
          "Epoch 16",
          "Epoch 17",
          "Epoch 18",
          "Epoch 19"
         ],
         "xaxis": "x",
         "y": [
          null,
          null,
          null,
          null,
          null,
          null,
          null,
          null,
          null,
          null,
          null,
          null,
          null,
          null,
          null,
          null,
          null,
          null,
          null,
          null
         ],
         "yaxis": "y"
        },
        {
         "hovertemplate": "variable=MoRi<br>index=%{x}<br>value=%{y}<extra></extra>",
         "legendgroup": "MoRi",
         "line": {
          "color": "#EF553B",
          "dash": "solid"
         },
         "marker": {
          "symbol": "circle"
         },
         "mode": "lines",
         "name": "MoRi",
         "orientation": "v",
         "showlegend": true,
         "type": "scatter",
         "x": [
          "Epoch 0",
          "Epoch 1",
          "Epoch 2",
          "Epoch 3",
          "Epoch 4",
          "Epoch 5",
          "Epoch 6",
          "Epoch 7",
          "Epoch 8",
          "Epoch 9",
          "Epoch 10",
          "Epoch 11",
          "Epoch 12",
          "Epoch 13",
          "Epoch 14",
          "Epoch 15",
          "Epoch 16",
          "Epoch 17",
          "Epoch 18",
          "Epoch 19"
         ],
         "xaxis": "x",
         "y": [
          null,
          null,
          null,
          null,
          null,
          null,
          null,
          null,
          null,
          null,
          null,
          null,
          null,
          null,
          null,
          null,
          null,
          null,
          null,
          null
         ],
         "yaxis": "y"
        },
        {
         "hovertemplate": "variable=MeRi<br>index=%{x}<br>value=%{y}<extra></extra>",
         "legendgroup": "MeRi",
         "line": {
          "color": "#00cc96",
          "dash": "solid"
         },
         "marker": {
          "symbol": "circle"
         },
         "mode": "lines",
         "name": "MeRi",
         "orientation": "v",
         "showlegend": true,
         "type": "scatter",
         "x": [
          "Epoch 0",
          "Epoch 1",
          "Epoch 2",
          "Epoch 3",
          "Epoch 4",
          "Epoch 5",
          "Epoch 6",
          "Epoch 7",
          "Epoch 8",
          "Epoch 9",
          "Epoch 10",
          "Epoch 11",
          "Epoch 12",
          "Epoch 13",
          "Epoch 14",
          "Epoch 15",
          "Epoch 16",
          "Epoch 17",
          "Epoch 18",
          "Epoch 19"
         ],
         "xaxis": "x",
         "y": [
          null,
          null,
          null,
          null,
          null,
          null,
          null,
          null,
          null,
          null,
          null,
          null,
          null,
          null,
          null,
          null,
          null,
          null,
          null,
          null
         ],
         "yaxis": "y"
        },
        {
         "hovertemplate": "variable=Ri<br>index=%{x}<br>value=%{y}<extra></extra>",
         "legendgroup": "Ri",
         "line": {
          "color": "#ab63fa",
          "dash": "solid"
         },
         "marker": {
          "symbol": "circle"
         },
         "mode": "lines",
         "name": "Ri",
         "orientation": "v",
         "showlegend": true,
         "type": "scatter",
         "x": [
          "Epoch 0",
          "Epoch 1",
          "Epoch 2",
          "Epoch 3",
          "Epoch 4",
          "Epoch 5",
          "Epoch 6",
          "Epoch 7",
          "Epoch 8",
          "Epoch 9",
          "Epoch 10",
          "Epoch 11",
          "Epoch 12",
          "Epoch 13",
          "Epoch 14",
          "Epoch 15",
          "Epoch 16",
          "Epoch 17",
          "Epoch 18",
          "Epoch 19"
         ],
         "xaxis": "x",
         "y": [
          null,
          null,
          null,
          null,
          null,
          null,
          null,
          null,
          null,
          null,
          null,
          null,
          null,
          null,
          null,
          null,
          null,
          null,
          null,
          null
         ],
         "yaxis": "y"
        },
        {
         "hovertemplate": "variable=Comp<br>index=%{x}<br>value=%{y}<extra></extra>",
         "legendgroup": "Comp",
         "line": {
          "color": "#FFA15A",
          "dash": "solid"
         },
         "marker": {
          "symbol": "circle"
         },
         "mode": "lines",
         "name": "Comp",
         "orientation": "v",
         "showlegend": true,
         "type": "scatter",
         "x": [
          "Epoch 0",
          "Epoch 1",
          "Epoch 2",
          "Epoch 3",
          "Epoch 4",
          "Epoch 5",
          "Epoch 6",
          "Epoch 7",
          "Epoch 8",
          "Epoch 9",
          "Epoch 10",
          "Epoch 11",
          "Epoch 12",
          "Epoch 13",
          "Epoch 14",
          "Epoch 15",
          "Epoch 16",
          "Epoch 17",
          "Epoch 18",
          "Epoch 19"
         ],
         "xaxis": "x",
         "y": [
          null,
          null,
          null,
          null,
          null,
          null,
          null,
          null,
          null,
          null,
          null,
          null,
          null,
          null,
          null,
          null,
          null,
          null,
          null,
          null
         ],
         "yaxis": "y"
        }
       ],
       "layout": {
        "legend": {
         "title": {
          "text": "variable"
         },
         "tracegroupgap": 0
        },
        "template": {
         "data": {
          "bar": [
           {
            "error_x": {
             "color": "#2a3f5f"
            },
            "error_y": {
             "color": "#2a3f5f"
            },
            "marker": {
             "line": {
              "color": "#E5ECF6",
              "width": 0.5
             },
             "pattern": {
              "fillmode": "overlay",
              "size": 10,
              "solidity": 0.2
             }
            },
            "type": "bar"
           }
          ],
          "barpolar": [
           {
            "marker": {
             "line": {
              "color": "#E5ECF6",
              "width": 0.5
             },
             "pattern": {
              "fillmode": "overlay",
              "size": 10,
              "solidity": 0.2
             }
            },
            "type": "barpolar"
           }
          ],
          "carpet": [
           {
            "aaxis": {
             "endlinecolor": "#2a3f5f",
             "gridcolor": "white",
             "linecolor": "white",
             "minorgridcolor": "white",
             "startlinecolor": "#2a3f5f"
            },
            "baxis": {
             "endlinecolor": "#2a3f5f",
             "gridcolor": "white",
             "linecolor": "white",
             "minorgridcolor": "white",
             "startlinecolor": "#2a3f5f"
            },
            "type": "carpet"
           }
          ],
          "choropleth": [
           {
            "colorbar": {
             "outlinewidth": 0,
             "ticks": ""
            },
            "type": "choropleth"
           }
          ],
          "contour": [
           {
            "colorbar": {
             "outlinewidth": 0,
             "ticks": ""
            },
            "colorscale": [
             [
              0,
              "#0d0887"
             ],
             [
              0.1111111111111111,
              "#46039f"
             ],
             [
              0.2222222222222222,
              "#7201a8"
             ],
             [
              0.3333333333333333,
              "#9c179e"
             ],
             [
              0.4444444444444444,
              "#bd3786"
             ],
             [
              0.5555555555555556,
              "#d8576b"
             ],
             [
              0.6666666666666666,
              "#ed7953"
             ],
             [
              0.7777777777777778,
              "#fb9f3a"
             ],
             [
              0.8888888888888888,
              "#fdca26"
             ],
             [
              1,
              "#f0f921"
             ]
            ],
            "type": "contour"
           }
          ],
          "contourcarpet": [
           {
            "colorbar": {
             "outlinewidth": 0,
             "ticks": ""
            },
            "type": "contourcarpet"
           }
          ],
          "heatmap": [
           {
            "colorbar": {
             "outlinewidth": 0,
             "ticks": ""
            },
            "colorscale": [
             [
              0,
              "#0d0887"
             ],
             [
              0.1111111111111111,
              "#46039f"
             ],
             [
              0.2222222222222222,
              "#7201a8"
             ],
             [
              0.3333333333333333,
              "#9c179e"
             ],
             [
              0.4444444444444444,
              "#bd3786"
             ],
             [
              0.5555555555555556,
              "#d8576b"
             ],
             [
              0.6666666666666666,
              "#ed7953"
             ],
             [
              0.7777777777777778,
              "#fb9f3a"
             ],
             [
              0.8888888888888888,
              "#fdca26"
             ],
             [
              1,
              "#f0f921"
             ]
            ],
            "type": "heatmap"
           }
          ],
          "heatmapgl": [
           {
            "colorbar": {
             "outlinewidth": 0,
             "ticks": ""
            },
            "colorscale": [
             [
              0,
              "#0d0887"
             ],
             [
              0.1111111111111111,
              "#46039f"
             ],
             [
              0.2222222222222222,
              "#7201a8"
             ],
             [
              0.3333333333333333,
              "#9c179e"
             ],
             [
              0.4444444444444444,
              "#bd3786"
             ],
             [
              0.5555555555555556,
              "#d8576b"
             ],
             [
              0.6666666666666666,
              "#ed7953"
             ],
             [
              0.7777777777777778,
              "#fb9f3a"
             ],
             [
              0.8888888888888888,
              "#fdca26"
             ],
             [
              1,
              "#f0f921"
             ]
            ],
            "type": "heatmapgl"
           }
          ],
          "histogram": [
           {
            "marker": {
             "pattern": {
              "fillmode": "overlay",
              "size": 10,
              "solidity": 0.2
             }
            },
            "type": "histogram"
           }
          ],
          "histogram2d": [
           {
            "colorbar": {
             "outlinewidth": 0,
             "ticks": ""
            },
            "colorscale": [
             [
              0,
              "#0d0887"
             ],
             [
              0.1111111111111111,
              "#46039f"
             ],
             [
              0.2222222222222222,
              "#7201a8"
             ],
             [
              0.3333333333333333,
              "#9c179e"
             ],
             [
              0.4444444444444444,
              "#bd3786"
             ],
             [
              0.5555555555555556,
              "#d8576b"
             ],
             [
              0.6666666666666666,
              "#ed7953"
             ],
             [
              0.7777777777777778,
              "#fb9f3a"
             ],
             [
              0.8888888888888888,
              "#fdca26"
             ],
             [
              1,
              "#f0f921"
             ]
            ],
            "type": "histogram2d"
           }
          ],
          "histogram2dcontour": [
           {
            "colorbar": {
             "outlinewidth": 0,
             "ticks": ""
            },
            "colorscale": [
             [
              0,
              "#0d0887"
             ],
             [
              0.1111111111111111,
              "#46039f"
             ],
             [
              0.2222222222222222,
              "#7201a8"
             ],
             [
              0.3333333333333333,
              "#9c179e"
             ],
             [
              0.4444444444444444,
              "#bd3786"
             ],
             [
              0.5555555555555556,
              "#d8576b"
             ],
             [
              0.6666666666666666,
              "#ed7953"
             ],
             [
              0.7777777777777778,
              "#fb9f3a"
             ],
             [
              0.8888888888888888,
              "#fdca26"
             ],
             [
              1,
              "#f0f921"
             ]
            ],
            "type": "histogram2dcontour"
           }
          ],
          "mesh3d": [
           {
            "colorbar": {
             "outlinewidth": 0,
             "ticks": ""
            },
            "type": "mesh3d"
           }
          ],
          "parcoords": [
           {
            "line": {
             "colorbar": {
              "outlinewidth": 0,
              "ticks": ""
             }
            },
            "type": "parcoords"
           }
          ],
          "pie": [
           {
            "automargin": true,
            "type": "pie"
           }
          ],
          "scatter": [
           {
            "fillpattern": {
             "fillmode": "overlay",
             "size": 10,
             "solidity": 0.2
            },
            "type": "scatter"
           }
          ],
          "scatter3d": [
           {
            "line": {
             "colorbar": {
              "outlinewidth": 0,
              "ticks": ""
             }
            },
            "marker": {
             "colorbar": {
              "outlinewidth": 0,
              "ticks": ""
             }
            },
            "type": "scatter3d"
           }
          ],
          "scattercarpet": [
           {
            "marker": {
             "colorbar": {
              "outlinewidth": 0,
              "ticks": ""
             }
            },
            "type": "scattercarpet"
           }
          ],
          "scattergeo": [
           {
            "marker": {
             "colorbar": {
              "outlinewidth": 0,
              "ticks": ""
             }
            },
            "type": "scattergeo"
           }
          ],
          "scattergl": [
           {
            "marker": {
             "colorbar": {
              "outlinewidth": 0,
              "ticks": ""
             }
            },
            "type": "scattergl"
           }
          ],
          "scattermapbox": [
           {
            "marker": {
             "colorbar": {
              "outlinewidth": 0,
              "ticks": ""
             }
            },
            "type": "scattermapbox"
           }
          ],
          "scatterpolar": [
           {
            "marker": {
             "colorbar": {
              "outlinewidth": 0,
              "ticks": ""
             }
            },
            "type": "scatterpolar"
           }
          ],
          "scatterpolargl": [
           {
            "marker": {
             "colorbar": {
              "outlinewidth": 0,
              "ticks": ""
             }
            },
            "type": "scatterpolargl"
           }
          ],
          "scatterternary": [
           {
            "marker": {
             "colorbar": {
              "outlinewidth": 0,
              "ticks": ""
             }
            },
            "type": "scatterternary"
           }
          ],
          "surface": [
           {
            "colorbar": {
             "outlinewidth": 0,
             "ticks": ""
            },
            "colorscale": [
             [
              0,
              "#0d0887"
             ],
             [
              0.1111111111111111,
              "#46039f"
             ],
             [
              0.2222222222222222,
              "#7201a8"
             ],
             [
              0.3333333333333333,
              "#9c179e"
             ],
             [
              0.4444444444444444,
              "#bd3786"
             ],
             [
              0.5555555555555556,
              "#d8576b"
             ],
             [
              0.6666666666666666,
              "#ed7953"
             ],
             [
              0.7777777777777778,
              "#fb9f3a"
             ],
             [
              0.8888888888888888,
              "#fdca26"
             ],
             [
              1,
              "#f0f921"
             ]
            ],
            "type": "surface"
           }
          ],
          "table": [
           {
            "cells": {
             "fill": {
              "color": "#EBF0F8"
             },
             "line": {
              "color": "white"
             }
            },
            "header": {
             "fill": {
              "color": "#C8D4E3"
             },
             "line": {
              "color": "white"
             }
            },
            "type": "table"
           }
          ]
         },
         "layout": {
          "annotationdefaults": {
           "arrowcolor": "#2a3f5f",
           "arrowhead": 0,
           "arrowwidth": 1
          },
          "autotypenumbers": "strict",
          "coloraxis": {
           "colorbar": {
            "outlinewidth": 0,
            "ticks": ""
           }
          },
          "colorscale": {
           "diverging": [
            [
             0,
             "#8e0152"
            ],
            [
             0.1,
             "#c51b7d"
            ],
            [
             0.2,
             "#de77ae"
            ],
            [
             0.3,
             "#f1b6da"
            ],
            [
             0.4,
             "#fde0ef"
            ],
            [
             0.5,
             "#f7f7f7"
            ],
            [
             0.6,
             "#e6f5d0"
            ],
            [
             0.7,
             "#b8e186"
            ],
            [
             0.8,
             "#7fbc41"
            ],
            [
             0.9,
             "#4d9221"
            ],
            [
             1,
             "#276419"
            ]
           ],
           "sequential": [
            [
             0,
             "#0d0887"
            ],
            [
             0.1111111111111111,
             "#46039f"
            ],
            [
             0.2222222222222222,
             "#7201a8"
            ],
            [
             0.3333333333333333,
             "#9c179e"
            ],
            [
             0.4444444444444444,
             "#bd3786"
            ],
            [
             0.5555555555555556,
             "#d8576b"
            ],
            [
             0.6666666666666666,
             "#ed7953"
            ],
            [
             0.7777777777777778,
             "#fb9f3a"
            ],
            [
             0.8888888888888888,
             "#fdca26"
            ],
            [
             1,
             "#f0f921"
            ]
           ],
           "sequentialminus": [
            [
             0,
             "#0d0887"
            ],
            [
             0.1111111111111111,
             "#46039f"
            ],
            [
             0.2222222222222222,
             "#7201a8"
            ],
            [
             0.3333333333333333,
             "#9c179e"
            ],
            [
             0.4444444444444444,
             "#bd3786"
            ],
            [
             0.5555555555555556,
             "#d8576b"
            ],
            [
             0.6666666666666666,
             "#ed7953"
            ],
            [
             0.7777777777777778,
             "#fb9f3a"
            ],
            [
             0.8888888888888888,
             "#fdca26"
            ],
            [
             1,
             "#f0f921"
            ]
           ]
          },
          "colorway": [
           "#636efa",
           "#EF553B",
           "#00cc96",
           "#ab63fa",
           "#FFA15A",
           "#19d3f3",
           "#FF6692",
           "#B6E880",
           "#FF97FF",
           "#FECB52"
          ],
          "font": {
           "color": "#2a3f5f"
          },
          "geo": {
           "bgcolor": "white",
           "lakecolor": "white",
           "landcolor": "#E5ECF6",
           "showlakes": true,
           "showland": true,
           "subunitcolor": "white"
          },
          "hoverlabel": {
           "align": "left"
          },
          "hovermode": "closest",
          "mapbox": {
           "style": "light"
          },
          "paper_bgcolor": "white",
          "plot_bgcolor": "#E5ECF6",
          "polar": {
           "angularaxis": {
            "gridcolor": "white",
            "linecolor": "white",
            "ticks": ""
           },
           "bgcolor": "#E5ECF6",
           "radialaxis": {
            "gridcolor": "white",
            "linecolor": "white",
            "ticks": ""
           }
          },
          "scene": {
           "xaxis": {
            "backgroundcolor": "#E5ECF6",
            "gridcolor": "white",
            "gridwidth": 2,
            "linecolor": "white",
            "showbackground": true,
            "ticks": "",
            "zerolinecolor": "white"
           },
           "yaxis": {
            "backgroundcolor": "#E5ECF6",
            "gridcolor": "white",
            "gridwidth": 2,
            "linecolor": "white",
            "showbackground": true,
            "ticks": "",
            "zerolinecolor": "white"
           },
           "zaxis": {
            "backgroundcolor": "#E5ECF6",
            "gridcolor": "white",
            "gridwidth": 2,
            "linecolor": "white",
            "showbackground": true,
            "ticks": "",
            "zerolinecolor": "white"
           }
          },
          "shapedefaults": {
           "line": {
            "color": "#2a3f5f"
           }
          },
          "ternary": {
           "aaxis": {
            "gridcolor": "white",
            "linecolor": "white",
            "ticks": ""
           },
           "baxis": {
            "gridcolor": "white",
            "linecolor": "white",
            "ticks": ""
           },
           "bgcolor": "#E5ECF6",
           "caxis": {
            "gridcolor": "white",
            "linecolor": "white",
            "ticks": ""
           }
          },
          "title": {
           "x": 0.05
          },
          "xaxis": {
           "automargin": true,
           "gridcolor": "white",
           "linecolor": "white",
           "ticks": "",
           "title": {
            "standoff": 15
           },
           "zerolinecolor": "white",
           "zerolinewidth": 2
          },
          "yaxis": {
           "automargin": true,
           "gridcolor": "white",
           "linecolor": "white",
           "ticks": "",
           "title": {
            "standoff": 15
           },
           "zerolinecolor": "white",
           "zerolinewidth": 2
          }
         }
        },
        "title": {
         "text": "Free evolution of the weights for subject soggetto_7"
        },
        "xaxis": {
         "anchor": "y",
         "domain": [
          0,
          1
         ],
         "title": {
          "text": "index"
         }
        },
        "yaxis": {
         "anchor": "x",
         "domain": [
          0,
          1
         ],
         "title": {
          "text": "value"
         }
        }
       }
      }
     },
     "metadata": {},
     "output_type": "display_data"
    },
    {
     "data": {
      "application/vnd.plotly.v1+json": {
       "config": {
        "plotlyServerURL": "https://plot.ly"
       },
       "data": [
        {
         "hovertemplate": "variable=TrRi<br>index=%{x}<br>value=%{y}<extra></extra>",
         "legendgroup": "TrRi",
         "line": {
          "color": "#636efa",
          "dash": "solid"
         },
         "marker": {
          "symbol": "circle"
         },
         "mode": "lines",
         "name": "TrRi",
         "orientation": "v",
         "showlegend": true,
         "type": "scatter",
         "x": [
          "Epoch 0",
          "Epoch 1",
          "Epoch 2",
          "Epoch 3",
          "Epoch 4",
          "Epoch 5",
          "Epoch 6",
          "Epoch 7",
          "Epoch 8",
          "Epoch 9",
          "Epoch 10",
          "Epoch 11",
          "Epoch 12",
          "Epoch 13",
          "Epoch 14",
          "Epoch 15",
          "Epoch 16",
          "Epoch 17",
          "Epoch 18",
          "Epoch 19"
         ],
         "xaxis": "x",
         "y": [
          null,
          null,
          null,
          null,
          null,
          null,
          null,
          null,
          null,
          null,
          null,
          null,
          null,
          null,
          null,
          null,
          null,
          null,
          null,
          null
         ],
         "yaxis": "y"
        },
        {
         "hovertemplate": "variable=RiTr<br>index=%{x}<br>value=%{y}<extra></extra>",
         "legendgroup": "RiTr",
         "line": {
          "color": "#EF553B",
          "dash": "solid"
         },
         "marker": {
          "symbol": "circle"
         },
         "mode": "lines",
         "name": "RiTr",
         "orientation": "v",
         "showlegend": true,
         "type": "scatter",
         "x": [
          "Epoch 0",
          "Epoch 1",
          "Epoch 2",
          "Epoch 3",
          "Epoch 4",
          "Epoch 5",
          "Epoch 6",
          "Epoch 7",
          "Epoch 8",
          "Epoch 9",
          "Epoch 10",
          "Epoch 11",
          "Epoch 12",
          "Epoch 13",
          "Epoch 14",
          "Epoch 15",
          "Epoch 16",
          "Epoch 17",
          "Epoch 18",
          "Epoch 19"
         ],
         "xaxis": "x",
         "y": [
          null,
          null,
          null,
          null,
          null,
          null,
          null,
          null,
          null,
          null,
          null,
          null,
          null,
          null,
          null,
          null,
          null,
          null,
          null,
          null
         ],
         "yaxis": "y"
        },
        {
         "hovertemplate": "variable=Plu<br>index=%{x}<br>value=%{y}<extra></extra>",
         "legendgroup": "Plu",
         "line": {
          "color": "#00cc96",
          "dash": "solid"
         },
         "marker": {
          "symbol": "circle"
         },
         "mode": "lines",
         "name": "Plu",
         "orientation": "v",
         "showlegend": true,
         "type": "scatter",
         "x": [
          "Epoch 0",
          "Epoch 1",
          "Epoch 2",
          "Epoch 3",
          "Epoch 4",
          "Epoch 5",
          "Epoch 6",
          "Epoch 7",
          "Epoch 8",
          "Epoch 9",
          "Epoch 10",
          "Epoch 11",
          "Epoch 12",
          "Epoch 13",
          "Epoch 14",
          "Epoch 15",
          "Epoch 16",
          "Epoch 17",
          "Epoch 18",
          "Epoch 19"
         ],
         "xaxis": "x",
         "y": [
          null,
          null,
          null,
          null,
          null,
          null,
          null,
          null,
          null,
          null,
          null,
          null,
          null,
          null,
          null,
          null,
          null,
          null,
          null,
          null
         ],
         "yaxis": "y"
        },
        {
         "hovertemplate": "variable=Ttra<br>index=%{x}<br>value=%{y}<extra></extra>",
         "legendgroup": "Ttra",
         "line": {
          "color": "#ab63fa",
          "dash": "solid"
         },
         "marker": {
          "symbol": "circle"
         },
         "mode": "lines",
         "name": "Ttra",
         "orientation": "v",
         "showlegend": true,
         "type": "scatter",
         "x": [
          "Epoch 0",
          "Epoch 1",
          "Epoch 2",
          "Epoch 3",
          "Epoch 4",
          "Epoch 5",
          "Epoch 6",
          "Epoch 7",
          "Epoch 8",
          "Epoch 9",
          "Epoch 10",
          "Epoch 11",
          "Epoch 12",
          "Epoch 13",
          "Epoch 14",
          "Epoch 15",
          "Epoch 16",
          "Epoch 17",
          "Epoch 18",
          "Epoch 19"
         ],
         "xaxis": "x",
         "y": [
          null,
          null,
          null,
          null,
          null,
          null,
          null,
          null,
          null,
          null,
          null,
          null,
          null,
          null,
          null,
          null,
          null,
          null,
          null,
          null
         ],
         "yaxis": "y"
        },
        {
         "hovertemplate": "variable=Ttrb<br>index=%{x}<br>value=%{y}<extra></extra>",
         "legendgroup": "Ttrb",
         "line": {
          "color": "#FFA15A",
          "dash": "solid"
         },
         "marker": {
          "symbol": "circle"
         },
         "mode": "lines",
         "name": "Ttrb",
         "orientation": "v",
         "showlegend": true,
         "type": "scatter",
         "x": [
          "Epoch 0",
          "Epoch 1",
          "Epoch 2",
          "Epoch 3",
          "Epoch 4",
          "Epoch 5",
          "Epoch 6",
          "Epoch 7",
          "Epoch 8",
          "Epoch 9",
          "Epoch 10",
          "Epoch 11",
          "Epoch 12",
          "Epoch 13",
          "Epoch 14",
          "Epoch 15",
          "Epoch 16",
          "Epoch 17",
          "Epoch 18",
          "Epoch 19"
         ],
         "xaxis": "x",
         "y": [
          null,
          null,
          null,
          null,
          null,
          null,
          null,
          null,
          null,
          null,
          null,
          null,
          null,
          null,
          null,
          null,
          null,
          null,
          null,
          null
         ],
         "yaxis": "y"
        },
        {
         "hovertemplate": "variable=Tr<br>index=%{x}<br>value=%{y}<extra></extra>",
         "legendgroup": "Tr",
         "line": {
          "color": "#19d3f3",
          "dash": "solid"
         },
         "marker": {
          "symbol": "circle"
         },
         "mode": "lines",
         "name": "Tr",
         "orientation": "v",
         "showlegend": true,
         "type": "scatter",
         "x": [
          "Epoch 0",
          "Epoch 1",
          "Epoch 2",
          "Epoch 3",
          "Epoch 4",
          "Epoch 5",
          "Epoch 6",
          "Epoch 7",
          "Epoch 8",
          "Epoch 9",
          "Epoch 10",
          "Epoch 11",
          "Epoch 12",
          "Epoch 13",
          "Epoch 14",
          "Epoch 15",
          "Epoch 16",
          "Epoch 17",
          "Epoch 18",
          "Epoch 19"
         ],
         "xaxis": "x",
         "y": [
          null,
          null,
          null,
          null,
          null,
          null,
          null,
          null,
          null,
          null,
          null,
          null,
          null,
          null,
          null,
          null,
          null,
          null,
          null,
          null
         ],
         "yaxis": "y"
        },
        {
         "hovertemplate": "variable=MeTr<br>index=%{x}<br>value=%{y}<extra></extra>",
         "legendgroup": "MeTr",
         "line": {
          "color": "#FF6692",
          "dash": "solid"
         },
         "marker": {
          "symbol": "circle"
         },
         "mode": "lines",
         "name": "MeTr",
         "orientation": "v",
         "showlegend": true,
         "type": "scatter",
         "x": [
          "Epoch 0",
          "Epoch 1",
          "Epoch 2",
          "Epoch 3",
          "Epoch 4",
          "Epoch 5",
          "Epoch 6",
          "Epoch 7",
          "Epoch 8",
          "Epoch 9",
          "Epoch 10",
          "Epoch 11",
          "Epoch 12",
          "Epoch 13",
          "Epoch 14",
          "Epoch 15",
          "Epoch 16",
          "Epoch 17",
          "Epoch 18",
          "Epoch 19"
         ],
         "xaxis": "x",
         "y": [
          null,
          null,
          null,
          null,
          null,
          null,
          null,
          null,
          null,
          null,
          null,
          null,
          null,
          null,
          null,
          null,
          null,
          null,
          null,
          null
         ],
         "yaxis": "y"
        },
        {
         "hovertemplate": "variable=MoTr<br>index=%{x}<br>value=%{y}<extra></extra>",
         "legendgroup": "MoTr",
         "line": {
          "color": "#B6E880",
          "dash": "solid"
         },
         "marker": {
          "symbol": "circle"
         },
         "mode": "lines",
         "name": "MoTr",
         "orientation": "v",
         "showlegend": true,
         "type": "scatter",
         "x": [
          "Epoch 0",
          "Epoch 1",
          "Epoch 2",
          "Epoch 3",
          "Epoch 4",
          "Epoch 5",
          "Epoch 6",
          "Epoch 7",
          "Epoch 8",
          "Epoch 9",
          "Epoch 10",
          "Epoch 11",
          "Epoch 12",
          "Epoch 13",
          "Epoch 14",
          "Epoch 15",
          "Epoch 16",
          "Epoch 17",
          "Epoch 18",
          "Epoch 19"
         ],
         "xaxis": "x",
         "y": [
          null,
          null,
          null,
          null,
          null,
          null,
          null,
          null,
          null,
          null,
          null,
          null,
          null,
          null,
          null,
          null,
          null,
          null,
          null,
          null
         ],
         "yaxis": "y"
        },
        {
         "hovertemplate": "variable=RiRi<br>index=%{x}<br>value=%{y}<extra></extra>",
         "legendgroup": "RiRi",
         "line": {
          "color": "#FF97FF",
          "dash": "solid"
         },
         "marker": {
          "symbol": "circle"
         },
         "mode": "lines",
         "name": "RiRi",
         "orientation": "v",
         "showlegend": true,
         "type": "scatter",
         "x": [
          "Epoch 0",
          "Epoch 1",
          "Epoch 2",
          "Epoch 3",
          "Epoch 4",
          "Epoch 5",
          "Epoch 6",
          "Epoch 7",
          "Epoch 8",
          "Epoch 9",
          "Epoch 10",
          "Epoch 11",
          "Epoch 12",
          "Epoch 13",
          "Epoch 14",
          "Epoch 15",
          "Epoch 16",
          "Epoch 17",
          "Epoch 18",
          "Epoch 19"
         ],
         "xaxis": "x",
         "y": [
          null,
          null,
          null,
          null,
          null,
          null,
          null,
          null,
          null,
          null,
          null,
          null,
          null,
          null,
          null,
          null,
          null,
          null,
          null,
          null
         ],
         "yaxis": "y"
        },
        {
         "hovertemplate": "variable=MoFo<br>index=%{x}<br>value=%{y}<extra></extra>",
         "legendgroup": "MoFo",
         "line": {
          "color": "#FECB52",
          "dash": "solid"
         },
         "marker": {
          "symbol": "circle"
         },
         "mode": "lines",
         "name": "MoFo",
         "orientation": "v",
         "showlegend": true,
         "type": "scatter",
         "x": [
          "Epoch 0",
          "Epoch 1",
          "Epoch 2",
          "Epoch 3",
          "Epoch 4",
          "Epoch 5",
          "Epoch 6",
          "Epoch 7",
          "Epoch 8",
          "Epoch 9",
          "Epoch 10",
          "Epoch 11",
          "Epoch 12",
          "Epoch 13",
          "Epoch 14",
          "Epoch 15",
          "Epoch 16",
          "Epoch 17",
          "Epoch 18",
          "Epoch 19"
         ],
         "xaxis": "x",
         "y": [
          null,
          null,
          null,
          null,
          null,
          null,
          null,
          null,
          null,
          null,
          null,
          null,
          null,
          null,
          null,
          null,
          null,
          null,
          null,
          null
         ],
         "yaxis": "y"
        },
        {
         "hovertemplate": "variable=Mmof<br>index=%{x}<br>value=%{y}<extra></extra>",
         "legendgroup": "Mmof",
         "line": {
          "color": "#636efa",
          "dash": "solid"
         },
         "marker": {
          "symbol": "circle"
         },
         "mode": "lines",
         "name": "Mmof",
         "orientation": "v",
         "showlegend": true,
         "type": "scatter",
         "x": [
          "Epoch 0",
          "Epoch 1",
          "Epoch 2",
          "Epoch 3",
          "Epoch 4",
          "Epoch 5",
          "Epoch 6",
          "Epoch 7",
          "Epoch 8",
          "Epoch 9",
          "Epoch 10",
          "Epoch 11",
          "Epoch 12",
          "Epoch 13",
          "Epoch 14",
          "Epoch 15",
          "Epoch 16",
          "Epoch 17",
          "Epoch 18",
          "Epoch 19"
         ],
         "xaxis": "x",
         "y": [
          null,
          null,
          null,
          null,
          null,
          null,
          null,
          null,
          null,
          null,
          null,
          null,
          null,
          null,
          null,
          null,
          null,
          null,
          null,
          null
         ],
         "yaxis": "y"
        },
        {
         "hovertemplate": "variable=MoRi<br>index=%{x}<br>value=%{y}<extra></extra>",
         "legendgroup": "MoRi",
         "line": {
          "color": "#EF553B",
          "dash": "solid"
         },
         "marker": {
          "symbol": "circle"
         },
         "mode": "lines",
         "name": "MoRi",
         "orientation": "v",
         "showlegend": true,
         "type": "scatter",
         "x": [
          "Epoch 0",
          "Epoch 1",
          "Epoch 2",
          "Epoch 3",
          "Epoch 4",
          "Epoch 5",
          "Epoch 6",
          "Epoch 7",
          "Epoch 8",
          "Epoch 9",
          "Epoch 10",
          "Epoch 11",
          "Epoch 12",
          "Epoch 13",
          "Epoch 14",
          "Epoch 15",
          "Epoch 16",
          "Epoch 17",
          "Epoch 18",
          "Epoch 19"
         ],
         "xaxis": "x",
         "y": [
          null,
          null,
          null,
          null,
          null,
          null,
          null,
          null,
          null,
          null,
          null,
          null,
          null,
          null,
          null,
          null,
          null,
          null,
          null,
          null
         ],
         "yaxis": "y"
        },
        {
         "hovertemplate": "variable=MeRi<br>index=%{x}<br>value=%{y}<extra></extra>",
         "legendgroup": "MeRi",
         "line": {
          "color": "#00cc96",
          "dash": "solid"
         },
         "marker": {
          "symbol": "circle"
         },
         "mode": "lines",
         "name": "MeRi",
         "orientation": "v",
         "showlegend": true,
         "type": "scatter",
         "x": [
          "Epoch 0",
          "Epoch 1",
          "Epoch 2",
          "Epoch 3",
          "Epoch 4",
          "Epoch 5",
          "Epoch 6",
          "Epoch 7",
          "Epoch 8",
          "Epoch 9",
          "Epoch 10",
          "Epoch 11",
          "Epoch 12",
          "Epoch 13",
          "Epoch 14",
          "Epoch 15",
          "Epoch 16",
          "Epoch 17",
          "Epoch 18",
          "Epoch 19"
         ],
         "xaxis": "x",
         "y": [
          null,
          null,
          null,
          null,
          null,
          null,
          null,
          null,
          null,
          null,
          null,
          null,
          null,
          null,
          null,
          null,
          null,
          null,
          null,
          null
         ],
         "yaxis": "y"
        },
        {
         "hovertemplate": "variable=Ri<br>index=%{x}<br>value=%{y}<extra></extra>",
         "legendgroup": "Ri",
         "line": {
          "color": "#ab63fa",
          "dash": "solid"
         },
         "marker": {
          "symbol": "circle"
         },
         "mode": "lines",
         "name": "Ri",
         "orientation": "v",
         "showlegend": true,
         "type": "scatter",
         "x": [
          "Epoch 0",
          "Epoch 1",
          "Epoch 2",
          "Epoch 3",
          "Epoch 4",
          "Epoch 5",
          "Epoch 6",
          "Epoch 7",
          "Epoch 8",
          "Epoch 9",
          "Epoch 10",
          "Epoch 11",
          "Epoch 12",
          "Epoch 13",
          "Epoch 14",
          "Epoch 15",
          "Epoch 16",
          "Epoch 17",
          "Epoch 18",
          "Epoch 19"
         ],
         "xaxis": "x",
         "y": [
          null,
          null,
          null,
          null,
          null,
          null,
          null,
          null,
          null,
          null,
          null,
          null,
          null,
          null,
          null,
          null,
          null,
          null,
          null,
          null
         ],
         "yaxis": "y"
        },
        {
         "hovertemplate": "variable=Comp<br>index=%{x}<br>value=%{y}<extra></extra>",
         "legendgroup": "Comp",
         "line": {
          "color": "#FFA15A",
          "dash": "solid"
         },
         "marker": {
          "symbol": "circle"
         },
         "mode": "lines",
         "name": "Comp",
         "orientation": "v",
         "showlegend": true,
         "type": "scatter",
         "x": [
          "Epoch 0",
          "Epoch 1",
          "Epoch 2",
          "Epoch 3",
          "Epoch 4",
          "Epoch 5",
          "Epoch 6",
          "Epoch 7",
          "Epoch 8",
          "Epoch 9",
          "Epoch 10",
          "Epoch 11",
          "Epoch 12",
          "Epoch 13",
          "Epoch 14",
          "Epoch 15",
          "Epoch 16",
          "Epoch 17",
          "Epoch 18",
          "Epoch 19"
         ],
         "xaxis": "x",
         "y": [
          null,
          null,
          null,
          null,
          null,
          null,
          null,
          null,
          null,
          null,
          null,
          null,
          null,
          null,
          null,
          null,
          null,
          null,
          null,
          null
         ],
         "yaxis": "y"
        }
       ],
       "layout": {
        "legend": {
         "title": {
          "text": "variable"
         },
         "tracegroupgap": 0
        },
        "template": {
         "data": {
          "bar": [
           {
            "error_x": {
             "color": "#2a3f5f"
            },
            "error_y": {
             "color": "#2a3f5f"
            },
            "marker": {
             "line": {
              "color": "#E5ECF6",
              "width": 0.5
             },
             "pattern": {
              "fillmode": "overlay",
              "size": 10,
              "solidity": 0.2
             }
            },
            "type": "bar"
           }
          ],
          "barpolar": [
           {
            "marker": {
             "line": {
              "color": "#E5ECF6",
              "width": 0.5
             },
             "pattern": {
              "fillmode": "overlay",
              "size": 10,
              "solidity": 0.2
             }
            },
            "type": "barpolar"
           }
          ],
          "carpet": [
           {
            "aaxis": {
             "endlinecolor": "#2a3f5f",
             "gridcolor": "white",
             "linecolor": "white",
             "minorgridcolor": "white",
             "startlinecolor": "#2a3f5f"
            },
            "baxis": {
             "endlinecolor": "#2a3f5f",
             "gridcolor": "white",
             "linecolor": "white",
             "minorgridcolor": "white",
             "startlinecolor": "#2a3f5f"
            },
            "type": "carpet"
           }
          ],
          "choropleth": [
           {
            "colorbar": {
             "outlinewidth": 0,
             "ticks": ""
            },
            "type": "choropleth"
           }
          ],
          "contour": [
           {
            "colorbar": {
             "outlinewidth": 0,
             "ticks": ""
            },
            "colorscale": [
             [
              0,
              "#0d0887"
             ],
             [
              0.1111111111111111,
              "#46039f"
             ],
             [
              0.2222222222222222,
              "#7201a8"
             ],
             [
              0.3333333333333333,
              "#9c179e"
             ],
             [
              0.4444444444444444,
              "#bd3786"
             ],
             [
              0.5555555555555556,
              "#d8576b"
             ],
             [
              0.6666666666666666,
              "#ed7953"
             ],
             [
              0.7777777777777778,
              "#fb9f3a"
             ],
             [
              0.8888888888888888,
              "#fdca26"
             ],
             [
              1,
              "#f0f921"
             ]
            ],
            "type": "contour"
           }
          ],
          "contourcarpet": [
           {
            "colorbar": {
             "outlinewidth": 0,
             "ticks": ""
            },
            "type": "contourcarpet"
           }
          ],
          "heatmap": [
           {
            "colorbar": {
             "outlinewidth": 0,
             "ticks": ""
            },
            "colorscale": [
             [
              0,
              "#0d0887"
             ],
             [
              0.1111111111111111,
              "#46039f"
             ],
             [
              0.2222222222222222,
              "#7201a8"
             ],
             [
              0.3333333333333333,
              "#9c179e"
             ],
             [
              0.4444444444444444,
              "#bd3786"
             ],
             [
              0.5555555555555556,
              "#d8576b"
             ],
             [
              0.6666666666666666,
              "#ed7953"
             ],
             [
              0.7777777777777778,
              "#fb9f3a"
             ],
             [
              0.8888888888888888,
              "#fdca26"
             ],
             [
              1,
              "#f0f921"
             ]
            ],
            "type": "heatmap"
           }
          ],
          "heatmapgl": [
           {
            "colorbar": {
             "outlinewidth": 0,
             "ticks": ""
            },
            "colorscale": [
             [
              0,
              "#0d0887"
             ],
             [
              0.1111111111111111,
              "#46039f"
             ],
             [
              0.2222222222222222,
              "#7201a8"
             ],
             [
              0.3333333333333333,
              "#9c179e"
             ],
             [
              0.4444444444444444,
              "#bd3786"
             ],
             [
              0.5555555555555556,
              "#d8576b"
             ],
             [
              0.6666666666666666,
              "#ed7953"
             ],
             [
              0.7777777777777778,
              "#fb9f3a"
             ],
             [
              0.8888888888888888,
              "#fdca26"
             ],
             [
              1,
              "#f0f921"
             ]
            ],
            "type": "heatmapgl"
           }
          ],
          "histogram": [
           {
            "marker": {
             "pattern": {
              "fillmode": "overlay",
              "size": 10,
              "solidity": 0.2
             }
            },
            "type": "histogram"
           }
          ],
          "histogram2d": [
           {
            "colorbar": {
             "outlinewidth": 0,
             "ticks": ""
            },
            "colorscale": [
             [
              0,
              "#0d0887"
             ],
             [
              0.1111111111111111,
              "#46039f"
             ],
             [
              0.2222222222222222,
              "#7201a8"
             ],
             [
              0.3333333333333333,
              "#9c179e"
             ],
             [
              0.4444444444444444,
              "#bd3786"
             ],
             [
              0.5555555555555556,
              "#d8576b"
             ],
             [
              0.6666666666666666,
              "#ed7953"
             ],
             [
              0.7777777777777778,
              "#fb9f3a"
             ],
             [
              0.8888888888888888,
              "#fdca26"
             ],
             [
              1,
              "#f0f921"
             ]
            ],
            "type": "histogram2d"
           }
          ],
          "histogram2dcontour": [
           {
            "colorbar": {
             "outlinewidth": 0,
             "ticks": ""
            },
            "colorscale": [
             [
              0,
              "#0d0887"
             ],
             [
              0.1111111111111111,
              "#46039f"
             ],
             [
              0.2222222222222222,
              "#7201a8"
             ],
             [
              0.3333333333333333,
              "#9c179e"
             ],
             [
              0.4444444444444444,
              "#bd3786"
             ],
             [
              0.5555555555555556,
              "#d8576b"
             ],
             [
              0.6666666666666666,
              "#ed7953"
             ],
             [
              0.7777777777777778,
              "#fb9f3a"
             ],
             [
              0.8888888888888888,
              "#fdca26"
             ],
             [
              1,
              "#f0f921"
             ]
            ],
            "type": "histogram2dcontour"
           }
          ],
          "mesh3d": [
           {
            "colorbar": {
             "outlinewidth": 0,
             "ticks": ""
            },
            "type": "mesh3d"
           }
          ],
          "parcoords": [
           {
            "line": {
             "colorbar": {
              "outlinewidth": 0,
              "ticks": ""
             }
            },
            "type": "parcoords"
           }
          ],
          "pie": [
           {
            "automargin": true,
            "type": "pie"
           }
          ],
          "scatter": [
           {
            "fillpattern": {
             "fillmode": "overlay",
             "size": 10,
             "solidity": 0.2
            },
            "type": "scatter"
           }
          ],
          "scatter3d": [
           {
            "line": {
             "colorbar": {
              "outlinewidth": 0,
              "ticks": ""
             }
            },
            "marker": {
             "colorbar": {
              "outlinewidth": 0,
              "ticks": ""
             }
            },
            "type": "scatter3d"
           }
          ],
          "scattercarpet": [
           {
            "marker": {
             "colorbar": {
              "outlinewidth": 0,
              "ticks": ""
             }
            },
            "type": "scattercarpet"
           }
          ],
          "scattergeo": [
           {
            "marker": {
             "colorbar": {
              "outlinewidth": 0,
              "ticks": ""
             }
            },
            "type": "scattergeo"
           }
          ],
          "scattergl": [
           {
            "marker": {
             "colorbar": {
              "outlinewidth": 0,
              "ticks": ""
             }
            },
            "type": "scattergl"
           }
          ],
          "scattermapbox": [
           {
            "marker": {
             "colorbar": {
              "outlinewidth": 0,
              "ticks": ""
             }
            },
            "type": "scattermapbox"
           }
          ],
          "scatterpolar": [
           {
            "marker": {
             "colorbar": {
              "outlinewidth": 0,
              "ticks": ""
             }
            },
            "type": "scatterpolar"
           }
          ],
          "scatterpolargl": [
           {
            "marker": {
             "colorbar": {
              "outlinewidth": 0,
              "ticks": ""
             }
            },
            "type": "scatterpolargl"
           }
          ],
          "scatterternary": [
           {
            "marker": {
             "colorbar": {
              "outlinewidth": 0,
              "ticks": ""
             }
            },
            "type": "scatterternary"
           }
          ],
          "surface": [
           {
            "colorbar": {
             "outlinewidth": 0,
             "ticks": ""
            },
            "colorscale": [
             [
              0,
              "#0d0887"
             ],
             [
              0.1111111111111111,
              "#46039f"
             ],
             [
              0.2222222222222222,
              "#7201a8"
             ],
             [
              0.3333333333333333,
              "#9c179e"
             ],
             [
              0.4444444444444444,
              "#bd3786"
             ],
             [
              0.5555555555555556,
              "#d8576b"
             ],
             [
              0.6666666666666666,
              "#ed7953"
             ],
             [
              0.7777777777777778,
              "#fb9f3a"
             ],
             [
              0.8888888888888888,
              "#fdca26"
             ],
             [
              1,
              "#f0f921"
             ]
            ],
            "type": "surface"
           }
          ],
          "table": [
           {
            "cells": {
             "fill": {
              "color": "#EBF0F8"
             },
             "line": {
              "color": "white"
             }
            },
            "header": {
             "fill": {
              "color": "#C8D4E3"
             },
             "line": {
              "color": "white"
             }
            },
            "type": "table"
           }
          ]
         },
         "layout": {
          "annotationdefaults": {
           "arrowcolor": "#2a3f5f",
           "arrowhead": 0,
           "arrowwidth": 1
          },
          "autotypenumbers": "strict",
          "coloraxis": {
           "colorbar": {
            "outlinewidth": 0,
            "ticks": ""
           }
          },
          "colorscale": {
           "diverging": [
            [
             0,
             "#8e0152"
            ],
            [
             0.1,
             "#c51b7d"
            ],
            [
             0.2,
             "#de77ae"
            ],
            [
             0.3,
             "#f1b6da"
            ],
            [
             0.4,
             "#fde0ef"
            ],
            [
             0.5,
             "#f7f7f7"
            ],
            [
             0.6,
             "#e6f5d0"
            ],
            [
             0.7,
             "#b8e186"
            ],
            [
             0.8,
             "#7fbc41"
            ],
            [
             0.9,
             "#4d9221"
            ],
            [
             1,
             "#276419"
            ]
           ],
           "sequential": [
            [
             0,
             "#0d0887"
            ],
            [
             0.1111111111111111,
             "#46039f"
            ],
            [
             0.2222222222222222,
             "#7201a8"
            ],
            [
             0.3333333333333333,
             "#9c179e"
            ],
            [
             0.4444444444444444,
             "#bd3786"
            ],
            [
             0.5555555555555556,
             "#d8576b"
            ],
            [
             0.6666666666666666,
             "#ed7953"
            ],
            [
             0.7777777777777778,
             "#fb9f3a"
            ],
            [
             0.8888888888888888,
             "#fdca26"
            ],
            [
             1,
             "#f0f921"
            ]
           ],
           "sequentialminus": [
            [
             0,
             "#0d0887"
            ],
            [
             0.1111111111111111,
             "#46039f"
            ],
            [
             0.2222222222222222,
             "#7201a8"
            ],
            [
             0.3333333333333333,
             "#9c179e"
            ],
            [
             0.4444444444444444,
             "#bd3786"
            ],
            [
             0.5555555555555556,
             "#d8576b"
            ],
            [
             0.6666666666666666,
             "#ed7953"
            ],
            [
             0.7777777777777778,
             "#fb9f3a"
            ],
            [
             0.8888888888888888,
             "#fdca26"
            ],
            [
             1,
             "#f0f921"
            ]
           ]
          },
          "colorway": [
           "#636efa",
           "#EF553B",
           "#00cc96",
           "#ab63fa",
           "#FFA15A",
           "#19d3f3",
           "#FF6692",
           "#B6E880",
           "#FF97FF",
           "#FECB52"
          ],
          "font": {
           "color": "#2a3f5f"
          },
          "geo": {
           "bgcolor": "white",
           "lakecolor": "white",
           "landcolor": "#E5ECF6",
           "showlakes": true,
           "showland": true,
           "subunitcolor": "white"
          },
          "hoverlabel": {
           "align": "left"
          },
          "hovermode": "closest",
          "mapbox": {
           "style": "light"
          },
          "paper_bgcolor": "white",
          "plot_bgcolor": "#E5ECF6",
          "polar": {
           "angularaxis": {
            "gridcolor": "white",
            "linecolor": "white",
            "ticks": ""
           },
           "bgcolor": "#E5ECF6",
           "radialaxis": {
            "gridcolor": "white",
            "linecolor": "white",
            "ticks": ""
           }
          },
          "scene": {
           "xaxis": {
            "backgroundcolor": "#E5ECF6",
            "gridcolor": "white",
            "gridwidth": 2,
            "linecolor": "white",
            "showbackground": true,
            "ticks": "",
            "zerolinecolor": "white"
           },
           "yaxis": {
            "backgroundcolor": "#E5ECF6",
            "gridcolor": "white",
            "gridwidth": 2,
            "linecolor": "white",
            "showbackground": true,
            "ticks": "",
            "zerolinecolor": "white"
           },
           "zaxis": {
            "backgroundcolor": "#E5ECF6",
            "gridcolor": "white",
            "gridwidth": 2,
            "linecolor": "white",
            "showbackground": true,
            "ticks": "",
            "zerolinecolor": "white"
           }
          },
          "shapedefaults": {
           "line": {
            "color": "#2a3f5f"
           }
          },
          "ternary": {
           "aaxis": {
            "gridcolor": "white",
            "linecolor": "white",
            "ticks": ""
           },
           "baxis": {
            "gridcolor": "white",
            "linecolor": "white",
            "ticks": ""
           },
           "bgcolor": "#E5ECF6",
           "caxis": {
            "gridcolor": "white",
            "linecolor": "white",
            "ticks": ""
           }
          },
          "title": {
           "x": 0.05
          },
          "xaxis": {
           "automargin": true,
           "gridcolor": "white",
           "linecolor": "white",
           "ticks": "",
           "title": {
            "standoff": 15
           },
           "zerolinecolor": "white",
           "zerolinewidth": 2
          },
          "yaxis": {
           "automargin": true,
           "gridcolor": "white",
           "linecolor": "white",
           "ticks": "",
           "title": {
            "standoff": 15
           },
           "zerolinecolor": "white",
           "zerolinewidth": 2
          }
         }
        },
        "title": {
         "text": "Free evolution of the weights for subject soggetto_8"
        },
        "xaxis": {
         "anchor": "y",
         "domain": [
          0,
          1
         ],
         "title": {
          "text": "index"
         }
        },
        "yaxis": {
         "anchor": "x",
         "domain": [
          0,
          1
         ],
         "title": {
          "text": "value"
         }
        }
       }
      }
     },
     "metadata": {},
     "output_type": "display_data"
    }
   ],
   "source": [
    "# for every subject, plot the free evolution of the weights using plotly express\n",
    "for subject in subjects:\n",
    "    fig = px.line(df_free_evolution_dict[subject], title=\"Free evolution of the weights for subject {}\".format(subject))\n",
    "    fig.show()"
   ]
  }
 ],
 "metadata": {
  "kernelspec": {
   "display_name": "env",
   "language": "python",
   "name": "python3"
  },
  "language_info": {
   "codemirror_mode": {
    "name": "ipython",
    "version": 3
   },
   "file_extension": ".py",
   "mimetype": "text/x-python",
   "name": "python",
   "nbconvert_exporter": "python",
   "pygments_lexer": "ipython3",
   "version": "3.10.6"
  },
  "orig_nbformat": 4,
  "vscode": {
   "interpreter": {
    "hash": "8cf3148ee2412bf818af45c9d8f3260092e813536e8161d4ddb61a7fba27a160"
   }
  }
 },
 "nbformat": 4,
 "nbformat_minor": 2
}
