{
 "cells": [
  {
   "cell_type": "code",
   "execution_count": 177,
   "metadata": {},
   "outputs": [],
   "source": [
    "import numpy as np\n",
    "import pandas as pd\n",
    "\n",
    "import plotly.express as px"
   ]
  },
  {
   "cell_type": "code",
   "execution_count": 178,
   "metadata": {},
   "outputs": [],
   "source": [
    "subjects = [\"soggetto_1\",\"soggetto_2\",\"soggetto_3\",\"soggetto_6\",\"soggetto_7\",\"soggetto_8\"]"
   ]
  },
  {
   "cell_type": "code",
   "execution_count": 179,
   "metadata": {},
   "outputs": [],
   "source": [
    "df_weights_dict = {}\n",
    "for subject in subjects:\n",
    "    df_weights_dict[subject] = pd.read_csv(\"Datasets/{}_weights_o.csv\".format(subject))\n",
    "    df_weights_dict[subject].columns = [\"TrRi\",\"RiTr\",\"Plu\",\"Ttra\",\"Ttrb\",\"Tr\",\"MeTr\",\"MoTr\",\"RiRi\",\"MoFo\",\"Mmof\",\"MoRi\",\"MeRi\",\"Ri\",\"Comp\"]\n",
    "    df_weights_dict[subject].index = df_weights_dict[subject].columns\n",
    "    df_weights_dict[subject] = df_weights_dict[subject].T"
   ]
  },
  {
   "cell_type": "code",
   "execution_count": 180,
   "metadata": {},
   "outputs": [
    {
     "data": {
      "text/html": [
       "<div>\n",
       "<style scoped>\n",
       "    .dataframe tbody tr th:only-of-type {\n",
       "        vertical-align: middle;\n",
       "    }\n",
       "\n",
       "    .dataframe tbody tr th {\n",
       "        vertical-align: top;\n",
       "    }\n",
       "\n",
       "    .dataframe thead th {\n",
       "        text-align: right;\n",
       "    }\n",
       "</style>\n",
       "<table border=\"1\" class=\"dataframe\">\n",
       "  <thead>\n",
       "    <tr style=\"text-align: right;\">\n",
       "      <th></th>\n",
       "      <th>TrRi</th>\n",
       "      <th>RiTr</th>\n",
       "      <th>Plu</th>\n",
       "      <th>Ttra</th>\n",
       "      <th>Ttrb</th>\n",
       "      <th>Tr</th>\n",
       "      <th>MeTr</th>\n",
       "      <th>MoTr</th>\n",
       "      <th>RiRi</th>\n",
       "      <th>MoFo</th>\n",
       "      <th>Mmof</th>\n",
       "      <th>MoRi</th>\n",
       "      <th>MeRi</th>\n",
       "      <th>Ri</th>\n",
       "      <th>Comp</th>\n",
       "    </tr>\n",
       "  </thead>\n",
       "  <tbody>\n",
       "    <tr>\n",
       "      <th>TrRi</th>\n",
       "      <td>-0.770991</td>\n",
       "      <td>-0.247862</td>\n",
       "      <td>0.296357</td>\n",
       "      <td>0.183060</td>\n",
       "      <td>0.184627</td>\n",
       "      <td>-0.101070</td>\n",
       "      <td>0.283836</td>\n",
       "      <td>-0.350846</td>\n",
       "      <td>-0.124972</td>\n",
       "      <td>0.235450</td>\n",
       "      <td>0.137425</td>\n",
       "      <td>-0.531965</td>\n",
       "      <td>0.264298</td>\n",
       "      <td>0.166439</td>\n",
       "      <td>-0.109050</td>\n",
       "    </tr>\n",
       "    <tr>\n",
       "      <th>RiTr</th>\n",
       "      <td>-0.751945</td>\n",
       "      <td>-0.213791</td>\n",
       "      <td>0.143637</td>\n",
       "      <td>0.483585</td>\n",
       "      <td>0.094576</td>\n",
       "      <td>0.339746</td>\n",
       "      <td>-0.172645</td>\n",
       "      <td>-0.118040</td>\n",
       "      <td>-0.444297</td>\n",
       "      <td>0.209074</td>\n",
       "      <td>0.092889</td>\n",
       "      <td>-0.012311</td>\n",
       "      <td>0.233756</td>\n",
       "      <td>0.050772</td>\n",
       "      <td>-0.083759</td>\n",
       "    </tr>\n",
       "    <tr>\n",
       "      <th>Plu</th>\n",
       "      <td>-0.003196</td>\n",
       "      <td>-0.263307</td>\n",
       "      <td>-0.274596</td>\n",
       "      <td>0.501303</td>\n",
       "      <td>0.255244</td>\n",
       "      <td>0.104130</td>\n",
       "      <td>0.084332</td>\n",
       "      <td>0.095562</td>\n",
       "      <td>-0.265006</td>\n",
       "      <td>0.323443</td>\n",
       "      <td>0.318363</td>\n",
       "      <td>-0.268569</td>\n",
       "      <td>-0.447416</td>\n",
       "      <td>0.243699</td>\n",
       "      <td>-0.026358</td>\n",
       "    </tr>\n",
       "    <tr>\n",
       "      <th>Ttra</th>\n",
       "      <td>-0.475967</td>\n",
       "      <td>-0.452790</td>\n",
       "      <td>0.401257</td>\n",
       "      <td>0.105587</td>\n",
       "      <td>0.079634</td>\n",
       "      <td>0.175691</td>\n",
       "      <td>-0.112213</td>\n",
       "      <td>0.115430</td>\n",
       "      <td>-0.028899</td>\n",
       "      <td>0.554424</td>\n",
       "      <td>0.219523</td>\n",
       "      <td>0.330389</td>\n",
       "      <td>0.093097</td>\n",
       "      <td>0.464091</td>\n",
       "      <td>0.069246</td>\n",
       "    </tr>\n",
       "    <tr>\n",
       "      <th>Ttrb</th>\n",
       "      <td>-0.288003</td>\n",
       "      <td>-0.036305</td>\n",
       "      <td>-0.513654</td>\n",
       "      <td>-0.269760</td>\n",
       "      <td>0.433292</td>\n",
       "      <td>0.178291</td>\n",
       "      <td>-0.095082</td>\n",
       "      <td>-0.201036</td>\n",
       "      <td>0.315952</td>\n",
       "      <td>0.071989</td>\n",
       "      <td>0.547407</td>\n",
       "      <td>-0.077660</td>\n",
       "      <td>0.216503</td>\n",
       "      <td>-0.664574</td>\n",
       "      <td>0.217016</td>\n",
       "    </tr>\n",
       "    <tr>\n",
       "      <th>Tr</th>\n",
       "      <td>-0.319896</td>\n",
       "      <td>-0.265057</td>\n",
       "      <td>-0.032019</td>\n",
       "      <td>0.243317</td>\n",
       "      <td>0.108078</td>\n",
       "      <td>0.192165</td>\n",
       "      <td>-0.118429</td>\n",
       "      <td>0.017604</td>\n",
       "      <td>-0.310293</td>\n",
       "      <td>0.374774</td>\n",
       "      <td>0.242819</td>\n",
       "      <td>-0.339650</td>\n",
       "      <td>-0.126303</td>\n",
       "      <td>-0.043444</td>\n",
       "      <td>0.013585</td>\n",
       "    </tr>\n",
       "    <tr>\n",
       "      <th>MeTr</th>\n",
       "      <td>-0.237846</td>\n",
       "      <td>-0.040311</td>\n",
       "      <td>-0.606530</td>\n",
       "      <td>0.465550</td>\n",
       "      <td>0.718556</td>\n",
       "      <td>-0.148726</td>\n",
       "      <td>0.377106</td>\n",
       "      <td>0.278993</td>\n",
       "      <td>-0.491082</td>\n",
       "      <td>0.079382</td>\n",
       "      <td>-0.216052</td>\n",
       "      <td>0.582619</td>\n",
       "      <td>0.145657</td>\n",
       "      <td>-0.663608</td>\n",
       "      <td>0.802352</td>\n",
       "    </tr>\n",
       "    <tr>\n",
       "      <th>MoTr</th>\n",
       "      <td>-0.667909</td>\n",
       "      <td>-0.216138</td>\n",
       "      <td>0.466011</td>\n",
       "      <td>0.118819</td>\n",
       "      <td>0.207032</td>\n",
       "      <td>0.298971</td>\n",
       "      <td>-0.212882</td>\n",
       "      <td>-0.181154</td>\n",
       "      <td>-0.395986</td>\n",
       "      <td>0.243083</td>\n",
       "      <td>0.133172</td>\n",
       "      <td>-0.161037</td>\n",
       "      <td>-0.140548</td>\n",
       "      <td>0.324216</td>\n",
       "      <td>-0.157806</td>\n",
       "    </tr>\n",
       "    <tr>\n",
       "      <th>RiRi</th>\n",
       "      <td>-0.311236</td>\n",
       "      <td>0.195006</td>\n",
       "      <td>0.234262</td>\n",
       "      <td>0.741436</td>\n",
       "      <td>0.218471</td>\n",
       "      <td>0.257728</td>\n",
       "      <td>0.259866</td>\n",
       "      <td>-0.201408</td>\n",
       "      <td>-0.170462</td>\n",
       "      <td>0.017236</td>\n",
       "      <td>0.197097</td>\n",
       "      <td>0.152464</td>\n",
       "      <td>-0.464821</td>\n",
       "      <td>0.192691</td>\n",
       "      <td>-0.134792</td>\n",
       "    </tr>\n",
       "    <tr>\n",
       "      <th>MoFo</th>\n",
       "      <td>-0.313909</td>\n",
       "      <td>-0.285269</td>\n",
       "      <td>0.095813</td>\n",
       "      <td>0.158044</td>\n",
       "      <td>0.145419</td>\n",
       "      <td>0.369778</td>\n",
       "      <td>-0.511182</td>\n",
       "      <td>0.201035</td>\n",
       "      <td>-0.281086</td>\n",
       "      <td>0.427540</td>\n",
       "      <td>0.252716</td>\n",
       "      <td>-0.123318</td>\n",
       "      <td>-0.092667</td>\n",
       "      <td>0.153888</td>\n",
       "      <td>0.135851</td>\n",
       "    </tr>\n",
       "    <tr>\n",
       "      <th>Mmof</th>\n",
       "      <td>-0.476609</td>\n",
       "      <td>0.142926</td>\n",
       "      <td>0.064052</td>\n",
       "      <td>0.505577</td>\n",
       "      <td>0.251152</td>\n",
       "      <td>0.320710</td>\n",
       "      <td>0.034457</td>\n",
       "      <td>-0.035058</td>\n",
       "      <td>-0.185531</td>\n",
       "      <td>0.007523</td>\n",
       "      <td>0.179930</td>\n",
       "      <td>-0.369754</td>\n",
       "      <td>-0.202725</td>\n",
       "      <td>0.165776</td>\n",
       "      <td>-0.063473</td>\n",
       "    </tr>\n",
       "    <tr>\n",
       "      <th>MoRi</th>\n",
       "      <td>-0.379376</td>\n",
       "      <td>-0.066997</td>\n",
       "      <td>-0.191375</td>\n",
       "      <td>0.649681</td>\n",
       "      <td>0.294435</td>\n",
       "      <td>0.046285</td>\n",
       "      <td>0.271691</td>\n",
       "      <td>-0.137480</td>\n",
       "      <td>-0.448678</td>\n",
       "      <td>0.060271</td>\n",
       "      <td>0.170447</td>\n",
       "      <td>-0.389747</td>\n",
       "      <td>-0.375868</td>\n",
       "      <td>0.385047</td>\n",
       "      <td>-0.227175</td>\n",
       "    </tr>\n",
       "    <tr>\n",
       "      <th>MeRi</th>\n",
       "      <td>-0.132961</td>\n",
       "      <td>-0.329820</td>\n",
       "      <td>0.129914</td>\n",
       "      <td>-0.354336</td>\n",
       "      <td>-0.095571</td>\n",
       "      <td>-0.358480</td>\n",
       "      <td>-0.362803</td>\n",
       "      <td>-0.258862</td>\n",
       "      <td>0.257830</td>\n",
       "      <td>0.075436</td>\n",
       "      <td>0.549342</td>\n",
       "      <td>0.018500</td>\n",
       "      <td>-0.363107</td>\n",
       "      <td>-0.432196</td>\n",
       "      <td>0.014156</td>\n",
       "    </tr>\n",
       "    <tr>\n",
       "      <th>Ri</th>\n",
       "      <td>-0.563191</td>\n",
       "      <td>-0.398614</td>\n",
       "      <td>0.265614</td>\n",
       "      <td>-0.027620</td>\n",
       "      <td>-0.129102</td>\n",
       "      <td>-0.293206</td>\n",
       "      <td>0.330743</td>\n",
       "      <td>-0.129493</td>\n",
       "      <td>-0.244294</td>\n",
       "      <td>0.558252</td>\n",
       "      <td>0.170400</td>\n",
       "      <td>-0.172005</td>\n",
       "      <td>-0.000969</td>\n",
       "      <td>0.099044</td>\n",
       "      <td>-0.104070</td>\n",
       "    </tr>\n",
       "    <tr>\n",
       "      <th>Comp</th>\n",
       "      <td>-0.267206</td>\n",
       "      <td>0.311151</td>\n",
       "      <td>-0.417138</td>\n",
       "      <td>-0.924776</td>\n",
       "      <td>0.461390</td>\n",
       "      <td>0.078602</td>\n",
       "      <td>0.405451</td>\n",
       "      <td>-0.145702</td>\n",
       "      <td>-0.226082</td>\n",
       "      <td>-0.190659</td>\n",
       "      <td>0.048967</td>\n",
       "      <td>0.157962</td>\n",
       "      <td>0.118295</td>\n",
       "      <td>-0.517191</td>\n",
       "      <td>-0.225768</td>\n",
       "    </tr>\n",
       "  </tbody>\n",
       "</table>\n",
       "</div>"
      ],
      "text/plain": [
       "          TrRi      RiTr       Plu      Ttra      Ttrb        Tr      MeTr  \\\n",
       "TrRi -0.770991 -0.247862  0.296357  0.183060  0.184627 -0.101070  0.283836   \n",
       "RiTr -0.751945 -0.213791  0.143637  0.483585  0.094576  0.339746 -0.172645   \n",
       "Plu  -0.003196 -0.263307 -0.274596  0.501303  0.255244  0.104130  0.084332   \n",
       "Ttra -0.475967 -0.452790  0.401257  0.105587  0.079634  0.175691 -0.112213   \n",
       "Ttrb -0.288003 -0.036305 -0.513654 -0.269760  0.433292  0.178291 -0.095082   \n",
       "Tr   -0.319896 -0.265057 -0.032019  0.243317  0.108078  0.192165 -0.118429   \n",
       "MeTr -0.237846 -0.040311 -0.606530  0.465550  0.718556 -0.148726  0.377106   \n",
       "MoTr -0.667909 -0.216138  0.466011  0.118819  0.207032  0.298971 -0.212882   \n",
       "RiRi -0.311236  0.195006  0.234262  0.741436  0.218471  0.257728  0.259866   \n",
       "MoFo -0.313909 -0.285269  0.095813  0.158044  0.145419  0.369778 -0.511182   \n",
       "Mmof -0.476609  0.142926  0.064052  0.505577  0.251152  0.320710  0.034457   \n",
       "MoRi -0.379376 -0.066997 -0.191375  0.649681  0.294435  0.046285  0.271691   \n",
       "MeRi -0.132961 -0.329820  0.129914 -0.354336 -0.095571 -0.358480 -0.362803   \n",
       "Ri   -0.563191 -0.398614  0.265614 -0.027620 -0.129102 -0.293206  0.330743   \n",
       "Comp -0.267206  0.311151 -0.417138 -0.924776  0.461390  0.078602  0.405451   \n",
       "\n",
       "          MoTr      RiRi      MoFo      Mmof      MoRi      MeRi        Ri  \\\n",
       "TrRi -0.350846 -0.124972  0.235450  0.137425 -0.531965  0.264298  0.166439   \n",
       "RiTr -0.118040 -0.444297  0.209074  0.092889 -0.012311  0.233756  0.050772   \n",
       "Plu   0.095562 -0.265006  0.323443  0.318363 -0.268569 -0.447416  0.243699   \n",
       "Ttra  0.115430 -0.028899  0.554424  0.219523  0.330389  0.093097  0.464091   \n",
       "Ttrb -0.201036  0.315952  0.071989  0.547407 -0.077660  0.216503 -0.664574   \n",
       "Tr    0.017604 -0.310293  0.374774  0.242819 -0.339650 -0.126303 -0.043444   \n",
       "MeTr  0.278993 -0.491082  0.079382 -0.216052  0.582619  0.145657 -0.663608   \n",
       "MoTr -0.181154 -0.395986  0.243083  0.133172 -0.161037 -0.140548  0.324216   \n",
       "RiRi -0.201408 -0.170462  0.017236  0.197097  0.152464 -0.464821  0.192691   \n",
       "MoFo  0.201035 -0.281086  0.427540  0.252716 -0.123318 -0.092667  0.153888   \n",
       "Mmof -0.035058 -0.185531  0.007523  0.179930 -0.369754 -0.202725  0.165776   \n",
       "MoRi -0.137480 -0.448678  0.060271  0.170447 -0.389747 -0.375868  0.385047   \n",
       "MeRi -0.258862  0.257830  0.075436  0.549342  0.018500 -0.363107 -0.432196   \n",
       "Ri   -0.129493 -0.244294  0.558252  0.170400 -0.172005 -0.000969  0.099044   \n",
       "Comp -0.145702 -0.226082 -0.190659  0.048967  0.157962  0.118295 -0.517191   \n",
       "\n",
       "          Comp  \n",
       "TrRi -0.109050  \n",
       "RiTr -0.083759  \n",
       "Plu  -0.026358  \n",
       "Ttra  0.069246  \n",
       "Ttrb  0.217016  \n",
       "Tr    0.013585  \n",
       "MeTr  0.802352  \n",
       "MoTr -0.157806  \n",
       "RiRi -0.134792  \n",
       "MoFo  0.135851  \n",
       "Mmof -0.063473  \n",
       "MoRi -0.227175  \n",
       "MeRi  0.014156  \n",
       "Ri   -0.104070  \n",
       "Comp -0.225768  "
      ]
     },
     "execution_count": 180,
     "metadata": {},
     "output_type": "execute_result"
    }
   ],
   "source": [
    "df_weights_dict[\"soggetto_1\"]"
   ]
  },
  {
   "cell_type": "code",
   "execution_count": 181,
   "metadata": {},
   "outputs": [
    {
     "name": "stderr",
     "output_type": "stream",
     "text": [
      "/tmp/ipykernel_20916/3387159264.py:10: RuntimeWarning:\n",
      "\n",
      "divide by zero encountered in divide\n",
      "\n",
      "/home/davide/Desktop/LAVORO/SEMEION/neural-network-with-fuzzified-inverter/env/lib/python3.10/site-packages/numpy/core/fromnumeric.py:86: RuntimeWarning:\n",
      "\n",
      "invalid value encountered in reduce\n",
      "\n",
      "/tmp/ipykernel_20916/3387159264.py:10: RuntimeWarning:\n",
      "\n",
      "divide by zero encountered in divide\n",
      "\n",
      "/home/davide/Desktop/LAVORO/SEMEION/neural-network-with-fuzzified-inverter/env/lib/python3.10/site-packages/numpy/core/fromnumeric.py:86: RuntimeWarning:\n",
      "\n",
      "invalid value encountered in reduce\n",
      "\n",
      "/tmp/ipykernel_20916/3387159264.py:10: RuntimeWarning:\n",
      "\n",
      "divide by zero encountered in divide\n",
      "\n",
      "/home/davide/Desktop/LAVORO/SEMEION/neural-network-with-fuzzified-inverter/env/lib/python3.10/site-packages/numpy/core/fromnumeric.py:86: RuntimeWarning:\n",
      "\n",
      "invalid value encountered in reduce\n",
      "\n",
      "/tmp/ipykernel_20916/3387159264.py:10: RuntimeWarning:\n",
      "\n",
      "divide by zero encountered in divide\n",
      "\n",
      "/home/davide/Desktop/LAVORO/SEMEION/neural-network-with-fuzzified-inverter/env/lib/python3.10/site-packages/numpy/core/fromnumeric.py:86: RuntimeWarning:\n",
      "\n",
      "invalid value encountered in reduce\n",
      "\n",
      "/tmp/ipykernel_20916/3387159264.py:10: RuntimeWarning:\n",
      "\n",
      "divide by zero encountered in divide\n",
      "\n",
      "/home/davide/Desktop/LAVORO/SEMEION/neural-network-with-fuzzified-inverter/env/lib/python3.10/site-packages/numpy/core/fromnumeric.py:86: RuntimeWarning:\n",
      "\n",
      "invalid value encountered in reduce\n",
      "\n"
     ]
    }
   ],
   "source": [
    "df_free_evolution_dict = {}\n",
    "for subject in subjects:\n",
    "    np_matrix_initial = df_weights_dict[subject].to_numpy()\n",
    "    np_matrix = np_matrix_initial\n",
    "    df_free_evolution_dict[subject] = pd.DataFrame(index = [\"TrRi\",\"RiTr\",\"Plu\",\"Ttra\",\"Ttrb\",\"Tr\",\"MeTr\",\"MoTr\",\"RiRi\",\"MoFo\",\"Mmof\",\"MoRi\",\"MeRi\",\"Ri\",\"Comp\"])\n",
    "    for i in range(0,50):\n",
    "        np_matrix = np.matmul(np_matrix, np_matrix_initial)\n",
    "        sum_np = np.sum(np_matrix, axis=0) #1\n",
    "        df_free_evolution_dict[subject][\"Epoch \"+ str(i)] = list(sum_np)\n",
    "        np_matrix = np.divide(np_matrix, sum_np) # divide() is division by row\n",
    "\n",
    "    df_free_evolution_dict[subject] = df_free_evolution_dict[subject].T"
   ]
  },
  {
   "cell_type": "code",
   "execution_count": 182,
   "metadata": {},
   "outputs": [
    {
     "data": {
      "text/html": [
       "<div>\n",
       "<style scoped>\n",
       "    .dataframe tbody tr th:only-of-type {\n",
       "        vertical-align: middle;\n",
       "    }\n",
       "\n",
       "    .dataframe tbody tr th {\n",
       "        vertical-align: top;\n",
       "    }\n",
       "\n",
       "    .dataframe thead th {\n",
       "        text-align: right;\n",
       "    }\n",
       "</style>\n",
       "<table border=\"1\" class=\"dataframe\">\n",
       "  <thead>\n",
       "    <tr style=\"text-align: right;\">\n",
       "      <th></th>\n",
       "      <th>TrRi</th>\n",
       "      <th>RiTr</th>\n",
       "      <th>Plu</th>\n",
       "      <th>Ttra</th>\n",
       "      <th>Ttrb</th>\n",
       "      <th>Tr</th>\n",
       "      <th>MeTr</th>\n",
       "      <th>MoTr</th>\n",
       "      <th>RiRi</th>\n",
       "      <th>MoFo</th>\n",
       "      <th>Mmof</th>\n",
       "      <th>MoRi</th>\n",
       "      <th>MeRi</th>\n",
       "      <th>Ri</th>\n",
       "      <th>Comp</th>\n",
       "    </tr>\n",
       "  </thead>\n",
       "  <tbody>\n",
       "    <tr>\n",
       "      <th>Epoch 0</th>\n",
       "      <td>3.350551</td>\n",
       "      <td>-0.042014</td>\n",
       "      <td>-3.747826</td>\n",
       "      <td>-2.982141</td>\n",
       "      <td>0.949347</td>\n",
       "      <td>2.503390</td>\n",
       "      <td>-3.816050</td>\n",
       "      <td>3.919131</td>\n",
       "      <td>1.706469</td>\n",
       "      <td>1.204225</td>\n",
       "      <td>1.325109</td>\n",
       "      <td>2.239405</td>\n",
       "      <td>0.256543</td>\n",
       "      <td>-2.397361</td>\n",
       "      <td>3.134337</td>\n",
       "    </tr>\n",
       "    <tr>\n",
       "      <th>Epoch 1</th>\n",
       "      <td>-5.960241</td>\n",
       "      <td>-2.167177</td>\n",
       "      <td>0.061604</td>\n",
       "      <td>2.579468</td>\n",
       "      <td>3.227234</td>\n",
       "      <td>1.460613</td>\n",
       "      <td>0.462245</td>\n",
       "      <td>-1.050456</td>\n",
       "      <td>-3.042887</td>\n",
       "      <td>3.047215</td>\n",
       "      <td>3.044444</td>\n",
       "      <td>-1.204083</td>\n",
       "      <td>-1.142820</td>\n",
       "      <td>-0.075350</td>\n",
       "      <td>0.119957</td>\n",
       "    </tr>\n",
       "    <tr>\n",
       "      <th>Epoch 2</th>\n",
       "      <td>-5.960241</td>\n",
       "      <td>-2.167177</td>\n",
       "      <td>0.061604</td>\n",
       "      <td>2.579468</td>\n",
       "      <td>3.227234</td>\n",
       "      <td>1.460613</td>\n",
       "      <td>0.462245</td>\n",
       "      <td>-1.050456</td>\n",
       "      <td>-3.042887</td>\n",
       "      <td>3.047215</td>\n",
       "      <td>3.044444</td>\n",
       "      <td>-1.204083</td>\n",
       "      <td>-1.142820</td>\n",
       "      <td>-0.075350</td>\n",
       "      <td>0.119957</td>\n",
       "    </tr>\n",
       "    <tr>\n",
       "      <th>Epoch 3</th>\n",
       "      <td>-5.960241</td>\n",
       "      <td>-2.167177</td>\n",
       "      <td>0.061604</td>\n",
       "      <td>2.579468</td>\n",
       "      <td>3.227234</td>\n",
       "      <td>1.460613</td>\n",
       "      <td>0.462245</td>\n",
       "      <td>-1.050456</td>\n",
       "      <td>-3.042887</td>\n",
       "      <td>3.047215</td>\n",
       "      <td>3.044444</td>\n",
       "      <td>-1.204083</td>\n",
       "      <td>-1.142820</td>\n",
       "      <td>-0.075350</td>\n",
       "      <td>0.119957</td>\n",
       "    </tr>\n",
       "    <tr>\n",
       "      <th>Epoch 4</th>\n",
       "      <td>-5.960241</td>\n",
       "      <td>-2.167177</td>\n",
       "      <td>0.061604</td>\n",
       "      <td>2.579468</td>\n",
       "      <td>3.227234</td>\n",
       "      <td>1.460613</td>\n",
       "      <td>0.462245</td>\n",
       "      <td>-1.050456</td>\n",
       "      <td>-3.042887</td>\n",
       "      <td>3.047215</td>\n",
       "      <td>3.044444</td>\n",
       "      <td>-1.204083</td>\n",
       "      <td>-1.142820</td>\n",
       "      <td>-0.075350</td>\n",
       "      <td>0.119957</td>\n",
       "    </tr>\n",
       "  </tbody>\n",
       "</table>\n",
       "</div>"
      ],
      "text/plain": [
       "             TrRi      RiTr       Plu      Ttra      Ttrb        Tr      MeTr  \\\n",
       "Epoch 0  3.350551 -0.042014 -3.747826 -2.982141  0.949347  2.503390 -3.816050   \n",
       "Epoch 1 -5.960241 -2.167177  0.061604  2.579468  3.227234  1.460613  0.462245   \n",
       "Epoch 2 -5.960241 -2.167177  0.061604  2.579468  3.227234  1.460613  0.462245   \n",
       "Epoch 3 -5.960241 -2.167177  0.061604  2.579468  3.227234  1.460613  0.462245   \n",
       "Epoch 4 -5.960241 -2.167177  0.061604  2.579468  3.227234  1.460613  0.462245   \n",
       "\n",
       "             MoTr      RiRi      MoFo      Mmof      MoRi      MeRi        Ri  \\\n",
       "Epoch 0  3.919131  1.706469  1.204225  1.325109  2.239405  0.256543 -2.397361   \n",
       "Epoch 1 -1.050456 -3.042887  3.047215  3.044444 -1.204083 -1.142820 -0.075350   \n",
       "Epoch 2 -1.050456 -3.042887  3.047215  3.044444 -1.204083 -1.142820 -0.075350   \n",
       "Epoch 3 -1.050456 -3.042887  3.047215  3.044444 -1.204083 -1.142820 -0.075350   \n",
       "Epoch 4 -1.050456 -3.042887  3.047215  3.044444 -1.204083 -1.142820 -0.075350   \n",
       "\n",
       "             Comp  \n",
       "Epoch 0  3.134337  \n",
       "Epoch 1  0.119957  \n",
       "Epoch 2  0.119957  \n",
       "Epoch 3  0.119957  \n",
       "Epoch 4  0.119957  "
      ]
     },
     "execution_count": 182,
     "metadata": {},
     "output_type": "execute_result"
    }
   ],
   "source": [
    "df_free_evolution_dict[\"soggetto_1\"].head()"
   ]
  },
  {
   "cell_type": "code",
   "execution_count": null,
   "metadata": {},
   "outputs": [],
   "source": [
    "# nomal matrix: \n",
    "# row output of a dime3nsion\n",
    "# column input of a dimension\n",
    "\n",
    "# transpose matrix:\n",
    "# row input of a dimension\n",
    "# column output of a dimension"
   ]
  },
  {
   "cell_type": "code",
   "execution_count": 183,
   "metadata": {},
   "outputs": [
    {
     "data": {
      "text/plain": [
       "array([[ 0.1, -0.2,  0.3],\n",
       "       [ 0.4,  0.5,  0.6],\n",
       "       [ 0.7, -0.8,  0.9]])"
      ]
     },
     "execution_count": 183,
     "metadata": {},
     "output_type": "execute_result"
    }
   ],
   "source": [
    "# create test np matrix 3x3\n",
    "np_matrix_test = np.array([[0.1,-0.2,0.3],[0.4,0.5,0.6],[0.7,-0.8,0.9]])\n",
    "np_matrix_test"
   ]
  },
  {
   "cell_type": "code",
   "execution_count": 184,
   "metadata": {},
   "outputs": [
    {
     "data": {
      "text/plain": [
       "array([0.2, 1.5, 0.8])"
      ]
     },
     "execution_count": 184,
     "metadata": {},
     "output_type": "execute_result"
    }
   ],
   "source": [
    "# sum over rows\n",
    "sum_np_test = np.sum(np_matrix_test, axis=1)\n",
    "sum_np_test"
   ]
  },
  {
   "cell_type": "code",
   "execution_count": 185,
   "metadata": {},
   "outputs": [
    {
     "data": {
      "text/plain": [
       "array([[ 0.5       , -0.13333333,  0.375     ],\n",
       "       [ 2.        ,  0.33333333,  0.75      ],\n",
       "       [ 3.5       , -0.53333333,  1.125     ]])"
      ]
     },
     "execution_count": 185,
     "metadata": {},
     "output_type": "execute_result"
    }
   ],
   "source": [
    "# divide each row by the sum of the row\n",
    "np_matrix_test = np.divide(np_matrix_test, sum_np_test)\n",
    "np_matrix_test"
   ]
  },
  {
   "cell_type": "code",
   "execution_count": 186,
   "metadata": {},
   "outputs": [
    {
     "data": {
      "application/vnd.plotly.v1+json": {
       "config": {
        "plotlyServerURL": "https://plot.ly"
       },
       "data": [
        {
         "hovertemplate": "variable=TrRi<br>index=%{x}<br>value=%{y}<extra></extra>",
         "legendgroup": "TrRi",
         "line": {
          "color": "#636efa",
          "dash": "solid"
         },
         "marker": {
          "symbol": "circle"
         },
         "mode": "lines",
         "name": "TrRi",
         "orientation": "v",
         "showlegend": true,
         "type": "scatter",
         "x": [
          "Epoch 0",
          "Epoch 1",
          "Epoch 2",
          "Epoch 3",
          "Epoch 4",
          "Epoch 5",
          "Epoch 6",
          "Epoch 7",
          "Epoch 8",
          "Epoch 9",
          "Epoch 10",
          "Epoch 11",
          "Epoch 12",
          "Epoch 13",
          "Epoch 14",
          "Epoch 15",
          "Epoch 16",
          "Epoch 17",
          "Epoch 18",
          "Epoch 19",
          "Epoch 20",
          "Epoch 21",
          "Epoch 22",
          "Epoch 23",
          "Epoch 24",
          "Epoch 25",
          "Epoch 26",
          "Epoch 27",
          "Epoch 28",
          "Epoch 29",
          "Epoch 30",
          "Epoch 31",
          "Epoch 32",
          "Epoch 33",
          "Epoch 34",
          "Epoch 35",
          "Epoch 36",
          "Epoch 37",
          "Epoch 38",
          "Epoch 39",
          "Epoch 40",
          "Epoch 41",
          "Epoch 42",
          "Epoch 43",
          "Epoch 44",
          "Epoch 45",
          "Epoch 46",
          "Epoch 47",
          "Epoch 48",
          "Epoch 49"
         ],
         "xaxis": "x",
         "y": [
          3.3505505212319036,
          -5.960240575199995,
          -5.960240575200004,
          -5.960240575199975,
          -5.960240575200103,
          -5.960240575200601,
          -5.960240575202988,
          -5.960240575197531,
          -5.960240575266653,
          -5.960240575252101,
          -5.9602405754849315,
          -5.960240565240383,
          -5.960240542888641,
          -5.960240483283997,
          -5.960239410400391,
          -5.960231781005859,
          -5.9602203369140625,
          -5.96051025390625,
          -5.9580078125,
          -5.95703125,
          -5.90625,
          -5.875,
          -6,
          -3.5,
          -7.75,
          null,
          null,
          null,
          null,
          null,
          null,
          null,
          null,
          null,
          null,
          null,
          null,
          null,
          null,
          null,
          null,
          null,
          null,
          null,
          null,
          null,
          null,
          null,
          null,
          null
         ],
         "yaxis": "y"
        },
        {
         "hovertemplate": "variable=RiTr<br>index=%{x}<br>value=%{y}<extra></extra>",
         "legendgroup": "RiTr",
         "line": {
          "color": "#EF553B",
          "dash": "solid"
         },
         "marker": {
          "symbol": "circle"
         },
         "mode": "lines",
         "name": "RiTr",
         "orientation": "v",
         "showlegend": true,
         "type": "scatter",
         "x": [
          "Epoch 0",
          "Epoch 1",
          "Epoch 2",
          "Epoch 3",
          "Epoch 4",
          "Epoch 5",
          "Epoch 6",
          "Epoch 7",
          "Epoch 8",
          "Epoch 9",
          "Epoch 10",
          "Epoch 11",
          "Epoch 12",
          "Epoch 13",
          "Epoch 14",
          "Epoch 15",
          "Epoch 16",
          "Epoch 17",
          "Epoch 18",
          "Epoch 19",
          "Epoch 20",
          "Epoch 21",
          "Epoch 22",
          "Epoch 23",
          "Epoch 24",
          "Epoch 25",
          "Epoch 26",
          "Epoch 27",
          "Epoch 28",
          "Epoch 29",
          "Epoch 30",
          "Epoch 31",
          "Epoch 32",
          "Epoch 33",
          "Epoch 34",
          "Epoch 35",
          "Epoch 36",
          "Epoch 37",
          "Epoch 38",
          "Epoch 39",
          "Epoch 40",
          "Epoch 41",
          "Epoch 42",
          "Epoch 43",
          "Epoch 44",
          "Epoch 45",
          "Epoch 46",
          "Epoch 47",
          "Epoch 48",
          "Epoch 49"
         ],
         "xaxis": "x",
         "y": [
          -0.042014407020885325,
          -2.167176620000003,
          -2.167176619999996,
          -2.1671766199999354,
          -2.16717662000012,
          -2.167176620000646,
          -2.1671766200051934,
          -2.1671766200033744,
          -2.167176620045211,
          -2.167176619404927,
          -2.167176619870588,
          -2.167176604270935,
          -2.167176514863968,
          -2.167177200317383,
          -2.1671743392944336,
          -2.1671714782714844,
          -2.167266845703125,
          -2.1668701171875,
          -2.1640625,
          -2.158203125,
          -2.078125,
          -1.875,
          -1.5,
          -1.5,
          -2.90625,
          null,
          null,
          null,
          null,
          null,
          null,
          null,
          null,
          null,
          null,
          null,
          null,
          null,
          null,
          null,
          null,
          null,
          null,
          null,
          null,
          null,
          null,
          null,
          null,
          null
         ],
         "yaxis": "y"
        },
        {
         "hovertemplate": "variable=Plu<br>index=%{x}<br>value=%{y}<extra></extra>",
         "legendgroup": "Plu",
         "line": {
          "color": "#00cc96",
          "dash": "solid"
         },
         "marker": {
          "symbol": "circle"
         },
         "mode": "lines",
         "name": "Plu",
         "orientation": "v",
         "showlegend": true,
         "type": "scatter",
         "x": [
          "Epoch 0",
          "Epoch 1",
          "Epoch 2",
          "Epoch 3",
          "Epoch 4",
          "Epoch 5",
          "Epoch 6",
          "Epoch 7",
          "Epoch 8",
          "Epoch 9",
          "Epoch 10",
          "Epoch 11",
          "Epoch 12",
          "Epoch 13",
          "Epoch 14",
          "Epoch 15",
          "Epoch 16",
          "Epoch 17",
          "Epoch 18",
          "Epoch 19",
          "Epoch 20",
          "Epoch 21",
          "Epoch 22",
          "Epoch 23",
          "Epoch 24",
          "Epoch 25",
          "Epoch 26",
          "Epoch 27",
          "Epoch 28",
          "Epoch 29",
          "Epoch 30",
          "Epoch 31",
          "Epoch 32",
          "Epoch 33",
          "Epoch 34",
          "Epoch 35",
          "Epoch 36",
          "Epoch 37",
          "Epoch 38",
          "Epoch 39",
          "Epoch 40",
          "Epoch 41",
          "Epoch 42",
          "Epoch 43",
          "Epoch 44",
          "Epoch 45",
          "Epoch 46",
          "Epoch 47",
          "Epoch 48",
          "Epoch 49"
         ],
         "xaxis": "x",
         "y": [
          -3.7478261393960994,
          0.06160412799999948,
          0.06160412799999104,
          0.06160412800001325,
          0.06160412799999904,
          0.061604127999316916,
          0.06160412799908954,
          0.061604127986356616,
          0.06160412803001236,
          0.06160412775352597,
          0.061604131013154984,
          0.061604117043316364,
          0.061603933572769165,
          0.06160414218902588,
          0.06160449981689453,
          0.0615997314453125,
          0.06158447265625,
          0.062103271484375,
          0.0634765625,
          0.07421875,
          0.05859375,
          0.125,
          0.375,
          1.5,
          2.5,
          null,
          null,
          null,
          null,
          null,
          null,
          null,
          null,
          null,
          null,
          null,
          null,
          null,
          null,
          null,
          null,
          null,
          null,
          null,
          null,
          null,
          null,
          null,
          null,
          null
         ],
         "yaxis": "y"
        },
        {
         "hovertemplate": "variable=Ttra<br>index=%{x}<br>value=%{y}<extra></extra>",
         "legendgroup": "Ttra",
         "line": {
          "color": "#ab63fa",
          "dash": "solid"
         },
         "marker": {
          "symbol": "circle"
         },
         "mode": "lines",
         "name": "Ttra",
         "orientation": "v",
         "showlegend": true,
         "type": "scatter",
         "x": [
          "Epoch 0",
          "Epoch 1",
          "Epoch 2",
          "Epoch 3",
          "Epoch 4",
          "Epoch 5",
          "Epoch 6",
          "Epoch 7",
          "Epoch 8",
          "Epoch 9",
          "Epoch 10",
          "Epoch 11",
          "Epoch 12",
          "Epoch 13",
          "Epoch 14",
          "Epoch 15",
          "Epoch 16",
          "Epoch 17",
          "Epoch 18",
          "Epoch 19",
          "Epoch 20",
          "Epoch 21",
          "Epoch 22",
          "Epoch 23",
          "Epoch 24",
          "Epoch 25",
          "Epoch 26",
          "Epoch 27",
          "Epoch 28",
          "Epoch 29",
          "Epoch 30",
          "Epoch 31",
          "Epoch 32",
          "Epoch 33",
          "Epoch 34",
          "Epoch 35",
          "Epoch 36",
          "Epoch 37",
          "Epoch 38",
          "Epoch 39",
          "Epoch 40",
          "Epoch 41",
          "Epoch 42",
          "Epoch 43",
          "Epoch 44",
          "Epoch 45",
          "Epoch 46",
          "Epoch 47",
          "Epoch 48",
          "Epoch 49"
         ],
         "xaxis": "x",
         "y": [
          -2.9821411392813135,
          2.5794676200000035,
          2.579467619999999,
          2.5794676199999955,
          2.579467619999946,
          2.5794676200011963,
          2.5794676199971036,
          2.579467620002106,
          2.579467620118521,
          2.579467620002106,
          2.579467622563243,
          2.579467624425888,
          2.5794675881043077,
          2.5794689655303955,
          2.579465866088867,
          2.579453468322754,
          2.5797119140625,
          2.580078125,
          2.578369140625,
          2.5625,
          2.59375,
          2.46875,
          2,
          3.5,
          0.5,
          null,
          null,
          null,
          null,
          null,
          null,
          null,
          null,
          null,
          null,
          null,
          null,
          null,
          null,
          null,
          null,
          null,
          null,
          null,
          null,
          null,
          null,
          null,
          null,
          null
         ],
         "yaxis": "y"
        },
        {
         "hovertemplate": "variable=Ttrb<br>index=%{x}<br>value=%{y}<extra></extra>",
         "legendgroup": "Ttrb",
         "line": {
          "color": "#FFA15A",
          "dash": "solid"
         },
         "marker": {
          "symbol": "circle"
         },
         "mode": "lines",
         "name": "Ttrb",
         "orientation": "v",
         "showlegend": true,
         "type": "scatter",
         "x": [
          "Epoch 0",
          "Epoch 1",
          "Epoch 2",
          "Epoch 3",
          "Epoch 4",
          "Epoch 5",
          "Epoch 6",
          "Epoch 7",
          "Epoch 8",
          "Epoch 9",
          "Epoch 10",
          "Epoch 11",
          "Epoch 12",
          "Epoch 13",
          "Epoch 14",
          "Epoch 15",
          "Epoch 16",
          "Epoch 17",
          "Epoch 18",
          "Epoch 19",
          "Epoch 20",
          "Epoch 21",
          "Epoch 22",
          "Epoch 23",
          "Epoch 24",
          "Epoch 25",
          "Epoch 26",
          "Epoch 27",
          "Epoch 28",
          "Epoch 29",
          "Epoch 30",
          "Epoch 31",
          "Epoch 32",
          "Epoch 33",
          "Epoch 34",
          "Epoch 35",
          "Epoch 36",
          "Epoch 37",
          "Epoch 38",
          "Epoch 39",
          "Epoch 40",
          "Epoch 41",
          "Epoch 42",
          "Epoch 43",
          "Epoch 44",
          "Epoch 45",
          "Epoch 46",
          "Epoch 47",
          "Epoch 48",
          "Epoch 49"
         ],
         "xaxis": "x",
         "y": [
          0.9493471314964185,
          3.2272339199999998,
          3.2272339200000077,
          3.2272339200000273,
          3.2272339200002307,
          3.227233920000458,
          3.22723391999898,
          3.227233920020808,
          3.2272339201299474,
          3.2272339199553244,
          3.2272339230403304,
          3.227233906276524,
          3.2272339463233948,
          3.2272342443466187,
          3.2272355556488037,
          3.227235794067383,
          3.227264404296875,
          3.227294921875,
          3.2265625,
          3.2109375,
          3.21875,
          3.5,
          3.5,
          4.5,
          2,
          null,
          null,
          null,
          null,
          null,
          null,
          null,
          null,
          null,
          null,
          null,
          null,
          null,
          null,
          null,
          null,
          null,
          null,
          null,
          null,
          null,
          null,
          null,
          null,
          null
         ],
         "yaxis": "y"
        },
        {
         "hovertemplate": "variable=Tr<br>index=%{x}<br>value=%{y}<extra></extra>",
         "legendgroup": "Tr",
         "line": {
          "color": "#19d3f3",
          "dash": "solid"
         },
         "marker": {
          "symbol": "circle"
         },
         "mode": "lines",
         "name": "Tr",
         "orientation": "v",
         "showlegend": true,
         "type": "scatter",
         "x": [
          "Epoch 0",
          "Epoch 1",
          "Epoch 2",
          "Epoch 3",
          "Epoch 4",
          "Epoch 5",
          "Epoch 6",
          "Epoch 7",
          "Epoch 8",
          "Epoch 9",
          "Epoch 10",
          "Epoch 11",
          "Epoch 12",
          "Epoch 13",
          "Epoch 14",
          "Epoch 15",
          "Epoch 16",
          "Epoch 17",
          "Epoch 18",
          "Epoch 19",
          "Epoch 20",
          "Epoch 21",
          "Epoch 22",
          "Epoch 23",
          "Epoch 24",
          "Epoch 25",
          "Epoch 26",
          "Epoch 27",
          "Epoch 28",
          "Epoch 29",
          "Epoch 30",
          "Epoch 31",
          "Epoch 32",
          "Epoch 33",
          "Epoch 34",
          "Epoch 35",
          "Epoch 36",
          "Epoch 37",
          "Epoch 38",
          "Epoch 39",
          "Epoch 40",
          "Epoch 41",
          "Epoch 42",
          "Epoch 43",
          "Epoch 44",
          "Epoch 45",
          "Epoch 46",
          "Epoch 47",
          "Epoch 48",
          "Epoch 49"
         ],
         "xaxis": "x",
         "y": [
          2.503389753425579,
          1.4606129409999946,
          1.4606129410000062,
          1.460612941000008,
          1.4606129409999653,
          1.4606129409999085,
          1.4606129410003632,
          1.4606129410130961,
          1.460612941053114,
          1.4606129406020045,
          1.4606129438616335,
          1.4606129499152303,
          1.4606129825115204,
          1.4606127738952637,
          1.4606120586395264,
          1.4606094360351562,
          1.4606170654296875,
          1.460723876953125,
          1.4619140625,
          1.45703125,
          1.48046875,
          1.6875,
          1.0625,
          1.75,
          0.5,
          null,
          null,
          null,
          null,
          null,
          null,
          null,
          null,
          null,
          null,
          null,
          null,
          null,
          null,
          null,
          null,
          null,
          null,
          null,
          null,
          null,
          null,
          null,
          null,
          null
         ],
         "yaxis": "y"
        },
        {
         "hovertemplate": "variable=MeTr<br>index=%{x}<br>value=%{y}<extra></extra>",
         "legendgroup": "MeTr",
         "line": {
          "color": "#FF6692",
          "dash": "solid"
         },
         "marker": {
          "symbol": "circle"
         },
         "mode": "lines",
         "name": "MeTr",
         "orientation": "v",
         "showlegend": true,
         "type": "scatter",
         "x": [
          "Epoch 0",
          "Epoch 1",
          "Epoch 2",
          "Epoch 3",
          "Epoch 4",
          "Epoch 5",
          "Epoch 6",
          "Epoch 7",
          "Epoch 8",
          "Epoch 9",
          "Epoch 10",
          "Epoch 11",
          "Epoch 12",
          "Epoch 13",
          "Epoch 14",
          "Epoch 15",
          "Epoch 16",
          "Epoch 17",
          "Epoch 18",
          "Epoch 19",
          "Epoch 20",
          "Epoch 21",
          "Epoch 22",
          "Epoch 23",
          "Epoch 24",
          "Epoch 25",
          "Epoch 26",
          "Epoch 27",
          "Epoch 28",
          "Epoch 29",
          "Epoch 30",
          "Epoch 31",
          "Epoch 32",
          "Epoch 33",
          "Epoch 34",
          "Epoch 35",
          "Epoch 36",
          "Epoch 37",
          "Epoch 38",
          "Epoch 39",
          "Epoch 40",
          "Epoch 41",
          "Epoch 42",
          "Epoch 43",
          "Epoch 44",
          "Epoch 45",
          "Epoch 46",
          "Epoch 47",
          "Epoch 48",
          "Epoch 49"
         ],
         "xaxis": "x",
         "y": [
          -3.8160495103256706,
          0.46224502700000114,
          0.46224502700000514,
          0.46224502699996606,
          0.46224502700006553,
          0.46224502699993764,
          0.46224502700533776,
          0.46224502698896686,
          0.4622450270981062,
          0.46224502730183303,
          0.4622450275346637,
          0.46224502101540565,
          0.46224504709243774,
          0.4622451066970825,
          0.46224498748779297,
          0.4622306823730469,
          0.46224212646484375,
          0.4622802734375,
          0.4619140625,
          0.455078125,
          0.40625,
          0.625,
          0.5625,
          0.5,
          -1.5,
          null,
          null,
          null,
          null,
          null,
          null,
          null,
          null,
          null,
          null,
          null,
          null,
          null,
          null,
          null,
          null,
          null,
          null,
          null,
          null,
          null,
          null,
          null,
          null,
          null
         ],
         "yaxis": "y"
        },
        {
         "hovertemplate": "variable=MoTr<br>index=%{x}<br>value=%{y}<extra></extra>",
         "legendgroup": "MoTr",
         "line": {
          "color": "#B6E880",
          "dash": "solid"
         },
         "marker": {
          "symbol": "circle"
         },
         "mode": "lines",
         "name": "MoTr",
         "orientation": "v",
         "showlegend": true,
         "type": "scatter",
         "x": [
          "Epoch 0",
          "Epoch 1",
          "Epoch 2",
          "Epoch 3",
          "Epoch 4",
          "Epoch 5",
          "Epoch 6",
          "Epoch 7",
          "Epoch 8",
          "Epoch 9",
          "Epoch 10",
          "Epoch 11",
          "Epoch 12",
          "Epoch 13",
          "Epoch 14",
          "Epoch 15",
          "Epoch 16",
          "Epoch 17",
          "Epoch 18",
          "Epoch 19",
          "Epoch 20",
          "Epoch 21",
          "Epoch 22",
          "Epoch 23",
          "Epoch 24",
          "Epoch 25",
          "Epoch 26",
          "Epoch 27",
          "Epoch 28",
          "Epoch 29",
          "Epoch 30",
          "Epoch 31",
          "Epoch 32",
          "Epoch 33",
          "Epoch 34",
          "Epoch 35",
          "Epoch 36",
          "Epoch 37",
          "Epoch 38",
          "Epoch 39",
          "Epoch 40",
          "Epoch 41",
          "Epoch 42",
          "Epoch 43",
          "Epoch 44",
          "Epoch 45",
          "Epoch 46",
          "Epoch 47",
          "Epoch 48",
          "Epoch 49"
         ],
         "xaxis": "x",
         "y": [
          3.919131174767909,
          -1.0504555180000008,
          -1.0504555180000006,
          -1.0504555179999961,
          -1.0504555179999784,
          -1.0504555179995805,
          -1.0504555180013995,
          -1.0504555179832096,
          -1.0504555179941235,
          -1.0504555181832984,
          -1.0504555176012218,
          -1.0504555217921734,
          -1.050455465912819,
          -1.0504555106163025,
          -1.0504558086395264,
          -1.0504646301269531,
          -1.0504150390625,
          -1.050445556640625,
          -1.05078125,
          -1.0546875,
          -1.05078125,
          -1,
          -1.125,
          -1.5,
          0.5,
          null,
          null,
          null,
          null,
          null,
          null,
          null,
          null,
          null,
          null,
          null,
          null,
          null,
          null,
          null,
          null,
          null,
          null,
          null,
          null,
          null,
          null,
          null,
          null,
          null
         ],
         "yaxis": "y"
        },
        {
         "hovertemplate": "variable=RiRi<br>index=%{x}<br>value=%{y}<extra></extra>",
         "legendgroup": "RiRi",
         "line": {
          "color": "#FF97FF",
          "dash": "solid"
         },
         "marker": {
          "symbol": "circle"
         },
         "mode": "lines",
         "name": "RiRi",
         "orientation": "v",
         "showlegend": true,
         "type": "scatter",
         "x": [
          "Epoch 0",
          "Epoch 1",
          "Epoch 2",
          "Epoch 3",
          "Epoch 4",
          "Epoch 5",
          "Epoch 6",
          "Epoch 7",
          "Epoch 8",
          "Epoch 9",
          "Epoch 10",
          "Epoch 11",
          "Epoch 12",
          "Epoch 13",
          "Epoch 14",
          "Epoch 15",
          "Epoch 16",
          "Epoch 17",
          "Epoch 18",
          "Epoch 19",
          "Epoch 20",
          "Epoch 21",
          "Epoch 22",
          "Epoch 23",
          "Epoch 24",
          "Epoch 25",
          "Epoch 26",
          "Epoch 27",
          "Epoch 28",
          "Epoch 29",
          "Epoch 30",
          "Epoch 31",
          "Epoch 32",
          "Epoch 33",
          "Epoch 34",
          "Epoch 35",
          "Epoch 36",
          "Epoch 37",
          "Epoch 38",
          "Epoch 39",
          "Epoch 40",
          "Epoch 41",
          "Epoch 42",
          "Epoch 43",
          "Epoch 44",
          "Epoch 45",
          "Epoch 46",
          "Epoch 47",
          "Epoch 48",
          "Epoch 49"
         ],
         "xaxis": "x",
         "y": [
          1.7064687393897582,
          -3.042887160000003,
          -3.042887160000005,
          -3.0428871599999923,
          -3.042887160000191,
          -3.042887160000305,
          -3.0428871600051934,
          -3.0428871599724516,
          -3.0428871600015555,
          -3.042887159739621,
          -3.04288716474548,
          -3.042887143790722,
          -3.042887106537819,
          -3.0428872108459473,
          -3.042888641357422,
          -3.042888641357422,
          -3.0429229736328125,
          -3.04345703125,
          -3.0400390625,
          -3.0234375,
          -2.9375,
          -2.90625,
          -1.625,
          -3.5,
          -3.125,
          null,
          null,
          null,
          null,
          null,
          null,
          null,
          null,
          null,
          null,
          null,
          null,
          null,
          null,
          null,
          null,
          null,
          null,
          null,
          null,
          null,
          null,
          null,
          null,
          null
         ],
         "yaxis": "y"
        },
        {
         "hovertemplate": "variable=MoFo<br>index=%{x}<br>value=%{y}<extra></extra>",
         "legendgroup": "MoFo",
         "line": {
          "color": "#FECB52",
          "dash": "solid"
         },
         "marker": {
          "symbol": "circle"
         },
         "mode": "lines",
         "name": "MoFo",
         "orientation": "v",
         "showlegend": true,
         "type": "scatter",
         "x": [
          "Epoch 0",
          "Epoch 1",
          "Epoch 2",
          "Epoch 3",
          "Epoch 4",
          "Epoch 5",
          "Epoch 6",
          "Epoch 7",
          "Epoch 8",
          "Epoch 9",
          "Epoch 10",
          "Epoch 11",
          "Epoch 12",
          "Epoch 13",
          "Epoch 14",
          "Epoch 15",
          "Epoch 16",
          "Epoch 17",
          "Epoch 18",
          "Epoch 19",
          "Epoch 20",
          "Epoch 21",
          "Epoch 22",
          "Epoch 23",
          "Epoch 24",
          "Epoch 25",
          "Epoch 26",
          "Epoch 27",
          "Epoch 28",
          "Epoch 29",
          "Epoch 30",
          "Epoch 31",
          "Epoch 32",
          "Epoch 33",
          "Epoch 34",
          "Epoch 35",
          "Epoch 36",
          "Epoch 37",
          "Epoch 38",
          "Epoch 39",
          "Epoch 40",
          "Epoch 41",
          "Epoch 42",
          "Epoch 43",
          "Epoch 44",
          "Epoch 45",
          "Epoch 46",
          "Epoch 47",
          "Epoch 48",
          "Epoch 49"
         ],
         "xaxis": "x",
         "y": [
          1.2042252811342982,
          3.0472154786000027,
          3.047215478600002,
          3.047215478600009,
          3.047215478599867,
          3.047215478599128,
          3.0472154786020837,
          3.0472154786002648,
          3.047215478727594,
          3.0472154784947634,
          3.047215479426086,
          3.047215446829796,
          3.04721537232399,
          3.047216057777405,
          3.0472183227539062,
          3.047210693359375,
          3.0472793579101562,
          3.048583984375,
          3.0439453125,
          3.033203125,
          2.9375,
          2.875,
          2.5625,
          2.75,
          3,
          null,
          null,
          null,
          null,
          null,
          null,
          null,
          null,
          null,
          null,
          null,
          null,
          null,
          null,
          null,
          null,
          null,
          null,
          null,
          null,
          null,
          null,
          null,
          null,
          null
         ],
         "yaxis": "y"
        },
        {
         "hovertemplate": "variable=Mmof<br>index=%{x}<br>value=%{y}<extra></extra>",
         "legendgroup": "Mmof",
         "line": {
          "color": "#636efa",
          "dash": "solid"
         },
         "marker": {
          "symbol": "circle"
         },
         "mode": "lines",
         "name": "Mmof",
         "orientation": "v",
         "showlegend": true,
         "type": "scatter",
         "x": [
          "Epoch 0",
          "Epoch 1",
          "Epoch 2",
          "Epoch 3",
          "Epoch 4",
          "Epoch 5",
          "Epoch 6",
          "Epoch 7",
          "Epoch 8",
          "Epoch 9",
          "Epoch 10",
          "Epoch 11",
          "Epoch 12",
          "Epoch 13",
          "Epoch 14",
          "Epoch 15",
          "Epoch 16",
          "Epoch 17",
          "Epoch 18",
          "Epoch 19",
          "Epoch 20",
          "Epoch 21",
          "Epoch 22",
          "Epoch 23",
          "Epoch 24",
          "Epoch 25",
          "Epoch 26",
          "Epoch 27",
          "Epoch 28",
          "Epoch 29",
          "Epoch 30",
          "Epoch 31",
          "Epoch 32",
          "Epoch 33",
          "Epoch 34",
          "Epoch 35",
          "Epoch 36",
          "Epoch 37",
          "Epoch 38",
          "Epoch 39",
          "Epoch 40",
          "Epoch 41",
          "Epoch 42",
          "Epoch 43",
          "Epoch 44",
          "Epoch 45",
          "Epoch 46",
          "Epoch 47",
          "Epoch 48",
          "Epoch 49"
         ],
         "xaxis": "x",
         "y": [
          1.3251091432395141,
          3.0444444139999995,
          3.044444413999999,
          3.044444413999962,
          3.0444444139998126,
          3.0444444140009637,
          3.044444413998008,
          3.044444414023019,
          3.0444444140885025,
          3.0444444137392566,
          3.0444444152526557,
          3.0444444119930267,
          3.044444352388382,
          3.0444446206092834,
          3.0444469451904297,
          3.0444469451904297,
          3.0444793701171875,
          3.0443115234375,
          3.045166015625,
          3.03125,
          3.0078125,
          2.96875,
          2.375,
          2,
          4,
          null,
          null,
          null,
          null,
          null,
          null,
          null,
          null,
          null,
          null,
          null,
          null,
          null,
          null,
          null,
          null,
          null,
          null,
          null,
          null,
          null,
          null,
          null,
          null,
          null
         ],
         "yaxis": "y"
        },
        {
         "hovertemplate": "variable=MoRi<br>index=%{x}<br>value=%{y}<extra></extra>",
         "legendgroup": "MoRi",
         "line": {
          "color": "#EF553B",
          "dash": "solid"
         },
         "marker": {
          "symbol": "circle"
         },
         "mode": "lines",
         "name": "MoRi",
         "orientation": "v",
         "showlegend": true,
         "type": "scatter",
         "x": [
          "Epoch 0",
          "Epoch 1",
          "Epoch 2",
          "Epoch 3",
          "Epoch 4",
          "Epoch 5",
          "Epoch 6",
          "Epoch 7",
          "Epoch 8",
          "Epoch 9",
          "Epoch 10",
          "Epoch 11",
          "Epoch 12",
          "Epoch 13",
          "Epoch 14",
          "Epoch 15",
          "Epoch 16",
          "Epoch 17",
          "Epoch 18",
          "Epoch 19",
          "Epoch 20",
          "Epoch 21",
          "Epoch 22",
          "Epoch 23",
          "Epoch 24",
          "Epoch 25",
          "Epoch 26",
          "Epoch 27",
          "Epoch 28",
          "Epoch 29",
          "Epoch 30",
          "Epoch 31",
          "Epoch 32",
          "Epoch 33",
          "Epoch 34",
          "Epoch 35",
          "Epoch 36",
          "Epoch 37",
          "Epoch 38",
          "Epoch 39",
          "Epoch 40",
          "Epoch 41",
          "Epoch 42",
          "Epoch 43",
          "Epoch 44",
          "Epoch 45",
          "Epoch 46",
          "Epoch 47",
          "Epoch 48",
          "Epoch 49"
         ],
         "xaxis": "x",
         "y": [
          2.239405308973077,
          -1.2040828509999997,
          -1.2040828510000097,
          -1.2040828509999884,
          -1.2040828509997858,
          -1.2040828510007486,
          -1.2040828510025676,
          -1.204082851027124,
          -1.204082851036219,
          -1.2040828503668308,
          -1.2040828512981534,
          -1.2040828503668308,
          -1.204082801938057,
          -1.2040829062461853,
          -1.2040843963623047,
          -1.2040824890136719,
          -1.2041015625,
          -1.2039794921875,
          -1.20361328125,
          -1.203125,
          -1.203125,
          -1.125,
          -0.75,
          -0.75,
          0,
          null,
          null,
          null,
          null,
          null,
          null,
          null,
          null,
          null,
          null,
          null,
          null,
          null,
          null,
          null,
          null,
          null,
          null,
          null,
          null,
          null,
          null,
          null,
          null,
          null
         ],
         "yaxis": "y"
        },
        {
         "hovertemplate": "variable=MeRi<br>index=%{x}<br>value=%{y}<extra></extra>",
         "legendgroup": "MeRi",
         "line": {
          "color": "#00cc96",
          "dash": "solid"
         },
         "marker": {
          "symbol": "circle"
         },
         "mode": "lines",
         "name": "MeRi",
         "orientation": "v",
         "showlegend": true,
         "type": "scatter",
         "x": [
          "Epoch 0",
          "Epoch 1",
          "Epoch 2",
          "Epoch 3",
          "Epoch 4",
          "Epoch 5",
          "Epoch 6",
          "Epoch 7",
          "Epoch 8",
          "Epoch 9",
          "Epoch 10",
          "Epoch 11",
          "Epoch 12",
          "Epoch 13",
          "Epoch 14",
          "Epoch 15",
          "Epoch 16",
          "Epoch 17",
          "Epoch 18",
          "Epoch 19",
          "Epoch 20",
          "Epoch 21",
          "Epoch 22",
          "Epoch 23",
          "Epoch 24",
          "Epoch 25",
          "Epoch 26",
          "Epoch 27",
          "Epoch 28",
          "Epoch 29",
          "Epoch 30",
          "Epoch 31",
          "Epoch 32",
          "Epoch 33",
          "Epoch 34",
          "Epoch 35",
          "Epoch 36",
          "Epoch 37",
          "Epoch 38",
          "Epoch 39",
          "Epoch 40",
          "Epoch 41",
          "Epoch 42",
          "Epoch 43",
          "Epoch 44",
          "Epoch 45",
          "Epoch 46",
          "Epoch 47",
          "Epoch 48",
          "Epoch 49"
         ],
         "xaxis": "x",
         "y": [
          0.2565425784333655,
          -1.1428198947300001,
          -1.1428198947300032,
          -1.142819894729982,
          -1.1428198947299393,
          -1.1428198947301098,
          -1.1428198947306782,
          -1.1428198947614874,
          -1.1428198948851787,
          -1.14281989535084,
          -1.1428198916837573,
          -1.142819881439209,
          -1.1428198926150799,
          -1.1428202390670776,
          -1.1428155899047852,
          -1.1428394317626953,
          -1.142822265625,
          -1.1427001953125,
          -1.1422119140625,
          -1.125,
          -1.203125,
          -1.109375,
          -0.25,
          -1.5,
          -2,
          null,
          null,
          null,
          null,
          null,
          null,
          null,
          null,
          null,
          null,
          null,
          null,
          null,
          null,
          null,
          null,
          null,
          null,
          null,
          null,
          null,
          null,
          null,
          null,
          null
         ],
         "yaxis": "y"
        },
        {
         "hovertemplate": "variable=Ri<br>index=%{x}<br>value=%{y}<extra></extra>",
         "legendgroup": "Ri",
         "line": {
          "color": "#ab63fa",
          "dash": "solid"
         },
         "marker": {
          "symbol": "circle"
         },
         "mode": "lines",
         "name": "Ri",
         "orientation": "v",
         "showlegend": true,
         "type": "scatter",
         "x": [
          "Epoch 0",
          "Epoch 1",
          "Epoch 2",
          "Epoch 3",
          "Epoch 4",
          "Epoch 5",
          "Epoch 6",
          "Epoch 7",
          "Epoch 8",
          "Epoch 9",
          "Epoch 10",
          "Epoch 11",
          "Epoch 12",
          "Epoch 13",
          "Epoch 14",
          "Epoch 15",
          "Epoch 16",
          "Epoch 17",
          "Epoch 18",
          "Epoch 19",
          "Epoch 20",
          "Epoch 21",
          "Epoch 22",
          "Epoch 23",
          "Epoch 24",
          "Epoch 25",
          "Epoch 26",
          "Epoch 27",
          "Epoch 28",
          "Epoch 29",
          "Epoch 30",
          "Epoch 31",
          "Epoch 32",
          "Epoch 33",
          "Epoch 34",
          "Epoch 35",
          "Epoch 36",
          "Epoch 37",
          "Epoch 38",
          "Epoch 39",
          "Epoch 40",
          "Epoch 41",
          "Epoch 42",
          "Epoch 43",
          "Epoch 44",
          "Epoch 45",
          "Epoch 46",
          "Epoch 47",
          "Epoch 48",
          "Epoch 49"
         ],
         "xaxis": "x",
         "y": [
          -2.39736056286743,
          -0.07535004699999992,
          -0.07535004700001124,
          -0.07535004700001835,
          -0.07535004700012848,
          -0.07535004699980163,
          -0.07535004700002901,
          -0.0753500469836581,
          -0.07535004708915949,
          -0.07535004720557481,
          -0.07535004522651434,
          -0.07535005360841751,
          -0.07535010576248169,
          -0.07534933090209961,
          -0.07535076141357422,
          -0.07535171508789062,
          -0.07537841796875,
          -0.0751953125,
          -0.076171875,
          -0.091796875,
          -0.109375,
          -0.125,
          0.625,
          -0.625,
          -1,
          null,
          null,
          null,
          null,
          null,
          null,
          null,
          null,
          null,
          null,
          null,
          null,
          null,
          null,
          null,
          null,
          null,
          null,
          null,
          null,
          null,
          null,
          null,
          null,
          null
         ],
         "yaxis": "y"
        },
        {
         "hovertemplate": "variable=Comp<br>index=%{x}<br>value=%{y}<extra></extra>",
         "legendgroup": "Comp",
         "line": {
          "color": "#FFA15A",
          "dash": "solid"
         },
         "marker": {
          "symbol": "circle"
         },
         "mode": "lines",
         "name": "Comp",
         "orientation": "v",
         "showlegend": true,
         "type": "scatter",
         "x": [
          "Epoch 0",
          "Epoch 1",
          "Epoch 2",
          "Epoch 3",
          "Epoch 4",
          "Epoch 5",
          "Epoch 6",
          "Epoch 7",
          "Epoch 8",
          "Epoch 9",
          "Epoch 10",
          "Epoch 11",
          "Epoch 12",
          "Epoch 13",
          "Epoch 14",
          "Epoch 15",
          "Epoch 16",
          "Epoch 17",
          "Epoch 18",
          "Epoch 19",
          "Epoch 20",
          "Epoch 21",
          "Epoch 22",
          "Epoch 23",
          "Epoch 24",
          "Epoch 25",
          "Epoch 26",
          "Epoch 27",
          "Epoch 28",
          "Epoch 29",
          "Epoch 30",
          "Epoch 31",
          "Epoch 32",
          "Epoch 33",
          "Epoch 34",
          "Epoch 35",
          "Epoch 36",
          "Epoch 37",
          "Epoch 38",
          "Epoch 39",
          "Epoch 40",
          "Epoch 41",
          "Epoch 42",
          "Epoch 43",
          "Epoch 44",
          "Epoch 45",
          "Epoch 46",
          "Epoch 47",
          "Epoch 48",
          "Epoch 49"
         ],
         "xaxis": "x",
         "y": [
          3.1343371033121312,
          0.1199566449999997,
          0.11995664499999847,
          0.11995664499999847,
          0.11995664500000203,
          0.1199566449998315,
          0.1199566450002294,
          0.11995664499409031,
          0.11995664497271719,
          0.11995664495043457,
          0.11995664378628135,
          0.11995664332062006,
          0.11995666474103928,
          0.11995667219161987,
          0.1199565976858139,
          0.11996078491210938,
          0.119964599609375,
          0.119842529296875,
          0.119873046875,
          0.1220703125,
          0.13010406494140625,
          0.21875,
          -0.125,
          0.125,
          -5,
          null,
          null,
          null,
          null,
          null,
          null,
          null,
          null,
          null,
          null,
          null,
          null,
          null,
          null,
          null,
          null,
          null,
          null,
          null,
          null,
          null,
          null,
          null,
          null,
          null
         ],
         "yaxis": "y"
        }
       ],
       "layout": {
        "legend": {
         "title": {
          "text": "variable"
         },
         "tracegroupgap": 0
        },
        "template": {
         "data": {
          "bar": [
           {
            "error_x": {
             "color": "#2a3f5f"
            },
            "error_y": {
             "color": "#2a3f5f"
            },
            "marker": {
             "line": {
              "color": "#E5ECF6",
              "width": 0.5
             },
             "pattern": {
              "fillmode": "overlay",
              "size": 10,
              "solidity": 0.2
             }
            },
            "type": "bar"
           }
          ],
          "barpolar": [
           {
            "marker": {
             "line": {
              "color": "#E5ECF6",
              "width": 0.5
             },
             "pattern": {
              "fillmode": "overlay",
              "size": 10,
              "solidity": 0.2
             }
            },
            "type": "barpolar"
           }
          ],
          "carpet": [
           {
            "aaxis": {
             "endlinecolor": "#2a3f5f",
             "gridcolor": "white",
             "linecolor": "white",
             "minorgridcolor": "white",
             "startlinecolor": "#2a3f5f"
            },
            "baxis": {
             "endlinecolor": "#2a3f5f",
             "gridcolor": "white",
             "linecolor": "white",
             "minorgridcolor": "white",
             "startlinecolor": "#2a3f5f"
            },
            "type": "carpet"
           }
          ],
          "choropleth": [
           {
            "colorbar": {
             "outlinewidth": 0,
             "ticks": ""
            },
            "type": "choropleth"
           }
          ],
          "contour": [
           {
            "colorbar": {
             "outlinewidth": 0,
             "ticks": ""
            },
            "colorscale": [
             [
              0,
              "#0d0887"
             ],
             [
              0.1111111111111111,
              "#46039f"
             ],
             [
              0.2222222222222222,
              "#7201a8"
             ],
             [
              0.3333333333333333,
              "#9c179e"
             ],
             [
              0.4444444444444444,
              "#bd3786"
             ],
             [
              0.5555555555555556,
              "#d8576b"
             ],
             [
              0.6666666666666666,
              "#ed7953"
             ],
             [
              0.7777777777777778,
              "#fb9f3a"
             ],
             [
              0.8888888888888888,
              "#fdca26"
             ],
             [
              1,
              "#f0f921"
             ]
            ],
            "type": "contour"
           }
          ],
          "contourcarpet": [
           {
            "colorbar": {
             "outlinewidth": 0,
             "ticks": ""
            },
            "type": "contourcarpet"
           }
          ],
          "heatmap": [
           {
            "colorbar": {
             "outlinewidth": 0,
             "ticks": ""
            },
            "colorscale": [
             [
              0,
              "#0d0887"
             ],
             [
              0.1111111111111111,
              "#46039f"
             ],
             [
              0.2222222222222222,
              "#7201a8"
             ],
             [
              0.3333333333333333,
              "#9c179e"
             ],
             [
              0.4444444444444444,
              "#bd3786"
             ],
             [
              0.5555555555555556,
              "#d8576b"
             ],
             [
              0.6666666666666666,
              "#ed7953"
             ],
             [
              0.7777777777777778,
              "#fb9f3a"
             ],
             [
              0.8888888888888888,
              "#fdca26"
             ],
             [
              1,
              "#f0f921"
             ]
            ],
            "type": "heatmap"
           }
          ],
          "heatmapgl": [
           {
            "colorbar": {
             "outlinewidth": 0,
             "ticks": ""
            },
            "colorscale": [
             [
              0,
              "#0d0887"
             ],
             [
              0.1111111111111111,
              "#46039f"
             ],
             [
              0.2222222222222222,
              "#7201a8"
             ],
             [
              0.3333333333333333,
              "#9c179e"
             ],
             [
              0.4444444444444444,
              "#bd3786"
             ],
             [
              0.5555555555555556,
              "#d8576b"
             ],
             [
              0.6666666666666666,
              "#ed7953"
             ],
             [
              0.7777777777777778,
              "#fb9f3a"
             ],
             [
              0.8888888888888888,
              "#fdca26"
             ],
             [
              1,
              "#f0f921"
             ]
            ],
            "type": "heatmapgl"
           }
          ],
          "histogram": [
           {
            "marker": {
             "pattern": {
              "fillmode": "overlay",
              "size": 10,
              "solidity": 0.2
             }
            },
            "type": "histogram"
           }
          ],
          "histogram2d": [
           {
            "colorbar": {
             "outlinewidth": 0,
             "ticks": ""
            },
            "colorscale": [
             [
              0,
              "#0d0887"
             ],
             [
              0.1111111111111111,
              "#46039f"
             ],
             [
              0.2222222222222222,
              "#7201a8"
             ],
             [
              0.3333333333333333,
              "#9c179e"
             ],
             [
              0.4444444444444444,
              "#bd3786"
             ],
             [
              0.5555555555555556,
              "#d8576b"
             ],
             [
              0.6666666666666666,
              "#ed7953"
             ],
             [
              0.7777777777777778,
              "#fb9f3a"
             ],
             [
              0.8888888888888888,
              "#fdca26"
             ],
             [
              1,
              "#f0f921"
             ]
            ],
            "type": "histogram2d"
           }
          ],
          "histogram2dcontour": [
           {
            "colorbar": {
             "outlinewidth": 0,
             "ticks": ""
            },
            "colorscale": [
             [
              0,
              "#0d0887"
             ],
             [
              0.1111111111111111,
              "#46039f"
             ],
             [
              0.2222222222222222,
              "#7201a8"
             ],
             [
              0.3333333333333333,
              "#9c179e"
             ],
             [
              0.4444444444444444,
              "#bd3786"
             ],
             [
              0.5555555555555556,
              "#d8576b"
             ],
             [
              0.6666666666666666,
              "#ed7953"
             ],
             [
              0.7777777777777778,
              "#fb9f3a"
             ],
             [
              0.8888888888888888,
              "#fdca26"
             ],
             [
              1,
              "#f0f921"
             ]
            ],
            "type": "histogram2dcontour"
           }
          ],
          "mesh3d": [
           {
            "colorbar": {
             "outlinewidth": 0,
             "ticks": ""
            },
            "type": "mesh3d"
           }
          ],
          "parcoords": [
           {
            "line": {
             "colorbar": {
              "outlinewidth": 0,
              "ticks": ""
             }
            },
            "type": "parcoords"
           }
          ],
          "pie": [
           {
            "automargin": true,
            "type": "pie"
           }
          ],
          "scatter": [
           {
            "fillpattern": {
             "fillmode": "overlay",
             "size": 10,
             "solidity": 0.2
            },
            "type": "scatter"
           }
          ],
          "scatter3d": [
           {
            "line": {
             "colorbar": {
              "outlinewidth": 0,
              "ticks": ""
             }
            },
            "marker": {
             "colorbar": {
              "outlinewidth": 0,
              "ticks": ""
             }
            },
            "type": "scatter3d"
           }
          ],
          "scattercarpet": [
           {
            "marker": {
             "colorbar": {
              "outlinewidth": 0,
              "ticks": ""
             }
            },
            "type": "scattercarpet"
           }
          ],
          "scattergeo": [
           {
            "marker": {
             "colorbar": {
              "outlinewidth": 0,
              "ticks": ""
             }
            },
            "type": "scattergeo"
           }
          ],
          "scattergl": [
           {
            "marker": {
             "colorbar": {
              "outlinewidth": 0,
              "ticks": ""
             }
            },
            "type": "scattergl"
           }
          ],
          "scattermapbox": [
           {
            "marker": {
             "colorbar": {
              "outlinewidth": 0,
              "ticks": ""
             }
            },
            "type": "scattermapbox"
           }
          ],
          "scatterpolar": [
           {
            "marker": {
             "colorbar": {
              "outlinewidth": 0,
              "ticks": ""
             }
            },
            "type": "scatterpolar"
           }
          ],
          "scatterpolargl": [
           {
            "marker": {
             "colorbar": {
              "outlinewidth": 0,
              "ticks": ""
             }
            },
            "type": "scatterpolargl"
           }
          ],
          "scatterternary": [
           {
            "marker": {
             "colorbar": {
              "outlinewidth": 0,
              "ticks": ""
             }
            },
            "type": "scatterternary"
           }
          ],
          "surface": [
           {
            "colorbar": {
             "outlinewidth": 0,
             "ticks": ""
            },
            "colorscale": [
             [
              0,
              "#0d0887"
             ],
             [
              0.1111111111111111,
              "#46039f"
             ],
             [
              0.2222222222222222,
              "#7201a8"
             ],
             [
              0.3333333333333333,
              "#9c179e"
             ],
             [
              0.4444444444444444,
              "#bd3786"
             ],
             [
              0.5555555555555556,
              "#d8576b"
             ],
             [
              0.6666666666666666,
              "#ed7953"
             ],
             [
              0.7777777777777778,
              "#fb9f3a"
             ],
             [
              0.8888888888888888,
              "#fdca26"
             ],
             [
              1,
              "#f0f921"
             ]
            ],
            "type": "surface"
           }
          ],
          "table": [
           {
            "cells": {
             "fill": {
              "color": "#EBF0F8"
             },
             "line": {
              "color": "white"
             }
            },
            "header": {
             "fill": {
              "color": "#C8D4E3"
             },
             "line": {
              "color": "white"
             }
            },
            "type": "table"
           }
          ]
         },
         "layout": {
          "annotationdefaults": {
           "arrowcolor": "#2a3f5f",
           "arrowhead": 0,
           "arrowwidth": 1
          },
          "autotypenumbers": "strict",
          "coloraxis": {
           "colorbar": {
            "outlinewidth": 0,
            "ticks": ""
           }
          },
          "colorscale": {
           "diverging": [
            [
             0,
             "#8e0152"
            ],
            [
             0.1,
             "#c51b7d"
            ],
            [
             0.2,
             "#de77ae"
            ],
            [
             0.3,
             "#f1b6da"
            ],
            [
             0.4,
             "#fde0ef"
            ],
            [
             0.5,
             "#f7f7f7"
            ],
            [
             0.6,
             "#e6f5d0"
            ],
            [
             0.7,
             "#b8e186"
            ],
            [
             0.8,
             "#7fbc41"
            ],
            [
             0.9,
             "#4d9221"
            ],
            [
             1,
             "#276419"
            ]
           ],
           "sequential": [
            [
             0,
             "#0d0887"
            ],
            [
             0.1111111111111111,
             "#46039f"
            ],
            [
             0.2222222222222222,
             "#7201a8"
            ],
            [
             0.3333333333333333,
             "#9c179e"
            ],
            [
             0.4444444444444444,
             "#bd3786"
            ],
            [
             0.5555555555555556,
             "#d8576b"
            ],
            [
             0.6666666666666666,
             "#ed7953"
            ],
            [
             0.7777777777777778,
             "#fb9f3a"
            ],
            [
             0.8888888888888888,
             "#fdca26"
            ],
            [
             1,
             "#f0f921"
            ]
           ],
           "sequentialminus": [
            [
             0,
             "#0d0887"
            ],
            [
             0.1111111111111111,
             "#46039f"
            ],
            [
             0.2222222222222222,
             "#7201a8"
            ],
            [
             0.3333333333333333,
             "#9c179e"
            ],
            [
             0.4444444444444444,
             "#bd3786"
            ],
            [
             0.5555555555555556,
             "#d8576b"
            ],
            [
             0.6666666666666666,
             "#ed7953"
            ],
            [
             0.7777777777777778,
             "#fb9f3a"
            ],
            [
             0.8888888888888888,
             "#fdca26"
            ],
            [
             1,
             "#f0f921"
            ]
           ]
          },
          "colorway": [
           "#636efa",
           "#EF553B",
           "#00cc96",
           "#ab63fa",
           "#FFA15A",
           "#19d3f3",
           "#FF6692",
           "#B6E880",
           "#FF97FF",
           "#FECB52"
          ],
          "font": {
           "color": "#2a3f5f"
          },
          "geo": {
           "bgcolor": "white",
           "lakecolor": "white",
           "landcolor": "#E5ECF6",
           "showlakes": true,
           "showland": true,
           "subunitcolor": "white"
          },
          "hoverlabel": {
           "align": "left"
          },
          "hovermode": "closest",
          "mapbox": {
           "style": "light"
          },
          "paper_bgcolor": "white",
          "plot_bgcolor": "#E5ECF6",
          "polar": {
           "angularaxis": {
            "gridcolor": "white",
            "linecolor": "white",
            "ticks": ""
           },
           "bgcolor": "#E5ECF6",
           "radialaxis": {
            "gridcolor": "white",
            "linecolor": "white",
            "ticks": ""
           }
          },
          "scene": {
           "xaxis": {
            "backgroundcolor": "#E5ECF6",
            "gridcolor": "white",
            "gridwidth": 2,
            "linecolor": "white",
            "showbackground": true,
            "ticks": "",
            "zerolinecolor": "white"
           },
           "yaxis": {
            "backgroundcolor": "#E5ECF6",
            "gridcolor": "white",
            "gridwidth": 2,
            "linecolor": "white",
            "showbackground": true,
            "ticks": "",
            "zerolinecolor": "white"
           },
           "zaxis": {
            "backgroundcolor": "#E5ECF6",
            "gridcolor": "white",
            "gridwidth": 2,
            "linecolor": "white",
            "showbackground": true,
            "ticks": "",
            "zerolinecolor": "white"
           }
          },
          "shapedefaults": {
           "line": {
            "color": "#2a3f5f"
           }
          },
          "ternary": {
           "aaxis": {
            "gridcolor": "white",
            "linecolor": "white",
            "ticks": ""
           },
           "baxis": {
            "gridcolor": "white",
            "linecolor": "white",
            "ticks": ""
           },
           "bgcolor": "#E5ECF6",
           "caxis": {
            "gridcolor": "white",
            "linecolor": "white",
            "ticks": ""
           }
          },
          "title": {
           "x": 0.05
          },
          "xaxis": {
           "automargin": true,
           "gridcolor": "white",
           "linecolor": "white",
           "ticks": "",
           "title": {
            "standoff": 15
           },
           "zerolinecolor": "white",
           "zerolinewidth": 2
          },
          "yaxis": {
           "automargin": true,
           "gridcolor": "white",
           "linecolor": "white",
           "ticks": "",
           "title": {
            "standoff": 15
           },
           "zerolinecolor": "white",
           "zerolinewidth": 2
          }
         }
        },
        "title": {
         "text": "Free evolution of the weights for subject soggetto_1"
        },
        "xaxis": {
         "anchor": "y",
         "domain": [
          0,
          1
         ],
         "title": {
          "text": "index"
         }
        },
        "yaxis": {
         "anchor": "x",
         "domain": [
          0,
          1
         ],
         "title": {
          "text": "value"
         }
        }
       }
      }
     },
     "metadata": {},
     "output_type": "display_data"
    },
    {
     "data": {
      "application/vnd.plotly.v1+json": {
       "config": {
        "plotlyServerURL": "https://plot.ly"
       },
       "data": [
        {
         "hovertemplate": "variable=TrRi<br>index=%{x}<br>value=%{y}<extra></extra>",
         "legendgroup": "TrRi",
         "line": {
          "color": "#636efa",
          "dash": "solid"
         },
         "marker": {
          "symbol": "circle"
         },
         "mode": "lines",
         "name": "TrRi",
         "orientation": "v",
         "showlegend": true,
         "type": "scatter",
         "x": [
          "Epoch 0",
          "Epoch 1",
          "Epoch 2",
          "Epoch 3",
          "Epoch 4",
          "Epoch 5",
          "Epoch 6",
          "Epoch 7",
          "Epoch 8",
          "Epoch 9",
          "Epoch 10",
          "Epoch 11",
          "Epoch 12",
          "Epoch 13",
          "Epoch 14",
          "Epoch 15",
          "Epoch 16",
          "Epoch 17",
          "Epoch 18",
          "Epoch 19",
          "Epoch 20",
          "Epoch 21",
          "Epoch 22",
          "Epoch 23",
          "Epoch 24",
          "Epoch 25",
          "Epoch 26",
          "Epoch 27",
          "Epoch 28",
          "Epoch 29",
          "Epoch 30",
          "Epoch 31",
          "Epoch 32",
          "Epoch 33",
          "Epoch 34",
          "Epoch 35",
          "Epoch 36",
          "Epoch 37",
          "Epoch 38",
          "Epoch 39",
          "Epoch 40",
          "Epoch 41",
          "Epoch 42",
          "Epoch 43",
          "Epoch 44",
          "Epoch 45",
          "Epoch 46",
          "Epoch 47",
          "Epoch 48",
          "Epoch 49"
         ],
         "xaxis": "x",
         "y": [
          2.9137271798022644,
          1.2232336659999994,
          1.2232336660000016,
          1.2232336659999818,
          1.22323366600002,
          1.2232336660007945,
          1.2232336659849352,
          1.223233665994485,
          1.2232336671004305,
          1.2232336712768301,
          1.2232336727902293,
          1.223233737051487,
          1.223231315612793,
          1.2232251167297363,
          1.2231216430664062,
          1.223175048828125,
          1.234130859375,
          1.224609375,
          0.78125,
          0.125,
          10.5,
          1.03125,
          -0.375,
          -14.5,
          -0.25,
          -0.75,
          -3.5,
          -2.75,
          -0.625,
          -4.5,
          null,
          null,
          null,
          null,
          null,
          null,
          null,
          null,
          null,
          null,
          null,
          null,
          null,
          null,
          null,
          null,
          null,
          null,
          null,
          null
         ],
         "yaxis": "y"
        },
        {
         "hovertemplate": "variable=RiTr<br>index=%{x}<br>value=%{y}<extra></extra>",
         "legendgroup": "RiTr",
         "line": {
          "color": "#EF553B",
          "dash": "solid"
         },
         "marker": {
          "symbol": "circle"
         },
         "mode": "lines",
         "name": "RiTr",
         "orientation": "v",
         "showlegend": true,
         "type": "scatter",
         "x": [
          "Epoch 0",
          "Epoch 1",
          "Epoch 2",
          "Epoch 3",
          "Epoch 4",
          "Epoch 5",
          "Epoch 6",
          "Epoch 7",
          "Epoch 8",
          "Epoch 9",
          "Epoch 10",
          "Epoch 11",
          "Epoch 12",
          "Epoch 13",
          "Epoch 14",
          "Epoch 15",
          "Epoch 16",
          "Epoch 17",
          "Epoch 18",
          "Epoch 19",
          "Epoch 20",
          "Epoch 21",
          "Epoch 22",
          "Epoch 23",
          "Epoch 24",
          "Epoch 25",
          "Epoch 26",
          "Epoch 27",
          "Epoch 28",
          "Epoch 29",
          "Epoch 30",
          "Epoch 31",
          "Epoch 32",
          "Epoch 33",
          "Epoch 34",
          "Epoch 35",
          "Epoch 36",
          "Epoch 37",
          "Epoch 38",
          "Epoch 39",
          "Epoch 40",
          "Epoch 41",
          "Epoch 42",
          "Epoch 43",
          "Epoch 44",
          "Epoch 45",
          "Epoch 46",
          "Epoch 47",
          "Epoch 48",
          "Epoch 49"
         ],
         "xaxis": "x",
         "y": [
          -7.608754509940781,
          2.084718655,
          2.0847186549999996,
          2.0847186549999854,
          2.0847186550000174,
          2.0847186549999606,
          2.084718654990411,
          2.084718654991775,
          2.0847186553655774,
          2.0847186565515585,
          2.0847186567261815,
          2.0847186148166656,
          2.0847164392471313,
          2.084723711013794,
          2.084752082824707,
          2.0848312377929688,
          2.0830078125,
          2.07177734375,
          1.95703125,
          1.375,
          4.25,
          4.8125,
          3.375,
          -5.5,
          2.125,
          1.5,
          2.3125,
          2,
          0.625,
          9.125,
          null,
          null,
          null,
          null,
          null,
          null,
          null,
          null,
          null,
          null,
          null,
          null,
          null,
          null,
          null,
          null,
          null,
          null,
          null,
          null
         ],
         "yaxis": "y"
        },
        {
         "hovertemplate": "variable=Plu<br>index=%{x}<br>value=%{y}<extra></extra>",
         "legendgroup": "Plu",
         "line": {
          "color": "#00cc96",
          "dash": "solid"
         },
         "marker": {
          "symbol": "circle"
         },
         "mode": "lines",
         "name": "Plu",
         "orientation": "v",
         "showlegend": true,
         "type": "scatter",
         "x": [
          "Epoch 0",
          "Epoch 1",
          "Epoch 2",
          "Epoch 3",
          "Epoch 4",
          "Epoch 5",
          "Epoch 6",
          "Epoch 7",
          "Epoch 8",
          "Epoch 9",
          "Epoch 10",
          "Epoch 11",
          "Epoch 12",
          "Epoch 13",
          "Epoch 14",
          "Epoch 15",
          "Epoch 16",
          "Epoch 17",
          "Epoch 18",
          "Epoch 19",
          "Epoch 20",
          "Epoch 21",
          "Epoch 22",
          "Epoch 23",
          "Epoch 24",
          "Epoch 25",
          "Epoch 26",
          "Epoch 27",
          "Epoch 28",
          "Epoch 29",
          "Epoch 30",
          "Epoch 31",
          "Epoch 32",
          "Epoch 33",
          "Epoch 34",
          "Epoch 35",
          "Epoch 36",
          "Epoch 37",
          "Epoch 38",
          "Epoch 39",
          "Epoch 40",
          "Epoch 41",
          "Epoch 42",
          "Epoch 43",
          "Epoch 44",
          "Epoch 45",
          "Epoch 46",
          "Epoch 47",
          "Epoch 48",
          "Epoch 49"
         ],
         "xaxis": "x",
         "y": [
          5.113993900262954,
          2.771357316999999,
          2.7713573170000005,
          2.7713573170000165,
          2.7713573170000636,
          2.7713573170001666,
          2.771357317001275,
          2.7713573169985466,
          2.771357316923968,
          2.771357315592468,
          2.7713573165237904,
          2.7713574208319187,
          2.7713572084903717,
          2.77135968208313,
          2.7713584899902344,
          2.7712249755859375,
          2.77191162109375,
          2.7734375,
          2.74609375,
          4.4375,
          0.625,
          5,
          3.25,
          -12,
          -5.75,
          2.125,
          5.5,
          4.5,
          11.5,
          -16,
          null,
          null,
          null,
          null,
          null,
          null,
          null,
          null,
          null,
          null,
          null,
          null,
          null,
          null,
          null,
          null,
          null,
          null,
          null,
          null
         ],
         "yaxis": "y"
        },
        {
         "hovertemplate": "variable=Ttra<br>index=%{x}<br>value=%{y}<extra></extra>",
         "legendgroup": "Ttra",
         "line": {
          "color": "#ab63fa",
          "dash": "solid"
         },
         "marker": {
          "symbol": "circle"
         },
         "mode": "lines",
         "name": "Ttra",
         "orientation": "v",
         "showlegend": true,
         "type": "scatter",
         "x": [
          "Epoch 0",
          "Epoch 1",
          "Epoch 2",
          "Epoch 3",
          "Epoch 4",
          "Epoch 5",
          "Epoch 6",
          "Epoch 7",
          "Epoch 8",
          "Epoch 9",
          "Epoch 10",
          "Epoch 11",
          "Epoch 12",
          "Epoch 13",
          "Epoch 14",
          "Epoch 15",
          "Epoch 16",
          "Epoch 17",
          "Epoch 18",
          "Epoch 19",
          "Epoch 20",
          "Epoch 21",
          "Epoch 22",
          "Epoch 23",
          "Epoch 24",
          "Epoch 25",
          "Epoch 26",
          "Epoch 27",
          "Epoch 28",
          "Epoch 29",
          "Epoch 30",
          "Epoch 31",
          "Epoch 32",
          "Epoch 33",
          "Epoch 34",
          "Epoch 35",
          "Epoch 36",
          "Epoch 37",
          "Epoch 38",
          "Epoch 39",
          "Epoch 40",
          "Epoch 41",
          "Epoch 42",
          "Epoch 43",
          "Epoch 44",
          "Epoch 45",
          "Epoch 46",
          "Epoch 47",
          "Epoch 48",
          "Epoch 49"
         ],
         "xaxis": "x",
         "y": [
          4.312304362229815,
          0.017383878999999807,
          0.01738387900000038,
          0.017383878999999602,
          0.01738387899997562,
          0.017383878999851277,
          0.017383879001613423,
          0.017383879022418114,
          0.01738387902150862,
          0.017383878701366484,
          0.017383877653628588,
          0.017383869737386703,
          0.017384082078933716,
          0.01738452911376953,
          0.017386436462402344,
          0.01740264892578125,
          0.0169677734375,
          0.01025390625,
          0.02734375,
          -0.0625,
          1.5,
          4,
          0.375,
          5.53125,
          -2.1875,
          -4.875,
          -0.5,
          -0.75,
          -1.8125,
          0.5,
          null,
          null,
          null,
          null,
          null,
          null,
          null,
          null,
          null,
          null,
          null,
          null,
          null,
          null,
          null,
          null,
          null,
          null,
          null,
          null
         ],
         "yaxis": "y"
        },
        {
         "hovertemplate": "variable=Ttrb<br>index=%{x}<br>value=%{y}<extra></extra>",
         "legendgroup": "Ttrb",
         "line": {
          "color": "#FFA15A",
          "dash": "solid"
         },
         "marker": {
          "symbol": "circle"
         },
         "mode": "lines",
         "name": "Ttrb",
         "orientation": "v",
         "showlegend": true,
         "type": "scatter",
         "x": [
          "Epoch 0",
          "Epoch 1",
          "Epoch 2",
          "Epoch 3",
          "Epoch 4",
          "Epoch 5",
          "Epoch 6",
          "Epoch 7",
          "Epoch 8",
          "Epoch 9",
          "Epoch 10",
          "Epoch 11",
          "Epoch 12",
          "Epoch 13",
          "Epoch 14",
          "Epoch 15",
          "Epoch 16",
          "Epoch 17",
          "Epoch 18",
          "Epoch 19",
          "Epoch 20",
          "Epoch 21",
          "Epoch 22",
          "Epoch 23",
          "Epoch 24",
          "Epoch 25",
          "Epoch 26",
          "Epoch 27",
          "Epoch 28",
          "Epoch 29",
          "Epoch 30",
          "Epoch 31",
          "Epoch 32",
          "Epoch 33",
          "Epoch 34",
          "Epoch 35",
          "Epoch 36",
          "Epoch 37",
          "Epoch 38",
          "Epoch 39",
          "Epoch 40",
          "Epoch 41",
          "Epoch 42",
          "Epoch 43",
          "Epoch 44",
          "Epoch 45",
          "Epoch 46",
          "Epoch 47",
          "Epoch 48",
          "Epoch 49"
         ],
         "xaxis": "x",
         "y": [
          4.036530379800912,
          -3.566697782999999,
          -3.5666977830000035,
          -3.5666977829999986,
          -3.566697782999171,
          -3.566697783000052,
          -3.5666977829664575,
          -3.566697783084237,
          -3.566697782400297,
          -3.566697787027806,
          -3.5666978508234024,
          -3.5666976645588875,
          -3.5667019486427307,
          -3.5666847229003906,
          -3.5666236877441406,
          -3.566314697265625,
          -3.5594482421875,
          -3.58984375,
          -4.671875,
          -4.9375,
          -5.75,
          -4.75,
          0.125,
          30,
          -2,
          -4.5,
          -7.5,
          -5.9375,
          -11.5,
          2.875,
          null,
          null,
          null,
          null,
          null,
          null,
          null,
          null,
          null,
          null,
          null,
          null,
          null,
          null,
          null,
          null,
          null,
          null,
          null,
          null
         ],
         "yaxis": "y"
        },
        {
         "hovertemplate": "variable=Tr<br>index=%{x}<br>value=%{y}<extra></extra>",
         "legendgroup": "Tr",
         "line": {
          "color": "#19d3f3",
          "dash": "solid"
         },
         "marker": {
          "symbol": "circle"
         },
         "mode": "lines",
         "name": "Tr",
         "orientation": "v",
         "showlegend": true,
         "type": "scatter",
         "x": [
          "Epoch 0",
          "Epoch 1",
          "Epoch 2",
          "Epoch 3",
          "Epoch 4",
          "Epoch 5",
          "Epoch 6",
          "Epoch 7",
          "Epoch 8",
          "Epoch 9",
          "Epoch 10",
          "Epoch 11",
          "Epoch 12",
          "Epoch 13",
          "Epoch 14",
          "Epoch 15",
          "Epoch 16",
          "Epoch 17",
          "Epoch 18",
          "Epoch 19",
          "Epoch 20",
          "Epoch 21",
          "Epoch 22",
          "Epoch 23",
          "Epoch 24",
          "Epoch 25",
          "Epoch 26",
          "Epoch 27",
          "Epoch 28",
          "Epoch 29",
          "Epoch 30",
          "Epoch 31",
          "Epoch 32",
          "Epoch 33",
          "Epoch 34",
          "Epoch 35",
          "Epoch 36",
          "Epoch 37",
          "Epoch 38",
          "Epoch 39",
          "Epoch 40",
          "Epoch 41",
          "Epoch 42",
          "Epoch 43",
          "Epoch 44",
          "Epoch 45",
          "Epoch 46",
          "Epoch 47",
          "Epoch 48",
          "Epoch 49"
         ],
         "xaxis": "x",
         "y": [
          5.122627182662606,
          -8.841827120000001,
          -8.841827119999998,
          -8.841827119999964,
          -8.841827120000175,
          -8.841827120002108,
          -8.841827119957998,
          -8.841827119958907,
          -8.841827118885703,
          -8.8418271264527,
          -8.841827165335417,
          -8.841827481985092,
          -8.841829419136047,
          -8.841806411743164,
          -8.841869354248047,
          -8.8414306640625,
          -8.846435546875,
          -8.849609375,
          -9.34375,
          -12.15625,
          6,
          -7,
          -2,
          -23,
          -11.5625,
          -8.75,
          -10.5,
          -4.125,
          -0.375,
          -22,
          null,
          null,
          null,
          null,
          null,
          null,
          null,
          null,
          null,
          null,
          null,
          null,
          null,
          null,
          null,
          null,
          null,
          null,
          null,
          null
         ],
         "yaxis": "y"
        },
        {
         "hovertemplate": "variable=MeTr<br>index=%{x}<br>value=%{y}<extra></extra>",
         "legendgroup": "MeTr",
         "line": {
          "color": "#FF6692",
          "dash": "solid"
         },
         "marker": {
          "symbol": "circle"
         },
         "mode": "lines",
         "name": "MeTr",
         "orientation": "v",
         "showlegend": true,
         "type": "scatter",
         "x": [
          "Epoch 0",
          "Epoch 1",
          "Epoch 2",
          "Epoch 3",
          "Epoch 4",
          "Epoch 5",
          "Epoch 6",
          "Epoch 7",
          "Epoch 8",
          "Epoch 9",
          "Epoch 10",
          "Epoch 11",
          "Epoch 12",
          "Epoch 13",
          "Epoch 14",
          "Epoch 15",
          "Epoch 16",
          "Epoch 17",
          "Epoch 18",
          "Epoch 19",
          "Epoch 20",
          "Epoch 21",
          "Epoch 22",
          "Epoch 23",
          "Epoch 24",
          "Epoch 25",
          "Epoch 26",
          "Epoch 27",
          "Epoch 28",
          "Epoch 29",
          "Epoch 30",
          "Epoch 31",
          "Epoch 32",
          "Epoch 33",
          "Epoch 34",
          "Epoch 35",
          "Epoch 36",
          "Epoch 37",
          "Epoch 38",
          "Epoch 39",
          "Epoch 40",
          "Epoch 41",
          "Epoch 42",
          "Epoch 43",
          "Epoch 44",
          "Epoch 45",
          "Epoch 46",
          "Epoch 47",
          "Epoch 48",
          "Epoch 49"
         ],
         "xaxis": "x",
         "y": [
          8.641272031483458,
          1.2171895999999998,
          1.2171895999999944,
          1.217189600000001,
          1.2171895999997275,
          1.2171896000018592,
          1.217189599966332,
          1.2171895999344997,
          1.2171895995852537,
          1.217189593007788,
          1.2171896053478122,
          1.217189259827137,
          1.2171903252601624,
          1.2171640396118164,
          1.2172317504882812,
          1.21728515625,
          1.224365234375,
          1.2333984375,
          1.640625,
          2.875,
          6,
          -4.5,
          0.25,
          2,
          3,
          3.0625,
          -0.6875,
          -0.375,
          0.9375,
          -3.5,
          null,
          null,
          null,
          null,
          null,
          null,
          null,
          null,
          null,
          null,
          null,
          null,
          null,
          null,
          null,
          null,
          null,
          null,
          null,
          null
         ],
         "yaxis": "y"
        },
        {
         "hovertemplate": "variable=MoTr<br>index=%{x}<br>value=%{y}<extra></extra>",
         "legendgroup": "MoTr",
         "line": {
          "color": "#B6E880",
          "dash": "solid"
         },
         "marker": {
          "symbol": "circle"
         },
         "mode": "lines",
         "name": "MoTr",
         "orientation": "v",
         "showlegend": true,
         "type": "scatter",
         "x": [
          "Epoch 0",
          "Epoch 1",
          "Epoch 2",
          "Epoch 3",
          "Epoch 4",
          "Epoch 5",
          "Epoch 6",
          "Epoch 7",
          "Epoch 8",
          "Epoch 9",
          "Epoch 10",
          "Epoch 11",
          "Epoch 12",
          "Epoch 13",
          "Epoch 14",
          "Epoch 15",
          "Epoch 16",
          "Epoch 17",
          "Epoch 18",
          "Epoch 19",
          "Epoch 20",
          "Epoch 21",
          "Epoch 22",
          "Epoch 23",
          "Epoch 24",
          "Epoch 25",
          "Epoch 26",
          "Epoch 27",
          "Epoch 28",
          "Epoch 29",
          "Epoch 30",
          "Epoch 31",
          "Epoch 32",
          "Epoch 33",
          "Epoch 34",
          "Epoch 35",
          "Epoch 36",
          "Epoch 37",
          "Epoch 38",
          "Epoch 39",
          "Epoch 40",
          "Epoch 41",
          "Epoch 42",
          "Epoch 43",
          "Epoch 44",
          "Epoch 45",
          "Epoch 46",
          "Epoch 47",
          "Epoch 48",
          "Epoch 49"
         ],
         "xaxis": "x",
         "y": [
          -4.688707632163312,
          -0.284621628,
          -0.28462162800000773,
          -0.284621628,
          -0.2846216279999787,
          -0.28462162799996804,
          -0.28462162802497915,
          -0.2846216279813234,
          -0.2846216279285727,
          -0.28462162881623954,
          -0.28462155582383275,
          -0.2846217676997185,
          -0.28462082147598267,
          -0.2846226692199707,
          -0.2845268249511719,
          -0.2846527099609375,
          -0.2862548828125,
          -0.25,
          0.2265625,
          0.375,
          -13,
          -1.9375,
          0.125,
          11.75,
          0.46875,
          -1.0625,
          -1.3125,
          1.125,
          -0.0625,
          -5,
          null,
          null,
          null,
          null,
          null,
          null,
          null,
          null,
          null,
          null,
          null,
          null,
          null,
          null,
          null,
          null,
          null,
          null,
          null,
          null
         ],
         "yaxis": "y"
        },
        {
         "hovertemplate": "variable=RiRi<br>index=%{x}<br>value=%{y}<extra></extra>",
         "legendgroup": "RiRi",
         "line": {
          "color": "#FF97FF",
          "dash": "solid"
         },
         "marker": {
          "symbol": "circle"
         },
         "mode": "lines",
         "name": "RiRi",
         "orientation": "v",
         "showlegend": true,
         "type": "scatter",
         "x": [
          "Epoch 0",
          "Epoch 1",
          "Epoch 2",
          "Epoch 3",
          "Epoch 4",
          "Epoch 5",
          "Epoch 6",
          "Epoch 7",
          "Epoch 8",
          "Epoch 9",
          "Epoch 10",
          "Epoch 11",
          "Epoch 12",
          "Epoch 13",
          "Epoch 14",
          "Epoch 15",
          "Epoch 16",
          "Epoch 17",
          "Epoch 18",
          "Epoch 19",
          "Epoch 20",
          "Epoch 21",
          "Epoch 22",
          "Epoch 23",
          "Epoch 24",
          "Epoch 25",
          "Epoch 26",
          "Epoch 27",
          "Epoch 28",
          "Epoch 29",
          "Epoch 30",
          "Epoch 31",
          "Epoch 32",
          "Epoch 33",
          "Epoch 34",
          "Epoch 35",
          "Epoch 36",
          "Epoch 37",
          "Epoch 38",
          "Epoch 39",
          "Epoch 40",
          "Epoch 41",
          "Epoch 42",
          "Epoch 43",
          "Epoch 44",
          "Epoch 45",
          "Epoch 46",
          "Epoch 47",
          "Epoch 48",
          "Epoch 49"
         ],
         "xaxis": "x",
         "y": [
          -1.8429190852546449,
          0.5513787140000005,
          0.5513787140000035,
          0.5513787139999984,
          0.5513787139999096,
          0.5513787139990427,
          0.5513787139925626,
          0.5513787139752822,
          0.5513787141389912,
          0.5513787176460028,
          0.5513787036761642,
          0.5513786748051643,
          0.5513767004013062,
          0.5513830184936523,
          0.5513648986816406,
          0.551177978515625,
          0.552978515625,
          0.4873046875,
          -0.109375,
          0.75,
          11,
          1.15625,
          2.125,
          -8,
          -1.734375,
          -6.5,
          -2.25,
          -2.765625,
          -2.25,
          -0.5,
          null,
          null,
          null,
          null,
          null,
          null,
          null,
          null,
          null,
          null,
          null,
          null,
          null,
          null,
          null,
          null,
          null,
          null,
          null,
          null
         ],
         "yaxis": "y"
        },
        {
         "hovertemplate": "variable=MoFo<br>index=%{x}<br>value=%{y}<extra></extra>",
         "legendgroup": "MoFo",
         "line": {
          "color": "#FECB52",
          "dash": "solid"
         },
         "marker": {
          "symbol": "circle"
         },
         "mode": "lines",
         "name": "MoFo",
         "orientation": "v",
         "showlegend": true,
         "type": "scatter",
         "x": [
          "Epoch 0",
          "Epoch 1",
          "Epoch 2",
          "Epoch 3",
          "Epoch 4",
          "Epoch 5",
          "Epoch 6",
          "Epoch 7",
          "Epoch 8",
          "Epoch 9",
          "Epoch 10",
          "Epoch 11",
          "Epoch 12",
          "Epoch 13",
          "Epoch 14",
          "Epoch 15",
          "Epoch 16",
          "Epoch 17",
          "Epoch 18",
          "Epoch 19",
          "Epoch 20",
          "Epoch 21",
          "Epoch 22",
          "Epoch 23",
          "Epoch 24",
          "Epoch 25",
          "Epoch 26",
          "Epoch 27",
          "Epoch 28",
          "Epoch 29",
          "Epoch 30",
          "Epoch 31",
          "Epoch 32",
          "Epoch 33",
          "Epoch 34",
          "Epoch 35",
          "Epoch 36",
          "Epoch 37",
          "Epoch 38",
          "Epoch 39",
          "Epoch 40",
          "Epoch 41",
          "Epoch 42",
          "Epoch 43",
          "Epoch 44",
          "Epoch 45",
          "Epoch 46",
          "Epoch 47",
          "Epoch 48",
          "Epoch 49"
         ],
         "xaxis": "x",
         "y": [
          -7.028258313279576,
          2.9481553300000005,
          2.9481553300000005,
          2.948155330000003,
          2.948155330000022,
          2.9481553300004464,
          2.9481553300031464,
          2.9481553300183805,
          2.948155330010195,
          2.948155330697773,
          2.9481553356163204,
          2.9481552932411432,
          2.9481557607650757,
          2.9481518268585205,
          2.948176860809326,
          2.9479598999023438,
          2.947418212890625,
          2.9501953125,
          2.98828125,
          2.734375,
          2.9375,
          5.21875,
          1.9375,
          -4.5,
          -3.75,
          1.71875,
          1.90625,
          3,
          1,
          -12.5,
          null,
          null,
          null,
          null,
          null,
          null,
          null,
          null,
          null,
          null,
          null,
          null,
          null,
          null,
          null,
          null,
          null,
          null,
          null,
          null
         ],
         "yaxis": "y"
        },
        {
         "hovertemplate": "variable=Mmof<br>index=%{x}<br>value=%{y}<extra></extra>",
         "legendgroup": "Mmof",
         "line": {
          "color": "#636efa",
          "dash": "solid"
         },
         "marker": {
          "symbol": "circle"
         },
         "mode": "lines",
         "name": "Mmof",
         "orientation": "v",
         "showlegend": true,
         "type": "scatter",
         "x": [
          "Epoch 0",
          "Epoch 1",
          "Epoch 2",
          "Epoch 3",
          "Epoch 4",
          "Epoch 5",
          "Epoch 6",
          "Epoch 7",
          "Epoch 8",
          "Epoch 9",
          "Epoch 10",
          "Epoch 11",
          "Epoch 12",
          "Epoch 13",
          "Epoch 14",
          "Epoch 15",
          "Epoch 16",
          "Epoch 17",
          "Epoch 18",
          "Epoch 19",
          "Epoch 20",
          "Epoch 21",
          "Epoch 22",
          "Epoch 23",
          "Epoch 24",
          "Epoch 25",
          "Epoch 26",
          "Epoch 27",
          "Epoch 28",
          "Epoch 29",
          "Epoch 30",
          "Epoch 31",
          "Epoch 32",
          "Epoch 33",
          "Epoch 34",
          "Epoch 35",
          "Epoch 36",
          "Epoch 37",
          "Epoch 38",
          "Epoch 39",
          "Epoch 40",
          "Epoch 41",
          "Epoch 42",
          "Epoch 43",
          "Epoch 44",
          "Epoch 45",
          "Epoch 46",
          "Epoch 47",
          "Epoch 48",
          "Epoch 49"
         ],
         "xaxis": "x",
         "y": [
          -0.6092151819869944,
          -1.0928466779999997,
          -1.0928466780000003,
          -1.092846678000006,
          -1.0928466779999173,
          -1.092846678000086,
          -1.092846678001024,
          -1.0928466779887458,
          -1.092846678042406,
          -1.0928466789773665,
          -1.0928466734476388,
          -1.0928467065095901,
          -1.092845931649208,
          -1.092847228050232,
          -1.0928492546081543,
          -1.0927543640136719,
          -1.09173583984375,
          -1.10009765625,
          -1.048828125,
          -1.34375,
          -6.5,
          2,
          -0.4375,
          13.5,
          -3.125,
          -4.75,
          -6.0625,
          -0.125,
          3.75,
          21.5,
          null,
          null,
          null,
          null,
          null,
          null,
          null,
          null,
          null,
          null,
          null,
          null,
          null,
          null,
          null,
          null,
          null,
          null,
          null,
          null
         ],
         "yaxis": "y"
        },
        {
         "hovertemplate": "variable=MoRi<br>index=%{x}<br>value=%{y}<extra></extra>",
         "legendgroup": "MoRi",
         "line": {
          "color": "#EF553B",
          "dash": "solid"
         },
         "marker": {
          "symbol": "circle"
         },
         "mode": "lines",
         "name": "MoRi",
         "orientation": "v",
         "showlegend": true,
         "type": "scatter",
         "x": [
          "Epoch 0",
          "Epoch 1",
          "Epoch 2",
          "Epoch 3",
          "Epoch 4",
          "Epoch 5",
          "Epoch 6",
          "Epoch 7",
          "Epoch 8",
          "Epoch 9",
          "Epoch 10",
          "Epoch 11",
          "Epoch 12",
          "Epoch 13",
          "Epoch 14",
          "Epoch 15",
          "Epoch 16",
          "Epoch 17",
          "Epoch 18",
          "Epoch 19",
          "Epoch 20",
          "Epoch 21",
          "Epoch 22",
          "Epoch 23",
          "Epoch 24",
          "Epoch 25",
          "Epoch 26",
          "Epoch 27",
          "Epoch 28",
          "Epoch 29",
          "Epoch 30",
          "Epoch 31",
          "Epoch 32",
          "Epoch 33",
          "Epoch 34",
          "Epoch 35",
          "Epoch 36",
          "Epoch 37",
          "Epoch 38",
          "Epoch 39",
          "Epoch 40",
          "Epoch 41",
          "Epoch 42",
          "Epoch 43",
          "Epoch 44",
          "Epoch 45",
          "Epoch 46",
          "Epoch 47",
          "Epoch 48",
          "Epoch 49"
         ],
         "xaxis": "x",
         "y": [
          1.7510982237294261,
          -2.7283345530000003,
          -2.7283345529999954,
          -2.728334552999982,
          -2.728334552999865,
          -2.728334553000934,
          -2.728334553012701,
          -2.7283345529704093,
          -2.7283345538307913,
          -2.7283345534233376,
          -2.728334553539753,
          -2.72833451628685,
          -2.728333503007889,
          -2.728342056274414,
          -2.7283496856689453,
          -2.72772216796875,
          -2.723388671875,
          -2.7275390625,
          -2.2890625,
          -2.9375,
          -6.5,
          -3.484375,
          -2.15625,
          39,
          -1.46875,
          -2.484375,
          -2.3125,
          1.21875,
          4.25,
          0,
          null,
          null,
          null,
          null,
          null,
          null,
          null,
          null,
          null,
          null,
          null,
          null,
          null,
          null,
          null,
          null,
          null,
          null,
          null,
          null
         ],
         "yaxis": "y"
        },
        {
         "hovertemplate": "variable=MeRi<br>index=%{x}<br>value=%{y}<extra></extra>",
         "legendgroup": "MeRi",
         "line": {
          "color": "#00cc96",
          "dash": "solid"
         },
         "marker": {
          "symbol": "circle"
         },
         "mode": "lines",
         "name": "MeRi",
         "orientation": "v",
         "showlegend": true,
         "type": "scatter",
         "x": [
          "Epoch 0",
          "Epoch 1",
          "Epoch 2",
          "Epoch 3",
          "Epoch 4",
          "Epoch 5",
          "Epoch 6",
          "Epoch 7",
          "Epoch 8",
          "Epoch 9",
          "Epoch 10",
          "Epoch 11",
          "Epoch 12",
          "Epoch 13",
          "Epoch 14",
          "Epoch 15",
          "Epoch 16",
          "Epoch 17",
          "Epoch 18",
          "Epoch 19",
          "Epoch 20",
          "Epoch 21",
          "Epoch 22",
          "Epoch 23",
          "Epoch 24",
          "Epoch 25",
          "Epoch 26",
          "Epoch 27",
          "Epoch 28",
          "Epoch 29",
          "Epoch 30",
          "Epoch 31",
          "Epoch 32",
          "Epoch 33",
          "Epoch 34",
          "Epoch 35",
          "Epoch 36",
          "Epoch 37",
          "Epoch 38",
          "Epoch 39",
          "Epoch 40",
          "Epoch 41",
          "Epoch 42",
          "Epoch 43",
          "Epoch 44",
          "Epoch 45",
          "Epoch 46",
          "Epoch 47",
          "Epoch 48",
          "Epoch 49"
         ],
         "xaxis": "x",
         "y": [
          5.6741777231077535,
          -3.334562924,
          -3.3345629239999903,
          -3.3345629240000196,
          -3.3345629240005863,
          -3.334562923999499,
          -3.3345629239966,
          -3.3345629240211565,
          -3.3345629221294075,
          -3.334562920499593,
          -3.334562980569899,
          -3.3345631808042526,
          -3.334562659263611,
          -3.3345775604248047,
          -3.3345985412597656,
          -3.334869384765625,
          -3.341064453125,
          -3.37109375,
          -3.546875,
          -6.0625,
          -3,
          -4.943359375,
          -4.15625,
          1.5,
          -3.75,
          -3.33203125,
          -2.5625,
          -6.25,
          2.125,
          -0.125,
          null,
          null,
          null,
          null,
          null,
          null,
          null,
          null,
          null,
          null,
          null,
          null,
          null,
          null,
          null,
          null,
          null,
          null,
          null,
          null
         ],
         "yaxis": "y"
        },
        {
         "hovertemplate": "variable=Ri<br>index=%{x}<br>value=%{y}<extra></extra>",
         "legendgroup": "Ri",
         "line": {
          "color": "#ab63fa",
          "dash": "solid"
         },
         "marker": {
          "symbol": "circle"
         },
         "mode": "lines",
         "name": "Ri",
         "orientation": "v",
         "showlegend": true,
         "type": "scatter",
         "x": [
          "Epoch 0",
          "Epoch 1",
          "Epoch 2",
          "Epoch 3",
          "Epoch 4",
          "Epoch 5",
          "Epoch 6",
          "Epoch 7",
          "Epoch 8",
          "Epoch 9",
          "Epoch 10",
          "Epoch 11",
          "Epoch 12",
          "Epoch 13",
          "Epoch 14",
          "Epoch 15",
          "Epoch 16",
          "Epoch 17",
          "Epoch 18",
          "Epoch 19",
          "Epoch 20",
          "Epoch 21",
          "Epoch 22",
          "Epoch 23",
          "Epoch 24",
          "Epoch 25",
          "Epoch 26",
          "Epoch 27",
          "Epoch 28",
          "Epoch 29",
          "Epoch 30",
          "Epoch 31",
          "Epoch 32",
          "Epoch 33",
          "Epoch 34",
          "Epoch 35",
          "Epoch 36",
          "Epoch 37",
          "Epoch 38",
          "Epoch 39",
          "Epoch 40",
          "Epoch 41",
          "Epoch 42",
          "Epoch 43",
          "Epoch 44",
          "Epoch 45",
          "Epoch 46",
          "Epoch 47",
          "Epoch 48",
          "Epoch 49"
         ],
         "xaxis": "x",
         "y": [
          -3.491955876239384,
          1.6802704869999994,
          1.680270486999999,
          1.6802704870000027,
          1.6802704869999951,
          1.6802704870000866,
          1.6802704870020735,
          1.6802704869942318,
          1.6802704870506204,
          1.6802704862056999,
          1.680270475364523,
          1.6802705340087414,
          1.6802701316773891,
          1.680272102355957,
          1.6802589893341064,
          1.680246353149414,
          1.6806640625,
          1.675048828125,
          1.515625,
          3.125,
          8.7109375,
          -0.75,
          -0.375,
          -40,
          4.125,
          4.875,
          -0.875,
          0.78125,
          1.84375,
          -8.5,
          null,
          null,
          null,
          null,
          null,
          null,
          null,
          null,
          null,
          null,
          null,
          null,
          null,
          null,
          null,
          null,
          null,
          null,
          null,
          null
         ],
         "yaxis": "y"
        },
        {
         "hovertemplate": "variable=Comp<br>index=%{x}<br>value=%{y}<extra></extra>",
         "legendgroup": "Comp",
         "line": {
          "color": "#FFA15A",
          "dash": "solid"
         },
         "marker": {
          "symbol": "circle"
         },
         "mode": "lines",
         "name": "Comp",
         "orientation": "v",
         "showlegend": true,
         "type": "scatter",
         "x": [
          "Epoch 0",
          "Epoch 1",
          "Epoch 2",
          "Epoch 3",
          "Epoch 4",
          "Epoch 5",
          "Epoch 6",
          "Epoch 7",
          "Epoch 8",
          "Epoch 9",
          "Epoch 10",
          "Epoch 11",
          "Epoch 12",
          "Epoch 13",
          "Epoch 14",
          "Epoch 15",
          "Epoch 16",
          "Epoch 17",
          "Epoch 18",
          "Epoch 19",
          "Epoch 20",
          "Epoch 21",
          "Epoch 22",
          "Epoch 23",
          "Epoch 24",
          "Epoch 25",
          "Epoch 26",
          "Epoch 27",
          "Epoch 28",
          "Epoch 29",
          "Epoch 30",
          "Epoch 31",
          "Epoch 32",
          "Epoch 33",
          "Epoch 34",
          "Epoch 35",
          "Epoch 36",
          "Epoch 37",
          "Epoch 38",
          "Epoch 39",
          "Epoch 40",
          "Epoch 41",
          "Epoch 42",
          "Epoch 43",
          "Epoch 44",
          "Epoch 45",
          "Epoch 46",
          "Epoch 47",
          "Epoch 48",
          "Epoch 49"
         ],
         "xaxis": "x",
         "y": [
          -0.9801659248226915,
          -1.770049806,
          -1.7700498060000007,
          -1.7700498059999932,
          -1.770049805999971,
          -1.7700498060006282,
          -1.7700498060000882,
          -1.7700498059966776,
          -1.7700498056947254,
          -1.7700498026097193,
          -1.7700498094782233,
          -1.7700498551130295,
          -1.7700493335723877,
          -1.7700517177581787,
          -1.7700462341308594,
          -1.76971435546875,
          -1.767822265625,
          -1.73046875,
          -1.6484375,
          -3.5,
          -0.4375,
          -5.75,
          -3.3125,
          9,
          -3.75,
          -0.5,
          -1.1875,
          -3.375,
          0.875,
          -2.75,
          null,
          null,
          null,
          null,
          null,
          null,
          null,
          null,
          null,
          null,
          null,
          null,
          null,
          null,
          null,
          null,
          null,
          null,
          null,
          null
         ],
         "yaxis": "y"
        }
       ],
       "layout": {
        "legend": {
         "title": {
          "text": "variable"
         },
         "tracegroupgap": 0
        },
        "template": {
         "data": {
          "bar": [
           {
            "error_x": {
             "color": "#2a3f5f"
            },
            "error_y": {
             "color": "#2a3f5f"
            },
            "marker": {
             "line": {
              "color": "#E5ECF6",
              "width": 0.5
             },
             "pattern": {
              "fillmode": "overlay",
              "size": 10,
              "solidity": 0.2
             }
            },
            "type": "bar"
           }
          ],
          "barpolar": [
           {
            "marker": {
             "line": {
              "color": "#E5ECF6",
              "width": 0.5
             },
             "pattern": {
              "fillmode": "overlay",
              "size": 10,
              "solidity": 0.2
             }
            },
            "type": "barpolar"
           }
          ],
          "carpet": [
           {
            "aaxis": {
             "endlinecolor": "#2a3f5f",
             "gridcolor": "white",
             "linecolor": "white",
             "minorgridcolor": "white",
             "startlinecolor": "#2a3f5f"
            },
            "baxis": {
             "endlinecolor": "#2a3f5f",
             "gridcolor": "white",
             "linecolor": "white",
             "minorgridcolor": "white",
             "startlinecolor": "#2a3f5f"
            },
            "type": "carpet"
           }
          ],
          "choropleth": [
           {
            "colorbar": {
             "outlinewidth": 0,
             "ticks": ""
            },
            "type": "choropleth"
           }
          ],
          "contour": [
           {
            "colorbar": {
             "outlinewidth": 0,
             "ticks": ""
            },
            "colorscale": [
             [
              0,
              "#0d0887"
             ],
             [
              0.1111111111111111,
              "#46039f"
             ],
             [
              0.2222222222222222,
              "#7201a8"
             ],
             [
              0.3333333333333333,
              "#9c179e"
             ],
             [
              0.4444444444444444,
              "#bd3786"
             ],
             [
              0.5555555555555556,
              "#d8576b"
             ],
             [
              0.6666666666666666,
              "#ed7953"
             ],
             [
              0.7777777777777778,
              "#fb9f3a"
             ],
             [
              0.8888888888888888,
              "#fdca26"
             ],
             [
              1,
              "#f0f921"
             ]
            ],
            "type": "contour"
           }
          ],
          "contourcarpet": [
           {
            "colorbar": {
             "outlinewidth": 0,
             "ticks": ""
            },
            "type": "contourcarpet"
           }
          ],
          "heatmap": [
           {
            "colorbar": {
             "outlinewidth": 0,
             "ticks": ""
            },
            "colorscale": [
             [
              0,
              "#0d0887"
             ],
             [
              0.1111111111111111,
              "#46039f"
             ],
             [
              0.2222222222222222,
              "#7201a8"
             ],
             [
              0.3333333333333333,
              "#9c179e"
             ],
             [
              0.4444444444444444,
              "#bd3786"
             ],
             [
              0.5555555555555556,
              "#d8576b"
             ],
             [
              0.6666666666666666,
              "#ed7953"
             ],
             [
              0.7777777777777778,
              "#fb9f3a"
             ],
             [
              0.8888888888888888,
              "#fdca26"
             ],
             [
              1,
              "#f0f921"
             ]
            ],
            "type": "heatmap"
           }
          ],
          "heatmapgl": [
           {
            "colorbar": {
             "outlinewidth": 0,
             "ticks": ""
            },
            "colorscale": [
             [
              0,
              "#0d0887"
             ],
             [
              0.1111111111111111,
              "#46039f"
             ],
             [
              0.2222222222222222,
              "#7201a8"
             ],
             [
              0.3333333333333333,
              "#9c179e"
             ],
             [
              0.4444444444444444,
              "#bd3786"
             ],
             [
              0.5555555555555556,
              "#d8576b"
             ],
             [
              0.6666666666666666,
              "#ed7953"
             ],
             [
              0.7777777777777778,
              "#fb9f3a"
             ],
             [
              0.8888888888888888,
              "#fdca26"
             ],
             [
              1,
              "#f0f921"
             ]
            ],
            "type": "heatmapgl"
           }
          ],
          "histogram": [
           {
            "marker": {
             "pattern": {
              "fillmode": "overlay",
              "size": 10,
              "solidity": 0.2
             }
            },
            "type": "histogram"
           }
          ],
          "histogram2d": [
           {
            "colorbar": {
             "outlinewidth": 0,
             "ticks": ""
            },
            "colorscale": [
             [
              0,
              "#0d0887"
             ],
             [
              0.1111111111111111,
              "#46039f"
             ],
             [
              0.2222222222222222,
              "#7201a8"
             ],
             [
              0.3333333333333333,
              "#9c179e"
             ],
             [
              0.4444444444444444,
              "#bd3786"
             ],
             [
              0.5555555555555556,
              "#d8576b"
             ],
             [
              0.6666666666666666,
              "#ed7953"
             ],
             [
              0.7777777777777778,
              "#fb9f3a"
             ],
             [
              0.8888888888888888,
              "#fdca26"
             ],
             [
              1,
              "#f0f921"
             ]
            ],
            "type": "histogram2d"
           }
          ],
          "histogram2dcontour": [
           {
            "colorbar": {
             "outlinewidth": 0,
             "ticks": ""
            },
            "colorscale": [
             [
              0,
              "#0d0887"
             ],
             [
              0.1111111111111111,
              "#46039f"
             ],
             [
              0.2222222222222222,
              "#7201a8"
             ],
             [
              0.3333333333333333,
              "#9c179e"
             ],
             [
              0.4444444444444444,
              "#bd3786"
             ],
             [
              0.5555555555555556,
              "#d8576b"
             ],
             [
              0.6666666666666666,
              "#ed7953"
             ],
             [
              0.7777777777777778,
              "#fb9f3a"
             ],
             [
              0.8888888888888888,
              "#fdca26"
             ],
             [
              1,
              "#f0f921"
             ]
            ],
            "type": "histogram2dcontour"
           }
          ],
          "mesh3d": [
           {
            "colorbar": {
             "outlinewidth": 0,
             "ticks": ""
            },
            "type": "mesh3d"
           }
          ],
          "parcoords": [
           {
            "line": {
             "colorbar": {
              "outlinewidth": 0,
              "ticks": ""
             }
            },
            "type": "parcoords"
           }
          ],
          "pie": [
           {
            "automargin": true,
            "type": "pie"
           }
          ],
          "scatter": [
           {
            "fillpattern": {
             "fillmode": "overlay",
             "size": 10,
             "solidity": 0.2
            },
            "type": "scatter"
           }
          ],
          "scatter3d": [
           {
            "line": {
             "colorbar": {
              "outlinewidth": 0,
              "ticks": ""
             }
            },
            "marker": {
             "colorbar": {
              "outlinewidth": 0,
              "ticks": ""
             }
            },
            "type": "scatter3d"
           }
          ],
          "scattercarpet": [
           {
            "marker": {
             "colorbar": {
              "outlinewidth": 0,
              "ticks": ""
             }
            },
            "type": "scattercarpet"
           }
          ],
          "scattergeo": [
           {
            "marker": {
             "colorbar": {
              "outlinewidth": 0,
              "ticks": ""
             }
            },
            "type": "scattergeo"
           }
          ],
          "scattergl": [
           {
            "marker": {
             "colorbar": {
              "outlinewidth": 0,
              "ticks": ""
             }
            },
            "type": "scattergl"
           }
          ],
          "scattermapbox": [
           {
            "marker": {
             "colorbar": {
              "outlinewidth": 0,
              "ticks": ""
             }
            },
            "type": "scattermapbox"
           }
          ],
          "scatterpolar": [
           {
            "marker": {
             "colorbar": {
              "outlinewidth": 0,
              "ticks": ""
             }
            },
            "type": "scatterpolar"
           }
          ],
          "scatterpolargl": [
           {
            "marker": {
             "colorbar": {
              "outlinewidth": 0,
              "ticks": ""
             }
            },
            "type": "scatterpolargl"
           }
          ],
          "scatterternary": [
           {
            "marker": {
             "colorbar": {
              "outlinewidth": 0,
              "ticks": ""
             }
            },
            "type": "scatterternary"
           }
          ],
          "surface": [
           {
            "colorbar": {
             "outlinewidth": 0,
             "ticks": ""
            },
            "colorscale": [
             [
              0,
              "#0d0887"
             ],
             [
              0.1111111111111111,
              "#46039f"
             ],
             [
              0.2222222222222222,
              "#7201a8"
             ],
             [
              0.3333333333333333,
              "#9c179e"
             ],
             [
              0.4444444444444444,
              "#bd3786"
             ],
             [
              0.5555555555555556,
              "#d8576b"
             ],
             [
              0.6666666666666666,
              "#ed7953"
             ],
             [
              0.7777777777777778,
              "#fb9f3a"
             ],
             [
              0.8888888888888888,
              "#fdca26"
             ],
             [
              1,
              "#f0f921"
             ]
            ],
            "type": "surface"
           }
          ],
          "table": [
           {
            "cells": {
             "fill": {
              "color": "#EBF0F8"
             },
             "line": {
              "color": "white"
             }
            },
            "header": {
             "fill": {
              "color": "#C8D4E3"
             },
             "line": {
              "color": "white"
             }
            },
            "type": "table"
           }
          ]
         },
         "layout": {
          "annotationdefaults": {
           "arrowcolor": "#2a3f5f",
           "arrowhead": 0,
           "arrowwidth": 1
          },
          "autotypenumbers": "strict",
          "coloraxis": {
           "colorbar": {
            "outlinewidth": 0,
            "ticks": ""
           }
          },
          "colorscale": {
           "diverging": [
            [
             0,
             "#8e0152"
            ],
            [
             0.1,
             "#c51b7d"
            ],
            [
             0.2,
             "#de77ae"
            ],
            [
             0.3,
             "#f1b6da"
            ],
            [
             0.4,
             "#fde0ef"
            ],
            [
             0.5,
             "#f7f7f7"
            ],
            [
             0.6,
             "#e6f5d0"
            ],
            [
             0.7,
             "#b8e186"
            ],
            [
             0.8,
             "#7fbc41"
            ],
            [
             0.9,
             "#4d9221"
            ],
            [
             1,
             "#276419"
            ]
           ],
           "sequential": [
            [
             0,
             "#0d0887"
            ],
            [
             0.1111111111111111,
             "#46039f"
            ],
            [
             0.2222222222222222,
             "#7201a8"
            ],
            [
             0.3333333333333333,
             "#9c179e"
            ],
            [
             0.4444444444444444,
             "#bd3786"
            ],
            [
             0.5555555555555556,
             "#d8576b"
            ],
            [
             0.6666666666666666,
             "#ed7953"
            ],
            [
             0.7777777777777778,
             "#fb9f3a"
            ],
            [
             0.8888888888888888,
             "#fdca26"
            ],
            [
             1,
             "#f0f921"
            ]
           ],
           "sequentialminus": [
            [
             0,
             "#0d0887"
            ],
            [
             0.1111111111111111,
             "#46039f"
            ],
            [
             0.2222222222222222,
             "#7201a8"
            ],
            [
             0.3333333333333333,
             "#9c179e"
            ],
            [
             0.4444444444444444,
             "#bd3786"
            ],
            [
             0.5555555555555556,
             "#d8576b"
            ],
            [
             0.6666666666666666,
             "#ed7953"
            ],
            [
             0.7777777777777778,
             "#fb9f3a"
            ],
            [
             0.8888888888888888,
             "#fdca26"
            ],
            [
             1,
             "#f0f921"
            ]
           ]
          },
          "colorway": [
           "#636efa",
           "#EF553B",
           "#00cc96",
           "#ab63fa",
           "#FFA15A",
           "#19d3f3",
           "#FF6692",
           "#B6E880",
           "#FF97FF",
           "#FECB52"
          ],
          "font": {
           "color": "#2a3f5f"
          },
          "geo": {
           "bgcolor": "white",
           "lakecolor": "white",
           "landcolor": "#E5ECF6",
           "showlakes": true,
           "showland": true,
           "subunitcolor": "white"
          },
          "hoverlabel": {
           "align": "left"
          },
          "hovermode": "closest",
          "mapbox": {
           "style": "light"
          },
          "paper_bgcolor": "white",
          "plot_bgcolor": "#E5ECF6",
          "polar": {
           "angularaxis": {
            "gridcolor": "white",
            "linecolor": "white",
            "ticks": ""
           },
           "bgcolor": "#E5ECF6",
           "radialaxis": {
            "gridcolor": "white",
            "linecolor": "white",
            "ticks": ""
           }
          },
          "scene": {
           "xaxis": {
            "backgroundcolor": "#E5ECF6",
            "gridcolor": "white",
            "gridwidth": 2,
            "linecolor": "white",
            "showbackground": true,
            "ticks": "",
            "zerolinecolor": "white"
           },
           "yaxis": {
            "backgroundcolor": "#E5ECF6",
            "gridcolor": "white",
            "gridwidth": 2,
            "linecolor": "white",
            "showbackground": true,
            "ticks": "",
            "zerolinecolor": "white"
           },
           "zaxis": {
            "backgroundcolor": "#E5ECF6",
            "gridcolor": "white",
            "gridwidth": 2,
            "linecolor": "white",
            "showbackground": true,
            "ticks": "",
            "zerolinecolor": "white"
           }
          },
          "shapedefaults": {
           "line": {
            "color": "#2a3f5f"
           }
          },
          "ternary": {
           "aaxis": {
            "gridcolor": "white",
            "linecolor": "white",
            "ticks": ""
           },
           "baxis": {
            "gridcolor": "white",
            "linecolor": "white",
            "ticks": ""
           },
           "bgcolor": "#E5ECF6",
           "caxis": {
            "gridcolor": "white",
            "linecolor": "white",
            "ticks": ""
           }
          },
          "title": {
           "x": 0.05
          },
          "xaxis": {
           "automargin": true,
           "gridcolor": "white",
           "linecolor": "white",
           "ticks": "",
           "title": {
            "standoff": 15
           },
           "zerolinecolor": "white",
           "zerolinewidth": 2
          },
          "yaxis": {
           "automargin": true,
           "gridcolor": "white",
           "linecolor": "white",
           "ticks": "",
           "title": {
            "standoff": 15
           },
           "zerolinecolor": "white",
           "zerolinewidth": 2
          }
         }
        },
        "title": {
         "text": "Free evolution of the weights for subject soggetto_2"
        },
        "xaxis": {
         "anchor": "y",
         "domain": [
          0,
          1
         ],
         "title": {
          "text": "index"
         }
        },
        "yaxis": {
         "anchor": "x",
         "domain": [
          0,
          1
         ],
         "title": {
          "text": "value"
         }
        }
       }
      }
     },
     "metadata": {},
     "output_type": "display_data"
    },
    {
     "data": {
      "application/vnd.plotly.v1+json": {
       "config": {
        "plotlyServerURL": "https://plot.ly"
       },
       "data": [
        {
         "hovertemplate": "variable=TrRi<br>index=%{x}<br>value=%{y}<extra></extra>",
         "legendgroup": "TrRi",
         "line": {
          "color": "#636efa",
          "dash": "solid"
         },
         "marker": {
          "symbol": "circle"
         },
         "mode": "lines",
         "name": "TrRi",
         "orientation": "v",
         "showlegend": true,
         "type": "scatter",
         "x": [
          "Epoch 0",
          "Epoch 1",
          "Epoch 2",
          "Epoch 3",
          "Epoch 4",
          "Epoch 5",
          "Epoch 6",
          "Epoch 7",
          "Epoch 8",
          "Epoch 9",
          "Epoch 10",
          "Epoch 11",
          "Epoch 12",
          "Epoch 13",
          "Epoch 14",
          "Epoch 15",
          "Epoch 16",
          "Epoch 17",
          "Epoch 18",
          "Epoch 19",
          "Epoch 20",
          "Epoch 21",
          "Epoch 22",
          "Epoch 23",
          "Epoch 24",
          "Epoch 25",
          "Epoch 26",
          "Epoch 27",
          "Epoch 28",
          "Epoch 29",
          "Epoch 30",
          "Epoch 31",
          "Epoch 32",
          "Epoch 33",
          "Epoch 34",
          "Epoch 35",
          "Epoch 36",
          "Epoch 37",
          "Epoch 38",
          "Epoch 39",
          "Epoch 40",
          "Epoch 41",
          "Epoch 42",
          "Epoch 43",
          "Epoch 44",
          "Epoch 45",
          "Epoch 46",
          "Epoch 47",
          "Epoch 48",
          "Epoch 49"
         ],
         "xaxis": "x",
         "y": [
          -32.89842531970749,
          -4.77309602,
          -4.773096020000068,
          -4.773096019996501,
          -4.773096020009689,
          -4.7730960198823595,
          -4.7730960245244205,
          -4.773096105083823,
          -4.773095935583115,
          -4.773098945617676,
          -4.7731170654296875,
          -4.771728515625,
          -4.751953125,
          -4.9921875,
          -0.5,
          21.5,
          -14,
          null,
          null,
          null,
          null,
          null,
          null,
          null,
          null,
          null,
          null,
          null,
          null,
          null,
          null,
          null,
          null,
          null,
          null,
          null,
          null,
          null,
          null,
          null,
          null,
          null,
          null,
          null,
          null,
          null,
          null,
          null,
          null,
          null
         ],
         "yaxis": "y"
        },
        {
         "hovertemplate": "variable=RiTr<br>index=%{x}<br>value=%{y}<extra></extra>",
         "legendgroup": "RiTr",
         "line": {
          "color": "#EF553B",
          "dash": "solid"
         },
         "marker": {
          "symbol": "circle"
         },
         "mode": "lines",
         "name": "RiTr",
         "orientation": "v",
         "showlegend": true,
         "type": "scatter",
         "x": [
          "Epoch 0",
          "Epoch 1",
          "Epoch 2",
          "Epoch 3",
          "Epoch 4",
          "Epoch 5",
          "Epoch 6",
          "Epoch 7",
          "Epoch 8",
          "Epoch 9",
          "Epoch 10",
          "Epoch 11",
          "Epoch 12",
          "Epoch 13",
          "Epoch 14",
          "Epoch 15",
          "Epoch 16",
          "Epoch 17",
          "Epoch 18",
          "Epoch 19",
          "Epoch 20",
          "Epoch 21",
          "Epoch 22",
          "Epoch 23",
          "Epoch 24",
          "Epoch 25",
          "Epoch 26",
          "Epoch 27",
          "Epoch 28",
          "Epoch 29",
          "Epoch 30",
          "Epoch 31",
          "Epoch 32",
          "Epoch 33",
          "Epoch 34",
          "Epoch 35",
          "Epoch 36",
          "Epoch 37",
          "Epoch 38",
          "Epoch 39",
          "Epoch 40",
          "Epoch 41",
          "Epoch 42",
          "Epoch 43",
          "Epoch 44",
          "Epoch 45",
          "Epoch 46",
          "Epoch 47",
          "Epoch 48",
          "Epoch 49"
         ],
         "xaxis": "x",
         "y": [
          22.20575561720612,
          -2.576216026999999,
          -2.5762160269999868,
          -2.576216026998594,
          -2.5762160269932792,
          -2.5762160270751338,
          -2.5762160272570327,
          -2.5762160322628915,
          -2.576216034591198,
          -2.5762176513671875,
          -2.576218605041504,
          -2.575927734375,
          -2.58251953125,
          -2.53515625,
          -2.21875,
          -5.5,
          -14,
          null,
          null,
          null,
          null,
          null,
          null,
          null,
          null,
          null,
          null,
          null,
          null,
          null,
          null,
          null,
          null,
          null,
          null,
          null,
          null,
          null,
          null,
          null,
          null,
          null,
          null,
          null,
          null,
          null,
          null,
          null,
          null,
          null
         ],
         "yaxis": "y"
        },
        {
         "hovertemplate": "variable=Plu<br>index=%{x}<br>value=%{y}<extra></extra>",
         "legendgroup": "Plu",
         "line": {
          "color": "#00cc96",
          "dash": "solid"
         },
         "marker": {
          "symbol": "circle"
         },
         "mode": "lines",
         "name": "Plu",
         "orientation": "v",
         "showlegend": true,
         "type": "scatter",
         "x": [
          "Epoch 0",
          "Epoch 1",
          "Epoch 2",
          "Epoch 3",
          "Epoch 4",
          "Epoch 5",
          "Epoch 6",
          "Epoch 7",
          "Epoch 8",
          "Epoch 9",
          "Epoch 10",
          "Epoch 11",
          "Epoch 12",
          "Epoch 13",
          "Epoch 14",
          "Epoch 15",
          "Epoch 16",
          "Epoch 17",
          "Epoch 18",
          "Epoch 19",
          "Epoch 20",
          "Epoch 21",
          "Epoch 22",
          "Epoch 23",
          "Epoch 24",
          "Epoch 25",
          "Epoch 26",
          "Epoch 27",
          "Epoch 28",
          "Epoch 29",
          "Epoch 30",
          "Epoch 31",
          "Epoch 32",
          "Epoch 33",
          "Epoch 34",
          "Epoch 35",
          "Epoch 36",
          "Epoch 37",
          "Epoch 38",
          "Epoch 39",
          "Epoch 40",
          "Epoch 41",
          "Epoch 42",
          "Epoch 43",
          "Epoch 44",
          "Epoch 45",
          "Epoch 46",
          "Epoch 47",
          "Epoch 48",
          "Epoch 49"
         ],
         "xaxis": "x",
         "y": [
          8.411452773123266,
          0.02523540770000121,
          0.025235407699993218,
          0.025235407700208157,
          0.025235407707668855,
          0.025235407767468132,
          0.0252354072581511,
          0.025235410314053297,
          0.025235462933778763,
          0.02523404359817505,
          0.02524566650390625,
          0.025054931640625,
          0.0269775390625,
          0.021484375,
          0.15625,
          10,
          -20,
          null,
          null,
          null,
          null,
          null,
          null,
          null,
          null,
          null,
          null,
          null,
          null,
          null,
          null,
          null,
          null,
          null,
          null,
          null,
          null,
          null,
          null,
          null,
          null,
          null,
          null,
          null,
          null,
          null,
          null,
          null,
          null,
          null
         ],
         "yaxis": "y"
        },
        {
         "hovertemplate": "variable=Ttra<br>index=%{x}<br>value=%{y}<extra></extra>",
         "legendgroup": "Ttra",
         "line": {
          "color": "#ab63fa",
          "dash": "solid"
         },
         "marker": {
          "symbol": "circle"
         },
         "mode": "lines",
         "name": "Ttra",
         "orientation": "v",
         "showlegend": true,
         "type": "scatter",
         "x": [
          "Epoch 0",
          "Epoch 1",
          "Epoch 2",
          "Epoch 3",
          "Epoch 4",
          "Epoch 5",
          "Epoch 6",
          "Epoch 7",
          "Epoch 8",
          "Epoch 9",
          "Epoch 10",
          "Epoch 11",
          "Epoch 12",
          "Epoch 13",
          "Epoch 14",
          "Epoch 15",
          "Epoch 16",
          "Epoch 17",
          "Epoch 18",
          "Epoch 19",
          "Epoch 20",
          "Epoch 21",
          "Epoch 22",
          "Epoch 23",
          "Epoch 24",
          "Epoch 25",
          "Epoch 26",
          "Epoch 27",
          "Epoch 28",
          "Epoch 29",
          "Epoch 30",
          "Epoch 31",
          "Epoch 32",
          "Epoch 33",
          "Epoch 34",
          "Epoch 35",
          "Epoch 36",
          "Epoch 37",
          "Epoch 38",
          "Epoch 39",
          "Epoch 40",
          "Epoch 41",
          "Epoch 42",
          "Epoch 43",
          "Epoch 44",
          "Epoch 45",
          "Epoch 46",
          "Epoch 47",
          "Epoch 48",
          "Epoch 49"
         ],
         "xaxis": "x",
         "y": [
          -2.1023053786452537,
          0.9906453440000008,
          0.9906453440000051,
          0.9906453440001126,
          0.9906453440031271,
          0.9906453439798497,
          0.9906453443691134,
          0.9906453446019441,
          0.9906453443691134,
          0.9906453937292099,
          0.9906442165374756,
          0.9906425476074219,
          0.99139404296875,
          0.979248046875,
          1.21484375,
          4.5,
          -6,
          null,
          null,
          null,
          null,
          null,
          null,
          null,
          null,
          null,
          null,
          null,
          null,
          null,
          null,
          null,
          null,
          null,
          null,
          null,
          null,
          null,
          null,
          null,
          null,
          null,
          null,
          null,
          null,
          null,
          null,
          null,
          null,
          null
         ],
         "yaxis": "y"
        },
        {
         "hovertemplate": "variable=Ttrb<br>index=%{x}<br>value=%{y}<extra></extra>",
         "legendgroup": "Ttrb",
         "line": {
          "color": "#FFA15A",
          "dash": "solid"
         },
         "marker": {
          "symbol": "circle"
         },
         "mode": "lines",
         "name": "Ttrb",
         "orientation": "v",
         "showlegend": true,
         "type": "scatter",
         "x": [
          "Epoch 0",
          "Epoch 1",
          "Epoch 2",
          "Epoch 3",
          "Epoch 4",
          "Epoch 5",
          "Epoch 6",
          "Epoch 7",
          "Epoch 8",
          "Epoch 9",
          "Epoch 10",
          "Epoch 11",
          "Epoch 12",
          "Epoch 13",
          "Epoch 14",
          "Epoch 15",
          "Epoch 16",
          "Epoch 17",
          "Epoch 18",
          "Epoch 19",
          "Epoch 20",
          "Epoch 21",
          "Epoch 22",
          "Epoch 23",
          "Epoch 24",
          "Epoch 25",
          "Epoch 26",
          "Epoch 27",
          "Epoch 28",
          "Epoch 29",
          "Epoch 30",
          "Epoch 31",
          "Epoch 32",
          "Epoch 33",
          "Epoch 34",
          "Epoch 35",
          "Epoch 36",
          "Epoch 37",
          "Epoch 38",
          "Epoch 39",
          "Epoch 40",
          "Epoch 41",
          "Epoch 42",
          "Epoch 43",
          "Epoch 44",
          "Epoch 45",
          "Epoch 46",
          "Epoch 47",
          "Epoch 48",
          "Epoch 49"
         ],
         "xaxis": "x",
         "y": [
          38.149356119237,
          1.5563086400000117,
          1.5563086400001822,
          1.5563086399977237,
          1.5563086400943575,
          1.5563086406036746,
          1.5563086364418268,
          1.5563086457550526,
          1.5563087463378906,
          1.5562963485717773,
          1.5562820434570312,
          1.55438232421875,
          1.546875,
          1.46875,
          0.875,
          12,
          16,
          null,
          null,
          null,
          null,
          null,
          null,
          null,
          null,
          null,
          null,
          null,
          null,
          null,
          null,
          null,
          null,
          null,
          null,
          null,
          null,
          null,
          null,
          null,
          null,
          null,
          null,
          null,
          null,
          null,
          null,
          null,
          null,
          null
         ],
         "yaxis": "y"
        },
        {
         "hovertemplate": "variable=Tr<br>index=%{x}<br>value=%{y}<extra></extra>",
         "legendgroup": "Tr",
         "line": {
          "color": "#19d3f3",
          "dash": "solid"
         },
         "marker": {
          "symbol": "circle"
         },
         "mode": "lines",
         "name": "Tr",
         "orientation": "v",
         "showlegend": true,
         "type": "scatter",
         "x": [
          "Epoch 0",
          "Epoch 1",
          "Epoch 2",
          "Epoch 3",
          "Epoch 4",
          "Epoch 5",
          "Epoch 6",
          "Epoch 7",
          "Epoch 8",
          "Epoch 9",
          "Epoch 10",
          "Epoch 11",
          "Epoch 12",
          "Epoch 13",
          "Epoch 14",
          "Epoch 15",
          "Epoch 16",
          "Epoch 17",
          "Epoch 18",
          "Epoch 19",
          "Epoch 20",
          "Epoch 21",
          "Epoch 22",
          "Epoch 23",
          "Epoch 24",
          "Epoch 25",
          "Epoch 26",
          "Epoch 27",
          "Epoch 28",
          "Epoch 29",
          "Epoch 30",
          "Epoch 31",
          "Epoch 32",
          "Epoch 33",
          "Epoch 34",
          "Epoch 35",
          "Epoch 36",
          "Epoch 37",
          "Epoch 38",
          "Epoch 39",
          "Epoch 40",
          "Epoch 41",
          "Epoch 42",
          "Epoch 43",
          "Epoch 44",
          "Epoch 45",
          "Epoch 46",
          "Epoch 47",
          "Epoch 48",
          "Epoch 49"
         ],
         "xaxis": "x",
         "y": [
          19.512545359652833,
          -4.1049078260000025,
          -4.1049078259998595,
          -4.104907825997998,
          -4.104907825991177,
          -4.104907826069393,
          -4.104907826753333,
          -4.1049078442156315,
          -4.104907229542732,
          -4.104904413223267,
          -4.104991912841797,
          -4.105743408203125,
          -4.11865234375,
          -4.04296875,
          -4.625,
          -0.5,
          -4.5,
          null,
          null,
          null,
          null,
          null,
          null,
          null,
          null,
          null,
          null,
          null,
          null,
          null,
          null,
          null,
          null,
          null,
          null,
          null,
          null,
          null,
          null,
          null,
          null,
          null,
          null,
          null,
          null,
          null,
          null,
          null,
          null,
          null
         ],
         "yaxis": "y"
        },
        {
         "hovertemplate": "variable=MeTr<br>index=%{x}<br>value=%{y}<extra></extra>",
         "legendgroup": "MeTr",
         "line": {
          "color": "#FF6692",
          "dash": "solid"
         },
         "marker": {
          "symbol": "circle"
         },
         "mode": "lines",
         "name": "MeTr",
         "orientation": "v",
         "showlegend": true,
         "type": "scatter",
         "x": [
          "Epoch 0",
          "Epoch 1",
          "Epoch 2",
          "Epoch 3",
          "Epoch 4",
          "Epoch 5",
          "Epoch 6",
          "Epoch 7",
          "Epoch 8",
          "Epoch 9",
          "Epoch 10",
          "Epoch 11",
          "Epoch 12",
          "Epoch 13",
          "Epoch 14",
          "Epoch 15",
          "Epoch 16",
          "Epoch 17",
          "Epoch 18",
          "Epoch 19",
          "Epoch 20",
          "Epoch 21",
          "Epoch 22",
          "Epoch 23",
          "Epoch 24",
          "Epoch 25",
          "Epoch 26",
          "Epoch 27",
          "Epoch 28",
          "Epoch 29",
          "Epoch 30",
          "Epoch 31",
          "Epoch 32",
          "Epoch 33",
          "Epoch 34",
          "Epoch 35",
          "Epoch 36",
          "Epoch 37",
          "Epoch 38",
          "Epoch 39",
          "Epoch 40",
          "Epoch 41",
          "Epoch 42",
          "Epoch 43",
          "Epoch 44",
          "Epoch 45",
          "Epoch 46",
          "Epoch 47",
          "Epoch 48",
          "Epoch 49"
         ],
         "xaxis": "x",
         "y": [
          13.160558562065921,
          -6.160513390000001,
          -6.160513389999979,
          -6.160513389999593,
          -6.160513389995117,
          -6.160513390047527,
          -6.1605133901466615,
          -6.160513391485438,
          -6.160513389855623,
          -6.16051322221756,
          -6.1605048179626465,
          -6.160697937011719,
          -6.15985107421875,
          -6.16015625,
          -5.83203125,
          -1.75,
          -19,
          null,
          null,
          null,
          null,
          null,
          null,
          null,
          null,
          null,
          null,
          null,
          null,
          null,
          null,
          null,
          null,
          null,
          null,
          null,
          null,
          null,
          null,
          null,
          null,
          null,
          null,
          null,
          null,
          null,
          null,
          null,
          null,
          null
         ],
         "yaxis": "y"
        },
        {
         "hovertemplate": "variable=MoTr<br>index=%{x}<br>value=%{y}<extra></extra>",
         "legendgroup": "MoTr",
         "line": {
          "color": "#B6E880",
          "dash": "solid"
         },
         "marker": {
          "symbol": "circle"
         },
         "mode": "lines",
         "name": "MoTr",
         "orientation": "v",
         "showlegend": true,
         "type": "scatter",
         "x": [
          "Epoch 0",
          "Epoch 1",
          "Epoch 2",
          "Epoch 3",
          "Epoch 4",
          "Epoch 5",
          "Epoch 6",
          "Epoch 7",
          "Epoch 8",
          "Epoch 9",
          "Epoch 10",
          "Epoch 11",
          "Epoch 12",
          "Epoch 13",
          "Epoch 14",
          "Epoch 15",
          "Epoch 16",
          "Epoch 17",
          "Epoch 18",
          "Epoch 19",
          "Epoch 20",
          "Epoch 21",
          "Epoch 22",
          "Epoch 23",
          "Epoch 24",
          "Epoch 25",
          "Epoch 26",
          "Epoch 27",
          "Epoch 28",
          "Epoch 29",
          "Epoch 30",
          "Epoch 31",
          "Epoch 32",
          "Epoch 33",
          "Epoch 34",
          "Epoch 35",
          "Epoch 36",
          "Epoch 37",
          "Epoch 38",
          "Epoch 39",
          "Epoch 40",
          "Epoch 41",
          "Epoch 42",
          "Epoch 43",
          "Epoch 44",
          "Epoch 45",
          "Epoch 46",
          "Epoch 47",
          "Epoch 48",
          "Epoch 49"
         ],
         "xaxis": "x",
         "y": [
          -5.090189647355169,
          3.8034985900000002,
          3.8034985900000233,
          3.8034985900001885,
          3.803498590004665,
          3.8034985900012543,
          3.8034985892736586,
          3.803498595196288,
          3.803498516790569,
          3.8034979104995728,
          3.803500175476074,
          3.803377151489258,
          3.80084228515625,
          3.75634765625,
          3.828125,
          34,
          -7.5,
          null,
          null,
          null,
          null,
          null,
          null,
          null,
          null,
          null,
          null,
          null,
          null,
          null,
          null,
          null,
          null,
          null,
          null,
          null,
          null,
          null,
          null,
          null,
          null,
          null,
          null,
          null,
          null,
          null,
          null,
          null,
          null,
          null
         ],
         "yaxis": "y"
        },
        {
         "hovertemplate": "variable=RiRi<br>index=%{x}<br>value=%{y}<extra></extra>",
         "legendgroup": "RiRi",
         "line": {
          "color": "#FF97FF",
          "dash": "solid"
         },
         "marker": {
          "symbol": "circle"
         },
         "mode": "lines",
         "name": "RiRi",
         "orientation": "v",
         "showlegend": true,
         "type": "scatter",
         "x": [
          "Epoch 0",
          "Epoch 1",
          "Epoch 2",
          "Epoch 3",
          "Epoch 4",
          "Epoch 5",
          "Epoch 6",
          "Epoch 7",
          "Epoch 8",
          "Epoch 9",
          "Epoch 10",
          "Epoch 11",
          "Epoch 12",
          "Epoch 13",
          "Epoch 14",
          "Epoch 15",
          "Epoch 16",
          "Epoch 17",
          "Epoch 18",
          "Epoch 19",
          "Epoch 20",
          "Epoch 21",
          "Epoch 22",
          "Epoch 23",
          "Epoch 24",
          "Epoch 25",
          "Epoch 26",
          "Epoch 27",
          "Epoch 28",
          "Epoch 29",
          "Epoch 30",
          "Epoch 31",
          "Epoch 32",
          "Epoch 33",
          "Epoch 34",
          "Epoch 35",
          "Epoch 36",
          "Epoch 37",
          "Epoch 38",
          "Epoch 39",
          "Epoch 40",
          "Epoch 41",
          "Epoch 42",
          "Epoch 43",
          "Epoch 44",
          "Epoch 45",
          "Epoch 46",
          "Epoch 47",
          "Epoch 48",
          "Epoch 49"
         ],
         "xaxis": "x",
         "y": [
          -0.4868081159196803,
          8.232691174700005,
          8.232691174699994,
          8.232691174699937,
          8.232691174695674,
          8.23269117462769,
          8.232691174081992,
          8.232691168785095,
          8.23269110172987,
          8.23269259929657,
          8.232696533203125,
          8.23291015625,
          8.234130859375,
          8.2578125,
          8.59375,
          -6.5,
          5,
          null,
          null,
          null,
          null,
          null,
          null,
          null,
          null,
          null,
          null,
          null,
          null,
          null,
          null,
          null,
          null,
          null,
          null,
          null,
          null,
          null,
          null,
          null,
          null,
          null,
          null,
          null,
          null,
          null,
          null,
          null,
          null,
          null
         ],
         "yaxis": "y"
        },
        {
         "hovertemplate": "variable=MoFo<br>index=%{x}<br>value=%{y}<extra></extra>",
         "legendgroup": "MoFo",
         "line": {
          "color": "#FECB52",
          "dash": "solid"
         },
         "marker": {
          "symbol": "circle"
         },
         "mode": "lines",
         "name": "MoFo",
         "orientation": "v",
         "showlegend": true,
         "type": "scatter",
         "x": [
          "Epoch 0",
          "Epoch 1",
          "Epoch 2",
          "Epoch 3",
          "Epoch 4",
          "Epoch 5",
          "Epoch 6",
          "Epoch 7",
          "Epoch 8",
          "Epoch 9",
          "Epoch 10",
          "Epoch 11",
          "Epoch 12",
          "Epoch 13",
          "Epoch 14",
          "Epoch 15",
          "Epoch 16",
          "Epoch 17",
          "Epoch 18",
          "Epoch 19",
          "Epoch 20",
          "Epoch 21",
          "Epoch 22",
          "Epoch 23",
          "Epoch 24",
          "Epoch 25",
          "Epoch 26",
          "Epoch 27",
          "Epoch 28",
          "Epoch 29",
          "Epoch 30",
          "Epoch 31",
          "Epoch 32",
          "Epoch 33",
          "Epoch 34",
          "Epoch 35",
          "Epoch 36",
          "Epoch 37",
          "Epoch 38",
          "Epoch 39",
          "Epoch 40",
          "Epoch 41",
          "Epoch 42",
          "Epoch 43",
          "Epoch 44",
          "Epoch 45",
          "Epoch 46",
          "Epoch 47",
          "Epoch 48",
          "Epoch 49"
         ],
         "xaxis": "x",
         "y": [
          -8.300614107312219,
          0.2692881739999984,
          0.26928817400002103,
          0.26928817400023775,
          0.26928817400494154,
          0.2692881739785662,
          0.26928817405132577,
          0.26928817154839635,
          0.26928821951150894,
          0.26928824186325073,
          0.2692861557006836,
          0.2696533203125,
          0.2667236328125,
          0.271484375,
          0.21875,
          4.25,
          -1.5,
          null,
          null,
          null,
          null,
          null,
          null,
          null,
          null,
          null,
          null,
          null,
          null,
          null,
          null,
          null,
          null,
          null,
          null,
          null,
          null,
          null,
          null,
          null,
          null,
          null,
          null,
          null,
          null,
          null,
          null,
          null,
          null,
          null
         ],
         "yaxis": "y"
        },
        {
         "hovertemplate": "variable=Mmof<br>index=%{x}<br>value=%{y}<extra></extra>",
         "legendgroup": "Mmof",
         "line": {
          "color": "#636efa",
          "dash": "solid"
         },
         "marker": {
          "symbol": "circle"
         },
         "mode": "lines",
         "name": "Mmof",
         "orientation": "v",
         "showlegend": true,
         "type": "scatter",
         "x": [
          "Epoch 0",
          "Epoch 1",
          "Epoch 2",
          "Epoch 3",
          "Epoch 4",
          "Epoch 5",
          "Epoch 6",
          "Epoch 7",
          "Epoch 8",
          "Epoch 9",
          "Epoch 10",
          "Epoch 11",
          "Epoch 12",
          "Epoch 13",
          "Epoch 14",
          "Epoch 15",
          "Epoch 16",
          "Epoch 17",
          "Epoch 18",
          "Epoch 19",
          "Epoch 20",
          "Epoch 21",
          "Epoch 22",
          "Epoch 23",
          "Epoch 24",
          "Epoch 25",
          "Epoch 26",
          "Epoch 27",
          "Epoch 28",
          "Epoch 29",
          "Epoch 30",
          "Epoch 31",
          "Epoch 32",
          "Epoch 33",
          "Epoch 34",
          "Epoch 35",
          "Epoch 36",
          "Epoch 37",
          "Epoch 38",
          "Epoch 39",
          "Epoch 40",
          "Epoch 41",
          "Epoch 42",
          "Epoch 43",
          "Epoch 44",
          "Epoch 45",
          "Epoch 46",
          "Epoch 47",
          "Epoch 48",
          "Epoch 49"
         ],
         "xaxis": "x",
         "y": [
          2.815277442764286,
          -7.082149873999998,
          -7.08214987400007,
          -7.082149874000891,
          -7.08214987399333,
          -7.082149874098832,
          -7.08214987651445,
          -7.082149835303426,
          -7.082149565219879,
          -7.082146644592285,
          -7.082073211669922,
          -7.082763671875,
          -7.0830078125,
          -7.1171875,
          -7.125,
          1.5,
          19,
          null,
          null,
          null,
          null,
          null,
          null,
          null,
          null,
          null,
          null,
          null,
          null,
          null,
          null,
          null,
          null,
          null,
          null,
          null,
          null,
          null,
          null,
          null,
          null,
          null,
          null,
          null,
          null,
          null,
          null,
          null,
          null,
          null
         ],
         "yaxis": "y"
        },
        {
         "hovertemplate": "variable=MoRi<br>index=%{x}<br>value=%{y}<extra></extra>",
         "legendgroup": "MoRi",
         "line": {
          "color": "#EF553B",
          "dash": "solid"
         },
         "marker": {
          "symbol": "circle"
         },
         "mode": "lines",
         "name": "MoRi",
         "orientation": "v",
         "showlegend": true,
         "type": "scatter",
         "x": [
          "Epoch 0",
          "Epoch 1",
          "Epoch 2",
          "Epoch 3",
          "Epoch 4",
          "Epoch 5",
          "Epoch 6",
          "Epoch 7",
          "Epoch 8",
          "Epoch 9",
          "Epoch 10",
          "Epoch 11",
          "Epoch 12",
          "Epoch 13",
          "Epoch 14",
          "Epoch 15",
          "Epoch 16",
          "Epoch 17",
          "Epoch 18",
          "Epoch 19",
          "Epoch 20",
          "Epoch 21",
          "Epoch 22",
          "Epoch 23",
          "Epoch 24",
          "Epoch 25",
          "Epoch 26",
          "Epoch 27",
          "Epoch 28",
          "Epoch 29",
          "Epoch 30",
          "Epoch 31",
          "Epoch 32",
          "Epoch 33",
          "Epoch 34",
          "Epoch 35",
          "Epoch 36",
          "Epoch 37",
          "Epoch 38",
          "Epoch 39",
          "Epoch 40",
          "Epoch 41",
          "Epoch 42",
          "Epoch 43",
          "Epoch 44",
          "Epoch 45",
          "Epoch 46",
          "Epoch 47",
          "Epoch 48",
          "Epoch 49"
         ],
         "xaxis": "x",
         "y": [
          4.1856883246036904,
          0.6600351099999999,
          0.6600351100000594,
          0.6600351100023545,
          0.6600351099950785,
          0.6600351094093639,
          0.6600351127563044,
          0.660035127773881,
          0.6600350141525269,
          0.6600372791290283,
          0.6600723266601562,
          0.660400390625,
          0.6435546875,
          0.6171875,
          0.75,
          -23,
          2,
          null,
          null,
          null,
          null,
          null,
          null,
          null,
          null,
          null,
          null,
          null,
          null,
          null,
          null,
          null,
          null,
          null,
          null,
          null,
          null,
          null,
          null,
          null,
          null,
          null,
          null,
          null,
          null,
          null,
          null,
          null,
          null,
          null
         ],
         "yaxis": "y"
        },
        {
         "hovertemplate": "variable=MeRi<br>index=%{x}<br>value=%{y}<extra></extra>",
         "legendgroup": "MeRi",
         "line": {
          "color": "#00cc96",
          "dash": "solid"
         },
         "marker": {
          "symbol": "circle"
         },
         "mode": "lines",
         "name": "MeRi",
         "orientation": "v",
         "showlegend": true,
         "type": "scatter",
         "x": [
          "Epoch 0",
          "Epoch 1",
          "Epoch 2",
          "Epoch 3",
          "Epoch 4",
          "Epoch 5",
          "Epoch 6",
          "Epoch 7",
          "Epoch 8",
          "Epoch 9",
          "Epoch 10",
          "Epoch 11",
          "Epoch 12",
          "Epoch 13",
          "Epoch 14",
          "Epoch 15",
          "Epoch 16",
          "Epoch 17",
          "Epoch 18",
          "Epoch 19",
          "Epoch 20",
          "Epoch 21",
          "Epoch 22",
          "Epoch 23",
          "Epoch 24",
          "Epoch 25",
          "Epoch 26",
          "Epoch 27",
          "Epoch 28",
          "Epoch 29",
          "Epoch 30",
          "Epoch 31",
          "Epoch 32",
          "Epoch 33",
          "Epoch 34",
          "Epoch 35",
          "Epoch 36",
          "Epoch 37",
          "Epoch 38",
          "Epoch 39",
          "Epoch 40",
          "Epoch 41",
          "Epoch 42",
          "Epoch 43",
          "Epoch 44",
          "Epoch 45",
          "Epoch 46",
          "Epoch 47",
          "Epoch 48",
          "Epoch 49"
         ],
         "xaxis": "x",
         "y": [
          3.7367781714814226,
          0.3303015260000063,
          0.3303015260000919,
          0.33030152599945595,
          0.33030152599849316,
          0.33030152604078467,
          0.3303015253623016,
          0.3303015069104731,
          0.33030135184526443,
          0.3302995562553406,
          0.3303079605102539,
          0.3301544189453125,
          0.3338623046875,
          0.298828125,
          0.03125,
          -3.125,
          0,
          null,
          null,
          null,
          null,
          null,
          null,
          null,
          null,
          null,
          null,
          null,
          null,
          null,
          null,
          null,
          null,
          null,
          null,
          null,
          null,
          null,
          null,
          null,
          null,
          null,
          null,
          null,
          null,
          null,
          null,
          null,
          null,
          null
         ],
         "yaxis": "y"
        },
        {
         "hovertemplate": "variable=Ri<br>index=%{x}<br>value=%{y}<extra></extra>",
         "legendgroup": "Ri",
         "line": {
          "color": "#ab63fa",
          "dash": "solid"
         },
         "marker": {
          "symbol": "circle"
         },
         "mode": "lines",
         "name": "Ri",
         "orientation": "v",
         "showlegend": true,
         "type": "scatter",
         "x": [
          "Epoch 0",
          "Epoch 1",
          "Epoch 2",
          "Epoch 3",
          "Epoch 4",
          "Epoch 5",
          "Epoch 6",
          "Epoch 7",
          "Epoch 8",
          "Epoch 9",
          "Epoch 10",
          "Epoch 11",
          "Epoch 12",
          "Epoch 13",
          "Epoch 14",
          "Epoch 15",
          "Epoch 16",
          "Epoch 17",
          "Epoch 18",
          "Epoch 19",
          "Epoch 20",
          "Epoch 21",
          "Epoch 22",
          "Epoch 23",
          "Epoch 24",
          "Epoch 25",
          "Epoch 26",
          "Epoch 27",
          "Epoch 28",
          "Epoch 29",
          "Epoch 30",
          "Epoch 31",
          "Epoch 32",
          "Epoch 33",
          "Epoch 34",
          "Epoch 35",
          "Epoch 36",
          "Epoch 37",
          "Epoch 38",
          "Epoch 39",
          "Epoch 40",
          "Epoch 41",
          "Epoch 42",
          "Epoch 43",
          "Epoch 44",
          "Epoch 45",
          "Epoch 46",
          "Epoch 47",
          "Epoch 48",
          "Epoch 49"
         ],
         "xaxis": "x",
         "y": [
          3.9372596030274227,
          0.25731911000000063,
          0.2573191100000827,
          0.2573191099990879,
          0.25731911001003027,
          0.25731911003094865,
          0.25731911073671654,
          0.2573191188275814,
          0.2573191374540329,
          0.25731992721557617,
          0.2572307586669922,
          0.257415771484375,
          0.25244140625,
          0.29296875,
          0.5625,
          -4.375,
          -24,
          null,
          null,
          null,
          null,
          null,
          null,
          null,
          null,
          null,
          null,
          null,
          null,
          null,
          null,
          null,
          null,
          null,
          null,
          null,
          null,
          null,
          null,
          null,
          null,
          null,
          null,
          null,
          null,
          null,
          null,
          null,
          null,
          null
         ],
         "yaxis": "y"
        },
        {
         "hovertemplate": "variable=Comp<br>index=%{x}<br>value=%{y}<extra></extra>",
         "legendgroup": "Comp",
         "line": {
          "color": "#FFA15A",
          "dash": "solid"
         },
         "marker": {
          "symbol": "circle"
         },
         "mode": "lines",
         "name": "Comp",
         "orientation": "v",
         "showlegend": true,
         "type": "scatter",
         "x": [
          "Epoch 0",
          "Epoch 1",
          "Epoch 2",
          "Epoch 3",
          "Epoch 4",
          "Epoch 5",
          "Epoch 6",
          "Epoch 7",
          "Epoch 8",
          "Epoch 9",
          "Epoch 10",
          "Epoch 11",
          "Epoch 12",
          "Epoch 13",
          "Epoch 14",
          "Epoch 15",
          "Epoch 16",
          "Epoch 17",
          "Epoch 18",
          "Epoch 19",
          "Epoch 20",
          "Epoch 21",
          "Epoch 22",
          "Epoch 23",
          "Epoch 24",
          "Epoch 25",
          "Epoch 26",
          "Epoch 27",
          "Epoch 28",
          "Epoch 29",
          "Epoch 30",
          "Epoch 31",
          "Epoch 32",
          "Epoch 33",
          "Epoch 34",
          "Epoch 35",
          "Epoch 36",
          "Epoch 37",
          "Epoch 38",
          "Epoch 39",
          "Epoch 40",
          "Epoch 41",
          "Epoch 42",
          "Epoch 43",
          "Epoch 44",
          "Epoch 45",
          "Epoch 46",
          "Epoch 47",
          "Epoch 48",
          "Epoch 49"
         ],
         "xaxis": "x",
         "y": [
          24.67312011351836,
          2.3557417280000017,
          2.355741728000062,
          2.355741727998577,
          2.355741728004432,
          2.355741728155408,
          2.3557417291449383,
          2.3557417299598455,
          2.3557416200637817,
          2.3557488918304443,
          2.3556900024414062,
          2.35565185546875,
          2.35595703125,
          2.21875,
          4.5,
          28,
          -10,
          null,
          null,
          null,
          null,
          null,
          null,
          null,
          null,
          null,
          null,
          null,
          null,
          null,
          null,
          null,
          null,
          null,
          null,
          null,
          null,
          null,
          null,
          null,
          null,
          null,
          null,
          null,
          null,
          null,
          null,
          null,
          null,
          null
         ],
         "yaxis": "y"
        }
       ],
       "layout": {
        "legend": {
         "title": {
          "text": "variable"
         },
         "tracegroupgap": 0
        },
        "template": {
         "data": {
          "bar": [
           {
            "error_x": {
             "color": "#2a3f5f"
            },
            "error_y": {
             "color": "#2a3f5f"
            },
            "marker": {
             "line": {
              "color": "#E5ECF6",
              "width": 0.5
             },
             "pattern": {
              "fillmode": "overlay",
              "size": 10,
              "solidity": 0.2
             }
            },
            "type": "bar"
           }
          ],
          "barpolar": [
           {
            "marker": {
             "line": {
              "color": "#E5ECF6",
              "width": 0.5
             },
             "pattern": {
              "fillmode": "overlay",
              "size": 10,
              "solidity": 0.2
             }
            },
            "type": "barpolar"
           }
          ],
          "carpet": [
           {
            "aaxis": {
             "endlinecolor": "#2a3f5f",
             "gridcolor": "white",
             "linecolor": "white",
             "minorgridcolor": "white",
             "startlinecolor": "#2a3f5f"
            },
            "baxis": {
             "endlinecolor": "#2a3f5f",
             "gridcolor": "white",
             "linecolor": "white",
             "minorgridcolor": "white",
             "startlinecolor": "#2a3f5f"
            },
            "type": "carpet"
           }
          ],
          "choropleth": [
           {
            "colorbar": {
             "outlinewidth": 0,
             "ticks": ""
            },
            "type": "choropleth"
           }
          ],
          "contour": [
           {
            "colorbar": {
             "outlinewidth": 0,
             "ticks": ""
            },
            "colorscale": [
             [
              0,
              "#0d0887"
             ],
             [
              0.1111111111111111,
              "#46039f"
             ],
             [
              0.2222222222222222,
              "#7201a8"
             ],
             [
              0.3333333333333333,
              "#9c179e"
             ],
             [
              0.4444444444444444,
              "#bd3786"
             ],
             [
              0.5555555555555556,
              "#d8576b"
             ],
             [
              0.6666666666666666,
              "#ed7953"
             ],
             [
              0.7777777777777778,
              "#fb9f3a"
             ],
             [
              0.8888888888888888,
              "#fdca26"
             ],
             [
              1,
              "#f0f921"
             ]
            ],
            "type": "contour"
           }
          ],
          "contourcarpet": [
           {
            "colorbar": {
             "outlinewidth": 0,
             "ticks": ""
            },
            "type": "contourcarpet"
           }
          ],
          "heatmap": [
           {
            "colorbar": {
             "outlinewidth": 0,
             "ticks": ""
            },
            "colorscale": [
             [
              0,
              "#0d0887"
             ],
             [
              0.1111111111111111,
              "#46039f"
             ],
             [
              0.2222222222222222,
              "#7201a8"
             ],
             [
              0.3333333333333333,
              "#9c179e"
             ],
             [
              0.4444444444444444,
              "#bd3786"
             ],
             [
              0.5555555555555556,
              "#d8576b"
             ],
             [
              0.6666666666666666,
              "#ed7953"
             ],
             [
              0.7777777777777778,
              "#fb9f3a"
             ],
             [
              0.8888888888888888,
              "#fdca26"
             ],
             [
              1,
              "#f0f921"
             ]
            ],
            "type": "heatmap"
           }
          ],
          "heatmapgl": [
           {
            "colorbar": {
             "outlinewidth": 0,
             "ticks": ""
            },
            "colorscale": [
             [
              0,
              "#0d0887"
             ],
             [
              0.1111111111111111,
              "#46039f"
             ],
             [
              0.2222222222222222,
              "#7201a8"
             ],
             [
              0.3333333333333333,
              "#9c179e"
             ],
             [
              0.4444444444444444,
              "#bd3786"
             ],
             [
              0.5555555555555556,
              "#d8576b"
             ],
             [
              0.6666666666666666,
              "#ed7953"
             ],
             [
              0.7777777777777778,
              "#fb9f3a"
             ],
             [
              0.8888888888888888,
              "#fdca26"
             ],
             [
              1,
              "#f0f921"
             ]
            ],
            "type": "heatmapgl"
           }
          ],
          "histogram": [
           {
            "marker": {
             "pattern": {
              "fillmode": "overlay",
              "size": 10,
              "solidity": 0.2
             }
            },
            "type": "histogram"
           }
          ],
          "histogram2d": [
           {
            "colorbar": {
             "outlinewidth": 0,
             "ticks": ""
            },
            "colorscale": [
             [
              0,
              "#0d0887"
             ],
             [
              0.1111111111111111,
              "#46039f"
             ],
             [
              0.2222222222222222,
              "#7201a8"
             ],
             [
              0.3333333333333333,
              "#9c179e"
             ],
             [
              0.4444444444444444,
              "#bd3786"
             ],
             [
              0.5555555555555556,
              "#d8576b"
             ],
             [
              0.6666666666666666,
              "#ed7953"
             ],
             [
              0.7777777777777778,
              "#fb9f3a"
             ],
             [
              0.8888888888888888,
              "#fdca26"
             ],
             [
              1,
              "#f0f921"
             ]
            ],
            "type": "histogram2d"
           }
          ],
          "histogram2dcontour": [
           {
            "colorbar": {
             "outlinewidth": 0,
             "ticks": ""
            },
            "colorscale": [
             [
              0,
              "#0d0887"
             ],
             [
              0.1111111111111111,
              "#46039f"
             ],
             [
              0.2222222222222222,
              "#7201a8"
             ],
             [
              0.3333333333333333,
              "#9c179e"
             ],
             [
              0.4444444444444444,
              "#bd3786"
             ],
             [
              0.5555555555555556,
              "#d8576b"
             ],
             [
              0.6666666666666666,
              "#ed7953"
             ],
             [
              0.7777777777777778,
              "#fb9f3a"
             ],
             [
              0.8888888888888888,
              "#fdca26"
             ],
             [
              1,
              "#f0f921"
             ]
            ],
            "type": "histogram2dcontour"
           }
          ],
          "mesh3d": [
           {
            "colorbar": {
             "outlinewidth": 0,
             "ticks": ""
            },
            "type": "mesh3d"
           }
          ],
          "parcoords": [
           {
            "line": {
             "colorbar": {
              "outlinewidth": 0,
              "ticks": ""
             }
            },
            "type": "parcoords"
           }
          ],
          "pie": [
           {
            "automargin": true,
            "type": "pie"
           }
          ],
          "scatter": [
           {
            "fillpattern": {
             "fillmode": "overlay",
             "size": 10,
             "solidity": 0.2
            },
            "type": "scatter"
           }
          ],
          "scatter3d": [
           {
            "line": {
             "colorbar": {
              "outlinewidth": 0,
              "ticks": ""
             }
            },
            "marker": {
             "colorbar": {
              "outlinewidth": 0,
              "ticks": ""
             }
            },
            "type": "scatter3d"
           }
          ],
          "scattercarpet": [
           {
            "marker": {
             "colorbar": {
              "outlinewidth": 0,
              "ticks": ""
             }
            },
            "type": "scattercarpet"
           }
          ],
          "scattergeo": [
           {
            "marker": {
             "colorbar": {
              "outlinewidth": 0,
              "ticks": ""
             }
            },
            "type": "scattergeo"
           }
          ],
          "scattergl": [
           {
            "marker": {
             "colorbar": {
              "outlinewidth": 0,
              "ticks": ""
             }
            },
            "type": "scattergl"
           }
          ],
          "scattermapbox": [
           {
            "marker": {
             "colorbar": {
              "outlinewidth": 0,
              "ticks": ""
             }
            },
            "type": "scattermapbox"
           }
          ],
          "scatterpolar": [
           {
            "marker": {
             "colorbar": {
              "outlinewidth": 0,
              "ticks": ""
             }
            },
            "type": "scatterpolar"
           }
          ],
          "scatterpolargl": [
           {
            "marker": {
             "colorbar": {
              "outlinewidth": 0,
              "ticks": ""
             }
            },
            "type": "scatterpolargl"
           }
          ],
          "scatterternary": [
           {
            "marker": {
             "colorbar": {
              "outlinewidth": 0,
              "ticks": ""
             }
            },
            "type": "scatterternary"
           }
          ],
          "surface": [
           {
            "colorbar": {
             "outlinewidth": 0,
             "ticks": ""
            },
            "colorscale": [
             [
              0,
              "#0d0887"
             ],
             [
              0.1111111111111111,
              "#46039f"
             ],
             [
              0.2222222222222222,
              "#7201a8"
             ],
             [
              0.3333333333333333,
              "#9c179e"
             ],
             [
              0.4444444444444444,
              "#bd3786"
             ],
             [
              0.5555555555555556,
              "#d8576b"
             ],
             [
              0.6666666666666666,
              "#ed7953"
             ],
             [
              0.7777777777777778,
              "#fb9f3a"
             ],
             [
              0.8888888888888888,
              "#fdca26"
             ],
             [
              1,
              "#f0f921"
             ]
            ],
            "type": "surface"
           }
          ],
          "table": [
           {
            "cells": {
             "fill": {
              "color": "#EBF0F8"
             },
             "line": {
              "color": "white"
             }
            },
            "header": {
             "fill": {
              "color": "#C8D4E3"
             },
             "line": {
              "color": "white"
             }
            },
            "type": "table"
           }
          ]
         },
         "layout": {
          "annotationdefaults": {
           "arrowcolor": "#2a3f5f",
           "arrowhead": 0,
           "arrowwidth": 1
          },
          "autotypenumbers": "strict",
          "coloraxis": {
           "colorbar": {
            "outlinewidth": 0,
            "ticks": ""
           }
          },
          "colorscale": {
           "diverging": [
            [
             0,
             "#8e0152"
            ],
            [
             0.1,
             "#c51b7d"
            ],
            [
             0.2,
             "#de77ae"
            ],
            [
             0.3,
             "#f1b6da"
            ],
            [
             0.4,
             "#fde0ef"
            ],
            [
             0.5,
             "#f7f7f7"
            ],
            [
             0.6,
             "#e6f5d0"
            ],
            [
             0.7,
             "#b8e186"
            ],
            [
             0.8,
             "#7fbc41"
            ],
            [
             0.9,
             "#4d9221"
            ],
            [
             1,
             "#276419"
            ]
           ],
           "sequential": [
            [
             0,
             "#0d0887"
            ],
            [
             0.1111111111111111,
             "#46039f"
            ],
            [
             0.2222222222222222,
             "#7201a8"
            ],
            [
             0.3333333333333333,
             "#9c179e"
            ],
            [
             0.4444444444444444,
             "#bd3786"
            ],
            [
             0.5555555555555556,
             "#d8576b"
            ],
            [
             0.6666666666666666,
             "#ed7953"
            ],
            [
             0.7777777777777778,
             "#fb9f3a"
            ],
            [
             0.8888888888888888,
             "#fdca26"
            ],
            [
             1,
             "#f0f921"
            ]
           ],
           "sequentialminus": [
            [
             0,
             "#0d0887"
            ],
            [
             0.1111111111111111,
             "#46039f"
            ],
            [
             0.2222222222222222,
             "#7201a8"
            ],
            [
             0.3333333333333333,
             "#9c179e"
            ],
            [
             0.4444444444444444,
             "#bd3786"
            ],
            [
             0.5555555555555556,
             "#d8576b"
            ],
            [
             0.6666666666666666,
             "#ed7953"
            ],
            [
             0.7777777777777778,
             "#fb9f3a"
            ],
            [
             0.8888888888888888,
             "#fdca26"
            ],
            [
             1,
             "#f0f921"
            ]
           ]
          },
          "colorway": [
           "#636efa",
           "#EF553B",
           "#00cc96",
           "#ab63fa",
           "#FFA15A",
           "#19d3f3",
           "#FF6692",
           "#B6E880",
           "#FF97FF",
           "#FECB52"
          ],
          "font": {
           "color": "#2a3f5f"
          },
          "geo": {
           "bgcolor": "white",
           "lakecolor": "white",
           "landcolor": "#E5ECF6",
           "showlakes": true,
           "showland": true,
           "subunitcolor": "white"
          },
          "hoverlabel": {
           "align": "left"
          },
          "hovermode": "closest",
          "mapbox": {
           "style": "light"
          },
          "paper_bgcolor": "white",
          "plot_bgcolor": "#E5ECF6",
          "polar": {
           "angularaxis": {
            "gridcolor": "white",
            "linecolor": "white",
            "ticks": ""
           },
           "bgcolor": "#E5ECF6",
           "radialaxis": {
            "gridcolor": "white",
            "linecolor": "white",
            "ticks": ""
           }
          },
          "scene": {
           "xaxis": {
            "backgroundcolor": "#E5ECF6",
            "gridcolor": "white",
            "gridwidth": 2,
            "linecolor": "white",
            "showbackground": true,
            "ticks": "",
            "zerolinecolor": "white"
           },
           "yaxis": {
            "backgroundcolor": "#E5ECF6",
            "gridcolor": "white",
            "gridwidth": 2,
            "linecolor": "white",
            "showbackground": true,
            "ticks": "",
            "zerolinecolor": "white"
           },
           "zaxis": {
            "backgroundcolor": "#E5ECF6",
            "gridcolor": "white",
            "gridwidth": 2,
            "linecolor": "white",
            "showbackground": true,
            "ticks": "",
            "zerolinecolor": "white"
           }
          },
          "shapedefaults": {
           "line": {
            "color": "#2a3f5f"
           }
          },
          "ternary": {
           "aaxis": {
            "gridcolor": "white",
            "linecolor": "white",
            "ticks": ""
           },
           "baxis": {
            "gridcolor": "white",
            "linecolor": "white",
            "ticks": ""
           },
           "bgcolor": "#E5ECF6",
           "caxis": {
            "gridcolor": "white",
            "linecolor": "white",
            "ticks": ""
           }
          },
          "title": {
           "x": 0.05
          },
          "xaxis": {
           "automargin": true,
           "gridcolor": "white",
           "linecolor": "white",
           "ticks": "",
           "title": {
            "standoff": 15
           },
           "zerolinecolor": "white",
           "zerolinewidth": 2
          },
          "yaxis": {
           "automargin": true,
           "gridcolor": "white",
           "linecolor": "white",
           "ticks": "",
           "title": {
            "standoff": 15
           },
           "zerolinecolor": "white",
           "zerolinewidth": 2
          }
         }
        },
        "title": {
         "text": "Free evolution of the weights for subject soggetto_3"
        },
        "xaxis": {
         "anchor": "y",
         "domain": [
          0,
          1
         ],
         "title": {
          "text": "index"
         }
        },
        "yaxis": {
         "anchor": "x",
         "domain": [
          0,
          1
         ],
         "title": {
          "text": "value"
         }
        }
       }
      }
     },
     "metadata": {},
     "output_type": "display_data"
    },
    {
     "data": {
      "application/vnd.plotly.v1+json": {
       "config": {
        "plotlyServerURL": "https://plot.ly"
       },
       "data": [
        {
         "hovertemplate": "variable=TrRi<br>index=%{x}<br>value=%{y}<extra></extra>",
         "legendgroup": "TrRi",
         "line": {
          "color": "#636efa",
          "dash": "solid"
         },
         "marker": {
          "symbol": "circle"
         },
         "mode": "lines",
         "name": "TrRi",
         "orientation": "v",
         "showlegend": true,
         "type": "scatter",
         "x": [
          "Epoch 0",
          "Epoch 1",
          "Epoch 2",
          "Epoch 3",
          "Epoch 4",
          "Epoch 5",
          "Epoch 6",
          "Epoch 7",
          "Epoch 8",
          "Epoch 9",
          "Epoch 10",
          "Epoch 11",
          "Epoch 12",
          "Epoch 13",
          "Epoch 14",
          "Epoch 15",
          "Epoch 16",
          "Epoch 17",
          "Epoch 18",
          "Epoch 19",
          "Epoch 20",
          "Epoch 21",
          "Epoch 22",
          "Epoch 23",
          "Epoch 24",
          "Epoch 25",
          "Epoch 26",
          "Epoch 27",
          "Epoch 28",
          "Epoch 29",
          "Epoch 30",
          "Epoch 31",
          "Epoch 32",
          "Epoch 33",
          "Epoch 34",
          "Epoch 35",
          "Epoch 36",
          "Epoch 37",
          "Epoch 38",
          "Epoch 39",
          "Epoch 40",
          "Epoch 41",
          "Epoch 42",
          "Epoch 43",
          "Epoch 44",
          "Epoch 45",
          "Epoch 46",
          "Epoch 47",
          "Epoch 48",
          "Epoch 49"
         ],
         "xaxis": "x",
         "y": [
          -16.039007860916662,
          0.3968132639999994,
          0.39681326400000144,
          0.39681326400000055,
          0.3968132640000045,
          0.39681326399999683,
          0.39681326399992,
          0.39681326399969175,
          0.3968132639998636,
          0.39681326400028993,
          0.3968132640021693,
          0.39681326399812633,
          0.39681326400532413,
          0.3968132640201816,
          0.39681326402160266,
          0.39681326399045247,
          0.39681326409527173,
          0.396813263831973,
          0.39681326367372094,
          0.3968132645259175,
          0.3968132638547104,
          0.39681325558922254,
          0.3968132648442406,
          0.3968132571899332,
          0.39681333798216656,
          0.39681325491983443,
          0.39681327948346734,
          0.39681375212967396,
          0.39681345596909523,
          0.396814726293087,
          0.39681193698197603,
          0.3968178629875183,
          0.39681732654571533,
          0.39681339263916016,
          0.3967592716217041,
          0.39690160751342773,
          0.39673566818237305,
          0.39763832092285156,
          0.39722442626953125,
          0.398651123046875,
          0.383575439453125,
          0.41876220703125,
          0.38690185546875,
          0.304443359375,
          0.28759765625,
          0.208984375,
          1.0390625,
          0.609375,
          -0.75,
          33.625
         ],
         "yaxis": "y"
        },
        {
         "hovertemplate": "variable=RiTr<br>index=%{x}<br>value=%{y}<extra></extra>",
         "legendgroup": "RiTr",
         "line": {
          "color": "#EF553B",
          "dash": "solid"
         },
         "marker": {
          "symbol": "circle"
         },
         "mode": "lines",
         "name": "RiTr",
         "orientation": "v",
         "showlegend": true,
         "type": "scatter",
         "x": [
          "Epoch 0",
          "Epoch 1",
          "Epoch 2",
          "Epoch 3",
          "Epoch 4",
          "Epoch 5",
          "Epoch 6",
          "Epoch 7",
          "Epoch 8",
          "Epoch 9",
          "Epoch 10",
          "Epoch 11",
          "Epoch 12",
          "Epoch 13",
          "Epoch 14",
          "Epoch 15",
          "Epoch 16",
          "Epoch 17",
          "Epoch 18",
          "Epoch 19",
          "Epoch 20",
          "Epoch 21",
          "Epoch 22",
          "Epoch 23",
          "Epoch 24",
          "Epoch 25",
          "Epoch 26",
          "Epoch 27",
          "Epoch 28",
          "Epoch 29",
          "Epoch 30",
          "Epoch 31",
          "Epoch 32",
          "Epoch 33",
          "Epoch 34",
          "Epoch 35",
          "Epoch 36",
          "Epoch 37",
          "Epoch 38",
          "Epoch 39",
          "Epoch 40",
          "Epoch 41",
          "Epoch 42",
          "Epoch 43",
          "Epoch 44",
          "Epoch 45",
          "Epoch 46",
          "Epoch 47",
          "Epoch 48",
          "Epoch 49"
         ],
         "xaxis": "x",
         "y": [
          -11.749490879382787,
          1.1797610479999996,
          1.1797610480000045,
          1.1797610480000007,
          1.1797610479999956,
          1.1797610479999716,
          1.1797610479999912,
          1.1797610480001506,
          1.1797610479992837,
          1.1797610479989773,
          1.1797610480001417,
          1.179761047999591,
          1.1797610479939067,
          1.1797610480155072,
          1.1797610480400635,
          1.1797610479273999,
          1.179761047916145,
          1.1797610479043215,
          1.1797610483972676,
          1.179761047635111,
          1.1797610499525035,
          1.179761049716035,
          1.1797610535286367,
          1.1797610734356567,
          1.1797610335052013,
          1.1797611941583455,
          1.1797610088251531,
          1.1797611452639103,
          1.1797631680965424,
          1.179760992527008,
          1.1797576695680618,
          1.1797573864459991,
          1.1797604858875275,
          1.1797690391540527,
          1.179670810699463,
          1.1798553466796875,
          1.1790809631347656,
          1.1804141998291016,
          1.1813793182373047,
          1.1798095703125,
          1.183624267578125,
          1.214599609375,
          1.1641845703125,
          1.147705078125,
          1.0439453125,
          1.181640625,
          -1.8046875,
          0.080078125,
          95.25,
          -2.5
         ],
         "yaxis": "y"
        },
        {
         "hovertemplate": "variable=Plu<br>index=%{x}<br>value=%{y}<extra></extra>",
         "legendgroup": "Plu",
         "line": {
          "color": "#00cc96",
          "dash": "solid"
         },
         "marker": {
          "symbol": "circle"
         },
         "mode": "lines",
         "name": "Plu",
         "orientation": "v",
         "showlegend": true,
         "type": "scatter",
         "x": [
          "Epoch 0",
          "Epoch 1",
          "Epoch 2",
          "Epoch 3",
          "Epoch 4",
          "Epoch 5",
          "Epoch 6",
          "Epoch 7",
          "Epoch 8",
          "Epoch 9",
          "Epoch 10",
          "Epoch 11",
          "Epoch 12",
          "Epoch 13",
          "Epoch 14",
          "Epoch 15",
          "Epoch 16",
          "Epoch 17",
          "Epoch 18",
          "Epoch 19",
          "Epoch 20",
          "Epoch 21",
          "Epoch 22",
          "Epoch 23",
          "Epoch 24",
          "Epoch 25",
          "Epoch 26",
          "Epoch 27",
          "Epoch 28",
          "Epoch 29",
          "Epoch 30",
          "Epoch 31",
          "Epoch 32",
          "Epoch 33",
          "Epoch 34",
          "Epoch 35",
          "Epoch 36",
          "Epoch 37",
          "Epoch 38",
          "Epoch 39",
          "Epoch 40",
          "Epoch 41",
          "Epoch 42",
          "Epoch 43",
          "Epoch 44",
          "Epoch 45",
          "Epoch 46",
          "Epoch 47",
          "Epoch 48",
          "Epoch 49"
         ],
         "xaxis": "x",
         "y": [
          -10.610753521428968,
          -1.466389363999999,
          -1.4663893639999945,
          -1.4663893639999994,
          -1.466389364000009,
          -1.4663893639999879,
          -1.4663893640000072,
          -1.4663893640001058,
          -1.4663893639999803,
          -1.4663893639995287,
          -1.4663893640003867,
          -1.4663893639993901,
          -1.4663893639990988,
          -1.4663893640129686,
          -1.4663893639988714,
          -1.466389364012059,
          -1.4663893639621506,
          -1.466389364166389,
          -1.4663893641227332,
          -1.4663893637844012,
          -1.4663893622346222,
          -1.4663893626602658,
          -1.4663893603428733,
          -1.4663893642136827,
          -1.4663893466931768,
          -1.4663893331307918,
          -1.4663892956450582,
          -1.4663895857520401,
          -1.4663891103118658,
          -1.4663899689912796,
          -1.4663897901773453,
          -1.4663940370082855,
          -1.4663893282413483,
          -1.4664086699485779,
          -1.466370940208435,
          -1.4663410186767578,
          -1.4662847518920898,
          -1.466451644897461,
          -1.4650506973266602,
          -1.46124267578125,
          -1.465728759765625,
          -1.467041015625,
          -1.4788818359375,
          -1.45989990234375,
          -1.4735107421875,
          -1.61572265625,
          -1.8037109375,
          -6.828125,
          12.875,
          1.0625
         ],
         "yaxis": "y"
        },
        {
         "hovertemplate": "variable=Ttra<br>index=%{x}<br>value=%{y}<extra></extra>",
         "legendgroup": "Ttra",
         "line": {
          "color": "#ab63fa",
          "dash": "solid"
         },
         "marker": {
          "symbol": "circle"
         },
         "mode": "lines",
         "name": "Ttra",
         "orientation": "v",
         "showlegend": true,
         "type": "scatter",
         "x": [
          "Epoch 0",
          "Epoch 1",
          "Epoch 2",
          "Epoch 3",
          "Epoch 4",
          "Epoch 5",
          "Epoch 6",
          "Epoch 7",
          "Epoch 8",
          "Epoch 9",
          "Epoch 10",
          "Epoch 11",
          "Epoch 12",
          "Epoch 13",
          "Epoch 14",
          "Epoch 15",
          "Epoch 16",
          "Epoch 17",
          "Epoch 18",
          "Epoch 19",
          "Epoch 20",
          "Epoch 21",
          "Epoch 22",
          "Epoch 23",
          "Epoch 24",
          "Epoch 25",
          "Epoch 26",
          "Epoch 27",
          "Epoch 28",
          "Epoch 29",
          "Epoch 30",
          "Epoch 31",
          "Epoch 32",
          "Epoch 33",
          "Epoch 34",
          "Epoch 35",
          "Epoch 36",
          "Epoch 37",
          "Epoch 38",
          "Epoch 39",
          "Epoch 40",
          "Epoch 41",
          "Epoch 42",
          "Epoch 43",
          "Epoch 44",
          "Epoch 45",
          "Epoch 46",
          "Epoch 47",
          "Epoch 48",
          "Epoch 49"
         ],
         "xaxis": "x",
         "y": [
          25.679641740798925,
          -5.236643826,
          -5.236643826,
          -5.236643825999995,
          -5.236643825999982,
          -5.236643826000003,
          -5.236643825999949,
          -5.236643826000115,
          -5.23664382599993,
          -5.236643825999153,
          -5.236643826001092,
          -5.236643825997433,
          -5.236643826004865,
          -5.236643825994122,
          -5.236643826040279,
          -5.236643826022004,
          -5.236643826053296,
          -5.236643825710416,
          -5.236643826770887,
          -5.236643827851367,
          -5.23664383072537,
          -5.236643828677188,
          -5.236643826123327,
          -5.236643801210448,
          -5.236643776064739,
          -5.236643892945722,
          -5.236643974436447,
          -5.23664367524907,
          -5.236644398421049,
          -5.236645616590977,
          -5.236647307872772,
          -5.236643940210342,
          -5.236670076847076,
          -5.236641049385071,
          -5.23668098449707,
          -5.236344337463379,
          -5.236719131469727,
          -5.235538482666016,
          -5.236450672149658,
          -5.2346954345703125,
          -5.229827880859375,
          -5.22613525390625,
          -5.2027587890625,
          -5.38232421875,
          -5.23956298828125,
          -5.208984375,
          -6.078125,
          -9.171875,
          42.5,
          -50.25
         ],
         "yaxis": "y"
        },
        {
         "hovertemplate": "variable=Ttrb<br>index=%{x}<br>value=%{y}<extra></extra>",
         "legendgroup": "Ttrb",
         "line": {
          "color": "#FFA15A",
          "dash": "solid"
         },
         "marker": {
          "symbol": "circle"
         },
         "mode": "lines",
         "name": "Ttrb",
         "orientation": "v",
         "showlegend": true,
         "type": "scatter",
         "x": [
          "Epoch 0",
          "Epoch 1",
          "Epoch 2",
          "Epoch 3",
          "Epoch 4",
          "Epoch 5",
          "Epoch 6",
          "Epoch 7",
          "Epoch 8",
          "Epoch 9",
          "Epoch 10",
          "Epoch 11",
          "Epoch 12",
          "Epoch 13",
          "Epoch 14",
          "Epoch 15",
          "Epoch 16",
          "Epoch 17",
          "Epoch 18",
          "Epoch 19",
          "Epoch 20",
          "Epoch 21",
          "Epoch 22",
          "Epoch 23",
          "Epoch 24",
          "Epoch 25",
          "Epoch 26",
          "Epoch 27",
          "Epoch 28",
          "Epoch 29",
          "Epoch 30",
          "Epoch 31",
          "Epoch 32",
          "Epoch 33",
          "Epoch 34",
          "Epoch 35",
          "Epoch 36",
          "Epoch 37",
          "Epoch 38",
          "Epoch 39",
          "Epoch 40",
          "Epoch 41",
          "Epoch 42",
          "Epoch 43",
          "Epoch 44",
          "Epoch 45",
          "Epoch 46",
          "Epoch 47",
          "Epoch 48",
          "Epoch 49"
         ],
         "xaxis": "x",
         "y": [
          -1.3741356167258953,
          -3.7179131939999994,
          -3.717913193999998,
          -3.7179131939999994,
          -3.7179131939999976,
          -3.7179131940000048,
          -3.71791319400002,
          -3.7179131940000154,
          -3.717913193999788,
          -3.717913193999774,
          -3.717913193999994,
          -3.7179131939971946,
          -3.717913194002783,
          -3.717913194002474,
          -3.717913194026181,
          -3.7179131939619765,
          -3.7179131940599746,
          -3.717913194105222,
          -3.717913193728009,
          -3.7179131940938532,
          -3.7179131938682985,
          -3.7179131951124873,
          -3.7179131829179823,
          -3.7179132048331667,
          -3.7179131972952746,
          -3.7179132042219862,
          -3.7179131815209985,
          -3.717913136817515,
          -3.7179129868745804,
          -3.717910222709179,
          -3.717912527034059,
          -3.717913344502449,
          -3.7179141640663147,
          -3.7179086208343506,
          -3.7178879976272583,
          -3.7179226875305176,
          -3.717714786529541,
          -3.7179441452026367,
          -3.7177658081054688,
          -3.7189407348632812,
          -3.733123779296875,
          -3.709503173828125,
          -3.753021240234375,
          -3.7420654296875,
          -3.6591796875,
          -3.8291015625,
          -4.203125,
          -1.67578125,
          -1.09375,
          1.828125
         ],
         "yaxis": "y"
        },
        {
         "hovertemplate": "variable=Tr<br>index=%{x}<br>value=%{y}<extra></extra>",
         "legendgroup": "Tr",
         "line": {
          "color": "#19d3f3",
          "dash": "solid"
         },
         "marker": {
          "symbol": "circle"
         },
         "mode": "lines",
         "name": "Tr",
         "orientation": "v",
         "showlegend": true,
         "type": "scatter",
         "x": [
          "Epoch 0",
          "Epoch 1",
          "Epoch 2",
          "Epoch 3",
          "Epoch 4",
          "Epoch 5",
          "Epoch 6",
          "Epoch 7",
          "Epoch 8",
          "Epoch 9",
          "Epoch 10",
          "Epoch 11",
          "Epoch 12",
          "Epoch 13",
          "Epoch 14",
          "Epoch 15",
          "Epoch 16",
          "Epoch 17",
          "Epoch 18",
          "Epoch 19",
          "Epoch 20",
          "Epoch 21",
          "Epoch 22",
          "Epoch 23",
          "Epoch 24",
          "Epoch 25",
          "Epoch 26",
          "Epoch 27",
          "Epoch 28",
          "Epoch 29",
          "Epoch 30",
          "Epoch 31",
          "Epoch 32",
          "Epoch 33",
          "Epoch 34",
          "Epoch 35",
          "Epoch 36",
          "Epoch 37",
          "Epoch 38",
          "Epoch 39",
          "Epoch 40",
          "Epoch 41",
          "Epoch 42",
          "Epoch 43",
          "Epoch 44",
          "Epoch 45",
          "Epoch 46",
          "Epoch 47",
          "Epoch 48",
          "Epoch 49"
         ],
         "xaxis": "x",
         "y": [
          -15.920634912860162,
          9.034040393200002,
          9.034040393199998,
          9.034040393199996,
          9.034040393200007,
          9.03404039320007,
          9.034040393200106,
          9.034040393199607,
          9.034040393200446,
          9.034040393199385,
          9.034040393198545,
          9.034040393202389,
          9.0340403931977,
          9.03404039318869,
          9.034040393156474,
          9.034040393240502,
          9.03404039310226,
          9.034040392803945,
          9.03404039245288,
          9.034040393999021,
          9.034040393044052,
          9.03404039304587,
          9.034040407685097,
          9.034040356636979,
          9.034040485974401,
          9.034040303202346,
          9.034040333237499,
          9.034040454775095,
          9.034040197730064,
          9.034039482474327,
          9.034043982625008,
          9.034009158611298,
          9.03403788805008,
          9.034021854400635,
          9.033905982971191,
          9.03435230255127,
          9.034032821655273,
          9.033137798309326,
          9.033500671386719,
          9.034866333007812,
          9.045654296875,
          9.005859375,
          9.018798828125,
          9.22882080078125,
          9.2724609375,
          10.171875,
          7.109375,
          21.8125,
          -10.25,
          12.625
         ],
         "yaxis": "y"
        },
        {
         "hovertemplate": "variable=MeTr<br>index=%{x}<br>value=%{y}<extra></extra>",
         "legendgroup": "MeTr",
         "line": {
          "color": "#FF6692",
          "dash": "solid"
         },
         "marker": {
          "symbol": "circle"
         },
         "mode": "lines",
         "name": "MeTr",
         "orientation": "v",
         "showlegend": true,
         "type": "scatter",
         "x": [
          "Epoch 0",
          "Epoch 1",
          "Epoch 2",
          "Epoch 3",
          "Epoch 4",
          "Epoch 5",
          "Epoch 6",
          "Epoch 7",
          "Epoch 8",
          "Epoch 9",
          "Epoch 10",
          "Epoch 11",
          "Epoch 12",
          "Epoch 13",
          "Epoch 14",
          "Epoch 15",
          "Epoch 16",
          "Epoch 17",
          "Epoch 18",
          "Epoch 19",
          "Epoch 20",
          "Epoch 21",
          "Epoch 22",
          "Epoch 23",
          "Epoch 24",
          "Epoch 25",
          "Epoch 26",
          "Epoch 27",
          "Epoch 28",
          "Epoch 29",
          "Epoch 30",
          "Epoch 31",
          "Epoch 32",
          "Epoch 33",
          "Epoch 34",
          "Epoch 35",
          "Epoch 36",
          "Epoch 37",
          "Epoch 38",
          "Epoch 39",
          "Epoch 40",
          "Epoch 41",
          "Epoch 42",
          "Epoch 43",
          "Epoch 44",
          "Epoch 45",
          "Epoch 46",
          "Epoch 47",
          "Epoch 48",
          "Epoch 49"
         ],
         "xaxis": "x",
         "y": [
          -30.77632129197004,
          5.914426899999998,
          5.914426899999995,
          5.914426900000006,
          5.914426900000004,
          5.914426899999992,
          5.914426899999937,
          5.914426899999952,
          5.9144268999999525,
          5.914426899999361,
          5.9144268999989364,
          5.914426899996414,
          5.9144268999963145,
          5.914426899972739,
          5.914426900006674,
          5.914426900056128,
          5.914426899963473,
          5.91442689969881,
          5.9144268989693956,
          5.9144269027638074,
          5.914426902447303,
          5.914426902774721,
          5.914426892763004,
          5.914426882518455,
          5.914426944917068,
          5.914426906907465,
          5.914426915347576,
          5.914426922798157,
          5.914426140487194,
          5.91442596912384,
          5.914432063698769,
          5.914421036839485,
          5.914433866739273,
          5.914389491081238,
          5.914351463317871,
          5.9146037101745605,
          5.914270401000977,
          5.914061069488525,
          5.914440155029297,
          5.9191436767578125,
          5.9171142578125,
          5.900390625,
          5.90521240234375,
          5.9500732421875,
          5.96142578125,
          6.599609375,
          3.0078125,
          -0.34375,
          0.3125,
          -9.5
         ],
         "yaxis": "y"
        },
        {
         "hovertemplate": "variable=MoTr<br>index=%{x}<br>value=%{y}<extra></extra>",
         "legendgroup": "MoTr",
         "line": {
          "color": "#B6E880",
          "dash": "solid"
         },
         "marker": {
          "symbol": "circle"
         },
         "mode": "lines",
         "name": "MoTr",
         "orientation": "v",
         "showlegend": true,
         "type": "scatter",
         "x": [
          "Epoch 0",
          "Epoch 1",
          "Epoch 2",
          "Epoch 3",
          "Epoch 4",
          "Epoch 5",
          "Epoch 6",
          "Epoch 7",
          "Epoch 8",
          "Epoch 9",
          "Epoch 10",
          "Epoch 11",
          "Epoch 12",
          "Epoch 13",
          "Epoch 14",
          "Epoch 15",
          "Epoch 16",
          "Epoch 17",
          "Epoch 18",
          "Epoch 19",
          "Epoch 20",
          "Epoch 21",
          "Epoch 22",
          "Epoch 23",
          "Epoch 24",
          "Epoch 25",
          "Epoch 26",
          "Epoch 27",
          "Epoch 28",
          "Epoch 29",
          "Epoch 30",
          "Epoch 31",
          "Epoch 32",
          "Epoch 33",
          "Epoch 34",
          "Epoch 35",
          "Epoch 36",
          "Epoch 37",
          "Epoch 38",
          "Epoch 39",
          "Epoch 40",
          "Epoch 41",
          "Epoch 42",
          "Epoch 43",
          "Epoch 44",
          "Epoch 45",
          "Epoch 46",
          "Epoch 47",
          "Epoch 48",
          "Epoch 49"
         ],
         "xaxis": "x",
         "y": [
          34.92683064988086,
          -6.327187164,
          -6.327187164000001,
          -6.327187164000013,
          -6.327187164000001,
          -6.327187164000013,
          -6.327187164000051,
          -6.327187164000145,
          -6.327187163999755,
          -6.32718716399992,
          -6.327187163998611,
          -6.327187163999493,
          -6.327187164002339,
          -6.32718716399998,
          -6.327187164010866,
          -6.327187164030676,
          -6.327187164032921,
          -6.327187163871713,
          -6.327187163742565,
          -6.32718716349882,
          -6.32718715962983,
          -6.3271871715005545,
          -6.327187150498503,
          -6.327187165559735,
          -6.327187075978145,
          -6.327187169343233,
          -6.327187223359942,
          -6.327186884824187,
          -6.327188242226839,
          -6.327188156545162,
          -6.327188596129417,
          -6.327177107334137,
          -6.327208906412125,
          -6.3271715342998505,
          -6.327145576477051,
          -6.327258110046387,
          -6.326896667480469,
          -6.32805061340332,
          -6.325953483581543,
          -6.3299713134765625,
          -6.32257080078125,
          -6.32177734375,
          -6.3775634765625,
          -6.3350830078125,
          -6.22406005859375,
          -6.15087890625,
          -7.75,
          -4.03125,
          1.3125,
          -30.234375
         ],
         "yaxis": "y"
        },
        {
         "hovertemplate": "variable=RiRi<br>index=%{x}<br>value=%{y}<extra></extra>",
         "legendgroup": "RiRi",
         "line": {
          "color": "#FF97FF",
          "dash": "solid"
         },
         "marker": {
          "symbol": "circle"
         },
         "mode": "lines",
         "name": "RiRi",
         "orientation": "v",
         "showlegend": true,
         "type": "scatter",
         "x": [
          "Epoch 0",
          "Epoch 1",
          "Epoch 2",
          "Epoch 3",
          "Epoch 4",
          "Epoch 5",
          "Epoch 6",
          "Epoch 7",
          "Epoch 8",
          "Epoch 9",
          "Epoch 10",
          "Epoch 11",
          "Epoch 12",
          "Epoch 13",
          "Epoch 14",
          "Epoch 15",
          "Epoch 16",
          "Epoch 17",
          "Epoch 18",
          "Epoch 19",
          "Epoch 20",
          "Epoch 21",
          "Epoch 22",
          "Epoch 23",
          "Epoch 24",
          "Epoch 25",
          "Epoch 26",
          "Epoch 27",
          "Epoch 28",
          "Epoch 29",
          "Epoch 30",
          "Epoch 31",
          "Epoch 32",
          "Epoch 33",
          "Epoch 34",
          "Epoch 35",
          "Epoch 36",
          "Epoch 37",
          "Epoch 38",
          "Epoch 39",
          "Epoch 40",
          "Epoch 41",
          "Epoch 42",
          "Epoch 43",
          "Epoch 44",
          "Epoch 45",
          "Epoch 46",
          "Epoch 47",
          "Epoch 48",
          "Epoch 49"
         ],
         "xaxis": "x",
         "y": [
          -16.11238337371443,
          -1.637169667999999,
          -1.637169668000002,
          -1.6371696679999954,
          -1.6371696680000043,
          -1.637169667999994,
          -1.6371696680000423,
          -1.6371696680001349,
          -1.6371696679998666,
          -1.6371696679996384,
          -1.6371696680008938,
          -1.6371696679991175,
          -1.637169667998478,
          -1.6371696679989896,
          -1.6371696679999417,
          -1.6371696679811976,
          -1.6371696679166234,
          -1.6371696677924774,
          -1.637169668223578,
          -1.637169667508715,
          -1.637169668549177,
          -1.6371696669375524,
          -1.637169664609246,
          -1.637169697554782,
          -1.6371696353890002,
          -1.6371696871938184,
          -1.6371697548311204,
          -1.6371696386486292,
          -1.6371698286384344,
          -1.6371711641550064,
          -1.637167751789093,
          -1.6371728330850601,
          -1.6371592581272125,
          -1.637174129486084,
          -1.6371269226074219,
          -1.637169361114502,
          -1.6372060775756836,
          -1.6369032859802246,
          -1.6366844177246094,
          -1.6403884887695312,
          -1.6433868408203125,
          -1.64862060546875,
          -1.633544921875,
          -1.6258544921875,
          -1.521484375,
          -1.6494140625,
          -2.015625,
          -2.052734375,
          -6.53125,
          -1.4375
         ],
         "yaxis": "y"
        },
        {
         "hovertemplate": "variable=MoFo<br>index=%{x}<br>value=%{y}<extra></extra>",
         "legendgroup": "MoFo",
         "line": {
          "color": "#FECB52",
          "dash": "solid"
         },
         "marker": {
          "symbol": "circle"
         },
         "mode": "lines",
         "name": "MoFo",
         "orientation": "v",
         "showlegend": true,
         "type": "scatter",
         "x": [
          "Epoch 0",
          "Epoch 1",
          "Epoch 2",
          "Epoch 3",
          "Epoch 4",
          "Epoch 5",
          "Epoch 6",
          "Epoch 7",
          "Epoch 8",
          "Epoch 9",
          "Epoch 10",
          "Epoch 11",
          "Epoch 12",
          "Epoch 13",
          "Epoch 14",
          "Epoch 15",
          "Epoch 16",
          "Epoch 17",
          "Epoch 18",
          "Epoch 19",
          "Epoch 20",
          "Epoch 21",
          "Epoch 22",
          "Epoch 23",
          "Epoch 24",
          "Epoch 25",
          "Epoch 26",
          "Epoch 27",
          "Epoch 28",
          "Epoch 29",
          "Epoch 30",
          "Epoch 31",
          "Epoch 32",
          "Epoch 33",
          "Epoch 34",
          "Epoch 35",
          "Epoch 36",
          "Epoch 37",
          "Epoch 38",
          "Epoch 39",
          "Epoch 40",
          "Epoch 41",
          "Epoch 42",
          "Epoch 43",
          "Epoch 44",
          "Epoch 45",
          "Epoch 46",
          "Epoch 47",
          "Epoch 48",
          "Epoch 49"
         ],
         "xaxis": "x",
         "y": [
          -14.343266415034927,
          1.2502119399999982,
          1.2502119399999985,
          1.250211939999998,
          1.2502119400000145,
          1.2502119400000185,
          1.2502119399999911,
          1.2502119399999247,
          1.2502119400000165,
          1.2502119399995557,
          1.2502119400019929,
          1.2502119400003124,
          1.250211940001094,
          1.2502119400078868,
          1.2502119400429734,
          1.2502119399503044,
          1.250211940002373,
          1.2502119398232026,
          1.2502119387881976,
          1.250211937525819,
          1.250211942999158,
          1.2502119405253325,
          1.2502119182317983,
          1.2502119446871802,
          1.2502119520213455,
          1.2502118543488905,
          1.2502120865974575,
          1.250211943872273,
          1.250211425125599,
          1.2502110451459885,
          1.2502145245671272,
          1.2501994855701923,
          1.250207543373108,
          1.2501933574676514,
          1.2502036094665527,
          1.2500762939453125,
          1.2498893737792969,
          1.2505855560302734,
          1.249542236328125,
          1.2489471435546875,
          1.24365234375,
          1.23992919921875,
          1.2340087890625,
          1.21954345703125,
          1.12060546875,
          0.90625,
          3.875,
          1.234375,
          6,
          6.375
         ],
         "yaxis": "y"
        },
        {
         "hovertemplate": "variable=Mmof<br>index=%{x}<br>value=%{y}<extra></extra>",
         "legendgroup": "Mmof",
         "line": {
          "color": "#636efa",
          "dash": "solid"
         },
         "marker": {
          "symbol": "circle"
         },
         "mode": "lines",
         "name": "Mmof",
         "orientation": "v",
         "showlegend": true,
         "type": "scatter",
         "x": [
          "Epoch 0",
          "Epoch 1",
          "Epoch 2",
          "Epoch 3",
          "Epoch 4",
          "Epoch 5",
          "Epoch 6",
          "Epoch 7",
          "Epoch 8",
          "Epoch 9",
          "Epoch 10",
          "Epoch 11",
          "Epoch 12",
          "Epoch 13",
          "Epoch 14",
          "Epoch 15",
          "Epoch 16",
          "Epoch 17",
          "Epoch 18",
          "Epoch 19",
          "Epoch 20",
          "Epoch 21",
          "Epoch 22",
          "Epoch 23",
          "Epoch 24",
          "Epoch 25",
          "Epoch 26",
          "Epoch 27",
          "Epoch 28",
          "Epoch 29",
          "Epoch 30",
          "Epoch 31",
          "Epoch 32",
          "Epoch 33",
          "Epoch 34",
          "Epoch 35",
          "Epoch 36",
          "Epoch 37",
          "Epoch 38",
          "Epoch 39",
          "Epoch 40",
          "Epoch 41",
          "Epoch 42",
          "Epoch 43",
          "Epoch 44",
          "Epoch 45",
          "Epoch 46",
          "Epoch 47",
          "Epoch 48",
          "Epoch 49"
         ],
         "xaxis": "x",
         "y": [
          5.284683691518542,
          -0.5892706910000005,
          -0.5892706910000031,
          -0.5892706909999966,
          -0.5892706909999978,
          -0.589270691000015,
          -0.5892706909999336,
          -0.5892706910001081,
          -0.5892706909996268,
          -0.5892706910004328,
          -0.5892706909998786,
          -0.5892706909976866,
          -0.5892706910073287,
          -0.589270691001822,
          -0.5892706910169636,
          -0.5892706910440211,
          -0.5892706909546632,
          -0.5892706906756757,
          -0.5892706909990011,
          -0.5892706915419694,
          -0.5892706924205413,
          -0.5892706852173433,
          -0.5892706839222228,
          -0.5892707052698825,
          -0.589270667405799,
          -0.5892708083847538,
          -0.5892708962783217,
          -0.5892706103622913,
          -0.5892709400504827,
          -0.5892687048763037,
          -0.5892738420516253,
          -0.5892777740955353,
          -0.5892722606658936,
          -0.5892761945724487,
          -0.5892527103424072,
          -0.5892394781112671,
          -0.5894246101379395,
          -0.5886335372924805,
          -0.5895881652832031,
          -0.5872802734375,
          -0.5890579223632812,
          -0.5824813842773438,
          -0.58038330078125,
          -0.6798095703125,
          -0.34521484375,
          -0.618408203125,
          -2.5078125,
          3.125,
          43.5,
          -34.75
         ],
         "yaxis": "y"
        },
        {
         "hovertemplate": "variable=MoRi<br>index=%{x}<br>value=%{y}<extra></extra>",
         "legendgroup": "MoRi",
         "line": {
          "color": "#EF553B",
          "dash": "solid"
         },
         "marker": {
          "symbol": "circle"
         },
         "mode": "lines",
         "name": "MoRi",
         "orientation": "v",
         "showlegend": true,
         "type": "scatter",
         "x": [
          "Epoch 0",
          "Epoch 1",
          "Epoch 2",
          "Epoch 3",
          "Epoch 4",
          "Epoch 5",
          "Epoch 6",
          "Epoch 7",
          "Epoch 8",
          "Epoch 9",
          "Epoch 10",
          "Epoch 11",
          "Epoch 12",
          "Epoch 13",
          "Epoch 14",
          "Epoch 15",
          "Epoch 16",
          "Epoch 17",
          "Epoch 18",
          "Epoch 19",
          "Epoch 20",
          "Epoch 21",
          "Epoch 22",
          "Epoch 23",
          "Epoch 24",
          "Epoch 25",
          "Epoch 26",
          "Epoch 27",
          "Epoch 28",
          "Epoch 29",
          "Epoch 30",
          "Epoch 31",
          "Epoch 32",
          "Epoch 33",
          "Epoch 34",
          "Epoch 35",
          "Epoch 36",
          "Epoch 37",
          "Epoch 38",
          "Epoch 39",
          "Epoch 40",
          "Epoch 41",
          "Epoch 42",
          "Epoch 43",
          "Epoch 44",
          "Epoch 45",
          "Epoch 46",
          "Epoch 47",
          "Epoch 48",
          "Epoch 49"
         ],
         "xaxis": "x",
         "y": [
          3.371891185719075,
          -2.67931413,
          -2.679314130000005,
          -2.6793141299999954,
          -2.6793141299999785,
          -2.679314130000015,
          -2.6793141299999688,
          -2.679314130000051,
          -2.679314130000669,
          -2.679314130000055,
          -2.6793141300011527,
          -2.6793141300037036,
          -2.679314129999142,
          -2.6793141299892795,
          -2.679314129948011,
          -2.6793141300092884,
          -2.6793141303714947,
          -2.6793141291727807,
          -2.679314130115017,
          -2.679314130302373,
          -2.679314129141858,
          -2.6793141384259798,
          -2.6793141470989212,
          -2.679314180626534,
          -2.679314143722877,
          -2.6793139574001543,
          -2.6793140890076756,
          -2.679314661771059,
          -2.6793133169412613,
          -2.679302677512169,
          -2.679314285516739,
          -2.6793189235031605,
          -2.679332733154297,
          -2.6792712211608887,
          -2.6794815063476562,
          -2.67938232421875,
          -2.679290771484375,
          -2.679804801940918,
          -2.6780014038085938,
          -2.6883544921875,
          -2.695068359375,
          -2.72100830078125,
          -2.59912109375,
          -2.6942138671875,
          -3.041015625,
          -2.53515625,
          2.015625,
          -3.3359375,
          7.5,
          -41.75
         ],
         "yaxis": "y"
        },
        {
         "hovertemplate": "variable=MeRi<br>index=%{x}<br>value=%{y}<extra></extra>",
         "legendgroup": "MeRi",
         "line": {
          "color": "#00cc96",
          "dash": "solid"
         },
         "marker": {
          "symbol": "circle"
         },
         "mode": "lines",
         "name": "MeRi",
         "orientation": "v",
         "showlegend": true,
         "type": "scatter",
         "x": [
          "Epoch 0",
          "Epoch 1",
          "Epoch 2",
          "Epoch 3",
          "Epoch 4",
          "Epoch 5",
          "Epoch 6",
          "Epoch 7",
          "Epoch 8",
          "Epoch 9",
          "Epoch 10",
          "Epoch 11",
          "Epoch 12",
          "Epoch 13",
          "Epoch 14",
          "Epoch 15",
          "Epoch 16",
          "Epoch 17",
          "Epoch 18",
          "Epoch 19",
          "Epoch 20",
          "Epoch 21",
          "Epoch 22",
          "Epoch 23",
          "Epoch 24",
          "Epoch 25",
          "Epoch 26",
          "Epoch 27",
          "Epoch 28",
          "Epoch 29",
          "Epoch 30",
          "Epoch 31",
          "Epoch 32",
          "Epoch 33",
          "Epoch 34",
          "Epoch 35",
          "Epoch 36",
          "Epoch 37",
          "Epoch 38",
          "Epoch 39",
          "Epoch 40",
          "Epoch 41",
          "Epoch 42",
          "Epoch 43",
          "Epoch 44",
          "Epoch 45",
          "Epoch 46",
          "Epoch 47",
          "Epoch 48",
          "Epoch 49"
         ],
         "xaxis": "x",
         "y": [
          6.866618793283349,
          -2.227823400999999,
          -2.227823400999999,
          -2.2278234009999975,
          -2.227823400999996,
          -2.22782340099995,
          -2.2278234010001374,
          -2.2278234010002462,
          -2.2278234010007685,
          -2.227823401000025,
          -2.2278234009996893,
          -2.227823400993543,
          -2.2278234009921505,
          -2.227823401019407,
          -2.2278234010149163,
          -2.2278234010852884,
          -2.2278234011755558,
          -2.227823400655325,
          -2.227823401808564,
          -2.227823403391085,
          -2.2278233969482244,
          -2.2278233995457413,
          -2.227823401161004,
          -2.227823425317183,
          -2.227823277702555,
          -2.2278235270641744,
          -2.2278235591948032,
          -2.2278232909739017,
          -2.2278222404420376,
          -2.2278224378824234,
          -2.227824777364731,
          -2.2278062105178833,
          -2.2278346717357635,
          -2.2278554439544678,
          -2.227834701538086,
          -2.227540969848633,
          -2.2284469604492188,
          -2.228153705596924,
          -2.2277755737304688,
          -2.2291412353515625,
          -2.2105712890625,
          -2.20068359375,
          -2.2471923828125,
          -2.4433441162109375,
          -2.2587890625,
          -3.009765625,
          -2.84375,
          -4.9375,
          -52.25,
          -2.328125
         ],
         "yaxis": "y"
        },
        {
         "hovertemplate": "variable=Ri<br>index=%{x}<br>value=%{y}<extra></extra>",
         "legendgroup": "Ri",
         "line": {
          "color": "#ab63fa",
          "dash": "solid"
         },
         "marker": {
          "symbol": "circle"
         },
         "mode": "lines",
         "name": "Ri",
         "orientation": "v",
         "showlegend": true,
         "type": "scatter",
         "x": [
          "Epoch 0",
          "Epoch 1",
          "Epoch 2",
          "Epoch 3",
          "Epoch 4",
          "Epoch 5",
          "Epoch 6",
          "Epoch 7",
          "Epoch 8",
          "Epoch 9",
          "Epoch 10",
          "Epoch 11",
          "Epoch 12",
          "Epoch 13",
          "Epoch 14",
          "Epoch 15",
          "Epoch 16",
          "Epoch 17",
          "Epoch 18",
          "Epoch 19",
          "Epoch 20",
          "Epoch 21",
          "Epoch 22",
          "Epoch 23",
          "Epoch 24",
          "Epoch 25",
          "Epoch 26",
          "Epoch 27",
          "Epoch 28",
          "Epoch 29",
          "Epoch 30",
          "Epoch 31",
          "Epoch 32",
          "Epoch 33",
          "Epoch 34",
          "Epoch 35",
          "Epoch 36",
          "Epoch 37",
          "Epoch 38",
          "Epoch 39",
          "Epoch 40",
          "Epoch 41",
          "Epoch 42",
          "Epoch 43",
          "Epoch 44",
          "Epoch 45",
          "Epoch 46",
          "Epoch 47",
          "Epoch 48",
          "Epoch 49"
         ],
         "xaxis": "x",
         "y": [
          5.789259098673895,
          1.6819825900000003,
          1.6819825900000005,
          1.6819825899999978,
          1.6819825900000054,
          1.6819825899999972,
          1.6819825899999858,
          1.6819825900000238,
          1.6819825899997736,
          1.681982590000032,
          1.6819825899993024,
          1.6819825899984053,
          1.6819825900038303,
          1.6819825899959149,
          1.6819825900243899,
          1.6819825900192882,
          1.681982589936183,
          1.6819825898614909,
          1.6819825901716285,
          1.6819825902892092,
          1.6819825893890084,
          1.6819825919083087,
          1.681982589783729,
          1.6819825815327931,
          1.6819825639831834,
          1.6819827268918743,
          1.68198253470473,
          1.6819824744015932,
          1.6819833777844906,
          1.6819809060543776,
          1.681982470676303,
          1.6819874793291092,
          1.68198461830616,
          1.6819315552711487,
          1.6819955110549927,
          1.6819995641708374,
          1.6818362474441528,
          1.6817221641540527,
          1.6817550659179688,
          1.6836700439453125,
          1.6787567138671875,
          1.6637115478515625,
          1.6804237365722656,
          1.76611328125,
          1.6103515625,
          1.6396484375,
          1.30078125,
          0.328125,
          -28.75,
          16
         ],
         "yaxis": "y"
        },
        {
         "hovertemplate": "variable=Comp<br>index=%{x}<br>value=%{y}<extra></extra>",
         "legendgroup": "Comp",
         "line": {
          "color": "#FFA15A",
          "dash": "solid"
         },
         "marker": {
          "symbol": "circle"
         },
         "mode": "lines",
         "name": "Comp",
         "orientation": "v",
         "showlegend": true,
         "type": "scatter",
         "x": [
          "Epoch 0",
          "Epoch 1",
          "Epoch 2",
          "Epoch 3",
          "Epoch 4",
          "Epoch 5",
          "Epoch 6",
          "Epoch 7",
          "Epoch 8",
          "Epoch 9",
          "Epoch 10",
          "Epoch 11",
          "Epoch 12",
          "Epoch 13",
          "Epoch 14",
          "Epoch 15",
          "Epoch 16",
          "Epoch 17",
          "Epoch 18",
          "Epoch 19",
          "Epoch 20",
          "Epoch 21",
          "Epoch 22",
          "Epoch 23",
          "Epoch 24",
          "Epoch 25",
          "Epoch 26",
          "Epoch 27",
          "Epoch 28",
          "Epoch 29",
          "Epoch 30",
          "Epoch 31",
          "Epoch 32",
          "Epoch 33",
          "Epoch 34",
          "Epoch 35",
          "Epoch 36",
          "Epoch 37",
          "Epoch 38",
          "Epoch 39",
          "Epoch 40",
          "Epoch 41",
          "Epoch 42",
          "Epoch 43",
          "Epoch 44",
          "Epoch 45",
          "Epoch 46",
          "Epoch 47",
          "Epoch 48",
          "Epoch 49"
         ],
         "xaxis": "x",
         "y": [
          1.509547026154052,
          2.64736307,
          2.6473630699999933,
          2.6473630699999857,
          2.6473630699999826,
          2.647363069999954,
          2.6473630699996744,
          2.647363070000404,
          2.6473630700011013,
          2.6473630700013917,
          2.647363070000594,
          2.647363070003024,
          2.6473630699780983,
          2.6473630700030526,
          2.6473630699800452,
          2.647363069979292,
          2.6473630697701083,
          2.6473630691107246,
          2.6473630708460405,
          2.6473630732107267,
          2.6473630658747425,
          2.6473630746186245,
          2.6473630823893473,
          2.6473631008993834,
          2.6473631132394075,
          2.6473635374568403,
          2.647362990770489,
          2.6473627723753452,
          2.647363007068634,
          2.6473704278469086,
          2.6473660469055176,
          2.6473282128572464,
          2.6473212838172913,
          2.647326946258545,
          2.6471309661865234,
          2.6475563049316406,
          2.6469669342041016,
          2.6504039764404297,
          2.649322509765625,
          2.648681640625,
          2.64141845703125,
          2.7021484375,
          2.7322998046875,
          2.6950225830078125,
          3.0625,
          1.46875,
          -4.203125,
          2.8046875,
          -51.25,
          31.1875
         ],
         "yaxis": "y"
        }
       ],
       "layout": {
        "legend": {
         "title": {
          "text": "variable"
         },
         "tracegroupgap": 0
        },
        "template": {
         "data": {
          "bar": [
           {
            "error_x": {
             "color": "#2a3f5f"
            },
            "error_y": {
             "color": "#2a3f5f"
            },
            "marker": {
             "line": {
              "color": "#E5ECF6",
              "width": 0.5
             },
             "pattern": {
              "fillmode": "overlay",
              "size": 10,
              "solidity": 0.2
             }
            },
            "type": "bar"
           }
          ],
          "barpolar": [
           {
            "marker": {
             "line": {
              "color": "#E5ECF6",
              "width": 0.5
             },
             "pattern": {
              "fillmode": "overlay",
              "size": 10,
              "solidity": 0.2
             }
            },
            "type": "barpolar"
           }
          ],
          "carpet": [
           {
            "aaxis": {
             "endlinecolor": "#2a3f5f",
             "gridcolor": "white",
             "linecolor": "white",
             "minorgridcolor": "white",
             "startlinecolor": "#2a3f5f"
            },
            "baxis": {
             "endlinecolor": "#2a3f5f",
             "gridcolor": "white",
             "linecolor": "white",
             "minorgridcolor": "white",
             "startlinecolor": "#2a3f5f"
            },
            "type": "carpet"
           }
          ],
          "choropleth": [
           {
            "colorbar": {
             "outlinewidth": 0,
             "ticks": ""
            },
            "type": "choropleth"
           }
          ],
          "contour": [
           {
            "colorbar": {
             "outlinewidth": 0,
             "ticks": ""
            },
            "colorscale": [
             [
              0,
              "#0d0887"
             ],
             [
              0.1111111111111111,
              "#46039f"
             ],
             [
              0.2222222222222222,
              "#7201a8"
             ],
             [
              0.3333333333333333,
              "#9c179e"
             ],
             [
              0.4444444444444444,
              "#bd3786"
             ],
             [
              0.5555555555555556,
              "#d8576b"
             ],
             [
              0.6666666666666666,
              "#ed7953"
             ],
             [
              0.7777777777777778,
              "#fb9f3a"
             ],
             [
              0.8888888888888888,
              "#fdca26"
             ],
             [
              1,
              "#f0f921"
             ]
            ],
            "type": "contour"
           }
          ],
          "contourcarpet": [
           {
            "colorbar": {
             "outlinewidth": 0,
             "ticks": ""
            },
            "type": "contourcarpet"
           }
          ],
          "heatmap": [
           {
            "colorbar": {
             "outlinewidth": 0,
             "ticks": ""
            },
            "colorscale": [
             [
              0,
              "#0d0887"
             ],
             [
              0.1111111111111111,
              "#46039f"
             ],
             [
              0.2222222222222222,
              "#7201a8"
             ],
             [
              0.3333333333333333,
              "#9c179e"
             ],
             [
              0.4444444444444444,
              "#bd3786"
             ],
             [
              0.5555555555555556,
              "#d8576b"
             ],
             [
              0.6666666666666666,
              "#ed7953"
             ],
             [
              0.7777777777777778,
              "#fb9f3a"
             ],
             [
              0.8888888888888888,
              "#fdca26"
             ],
             [
              1,
              "#f0f921"
             ]
            ],
            "type": "heatmap"
           }
          ],
          "heatmapgl": [
           {
            "colorbar": {
             "outlinewidth": 0,
             "ticks": ""
            },
            "colorscale": [
             [
              0,
              "#0d0887"
             ],
             [
              0.1111111111111111,
              "#46039f"
             ],
             [
              0.2222222222222222,
              "#7201a8"
             ],
             [
              0.3333333333333333,
              "#9c179e"
             ],
             [
              0.4444444444444444,
              "#bd3786"
             ],
             [
              0.5555555555555556,
              "#d8576b"
             ],
             [
              0.6666666666666666,
              "#ed7953"
             ],
             [
              0.7777777777777778,
              "#fb9f3a"
             ],
             [
              0.8888888888888888,
              "#fdca26"
             ],
             [
              1,
              "#f0f921"
             ]
            ],
            "type": "heatmapgl"
           }
          ],
          "histogram": [
           {
            "marker": {
             "pattern": {
              "fillmode": "overlay",
              "size": 10,
              "solidity": 0.2
             }
            },
            "type": "histogram"
           }
          ],
          "histogram2d": [
           {
            "colorbar": {
             "outlinewidth": 0,
             "ticks": ""
            },
            "colorscale": [
             [
              0,
              "#0d0887"
             ],
             [
              0.1111111111111111,
              "#46039f"
             ],
             [
              0.2222222222222222,
              "#7201a8"
             ],
             [
              0.3333333333333333,
              "#9c179e"
             ],
             [
              0.4444444444444444,
              "#bd3786"
             ],
             [
              0.5555555555555556,
              "#d8576b"
             ],
             [
              0.6666666666666666,
              "#ed7953"
             ],
             [
              0.7777777777777778,
              "#fb9f3a"
             ],
             [
              0.8888888888888888,
              "#fdca26"
             ],
             [
              1,
              "#f0f921"
             ]
            ],
            "type": "histogram2d"
           }
          ],
          "histogram2dcontour": [
           {
            "colorbar": {
             "outlinewidth": 0,
             "ticks": ""
            },
            "colorscale": [
             [
              0,
              "#0d0887"
             ],
             [
              0.1111111111111111,
              "#46039f"
             ],
             [
              0.2222222222222222,
              "#7201a8"
             ],
             [
              0.3333333333333333,
              "#9c179e"
             ],
             [
              0.4444444444444444,
              "#bd3786"
             ],
             [
              0.5555555555555556,
              "#d8576b"
             ],
             [
              0.6666666666666666,
              "#ed7953"
             ],
             [
              0.7777777777777778,
              "#fb9f3a"
             ],
             [
              0.8888888888888888,
              "#fdca26"
             ],
             [
              1,
              "#f0f921"
             ]
            ],
            "type": "histogram2dcontour"
           }
          ],
          "mesh3d": [
           {
            "colorbar": {
             "outlinewidth": 0,
             "ticks": ""
            },
            "type": "mesh3d"
           }
          ],
          "parcoords": [
           {
            "line": {
             "colorbar": {
              "outlinewidth": 0,
              "ticks": ""
             }
            },
            "type": "parcoords"
           }
          ],
          "pie": [
           {
            "automargin": true,
            "type": "pie"
           }
          ],
          "scatter": [
           {
            "fillpattern": {
             "fillmode": "overlay",
             "size": 10,
             "solidity": 0.2
            },
            "type": "scatter"
           }
          ],
          "scatter3d": [
           {
            "line": {
             "colorbar": {
              "outlinewidth": 0,
              "ticks": ""
             }
            },
            "marker": {
             "colorbar": {
              "outlinewidth": 0,
              "ticks": ""
             }
            },
            "type": "scatter3d"
           }
          ],
          "scattercarpet": [
           {
            "marker": {
             "colorbar": {
              "outlinewidth": 0,
              "ticks": ""
             }
            },
            "type": "scattercarpet"
           }
          ],
          "scattergeo": [
           {
            "marker": {
             "colorbar": {
              "outlinewidth": 0,
              "ticks": ""
             }
            },
            "type": "scattergeo"
           }
          ],
          "scattergl": [
           {
            "marker": {
             "colorbar": {
              "outlinewidth": 0,
              "ticks": ""
             }
            },
            "type": "scattergl"
           }
          ],
          "scattermapbox": [
           {
            "marker": {
             "colorbar": {
              "outlinewidth": 0,
              "ticks": ""
             }
            },
            "type": "scattermapbox"
           }
          ],
          "scatterpolar": [
           {
            "marker": {
             "colorbar": {
              "outlinewidth": 0,
              "ticks": ""
             }
            },
            "type": "scatterpolar"
           }
          ],
          "scatterpolargl": [
           {
            "marker": {
             "colorbar": {
              "outlinewidth": 0,
              "ticks": ""
             }
            },
            "type": "scatterpolargl"
           }
          ],
          "scatterternary": [
           {
            "marker": {
             "colorbar": {
              "outlinewidth": 0,
              "ticks": ""
             }
            },
            "type": "scatterternary"
           }
          ],
          "surface": [
           {
            "colorbar": {
             "outlinewidth": 0,
             "ticks": ""
            },
            "colorscale": [
             [
              0,
              "#0d0887"
             ],
             [
              0.1111111111111111,
              "#46039f"
             ],
             [
              0.2222222222222222,
              "#7201a8"
             ],
             [
              0.3333333333333333,
              "#9c179e"
             ],
             [
              0.4444444444444444,
              "#bd3786"
             ],
             [
              0.5555555555555556,
              "#d8576b"
             ],
             [
              0.6666666666666666,
              "#ed7953"
             ],
             [
              0.7777777777777778,
              "#fb9f3a"
             ],
             [
              0.8888888888888888,
              "#fdca26"
             ],
             [
              1,
              "#f0f921"
             ]
            ],
            "type": "surface"
           }
          ],
          "table": [
           {
            "cells": {
             "fill": {
              "color": "#EBF0F8"
             },
             "line": {
              "color": "white"
             }
            },
            "header": {
             "fill": {
              "color": "#C8D4E3"
             },
             "line": {
              "color": "white"
             }
            },
            "type": "table"
           }
          ]
         },
         "layout": {
          "annotationdefaults": {
           "arrowcolor": "#2a3f5f",
           "arrowhead": 0,
           "arrowwidth": 1
          },
          "autotypenumbers": "strict",
          "coloraxis": {
           "colorbar": {
            "outlinewidth": 0,
            "ticks": ""
           }
          },
          "colorscale": {
           "diverging": [
            [
             0,
             "#8e0152"
            ],
            [
             0.1,
             "#c51b7d"
            ],
            [
             0.2,
             "#de77ae"
            ],
            [
             0.3,
             "#f1b6da"
            ],
            [
             0.4,
             "#fde0ef"
            ],
            [
             0.5,
             "#f7f7f7"
            ],
            [
             0.6,
             "#e6f5d0"
            ],
            [
             0.7,
             "#b8e186"
            ],
            [
             0.8,
             "#7fbc41"
            ],
            [
             0.9,
             "#4d9221"
            ],
            [
             1,
             "#276419"
            ]
           ],
           "sequential": [
            [
             0,
             "#0d0887"
            ],
            [
             0.1111111111111111,
             "#46039f"
            ],
            [
             0.2222222222222222,
             "#7201a8"
            ],
            [
             0.3333333333333333,
             "#9c179e"
            ],
            [
             0.4444444444444444,
             "#bd3786"
            ],
            [
             0.5555555555555556,
             "#d8576b"
            ],
            [
             0.6666666666666666,
             "#ed7953"
            ],
            [
             0.7777777777777778,
             "#fb9f3a"
            ],
            [
             0.8888888888888888,
             "#fdca26"
            ],
            [
             1,
             "#f0f921"
            ]
           ],
           "sequentialminus": [
            [
             0,
             "#0d0887"
            ],
            [
             0.1111111111111111,
             "#46039f"
            ],
            [
             0.2222222222222222,
             "#7201a8"
            ],
            [
             0.3333333333333333,
             "#9c179e"
            ],
            [
             0.4444444444444444,
             "#bd3786"
            ],
            [
             0.5555555555555556,
             "#d8576b"
            ],
            [
             0.6666666666666666,
             "#ed7953"
            ],
            [
             0.7777777777777778,
             "#fb9f3a"
            ],
            [
             0.8888888888888888,
             "#fdca26"
            ],
            [
             1,
             "#f0f921"
            ]
           ]
          },
          "colorway": [
           "#636efa",
           "#EF553B",
           "#00cc96",
           "#ab63fa",
           "#FFA15A",
           "#19d3f3",
           "#FF6692",
           "#B6E880",
           "#FF97FF",
           "#FECB52"
          ],
          "font": {
           "color": "#2a3f5f"
          },
          "geo": {
           "bgcolor": "white",
           "lakecolor": "white",
           "landcolor": "#E5ECF6",
           "showlakes": true,
           "showland": true,
           "subunitcolor": "white"
          },
          "hoverlabel": {
           "align": "left"
          },
          "hovermode": "closest",
          "mapbox": {
           "style": "light"
          },
          "paper_bgcolor": "white",
          "plot_bgcolor": "#E5ECF6",
          "polar": {
           "angularaxis": {
            "gridcolor": "white",
            "linecolor": "white",
            "ticks": ""
           },
           "bgcolor": "#E5ECF6",
           "radialaxis": {
            "gridcolor": "white",
            "linecolor": "white",
            "ticks": ""
           }
          },
          "scene": {
           "xaxis": {
            "backgroundcolor": "#E5ECF6",
            "gridcolor": "white",
            "gridwidth": 2,
            "linecolor": "white",
            "showbackground": true,
            "ticks": "",
            "zerolinecolor": "white"
           },
           "yaxis": {
            "backgroundcolor": "#E5ECF6",
            "gridcolor": "white",
            "gridwidth": 2,
            "linecolor": "white",
            "showbackground": true,
            "ticks": "",
            "zerolinecolor": "white"
           },
           "zaxis": {
            "backgroundcolor": "#E5ECF6",
            "gridcolor": "white",
            "gridwidth": 2,
            "linecolor": "white",
            "showbackground": true,
            "ticks": "",
            "zerolinecolor": "white"
           }
          },
          "shapedefaults": {
           "line": {
            "color": "#2a3f5f"
           }
          },
          "ternary": {
           "aaxis": {
            "gridcolor": "white",
            "linecolor": "white",
            "ticks": ""
           },
           "baxis": {
            "gridcolor": "white",
            "linecolor": "white",
            "ticks": ""
           },
           "bgcolor": "#E5ECF6",
           "caxis": {
            "gridcolor": "white",
            "linecolor": "white",
            "ticks": ""
           }
          },
          "title": {
           "x": 0.05
          },
          "xaxis": {
           "automargin": true,
           "gridcolor": "white",
           "linecolor": "white",
           "ticks": "",
           "title": {
            "standoff": 15
           },
           "zerolinecolor": "white",
           "zerolinewidth": 2
          },
          "yaxis": {
           "automargin": true,
           "gridcolor": "white",
           "linecolor": "white",
           "ticks": "",
           "title": {
            "standoff": 15
           },
           "zerolinecolor": "white",
           "zerolinewidth": 2
          }
         }
        },
        "title": {
         "text": "Free evolution of the weights for subject soggetto_6"
        },
        "xaxis": {
         "anchor": "y",
         "domain": [
          0,
          1
         ],
         "title": {
          "text": "index"
         }
        },
        "yaxis": {
         "anchor": "x",
         "domain": [
          0,
          1
         ],
         "title": {
          "text": "value"
         }
        }
       }
      }
     },
     "metadata": {},
     "output_type": "display_data"
    },
    {
     "data": {
      "application/vnd.plotly.v1+json": {
       "config": {
        "plotlyServerURL": "https://plot.ly"
       },
       "data": [
        {
         "hovertemplate": "variable=TrRi<br>index=%{x}<br>value=%{y}<extra></extra>",
         "legendgroup": "TrRi",
         "line": {
          "color": "#636efa",
          "dash": "solid"
         },
         "marker": {
          "symbol": "circle"
         },
         "mode": "lines",
         "name": "TrRi",
         "orientation": "v",
         "showlegend": true,
         "type": "scatter",
         "x": [
          "Epoch 0",
          "Epoch 1",
          "Epoch 2",
          "Epoch 3",
          "Epoch 4",
          "Epoch 5",
          "Epoch 6",
          "Epoch 7",
          "Epoch 8",
          "Epoch 9",
          "Epoch 10",
          "Epoch 11",
          "Epoch 12",
          "Epoch 13",
          "Epoch 14",
          "Epoch 15",
          "Epoch 16",
          "Epoch 17",
          "Epoch 18",
          "Epoch 19",
          "Epoch 20",
          "Epoch 21",
          "Epoch 22",
          "Epoch 23",
          "Epoch 24",
          "Epoch 25",
          "Epoch 26",
          "Epoch 27",
          "Epoch 28",
          "Epoch 29",
          "Epoch 30",
          "Epoch 31",
          "Epoch 32",
          "Epoch 33",
          "Epoch 34",
          "Epoch 35",
          "Epoch 36",
          "Epoch 37",
          "Epoch 38",
          "Epoch 39",
          "Epoch 40",
          "Epoch 41",
          "Epoch 42",
          "Epoch 43",
          "Epoch 44",
          "Epoch 45",
          "Epoch 46",
          "Epoch 47",
          "Epoch 48",
          "Epoch 49"
         ],
         "xaxis": "x",
         "y": [
          -11.608846336843994,
          -3.4425962960000023,
          -3.4425962960000005,
          -3.4425962959999916,
          -3.4425962960000085,
          -3.442596295999955,
          -3.442596296000943,
          -3.442596295999465,
          -3.442596295995372,
          -3.442596295997646,
          -3.4425962960849574,
          -3.4425962960522156,
          -3.442596296139527,
          -3.4425962945679203,
          -3.4425962907262146,
          -3.442596284672618,
          -3.442596334964037,
          -3.4425963014364243,
          -3.4425973892211914,
          -3.442597270011902,
          -3.442605972290039,
          -3.442591667175293,
          -3.4425888061523438,
          -3.442626953125,
          -3.44281005859375,
          -3.4432373046875,
          -3.44140625,
          -3.44140625,
          -3.515625,
          -3.265625,
          -3.5625,
          0,
          null,
          null,
          null,
          null,
          null,
          null,
          null,
          null,
          null,
          null,
          null,
          null,
          null,
          null,
          null,
          null,
          null,
          null
         ],
         "yaxis": "y"
        },
        {
         "hovertemplate": "variable=RiTr<br>index=%{x}<br>value=%{y}<extra></extra>",
         "legendgroup": "RiTr",
         "line": {
          "color": "#EF553B",
          "dash": "solid"
         },
         "marker": {
          "symbol": "circle"
         },
         "mode": "lines",
         "name": "RiTr",
         "orientation": "v",
         "showlegend": true,
         "type": "scatter",
         "x": [
          "Epoch 0",
          "Epoch 1",
          "Epoch 2",
          "Epoch 3",
          "Epoch 4",
          "Epoch 5",
          "Epoch 6",
          "Epoch 7",
          "Epoch 8",
          "Epoch 9",
          "Epoch 10",
          "Epoch 11",
          "Epoch 12",
          "Epoch 13",
          "Epoch 14",
          "Epoch 15",
          "Epoch 16",
          "Epoch 17",
          "Epoch 18",
          "Epoch 19",
          "Epoch 20",
          "Epoch 21",
          "Epoch 22",
          "Epoch 23",
          "Epoch 24",
          "Epoch 25",
          "Epoch 26",
          "Epoch 27",
          "Epoch 28",
          "Epoch 29",
          "Epoch 30",
          "Epoch 31",
          "Epoch 32",
          "Epoch 33",
          "Epoch 34",
          "Epoch 35",
          "Epoch 36",
          "Epoch 37",
          "Epoch 38",
          "Epoch 39",
          "Epoch 40",
          "Epoch 41",
          "Epoch 42",
          "Epoch 43",
          "Epoch 44",
          "Epoch 45",
          "Epoch 46",
          "Epoch 47",
          "Epoch 48",
          "Epoch 49"
         ],
         "xaxis": "x",
         "y": [
          -3.9082979744755297,
          4.983473898,
          4.983473898000001,
          4.983473897999995,
          4.983473897999982,
          4.983473898000199,
          4.983473898,
          4.983473898000966,
          4.983473897997101,
          4.983473898011653,
          4.983473898071679,
          4.983473897911608,
          4.98347389799892,
          4.9834738980280235,
          4.983473905362189,
          4.983473899774253,
          4.983473859727383,
          4.9834741950035095,
          4.983474403619766,
          4.983474254608154,
          4.983476161956787,
          4.983488082885742,
          4.983531951904297,
          4.9835205078125,
          4.98370361328125,
          4.9842529296875,
          4.97216796875,
          4.986328125,
          5.09375,
          5.03125,
          6.25,
          3.5,
          null,
          null,
          null,
          null,
          null,
          null,
          null,
          null,
          null,
          null,
          null,
          null,
          null,
          null,
          null,
          null,
          null,
          null
         ],
         "yaxis": "y"
        },
        {
         "hovertemplate": "variable=Plu<br>index=%{x}<br>value=%{y}<extra></extra>",
         "legendgroup": "Plu",
         "line": {
          "color": "#00cc96",
          "dash": "solid"
         },
         "marker": {
          "symbol": "circle"
         },
         "mode": "lines",
         "name": "Plu",
         "orientation": "v",
         "showlegend": true,
         "type": "scatter",
         "x": [
          "Epoch 0",
          "Epoch 1",
          "Epoch 2",
          "Epoch 3",
          "Epoch 4",
          "Epoch 5",
          "Epoch 6",
          "Epoch 7",
          "Epoch 8",
          "Epoch 9",
          "Epoch 10",
          "Epoch 11",
          "Epoch 12",
          "Epoch 13",
          "Epoch 14",
          "Epoch 15",
          "Epoch 16",
          "Epoch 17",
          "Epoch 18",
          "Epoch 19",
          "Epoch 20",
          "Epoch 21",
          "Epoch 22",
          "Epoch 23",
          "Epoch 24",
          "Epoch 25",
          "Epoch 26",
          "Epoch 27",
          "Epoch 28",
          "Epoch 29",
          "Epoch 30",
          "Epoch 31",
          "Epoch 32",
          "Epoch 33",
          "Epoch 34",
          "Epoch 35",
          "Epoch 36",
          "Epoch 37",
          "Epoch 38",
          "Epoch 39",
          "Epoch 40",
          "Epoch 41",
          "Epoch 42",
          "Epoch 43",
          "Epoch 44",
          "Epoch 45",
          "Epoch 46",
          "Epoch 47",
          "Epoch 48",
          "Epoch 49"
         ],
         "xaxis": "x",
         "y": [
          -30.625748500816997,
          -9.776581180000006,
          -9.776581179999987,
          -9.776581179999987,
          -9.776581179999908,
          -9.776581180000704,
          -9.77658118000079,
          -9.776581180000449,
          -9.776581179999994,
          -9.776581180045468,
          -9.776581180180074,
          -9.776581180252833,
          -9.7765811792342,
          -9.776581184007227,
          -9.776581197977066,
          -9.776581265032291,
          -9.776581093668938,
          -9.776581466197968,
          -9.776580095291138,
          -9.776584148406982,
          -9.776603698730469,
          -9.776599884033203,
          -9.776596069335938,
          -9.77655029296875,
          -9.7740478515625,
          -9.7646484375,
          -9.73046875,
          -9.73828125,
          -9.84375,
          -10.25,
          -7.75,
          2,
          null,
          null,
          null,
          null,
          null,
          null,
          null,
          null,
          null,
          null,
          null,
          null,
          null,
          null,
          null,
          null,
          null,
          null
         ],
         "yaxis": "y"
        },
        {
         "hovertemplate": "variable=Ttra<br>index=%{x}<br>value=%{y}<extra></extra>",
         "legendgroup": "Ttra",
         "line": {
          "color": "#ab63fa",
          "dash": "solid"
         },
         "marker": {
          "symbol": "circle"
         },
         "mode": "lines",
         "name": "Ttra",
         "orientation": "v",
         "showlegend": true,
         "type": "scatter",
         "x": [
          "Epoch 0",
          "Epoch 1",
          "Epoch 2",
          "Epoch 3",
          "Epoch 4",
          "Epoch 5",
          "Epoch 6",
          "Epoch 7",
          "Epoch 8",
          "Epoch 9",
          "Epoch 10",
          "Epoch 11",
          "Epoch 12",
          "Epoch 13",
          "Epoch 14",
          "Epoch 15",
          "Epoch 16",
          "Epoch 17",
          "Epoch 18",
          "Epoch 19",
          "Epoch 20",
          "Epoch 21",
          "Epoch 22",
          "Epoch 23",
          "Epoch 24",
          "Epoch 25",
          "Epoch 26",
          "Epoch 27",
          "Epoch 28",
          "Epoch 29",
          "Epoch 30",
          "Epoch 31",
          "Epoch 32",
          "Epoch 33",
          "Epoch 34",
          "Epoch 35",
          "Epoch 36",
          "Epoch 37",
          "Epoch 38",
          "Epoch 39",
          "Epoch 40",
          "Epoch 41",
          "Epoch 42",
          "Epoch 43",
          "Epoch 44",
          "Epoch 45",
          "Epoch 46",
          "Epoch 47",
          "Epoch 48",
          "Epoch 49"
         ],
         "xaxis": "x",
         "y": [
          6.2609324905228,
          1.761274726999999,
          1.7612747269999933,
          1.7612747269999938,
          1.7612747269999942,
          1.7612747269999467,
          1.7612747270003979,
          1.7612747269995452,
          1.7612747269998863,
          1.7612747270120508,
          1.7612747269722604,
          1.7612747270177351,
          1.761274727046839,
          1.7612747270904947,
          1.7612747275270522,
          1.7612747270613909,
          1.7612747382372618,
          1.7612747624516487,
          1.7612741887569427,
          1.7612739205360413,
          1.7612733840942383,
          1.761281967163086,
          1.7612648010253906,
          1.7611808776855469,
          1.760955810546875,
          1.7596435546875,
          1.7640380859375,
          1.77197265625,
          1.78515625,
          1.7421875,
          1.9375,
          10,
          null,
          null,
          null,
          null,
          null,
          null,
          null,
          null,
          null,
          null,
          null,
          null,
          null,
          null,
          null,
          null,
          null,
          null
         ],
         "yaxis": "y"
        },
        {
         "hovertemplate": "variable=Ttrb<br>index=%{x}<br>value=%{y}<extra></extra>",
         "legendgroup": "Ttrb",
         "line": {
          "color": "#FFA15A",
          "dash": "solid"
         },
         "marker": {
          "symbol": "circle"
         },
         "mode": "lines",
         "name": "Ttrb",
         "orientation": "v",
         "showlegend": true,
         "type": "scatter",
         "x": [
          "Epoch 0",
          "Epoch 1",
          "Epoch 2",
          "Epoch 3",
          "Epoch 4",
          "Epoch 5",
          "Epoch 6",
          "Epoch 7",
          "Epoch 8",
          "Epoch 9",
          "Epoch 10",
          "Epoch 11",
          "Epoch 12",
          "Epoch 13",
          "Epoch 14",
          "Epoch 15",
          "Epoch 16",
          "Epoch 17",
          "Epoch 18",
          "Epoch 19",
          "Epoch 20",
          "Epoch 21",
          "Epoch 22",
          "Epoch 23",
          "Epoch 24",
          "Epoch 25",
          "Epoch 26",
          "Epoch 27",
          "Epoch 28",
          "Epoch 29",
          "Epoch 30",
          "Epoch 31",
          "Epoch 32",
          "Epoch 33",
          "Epoch 34",
          "Epoch 35",
          "Epoch 36",
          "Epoch 37",
          "Epoch 38",
          "Epoch 39",
          "Epoch 40",
          "Epoch 41",
          "Epoch 42",
          "Epoch 43",
          "Epoch 44",
          "Epoch 45",
          "Epoch 46",
          "Epoch 47",
          "Epoch 48",
          "Epoch 49"
         ],
         "xaxis": "x",
         "y": [
          -1.5313790227424393,
          -10.266667580000002,
          -10.266667580000002,
          -10.266667579999977,
          -10.266667580000007,
          -10.266667579999957,
          -10.266667579999947,
          -10.266667579998582,
          -10.266667579998767,
          -10.266667579998284,
          -10.266667579947807,
          -10.266667579966452,
          -10.266667580322974,
          -10.266667580450303,
          -10.266667581454385,
          -10.26666757860221,
          -10.266667589079589,
          -10.266667541116476,
          -10.26666709035635,
          -10.26666758954525,
          -10.266662359237671,
          -10.266654372215271,
          -10.266679763793945,
          -10.266609191894531,
          -10.266571044921875,
          -10.2679443359375,
          -10.27056884765625,
          -10.28515625,
          -10.2353515625,
          -10.15234375,
          -10.3359375,
          -11,
          null,
          null,
          null,
          null,
          null,
          null,
          null,
          null,
          null,
          null,
          null,
          null,
          null,
          null,
          null,
          null,
          null,
          null
         ],
         "yaxis": "y"
        },
        {
         "hovertemplate": "variable=Tr<br>index=%{x}<br>value=%{y}<extra></extra>",
         "legendgroup": "Tr",
         "line": {
          "color": "#19d3f3",
          "dash": "solid"
         },
         "marker": {
          "symbol": "circle"
         },
         "mode": "lines",
         "name": "Tr",
         "orientation": "v",
         "showlegend": true,
         "type": "scatter",
         "x": [
          "Epoch 0",
          "Epoch 1",
          "Epoch 2",
          "Epoch 3",
          "Epoch 4",
          "Epoch 5",
          "Epoch 6",
          "Epoch 7",
          "Epoch 8",
          "Epoch 9",
          "Epoch 10",
          "Epoch 11",
          "Epoch 12",
          "Epoch 13",
          "Epoch 14",
          "Epoch 15",
          "Epoch 16",
          "Epoch 17",
          "Epoch 18",
          "Epoch 19",
          "Epoch 20",
          "Epoch 21",
          "Epoch 22",
          "Epoch 23",
          "Epoch 24",
          "Epoch 25",
          "Epoch 26",
          "Epoch 27",
          "Epoch 28",
          "Epoch 29",
          "Epoch 30",
          "Epoch 31",
          "Epoch 32",
          "Epoch 33",
          "Epoch 34",
          "Epoch 35",
          "Epoch 36",
          "Epoch 37",
          "Epoch 38",
          "Epoch 39",
          "Epoch 40",
          "Epoch 41",
          "Epoch 42",
          "Epoch 43",
          "Epoch 44",
          "Epoch 45",
          "Epoch 46",
          "Epoch 47",
          "Epoch 48",
          "Epoch 49"
         ],
         "xaxis": "x",
         "y": [
          28.870170552263147,
          1.5495283700000015,
          1.5495283699999947,
          1.549528370000024,
          1.549528369999999,
          1.5495283700000684,
          1.5495283700001892,
          1.5495283699999618,
          1.5495283700015534,
          1.5495283699865467,
          1.549528370018379,
          1.5495283701602602,
          1.5495283697382547,
          1.5495283682830632,
          1.5495283617638052,
          1.5495283789932728,
          1.5495282970368862,
          1.549528568983078,
          1.549528181552887,
          1.549527645111084,
          1.5495359897613525,
          1.5495634078979492,
          1.5494880676269531,
          1.5493621826171875,
          1.550048828125,
          1.5469970703125,
          1.546875,
          1.5419921875,
          1.54296875,
          1.6484375,
          2.375,
          -18,
          null,
          null,
          null,
          null,
          null,
          null,
          null,
          null,
          null,
          null,
          null,
          null,
          null,
          null,
          null,
          null,
          null,
          null
         ],
         "yaxis": "y"
        },
        {
         "hovertemplate": "variable=MeTr<br>index=%{x}<br>value=%{y}<extra></extra>",
         "legendgroup": "MeTr",
         "line": {
          "color": "#FF6692",
          "dash": "solid"
         },
         "marker": {
          "symbol": "circle"
         },
         "mode": "lines",
         "name": "MeTr",
         "orientation": "v",
         "showlegend": true,
         "type": "scatter",
         "x": [
          "Epoch 0",
          "Epoch 1",
          "Epoch 2",
          "Epoch 3",
          "Epoch 4",
          "Epoch 5",
          "Epoch 6",
          "Epoch 7",
          "Epoch 8",
          "Epoch 9",
          "Epoch 10",
          "Epoch 11",
          "Epoch 12",
          "Epoch 13",
          "Epoch 14",
          "Epoch 15",
          "Epoch 16",
          "Epoch 17",
          "Epoch 18",
          "Epoch 19",
          "Epoch 20",
          "Epoch 21",
          "Epoch 22",
          "Epoch 23",
          "Epoch 24",
          "Epoch 25",
          "Epoch 26",
          "Epoch 27",
          "Epoch 28",
          "Epoch 29",
          "Epoch 30",
          "Epoch 31",
          "Epoch 32",
          "Epoch 33",
          "Epoch 34",
          "Epoch 35",
          "Epoch 36",
          "Epoch 37",
          "Epoch 38",
          "Epoch 39",
          "Epoch 40",
          "Epoch 41",
          "Epoch 42",
          "Epoch 43",
          "Epoch 44",
          "Epoch 45",
          "Epoch 46",
          "Epoch 47",
          "Epoch 48",
          "Epoch 49"
         ],
         "xaxis": "x",
         "y": [
          9.016746458350129,
          2.380311942000005,
          2.3803119419999987,
          2.380311941999974,
          2.3803119419999987,
          2.380311941999963,
          2.380311942000148,
          2.3803119420001053,
          2.3803119419964105,
          2.380311941985383,
          2.3803119420008443,
          2.380311942048138,
          2.380311942222761,
          2.380311942542903,
          2.3803119402145967,
          2.380311925895512,
          2.380312006920576,
          2.3803121000528336,
          2.3803114145994186,
          2.3803111910820007,
          2.3803086280822754,
          2.380288600921631,
          2.3803329467773438,
          2.38037109375,
          2.380767822265625,
          2.37835693359375,
          2.3798828125,
          2.419921875,
          2.46484375,
          2.359375,
          2.0625,
          11.25,
          null,
          null,
          null,
          null,
          null,
          null,
          null,
          null,
          null,
          null,
          null,
          null,
          null,
          null,
          null,
          null,
          null,
          null
         ],
         "yaxis": "y"
        },
        {
         "hovertemplate": "variable=MoTr<br>index=%{x}<br>value=%{y}<extra></extra>",
         "legendgroup": "MoTr",
         "line": {
          "color": "#B6E880",
          "dash": "solid"
         },
         "marker": {
          "symbol": "circle"
         },
         "mode": "lines",
         "name": "MoTr",
         "orientation": "v",
         "showlegend": true,
         "type": "scatter",
         "x": [
          "Epoch 0",
          "Epoch 1",
          "Epoch 2",
          "Epoch 3",
          "Epoch 4",
          "Epoch 5",
          "Epoch 6",
          "Epoch 7",
          "Epoch 8",
          "Epoch 9",
          "Epoch 10",
          "Epoch 11",
          "Epoch 12",
          "Epoch 13",
          "Epoch 14",
          "Epoch 15",
          "Epoch 16",
          "Epoch 17",
          "Epoch 18",
          "Epoch 19",
          "Epoch 20",
          "Epoch 21",
          "Epoch 22",
          "Epoch 23",
          "Epoch 24",
          "Epoch 25",
          "Epoch 26",
          "Epoch 27",
          "Epoch 28",
          "Epoch 29",
          "Epoch 30",
          "Epoch 31",
          "Epoch 32",
          "Epoch 33",
          "Epoch 34",
          "Epoch 35",
          "Epoch 36",
          "Epoch 37",
          "Epoch 38",
          "Epoch 39",
          "Epoch 40",
          "Epoch 41",
          "Epoch 42",
          "Epoch 43",
          "Epoch 44",
          "Epoch 45",
          "Epoch 46",
          "Epoch 47",
          "Epoch 48",
          "Epoch 49"
         ],
         "xaxis": "x",
         "y": [
          -3.8194465808391103,
          1.4556716990000007,
          1.4556716989999987,
          1.4556716989999918,
          1.4556716990000087,
          1.4556716989999785,
          1.4556716989998364,
          1.4556716989999074,
          1.4556716989993106,
          1.4556716990023233,
          1.4556716989891356,
          1.4556716990973655,
          1.4556716985680396,
          1.4556716991355643,
          1.4556716976803727,
          1.455671701580286,
          1.4556717164814472,
          1.4556716904044151,
          1.455671802163124,
          1.4556725025177002,
          1.455664336681366,
          1.4556660652160645,
          1.455683708190918,
          1.4555549621582031,
          1.455718994140625,
          1.45648193359375,
          1.45849609375,
          1.454345703125,
          1.478515625,
          1.5625,
          1.078125,
          2.5,
          null,
          null,
          null,
          null,
          null,
          null,
          null,
          null,
          null,
          null,
          null,
          null,
          null,
          null,
          null,
          null,
          null,
          null
         ],
         "yaxis": "y"
        },
        {
         "hovertemplate": "variable=RiRi<br>index=%{x}<br>value=%{y}<extra></extra>",
         "legendgroup": "RiRi",
         "line": {
          "color": "#FF97FF",
          "dash": "solid"
         },
         "marker": {
          "symbol": "circle"
         },
         "mode": "lines",
         "name": "RiRi",
         "orientation": "v",
         "showlegend": true,
         "type": "scatter",
         "x": [
          "Epoch 0",
          "Epoch 1",
          "Epoch 2",
          "Epoch 3",
          "Epoch 4",
          "Epoch 5",
          "Epoch 6",
          "Epoch 7",
          "Epoch 8",
          "Epoch 9",
          "Epoch 10",
          "Epoch 11",
          "Epoch 12",
          "Epoch 13",
          "Epoch 14",
          "Epoch 15",
          "Epoch 16",
          "Epoch 17",
          "Epoch 18",
          "Epoch 19",
          "Epoch 20",
          "Epoch 21",
          "Epoch 22",
          "Epoch 23",
          "Epoch 24",
          "Epoch 25",
          "Epoch 26",
          "Epoch 27",
          "Epoch 28",
          "Epoch 29",
          "Epoch 30",
          "Epoch 31",
          "Epoch 32",
          "Epoch 33",
          "Epoch 34",
          "Epoch 35",
          "Epoch 36",
          "Epoch 37",
          "Epoch 38",
          "Epoch 39",
          "Epoch 40",
          "Epoch 41",
          "Epoch 42",
          "Epoch 43",
          "Epoch 44",
          "Epoch 45",
          "Epoch 46",
          "Epoch 47",
          "Epoch 48",
          "Epoch 49"
         ],
         "xaxis": "x",
         "y": [
          20.98913287258445,
          1.3233764899999958,
          1.3233764899999834,
          1.3233764900000615,
          1.3233764899999585,
          1.3233764900002996,
          1.3233764900001006,
          1.323376490010105,
          1.3233764899787275,
          1.3233764899159723,
          1.3233764902397525,
          1.3233764905598946,
          1.3233764889882877,
          1.3233764804899693,
          1.3233764860779047,
          1.3233765065670013,
          1.3233760446310043,
          1.3233761191368103,
          1.3233786821365356,
          1.3233842849731445,
          1.3234024047851562,
          1.323333740234375,
          1.323272705078125,
          1.32305908203125,
          1.320556640625,
          1.33837890625,
          1.33984375,
          1.1640625,
          1.65625,
          1,
          0.5,
          -86,
          null,
          null,
          null,
          null,
          null,
          null,
          null,
          null,
          null,
          null,
          null,
          null,
          null,
          null,
          null,
          null,
          null,
          null
         ],
         "yaxis": "y"
        },
        {
         "hovertemplate": "variable=MoFo<br>index=%{x}<br>value=%{y}<extra></extra>",
         "legendgroup": "MoFo",
         "line": {
          "color": "#FECB52",
          "dash": "solid"
         },
         "marker": {
          "symbol": "circle"
         },
         "mode": "lines",
         "name": "MoFo",
         "orientation": "v",
         "showlegend": true,
         "type": "scatter",
         "x": [
          "Epoch 0",
          "Epoch 1",
          "Epoch 2",
          "Epoch 3",
          "Epoch 4",
          "Epoch 5",
          "Epoch 6",
          "Epoch 7",
          "Epoch 8",
          "Epoch 9",
          "Epoch 10",
          "Epoch 11",
          "Epoch 12",
          "Epoch 13",
          "Epoch 14",
          "Epoch 15",
          "Epoch 16",
          "Epoch 17",
          "Epoch 18",
          "Epoch 19",
          "Epoch 20",
          "Epoch 21",
          "Epoch 22",
          "Epoch 23",
          "Epoch 24",
          "Epoch 25",
          "Epoch 26",
          "Epoch 27",
          "Epoch 28",
          "Epoch 29",
          "Epoch 30",
          "Epoch 31",
          "Epoch 32",
          "Epoch 33",
          "Epoch 34",
          "Epoch 35",
          "Epoch 36",
          "Epoch 37",
          "Epoch 38",
          "Epoch 39",
          "Epoch 40",
          "Epoch 41",
          "Epoch 42",
          "Epoch 43",
          "Epoch 44",
          "Epoch 45",
          "Epoch 46",
          "Epoch 47",
          "Epoch 48",
          "Epoch 49"
         ],
         "xaxis": "x",
         "y": [
          -2.4777062526382734,
          9.58151828,
          9.58151828000001,
          9.581518279999985,
          9.581518280000026,
          9.581518280000097,
          9.581518279999216,
          9.581518280001433,
          9.581518280001546,
          9.581518279981537,
          9.581518279897864,
          9.581518279883312,
          9.581518279475858,
          9.581518283463083,
          9.581518272636458,
          9.581518274731934,
          9.581518299877644,
          9.581518366932869,
          9.581517398357391,
          9.58151638507843,
          9.581512451171875,
          9.581506729125977,
          9.581504821777344,
          9.581329345703125,
          9.58111572265625,
          9.5811767578125,
          9.58447265625,
          9.58984375,
          9.546875,
          9.640625,
          8.875,
          7,
          null,
          null,
          null,
          null,
          null,
          null,
          null,
          null,
          null,
          null,
          null,
          null,
          null,
          null,
          null,
          null,
          null,
          null
         ],
         "yaxis": "y"
        },
        {
         "hovertemplate": "variable=Mmof<br>index=%{x}<br>value=%{y}<extra></extra>",
         "legendgroup": "Mmof",
         "line": {
          "color": "#636efa",
          "dash": "solid"
         },
         "marker": {
          "symbol": "circle"
         },
         "mode": "lines",
         "name": "Mmof",
         "orientation": "v",
         "showlegend": true,
         "type": "scatter",
         "x": [
          "Epoch 0",
          "Epoch 1",
          "Epoch 2",
          "Epoch 3",
          "Epoch 4",
          "Epoch 5",
          "Epoch 6",
          "Epoch 7",
          "Epoch 8",
          "Epoch 9",
          "Epoch 10",
          "Epoch 11",
          "Epoch 12",
          "Epoch 13",
          "Epoch 14",
          "Epoch 15",
          "Epoch 16",
          "Epoch 17",
          "Epoch 18",
          "Epoch 19",
          "Epoch 20",
          "Epoch 21",
          "Epoch 22",
          "Epoch 23",
          "Epoch 24",
          "Epoch 25",
          "Epoch 26",
          "Epoch 27",
          "Epoch 28",
          "Epoch 29",
          "Epoch 30",
          "Epoch 31",
          "Epoch 32",
          "Epoch 33",
          "Epoch 34",
          "Epoch 35",
          "Epoch 36",
          "Epoch 37",
          "Epoch 38",
          "Epoch 39",
          "Epoch 40",
          "Epoch 41",
          "Epoch 42",
          "Epoch 43",
          "Epoch 44",
          "Epoch 45",
          "Epoch 46",
          "Epoch 47",
          "Epoch 48",
          "Epoch 49"
         ],
         "xaxis": "x",
         "y": [
          9.865479735914008,
          2.967397905000004,
          2.967397905000011,
          2.967397904999949,
          2.9673979049999843,
          2.9673979050004107,
          2.967397904999757,
          2.9673979050014623,
          2.967397905004873,
          2.9673979049912305,
          2.9673979051876813,
          2.9673979053332005,
          2.9673979053623043,
          2.9673979103099555,
          2.9673979030922055,
          2.967397913336754,
          2.96739798784256,
          2.9673980474472046,
          2.967397928237915,
          2.9674010276794434,
          2.9674243927001953,
          2.967376708984375,
          2.9674911499023438,
          2.96759033203125,
          2.968017578125,
          2.965087890625,
          2.9765625,
          2.90625,
          3.046875,
          2.875,
          3,
          -5,
          null,
          null,
          null,
          null,
          null,
          null,
          null,
          null,
          null,
          null,
          null,
          null,
          null,
          null,
          null,
          null,
          null,
          null
         ],
         "yaxis": "y"
        },
        {
         "hovertemplate": "variable=MoRi<br>index=%{x}<br>value=%{y}<extra></extra>",
         "legendgroup": "MoRi",
         "line": {
          "color": "#EF553B",
          "dash": "solid"
         },
         "marker": {
          "symbol": "circle"
         },
         "mode": "lines",
         "name": "MoRi",
         "orientation": "v",
         "showlegend": true,
         "type": "scatter",
         "x": [
          "Epoch 0",
          "Epoch 1",
          "Epoch 2",
          "Epoch 3",
          "Epoch 4",
          "Epoch 5",
          "Epoch 6",
          "Epoch 7",
          "Epoch 8",
          "Epoch 9",
          "Epoch 10",
          "Epoch 11",
          "Epoch 12",
          "Epoch 13",
          "Epoch 14",
          "Epoch 15",
          "Epoch 16",
          "Epoch 17",
          "Epoch 18",
          "Epoch 19",
          "Epoch 20",
          "Epoch 21",
          "Epoch 22",
          "Epoch 23",
          "Epoch 24",
          "Epoch 25",
          "Epoch 26",
          "Epoch 27",
          "Epoch 28",
          "Epoch 29",
          "Epoch 30",
          "Epoch 31",
          "Epoch 32",
          "Epoch 33",
          "Epoch 34",
          "Epoch 35",
          "Epoch 36",
          "Epoch 37",
          "Epoch 38",
          "Epoch 39",
          "Epoch 40",
          "Epoch 41",
          "Epoch 42",
          "Epoch 43",
          "Epoch 44",
          "Epoch 45",
          "Epoch 46",
          "Epoch 47",
          "Epoch 48",
          "Epoch 49"
         ],
         "xaxis": "x",
         "y": [
          25.679014094336722,
          0.43973612000000184,
          0.4397361200000014,
          0.43973612000000006,
          0.4397361200000116,
          0.439736120000056,
          0.4397361200001768,
          0.4397361199988836,
          0.43973611999865625,
          0.4397361199939951,
          0.4397361200371961,
          0.4397361199989973,
          0.43973612022819,
          0.4397361192968674,
          0.4397361228475347,
          0.43973612040281296,
          0.4397361557930708,
          0.43973616138100624,
          0.4397362172603607,
          0.4397357702255249,
          0.4397444725036621,
          0.4397425651550293,
          0.439727783203125,
          0.43976593017578125,
          0.439117431640625,
          0.4390869140625,
          0.437255859375,
          0.44140625,
          0.462890625,
          0.4140625,
          0.09375,
          -0.5,
          null,
          null,
          null,
          null,
          null,
          null,
          null,
          null,
          null,
          null,
          null,
          null,
          null,
          null,
          null,
          null,
          null,
          null
         ],
         "yaxis": "y"
        },
        {
         "hovertemplate": "variable=MeRi<br>index=%{x}<br>value=%{y}<extra></extra>",
         "legendgroup": "MeRi",
         "line": {
          "color": "#00cc96",
          "dash": "solid"
         },
         "marker": {
          "symbol": "circle"
         },
         "mode": "lines",
         "name": "MeRi",
         "orientation": "v",
         "showlegend": true,
         "type": "scatter",
         "x": [
          "Epoch 0",
          "Epoch 1",
          "Epoch 2",
          "Epoch 3",
          "Epoch 4",
          "Epoch 5",
          "Epoch 6",
          "Epoch 7",
          "Epoch 8",
          "Epoch 9",
          "Epoch 10",
          "Epoch 11",
          "Epoch 12",
          "Epoch 13",
          "Epoch 14",
          "Epoch 15",
          "Epoch 16",
          "Epoch 17",
          "Epoch 18",
          "Epoch 19",
          "Epoch 20",
          "Epoch 21",
          "Epoch 22",
          "Epoch 23",
          "Epoch 24",
          "Epoch 25",
          "Epoch 26",
          "Epoch 27",
          "Epoch 28",
          "Epoch 29",
          "Epoch 30",
          "Epoch 31",
          "Epoch 32",
          "Epoch 33",
          "Epoch 34",
          "Epoch 35",
          "Epoch 36",
          "Epoch 37",
          "Epoch 38",
          "Epoch 39",
          "Epoch 40",
          "Epoch 41",
          "Epoch 42",
          "Epoch 43",
          "Epoch 44",
          "Epoch 45",
          "Epoch 46",
          "Epoch 47",
          "Epoch 48",
          "Epoch 49"
         ],
         "xaxis": "x",
         "y": [
          -7.605423517075538,
          -3.6464151100000004,
          -3.6464151100000057,
          -3.646415109999973,
          -3.646415110000092,
          -3.646415109999907,
          -3.6464151100008735,
          -3.646415110001726,
          -3.6464151100008166,
          -3.646415109957161,
          -3.646415109920781,
          -3.6464151098916773,
          -3.6464151083491743,
          -3.6464151132386178,
          -3.646415133960545,
          -3.6464151591062546,
          -3.646414875984192,
          -3.6464156806468964,
          -3.6464167833328247,
          -3.6464102268218994,
          -3.6464157104492188,
          -3.6463546752929688,
          -3.6463470458984375,
          -3.646697998046875,
          -3.6478271484375,
          -3.6396484375,
          -3.623046875,
          -3.59375,
          -3.765625,
          -4.1875,
          -2.75,
          -5,
          null,
          null,
          null,
          null,
          null,
          null,
          null,
          null,
          null,
          null,
          null,
          null,
          null,
          null,
          null,
          null,
          null,
          null
         ],
         "yaxis": "y"
        },
        {
         "hovertemplate": "variable=Ri<br>index=%{x}<br>value=%{y}<extra></extra>",
         "legendgroup": "Ri",
         "line": {
          "color": "#ab63fa",
          "dash": "solid"
         },
         "marker": {
          "symbol": "circle"
         },
         "mode": "lines",
         "name": "Ri",
         "orientation": "v",
         "showlegend": true,
         "type": "scatter",
         "x": [
          "Epoch 0",
          "Epoch 1",
          "Epoch 2",
          "Epoch 3",
          "Epoch 4",
          "Epoch 5",
          "Epoch 6",
          "Epoch 7",
          "Epoch 8",
          "Epoch 9",
          "Epoch 10",
          "Epoch 11",
          "Epoch 12",
          "Epoch 13",
          "Epoch 14",
          "Epoch 15",
          "Epoch 16",
          "Epoch 17",
          "Epoch 18",
          "Epoch 19",
          "Epoch 20",
          "Epoch 21",
          "Epoch 22",
          "Epoch 23",
          "Epoch 24",
          "Epoch 25",
          "Epoch 26",
          "Epoch 27",
          "Epoch 28",
          "Epoch 29",
          "Epoch 30",
          "Epoch 31",
          "Epoch 32",
          "Epoch 33",
          "Epoch 34",
          "Epoch 35",
          "Epoch 36",
          "Epoch 37",
          "Epoch 38",
          "Epoch 39",
          "Epoch 40",
          "Epoch 41",
          "Epoch 42",
          "Epoch 43",
          "Epoch 44",
          "Epoch 45",
          "Epoch 46",
          "Epoch 47",
          "Epoch 48",
          "Epoch 49"
         ],
         "xaxis": "x",
         "y": [
          -7.512123743238863,
          -3.3881066570000016,
          -3.3881066569999962,
          -3.3881066569999874,
          -3.388106656999902,
          -3.3881066569999803,
          -3.3881066569999803,
          -3.3881066570054372,
          -3.388106656993841,
          -3.388106656992022,
          -3.3881066571557312,
          -3.3881066571047995,
          -3.3881066552130505,
          -3.3881066569592804,
          -3.3881066804751754,
          -3.388106644153595,
          -3.388106659054756,
          -3.3881062865257263,
          -3.388108015060425,
          -3.3881046772003174,
          -3.388136863708496,
          -3.388164520263672,
          -3.3881607055664062,
          -3.388153076171875,
          -3.387939453125,
          -3.38330078125,
          -3.36328125,
          -3.2890625,
          -3.4375,
          -3.28125,
          -4.75,
          32,
          null,
          null,
          null,
          null,
          null,
          null,
          null,
          null,
          null,
          null,
          null,
          null,
          null,
          null,
          null,
          null,
          null,
          null
         ],
         "yaxis": "y"
        },
        {
         "hovertemplate": "variable=Comp<br>index=%{x}<br>value=%{y}<extra></extra>",
         "legendgroup": "Comp",
         "line": {
          "color": "#FFA15A",
          "dash": "solid"
         },
         "marker": {
          "symbol": "circle"
         },
         "mode": "lines",
         "name": "Comp",
         "orientation": "v",
         "showlegend": true,
         "type": "scatter",
         "x": [
          "Epoch 0",
          "Epoch 1",
          "Epoch 2",
          "Epoch 3",
          "Epoch 4",
          "Epoch 5",
          "Epoch 6",
          "Epoch 7",
          "Epoch 8",
          "Epoch 9",
          "Epoch 10",
          "Epoch 11",
          "Epoch 12",
          "Epoch 13",
          "Epoch 14",
          "Epoch 15",
          "Epoch 16",
          "Epoch 17",
          "Epoch 18",
          "Epoch 19",
          "Epoch 20",
          "Epoch 21",
          "Epoch 22",
          "Epoch 23",
          "Epoch 24",
          "Epoch 25",
          "Epoch 26",
          "Epoch 27",
          "Epoch 28",
          "Epoch 29",
          "Epoch 30",
          "Epoch 31",
          "Epoch 32",
          "Epoch 33",
          "Epoch 34",
          "Epoch 35",
          "Epoch 36",
          "Epoch 37",
          "Epoch 38",
          "Epoch 39",
          "Epoch 40",
          "Epoch 41",
          "Epoch 42",
          "Epoch 43",
          "Epoch 44",
          "Epoch 45",
          "Epoch 46",
          "Epoch 47",
          "Epoch 48",
          "Epoch 49"
         ],
         "xaxis": "x",
         "y": [
          1.3173167084953001,
          7.295417146899998,
          7.295417146899998,
          7.295417146900014,
          7.2954171469001245,
          7.295417146900064,
          7.295417146900007,
          7.295417146900149,
          7.295417146897307,
          7.29541714689185,
          7.295417146895488,
          7.29541714725201,
          7.295417147164699,
          7.2954171458259225,
          7.295417142100632,
          7.2954171150922775,
          7.295417178422213,
          7.295417279005051,
          7.295417666435242,
          7.295418977737427,
          7.295422077178955,
          7.295415878295898,
          7.295482635498047,
          7.2950592041015625,
          7.2957763671875,
          7.296875,
          7.30126953125,
          7.248046875,
          7.2734375,
          7.3125,
          8.5625,
          -4,
          null,
          null,
          null,
          null,
          null,
          null,
          null,
          null,
          null,
          null,
          null,
          null,
          null,
          null,
          null,
          null,
          null,
          null
         ],
         "yaxis": "y"
        }
       ],
       "layout": {
        "legend": {
         "title": {
          "text": "variable"
         },
         "tracegroupgap": 0
        },
        "template": {
         "data": {
          "bar": [
           {
            "error_x": {
             "color": "#2a3f5f"
            },
            "error_y": {
             "color": "#2a3f5f"
            },
            "marker": {
             "line": {
              "color": "#E5ECF6",
              "width": 0.5
             },
             "pattern": {
              "fillmode": "overlay",
              "size": 10,
              "solidity": 0.2
             }
            },
            "type": "bar"
           }
          ],
          "barpolar": [
           {
            "marker": {
             "line": {
              "color": "#E5ECF6",
              "width": 0.5
             },
             "pattern": {
              "fillmode": "overlay",
              "size": 10,
              "solidity": 0.2
             }
            },
            "type": "barpolar"
           }
          ],
          "carpet": [
           {
            "aaxis": {
             "endlinecolor": "#2a3f5f",
             "gridcolor": "white",
             "linecolor": "white",
             "minorgridcolor": "white",
             "startlinecolor": "#2a3f5f"
            },
            "baxis": {
             "endlinecolor": "#2a3f5f",
             "gridcolor": "white",
             "linecolor": "white",
             "minorgridcolor": "white",
             "startlinecolor": "#2a3f5f"
            },
            "type": "carpet"
           }
          ],
          "choropleth": [
           {
            "colorbar": {
             "outlinewidth": 0,
             "ticks": ""
            },
            "type": "choropleth"
           }
          ],
          "contour": [
           {
            "colorbar": {
             "outlinewidth": 0,
             "ticks": ""
            },
            "colorscale": [
             [
              0,
              "#0d0887"
             ],
             [
              0.1111111111111111,
              "#46039f"
             ],
             [
              0.2222222222222222,
              "#7201a8"
             ],
             [
              0.3333333333333333,
              "#9c179e"
             ],
             [
              0.4444444444444444,
              "#bd3786"
             ],
             [
              0.5555555555555556,
              "#d8576b"
             ],
             [
              0.6666666666666666,
              "#ed7953"
             ],
             [
              0.7777777777777778,
              "#fb9f3a"
             ],
             [
              0.8888888888888888,
              "#fdca26"
             ],
             [
              1,
              "#f0f921"
             ]
            ],
            "type": "contour"
           }
          ],
          "contourcarpet": [
           {
            "colorbar": {
             "outlinewidth": 0,
             "ticks": ""
            },
            "type": "contourcarpet"
           }
          ],
          "heatmap": [
           {
            "colorbar": {
             "outlinewidth": 0,
             "ticks": ""
            },
            "colorscale": [
             [
              0,
              "#0d0887"
             ],
             [
              0.1111111111111111,
              "#46039f"
             ],
             [
              0.2222222222222222,
              "#7201a8"
             ],
             [
              0.3333333333333333,
              "#9c179e"
             ],
             [
              0.4444444444444444,
              "#bd3786"
             ],
             [
              0.5555555555555556,
              "#d8576b"
             ],
             [
              0.6666666666666666,
              "#ed7953"
             ],
             [
              0.7777777777777778,
              "#fb9f3a"
             ],
             [
              0.8888888888888888,
              "#fdca26"
             ],
             [
              1,
              "#f0f921"
             ]
            ],
            "type": "heatmap"
           }
          ],
          "heatmapgl": [
           {
            "colorbar": {
             "outlinewidth": 0,
             "ticks": ""
            },
            "colorscale": [
             [
              0,
              "#0d0887"
             ],
             [
              0.1111111111111111,
              "#46039f"
             ],
             [
              0.2222222222222222,
              "#7201a8"
             ],
             [
              0.3333333333333333,
              "#9c179e"
             ],
             [
              0.4444444444444444,
              "#bd3786"
             ],
             [
              0.5555555555555556,
              "#d8576b"
             ],
             [
              0.6666666666666666,
              "#ed7953"
             ],
             [
              0.7777777777777778,
              "#fb9f3a"
             ],
             [
              0.8888888888888888,
              "#fdca26"
             ],
             [
              1,
              "#f0f921"
             ]
            ],
            "type": "heatmapgl"
           }
          ],
          "histogram": [
           {
            "marker": {
             "pattern": {
              "fillmode": "overlay",
              "size": 10,
              "solidity": 0.2
             }
            },
            "type": "histogram"
           }
          ],
          "histogram2d": [
           {
            "colorbar": {
             "outlinewidth": 0,
             "ticks": ""
            },
            "colorscale": [
             [
              0,
              "#0d0887"
             ],
             [
              0.1111111111111111,
              "#46039f"
             ],
             [
              0.2222222222222222,
              "#7201a8"
             ],
             [
              0.3333333333333333,
              "#9c179e"
             ],
             [
              0.4444444444444444,
              "#bd3786"
             ],
             [
              0.5555555555555556,
              "#d8576b"
             ],
             [
              0.6666666666666666,
              "#ed7953"
             ],
             [
              0.7777777777777778,
              "#fb9f3a"
             ],
             [
              0.8888888888888888,
              "#fdca26"
             ],
             [
              1,
              "#f0f921"
             ]
            ],
            "type": "histogram2d"
           }
          ],
          "histogram2dcontour": [
           {
            "colorbar": {
             "outlinewidth": 0,
             "ticks": ""
            },
            "colorscale": [
             [
              0,
              "#0d0887"
             ],
             [
              0.1111111111111111,
              "#46039f"
             ],
             [
              0.2222222222222222,
              "#7201a8"
             ],
             [
              0.3333333333333333,
              "#9c179e"
             ],
             [
              0.4444444444444444,
              "#bd3786"
             ],
             [
              0.5555555555555556,
              "#d8576b"
             ],
             [
              0.6666666666666666,
              "#ed7953"
             ],
             [
              0.7777777777777778,
              "#fb9f3a"
             ],
             [
              0.8888888888888888,
              "#fdca26"
             ],
             [
              1,
              "#f0f921"
             ]
            ],
            "type": "histogram2dcontour"
           }
          ],
          "mesh3d": [
           {
            "colorbar": {
             "outlinewidth": 0,
             "ticks": ""
            },
            "type": "mesh3d"
           }
          ],
          "parcoords": [
           {
            "line": {
             "colorbar": {
              "outlinewidth": 0,
              "ticks": ""
             }
            },
            "type": "parcoords"
           }
          ],
          "pie": [
           {
            "automargin": true,
            "type": "pie"
           }
          ],
          "scatter": [
           {
            "fillpattern": {
             "fillmode": "overlay",
             "size": 10,
             "solidity": 0.2
            },
            "type": "scatter"
           }
          ],
          "scatter3d": [
           {
            "line": {
             "colorbar": {
              "outlinewidth": 0,
              "ticks": ""
             }
            },
            "marker": {
             "colorbar": {
              "outlinewidth": 0,
              "ticks": ""
             }
            },
            "type": "scatter3d"
           }
          ],
          "scattercarpet": [
           {
            "marker": {
             "colorbar": {
              "outlinewidth": 0,
              "ticks": ""
             }
            },
            "type": "scattercarpet"
           }
          ],
          "scattergeo": [
           {
            "marker": {
             "colorbar": {
              "outlinewidth": 0,
              "ticks": ""
             }
            },
            "type": "scattergeo"
           }
          ],
          "scattergl": [
           {
            "marker": {
             "colorbar": {
              "outlinewidth": 0,
              "ticks": ""
             }
            },
            "type": "scattergl"
           }
          ],
          "scattermapbox": [
           {
            "marker": {
             "colorbar": {
              "outlinewidth": 0,
              "ticks": ""
             }
            },
            "type": "scattermapbox"
           }
          ],
          "scatterpolar": [
           {
            "marker": {
             "colorbar": {
              "outlinewidth": 0,
              "ticks": ""
             }
            },
            "type": "scatterpolar"
           }
          ],
          "scatterpolargl": [
           {
            "marker": {
             "colorbar": {
              "outlinewidth": 0,
              "ticks": ""
             }
            },
            "type": "scatterpolargl"
           }
          ],
          "scatterternary": [
           {
            "marker": {
             "colorbar": {
              "outlinewidth": 0,
              "ticks": ""
             }
            },
            "type": "scatterternary"
           }
          ],
          "surface": [
           {
            "colorbar": {
             "outlinewidth": 0,
             "ticks": ""
            },
            "colorscale": [
             [
              0,
              "#0d0887"
             ],
             [
              0.1111111111111111,
              "#46039f"
             ],
             [
              0.2222222222222222,
              "#7201a8"
             ],
             [
              0.3333333333333333,
              "#9c179e"
             ],
             [
              0.4444444444444444,
              "#bd3786"
             ],
             [
              0.5555555555555556,
              "#d8576b"
             ],
             [
              0.6666666666666666,
              "#ed7953"
             ],
             [
              0.7777777777777778,
              "#fb9f3a"
             ],
             [
              0.8888888888888888,
              "#fdca26"
             ],
             [
              1,
              "#f0f921"
             ]
            ],
            "type": "surface"
           }
          ],
          "table": [
           {
            "cells": {
             "fill": {
              "color": "#EBF0F8"
             },
             "line": {
              "color": "white"
             }
            },
            "header": {
             "fill": {
              "color": "#C8D4E3"
             },
             "line": {
              "color": "white"
             }
            },
            "type": "table"
           }
          ]
         },
         "layout": {
          "annotationdefaults": {
           "arrowcolor": "#2a3f5f",
           "arrowhead": 0,
           "arrowwidth": 1
          },
          "autotypenumbers": "strict",
          "coloraxis": {
           "colorbar": {
            "outlinewidth": 0,
            "ticks": ""
           }
          },
          "colorscale": {
           "diverging": [
            [
             0,
             "#8e0152"
            ],
            [
             0.1,
             "#c51b7d"
            ],
            [
             0.2,
             "#de77ae"
            ],
            [
             0.3,
             "#f1b6da"
            ],
            [
             0.4,
             "#fde0ef"
            ],
            [
             0.5,
             "#f7f7f7"
            ],
            [
             0.6,
             "#e6f5d0"
            ],
            [
             0.7,
             "#b8e186"
            ],
            [
             0.8,
             "#7fbc41"
            ],
            [
             0.9,
             "#4d9221"
            ],
            [
             1,
             "#276419"
            ]
           ],
           "sequential": [
            [
             0,
             "#0d0887"
            ],
            [
             0.1111111111111111,
             "#46039f"
            ],
            [
             0.2222222222222222,
             "#7201a8"
            ],
            [
             0.3333333333333333,
             "#9c179e"
            ],
            [
             0.4444444444444444,
             "#bd3786"
            ],
            [
             0.5555555555555556,
             "#d8576b"
            ],
            [
             0.6666666666666666,
             "#ed7953"
            ],
            [
             0.7777777777777778,
             "#fb9f3a"
            ],
            [
             0.8888888888888888,
             "#fdca26"
            ],
            [
             1,
             "#f0f921"
            ]
           ],
           "sequentialminus": [
            [
             0,
             "#0d0887"
            ],
            [
             0.1111111111111111,
             "#46039f"
            ],
            [
             0.2222222222222222,
             "#7201a8"
            ],
            [
             0.3333333333333333,
             "#9c179e"
            ],
            [
             0.4444444444444444,
             "#bd3786"
            ],
            [
             0.5555555555555556,
             "#d8576b"
            ],
            [
             0.6666666666666666,
             "#ed7953"
            ],
            [
             0.7777777777777778,
             "#fb9f3a"
            ],
            [
             0.8888888888888888,
             "#fdca26"
            ],
            [
             1,
             "#f0f921"
            ]
           ]
          },
          "colorway": [
           "#636efa",
           "#EF553B",
           "#00cc96",
           "#ab63fa",
           "#FFA15A",
           "#19d3f3",
           "#FF6692",
           "#B6E880",
           "#FF97FF",
           "#FECB52"
          ],
          "font": {
           "color": "#2a3f5f"
          },
          "geo": {
           "bgcolor": "white",
           "lakecolor": "white",
           "landcolor": "#E5ECF6",
           "showlakes": true,
           "showland": true,
           "subunitcolor": "white"
          },
          "hoverlabel": {
           "align": "left"
          },
          "hovermode": "closest",
          "mapbox": {
           "style": "light"
          },
          "paper_bgcolor": "white",
          "plot_bgcolor": "#E5ECF6",
          "polar": {
           "angularaxis": {
            "gridcolor": "white",
            "linecolor": "white",
            "ticks": ""
           },
           "bgcolor": "#E5ECF6",
           "radialaxis": {
            "gridcolor": "white",
            "linecolor": "white",
            "ticks": ""
           }
          },
          "scene": {
           "xaxis": {
            "backgroundcolor": "#E5ECF6",
            "gridcolor": "white",
            "gridwidth": 2,
            "linecolor": "white",
            "showbackground": true,
            "ticks": "",
            "zerolinecolor": "white"
           },
           "yaxis": {
            "backgroundcolor": "#E5ECF6",
            "gridcolor": "white",
            "gridwidth": 2,
            "linecolor": "white",
            "showbackground": true,
            "ticks": "",
            "zerolinecolor": "white"
           },
           "zaxis": {
            "backgroundcolor": "#E5ECF6",
            "gridcolor": "white",
            "gridwidth": 2,
            "linecolor": "white",
            "showbackground": true,
            "ticks": "",
            "zerolinecolor": "white"
           }
          },
          "shapedefaults": {
           "line": {
            "color": "#2a3f5f"
           }
          },
          "ternary": {
           "aaxis": {
            "gridcolor": "white",
            "linecolor": "white",
            "ticks": ""
           },
           "baxis": {
            "gridcolor": "white",
            "linecolor": "white",
            "ticks": ""
           },
           "bgcolor": "#E5ECF6",
           "caxis": {
            "gridcolor": "white",
            "linecolor": "white",
            "ticks": ""
           }
          },
          "title": {
           "x": 0.05
          },
          "xaxis": {
           "automargin": true,
           "gridcolor": "white",
           "linecolor": "white",
           "ticks": "",
           "title": {
            "standoff": 15
           },
           "zerolinecolor": "white",
           "zerolinewidth": 2
          },
          "yaxis": {
           "automargin": true,
           "gridcolor": "white",
           "linecolor": "white",
           "ticks": "",
           "title": {
            "standoff": 15
           },
           "zerolinecolor": "white",
           "zerolinewidth": 2
          }
         }
        },
        "title": {
         "text": "Free evolution of the weights for subject soggetto_7"
        },
        "xaxis": {
         "anchor": "y",
         "domain": [
          0,
          1
         ],
         "title": {
          "text": "index"
         }
        },
        "yaxis": {
         "anchor": "x",
         "domain": [
          0,
          1
         ],
         "title": {
          "text": "value"
         }
        }
       }
      }
     },
     "metadata": {},
     "output_type": "display_data"
    },
    {
     "data": {
      "application/vnd.plotly.v1+json": {
       "config": {
        "plotlyServerURL": "https://plot.ly"
       },
       "data": [
        {
         "hovertemplate": "variable=TrRi<br>index=%{x}<br>value=%{y}<extra></extra>",
         "legendgroup": "TrRi",
         "line": {
          "color": "#636efa",
          "dash": "solid"
         },
         "marker": {
          "symbol": "circle"
         },
         "mode": "lines",
         "name": "TrRi",
         "orientation": "v",
         "showlegend": true,
         "type": "scatter",
         "x": [
          "Epoch 0",
          "Epoch 1",
          "Epoch 2",
          "Epoch 3",
          "Epoch 4",
          "Epoch 5",
          "Epoch 6",
          "Epoch 7",
          "Epoch 8",
          "Epoch 9",
          "Epoch 10",
          "Epoch 11",
          "Epoch 12",
          "Epoch 13",
          "Epoch 14",
          "Epoch 15",
          "Epoch 16",
          "Epoch 17",
          "Epoch 18",
          "Epoch 19",
          "Epoch 20",
          "Epoch 21",
          "Epoch 22",
          "Epoch 23",
          "Epoch 24",
          "Epoch 25",
          "Epoch 26",
          "Epoch 27",
          "Epoch 28",
          "Epoch 29",
          "Epoch 30",
          "Epoch 31",
          "Epoch 32",
          "Epoch 33",
          "Epoch 34",
          "Epoch 35",
          "Epoch 36",
          "Epoch 37",
          "Epoch 38",
          "Epoch 39",
          "Epoch 40",
          "Epoch 41",
          "Epoch 42",
          "Epoch 43",
          "Epoch 44",
          "Epoch 45",
          "Epoch 46",
          "Epoch 47",
          "Epoch 48",
          "Epoch 49"
         ],
         "xaxis": "x",
         "y": [
          -39.09614505962845,
          -4.406664828999995,
          -4.4066648289999755,
          -4.4066648289993395,
          -4.406664828999737,
          -4.406664829000874,
          -4.406664829097281,
          -4.406664829468355,
          -4.406664835289121,
          -4.406664827489294,
          -4.406665146350861,
          -4.406669497489929,
          -4.406661510467529,
          -4.406667709350586,
          -4.40576171875,
          -4.3935546875,
          -4.4013671875,
          -4.3984375,
          -3.75,
          -4.75,
          22,
          null,
          null,
          null,
          null,
          null,
          null,
          null,
          null,
          null,
          null,
          null,
          null,
          null,
          null,
          null,
          null,
          null,
          null,
          null,
          null,
          null,
          null,
          null,
          null,
          null,
          null,
          null,
          null,
          null
         ],
         "yaxis": "y"
        },
        {
         "hovertemplate": "variable=RiTr<br>index=%{x}<br>value=%{y}<extra></extra>",
         "legendgroup": "RiTr",
         "line": {
          "color": "#EF553B",
          "dash": "solid"
         },
         "marker": {
          "symbol": "circle"
         },
         "mode": "lines",
         "name": "RiTr",
         "orientation": "v",
         "showlegend": true,
         "type": "scatter",
         "x": [
          "Epoch 0",
          "Epoch 1",
          "Epoch 2",
          "Epoch 3",
          "Epoch 4",
          "Epoch 5",
          "Epoch 6",
          "Epoch 7",
          "Epoch 8",
          "Epoch 9",
          "Epoch 10",
          "Epoch 11",
          "Epoch 12",
          "Epoch 13",
          "Epoch 14",
          "Epoch 15",
          "Epoch 16",
          "Epoch 17",
          "Epoch 18",
          "Epoch 19",
          "Epoch 20",
          "Epoch 21",
          "Epoch 22",
          "Epoch 23",
          "Epoch 24",
          "Epoch 25",
          "Epoch 26",
          "Epoch 27",
          "Epoch 28",
          "Epoch 29",
          "Epoch 30",
          "Epoch 31",
          "Epoch 32",
          "Epoch 33",
          "Epoch 34",
          "Epoch 35",
          "Epoch 36",
          "Epoch 37",
          "Epoch 38",
          "Epoch 39",
          "Epoch 40",
          "Epoch 41",
          "Epoch 42",
          "Epoch 43",
          "Epoch 44",
          "Epoch 45",
          "Epoch 46",
          "Epoch 47",
          "Epoch 48",
          "Epoch 49"
         ],
         "xaxis": "x",
         "y": [
          -23.65037426341184,
          -0.0822220899999978,
          -0.08222208999999214,
          -0.08222208999996283,
          -0.08222208999989533,
          -0.08222208999859504,
          -0.08222208993538516,
          -0.0822220900299726,
          -0.08222208986990154,
          -0.08222208265215158,
          -0.08222203701734543,
          -0.08222205936908722,
          -0.08221736550331116,
          -0.08224678039550781,
          -0.08237457275390625,
          -0.082275390625,
          -0.0775146484375,
          -0.10546875,
          -0.28125,
          0.75,
          4,
          null,
          null,
          null,
          null,
          null,
          null,
          null,
          null,
          null,
          null,
          null,
          null,
          null,
          null,
          null,
          null,
          null,
          null,
          null,
          null,
          null,
          null,
          null,
          null,
          null,
          null,
          null,
          null,
          null
         ],
         "yaxis": "y"
        },
        {
         "hovertemplate": "variable=Plu<br>index=%{x}<br>value=%{y}<extra></extra>",
         "legendgroup": "Plu",
         "line": {
          "color": "#00cc96",
          "dash": "solid"
         },
         "marker": {
          "symbol": "circle"
         },
         "mode": "lines",
         "name": "Plu",
         "orientation": "v",
         "showlegend": true,
         "type": "scatter",
         "x": [
          "Epoch 0",
          "Epoch 1",
          "Epoch 2",
          "Epoch 3",
          "Epoch 4",
          "Epoch 5",
          "Epoch 6",
          "Epoch 7",
          "Epoch 8",
          "Epoch 9",
          "Epoch 10",
          "Epoch 11",
          "Epoch 12",
          "Epoch 13",
          "Epoch 14",
          "Epoch 15",
          "Epoch 16",
          "Epoch 17",
          "Epoch 18",
          "Epoch 19",
          "Epoch 20",
          "Epoch 21",
          "Epoch 22",
          "Epoch 23",
          "Epoch 24",
          "Epoch 25",
          "Epoch 26",
          "Epoch 27",
          "Epoch 28",
          "Epoch 29",
          "Epoch 30",
          "Epoch 31",
          "Epoch 32",
          "Epoch 33",
          "Epoch 34",
          "Epoch 35",
          "Epoch 36",
          "Epoch 37",
          "Epoch 38",
          "Epoch 39",
          "Epoch 40",
          "Epoch 41",
          "Epoch 42",
          "Epoch 43",
          "Epoch 44",
          "Epoch 45",
          "Epoch 46",
          "Epoch 47",
          "Epoch 48",
          "Epoch 49"
         ],
         "xaxis": "x",
         "y": [
          30.669793329402683,
          4.470760939999999,
          4.4707609400000115,
          4.4707609400000905,
          4.470760940000048,
          4.470760940001014,
          4.470760940001128,
          4.470760939962929,
          4.470760942436755,
          4.470760940341279,
          4.4707609154284,
          4.4707600474357605,
          4.470759868621826,
          4.470762491226196,
          4.470634460449219,
          4.47021484375,
          4.4638671875,
          4.460205078125,
          4.8125,
          3.625,
          1.75,
          null,
          null,
          null,
          null,
          null,
          null,
          null,
          null,
          null,
          null,
          null,
          null,
          null,
          null,
          null,
          null,
          null,
          null,
          null,
          null,
          null,
          null,
          null,
          null,
          null,
          null,
          null,
          null,
          null
         ],
         "yaxis": "y"
        },
        {
         "hovertemplate": "variable=Ttra<br>index=%{x}<br>value=%{y}<extra></extra>",
         "legendgroup": "Ttra",
         "line": {
          "color": "#ab63fa",
          "dash": "solid"
         },
         "marker": {
          "symbol": "circle"
         },
         "mode": "lines",
         "name": "Ttra",
         "orientation": "v",
         "showlegend": true,
         "type": "scatter",
         "x": [
          "Epoch 0",
          "Epoch 1",
          "Epoch 2",
          "Epoch 3",
          "Epoch 4",
          "Epoch 5",
          "Epoch 6",
          "Epoch 7",
          "Epoch 8",
          "Epoch 9",
          "Epoch 10",
          "Epoch 11",
          "Epoch 12",
          "Epoch 13",
          "Epoch 14",
          "Epoch 15",
          "Epoch 16",
          "Epoch 17",
          "Epoch 18",
          "Epoch 19",
          "Epoch 20",
          "Epoch 21",
          "Epoch 22",
          "Epoch 23",
          "Epoch 24",
          "Epoch 25",
          "Epoch 26",
          "Epoch 27",
          "Epoch 28",
          "Epoch 29",
          "Epoch 30",
          "Epoch 31",
          "Epoch 32",
          "Epoch 33",
          "Epoch 34",
          "Epoch 35",
          "Epoch 36",
          "Epoch 37",
          "Epoch 38",
          "Epoch 39",
          "Epoch 40",
          "Epoch 41",
          "Epoch 42",
          "Epoch 43",
          "Epoch 44",
          "Epoch 45",
          "Epoch 46",
          "Epoch 47",
          "Epoch 48",
          "Epoch 49"
         ],
         "xaxis": "x",
         "y": [
          -4.865816730483977,
          1.3306609210000002,
          1.3306609210000087,
          1.330660920999435,
          1.3306609209988665,
          1.3306609209992075,
          1.3306609209466842,
          1.33066092064837,
          1.3306609209394082,
          1.3306609196588397,
          1.3306609094142914,
          1.33066064119339,
          1.330660343170166,
          1.3306617736816406,
          1.331085205078125,
          1.332275390625,
          1.3232421875,
          1.48046875,
          2.34375,
          0.125,
          1.5,
          null,
          null,
          null,
          null,
          null,
          null,
          null,
          null,
          null,
          null,
          null,
          null,
          null,
          null,
          null,
          null,
          null,
          null,
          null,
          null,
          null,
          null,
          null,
          null,
          null,
          null,
          null,
          null,
          null
         ],
         "yaxis": "y"
        },
        {
         "hovertemplate": "variable=Ttrb<br>index=%{x}<br>value=%{y}<extra></extra>",
         "legendgroup": "Ttrb",
         "line": {
          "color": "#FFA15A",
          "dash": "solid"
         },
         "marker": {
          "symbol": "circle"
         },
         "mode": "lines",
         "name": "Ttrb",
         "orientation": "v",
         "showlegend": true,
         "type": "scatter",
         "x": [
          "Epoch 0",
          "Epoch 1",
          "Epoch 2",
          "Epoch 3",
          "Epoch 4",
          "Epoch 5",
          "Epoch 6",
          "Epoch 7",
          "Epoch 8",
          "Epoch 9",
          "Epoch 10",
          "Epoch 11",
          "Epoch 12",
          "Epoch 13",
          "Epoch 14",
          "Epoch 15",
          "Epoch 16",
          "Epoch 17",
          "Epoch 18",
          "Epoch 19",
          "Epoch 20",
          "Epoch 21",
          "Epoch 22",
          "Epoch 23",
          "Epoch 24",
          "Epoch 25",
          "Epoch 26",
          "Epoch 27",
          "Epoch 28",
          "Epoch 29",
          "Epoch 30",
          "Epoch 31",
          "Epoch 32",
          "Epoch 33",
          "Epoch 34",
          "Epoch 35",
          "Epoch 36",
          "Epoch 37",
          "Epoch 38",
          "Epoch 39",
          "Epoch 40",
          "Epoch 41",
          "Epoch 42",
          "Epoch 43",
          "Epoch 44",
          "Epoch 45",
          "Epoch 46",
          "Epoch 47",
          "Epoch 48",
          "Epoch 49"
         ],
         "xaxis": "x",
         "y": [
          -20.287835880468702,
          2.553558549999999,
          2.553558550000014,
          2.5535585500000053,
          2.5535585500002185,
          2.553558550001867,
          2.553558549961963,
          2.5535585493780673,
          2.5535585538018495,
          2.5535585484467447,
          2.5535585805773735,
          2.553559184074402,
          2.5535576343536377,
          2.5535573959350586,
          2.5532684326171875,
          2.549072265625,
          2.56640625,
          2.5625,
          2.71875,
          2.125,
          -5.5,
          null,
          null,
          null,
          null,
          null,
          null,
          null,
          null,
          null,
          null,
          null,
          null,
          null,
          null,
          null,
          null,
          null,
          null,
          null,
          null,
          null,
          null,
          null,
          null,
          null,
          null,
          null,
          null,
          null
         ],
         "yaxis": "y"
        },
        {
         "hovertemplate": "variable=Tr<br>index=%{x}<br>value=%{y}<extra></extra>",
         "legendgroup": "Tr",
         "line": {
          "color": "#19d3f3",
          "dash": "solid"
         },
         "marker": {
          "symbol": "circle"
         },
         "mode": "lines",
         "name": "Tr",
         "orientation": "v",
         "showlegend": true,
         "type": "scatter",
         "x": [
          "Epoch 0",
          "Epoch 1",
          "Epoch 2",
          "Epoch 3",
          "Epoch 4",
          "Epoch 5",
          "Epoch 6",
          "Epoch 7",
          "Epoch 8",
          "Epoch 9",
          "Epoch 10",
          "Epoch 11",
          "Epoch 12",
          "Epoch 13",
          "Epoch 14",
          "Epoch 15",
          "Epoch 16",
          "Epoch 17",
          "Epoch 18",
          "Epoch 19",
          "Epoch 20",
          "Epoch 21",
          "Epoch 22",
          "Epoch 23",
          "Epoch 24",
          "Epoch 25",
          "Epoch 26",
          "Epoch 27",
          "Epoch 28",
          "Epoch 29",
          "Epoch 30",
          "Epoch 31",
          "Epoch 32",
          "Epoch 33",
          "Epoch 34",
          "Epoch 35",
          "Epoch 36",
          "Epoch 37",
          "Epoch 38",
          "Epoch 39",
          "Epoch 40",
          "Epoch 41",
          "Epoch 42",
          "Epoch 43",
          "Epoch 44",
          "Epoch 45",
          "Epoch 46",
          "Epoch 47",
          "Epoch 48",
          "Epoch 49"
         ],
         "xaxis": "x",
         "y": [
          7.900698189168514,
          -1.3129711100000012,
          -1.312971110000003,
          -1.3129711100001487,
          -1.3129711100006034,
          -1.3129711099999213,
          -1.3129711099609267,
          -1.3129711103101727,
          -1.3129711095243692,
          -1.3129710964858532,
          -1.3129711300134659,
          -1.3129692673683167,
          -1.3129737377166748,
          -1.312973976135254,
          -1.312652587890625,
          -1.308837890625,
          -1.333984375,
          -1.25390625,
          -0.90625,
          -0.6875,
          8.5,
          null,
          null,
          null,
          null,
          null,
          null,
          null,
          null,
          null,
          null,
          null,
          null,
          null,
          null,
          null,
          null,
          null,
          null,
          null,
          null,
          null,
          null,
          null,
          null,
          null,
          null,
          null,
          null,
          null
         ],
         "yaxis": "y"
        },
        {
         "hovertemplate": "variable=MeTr<br>index=%{x}<br>value=%{y}<extra></extra>",
         "legendgroup": "MeTr",
         "line": {
          "color": "#FF6692",
          "dash": "solid"
         },
         "marker": {
          "symbol": "circle"
         },
         "mode": "lines",
         "name": "MeTr",
         "orientation": "v",
         "showlegend": true,
         "type": "scatter",
         "x": [
          "Epoch 0",
          "Epoch 1",
          "Epoch 2",
          "Epoch 3",
          "Epoch 4",
          "Epoch 5",
          "Epoch 6",
          "Epoch 7",
          "Epoch 8",
          "Epoch 9",
          "Epoch 10",
          "Epoch 11",
          "Epoch 12",
          "Epoch 13",
          "Epoch 14",
          "Epoch 15",
          "Epoch 16",
          "Epoch 17",
          "Epoch 18",
          "Epoch 19",
          "Epoch 20",
          "Epoch 21",
          "Epoch 22",
          "Epoch 23",
          "Epoch 24",
          "Epoch 25",
          "Epoch 26",
          "Epoch 27",
          "Epoch 28",
          "Epoch 29",
          "Epoch 30",
          "Epoch 31",
          "Epoch 32",
          "Epoch 33",
          "Epoch 34",
          "Epoch 35",
          "Epoch 36",
          "Epoch 37",
          "Epoch 38",
          "Epoch 39",
          "Epoch 40",
          "Epoch 41",
          "Epoch 42",
          "Epoch 43",
          "Epoch 44",
          "Epoch 45",
          "Epoch 46",
          "Epoch 47",
          "Epoch 48",
          "Epoch 49"
         ],
         "xaxis": "x",
         "y": [
          9.621056167457551,
          3.455380030000007,
          3.4553800299999846,
          3.455380030000068,
          3.455380030000242,
          3.455380029994558,
          3.455380029994558,
          3.4553800302710442,
          3.4553800304420292,
          3.4553800337016582,
          3.4553799778223038,
          3.455380640923977,
          3.4553860425949097,
          3.4553871154785156,
          3.455169677734375,
          3.4553070068359375,
          3.452392578125,
          3.49609375,
          3.21875,
          6.5,
          7,
          null,
          null,
          null,
          null,
          null,
          null,
          null,
          null,
          null,
          null,
          null,
          null,
          null,
          null,
          null,
          null,
          null,
          null,
          null,
          null,
          null,
          null,
          null,
          null,
          null,
          null,
          null,
          null,
          null
         ],
         "yaxis": "y"
        },
        {
         "hovertemplate": "variable=MoTr<br>index=%{x}<br>value=%{y}<extra></extra>",
         "legendgroup": "MoTr",
         "line": {
          "color": "#B6E880",
          "dash": "solid"
         },
         "marker": {
          "symbol": "circle"
         },
         "mode": "lines",
         "name": "MoTr",
         "orientation": "v",
         "showlegend": true,
         "type": "scatter",
         "x": [
          "Epoch 0",
          "Epoch 1",
          "Epoch 2",
          "Epoch 3",
          "Epoch 4",
          "Epoch 5",
          "Epoch 6",
          "Epoch 7",
          "Epoch 8",
          "Epoch 9",
          "Epoch 10",
          "Epoch 11",
          "Epoch 12",
          "Epoch 13",
          "Epoch 14",
          "Epoch 15",
          "Epoch 16",
          "Epoch 17",
          "Epoch 18",
          "Epoch 19",
          "Epoch 20",
          "Epoch 21",
          "Epoch 22",
          "Epoch 23",
          "Epoch 24",
          "Epoch 25",
          "Epoch 26",
          "Epoch 27",
          "Epoch 28",
          "Epoch 29",
          "Epoch 30",
          "Epoch 31",
          "Epoch 32",
          "Epoch 33",
          "Epoch 34",
          "Epoch 35",
          "Epoch 36",
          "Epoch 37",
          "Epoch 38",
          "Epoch 39",
          "Epoch 40",
          "Epoch 41",
          "Epoch 42",
          "Epoch 43",
          "Epoch 44",
          "Epoch 45",
          "Epoch 46",
          "Epoch 47",
          "Epoch 48",
          "Epoch 49"
         ],
         "xaxis": "x",
         "y": [
          -4.586701956350451,
          1.5950298499999995,
          1.595029850000004,
          1.5950298500000244,
          1.595029850001083,
          1.5950298499997757,
          1.5950298499683413,
          1.595029850534047,
          1.5950298506068066,
          1.5950298495590687,
          1.595029842108488,
          1.595030516386032,
          1.5950291156768799,
          1.5950238704681396,
          1.5950241088867188,
          1.5938720703125,
          1.60498046875,
          1.580078125,
          1.53125,
          1.25,
          5.5,
          null,
          null,
          null,
          null,
          null,
          null,
          null,
          null,
          null,
          null,
          null,
          null,
          null,
          null,
          null,
          null,
          null,
          null,
          null,
          null,
          null,
          null,
          null,
          null,
          null,
          null,
          null,
          null,
          null
         ],
         "yaxis": "y"
        },
        {
         "hovertemplate": "variable=RiRi<br>index=%{x}<br>value=%{y}<extra></extra>",
         "legendgroup": "RiRi",
         "line": {
          "color": "#FF97FF",
          "dash": "solid"
         },
         "marker": {
          "symbol": "circle"
         },
         "mode": "lines",
         "name": "RiRi",
         "orientation": "v",
         "showlegend": true,
         "type": "scatter",
         "x": [
          "Epoch 0",
          "Epoch 1",
          "Epoch 2",
          "Epoch 3",
          "Epoch 4",
          "Epoch 5",
          "Epoch 6",
          "Epoch 7",
          "Epoch 8",
          "Epoch 9",
          "Epoch 10",
          "Epoch 11",
          "Epoch 12",
          "Epoch 13",
          "Epoch 14",
          "Epoch 15",
          "Epoch 16",
          "Epoch 17",
          "Epoch 18",
          "Epoch 19",
          "Epoch 20",
          "Epoch 21",
          "Epoch 22",
          "Epoch 23",
          "Epoch 24",
          "Epoch 25",
          "Epoch 26",
          "Epoch 27",
          "Epoch 28",
          "Epoch 29",
          "Epoch 30",
          "Epoch 31",
          "Epoch 32",
          "Epoch 33",
          "Epoch 34",
          "Epoch 35",
          "Epoch 36",
          "Epoch 37",
          "Epoch 38",
          "Epoch 39",
          "Epoch 40",
          "Epoch 41",
          "Epoch 42",
          "Epoch 43",
          "Epoch 44",
          "Epoch 45",
          "Epoch 46",
          "Epoch 47",
          "Epoch 48",
          "Epoch 49"
         ],
         "xaxis": "x",
         "y": [
          -6.363181438028502,
          -2.5424857089999997,
          -2.542485708999992,
          -2.542485709000424,
          -2.5424857089982424,
          -2.542485708995912,
          -2.542485709018365,
          -2.54248570886557,
          -2.5424857093021274,
          -2.542485710931942,
          -2.5424858294427395,
          -2.5424855947494507,
          -2.542486310005188,
          -2.542490005493164,
          -2.5423431396484375,
          -2.5418701171875,
          -2.541259765625,
          -2.5234375,
          -2.03125,
          -3.125,
          8,
          null,
          null,
          null,
          null,
          null,
          null,
          null,
          null,
          null,
          null,
          null,
          null,
          null,
          null,
          null,
          null,
          null,
          null,
          null,
          null,
          null,
          null,
          null,
          null,
          null,
          null,
          null,
          null,
          null
         ],
         "yaxis": "y"
        },
        {
         "hovertemplate": "variable=MoFo<br>index=%{x}<br>value=%{y}<extra></extra>",
         "legendgroup": "MoFo",
         "line": {
          "color": "#FECB52",
          "dash": "solid"
         },
         "marker": {
          "symbol": "circle"
         },
         "mode": "lines",
         "name": "MoFo",
         "orientation": "v",
         "showlegend": true,
         "type": "scatter",
         "x": [
          "Epoch 0",
          "Epoch 1",
          "Epoch 2",
          "Epoch 3",
          "Epoch 4",
          "Epoch 5",
          "Epoch 6",
          "Epoch 7",
          "Epoch 8",
          "Epoch 9",
          "Epoch 10",
          "Epoch 11",
          "Epoch 12",
          "Epoch 13",
          "Epoch 14",
          "Epoch 15",
          "Epoch 16",
          "Epoch 17",
          "Epoch 18",
          "Epoch 19",
          "Epoch 20",
          "Epoch 21",
          "Epoch 22",
          "Epoch 23",
          "Epoch 24",
          "Epoch 25",
          "Epoch 26",
          "Epoch 27",
          "Epoch 28",
          "Epoch 29",
          "Epoch 30",
          "Epoch 31",
          "Epoch 32",
          "Epoch 33",
          "Epoch 34",
          "Epoch 35",
          "Epoch 36",
          "Epoch 37",
          "Epoch 38",
          "Epoch 39",
          "Epoch 40",
          "Epoch 41",
          "Epoch 42",
          "Epoch 43",
          "Epoch 44",
          "Epoch 45",
          "Epoch 46",
          "Epoch 47",
          "Epoch 48",
          "Epoch 49"
         ],
         "xaxis": "x",
         "y": [
          -14.037303678875485,
          0.6959016100000011,
          0.6959016100000026,
          0.6959016100000048,
          0.6959016099999076,
          0.6959016100011013,
          0.6959016099922337,
          0.6959016100181543,
          0.6959016098990105,
          0.6959016085602343,
          0.6959016090258956,
          0.6959013156592846,
          0.6959035992622375,
          0.695894718170166,
          0.6958646774291992,
          0.6959609985351562,
          0.6998291015625,
          0.6904296875,
          0.71484375,
          -0.125,
          3.25,
          null,
          null,
          null,
          null,
          null,
          null,
          null,
          null,
          null,
          null,
          null,
          null,
          null,
          null,
          null,
          null,
          null,
          null,
          null,
          null,
          null,
          null,
          null,
          null,
          null,
          null,
          null,
          null,
          null
         ],
         "yaxis": "y"
        },
        {
         "hovertemplate": "variable=Mmof<br>index=%{x}<br>value=%{y}<extra></extra>",
         "legendgroup": "Mmof",
         "line": {
          "color": "#636efa",
          "dash": "solid"
         },
         "marker": {
          "symbol": "circle"
         },
         "mode": "lines",
         "name": "Mmof",
         "orientation": "v",
         "showlegend": true,
         "type": "scatter",
         "x": [
          "Epoch 0",
          "Epoch 1",
          "Epoch 2",
          "Epoch 3",
          "Epoch 4",
          "Epoch 5",
          "Epoch 6",
          "Epoch 7",
          "Epoch 8",
          "Epoch 9",
          "Epoch 10",
          "Epoch 11",
          "Epoch 12",
          "Epoch 13",
          "Epoch 14",
          "Epoch 15",
          "Epoch 16",
          "Epoch 17",
          "Epoch 18",
          "Epoch 19",
          "Epoch 20",
          "Epoch 21",
          "Epoch 22",
          "Epoch 23",
          "Epoch 24",
          "Epoch 25",
          "Epoch 26",
          "Epoch 27",
          "Epoch 28",
          "Epoch 29",
          "Epoch 30",
          "Epoch 31",
          "Epoch 32",
          "Epoch 33",
          "Epoch 34",
          "Epoch 35",
          "Epoch 36",
          "Epoch 37",
          "Epoch 38",
          "Epoch 39",
          "Epoch 40",
          "Epoch 41",
          "Epoch 42",
          "Epoch 43",
          "Epoch 44",
          "Epoch 45",
          "Epoch 46",
          "Epoch 47",
          "Epoch 48",
          "Epoch 49"
         ],
         "xaxis": "x",
         "y": [
          -16.481622605581187,
          2.313547589999998,
          2.313547589999991,
          2.3135475899998994,
          2.3135475900003257,
          2.313547590001747,
          2.313547590030794,
          2.3135475897288416,
          2.313547589175869,
          2.313547589117661,
          2.3135476410388947,
          2.313546121120453,
          2.31354558467865,
          2.3135619163513184,
          2.3137130737304688,
          2.31365966796875,
          2.3177490234375,
          2.322265625,
          2.609375,
          2.6875,
          13,
          null,
          null,
          null,
          null,
          null,
          null,
          null,
          null,
          null,
          null,
          null,
          null,
          null,
          null,
          null,
          null,
          null,
          null,
          null,
          null,
          null,
          null,
          null,
          null,
          null,
          null,
          null,
          null,
          null
         ],
         "yaxis": "y"
        },
        {
         "hovertemplate": "variable=MoRi<br>index=%{x}<br>value=%{y}<extra></extra>",
         "legendgroup": "MoRi",
         "line": {
          "color": "#EF553B",
          "dash": "solid"
         },
         "marker": {
          "symbol": "circle"
         },
         "mode": "lines",
         "name": "MoRi",
         "orientation": "v",
         "showlegend": true,
         "type": "scatter",
         "x": [
          "Epoch 0",
          "Epoch 1",
          "Epoch 2",
          "Epoch 3",
          "Epoch 4",
          "Epoch 5",
          "Epoch 6",
          "Epoch 7",
          "Epoch 8",
          "Epoch 9",
          "Epoch 10",
          "Epoch 11",
          "Epoch 12",
          "Epoch 13",
          "Epoch 14",
          "Epoch 15",
          "Epoch 16",
          "Epoch 17",
          "Epoch 18",
          "Epoch 19",
          "Epoch 20",
          "Epoch 21",
          "Epoch 22",
          "Epoch 23",
          "Epoch 24",
          "Epoch 25",
          "Epoch 26",
          "Epoch 27",
          "Epoch 28",
          "Epoch 29",
          "Epoch 30",
          "Epoch 31",
          "Epoch 32",
          "Epoch 33",
          "Epoch 34",
          "Epoch 35",
          "Epoch 36",
          "Epoch 37",
          "Epoch 38",
          "Epoch 39",
          "Epoch 40",
          "Epoch 41",
          "Epoch 42",
          "Epoch 43",
          "Epoch 44",
          "Epoch 45",
          "Epoch 46",
          "Epoch 47",
          "Epoch 48",
          "Epoch 49"
         ],
         "xaxis": "x",
         "y": [
          36.589098718301344,
          3.37810377,
          3.3781037700000347,
          3.37810377000028,
          3.3781037700050547,
          3.378103769990048,
          3.378103769973677,
          3.378103770141024,
          3.378103773808107,
          3.3781037689186633,
          3.3781038969755173,
          3.3781042098999023,
          3.3781046867370605,
          3.378101348876953,
          3.37744140625,
          3.380615234375,
          3.3583984375,
          3.353515625,
          3.25,
          5,
          -6,
          null,
          null,
          null,
          null,
          null,
          null,
          null,
          null,
          null,
          null,
          null,
          null,
          null,
          null,
          null,
          null,
          null,
          null,
          null,
          null,
          null,
          null,
          null,
          null,
          null,
          null,
          null,
          null,
          null
         ],
         "yaxis": "y"
        },
        {
         "hovertemplate": "variable=MeRi<br>index=%{x}<br>value=%{y}<extra></extra>",
         "legendgroup": "MeRi",
         "line": {
          "color": "#00cc96",
          "dash": "solid"
         },
         "marker": {
          "symbol": "circle"
         },
         "mode": "lines",
         "name": "MeRi",
         "orientation": "v",
         "showlegend": true,
         "type": "scatter",
         "x": [
          "Epoch 0",
          "Epoch 1",
          "Epoch 2",
          "Epoch 3",
          "Epoch 4",
          "Epoch 5",
          "Epoch 6",
          "Epoch 7",
          "Epoch 8",
          "Epoch 9",
          "Epoch 10",
          "Epoch 11",
          "Epoch 12",
          "Epoch 13",
          "Epoch 14",
          "Epoch 15",
          "Epoch 16",
          "Epoch 17",
          "Epoch 18",
          "Epoch 19",
          "Epoch 20",
          "Epoch 21",
          "Epoch 22",
          "Epoch 23",
          "Epoch 24",
          "Epoch 25",
          "Epoch 26",
          "Epoch 27",
          "Epoch 28",
          "Epoch 29",
          "Epoch 30",
          "Epoch 31",
          "Epoch 32",
          "Epoch 33",
          "Epoch 34",
          "Epoch 35",
          "Epoch 36",
          "Epoch 37",
          "Epoch 38",
          "Epoch 39",
          "Epoch 40",
          "Epoch 41",
          "Epoch 42",
          "Epoch 43",
          "Epoch 44",
          "Epoch 45",
          "Epoch 46",
          "Epoch 47",
          "Epoch 48",
          "Epoch 49"
         ],
         "xaxis": "x",
         "y": [
          -7.747866573499012,
          -5.567064792380002,
          -5.567064792380005,
          -5.567064792380023,
          -5.567064792379693,
          -5.567064792383007,
          -5.56706479240529,
          -5.567064792514429,
          -5.567064792347082,
          -5.56706479145214,
          -5.56706478074193,
          -5.567064329981804,
          -5.567065715789795,
          -5.567061424255371,
          -5.566932678222656,
          -5.56646728515625,
          -5.57177734375,
          -5.52734375,
          -5.4453125,
          -4.625,
          -2,
          null,
          null,
          null,
          null,
          null,
          null,
          null,
          null,
          null,
          null,
          null,
          null,
          null,
          null,
          null,
          null,
          null,
          null,
          null,
          null,
          null,
          null,
          null,
          null,
          null,
          null,
          null,
          null,
          null
         ],
         "yaxis": "y"
        },
        {
         "hovertemplate": "variable=Ri<br>index=%{x}<br>value=%{y}<extra></extra>",
         "legendgroup": "Ri",
         "line": {
          "color": "#ab63fa",
          "dash": "solid"
         },
         "marker": {
          "symbol": "circle"
         },
         "mode": "lines",
         "name": "Ri",
         "orientation": "v",
         "showlegend": true,
         "type": "scatter",
         "x": [
          "Epoch 0",
          "Epoch 1",
          "Epoch 2",
          "Epoch 3",
          "Epoch 4",
          "Epoch 5",
          "Epoch 6",
          "Epoch 7",
          "Epoch 8",
          "Epoch 9",
          "Epoch 10",
          "Epoch 11",
          "Epoch 12",
          "Epoch 13",
          "Epoch 14",
          "Epoch 15",
          "Epoch 16",
          "Epoch 17",
          "Epoch 18",
          "Epoch 19",
          "Epoch 20",
          "Epoch 21",
          "Epoch 22",
          "Epoch 23",
          "Epoch 24",
          "Epoch 25",
          "Epoch 26",
          "Epoch 27",
          "Epoch 28",
          "Epoch 29",
          "Epoch 30",
          "Epoch 31",
          "Epoch 32",
          "Epoch 33",
          "Epoch 34",
          "Epoch 35",
          "Epoch 36",
          "Epoch 37",
          "Epoch 38",
          "Epoch 39",
          "Epoch 40",
          "Epoch 41",
          "Epoch 42",
          "Epoch 43",
          "Epoch 44",
          "Epoch 45",
          "Epoch 46",
          "Epoch 47",
          "Epoch 48",
          "Epoch 49"
         ],
         "xaxis": "x",
         "y": [
          21.16860837350324,
          -4.059561330000001,
          -4.059561329999996,
          -4.059561329999976,
          -4.059561329999596,
          -4.059561330002339,
          -4.059561330005636,
          -4.05956132989013,
          -4.059561329995631,
          -4.059561325819232,
          -4.059561373665929,
          -4.05956044793129,
          -4.059560328722,
          -4.059561014175415,
          -4.059593200683594,
          -4.0594024658203125,
          -4.0638885498046875,
          -4.0615234375,
          -4.1171875,
          -1.96875,
          0,
          null,
          null,
          null,
          null,
          null,
          null,
          null,
          null,
          null,
          null,
          null,
          null,
          null,
          null,
          null,
          null,
          null,
          null,
          null,
          null,
          null,
          null,
          null,
          null,
          null,
          null,
          null,
          null,
          null
         ],
         "yaxis": "y"
        },
        {
         "hovertemplate": "variable=Comp<br>index=%{x}<br>value=%{y}<extra></extra>",
         "legendgroup": "Comp",
         "line": {
          "color": "#FFA15A",
          "dash": "solid"
         },
         "marker": {
          "symbol": "circle"
         },
         "mode": "lines",
         "name": "Comp",
         "orientation": "v",
         "showlegend": true,
         "type": "scatter",
         "x": [
          "Epoch 0",
          "Epoch 1",
          "Epoch 2",
          "Epoch 3",
          "Epoch 4",
          "Epoch 5",
          "Epoch 6",
          "Epoch 7",
          "Epoch 8",
          "Epoch 9",
          "Epoch 10",
          "Epoch 11",
          "Epoch 12",
          "Epoch 13",
          "Epoch 14",
          "Epoch 15",
          "Epoch 16",
          "Epoch 17",
          "Epoch 18",
          "Epoch 19",
          "Epoch 20",
          "Epoch 21",
          "Epoch 22",
          "Epoch 23",
          "Epoch 24",
          "Epoch 25",
          "Epoch 26",
          "Epoch 27",
          "Epoch 28",
          "Epoch 29",
          "Epoch 30",
          "Epoch 31",
          "Epoch 32",
          "Epoch 33",
          "Epoch 34",
          "Epoch 35",
          "Epoch 36",
          "Epoch 37",
          "Epoch 38",
          "Epoch 39",
          "Epoch 40",
          "Epoch 41",
          "Epoch 42",
          "Epoch 43",
          "Epoch 44",
          "Epoch 45",
          "Epoch 46",
          "Epoch 47",
          "Epoch 48",
          "Epoch 49"
         ],
         "xaxis": "x",
         "y": [
          5.757089195578639,
          5.208465644000001,
          5.208465643999997,
          5.208465643999844,
          5.208465644001649,
          5.208465644002331,
          5.208465643956515,
          5.208465644303942,
          5.208465645555407,
          5.208465642528608,
          5.20846563577652,
          5.2084662318229675,
          5.20846962928772,
          5.208468914031982,
          5.20831298828125,
          5.207275390625,
          5.21533203125,
          5.1875,
          5.1875,
          2.3125,
          -14.5,
          null,
          null,
          null,
          null,
          null,
          null,
          null,
          null,
          null,
          null,
          null,
          null,
          null,
          null,
          null,
          null,
          null,
          null,
          null,
          null,
          null,
          null,
          null,
          null,
          null,
          null,
          null,
          null,
          null
         ],
         "yaxis": "y"
        }
       ],
       "layout": {
        "legend": {
         "title": {
          "text": "variable"
         },
         "tracegroupgap": 0
        },
        "template": {
         "data": {
          "bar": [
           {
            "error_x": {
             "color": "#2a3f5f"
            },
            "error_y": {
             "color": "#2a3f5f"
            },
            "marker": {
             "line": {
              "color": "#E5ECF6",
              "width": 0.5
             },
             "pattern": {
              "fillmode": "overlay",
              "size": 10,
              "solidity": 0.2
             }
            },
            "type": "bar"
           }
          ],
          "barpolar": [
           {
            "marker": {
             "line": {
              "color": "#E5ECF6",
              "width": 0.5
             },
             "pattern": {
              "fillmode": "overlay",
              "size": 10,
              "solidity": 0.2
             }
            },
            "type": "barpolar"
           }
          ],
          "carpet": [
           {
            "aaxis": {
             "endlinecolor": "#2a3f5f",
             "gridcolor": "white",
             "linecolor": "white",
             "minorgridcolor": "white",
             "startlinecolor": "#2a3f5f"
            },
            "baxis": {
             "endlinecolor": "#2a3f5f",
             "gridcolor": "white",
             "linecolor": "white",
             "minorgridcolor": "white",
             "startlinecolor": "#2a3f5f"
            },
            "type": "carpet"
           }
          ],
          "choropleth": [
           {
            "colorbar": {
             "outlinewidth": 0,
             "ticks": ""
            },
            "type": "choropleth"
           }
          ],
          "contour": [
           {
            "colorbar": {
             "outlinewidth": 0,
             "ticks": ""
            },
            "colorscale": [
             [
              0,
              "#0d0887"
             ],
             [
              0.1111111111111111,
              "#46039f"
             ],
             [
              0.2222222222222222,
              "#7201a8"
             ],
             [
              0.3333333333333333,
              "#9c179e"
             ],
             [
              0.4444444444444444,
              "#bd3786"
             ],
             [
              0.5555555555555556,
              "#d8576b"
             ],
             [
              0.6666666666666666,
              "#ed7953"
             ],
             [
              0.7777777777777778,
              "#fb9f3a"
             ],
             [
              0.8888888888888888,
              "#fdca26"
             ],
             [
              1,
              "#f0f921"
             ]
            ],
            "type": "contour"
           }
          ],
          "contourcarpet": [
           {
            "colorbar": {
             "outlinewidth": 0,
             "ticks": ""
            },
            "type": "contourcarpet"
           }
          ],
          "heatmap": [
           {
            "colorbar": {
             "outlinewidth": 0,
             "ticks": ""
            },
            "colorscale": [
             [
              0,
              "#0d0887"
             ],
             [
              0.1111111111111111,
              "#46039f"
             ],
             [
              0.2222222222222222,
              "#7201a8"
             ],
             [
              0.3333333333333333,
              "#9c179e"
             ],
             [
              0.4444444444444444,
              "#bd3786"
             ],
             [
              0.5555555555555556,
              "#d8576b"
             ],
             [
              0.6666666666666666,
              "#ed7953"
             ],
             [
              0.7777777777777778,
              "#fb9f3a"
             ],
             [
              0.8888888888888888,
              "#fdca26"
             ],
             [
              1,
              "#f0f921"
             ]
            ],
            "type": "heatmap"
           }
          ],
          "heatmapgl": [
           {
            "colorbar": {
             "outlinewidth": 0,
             "ticks": ""
            },
            "colorscale": [
             [
              0,
              "#0d0887"
             ],
             [
              0.1111111111111111,
              "#46039f"
             ],
             [
              0.2222222222222222,
              "#7201a8"
             ],
             [
              0.3333333333333333,
              "#9c179e"
             ],
             [
              0.4444444444444444,
              "#bd3786"
             ],
             [
              0.5555555555555556,
              "#d8576b"
             ],
             [
              0.6666666666666666,
              "#ed7953"
             ],
             [
              0.7777777777777778,
              "#fb9f3a"
             ],
             [
              0.8888888888888888,
              "#fdca26"
             ],
             [
              1,
              "#f0f921"
             ]
            ],
            "type": "heatmapgl"
           }
          ],
          "histogram": [
           {
            "marker": {
             "pattern": {
              "fillmode": "overlay",
              "size": 10,
              "solidity": 0.2
             }
            },
            "type": "histogram"
           }
          ],
          "histogram2d": [
           {
            "colorbar": {
             "outlinewidth": 0,
             "ticks": ""
            },
            "colorscale": [
             [
              0,
              "#0d0887"
             ],
             [
              0.1111111111111111,
              "#46039f"
             ],
             [
              0.2222222222222222,
              "#7201a8"
             ],
             [
              0.3333333333333333,
              "#9c179e"
             ],
             [
              0.4444444444444444,
              "#bd3786"
             ],
             [
              0.5555555555555556,
              "#d8576b"
             ],
             [
              0.6666666666666666,
              "#ed7953"
             ],
             [
              0.7777777777777778,
              "#fb9f3a"
             ],
             [
              0.8888888888888888,
              "#fdca26"
             ],
             [
              1,
              "#f0f921"
             ]
            ],
            "type": "histogram2d"
           }
          ],
          "histogram2dcontour": [
           {
            "colorbar": {
             "outlinewidth": 0,
             "ticks": ""
            },
            "colorscale": [
             [
              0,
              "#0d0887"
             ],
             [
              0.1111111111111111,
              "#46039f"
             ],
             [
              0.2222222222222222,
              "#7201a8"
             ],
             [
              0.3333333333333333,
              "#9c179e"
             ],
             [
              0.4444444444444444,
              "#bd3786"
             ],
             [
              0.5555555555555556,
              "#d8576b"
             ],
             [
              0.6666666666666666,
              "#ed7953"
             ],
             [
              0.7777777777777778,
              "#fb9f3a"
             ],
             [
              0.8888888888888888,
              "#fdca26"
             ],
             [
              1,
              "#f0f921"
             ]
            ],
            "type": "histogram2dcontour"
           }
          ],
          "mesh3d": [
           {
            "colorbar": {
             "outlinewidth": 0,
             "ticks": ""
            },
            "type": "mesh3d"
           }
          ],
          "parcoords": [
           {
            "line": {
             "colorbar": {
              "outlinewidth": 0,
              "ticks": ""
             }
            },
            "type": "parcoords"
           }
          ],
          "pie": [
           {
            "automargin": true,
            "type": "pie"
           }
          ],
          "scatter": [
           {
            "fillpattern": {
             "fillmode": "overlay",
             "size": 10,
             "solidity": 0.2
            },
            "type": "scatter"
           }
          ],
          "scatter3d": [
           {
            "line": {
             "colorbar": {
              "outlinewidth": 0,
              "ticks": ""
             }
            },
            "marker": {
             "colorbar": {
              "outlinewidth": 0,
              "ticks": ""
             }
            },
            "type": "scatter3d"
           }
          ],
          "scattercarpet": [
           {
            "marker": {
             "colorbar": {
              "outlinewidth": 0,
              "ticks": ""
             }
            },
            "type": "scattercarpet"
           }
          ],
          "scattergeo": [
           {
            "marker": {
             "colorbar": {
              "outlinewidth": 0,
              "ticks": ""
             }
            },
            "type": "scattergeo"
           }
          ],
          "scattergl": [
           {
            "marker": {
             "colorbar": {
              "outlinewidth": 0,
              "ticks": ""
             }
            },
            "type": "scattergl"
           }
          ],
          "scattermapbox": [
           {
            "marker": {
             "colorbar": {
              "outlinewidth": 0,
              "ticks": ""
             }
            },
            "type": "scattermapbox"
           }
          ],
          "scatterpolar": [
           {
            "marker": {
             "colorbar": {
              "outlinewidth": 0,
              "ticks": ""
             }
            },
            "type": "scatterpolar"
           }
          ],
          "scatterpolargl": [
           {
            "marker": {
             "colorbar": {
              "outlinewidth": 0,
              "ticks": ""
             }
            },
            "type": "scatterpolargl"
           }
          ],
          "scatterternary": [
           {
            "marker": {
             "colorbar": {
              "outlinewidth": 0,
              "ticks": ""
             }
            },
            "type": "scatterternary"
           }
          ],
          "surface": [
           {
            "colorbar": {
             "outlinewidth": 0,
             "ticks": ""
            },
            "colorscale": [
             [
              0,
              "#0d0887"
             ],
             [
              0.1111111111111111,
              "#46039f"
             ],
             [
              0.2222222222222222,
              "#7201a8"
             ],
             [
              0.3333333333333333,
              "#9c179e"
             ],
             [
              0.4444444444444444,
              "#bd3786"
             ],
             [
              0.5555555555555556,
              "#d8576b"
             ],
             [
              0.6666666666666666,
              "#ed7953"
             ],
             [
              0.7777777777777778,
              "#fb9f3a"
             ],
             [
              0.8888888888888888,
              "#fdca26"
             ],
             [
              1,
              "#f0f921"
             ]
            ],
            "type": "surface"
           }
          ],
          "table": [
           {
            "cells": {
             "fill": {
              "color": "#EBF0F8"
             },
             "line": {
              "color": "white"
             }
            },
            "header": {
             "fill": {
              "color": "#C8D4E3"
             },
             "line": {
              "color": "white"
             }
            },
            "type": "table"
           }
          ]
         },
         "layout": {
          "annotationdefaults": {
           "arrowcolor": "#2a3f5f",
           "arrowhead": 0,
           "arrowwidth": 1
          },
          "autotypenumbers": "strict",
          "coloraxis": {
           "colorbar": {
            "outlinewidth": 0,
            "ticks": ""
           }
          },
          "colorscale": {
           "diverging": [
            [
             0,
             "#8e0152"
            ],
            [
             0.1,
             "#c51b7d"
            ],
            [
             0.2,
             "#de77ae"
            ],
            [
             0.3,
             "#f1b6da"
            ],
            [
             0.4,
             "#fde0ef"
            ],
            [
             0.5,
             "#f7f7f7"
            ],
            [
             0.6,
             "#e6f5d0"
            ],
            [
             0.7,
             "#b8e186"
            ],
            [
             0.8,
             "#7fbc41"
            ],
            [
             0.9,
             "#4d9221"
            ],
            [
             1,
             "#276419"
            ]
           ],
           "sequential": [
            [
             0,
             "#0d0887"
            ],
            [
             0.1111111111111111,
             "#46039f"
            ],
            [
             0.2222222222222222,
             "#7201a8"
            ],
            [
             0.3333333333333333,
             "#9c179e"
            ],
            [
             0.4444444444444444,
             "#bd3786"
            ],
            [
             0.5555555555555556,
             "#d8576b"
            ],
            [
             0.6666666666666666,
             "#ed7953"
            ],
            [
             0.7777777777777778,
             "#fb9f3a"
            ],
            [
             0.8888888888888888,
             "#fdca26"
            ],
            [
             1,
             "#f0f921"
            ]
           ],
           "sequentialminus": [
            [
             0,
             "#0d0887"
            ],
            [
             0.1111111111111111,
             "#46039f"
            ],
            [
             0.2222222222222222,
             "#7201a8"
            ],
            [
             0.3333333333333333,
             "#9c179e"
            ],
            [
             0.4444444444444444,
             "#bd3786"
            ],
            [
             0.5555555555555556,
             "#d8576b"
            ],
            [
             0.6666666666666666,
             "#ed7953"
            ],
            [
             0.7777777777777778,
             "#fb9f3a"
            ],
            [
             0.8888888888888888,
             "#fdca26"
            ],
            [
             1,
             "#f0f921"
            ]
           ]
          },
          "colorway": [
           "#636efa",
           "#EF553B",
           "#00cc96",
           "#ab63fa",
           "#FFA15A",
           "#19d3f3",
           "#FF6692",
           "#B6E880",
           "#FF97FF",
           "#FECB52"
          ],
          "font": {
           "color": "#2a3f5f"
          },
          "geo": {
           "bgcolor": "white",
           "lakecolor": "white",
           "landcolor": "#E5ECF6",
           "showlakes": true,
           "showland": true,
           "subunitcolor": "white"
          },
          "hoverlabel": {
           "align": "left"
          },
          "hovermode": "closest",
          "mapbox": {
           "style": "light"
          },
          "paper_bgcolor": "white",
          "plot_bgcolor": "#E5ECF6",
          "polar": {
           "angularaxis": {
            "gridcolor": "white",
            "linecolor": "white",
            "ticks": ""
           },
           "bgcolor": "#E5ECF6",
           "radialaxis": {
            "gridcolor": "white",
            "linecolor": "white",
            "ticks": ""
           }
          },
          "scene": {
           "xaxis": {
            "backgroundcolor": "#E5ECF6",
            "gridcolor": "white",
            "gridwidth": 2,
            "linecolor": "white",
            "showbackground": true,
            "ticks": "",
            "zerolinecolor": "white"
           },
           "yaxis": {
            "backgroundcolor": "#E5ECF6",
            "gridcolor": "white",
            "gridwidth": 2,
            "linecolor": "white",
            "showbackground": true,
            "ticks": "",
            "zerolinecolor": "white"
           },
           "zaxis": {
            "backgroundcolor": "#E5ECF6",
            "gridcolor": "white",
            "gridwidth": 2,
            "linecolor": "white",
            "showbackground": true,
            "ticks": "",
            "zerolinecolor": "white"
           }
          },
          "shapedefaults": {
           "line": {
            "color": "#2a3f5f"
           }
          },
          "ternary": {
           "aaxis": {
            "gridcolor": "white",
            "linecolor": "white",
            "ticks": ""
           },
           "baxis": {
            "gridcolor": "white",
            "linecolor": "white",
            "ticks": ""
           },
           "bgcolor": "#E5ECF6",
           "caxis": {
            "gridcolor": "white",
            "linecolor": "white",
            "ticks": ""
           }
          },
          "title": {
           "x": 0.05
          },
          "xaxis": {
           "automargin": true,
           "gridcolor": "white",
           "linecolor": "white",
           "ticks": "",
           "title": {
            "standoff": 15
           },
           "zerolinecolor": "white",
           "zerolinewidth": 2
          },
          "yaxis": {
           "automargin": true,
           "gridcolor": "white",
           "linecolor": "white",
           "ticks": "",
           "title": {
            "standoff": 15
           },
           "zerolinecolor": "white",
           "zerolinewidth": 2
          }
         }
        },
        "title": {
         "text": "Free evolution of the weights for subject soggetto_8"
        },
        "xaxis": {
         "anchor": "y",
         "domain": [
          0,
          1
         ],
         "title": {
          "text": "index"
         }
        },
        "yaxis": {
         "anchor": "x",
         "domain": [
          0,
          1
         ],
         "title": {
          "text": "value"
         }
        }
       }
      }
     },
     "metadata": {},
     "output_type": "display_data"
    }
   ],
   "source": [
    "# for every subject, plot the free evolution of the weights using plotly express\n",
    "for subject in subjects:\n",
    "    fig = px.line(df_free_evolution_dict[subject].iloc[:100], title=\"Free evolution of the weights for subject {}\".format(subject))\n",
    "    fig.show()"
   ]
  },
  {
   "cell_type": "code",
   "execution_count": 187,
   "metadata": {},
   "outputs": [],
   "source": [
    "# display values of the last row for every subject\n",
    "for subject in subjects:\n",
    "    df_free_evolution_dict[subject]"
   ]
  },
  {
   "cell_type": "code",
   "execution_count": 188,
   "metadata": {},
   "outputs": [
    {
     "name": "stdout",
     "output_type": "stream",
     "text": [
      "Subject: soggetto_1\n",
      "nan\n",
      "Subject: soggetto_2\n",
      "nan\n",
      "Subject: soggetto_3\n",
      "nan\n",
      "Subject: soggetto_6\n",
      "623.6064406622024\n",
      "Subject: soggetto_7\n",
      "nan\n",
      "Subject: soggetto_8\n",
      "nan\n"
     ]
    }
   ],
   "source": [
    "# display values of the last row for every subject\n",
    "for subject in subjects:\n",
    "    print(\"Subject: {}\".format(subject))\n",
    "    print(df_free_evolution_dict[subject].iloc[-1].var())"
   ]
  }
 ],
 "metadata": {
  "kernelspec": {
   "display_name": "env",
   "language": "python",
   "name": "python3"
  },
  "language_info": {
   "codemirror_mode": {
    "name": "ipython",
    "version": 3
   },
   "file_extension": ".py",
   "mimetype": "text/x-python",
   "name": "python",
   "nbconvert_exporter": "python",
   "pygments_lexer": "ipython3",
   "version": "3.10.6"
  },
  "orig_nbformat": 4,
  "vscode": {
   "interpreter": {
    "hash": "8cf3148ee2412bf818af45c9d8f3260092e813536e8161d4ddb61a7fba27a160"
   }
  }
 },
 "nbformat": 4,
 "nbformat_minor": 2
}
